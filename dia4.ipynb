{
    "cells": [
        {
            "cell_type": "markdown",
            "source": [
                "# Pandas e Plotly\n",
                "\n",
                "Exemplos de análise de dados dos CSV gerados pelo programa `Heurística_HDB`.\n",
                "\n",
                "Utilizaremos os recursos avançados de análise de dataframes com pandas e em seguida vamos utilizar a biblioteca Plotly para gerar gráficos interativos.\n",
                "\n",
                "---\n"
            ],
            "metadata": {}
        },
        {
            "cell_type": "markdown",
            "source": [
                "## Importando as bibliotecas e módulos"
            ],
            "metadata": {}
        },
        {
            "cell_type": "code",
            "execution_count": null,
            "source": [
                "# import pandas and plotly modules\n",
                "import pandas as pd\n",
                "import plotly.express as px\n",
                "# import module for dealing with your OS\n",
                "import os"
            ],
            "outputs": [],
            "metadata": {}
        },
        {
            "cell_type": "markdown",
            "source": [
                "## Inserindo caminho para o CSV e termo para salvar o arquivo"
            ],
            "metadata": {}
        },
        {
            "cell_type": "code",
            "execution_count": null,
            "source": [
                "# input CSV path\n",
                "csv_path = input(\"Enter CSV path: \")\n",
                "# input name of output file\n",
                "output_file = input(\"Enter output file name: \")\n",
                "# upper case the output file name\n",
                "output_file = output_file.upper()"
            ],
            "outputs": [],
            "metadata": {}
        },
        {
            "cell_type": "markdown",
            "source": [
                "## Criando o dataframe\n",
                "\n",
                "A partir do caminho do CSV, vamos utilizar o método `pd.read_csv()` para gerar o dataframe."
            ],
            "metadata": {}
        },
        {
            "cell_type": "code",
            "execution_count": null,
            "source": [
                "# Create dataframe using pandas `pd.read_csv(<path to csv>)`\n",
                "df = pd.read_csv(f'{csv_path}')\n",
                "# we can use `.head()` to get the first 5 rows\n",
                "print(df.head())"
            ],
            "outputs": [],
            "metadata": {}
        },
        {
            "cell_type": "markdown",
            "source": [
                "## Analisando cada coluna\n",
                "\n",
                "É importante conhecer o dataframe. Pra isso vamos olhar com atenção os títulos e tipos de cada coluna utilizando `.columns` e `.dtypes`"
            ],
            "metadata": {}
        },
        {
            "cell_type": "code",
            "execution_count": null,
            "source": [
                "# we can use the `.columns` property to get the column names\n",
                "# and analyze the dataframe\n",
                "print(df.columns)\n",
                "# we can use `dtypes` property to get the data types of each column\n",
                "print(df.dtypes)"
            ],
            "outputs": [],
            "metadata": {}
        },
        {
            "cell_type": "markdown",
            "source": [
                "## Remover uma coluna\n",
                "\n",
                "Para remover uma coluna do dataframe usamos `.drop()`. "
            ],
            "metadata": {}
        },
        {
            "cell_type": "code",
            "execution_count": null,
            "source": [
                "# use drop to remove the `Unnamed: 0` column\n",
                "# axis = 0 means rows, axis = 1 means columns\n",
                "# inplace = True means it will make the changes in place\n",
                "df.drop('Unnamed: 0', axis=1, inplace=True)\n",
                "print(df.columns)"
            ],
            "outputs": [],
            "metadata": {}
        },
        {
            "cell_type": "markdown",
            "source": [
                "## Alterar valores de uma coluna\n",
                "\n",
                "É possível alterar strings numa determinada coluna utilizando _regular expressions_.\n",
                "\n",
                "Vamos remover as datas que seguem todos os _acervos_ no padrão `- 1999 a 2000` e `- 1999`."
            ],
            "metadata": {}
        },
        {
            "cell_type": "code",
            "execution_count": null,
            "source": [
                "# use regex to find the pattern of date and remove it\n",
                "df['Acervo'] = df['Acervo'].str.replace('- \\d{4} a \\d{4}', '', regex=True)\n",
                "df['Acervo'] = df['Acervo'].str.replace('- \\d{4}', '', regex=True)\n",
                "\n",
                "# print head\n",
                "print(df.head())"
            ],
            "outputs": [],
            "metadata": {}
        },
        {
            "cell_type": "markdown",
            "source": [
                "## Filtrar e analisar por colunas específicas\n",
                "\n",
                "É possível agrupar os valores de uma determinada coluna através do `groupby()`.\n",
                "\n",
                "O Pandas permite agrupar por mais de uma coluna ao mesmo tempo.\n",
                "\n",
                "Nos exemplos, vamos filtrar pelas colunas 'Ano' e 'Acervo'."
            ],
            "metadata": {}
        },
        {
            "cell_type": "code",
            "execution_count": null,
            "source": [
                "# group by column 'Acervo'\n",
                "df_acervos = df.groupby('Acervo')\n",
                "# use `.size()` to get the number of rows in each group\n",
                "print(df_acervos.size())"
            ],
            "outputs": [],
            "metadata": {}
        },
        {
            "cell_type": "markdown",
            "source": [
                ">OBS: Importante reparar que nesse caso criamos um novo dataframe com os dados agrupados pela coluna 'Acervo'."
            ],
            "metadata": {}
        },
        {
            "cell_type": "code",
            "execution_count": null,
            "source": [
                "# use sort_values to sort the dataframe\n",
                "df_acervos = df_acervos.size().sort_values(ascending=False)\n",
                "print(df_acervos.head())"
            ],
            "outputs": [],
            "metadata": {}
        },
        {
            "cell_type": "markdown",
            "source": [
                "### Colocar o index como uma nova coluna e inserir um index novo"
            ],
            "metadata": {}
        },
        {
            "cell_type": "code",
            "execution_count": null,
            "source": [
                "# use reset_index to reset the index\n",
                "df_acervos = df_acervos.reset_index()\n",
                "print(df_acervos.head())"
            ],
            "outputs": [],
            "metadata": {}
        },
        {
            "cell_type": "markdown",
            "source": [
                "### Alterar o nome da coluna de contagem total"
            ],
            "metadata": {}
        },
        {
            "cell_type": "code",
            "execution_count": null,
            "source": [
                "# use `.rename()` to rename the column and inplace = True\n",
                "df_acervos.rename(columns={0: 'Total de Ocorrências'}, inplace=True)\n",
                "print(df_acervos.head())"
            ],
            "outputs": [],
            "metadata": {}
        },
        {
            "cell_type": "markdown",
            "source": [
                "#### df_acervos\n",
                "\n",
                "Esse dataframe contém o a quatidade total de ocorrências por jornal em ordem decrescente.\n",
                "\n",
                "Ficaria bom num gráfico de barras, né? Veremos mais abaixo."
            ],
            "metadata": {}
        },
        {
            "cell_type": "markdown",
            "source": [
                "### Filtrar usando duas colunas"
            ],
            "metadata": {}
        },
        {
            "cell_type": "code",
            "execution_count": null,
            "source": [
                "# filter by 'Ano' and 'Acervo'\n",
                "# groupby is a function that groups data by a column and returns a dataframe\n",
                "# size is the number of rows\n",
                "df_ano_acervo = df.filter(items=['Ano', 'Acervo'])\\\n",
                "    .groupby(['Ano', 'Acervo'])\\\n",
                "    .size()\n",
                "print(df_ano_acervo.head())"
            ],
            "outputs": [],
            "metadata": {}
        },
        {
            "cell_type": "code",
            "execution_count": null,
            "source": [
                "# use reset_index() to reset the index \n",
                "df_ano_acervo = df_ano_acervo.reset_index()\n",
                "# sort the dataframe by 'Ano'\n",
                "df_ano_acervo = df_ano_acervo.sort_values(by=['Ano'])\n",
                "# rename column '0' to 'quant_oco_ano'\n",
                "df_ano_acervo.rename(columns={0: 'quant_oco_ano'}, inplace=True)\n",
                "print(df_ano_acervo.head())\n",
                "print(df_ano_acervo.columns)"
            ],
            "outputs": [],
            "metadata": {}
        },
        {
            "cell_type": "markdown",
            "source": [
                "#### df_ano_acervo\n",
                "\n",
                "Esse dataframe contém a quatidade total de ocorrências por jornal em cada ano, ordenados por ano (crescente).\n",
                "\n",
                "---"
            ],
            "metadata": {}
        },
        {
            "cell_type": "markdown",
            "source": [
                "## Plotly\n",
                "\n",
                "Vamos utilizar os dataframes criar gráficos interativos com [plotly](https://plotly.com/)"
            ],
            "metadata": {}
        },
        {
            "cell_type": "markdown",
            "source": [
                "### df_acervos\n",
                "\n",
                "Gráfico de barras com `df_acervos`."
            ],
            "metadata": {}
        },
        {
            "cell_type": "code",
            "execution_count": null,
            "source": [
                "# create a bar chart with the df_acervos dataframe\n",
                "fig = px.bar(df_acervos, x='Acervo', y='Total de Ocorrências', color= 'Acervo', height=800, width=1000,\n",
                "                 hover_data=[df_acervos['Acervo'], df_acervos['Total de Ocorrências']],\n",
                "                 title=f'{output_file} - Jornal X Total de ocorrências',\n",
                "                 )\n",
                "\n",
                "fig.update_layout(\n",
                "    autosize=True,\n",
                "    hovermode=\"closest\",\n",
                "    legend=dict(orientation=\"v\"),\n",
                "    showlegend=False,\n",
                "    xaxis=dict(title=\"Acervos\"),\n",
                "    yaxis=dict(title=\"Total de Ocorrências\"),\n",
                "    title_font_size=16,\n",
                "    title_pad=dict(l=50, r=0, t=0, b=0),\n",
                ")\n",
                "# update xaxes\n",
                "fig.update_xaxes(\n",
                "        tickangle = 60,\n",
                "        title_standoff = 25,\n",
                "        nticks=20, tickfont_size=10,\n",
                "        ticks=\"outside\", tickwidth=1,\n",
                "        ticklen=5,\n",
                "        )\n",
                "fig.update_yaxes(\n",
                "        tickfont_size=10,\n",
                "        ticks=\"outside\", tickwidth=1,\n",
                "        ticklen=5,\n",
                "        )\n",
                "\n",
                "fig.show()\n",
                "# create a dir called 'figures'\n",
                "# if it doesn't exist, create it\n",
                "if not os.path.exists('./figures'):\n",
                "    os.makedirs('./figures')\n",
                "fig_path = os.path.join('./figures', f'hdb_{output_file}_acervos_oco_bar.html')\n",
                "#save the figure as a html file\n",
                "fig.write_html(fig_path)\n"
            ],
            "outputs": [],
            "metadata": {}
        },
        {
            "cell_type": "code",
            "execution_count": null,
            "source": [
                "# scatter plot with plotly express using the count of the number of times the 'Acervo' was repeated\n",
                "fig = px.scatter(df_ano_acervo, x= 'Acervo' , y='Ano', color='Ano', height=1000, width=1200,\n",
                "                 hover_data=[df_ano_acervo['Ano'], df_ano_acervo['Acervo'], df_ano_acervo['quant_oco_ano']],\n",
                "                 title=f\"{output_file} - Ano X Acervo\",\n",
                "                 size='quant_oco_ano',\n",
                "                 )\n",
                "# config the layout\n",
                "fig.update_layout(\n",
                "    hovermode=\"closest\",\n",
                "    legend=dict(orientation=\"h\", xanchor=\"center\", yanchor=\"top\"),\n",
                "    showlegend=True,\n",
                "    xaxis=dict(title=\"Jornais\"),\n",
                "    yaxis=dict(title=\"Anos em que há ao menos uma ocorrência\"),\n",
                "    title_font_size=20,\n",
                "    title_pad=dict(l=300, r=0, t=0, b=0)\n",
                ")\n",
                "# update xaxes\n",
                "fig.update_xaxes(\n",
                "        tickangle = 60,\n",
                "        title_standoff = 25,\n",
                "        ticks=\"outside\", tickwidth=1,\n",
                "        ticklen=5,\n",
                "        )\n",
                "fig.update_yaxes(\n",
                "        nticks=20, tickfont_size=10,\n",
                "        ticks=\"outside\", tickwidth=1,\n",
                "        ticklen=5,\n",
                "        )\n",
                "\n",
                "fig.show()\n",
                "# create a dir called 'figures'\n",
                "# if it doesn't exist, create it\n",
                "if not os.path.exists('./figures'):\n",
                "    os.makedirs('./figures')\n",
                "fig_path = os.path.join('./figures', f'hdb_{output_file}_acervo.html')\n",
                "#save the figure as a html file\n",
                "fig.write_html(fig_path)"
            ],
            "outputs": [],
            "metadata": {}
        },
        {
            "cell_type": "code",
            "execution_count": null,
            "source": [
                "# scatter plot with plotly express using the count of the number of times the 'Acervo' was repeated\n",
                "fig = px.scatter(df_ano_acervo, x= 'Ano' , y='Acervo', color='Acervo', height=1000, width=1200,\n",
                "                 hover_data=[df_ano_acervo['Ano'], df_ano_acervo['Acervo'], df_ano_acervo['quant_oco_ano']],\n",
                "                 title=f\"{output_file} - Ano X Acervo\",\n",
                "                 size='quant_oco_ano',\n",
                "                 )\n",
                "# config the layout\n",
                "fig.update_layout(\n",
                "    autosize=True,\n",
                "    hovermode=\"closest\",\n",
                "    legend=dict(orientation=\"v\"),\n",
                "    showlegend=False,\n",
                "    xaxis=dict(title=\"Anos em que há ao menos uma ocorrência\"),\n",
                "    yaxis=dict(title=\"Jornais\"),\n",
                "    title_font_size=20,\n",
                "    title_pad=dict(l=600, r=0, t=0, b=0),\n",
                ")\n",
                "# update xaxes\n",
                "fig.update_xaxes(\n",
                "        tickangle = 60,\n",
                "        title_standoff = 25,\n",
                "        nticks=20, tickfont_size=10,\n",
                "        ticks=\"outside\", tickwidth=1,\n",
                "        ticklen=5,\n",
                "        )\n",
                "fig.update_yaxes(\n",
                "        tickfont_size=10,\n",
                "        ticks=\"outside\", tickwidth=1,\n",
                "        ticklen=5,\n",
                "        )\n",
                "\n",
                "fig.show()\n",
                "# create a dir called 'figures'\n",
                "# if it doesn't exist, create it\n",
                "if not os.path.exists('./figures'):\n",
                "    os.makedirs('./figures')\n",
                "fig_path = os.path.join('./figures', f'hdb_{output_file}_anos.html')\n",
                "#save the figure as a html file\n",
                "fig.write_html(fig_path)"
            ],
            "outputs": [],
            "metadata": {}
        },
        {
            "cell_type": "markdown",
            "source": [
                "### Quantidade ocorrências de cada jornal por ano"
            ],
            "metadata": {}
        },
        {
            "cell_type": "code",
            "execution_count": null,
            "source": [
                "# dataframe with the number of times the 'Acervo' was repeated in each year\n",
                "df3  = df.filter(items=['Ano', 'Acervo'])\\\n",
                "    .groupby(['Acervo', 'Ano'])\\\n",
                "    .size()\n",
                "# use reset_index() to change the index to the new column\n",
                "df3 = df3.reset_index()\n",
                "# rename column '0' to 'quant_oco_ano'\n",
                "df3.rename(columns={0: 'quant_oco_ano'}, inplace=True)\n",
                "print(df3.head())"
            ],
            "outputs": [],
            "metadata": {}
        },
        {
            "cell_type": "code",
            "execution_count": null,
            "source": [
                "# filter by 'Ano' between 1901 and 1940 usinf .query()\n",
                "df4 = df3.query('Ano >=1901 and Ano <=1940')\n",
                "print(df4.head())\n"
            ],
            "outputs": [],
            "metadata": {}
        },
        {
            "cell_type": "markdown",
            "source": [
                "### Gráfico de linha\n",
                "\n",
                "Vamos utilizar o `df4` ( coluna 'Ano' filtrada entre 1901 e 1940) para testar um gráfico de linha com plotly"
            ],
            "metadata": {}
        },
        {
            "cell_type": "code",
            "execution_count": null,
            "source": [
                "#line plot with plotly express using the count of the number of times the 'Acervo' was repeated between 1901 and 1940\n",
                "fig = px.line(df4, x='Ano', y='quant_oco_ano', color='Acervo', height=1000, width=1200,\n",
                "                 hover_data=[df4['Ano'], df4['Acervo'], df4['quant_oco_ano']],\n",
                "                 title=f'{output_file} - Ano X Acervo',\n",
                "                 markers=True,\n",
                "                 )\n",
                "fig.show()\n",
                "# create a dir called 'figures'\n",
                "# if it doesn't exist, create it\n",
                "if not os.path.exists('./figures'):\n",
                "    os.makedirs('./figures')\n",
                "fig_path = os.path.join('./figures', f'hdb_{output_file}_acervo_filtered_line.html')\n",
                "#save the figure as a html file\n",
                "fig.write_html(fig_path)"
            ],
            "outputs": [],
            "metadata": {}
        },
        {
            "cell_type": "markdown",
            "source": [
                "### Analisando ocorrências por década\n",
                "\n",
                "Usar `groupby` e `sum()` para chegar ao total de ocorrências por ano"
            ],
            "metadata": {}
        },
        {
            "cell_type": "code",
            "execution_count": null,
            "source": [
                "#sum values of 'quant_oco_ano' in each decade and use reset_index() to change the index to the new column\n",
                "df5 = df3.groupby(['Ano'])['quant_oco_ano'].sum().reset_index()\n",
                "print(df5.head())"
            ],
            "outputs": [],
            "metadata": {}
        },
        {
            "cell_type": "code",
            "execution_count": null,
            "source": [
                "# get 'quant_oco_ano' column from df5 and put it in a list using .tolist()\n",
                "lista_valores = df5['quant_oco_ano'].tolist()\n",
                "print(f'Total de anos com ocorrências: {len(lista_valores)}')\n",
                "# get the total sum of ints in lista_valores\n",
                "soma = sum(lista_valores)\n",
                "print(f'Total de ocorrências: {soma}')"
            ],
            "outputs": [],
            "metadata": {}
        },
        {
            "cell_type": "code",
            "execution_count": null,
            "source": [
                "# function to get the sum of 'quant_oco_ano' in each decade\n",
                "def get_sum_decade(df, ano_inicial, ano_final):\n",
                "    return df.query(f'Ano >= {ano_inicial} and Ano <= {ano_final}')['quant_oco_ano'].sum()"
            ],
            "outputs": [],
            "metadata": {}
        },
        {
            "cell_type": "code",
            "execution_count": null,
            "source": [
                "# Creates a dictionary with beggining and end of each decade\n",
                "# decades_dic = {'decade_beggining': 'decade_end'}\n",
                "decades_dic = {1850: 1859, 1860:1869, 1870:1879, 1880:1889, 1890:1899, 1900:1909, 1910:1919, 1920:1929, 1930:1939, 1940:1949, 1950:1959, 1960:1969, 1970:1979, 1980:1989, 1990:1999, 2000:2009}\n",
                "# iterate over decades_dic passing in the key and value to function get_sum_decade\n",
                "decades = {key: get_sum_decade(df3, key, value) for key, value in decades_dic.items()}\n",
                "print(f'Total de ocorrências por década: {decades}')\n",
                "# create a dataframe from decades dict\n",
                "df6 = pd.DataFrame.from_dict(decades, orient='index')\n",
                "df6.reset_index(inplace=True)\n",
                "df6.columns = ['Década', 'quant_oco_ano']\n",
                "print(df6.head())"
            ],
            "outputs": [],
            "metadata": {}
        },
        {
            "cell_type": "markdown",
            "source": [
                "### Gráfico de barras\n",
                "\n",
                "A partir do `df6` (contagens de ocorrências por década), vamos criar um gráfico de barras com plotly."
            ],
            "metadata": {}
        },
        {
            "cell_type": "code",
            "execution_count": null,
            "source": [
                "# create a bar chart with the df6 dataframe\n",
                "fig = px.bar(df6, x='Década', y='quant_oco_ano', color= 'Década', height=500, width=500,\n",
                "                 hover_data=[df6['Década'], df6['quant_oco_ano']],\n",
                "                 title=f'{output_file} - Década X Quantidade de ocorrências',\n",
                "                 )\n",
                "\n",
                "fig.update_layout(\n",
                "    autosize=True,\n",
                "    hovermode=\"closest\",\n",
                "    legend=dict(orientation=\"v\"),\n",
                "    showlegend=False,\n",
                "    xaxis=dict(title=\"Quantidade de ocorrências\"),\n",
                "    yaxis=dict(title=\"Décadas\"),\n",
                "    title_font_size=16,\n",
                "    title_pad=dict(l=50, r=0, t=0, b=0),\n",
                ")\n",
                "# update xaxes\n",
                "fig.update_xaxes(\n",
                "        tickangle = 60,\n",
                "        title_standoff = 25,\n",
                "        nticks=20, tickfont_size=10,\n",
                "        ticks=\"outside\", tickwidth=1,\n",
                "        ticklen=5,\n",
                "        )\n",
                "fig.update_yaxes(\n",
                "        tickfont_size=10,\n",
                "        ticks=\"outside\", tickwidth=1,\n",
                "        ticklen=5,\n",
                "        )\n",
                "\n",
                "fig.show()\n",
                "# create a dir called 'figures'\n",
                "# if it doesn't exist, create it\n",
                "if not os.path.exists('./figures'):\n",
                "    os.makedirs('./figures')\n",
                "fig_path = os.path.join('./figures', f'hdb_{output_file}_decades_bar.html')\n",
                "#save the figure as a html file\n",
                "fig.write_html(fig_path)"
            ],
            "outputs": [],
            "metadata": {}
        },
        {
            "cell_type": "markdown",
            "source": [
                "## Analisar um único jornal\n",
                "\n",
                "Vamos selecionar o acervo com maior número de ocorrências no dataframe e analisar"
            ],
            "metadata": {}
        },
        {
            "cell_type": "code",
            "execution_count": null,
            "source": [
                "# create a dataframe using df_acervos \n",
                "# select the first six rows of dataframe df_acervos\n",
                "df7 = df_acervos.iloc[:6]\n",
                "print(df7)\n",
                "# get the values of 'Acrevo' column from df7 and put it in a list using .tolist()\n",
                "lista_valores = df7['Acervo'].tolist()\n",
                "print(f'Acervos: {lista_valores}')"
            ],
            "outputs": [],
            "metadata": {}
        },
        {
            "cell_type": "code",
            "execution_count": null,
            "source": [
                "# use itens in `lista_valores` list to new dataframes\n",
                "# strings must be defined manually\n",
                "# filter dataframe by value in 'Acervo' column\n",
                "acervo_1 = df3[df3['Acervo'].str.contains('Correio da Manhã ')]\n",
                "print(acervo_1.head())\n",
                "acervo_2 = df3[df3['Acervo'].str.contains('Jornal do Brasil ')]\n",
                "print(acervo_2.head())\n",
                "acervo_3 = df3[df3['Acervo'].str.contains('O Paiz ')]\n",
                "print(acervo_3.head())\n",
                "acervo_4 = df3[df3['Acervo'].str.contains('A Noite ')]\n",
                "print(acervo_4.head())\n",
                "acervo_5 = df3[df3['Acervo'].str.contains('Gazeta de Noticias ')]\n",
                "print(acervo_5.head())\n",
                "acervo_6 = df3[df3['Acervo'].str.contains('A Epoca ')]\n",
                "print(acervo_6.head())\n",
                "#"
            ],
            "outputs": [],
            "metadata": {}
        },
        {
            "cell_type": "code",
            "execution_count": null,
            "source": [
                "# create a scatter plot with plotly express using x = 'Ano' and y = 'quant_oco_ano'\n",
                "fig = px.scatter(acervo_1, x='Ano', y='quant_oco_ano', color='quant_oco_ano', height=600, width=800,\n",
                "                 hover_data=[acervo_1['Ano'], acervo_1['Acervo'], acervo_1['quant_oco_ano']],\n",
                "                 title=f'{output_file} - Correio da Manhã (RJ) - Ano X Acervo', # title must be defined manually\n",
                "                 size='quant_oco_ano',\n",
                "                 )\n",
                "# config the layout\n",
                "fig.update_layout(\n",
                "    hovermode=\"closest\",\n",
                "    legend=dict(orientation=\"h\", xanchor=\"center\", yanchor=\"top\"),\n",
                "    showlegend=True,\n",
                "    xaxis=dict(title=\"Anos\"),\n",
                "    yaxis=dict(title=\"Quantidade de ocorrências\"),\n",
                "    title_font_size=20,\n",
                "    title_pad=dict(l=100, r=0, t=0, b=0)\n",
                ")\n",
                "# update xaxes\n",
                "fig.update_xaxes(\n",
                "        nticks=20, tickfont_size=10,\n",
                "        tickangle = 60,\n",
                "        title_standoff = 25,\n",
                "        ticks=\"outside\", tickwidth=1,\n",
                "        ticklen=5,\n",
                "        )\n",
                "fig.update_yaxes(\n",
                "        nticks=20, tickfont_size=10,\n",
                "        ticks=\"outside\", tickwidth=1,\n",
                "        ticklen=5,\n",
                "        )\n",
                "\n",
                "fig.show()\n",
                "# create a dir called 'figures'\n",
                "# if it doesn't exist, create it\n",
                "if not os.path.exists('./figures'):\n",
                "    os.makedirs('./figures')\n",
                "fig_path = os.path.join('./figures', f'hdb_{output_file}_acervo_1.html')\n",
                "#save the figure as a html file\n",
                "fig.write_html(fig_path)                \n"
            ],
            "outputs": [],
            "metadata": {}
        },
        {
            "cell_type": "markdown",
            "source": [
                "### Criar gráfico com várias figuras"
            ],
            "metadata": {}
        },
        {
            "cell_type": "code",
            "execution_count": null,
            "source": [
                "# creates a scatter plot with plotly using subplots\n",
                "from plotly.subplots import make_subplots\n",
                "import plotly.graph_objects as go"
            ],
            "outputs": [],
            "metadata": {}
        },
        {
            "cell_type": "code",
            "execution_count": null,
            "source": [
                "# define subplots and the number of rows and columns\n",
                "fig = make_subplots(rows=2, cols=3)\n",
                "# add scatter plots to the subplots\n",
                "# the name of the scatter plot is the name of the list item and must be defined manually\n",
                "fig.add_trace(go.Scatter(x=acervo_1['Ano'], y=acervo_1['quant_oco_ano'], name='Correio da Manhã (RJ)', mode='lines+markers'), row=1, col=1)\n",
                "fig.add_trace(go.Scatter(x=acervo_2['Ano'], y=acervo_2['quant_oco_ano'], name='Jornal do Brasil (RJ)', mode='lines+markers'), row=1, col=2)\n",
                "fig.add_trace(go.Scatter(x=acervo_3['Ano'], y=acervo_3['quant_oco_ano'], name='O Paiz (RJ)', mode='lines+markers'), row=1, col=3)\n",
                "fig.add_trace(go.Scatter(x=acervo_4['Ano'], y=acervo_4['quant_oco_ano'], name='A Noite (RJ)', mode='lines+markers'), row=2, col=1)\n",
                "fig.add_trace(go.Scatter(x=acervo_5['Ano'], y=acervo_5['quant_oco_ano'], name='Gazeta de Noticias (RJ)', mode='lines+markers'), row=2, col=2)\n",
                "fig.add_trace(go.Scatter(x=acervo_6['Ano'], y=acervo_6['quant_oco_ano'], name='A Epoca (RJ)', mode='lines+markers'), row=2, col=3)\n",
                "fig.update_layout(\n",
                "    #insert title\n",
                "    title=f'{output_file} - Ano X Quantidade de ocorrências',\n",
                "    height=600,\n",
                "    width=800,\n",
                "    showlegend=True,\n",
                "    legend=dict(orientation=\"v\", xanchor=\"center\", yanchor=\"top\"),\n",
                "    title_font_size=20,\n",
                "    title_pad=dict(l=100, r=0, t=0, b=0),\n",
                ")\n",
                "fig.update_xaxes(\n",
                "        tickangle = 60,\n",
                "        title_standoff = 25,\n",
                "        ticks=\"outside\", tickwidth=1,\n",
                "        ticklen=5,\n",
                "        nticks=10, tickfont_size=10,\n",
                "        )\n",
                "fig.update_yaxes(\n",
                "        nticks=10, tickfont_size=10,\n",
                "        ticks=\"outside\", tickwidth=1,\n",
                "        ticklen=5,\n",
                "        )\n",
                "fig.show()\n",
                "\n",
                "# create a dir called 'figures'\n",
                "# if it doesn't exist, create it\n",
                "if not os.path.exists('./figures'):\n",
                "    os.makedirs('./figures')\n",
                "fig_path = os.path.join('./figures', f'hdb_{output_file}_mult_acervos.html')\n",
                "#save the figure as a html file\n",
                "fig.write_html(fig_path)\n"
            ],
            "outputs": [],
            "metadata": {}
        }
    ],
    "metadata": {
        "orig_nbformat": 4,
        "language_info": {
            "name": "python",
            "version": "3.9.5",
            "mimetype": "text/x-python",
            "codemirror_mode": {
                "name": "ipython",
                "version": 3
            },
            "pygments_lexer": "ipython3",
            "nbconvert_exporter": "python",
            "file_extension": ".py"
        },
        "kernelspec": {
            "name": "python3",
            "display_name": "Python 3.9.5 64-bit"
        },
        "interpreter": {
            "hash": "31f2aee4e71d21fbe5cf8b01ff0e069b9275f58929596ceb00d14d90e3e16cd6"
        }
    },
    "nbformat": 4,
    "nbformat_minor": 2
}