{
    "cells": [
        {
            "cell_type": "markdown",
            "metadata": {},
            "source": [
                "# Pandas e Plotly\n",
                "\n",
                "Exemplos de análise de dados dos CSV gerados pelo programa `Heurística_HDB`.\n",
                "\n",
                "Utilizaremos os recursos avançados de análise de dataframes com pandas e em seguida vamos utilizar a biblioteca Plotly para gerar gráficos interativos.\n",
                "\n",
                "---\n"
            ]
        },
        {
            "cell_type": "markdown",
            "metadata": {},
            "source": [
                "## Importando as bibliotecas e módulos"
            ]
        },
        {
            "cell_type": "code",
            "execution_count": null,
            "metadata": {},
            "outputs": [],
            "source": [
                "# importando pandas e plotly\n",
                "import pandas as pd\n",
                "import plotly.express as px"
            ]
        },
        {
            "cell_type": "markdown",
            "metadata": {},
            "source": [
                "## Inserindo caminho para o CSV e termo para salvar o arquivo"
            ]
        },
        {
            "cell_type": "code",
            "execution_count": null,
            "metadata": {},
            "outputs": [],
            "source": [
                "# caminho do arquivo csv\n",
                "csv_path = input(\"Enter CSV path: \")\n",
                "# nome do arquivo de saída\n",
                "output_file = input(\"Enter output file name: \")\n",
                "# colocar o nome do arquivo em minúsculo\n",
                "output_file = output_file.lower()"
            ]
        },
        {
            "cell_type": "markdown",
            "metadata": {},
            "source": [
                "## Criando o dataframe\n",
                "\n",
                "A partir do caminho do CSV, vamos utilizar o método `pd.read_csv()` para gerar o dataframe."
            ]
        },
        {
            "cell_type": "code",
            "execution_count": null,
            "metadata": {},
            "outputs": [],
            "source": [
                "# Criar um dataframe com o arquivo csv\n",
                "df = pd.read_csv(f'{csv_path}', index_col=0, encoding='utf-8')\n",
                "# Mostrar as 5 primeiras linhas do dataframe\n",
                "df.head()"
            ]
        },
        {
            "cell_type": "code",
            "execution_count": null,
            "metadata": {},
            "outputs": [],
            "source": [
                "# ver as colunas do dataframe\n",
                "df.columns\n"
            ]
        },
        {
            "cell_type": "code",
            "execution_count": null,
            "metadata": {},
            "outputs": [],
            "source": [
                "# ver os tipos de dados do dataframe\n",
                "df.dtypes"
            ]
        },
        {
            "cell_type": "markdown",
            "metadata": {},
            "source": [
                "## Analisar a coluna Eventos"
            ]
        },
        {
            "cell_type": "code",
            "execution_count": null,
            "metadata": {},
            "outputs": [],
            "source": [
                "df['Evento'].unique()"
            ]
        },
        {
            "cell_type": "code",
            "execution_count": null,
            "metadata": {},
            "outputs": [],
            "source": [
                "# Agrupar por evento e contar\n",
                "df_evento = df.groupby('Evento').size()\n",
                "df_evento"
            ]
        },
        {
            "cell_type": "code",
            "execution_count": null,
            "metadata": {},
            "outputs": [],
            "source": [
                "df_evento = df.groupby('Evento', sort=False).size()\n",
                "df_evento"
            ]
        },
        {
            "cell_type": "code",
            "execution_count": null,
            "metadata": {},
            "outputs": [],
            "source": [
                "type(df_evento)"
            ]
        },
        {
            "cell_type": "markdown",
            "metadata": {},
            "source": [
                ">OBS: Importante reparar que nesse caso NÃO criamos um novo dataframe com os dados agrupados e contados (size) pela coluna 'ST', mas sim um objeto Series."
            ]
        },
        {
            "cell_type": "code",
            "execution_count": null,
            "metadata": {},
            "outputs": [],
            "source": [
                "# Podemos usar o método `reset_index()` para transformar o resultado da agregação em um dataframe\n",
                "df_evento = df_evento.reset_index(name='Total de resumos')\n",
                "df_evento"
            ]
        },
        {
            "cell_type": "markdown",
            "metadata": {},
            "source": [
                "#### Plotly\n",
                "\n",
                "O Plotly é uma biblioteca de visualização de dados interativa. Para utilizá-la, é necessário instalar o pacote `plotly`.\n",
                "\n",
                "```bash\n",
                "pip install plotly\n",
                "```\n",
                "\n",
                "E importar o módulo `plotly.express` como `px`.\n",
                "\n",
                "```python\n",
                "import plotly.express as px\n",
                "```\n",
                "\n",
                "Vamos criar um gráfico de barras com o Plotly. Para isso vamos utilizar o método `px.bar()`."
            ]
        },
        {
            "cell_type": "markdown",
            "metadata": {},
            "source": [
                "```python\n",
                "fig = px.bar(dataframe, x='Coluna 1', y='Coluna 2')\n",
                "```"
            ]
        },
        {
            "cell_type": "code",
            "execution_count": null,
            "metadata": {},
            "outputs": [],
            "source": [
                "# gráfico de barras com coluna x = Evento e y = Quantidade\n",
                "fig = px.bar(df_evento, x='Evento', y='Quantidade') \n",
                "\n",
                "fig.show()"
            ]
        },
        {
            "cell_type": "code",
            "execution_count": null,
            "metadata": {},
            "outputs": [],
            "source": [
                "# atualizar o layout do gráfico, incluindo título\n",
                "fig.update_layout(title_text='Quantidade de eventos por ano')\n",
                "fig.show()"
            ]
        },
        {
            "cell_type": "code",
            "execution_count": null,
            "metadata": {},
            "outputs": [],
            "source": [
                "#salvar o gráfico em um arquivo html e png\n",
                "fig.write_html(f'{output_file}.html')\n",
                "fig.write_image(f'{output_file}.png')"
            ]
        },
        {
            "cell_type": "markdown",
            "metadata": {},
            "source": [
                "### Filtrar usando múltiplas colunas"
            ]
        },
        {
            "cell_type": "code",
            "execution_count": null,
            "metadata": {},
            "outputs": [],
            "source": [
                "df.columns"
            ]
        },
        {
            "cell_type": "code",
            "execution_count": null,
            "metadata": {},
            "outputs": [],
            "source": [
                "df_ano_evento = df.filter(items=['Ano', 'Evento', 'Cidade'])\\\n",
                "    .groupby(['Ano', 'Evento', 'Cidade'])\\\n",
                "    .size()\n",
                "df_ano_evento"
            ]
        },
        {
            "cell_type": "code",
            "execution_count": null,
            "metadata": {},
            "outputs": [],
            "source": [
                "df_ano_evento = df_ano_evento.reset_index()\n",
                "df_ano_evento.columns = ['Ano', 'Evento', 'Cidade', 'Total de resumos']\n",
                "df_ano_evento"
            ]
        },
        {
            "cell_type": "code",
            "execution_count": null,
            "metadata": {},
            "outputs": [],
            "source": [
                "# gráfico de barras com coluna x = Ano e y = Quantidade\n",
                "fig2 = px.bar(df_ano_evento, x='Ano', y='Total de resumos', title='Quantidade de Eventos por ano')\n",
                "\n",
                "fig2.show()"
            ]
        },
        {
            "cell_type": "code",
            "execution_count": null,
            "metadata": {},
            "outputs": [],
            "source": [
                "# atualizar traces do eixo x: anos fixos\n",
                "fig2.update_xaxes(tickvals=[2013, 2015, 2017, 2019, 2021, 2023])\n",
                "fig2.show()"
            ]
        },
        {
            "cell_type": "markdown",
            "metadata": {},
            "source": [
                "## gráfico de Pizza\n"
            ]
        },
        {
            "cell_type": "code",
            "execution_count": null,
            "metadata": {},
            "outputs": [],
            "source": [
                "fig3 = px.pie(df_ano_evento, values='Total de resumos', names='Ano', title='Eventos por ano')\n",
                "fig3.show()"
            ]
        },
        {
            "cell_type": "markdown",
            "metadata": {},
            "source": [
                "## Analisar a coluna Eventos e ST"
            ]
        },
        {
            "cell_type": "code",
            "execution_count": null,
            "metadata": {},
            "outputs": [],
            "source": [
                "df['ST'].unique()\n"
            ]
        },
        {
            "cell_type": "code",
            "execution_count": null,
            "metadata": {},
            "outputs": [],
            "source": [
                "# limpar valores em coluna 'ST': excluir '\\r\\n\\t\\t'\n",
                "df['ST'] = df['ST'].str.replace('\\r\\n\\t\\t', '')\n",
                "df['ST'].unique()"
            ]
        },
        {
            "cell_type": "code",
            "execution_count": null,
            "metadata": {},
            "outputs": [],
            "source": [
                "# remover '\\t' do final da string na coluna 'ST'\n",
                "df['ST'] = df['ST'].str.rstrip('\\t')\n",
                "df['ST'].unique()"
            ]
        },
        {
            "cell_type": "markdown",
            "metadata": {},
            "source": [
                "## Filtrar e analisar por colunas específicas"
            ]
        },
        {
            "cell_type": "code",
            "execution_count": null,
            "metadata": {},
            "outputs": [],
            "source": [
                "# agrupar por 'ST' e contar ocorrências e ordenar de forma decrescente\n",
                "df_st = df.groupby('ST').size().reset_index(name='Total').sort_values(by='Total',ascending=False)\n",
                "df_st"
            ]
        },
        {
            "cell_type": "code",
            "execution_count": null,
            "metadata": {},
            "outputs": [],
            "source": [
                "df_ano_st = df.filter(items=['Ano', 'ST'])\\\n",
                "    .groupby(['Ano', 'ST'])\\\n",
                "    .size()\\\n",
                "    .reset_index(name='Total de resumos')\\\n",
                "    .sort_values(by='Total de resumos', ascending=False, ignore_index=True)\n",
                "df_ano_st.head()"
            ]
        },
        {
            "cell_type": "markdown",
            "metadata": {},
            "source": [
                "#### df_ano_st\n",
                "\n",
                "Esse dataframe contém a quantidade total de resumos por ST em cada ano.\n",
                "\n",
                "Vamos utilizar esses dados para gerar visualizações com Plotly."
            ]
        },
        {
            "cell_type": "code",
            "execution_count": null,
            "metadata": {},
            "outputs": [],
            "source": [
                "# avaliar os 20 maiores valores de 'ST' e mostrar em um gráfico de barras\n",
                "fig4 = px.bar(df_ano_st.head(20), x='ST', y='Total de resumos', title='Quantidade de resumos por ST', color='Ano')\n",
                "\n",
                "fig4.show()"
            ]
        },
        {
            "cell_type": "code",
            "execution_count": null,
            "metadata": {},
            "outputs": [],
            "source": [
                "for index, row in df_ano_st.iterrows():\n",
                "    if len(row['ST']) > 40:\n",
                "        df_ano_st.at[index, 'ST'] = row['ST'][:40] + '...'"
            ]
        },
        {
            "cell_type": "code",
            "execution_count": null,
            "metadata": {},
            "outputs": [],
            "source": [
                "fig4 = px.bar(df_ano_st.head(15), x='ST', y='Total de resumos', title='Quantidade de resumos por ST', color='Ano')\n",
                "\n",
                "fig4.show()"
            ]
        },
        {
            "cell_type": "markdown",
            "metadata": {},
            "source": [
                "---\n",
                "\n",
                "[← Anterior](dia3.ipynb)\n",
                "\n",
                "[↑ Início](./README.md)"
            ]
        }
    ],
    "metadata": {
        "interpreter": {
            "hash": "31f2aee4e71d21fbe5cf8b01ff0e069b9275f58929596ceb00d14d90e3e16cd6"
        },
        "kernelspec": {
            "display_name": "Python 3.9.5 64-bit",
            "name": "python3"
        },
        "language_info": {
            "codemirror_mode": {
                "name": "ipython",
                "version": 3
            },
            "file_extension": ".py",
            "mimetype": "text/x-python",
            "name": "python",
            "nbconvert_exporter": "python",
            "pygments_lexer": "ipython3",
            "version": "3.10.12"
        },
        "orig_nbformat": 4
    },
    "nbformat": 4,
    "nbformat_minor": 2
}
