{
    "cells": [
        {
            "cell_type": "markdown",
            "metadata": {},
            "source": [
                "# Pandas e Plotly\n",
                "\n",
                "Exemplos de análise de dados dos CSV gerados pelo programa `Heurística_HDB`.\n",
                "\n",
                "Utilizaremos os recursos avançados de análise de dataframes com pandas e em seguida vamos utilizar a biblioteca Plotly para gerar gráficos interativos.\n",
                "\n",
                "---\n"
            ]
        },
        {
            "cell_type": "markdown",
            "metadata": {},
            "source": [
                "## Importando as bibliotecas e módulos"
            ]
        },
        {
            "cell_type": "code",
            "execution_count": 16,
            "metadata": {},
            "outputs": [],
            "source": [
                "# importando pandas e plotly\n",
                "import pandas as pd\n",
                "import plotly.express as px"
            ]
        },
        {
            "cell_type": "markdown",
            "metadata": {},
            "source": [
                "## Inserindo caminho para o CSV e termo para salvar o arquivo"
            ]
        },
        {
            "cell_type": "code",
            "execution_count": 17,
            "metadata": {},
            "outputs": [],
            "source": [
                "# caminho do arquivo csv\n",
                "csv_path = input(\"Enter CSV path: \")\n",
                "# nome do arquivo de saída\n",
                "output_file = input(\"Enter output file name: \")\n",
                "# colocar o nome do arquivo em minúsculo\n",
                "output_file = output_file.lower()"
            ]
        },
        {
            "cell_type": "markdown",
            "metadata": {},
            "source": [
                "## Criando o dataframe\n",
                "\n",
                "A partir do caminho do CSV, vamos utilizar o método `pd.read_csv()` para gerar o dataframe."
            ]
        },
        {
            "cell_type": "code",
            "execution_count": 18,
            "metadata": {},
            "outputs": [
                {
                    "data": {
                        "text/html": [
                            "<div>\n",
                            "<style scoped>\n",
                            "    .dataframe tbody tr th:only-of-type {\n",
                            "        vertical-align: middle;\n",
                            "    }\n",
                            "\n",
                            "    .dataframe tbody tr th {\n",
                            "        vertical-align: top;\n",
                            "    }\n",
                            "\n",
                            "    .dataframe thead th {\n",
                            "        text-align: right;\n",
                            "    }\n",
                            "</style>\n",
                            "<table border=\"1\" class=\"dataframe\">\n",
                            "  <thead>\n",
                            "    <tr style=\"text-align: right;\">\n",
                            "      <th></th>\n",
                            "      <th>Ano</th>\n",
                            "      <th>Evento</th>\n",
                            "      <th>Cidade</th>\n",
                            "      <th>ST</th>\n",
                            "      <th>Coordenadores</th>\n",
                            "      <th>Autor(es)/Instituições</th>\n",
                            "      <th>Título</th>\n",
                            "      <th>Resumo</th>\n",
                            "    </tr>\n",
                            "  </thead>\n",
                            "  <tbody>\n",
                            "    <tr>\n",
                            "      <th>0</th>\n",
                            "      <td>2013</td>\n",
                            "      <td>XXVII</td>\n",
                            "      <td>Natal</td>\n",
                            "      <td>001. \"De que África estamos falando (I) : per...</td>\n",
                            "      <td>ALEXANDRE VIEIRA RIBEIRO (Doutor(a) - Universi...</td>\n",
                            "      <td>Letícia Cristina Fonseca Destro</td>\n",
                            "      <td>Cristãos, mouros e gentios: os africanos subsa...</td>\n",
                            "      <td>Quando as caravelas portuguesas se encontraram...</td>\n",
                            "    </tr>\n",
                            "    <tr>\n",
                            "      <th>1</th>\n",
                            "      <td>2013</td>\n",
                            "      <td>XXVII</td>\n",
                            "      <td>Natal</td>\n",
                            "      <td>001. \"De que África estamos falando (I) : per...</td>\n",
                            "      <td>ALEXANDRE VIEIRA RIBEIRO (Doutor(a) - Universi...</td>\n",
                            "      <td>Ariane Carvalho da Cruz</td>\n",
                            "      <td>A africanização da guerra em Angola na segunda...</td>\n",
                            "      <td>O presente trabalho analisa as formas de organ...</td>\n",
                            "    </tr>\n",
                            "    <tr>\n",
                            "      <th>2</th>\n",
                            "      <td>2013</td>\n",
                            "      <td>XXVII</td>\n",
                            "      <td>Natal</td>\n",
                            "      <td>001. \"De que África estamos falando (I) : per...</td>\n",
                            "      <td>ALEXANDRE VIEIRA RIBEIRO (Doutor(a) - Universi...</td>\n",
                            "      <td>Érika Melek Delgado</td>\n",
                            "      <td>A Expedição Vitoriana para a África Ocidental:...</td>\n",
                            "      <td>Este artigo tem como objetivo dar espaço para ...</td>\n",
                            "    </tr>\n",
                            "    <tr>\n",
                            "      <th>3</th>\n",
                            "      <td>2013</td>\n",
                            "      <td>XXVII</td>\n",
                            "      <td>Natal</td>\n",
                            "      <td>001. \"De que África estamos falando (I) : per...</td>\n",
                            "      <td>ALEXANDRE VIEIRA RIBEIRO (Doutor(a) - Universi...</td>\n",
                            "      <td>VANICLEIA SILVA SANTOS</td>\n",
                            "      <td>O colonialismo inquisitorial: O Santo Ofício p...</td>\n",
                            "      <td>O objetivo dessa apresentação é mostrar o func...</td>\n",
                            "    </tr>\n",
                            "    <tr>\n",
                            "      <th>4</th>\n",
                            "      <td>2013</td>\n",
                            "      <td>XXVII</td>\n",
                            "      <td>Natal</td>\n",
                            "      <td>001. \"De que África estamos falando (I) : per...</td>\n",
                            "      <td>ALEXANDRE VIEIRA RIBEIRO (Doutor(a) - Universi...</td>\n",
                            "      <td>Cristiana Ferreira Lyrio Ximenes</td>\n",
                            "      <td>ANGOLA E BAHIA NAS REDES E ROTAS TRANSOCEÂNICA...</td>\n",
                            "      <td>O texto apresenta algumas conexões constituída...</td>\n",
                            "    </tr>\n",
                            "  </tbody>\n",
                            "</table>\n",
                            "</div>"
                        ],
                        "text/plain": [
                            "    Ano Evento Cidade                                                 ST  \\\n",
                            "0  2013  XXVII  Natal  001. \"De que África estamos falando (I) : per...   \n",
                            "1  2013  XXVII  Natal  001. \"De que África estamos falando (I) : per...   \n",
                            "2  2013  XXVII  Natal  001. \"De que África estamos falando (I) : per...   \n",
                            "3  2013  XXVII  Natal  001. \"De que África estamos falando (I) : per...   \n",
                            "4  2013  XXVII  Natal  001. \"De que África estamos falando (I) : per...   \n",
                            "\n",
                            "                                       Coordenadores  \\\n",
                            "0  ALEXANDRE VIEIRA RIBEIRO (Doutor(a) - Universi...   \n",
                            "1  ALEXANDRE VIEIRA RIBEIRO (Doutor(a) - Universi...   \n",
                            "2  ALEXANDRE VIEIRA RIBEIRO (Doutor(a) - Universi...   \n",
                            "3  ALEXANDRE VIEIRA RIBEIRO (Doutor(a) - Universi...   \n",
                            "4  ALEXANDRE VIEIRA RIBEIRO (Doutor(a) - Universi...   \n",
                            "\n",
                            "             Autor(es)/Instituições  \\\n",
                            "0   Letícia Cristina Fonseca Destro   \n",
                            "1           Ariane Carvalho da Cruz   \n",
                            "2               Érika Melek Delgado   \n",
                            "3            VANICLEIA SILVA SANTOS   \n",
                            "4  Cristiana Ferreira Lyrio Ximenes   \n",
                            "\n",
                            "                                              Título  \\\n",
                            "0  Cristãos, mouros e gentios: os africanos subsa...   \n",
                            "1  A africanização da guerra em Angola na segunda...   \n",
                            "2  A Expedição Vitoriana para a África Ocidental:...   \n",
                            "3  O colonialismo inquisitorial: O Santo Ofício p...   \n",
                            "4  ANGOLA E BAHIA NAS REDES E ROTAS TRANSOCEÂNICA...   \n",
                            "\n",
                            "                                              Resumo  \n",
                            "0  Quando as caravelas portuguesas se encontraram...  \n",
                            "1  O presente trabalho analisa as formas de organ...  \n",
                            "2  Este artigo tem como objetivo dar espaço para ...  \n",
                            "3  O objetivo dessa apresentação é mostrar o func...  \n",
                            "4  O texto apresenta algumas conexões constituída...  "
                        ]
                    },
                    "execution_count": 18,
                    "metadata": {},
                    "output_type": "execute_result"
                }
            ],
            "source": [
                "# Criar um dataframe com o arquivo csv\n",
                "df = pd.read_csv(f'{csv_path}', index_col=0, encoding='utf-8')\n",
                "# Mostrar as 5 primeiras linhas do dataframe\n",
                "df.head()"
            ]
        },
        {
            "cell_type": "code",
            "execution_count": 19,
            "metadata": {},
            "outputs": [
                {
                    "data": {
                        "text/plain": [
                            "Index(['Ano', 'Evento', 'Cidade', 'ST', 'Coordenadores',\n",
                            "       'Autor(es)/Instituições', 'Título', 'Resumo'],\n",
                            "      dtype='object')"
                        ]
                    },
                    "execution_count": 19,
                    "metadata": {},
                    "output_type": "execute_result"
                }
            ],
            "source": [
                "# ver as colunas do dataframe\n",
                "df.columns\n"
            ]
        },
        {
            "cell_type": "code",
            "execution_count": 20,
            "metadata": {},
            "outputs": [
                {
                    "data": {
                        "text/plain": [
                            "Ano                        int64\n",
                            "Evento                    object\n",
                            "Cidade                    object\n",
                            "ST                        object\n",
                            "Coordenadores             object\n",
                            "Autor(es)/Instituições    object\n",
                            "Título                    object\n",
                            "Resumo                    object\n",
                            "dtype: object"
                        ]
                    },
                    "execution_count": 20,
                    "metadata": {},
                    "output_type": "execute_result"
                }
            ],
            "source": [
                "# ver os tipos de dados do dataframe\n",
                "df.dtypes"
            ]
        },
        {
            "cell_type": "markdown",
            "metadata": {},
            "source": [
                "## Analisar a coluna Eventos"
            ]
        },
        {
            "cell_type": "code",
            "execution_count": 21,
            "metadata": {},
            "outputs": [
                {
                    "data": {
                        "text/plain": [
                            "array(['XXVII', 'XXVIII', 'XXIX', 'XXX', 'XXXI', 'XXXII'], dtype=object)"
                        ]
                    },
                    "execution_count": 21,
                    "metadata": {},
                    "output_type": "execute_result"
                }
            ],
            "source": [
                "df['Evento'].unique()"
            ]
        },
        {
            "cell_type": "code",
            "execution_count": 22,
            "metadata": {},
            "outputs": [
                {
                    "data": {
                        "text/plain": [
                            "Evento\n",
                            "XXIX      2802\n",
                            "XXVII     2678\n",
                            "XXVIII    2770\n",
                            "XXX       3240\n",
                            "XXXI      2729\n",
                            "XXXII     2372\n",
                            "dtype: int64"
                        ]
                    },
                    "execution_count": 22,
                    "metadata": {},
                    "output_type": "execute_result"
                }
            ],
            "source": [
                "# Agrupar por evento e contar\n",
                "df_evento = df.groupby('Evento').size()\n",
                "df_evento"
            ]
        },
        {
            "cell_type": "code",
            "execution_count": 23,
            "metadata": {},
            "outputs": [
                {
                    "data": {
                        "text/plain": [
                            "Evento\n",
                            "XXVII     2678\n",
                            "XXVIII    2770\n",
                            "XXIX      2802\n",
                            "XXX       3240\n",
                            "XXXI      2729\n",
                            "XXXII     2372\n",
                            "dtype: int64"
                        ]
                    },
                    "execution_count": 23,
                    "metadata": {},
                    "output_type": "execute_result"
                }
            ],
            "source": [
                "df_evento = df.groupby('Evento', sort=False).size()\n",
                "df_evento"
            ]
        },
        {
            "cell_type": "code",
            "execution_count": 24,
            "metadata": {},
            "outputs": [
                {
                    "data": {
                        "text/plain": [
                            "pandas.core.series.Series"
                        ]
                    },
                    "execution_count": 24,
                    "metadata": {},
                    "output_type": "execute_result"
                }
            ],
            "source": [
                "type(df_evento)"
            ]
        },
        {
            "cell_type": "markdown",
            "metadata": {},
            "source": [
                ">OBS: Importante reparar que nesse caso NÃO criamos um novo dataframe com os dados agrupados e contados (size) pela coluna 'ST', mas sim um objeto Series."
            ]
        },
        {
            "cell_type": "code",
            "execution_count": 25,
            "metadata": {},
            "outputs": [
                {
                    "data": {
                        "text/html": [
                            "<div>\n",
                            "<style scoped>\n",
                            "    .dataframe tbody tr th:only-of-type {\n",
                            "        vertical-align: middle;\n",
                            "    }\n",
                            "\n",
                            "    .dataframe tbody tr th {\n",
                            "        vertical-align: top;\n",
                            "    }\n",
                            "\n",
                            "    .dataframe thead th {\n",
                            "        text-align: right;\n",
                            "    }\n",
                            "</style>\n",
                            "<table border=\"1\" class=\"dataframe\">\n",
                            "  <thead>\n",
                            "    <tr style=\"text-align: right;\">\n",
                            "      <th></th>\n",
                            "      <th>Evento</th>\n",
                            "      <th>Total de resumos</th>\n",
                            "    </tr>\n",
                            "  </thead>\n",
                            "  <tbody>\n",
                            "    <tr>\n",
                            "      <th>0</th>\n",
                            "      <td>XXVII</td>\n",
                            "      <td>2678</td>\n",
                            "    </tr>\n",
                            "    <tr>\n",
                            "      <th>1</th>\n",
                            "      <td>XXVIII</td>\n",
                            "      <td>2770</td>\n",
                            "    </tr>\n",
                            "    <tr>\n",
                            "      <th>2</th>\n",
                            "      <td>XXIX</td>\n",
                            "      <td>2802</td>\n",
                            "    </tr>\n",
                            "    <tr>\n",
                            "      <th>3</th>\n",
                            "      <td>XXX</td>\n",
                            "      <td>3240</td>\n",
                            "    </tr>\n",
                            "    <tr>\n",
                            "      <th>4</th>\n",
                            "      <td>XXXI</td>\n",
                            "      <td>2729</td>\n",
                            "    </tr>\n",
                            "    <tr>\n",
                            "      <th>5</th>\n",
                            "      <td>XXXII</td>\n",
                            "      <td>2372</td>\n",
                            "    </tr>\n",
                            "  </tbody>\n",
                            "</table>\n",
                            "</div>"
                        ],
                        "text/plain": [
                            "   Evento  Total de resumos\n",
                            "0   XXVII              2678\n",
                            "1  XXVIII              2770\n",
                            "2    XXIX              2802\n",
                            "3     XXX              3240\n",
                            "4    XXXI              2729\n",
                            "5   XXXII              2372"
                        ]
                    },
                    "execution_count": 25,
                    "metadata": {},
                    "output_type": "execute_result"
                }
            ],
            "source": [
                "# Podemos usar o método `reset_index()` para transformar o resultado da agregação em um dataframe\n",
                "df_evento = df_evento.reset_index(name='Total de resumos')\n",
                "df_evento"
            ]
        },
        {
            "cell_type": "markdown",
            "metadata": {},
            "source": [
                "#### Plotly\n",
                "\n",
                "O Plotly é uma biblioteca de visualização de dados interativa. Para utilizá-la, é necessário instalar o pacote `plotly`.\n",
                "\n",
                "```bash\n",
                "pip install plotly\n",
                "```\n",
                "\n",
                "E importar o módulo `plotly.express` como `px`.\n",
                "\n",
                "```python\n",
                "import plotly.express as px\n",
                "```\n",
                "\n",
                "Vamos criar um gráfico de barras com o Plotly. Para isso vamos utilizar o método `px.bar()`."
            ]
        },
        {
            "cell_type": "markdown",
            "metadata": {},
            "source": [
                "```python\n",
                "fig = px.bar(dataframe, x='Coluna 1', y='Coluna 2')\n",
                "```"
            ]
        },
        {
            "cell_type": "code",
            "execution_count": 26,
            "metadata": {},
            "outputs": [
                {
                    "data": {
                        "application/vnd.plotly.v1+json": {
                            "config": {
                                "plotlyServerURL": "https://plot.ly"
                            },
                            "data": [
                                {
                                    "alignmentgroup": "True",
                                    "hovertemplate": "Evento=%{x}<br>Total de resumos=%{y}<extra></extra>",
                                    "legendgroup": "",
                                    "marker": {
                                        "color": "#636efa",
                                        "pattern": {
                                            "shape": ""
                                        }
                                    },
                                    "name": "",
                                    "offsetgroup": "",
                                    "orientation": "v",
                                    "showlegend": false,
                                    "textposition": "auto",
                                    "type": "bar",
                                    "x": [
                                        "XXVII",
                                        "XXVIII",
                                        "XXIX",
                                        "XXX",
                                        "XXXI",
                                        "XXXII"
                                    ],
                                    "xaxis": "x",
                                    "y": [
                                        2678,
                                        2770,
                                        2802,
                                        3240,
                                        2729,
                                        2372
                                    ],
                                    "yaxis": "y"
                                }
                            ],
                            "layout": {
                                "barmode": "relative",
                                "legend": {
                                    "tracegroupgap": 0
                                },
                                "margin": {
                                    "t": 60
                                },
                                "template": {
                                    "data": {
                                        "bar": [
                                            {
                                                "error_x": {
                                                    "color": "#2a3f5f"
                                                },
                                                "error_y": {
                                                    "color": "#2a3f5f"
                                                },
                                                "marker": {
                                                    "line": {
                                                        "color": "#E5ECF6",
                                                        "width": 0.5
                                                    },
                                                    "pattern": {
                                                        "fillmode": "overlay",
                                                        "size": 10,
                                                        "solidity": 0.2
                                                    }
                                                },
                                                "type": "bar"
                                            }
                                        ],
                                        "barpolar": [
                                            {
                                                "marker": {
                                                    "line": {
                                                        "color": "#E5ECF6",
                                                        "width": 0.5
                                                    },
                                                    "pattern": {
                                                        "fillmode": "overlay",
                                                        "size": 10,
                                                        "solidity": 0.2
                                                    }
                                                },
                                                "type": "barpolar"
                                            }
                                        ],
                                        "carpet": [
                                            {
                                                "aaxis": {
                                                    "endlinecolor": "#2a3f5f",
                                                    "gridcolor": "white",
                                                    "linecolor": "white",
                                                    "minorgridcolor": "white",
                                                    "startlinecolor": "#2a3f5f"
                                                },
                                                "baxis": {
                                                    "endlinecolor": "#2a3f5f",
                                                    "gridcolor": "white",
                                                    "linecolor": "white",
                                                    "minorgridcolor": "white",
                                                    "startlinecolor": "#2a3f5f"
                                                },
                                                "type": "carpet"
                                            }
                                        ],
                                        "choropleth": [
                                            {
                                                "colorbar": {
                                                    "outlinewidth": 0,
                                                    "ticks": ""
                                                },
                                                "type": "choropleth"
                                            }
                                        ],
                                        "contour": [
                                            {
                                                "colorbar": {
                                                    "outlinewidth": 0,
                                                    "ticks": ""
                                                },
                                                "colorscale": [
                                                    [
                                                        0,
                                                        "#0d0887"
                                                    ],
                                                    [
                                                        0.1111111111111111,
                                                        "#46039f"
                                                    ],
                                                    [
                                                        0.2222222222222222,
                                                        "#7201a8"
                                                    ],
                                                    [
                                                        0.3333333333333333,
                                                        "#9c179e"
                                                    ],
                                                    [
                                                        0.4444444444444444,
                                                        "#bd3786"
                                                    ],
                                                    [
                                                        0.5555555555555556,
                                                        "#d8576b"
                                                    ],
                                                    [
                                                        0.6666666666666666,
                                                        "#ed7953"
                                                    ],
                                                    [
                                                        0.7777777777777778,
                                                        "#fb9f3a"
                                                    ],
                                                    [
                                                        0.8888888888888888,
                                                        "#fdca26"
                                                    ],
                                                    [
                                                        1,
                                                        "#f0f921"
                                                    ]
                                                ],
                                                "type": "contour"
                                            }
                                        ],
                                        "contourcarpet": [
                                            {
                                                "colorbar": {
                                                    "outlinewidth": 0,
                                                    "ticks": ""
                                                },
                                                "type": "contourcarpet"
                                            }
                                        ],
                                        "heatmap": [
                                            {
                                                "colorbar": {
                                                    "outlinewidth": 0,
                                                    "ticks": ""
                                                },
                                                "colorscale": [
                                                    [
                                                        0,
                                                        "#0d0887"
                                                    ],
                                                    [
                                                        0.1111111111111111,
                                                        "#46039f"
                                                    ],
                                                    [
                                                        0.2222222222222222,
                                                        "#7201a8"
                                                    ],
                                                    [
                                                        0.3333333333333333,
                                                        "#9c179e"
                                                    ],
                                                    [
                                                        0.4444444444444444,
                                                        "#bd3786"
                                                    ],
                                                    [
                                                        0.5555555555555556,
                                                        "#d8576b"
                                                    ],
                                                    [
                                                        0.6666666666666666,
                                                        "#ed7953"
                                                    ],
                                                    [
                                                        0.7777777777777778,
                                                        "#fb9f3a"
                                                    ],
                                                    [
                                                        0.8888888888888888,
                                                        "#fdca26"
                                                    ],
                                                    [
                                                        1,
                                                        "#f0f921"
                                                    ]
                                                ],
                                                "type": "heatmap"
                                            }
                                        ],
                                        "heatmapgl": [
                                            {
                                                "colorbar": {
                                                    "outlinewidth": 0,
                                                    "ticks": ""
                                                },
                                                "colorscale": [
                                                    [
                                                        0,
                                                        "#0d0887"
                                                    ],
                                                    [
                                                        0.1111111111111111,
                                                        "#46039f"
                                                    ],
                                                    [
                                                        0.2222222222222222,
                                                        "#7201a8"
                                                    ],
                                                    [
                                                        0.3333333333333333,
                                                        "#9c179e"
                                                    ],
                                                    [
                                                        0.4444444444444444,
                                                        "#bd3786"
                                                    ],
                                                    [
                                                        0.5555555555555556,
                                                        "#d8576b"
                                                    ],
                                                    [
                                                        0.6666666666666666,
                                                        "#ed7953"
                                                    ],
                                                    [
                                                        0.7777777777777778,
                                                        "#fb9f3a"
                                                    ],
                                                    [
                                                        0.8888888888888888,
                                                        "#fdca26"
                                                    ],
                                                    [
                                                        1,
                                                        "#f0f921"
                                                    ]
                                                ],
                                                "type": "heatmapgl"
                                            }
                                        ],
                                        "histogram": [
                                            {
                                                "marker": {
                                                    "pattern": {
                                                        "fillmode": "overlay",
                                                        "size": 10,
                                                        "solidity": 0.2
                                                    }
                                                },
                                                "type": "histogram"
                                            }
                                        ],
                                        "histogram2d": [
                                            {
                                                "colorbar": {
                                                    "outlinewidth": 0,
                                                    "ticks": ""
                                                },
                                                "colorscale": [
                                                    [
                                                        0,
                                                        "#0d0887"
                                                    ],
                                                    [
                                                        0.1111111111111111,
                                                        "#46039f"
                                                    ],
                                                    [
                                                        0.2222222222222222,
                                                        "#7201a8"
                                                    ],
                                                    [
                                                        0.3333333333333333,
                                                        "#9c179e"
                                                    ],
                                                    [
                                                        0.4444444444444444,
                                                        "#bd3786"
                                                    ],
                                                    [
                                                        0.5555555555555556,
                                                        "#d8576b"
                                                    ],
                                                    [
                                                        0.6666666666666666,
                                                        "#ed7953"
                                                    ],
                                                    [
                                                        0.7777777777777778,
                                                        "#fb9f3a"
                                                    ],
                                                    [
                                                        0.8888888888888888,
                                                        "#fdca26"
                                                    ],
                                                    [
                                                        1,
                                                        "#f0f921"
                                                    ]
                                                ],
                                                "type": "histogram2d"
                                            }
                                        ],
                                        "histogram2dcontour": [
                                            {
                                                "colorbar": {
                                                    "outlinewidth": 0,
                                                    "ticks": ""
                                                },
                                                "colorscale": [
                                                    [
                                                        0,
                                                        "#0d0887"
                                                    ],
                                                    [
                                                        0.1111111111111111,
                                                        "#46039f"
                                                    ],
                                                    [
                                                        0.2222222222222222,
                                                        "#7201a8"
                                                    ],
                                                    [
                                                        0.3333333333333333,
                                                        "#9c179e"
                                                    ],
                                                    [
                                                        0.4444444444444444,
                                                        "#bd3786"
                                                    ],
                                                    [
                                                        0.5555555555555556,
                                                        "#d8576b"
                                                    ],
                                                    [
                                                        0.6666666666666666,
                                                        "#ed7953"
                                                    ],
                                                    [
                                                        0.7777777777777778,
                                                        "#fb9f3a"
                                                    ],
                                                    [
                                                        0.8888888888888888,
                                                        "#fdca26"
                                                    ],
                                                    [
                                                        1,
                                                        "#f0f921"
                                                    ]
                                                ],
                                                "type": "histogram2dcontour"
                                            }
                                        ],
                                        "mesh3d": [
                                            {
                                                "colorbar": {
                                                    "outlinewidth": 0,
                                                    "ticks": ""
                                                },
                                                "type": "mesh3d"
                                            }
                                        ],
                                        "parcoords": [
                                            {
                                                "line": {
                                                    "colorbar": {
                                                        "outlinewidth": 0,
                                                        "ticks": ""
                                                    }
                                                },
                                                "type": "parcoords"
                                            }
                                        ],
                                        "pie": [
                                            {
                                                "automargin": true,
                                                "type": "pie"
                                            }
                                        ],
                                        "scatter": [
                                            {
                                                "fillpattern": {
                                                    "fillmode": "overlay",
                                                    "size": 10,
                                                    "solidity": 0.2
                                                },
                                                "type": "scatter"
                                            }
                                        ],
                                        "scatter3d": [
                                            {
                                                "line": {
                                                    "colorbar": {
                                                        "outlinewidth": 0,
                                                        "ticks": ""
                                                    }
                                                },
                                                "marker": {
                                                    "colorbar": {
                                                        "outlinewidth": 0,
                                                        "ticks": ""
                                                    }
                                                },
                                                "type": "scatter3d"
                                            }
                                        ],
                                        "scattercarpet": [
                                            {
                                                "marker": {
                                                    "colorbar": {
                                                        "outlinewidth": 0,
                                                        "ticks": ""
                                                    }
                                                },
                                                "type": "scattercarpet"
                                            }
                                        ],
                                        "scattergeo": [
                                            {
                                                "marker": {
                                                    "colorbar": {
                                                        "outlinewidth": 0,
                                                        "ticks": ""
                                                    }
                                                },
                                                "type": "scattergeo"
                                            }
                                        ],
                                        "scattergl": [
                                            {
                                                "marker": {
                                                    "colorbar": {
                                                        "outlinewidth": 0,
                                                        "ticks": ""
                                                    }
                                                },
                                                "type": "scattergl"
                                            }
                                        ],
                                        "scattermapbox": [
                                            {
                                                "marker": {
                                                    "colorbar": {
                                                        "outlinewidth": 0,
                                                        "ticks": ""
                                                    }
                                                },
                                                "type": "scattermapbox"
                                            }
                                        ],
                                        "scatterpolar": [
                                            {
                                                "marker": {
                                                    "colorbar": {
                                                        "outlinewidth": 0,
                                                        "ticks": ""
                                                    }
                                                },
                                                "type": "scatterpolar"
                                            }
                                        ],
                                        "scatterpolargl": [
                                            {
                                                "marker": {
                                                    "colorbar": {
                                                        "outlinewidth": 0,
                                                        "ticks": ""
                                                    }
                                                },
                                                "type": "scatterpolargl"
                                            }
                                        ],
                                        "scatterternary": [
                                            {
                                                "marker": {
                                                    "colorbar": {
                                                        "outlinewidth": 0,
                                                        "ticks": ""
                                                    }
                                                },
                                                "type": "scatterternary"
                                            }
                                        ],
                                        "surface": [
                                            {
                                                "colorbar": {
                                                    "outlinewidth": 0,
                                                    "ticks": ""
                                                },
                                                "colorscale": [
                                                    [
                                                        0,
                                                        "#0d0887"
                                                    ],
                                                    [
                                                        0.1111111111111111,
                                                        "#46039f"
                                                    ],
                                                    [
                                                        0.2222222222222222,
                                                        "#7201a8"
                                                    ],
                                                    [
                                                        0.3333333333333333,
                                                        "#9c179e"
                                                    ],
                                                    [
                                                        0.4444444444444444,
                                                        "#bd3786"
                                                    ],
                                                    [
                                                        0.5555555555555556,
                                                        "#d8576b"
                                                    ],
                                                    [
                                                        0.6666666666666666,
                                                        "#ed7953"
                                                    ],
                                                    [
                                                        0.7777777777777778,
                                                        "#fb9f3a"
                                                    ],
                                                    [
                                                        0.8888888888888888,
                                                        "#fdca26"
                                                    ],
                                                    [
                                                        1,
                                                        "#f0f921"
                                                    ]
                                                ],
                                                "type": "surface"
                                            }
                                        ],
                                        "table": [
                                            {
                                                "cells": {
                                                    "fill": {
                                                        "color": "#EBF0F8"
                                                    },
                                                    "line": {
                                                        "color": "white"
                                                    }
                                                },
                                                "header": {
                                                    "fill": {
                                                        "color": "#C8D4E3"
                                                    },
                                                    "line": {
                                                        "color": "white"
                                                    }
                                                },
                                                "type": "table"
                                            }
                                        ]
                                    },
                                    "layout": {
                                        "annotationdefaults": {
                                            "arrowcolor": "#2a3f5f",
                                            "arrowhead": 0,
                                            "arrowwidth": 1
                                        },
                                        "autotypenumbers": "strict",
                                        "coloraxis": {
                                            "colorbar": {
                                                "outlinewidth": 0,
                                                "ticks": ""
                                            }
                                        },
                                        "colorscale": {
                                            "diverging": [
                                                [
                                                    0,
                                                    "#8e0152"
                                                ],
                                                [
                                                    0.1,
                                                    "#c51b7d"
                                                ],
                                                [
                                                    0.2,
                                                    "#de77ae"
                                                ],
                                                [
                                                    0.3,
                                                    "#f1b6da"
                                                ],
                                                [
                                                    0.4,
                                                    "#fde0ef"
                                                ],
                                                [
                                                    0.5,
                                                    "#f7f7f7"
                                                ],
                                                [
                                                    0.6,
                                                    "#e6f5d0"
                                                ],
                                                [
                                                    0.7,
                                                    "#b8e186"
                                                ],
                                                [
                                                    0.8,
                                                    "#7fbc41"
                                                ],
                                                [
                                                    0.9,
                                                    "#4d9221"
                                                ],
                                                [
                                                    1,
                                                    "#276419"
                                                ]
                                            ],
                                            "sequential": [
                                                [
                                                    0,
                                                    "#0d0887"
                                                ],
                                                [
                                                    0.1111111111111111,
                                                    "#46039f"
                                                ],
                                                [
                                                    0.2222222222222222,
                                                    "#7201a8"
                                                ],
                                                [
                                                    0.3333333333333333,
                                                    "#9c179e"
                                                ],
                                                [
                                                    0.4444444444444444,
                                                    "#bd3786"
                                                ],
                                                [
                                                    0.5555555555555556,
                                                    "#d8576b"
                                                ],
                                                [
                                                    0.6666666666666666,
                                                    "#ed7953"
                                                ],
                                                [
                                                    0.7777777777777778,
                                                    "#fb9f3a"
                                                ],
                                                [
                                                    0.8888888888888888,
                                                    "#fdca26"
                                                ],
                                                [
                                                    1,
                                                    "#f0f921"
                                                ]
                                            ],
                                            "sequentialminus": [
                                                [
                                                    0,
                                                    "#0d0887"
                                                ],
                                                [
                                                    0.1111111111111111,
                                                    "#46039f"
                                                ],
                                                [
                                                    0.2222222222222222,
                                                    "#7201a8"
                                                ],
                                                [
                                                    0.3333333333333333,
                                                    "#9c179e"
                                                ],
                                                [
                                                    0.4444444444444444,
                                                    "#bd3786"
                                                ],
                                                [
                                                    0.5555555555555556,
                                                    "#d8576b"
                                                ],
                                                [
                                                    0.6666666666666666,
                                                    "#ed7953"
                                                ],
                                                [
                                                    0.7777777777777778,
                                                    "#fb9f3a"
                                                ],
                                                [
                                                    0.8888888888888888,
                                                    "#fdca26"
                                                ],
                                                [
                                                    1,
                                                    "#f0f921"
                                                ]
                                            ]
                                        },
                                        "colorway": [
                                            "#636efa",
                                            "#EF553B",
                                            "#00cc96",
                                            "#ab63fa",
                                            "#FFA15A",
                                            "#19d3f3",
                                            "#FF6692",
                                            "#B6E880",
                                            "#FF97FF",
                                            "#FECB52"
                                        ],
                                        "font": {
                                            "color": "#2a3f5f"
                                        },
                                        "geo": {
                                            "bgcolor": "white",
                                            "lakecolor": "white",
                                            "landcolor": "#E5ECF6",
                                            "showlakes": true,
                                            "showland": true,
                                            "subunitcolor": "white"
                                        },
                                        "hoverlabel": {
                                            "align": "left"
                                        },
                                        "hovermode": "closest",
                                        "mapbox": {
                                            "style": "light"
                                        },
                                        "paper_bgcolor": "white",
                                        "plot_bgcolor": "#E5ECF6",
                                        "polar": {
                                            "angularaxis": {
                                                "gridcolor": "white",
                                                "linecolor": "white",
                                                "ticks": ""
                                            },
                                            "bgcolor": "#E5ECF6",
                                            "radialaxis": {
                                                "gridcolor": "white",
                                                "linecolor": "white",
                                                "ticks": ""
                                            }
                                        },
                                        "scene": {
                                            "xaxis": {
                                                "backgroundcolor": "#E5ECF6",
                                                "gridcolor": "white",
                                                "gridwidth": 2,
                                                "linecolor": "white",
                                                "showbackground": true,
                                                "ticks": "",
                                                "zerolinecolor": "white"
                                            },
                                            "yaxis": {
                                                "backgroundcolor": "#E5ECF6",
                                                "gridcolor": "white",
                                                "gridwidth": 2,
                                                "linecolor": "white",
                                                "showbackground": true,
                                                "ticks": "",
                                                "zerolinecolor": "white"
                                            },
                                            "zaxis": {
                                                "backgroundcolor": "#E5ECF6",
                                                "gridcolor": "white",
                                                "gridwidth": 2,
                                                "linecolor": "white",
                                                "showbackground": true,
                                                "ticks": "",
                                                "zerolinecolor": "white"
                                            }
                                        },
                                        "shapedefaults": {
                                            "line": {
                                                "color": "#2a3f5f"
                                            }
                                        },
                                        "ternary": {
                                            "aaxis": {
                                                "gridcolor": "white",
                                                "linecolor": "white",
                                                "ticks": ""
                                            },
                                            "baxis": {
                                                "gridcolor": "white",
                                                "linecolor": "white",
                                                "ticks": ""
                                            },
                                            "bgcolor": "#E5ECF6",
                                            "caxis": {
                                                "gridcolor": "white",
                                                "linecolor": "white",
                                                "ticks": ""
                                            }
                                        },
                                        "title": {
                                            "x": 0.05
                                        },
                                        "xaxis": {
                                            "automargin": true,
                                            "gridcolor": "white",
                                            "linecolor": "white",
                                            "ticks": "",
                                            "title": {
                                                "standoff": 15
                                            },
                                            "zerolinecolor": "white",
                                            "zerolinewidth": 2
                                        },
                                        "yaxis": {
                                            "automargin": true,
                                            "gridcolor": "white",
                                            "linecolor": "white",
                                            "ticks": "",
                                            "title": {
                                                "standoff": 15
                                            },
                                            "zerolinecolor": "white",
                                            "zerolinewidth": 2
                                        }
                                    }
                                },
                                "xaxis": {
                                    "anchor": "y",
                                    "domain": [
                                        0,
                                        1
                                    ],
                                    "title": {
                                        "text": "Evento"
                                    }
                                },
                                "yaxis": {
                                    "anchor": "x",
                                    "domain": [
                                        0,
                                        1
                                    ],
                                    "title": {
                                        "text": "Total de resumos"
                                    }
                                }
                            }
                        }
                    },
                    "metadata": {},
                    "output_type": "display_data"
                }
            ],
            "source": [
                "# gráfico de barras com coluna x = Evento e y = Quantidade\n",
                "fig = px.bar(df_evento, x='Evento', y='Total de resumos') \n",
                "\n",
                "fig.show()"
            ]
        },
        {
            "cell_type": "code",
            "execution_count": 27,
            "metadata": {},
            "outputs": [
                {
                    "data": {
                        "application/vnd.plotly.v1+json": {
                            "config": {
                                "plotlyServerURL": "https://plot.ly"
                            },
                            "data": [
                                {
                                    "alignmentgroup": "True",
                                    "hovertemplate": "Evento=%{x}<br>Total de resumos=%{y}<extra></extra>",
                                    "legendgroup": "",
                                    "marker": {
                                        "color": "#636efa",
                                        "pattern": {
                                            "shape": ""
                                        }
                                    },
                                    "name": "",
                                    "offsetgroup": "",
                                    "orientation": "v",
                                    "showlegend": false,
                                    "textposition": "auto",
                                    "type": "bar",
                                    "x": [
                                        "XXVII",
                                        "XXVIII",
                                        "XXIX",
                                        "XXX",
                                        "XXXI",
                                        "XXXII"
                                    ],
                                    "xaxis": "x",
                                    "y": [
                                        2678,
                                        2770,
                                        2802,
                                        3240,
                                        2729,
                                        2372
                                    ],
                                    "yaxis": "y"
                                }
                            ],
                            "layout": {
                                "barmode": "relative",
                                "legend": {
                                    "tracegroupgap": 0
                                },
                                "margin": {
                                    "t": 60
                                },
                                "template": {
                                    "data": {
                                        "bar": [
                                            {
                                                "error_x": {
                                                    "color": "#2a3f5f"
                                                },
                                                "error_y": {
                                                    "color": "#2a3f5f"
                                                },
                                                "marker": {
                                                    "line": {
                                                        "color": "#E5ECF6",
                                                        "width": 0.5
                                                    },
                                                    "pattern": {
                                                        "fillmode": "overlay",
                                                        "size": 10,
                                                        "solidity": 0.2
                                                    }
                                                },
                                                "type": "bar"
                                            }
                                        ],
                                        "barpolar": [
                                            {
                                                "marker": {
                                                    "line": {
                                                        "color": "#E5ECF6",
                                                        "width": 0.5
                                                    },
                                                    "pattern": {
                                                        "fillmode": "overlay",
                                                        "size": 10,
                                                        "solidity": 0.2
                                                    }
                                                },
                                                "type": "barpolar"
                                            }
                                        ],
                                        "carpet": [
                                            {
                                                "aaxis": {
                                                    "endlinecolor": "#2a3f5f",
                                                    "gridcolor": "white",
                                                    "linecolor": "white",
                                                    "minorgridcolor": "white",
                                                    "startlinecolor": "#2a3f5f"
                                                },
                                                "baxis": {
                                                    "endlinecolor": "#2a3f5f",
                                                    "gridcolor": "white",
                                                    "linecolor": "white",
                                                    "minorgridcolor": "white",
                                                    "startlinecolor": "#2a3f5f"
                                                },
                                                "type": "carpet"
                                            }
                                        ],
                                        "choropleth": [
                                            {
                                                "colorbar": {
                                                    "outlinewidth": 0,
                                                    "ticks": ""
                                                },
                                                "type": "choropleth"
                                            }
                                        ],
                                        "contour": [
                                            {
                                                "colorbar": {
                                                    "outlinewidth": 0,
                                                    "ticks": ""
                                                },
                                                "colorscale": [
                                                    [
                                                        0,
                                                        "#0d0887"
                                                    ],
                                                    [
                                                        0.1111111111111111,
                                                        "#46039f"
                                                    ],
                                                    [
                                                        0.2222222222222222,
                                                        "#7201a8"
                                                    ],
                                                    [
                                                        0.3333333333333333,
                                                        "#9c179e"
                                                    ],
                                                    [
                                                        0.4444444444444444,
                                                        "#bd3786"
                                                    ],
                                                    [
                                                        0.5555555555555556,
                                                        "#d8576b"
                                                    ],
                                                    [
                                                        0.6666666666666666,
                                                        "#ed7953"
                                                    ],
                                                    [
                                                        0.7777777777777778,
                                                        "#fb9f3a"
                                                    ],
                                                    [
                                                        0.8888888888888888,
                                                        "#fdca26"
                                                    ],
                                                    [
                                                        1,
                                                        "#f0f921"
                                                    ]
                                                ],
                                                "type": "contour"
                                            }
                                        ],
                                        "contourcarpet": [
                                            {
                                                "colorbar": {
                                                    "outlinewidth": 0,
                                                    "ticks": ""
                                                },
                                                "type": "contourcarpet"
                                            }
                                        ],
                                        "heatmap": [
                                            {
                                                "colorbar": {
                                                    "outlinewidth": 0,
                                                    "ticks": ""
                                                },
                                                "colorscale": [
                                                    [
                                                        0,
                                                        "#0d0887"
                                                    ],
                                                    [
                                                        0.1111111111111111,
                                                        "#46039f"
                                                    ],
                                                    [
                                                        0.2222222222222222,
                                                        "#7201a8"
                                                    ],
                                                    [
                                                        0.3333333333333333,
                                                        "#9c179e"
                                                    ],
                                                    [
                                                        0.4444444444444444,
                                                        "#bd3786"
                                                    ],
                                                    [
                                                        0.5555555555555556,
                                                        "#d8576b"
                                                    ],
                                                    [
                                                        0.6666666666666666,
                                                        "#ed7953"
                                                    ],
                                                    [
                                                        0.7777777777777778,
                                                        "#fb9f3a"
                                                    ],
                                                    [
                                                        0.8888888888888888,
                                                        "#fdca26"
                                                    ],
                                                    [
                                                        1,
                                                        "#f0f921"
                                                    ]
                                                ],
                                                "type": "heatmap"
                                            }
                                        ],
                                        "heatmapgl": [
                                            {
                                                "colorbar": {
                                                    "outlinewidth": 0,
                                                    "ticks": ""
                                                },
                                                "colorscale": [
                                                    [
                                                        0,
                                                        "#0d0887"
                                                    ],
                                                    [
                                                        0.1111111111111111,
                                                        "#46039f"
                                                    ],
                                                    [
                                                        0.2222222222222222,
                                                        "#7201a8"
                                                    ],
                                                    [
                                                        0.3333333333333333,
                                                        "#9c179e"
                                                    ],
                                                    [
                                                        0.4444444444444444,
                                                        "#bd3786"
                                                    ],
                                                    [
                                                        0.5555555555555556,
                                                        "#d8576b"
                                                    ],
                                                    [
                                                        0.6666666666666666,
                                                        "#ed7953"
                                                    ],
                                                    [
                                                        0.7777777777777778,
                                                        "#fb9f3a"
                                                    ],
                                                    [
                                                        0.8888888888888888,
                                                        "#fdca26"
                                                    ],
                                                    [
                                                        1,
                                                        "#f0f921"
                                                    ]
                                                ],
                                                "type": "heatmapgl"
                                            }
                                        ],
                                        "histogram": [
                                            {
                                                "marker": {
                                                    "pattern": {
                                                        "fillmode": "overlay",
                                                        "size": 10,
                                                        "solidity": 0.2
                                                    }
                                                },
                                                "type": "histogram"
                                            }
                                        ],
                                        "histogram2d": [
                                            {
                                                "colorbar": {
                                                    "outlinewidth": 0,
                                                    "ticks": ""
                                                },
                                                "colorscale": [
                                                    [
                                                        0,
                                                        "#0d0887"
                                                    ],
                                                    [
                                                        0.1111111111111111,
                                                        "#46039f"
                                                    ],
                                                    [
                                                        0.2222222222222222,
                                                        "#7201a8"
                                                    ],
                                                    [
                                                        0.3333333333333333,
                                                        "#9c179e"
                                                    ],
                                                    [
                                                        0.4444444444444444,
                                                        "#bd3786"
                                                    ],
                                                    [
                                                        0.5555555555555556,
                                                        "#d8576b"
                                                    ],
                                                    [
                                                        0.6666666666666666,
                                                        "#ed7953"
                                                    ],
                                                    [
                                                        0.7777777777777778,
                                                        "#fb9f3a"
                                                    ],
                                                    [
                                                        0.8888888888888888,
                                                        "#fdca26"
                                                    ],
                                                    [
                                                        1,
                                                        "#f0f921"
                                                    ]
                                                ],
                                                "type": "histogram2d"
                                            }
                                        ],
                                        "histogram2dcontour": [
                                            {
                                                "colorbar": {
                                                    "outlinewidth": 0,
                                                    "ticks": ""
                                                },
                                                "colorscale": [
                                                    [
                                                        0,
                                                        "#0d0887"
                                                    ],
                                                    [
                                                        0.1111111111111111,
                                                        "#46039f"
                                                    ],
                                                    [
                                                        0.2222222222222222,
                                                        "#7201a8"
                                                    ],
                                                    [
                                                        0.3333333333333333,
                                                        "#9c179e"
                                                    ],
                                                    [
                                                        0.4444444444444444,
                                                        "#bd3786"
                                                    ],
                                                    [
                                                        0.5555555555555556,
                                                        "#d8576b"
                                                    ],
                                                    [
                                                        0.6666666666666666,
                                                        "#ed7953"
                                                    ],
                                                    [
                                                        0.7777777777777778,
                                                        "#fb9f3a"
                                                    ],
                                                    [
                                                        0.8888888888888888,
                                                        "#fdca26"
                                                    ],
                                                    [
                                                        1,
                                                        "#f0f921"
                                                    ]
                                                ],
                                                "type": "histogram2dcontour"
                                            }
                                        ],
                                        "mesh3d": [
                                            {
                                                "colorbar": {
                                                    "outlinewidth": 0,
                                                    "ticks": ""
                                                },
                                                "type": "mesh3d"
                                            }
                                        ],
                                        "parcoords": [
                                            {
                                                "line": {
                                                    "colorbar": {
                                                        "outlinewidth": 0,
                                                        "ticks": ""
                                                    }
                                                },
                                                "type": "parcoords"
                                            }
                                        ],
                                        "pie": [
                                            {
                                                "automargin": true,
                                                "type": "pie"
                                            }
                                        ],
                                        "scatter": [
                                            {
                                                "fillpattern": {
                                                    "fillmode": "overlay",
                                                    "size": 10,
                                                    "solidity": 0.2
                                                },
                                                "type": "scatter"
                                            }
                                        ],
                                        "scatter3d": [
                                            {
                                                "line": {
                                                    "colorbar": {
                                                        "outlinewidth": 0,
                                                        "ticks": ""
                                                    }
                                                },
                                                "marker": {
                                                    "colorbar": {
                                                        "outlinewidth": 0,
                                                        "ticks": ""
                                                    }
                                                },
                                                "type": "scatter3d"
                                            }
                                        ],
                                        "scattercarpet": [
                                            {
                                                "marker": {
                                                    "colorbar": {
                                                        "outlinewidth": 0,
                                                        "ticks": ""
                                                    }
                                                },
                                                "type": "scattercarpet"
                                            }
                                        ],
                                        "scattergeo": [
                                            {
                                                "marker": {
                                                    "colorbar": {
                                                        "outlinewidth": 0,
                                                        "ticks": ""
                                                    }
                                                },
                                                "type": "scattergeo"
                                            }
                                        ],
                                        "scattergl": [
                                            {
                                                "marker": {
                                                    "colorbar": {
                                                        "outlinewidth": 0,
                                                        "ticks": ""
                                                    }
                                                },
                                                "type": "scattergl"
                                            }
                                        ],
                                        "scattermapbox": [
                                            {
                                                "marker": {
                                                    "colorbar": {
                                                        "outlinewidth": 0,
                                                        "ticks": ""
                                                    }
                                                },
                                                "type": "scattermapbox"
                                            }
                                        ],
                                        "scatterpolar": [
                                            {
                                                "marker": {
                                                    "colorbar": {
                                                        "outlinewidth": 0,
                                                        "ticks": ""
                                                    }
                                                },
                                                "type": "scatterpolar"
                                            }
                                        ],
                                        "scatterpolargl": [
                                            {
                                                "marker": {
                                                    "colorbar": {
                                                        "outlinewidth": 0,
                                                        "ticks": ""
                                                    }
                                                },
                                                "type": "scatterpolargl"
                                            }
                                        ],
                                        "scatterternary": [
                                            {
                                                "marker": {
                                                    "colorbar": {
                                                        "outlinewidth": 0,
                                                        "ticks": ""
                                                    }
                                                },
                                                "type": "scatterternary"
                                            }
                                        ],
                                        "surface": [
                                            {
                                                "colorbar": {
                                                    "outlinewidth": 0,
                                                    "ticks": ""
                                                },
                                                "colorscale": [
                                                    [
                                                        0,
                                                        "#0d0887"
                                                    ],
                                                    [
                                                        0.1111111111111111,
                                                        "#46039f"
                                                    ],
                                                    [
                                                        0.2222222222222222,
                                                        "#7201a8"
                                                    ],
                                                    [
                                                        0.3333333333333333,
                                                        "#9c179e"
                                                    ],
                                                    [
                                                        0.4444444444444444,
                                                        "#bd3786"
                                                    ],
                                                    [
                                                        0.5555555555555556,
                                                        "#d8576b"
                                                    ],
                                                    [
                                                        0.6666666666666666,
                                                        "#ed7953"
                                                    ],
                                                    [
                                                        0.7777777777777778,
                                                        "#fb9f3a"
                                                    ],
                                                    [
                                                        0.8888888888888888,
                                                        "#fdca26"
                                                    ],
                                                    [
                                                        1,
                                                        "#f0f921"
                                                    ]
                                                ],
                                                "type": "surface"
                                            }
                                        ],
                                        "table": [
                                            {
                                                "cells": {
                                                    "fill": {
                                                        "color": "#EBF0F8"
                                                    },
                                                    "line": {
                                                        "color": "white"
                                                    }
                                                },
                                                "header": {
                                                    "fill": {
                                                        "color": "#C8D4E3"
                                                    },
                                                    "line": {
                                                        "color": "white"
                                                    }
                                                },
                                                "type": "table"
                                            }
                                        ]
                                    },
                                    "layout": {
                                        "annotationdefaults": {
                                            "arrowcolor": "#2a3f5f",
                                            "arrowhead": 0,
                                            "arrowwidth": 1
                                        },
                                        "autotypenumbers": "strict",
                                        "coloraxis": {
                                            "colorbar": {
                                                "outlinewidth": 0,
                                                "ticks": ""
                                            }
                                        },
                                        "colorscale": {
                                            "diverging": [
                                                [
                                                    0,
                                                    "#8e0152"
                                                ],
                                                [
                                                    0.1,
                                                    "#c51b7d"
                                                ],
                                                [
                                                    0.2,
                                                    "#de77ae"
                                                ],
                                                [
                                                    0.3,
                                                    "#f1b6da"
                                                ],
                                                [
                                                    0.4,
                                                    "#fde0ef"
                                                ],
                                                [
                                                    0.5,
                                                    "#f7f7f7"
                                                ],
                                                [
                                                    0.6,
                                                    "#e6f5d0"
                                                ],
                                                [
                                                    0.7,
                                                    "#b8e186"
                                                ],
                                                [
                                                    0.8,
                                                    "#7fbc41"
                                                ],
                                                [
                                                    0.9,
                                                    "#4d9221"
                                                ],
                                                [
                                                    1,
                                                    "#276419"
                                                ]
                                            ],
                                            "sequential": [
                                                [
                                                    0,
                                                    "#0d0887"
                                                ],
                                                [
                                                    0.1111111111111111,
                                                    "#46039f"
                                                ],
                                                [
                                                    0.2222222222222222,
                                                    "#7201a8"
                                                ],
                                                [
                                                    0.3333333333333333,
                                                    "#9c179e"
                                                ],
                                                [
                                                    0.4444444444444444,
                                                    "#bd3786"
                                                ],
                                                [
                                                    0.5555555555555556,
                                                    "#d8576b"
                                                ],
                                                [
                                                    0.6666666666666666,
                                                    "#ed7953"
                                                ],
                                                [
                                                    0.7777777777777778,
                                                    "#fb9f3a"
                                                ],
                                                [
                                                    0.8888888888888888,
                                                    "#fdca26"
                                                ],
                                                [
                                                    1,
                                                    "#f0f921"
                                                ]
                                            ],
                                            "sequentialminus": [
                                                [
                                                    0,
                                                    "#0d0887"
                                                ],
                                                [
                                                    0.1111111111111111,
                                                    "#46039f"
                                                ],
                                                [
                                                    0.2222222222222222,
                                                    "#7201a8"
                                                ],
                                                [
                                                    0.3333333333333333,
                                                    "#9c179e"
                                                ],
                                                [
                                                    0.4444444444444444,
                                                    "#bd3786"
                                                ],
                                                [
                                                    0.5555555555555556,
                                                    "#d8576b"
                                                ],
                                                [
                                                    0.6666666666666666,
                                                    "#ed7953"
                                                ],
                                                [
                                                    0.7777777777777778,
                                                    "#fb9f3a"
                                                ],
                                                [
                                                    0.8888888888888888,
                                                    "#fdca26"
                                                ],
                                                [
                                                    1,
                                                    "#f0f921"
                                                ]
                                            ]
                                        },
                                        "colorway": [
                                            "#636efa",
                                            "#EF553B",
                                            "#00cc96",
                                            "#ab63fa",
                                            "#FFA15A",
                                            "#19d3f3",
                                            "#FF6692",
                                            "#B6E880",
                                            "#FF97FF",
                                            "#FECB52"
                                        ],
                                        "font": {
                                            "color": "#2a3f5f"
                                        },
                                        "geo": {
                                            "bgcolor": "white",
                                            "lakecolor": "white",
                                            "landcolor": "#E5ECF6",
                                            "showlakes": true,
                                            "showland": true,
                                            "subunitcolor": "white"
                                        },
                                        "hoverlabel": {
                                            "align": "left"
                                        },
                                        "hovermode": "closest",
                                        "mapbox": {
                                            "style": "light"
                                        },
                                        "paper_bgcolor": "white",
                                        "plot_bgcolor": "#E5ECF6",
                                        "polar": {
                                            "angularaxis": {
                                                "gridcolor": "white",
                                                "linecolor": "white",
                                                "ticks": ""
                                            },
                                            "bgcolor": "#E5ECF6",
                                            "radialaxis": {
                                                "gridcolor": "white",
                                                "linecolor": "white",
                                                "ticks": ""
                                            }
                                        },
                                        "scene": {
                                            "xaxis": {
                                                "backgroundcolor": "#E5ECF6",
                                                "gridcolor": "white",
                                                "gridwidth": 2,
                                                "linecolor": "white",
                                                "showbackground": true,
                                                "ticks": "",
                                                "zerolinecolor": "white"
                                            },
                                            "yaxis": {
                                                "backgroundcolor": "#E5ECF6",
                                                "gridcolor": "white",
                                                "gridwidth": 2,
                                                "linecolor": "white",
                                                "showbackground": true,
                                                "ticks": "",
                                                "zerolinecolor": "white"
                                            },
                                            "zaxis": {
                                                "backgroundcolor": "#E5ECF6",
                                                "gridcolor": "white",
                                                "gridwidth": 2,
                                                "linecolor": "white",
                                                "showbackground": true,
                                                "ticks": "",
                                                "zerolinecolor": "white"
                                            }
                                        },
                                        "shapedefaults": {
                                            "line": {
                                                "color": "#2a3f5f"
                                            }
                                        },
                                        "ternary": {
                                            "aaxis": {
                                                "gridcolor": "white",
                                                "linecolor": "white",
                                                "ticks": ""
                                            },
                                            "baxis": {
                                                "gridcolor": "white",
                                                "linecolor": "white",
                                                "ticks": ""
                                            },
                                            "bgcolor": "#E5ECF6",
                                            "caxis": {
                                                "gridcolor": "white",
                                                "linecolor": "white",
                                                "ticks": ""
                                            }
                                        },
                                        "title": {
                                            "x": 0.05
                                        },
                                        "xaxis": {
                                            "automargin": true,
                                            "gridcolor": "white",
                                            "linecolor": "white",
                                            "ticks": "",
                                            "title": {
                                                "standoff": 15
                                            },
                                            "zerolinecolor": "white",
                                            "zerolinewidth": 2
                                        },
                                        "yaxis": {
                                            "automargin": true,
                                            "gridcolor": "white",
                                            "linecolor": "white",
                                            "ticks": "",
                                            "title": {
                                                "standoff": 15
                                            },
                                            "zerolinecolor": "white",
                                            "zerolinewidth": 2
                                        }
                                    }
                                },
                                "title": {
                                    "text": "Quantidade de resumos por ano"
                                },
                                "xaxis": {
                                    "anchor": "y",
                                    "domain": [
                                        0,
                                        1
                                    ],
                                    "title": {
                                        "text": "Evento"
                                    }
                                },
                                "yaxis": {
                                    "anchor": "x",
                                    "domain": [
                                        0,
                                        1
                                    ],
                                    "title": {
                                        "text": "Total de resumos"
                                    }
                                }
                            }
                        }
                    },
                    "metadata": {},
                    "output_type": "display_data"
                }
            ],
            "source": [
                "# atualizar o layout do gráfico, incluindo título\n",
                "fig.update_layout(title_text='Quantidade de resumos por ano')\n",
                "fig.show()"
            ]
        },
        {
            "cell_type": "code",
            "execution_count": 28,
            "metadata": {},
            "outputs": [],
            "source": [
                "#salvar o gráfico em um arquivo html e png\n",
                "fig.write_html(f'{output_file}.html')\n",
                "fig.write_image(f'{output_file}.png')"
            ]
        },
        {
            "cell_type": "markdown",
            "metadata": {},
            "source": [
                "### Filtrar usando múltiplas colunas"
            ]
        },
        {
            "cell_type": "code",
            "execution_count": 29,
            "metadata": {},
            "outputs": [
                {
                    "data": {
                        "text/plain": [
                            "Index(['Ano', 'Evento', 'Cidade', 'ST', 'Coordenadores',\n",
                            "       'Autor(es)/Instituições', 'Título', 'Resumo'],\n",
                            "      dtype='object')"
                        ]
                    },
                    "execution_count": 29,
                    "metadata": {},
                    "output_type": "execute_result"
                }
            ],
            "source": [
                "df.columns"
            ]
        },
        {
            "cell_type": "code",
            "execution_count": 30,
            "metadata": {},
            "outputs": [
                {
                    "data": {
                        "text/plain": [
                            "Ano   Evento  Cidade        \n",
                            "2013  XXVII   Natal             2678\n",
                            "2015  XXVIII  Florianópolis     2770\n",
                            "2017  XXIX    Brasília          2802\n",
                            "2019  XXX     Recife            3240\n",
                            "2021  XXXI    Rio de Janeiro    2729\n",
                            "2023  XXXII   São Luís          2372\n",
                            "dtype: int64"
                        ]
                    },
                    "execution_count": 30,
                    "metadata": {},
                    "output_type": "execute_result"
                }
            ],
            "source": [
                "df_ano_evento = df.filter(items=['Ano', 'Evento', 'Cidade'])\\\n",
                "    .groupby(['Ano', 'Evento', 'Cidade'])\\\n",
                "    .size()\n",
                "df_ano_evento"
            ]
        },
        {
            "cell_type": "code",
            "execution_count": 31,
            "metadata": {},
            "outputs": [
                {
                    "data": {
                        "text/html": [
                            "<div>\n",
                            "<style scoped>\n",
                            "    .dataframe tbody tr th:only-of-type {\n",
                            "        vertical-align: middle;\n",
                            "    }\n",
                            "\n",
                            "    .dataframe tbody tr th {\n",
                            "        vertical-align: top;\n",
                            "    }\n",
                            "\n",
                            "    .dataframe thead th {\n",
                            "        text-align: right;\n",
                            "    }\n",
                            "</style>\n",
                            "<table border=\"1\" class=\"dataframe\">\n",
                            "  <thead>\n",
                            "    <tr style=\"text-align: right;\">\n",
                            "      <th></th>\n",
                            "      <th>Ano</th>\n",
                            "      <th>Evento</th>\n",
                            "      <th>Cidade</th>\n",
                            "      <th>Total de resumos</th>\n",
                            "    </tr>\n",
                            "  </thead>\n",
                            "  <tbody>\n",
                            "    <tr>\n",
                            "      <th>0</th>\n",
                            "      <td>2013</td>\n",
                            "      <td>XXVII</td>\n",
                            "      <td>Natal</td>\n",
                            "      <td>2678</td>\n",
                            "    </tr>\n",
                            "    <tr>\n",
                            "      <th>1</th>\n",
                            "      <td>2015</td>\n",
                            "      <td>XXVIII</td>\n",
                            "      <td>Florianópolis</td>\n",
                            "      <td>2770</td>\n",
                            "    </tr>\n",
                            "    <tr>\n",
                            "      <th>2</th>\n",
                            "      <td>2017</td>\n",
                            "      <td>XXIX</td>\n",
                            "      <td>Brasília</td>\n",
                            "      <td>2802</td>\n",
                            "    </tr>\n",
                            "    <tr>\n",
                            "      <th>3</th>\n",
                            "      <td>2019</td>\n",
                            "      <td>XXX</td>\n",
                            "      <td>Recife</td>\n",
                            "      <td>3240</td>\n",
                            "    </tr>\n",
                            "    <tr>\n",
                            "      <th>4</th>\n",
                            "      <td>2021</td>\n",
                            "      <td>XXXI</td>\n",
                            "      <td>Rio de Janeiro</td>\n",
                            "      <td>2729</td>\n",
                            "    </tr>\n",
                            "    <tr>\n",
                            "      <th>5</th>\n",
                            "      <td>2023</td>\n",
                            "      <td>XXXII</td>\n",
                            "      <td>São Luís</td>\n",
                            "      <td>2372</td>\n",
                            "    </tr>\n",
                            "  </tbody>\n",
                            "</table>\n",
                            "</div>"
                        ],
                        "text/plain": [
                            "    Ano  Evento          Cidade  Total de resumos\n",
                            "0  2013   XXVII           Natal              2678\n",
                            "1  2015  XXVIII   Florianópolis              2770\n",
                            "2  2017    XXIX        Brasília              2802\n",
                            "3  2019     XXX          Recife              3240\n",
                            "4  2021    XXXI  Rio de Janeiro              2729\n",
                            "5  2023   XXXII        São Luís              2372"
                        ]
                    },
                    "execution_count": 31,
                    "metadata": {},
                    "output_type": "execute_result"
                }
            ],
            "source": [
                "df_ano_evento = df_ano_evento.reset_index()\n",
                "df_ano_evento.columns = ['Ano', 'Evento', 'Cidade', 'Total de resumos']\n",
                "df_ano_evento"
            ]
        },
        {
            "cell_type": "code",
            "execution_count": 32,
            "metadata": {},
            "outputs": [
                {
                    "data": {
                        "application/vnd.plotly.v1+json": {
                            "config": {
                                "plotlyServerURL": "https://plot.ly"
                            },
                            "data": [
                                {
                                    "alignmentgroup": "True",
                                    "hovertemplate": "Ano=%{x}<br>Total de resumos=%{y}<extra></extra>",
                                    "legendgroup": "",
                                    "marker": {
                                        "color": "#636efa",
                                        "pattern": {
                                            "shape": ""
                                        }
                                    },
                                    "name": "",
                                    "offsetgroup": "",
                                    "orientation": "v",
                                    "showlegend": false,
                                    "textposition": "auto",
                                    "type": "bar",
                                    "x": [
                                        2013,
                                        2015,
                                        2017,
                                        2019,
                                        2021,
                                        2023
                                    ],
                                    "xaxis": "x",
                                    "y": [
                                        2678,
                                        2770,
                                        2802,
                                        3240,
                                        2729,
                                        2372
                                    ],
                                    "yaxis": "y"
                                }
                            ],
                            "layout": {
                                "barmode": "relative",
                                "legend": {
                                    "tracegroupgap": 0
                                },
                                "template": {
                                    "data": {
                                        "bar": [
                                            {
                                                "error_x": {
                                                    "color": "#2a3f5f"
                                                },
                                                "error_y": {
                                                    "color": "#2a3f5f"
                                                },
                                                "marker": {
                                                    "line": {
                                                        "color": "#E5ECF6",
                                                        "width": 0.5
                                                    },
                                                    "pattern": {
                                                        "fillmode": "overlay",
                                                        "size": 10,
                                                        "solidity": 0.2
                                                    }
                                                },
                                                "type": "bar"
                                            }
                                        ],
                                        "barpolar": [
                                            {
                                                "marker": {
                                                    "line": {
                                                        "color": "#E5ECF6",
                                                        "width": 0.5
                                                    },
                                                    "pattern": {
                                                        "fillmode": "overlay",
                                                        "size": 10,
                                                        "solidity": 0.2
                                                    }
                                                },
                                                "type": "barpolar"
                                            }
                                        ],
                                        "carpet": [
                                            {
                                                "aaxis": {
                                                    "endlinecolor": "#2a3f5f",
                                                    "gridcolor": "white",
                                                    "linecolor": "white",
                                                    "minorgridcolor": "white",
                                                    "startlinecolor": "#2a3f5f"
                                                },
                                                "baxis": {
                                                    "endlinecolor": "#2a3f5f",
                                                    "gridcolor": "white",
                                                    "linecolor": "white",
                                                    "minorgridcolor": "white",
                                                    "startlinecolor": "#2a3f5f"
                                                },
                                                "type": "carpet"
                                            }
                                        ],
                                        "choropleth": [
                                            {
                                                "colorbar": {
                                                    "outlinewidth": 0,
                                                    "ticks": ""
                                                },
                                                "type": "choropleth"
                                            }
                                        ],
                                        "contour": [
                                            {
                                                "colorbar": {
                                                    "outlinewidth": 0,
                                                    "ticks": ""
                                                },
                                                "colorscale": [
                                                    [
                                                        0,
                                                        "#0d0887"
                                                    ],
                                                    [
                                                        0.1111111111111111,
                                                        "#46039f"
                                                    ],
                                                    [
                                                        0.2222222222222222,
                                                        "#7201a8"
                                                    ],
                                                    [
                                                        0.3333333333333333,
                                                        "#9c179e"
                                                    ],
                                                    [
                                                        0.4444444444444444,
                                                        "#bd3786"
                                                    ],
                                                    [
                                                        0.5555555555555556,
                                                        "#d8576b"
                                                    ],
                                                    [
                                                        0.6666666666666666,
                                                        "#ed7953"
                                                    ],
                                                    [
                                                        0.7777777777777778,
                                                        "#fb9f3a"
                                                    ],
                                                    [
                                                        0.8888888888888888,
                                                        "#fdca26"
                                                    ],
                                                    [
                                                        1,
                                                        "#f0f921"
                                                    ]
                                                ],
                                                "type": "contour"
                                            }
                                        ],
                                        "contourcarpet": [
                                            {
                                                "colorbar": {
                                                    "outlinewidth": 0,
                                                    "ticks": ""
                                                },
                                                "type": "contourcarpet"
                                            }
                                        ],
                                        "heatmap": [
                                            {
                                                "colorbar": {
                                                    "outlinewidth": 0,
                                                    "ticks": ""
                                                },
                                                "colorscale": [
                                                    [
                                                        0,
                                                        "#0d0887"
                                                    ],
                                                    [
                                                        0.1111111111111111,
                                                        "#46039f"
                                                    ],
                                                    [
                                                        0.2222222222222222,
                                                        "#7201a8"
                                                    ],
                                                    [
                                                        0.3333333333333333,
                                                        "#9c179e"
                                                    ],
                                                    [
                                                        0.4444444444444444,
                                                        "#bd3786"
                                                    ],
                                                    [
                                                        0.5555555555555556,
                                                        "#d8576b"
                                                    ],
                                                    [
                                                        0.6666666666666666,
                                                        "#ed7953"
                                                    ],
                                                    [
                                                        0.7777777777777778,
                                                        "#fb9f3a"
                                                    ],
                                                    [
                                                        0.8888888888888888,
                                                        "#fdca26"
                                                    ],
                                                    [
                                                        1,
                                                        "#f0f921"
                                                    ]
                                                ],
                                                "type": "heatmap"
                                            }
                                        ],
                                        "heatmapgl": [
                                            {
                                                "colorbar": {
                                                    "outlinewidth": 0,
                                                    "ticks": ""
                                                },
                                                "colorscale": [
                                                    [
                                                        0,
                                                        "#0d0887"
                                                    ],
                                                    [
                                                        0.1111111111111111,
                                                        "#46039f"
                                                    ],
                                                    [
                                                        0.2222222222222222,
                                                        "#7201a8"
                                                    ],
                                                    [
                                                        0.3333333333333333,
                                                        "#9c179e"
                                                    ],
                                                    [
                                                        0.4444444444444444,
                                                        "#bd3786"
                                                    ],
                                                    [
                                                        0.5555555555555556,
                                                        "#d8576b"
                                                    ],
                                                    [
                                                        0.6666666666666666,
                                                        "#ed7953"
                                                    ],
                                                    [
                                                        0.7777777777777778,
                                                        "#fb9f3a"
                                                    ],
                                                    [
                                                        0.8888888888888888,
                                                        "#fdca26"
                                                    ],
                                                    [
                                                        1,
                                                        "#f0f921"
                                                    ]
                                                ],
                                                "type": "heatmapgl"
                                            }
                                        ],
                                        "histogram": [
                                            {
                                                "marker": {
                                                    "pattern": {
                                                        "fillmode": "overlay",
                                                        "size": 10,
                                                        "solidity": 0.2
                                                    }
                                                },
                                                "type": "histogram"
                                            }
                                        ],
                                        "histogram2d": [
                                            {
                                                "colorbar": {
                                                    "outlinewidth": 0,
                                                    "ticks": ""
                                                },
                                                "colorscale": [
                                                    [
                                                        0,
                                                        "#0d0887"
                                                    ],
                                                    [
                                                        0.1111111111111111,
                                                        "#46039f"
                                                    ],
                                                    [
                                                        0.2222222222222222,
                                                        "#7201a8"
                                                    ],
                                                    [
                                                        0.3333333333333333,
                                                        "#9c179e"
                                                    ],
                                                    [
                                                        0.4444444444444444,
                                                        "#bd3786"
                                                    ],
                                                    [
                                                        0.5555555555555556,
                                                        "#d8576b"
                                                    ],
                                                    [
                                                        0.6666666666666666,
                                                        "#ed7953"
                                                    ],
                                                    [
                                                        0.7777777777777778,
                                                        "#fb9f3a"
                                                    ],
                                                    [
                                                        0.8888888888888888,
                                                        "#fdca26"
                                                    ],
                                                    [
                                                        1,
                                                        "#f0f921"
                                                    ]
                                                ],
                                                "type": "histogram2d"
                                            }
                                        ],
                                        "histogram2dcontour": [
                                            {
                                                "colorbar": {
                                                    "outlinewidth": 0,
                                                    "ticks": ""
                                                },
                                                "colorscale": [
                                                    [
                                                        0,
                                                        "#0d0887"
                                                    ],
                                                    [
                                                        0.1111111111111111,
                                                        "#46039f"
                                                    ],
                                                    [
                                                        0.2222222222222222,
                                                        "#7201a8"
                                                    ],
                                                    [
                                                        0.3333333333333333,
                                                        "#9c179e"
                                                    ],
                                                    [
                                                        0.4444444444444444,
                                                        "#bd3786"
                                                    ],
                                                    [
                                                        0.5555555555555556,
                                                        "#d8576b"
                                                    ],
                                                    [
                                                        0.6666666666666666,
                                                        "#ed7953"
                                                    ],
                                                    [
                                                        0.7777777777777778,
                                                        "#fb9f3a"
                                                    ],
                                                    [
                                                        0.8888888888888888,
                                                        "#fdca26"
                                                    ],
                                                    [
                                                        1,
                                                        "#f0f921"
                                                    ]
                                                ],
                                                "type": "histogram2dcontour"
                                            }
                                        ],
                                        "mesh3d": [
                                            {
                                                "colorbar": {
                                                    "outlinewidth": 0,
                                                    "ticks": ""
                                                },
                                                "type": "mesh3d"
                                            }
                                        ],
                                        "parcoords": [
                                            {
                                                "line": {
                                                    "colorbar": {
                                                        "outlinewidth": 0,
                                                        "ticks": ""
                                                    }
                                                },
                                                "type": "parcoords"
                                            }
                                        ],
                                        "pie": [
                                            {
                                                "automargin": true,
                                                "type": "pie"
                                            }
                                        ],
                                        "scatter": [
                                            {
                                                "fillpattern": {
                                                    "fillmode": "overlay",
                                                    "size": 10,
                                                    "solidity": 0.2
                                                },
                                                "type": "scatter"
                                            }
                                        ],
                                        "scatter3d": [
                                            {
                                                "line": {
                                                    "colorbar": {
                                                        "outlinewidth": 0,
                                                        "ticks": ""
                                                    }
                                                },
                                                "marker": {
                                                    "colorbar": {
                                                        "outlinewidth": 0,
                                                        "ticks": ""
                                                    }
                                                },
                                                "type": "scatter3d"
                                            }
                                        ],
                                        "scattercarpet": [
                                            {
                                                "marker": {
                                                    "colorbar": {
                                                        "outlinewidth": 0,
                                                        "ticks": ""
                                                    }
                                                },
                                                "type": "scattercarpet"
                                            }
                                        ],
                                        "scattergeo": [
                                            {
                                                "marker": {
                                                    "colorbar": {
                                                        "outlinewidth": 0,
                                                        "ticks": ""
                                                    }
                                                },
                                                "type": "scattergeo"
                                            }
                                        ],
                                        "scattergl": [
                                            {
                                                "marker": {
                                                    "colorbar": {
                                                        "outlinewidth": 0,
                                                        "ticks": ""
                                                    }
                                                },
                                                "type": "scattergl"
                                            }
                                        ],
                                        "scattermapbox": [
                                            {
                                                "marker": {
                                                    "colorbar": {
                                                        "outlinewidth": 0,
                                                        "ticks": ""
                                                    }
                                                },
                                                "type": "scattermapbox"
                                            }
                                        ],
                                        "scatterpolar": [
                                            {
                                                "marker": {
                                                    "colorbar": {
                                                        "outlinewidth": 0,
                                                        "ticks": ""
                                                    }
                                                },
                                                "type": "scatterpolar"
                                            }
                                        ],
                                        "scatterpolargl": [
                                            {
                                                "marker": {
                                                    "colorbar": {
                                                        "outlinewidth": 0,
                                                        "ticks": ""
                                                    }
                                                },
                                                "type": "scatterpolargl"
                                            }
                                        ],
                                        "scatterternary": [
                                            {
                                                "marker": {
                                                    "colorbar": {
                                                        "outlinewidth": 0,
                                                        "ticks": ""
                                                    }
                                                },
                                                "type": "scatterternary"
                                            }
                                        ],
                                        "surface": [
                                            {
                                                "colorbar": {
                                                    "outlinewidth": 0,
                                                    "ticks": ""
                                                },
                                                "colorscale": [
                                                    [
                                                        0,
                                                        "#0d0887"
                                                    ],
                                                    [
                                                        0.1111111111111111,
                                                        "#46039f"
                                                    ],
                                                    [
                                                        0.2222222222222222,
                                                        "#7201a8"
                                                    ],
                                                    [
                                                        0.3333333333333333,
                                                        "#9c179e"
                                                    ],
                                                    [
                                                        0.4444444444444444,
                                                        "#bd3786"
                                                    ],
                                                    [
                                                        0.5555555555555556,
                                                        "#d8576b"
                                                    ],
                                                    [
                                                        0.6666666666666666,
                                                        "#ed7953"
                                                    ],
                                                    [
                                                        0.7777777777777778,
                                                        "#fb9f3a"
                                                    ],
                                                    [
                                                        0.8888888888888888,
                                                        "#fdca26"
                                                    ],
                                                    [
                                                        1,
                                                        "#f0f921"
                                                    ]
                                                ],
                                                "type": "surface"
                                            }
                                        ],
                                        "table": [
                                            {
                                                "cells": {
                                                    "fill": {
                                                        "color": "#EBF0F8"
                                                    },
                                                    "line": {
                                                        "color": "white"
                                                    }
                                                },
                                                "header": {
                                                    "fill": {
                                                        "color": "#C8D4E3"
                                                    },
                                                    "line": {
                                                        "color": "white"
                                                    }
                                                },
                                                "type": "table"
                                            }
                                        ]
                                    },
                                    "layout": {
                                        "annotationdefaults": {
                                            "arrowcolor": "#2a3f5f",
                                            "arrowhead": 0,
                                            "arrowwidth": 1
                                        },
                                        "autotypenumbers": "strict",
                                        "coloraxis": {
                                            "colorbar": {
                                                "outlinewidth": 0,
                                                "ticks": ""
                                            }
                                        },
                                        "colorscale": {
                                            "diverging": [
                                                [
                                                    0,
                                                    "#8e0152"
                                                ],
                                                [
                                                    0.1,
                                                    "#c51b7d"
                                                ],
                                                [
                                                    0.2,
                                                    "#de77ae"
                                                ],
                                                [
                                                    0.3,
                                                    "#f1b6da"
                                                ],
                                                [
                                                    0.4,
                                                    "#fde0ef"
                                                ],
                                                [
                                                    0.5,
                                                    "#f7f7f7"
                                                ],
                                                [
                                                    0.6,
                                                    "#e6f5d0"
                                                ],
                                                [
                                                    0.7,
                                                    "#b8e186"
                                                ],
                                                [
                                                    0.8,
                                                    "#7fbc41"
                                                ],
                                                [
                                                    0.9,
                                                    "#4d9221"
                                                ],
                                                [
                                                    1,
                                                    "#276419"
                                                ]
                                            ],
                                            "sequential": [
                                                [
                                                    0,
                                                    "#0d0887"
                                                ],
                                                [
                                                    0.1111111111111111,
                                                    "#46039f"
                                                ],
                                                [
                                                    0.2222222222222222,
                                                    "#7201a8"
                                                ],
                                                [
                                                    0.3333333333333333,
                                                    "#9c179e"
                                                ],
                                                [
                                                    0.4444444444444444,
                                                    "#bd3786"
                                                ],
                                                [
                                                    0.5555555555555556,
                                                    "#d8576b"
                                                ],
                                                [
                                                    0.6666666666666666,
                                                    "#ed7953"
                                                ],
                                                [
                                                    0.7777777777777778,
                                                    "#fb9f3a"
                                                ],
                                                [
                                                    0.8888888888888888,
                                                    "#fdca26"
                                                ],
                                                [
                                                    1,
                                                    "#f0f921"
                                                ]
                                            ],
                                            "sequentialminus": [
                                                [
                                                    0,
                                                    "#0d0887"
                                                ],
                                                [
                                                    0.1111111111111111,
                                                    "#46039f"
                                                ],
                                                [
                                                    0.2222222222222222,
                                                    "#7201a8"
                                                ],
                                                [
                                                    0.3333333333333333,
                                                    "#9c179e"
                                                ],
                                                [
                                                    0.4444444444444444,
                                                    "#bd3786"
                                                ],
                                                [
                                                    0.5555555555555556,
                                                    "#d8576b"
                                                ],
                                                [
                                                    0.6666666666666666,
                                                    "#ed7953"
                                                ],
                                                [
                                                    0.7777777777777778,
                                                    "#fb9f3a"
                                                ],
                                                [
                                                    0.8888888888888888,
                                                    "#fdca26"
                                                ],
                                                [
                                                    1,
                                                    "#f0f921"
                                                ]
                                            ]
                                        },
                                        "colorway": [
                                            "#636efa",
                                            "#EF553B",
                                            "#00cc96",
                                            "#ab63fa",
                                            "#FFA15A",
                                            "#19d3f3",
                                            "#FF6692",
                                            "#B6E880",
                                            "#FF97FF",
                                            "#FECB52"
                                        ],
                                        "font": {
                                            "color": "#2a3f5f"
                                        },
                                        "geo": {
                                            "bgcolor": "white",
                                            "lakecolor": "white",
                                            "landcolor": "#E5ECF6",
                                            "showlakes": true,
                                            "showland": true,
                                            "subunitcolor": "white"
                                        },
                                        "hoverlabel": {
                                            "align": "left"
                                        },
                                        "hovermode": "closest",
                                        "mapbox": {
                                            "style": "light"
                                        },
                                        "paper_bgcolor": "white",
                                        "plot_bgcolor": "#E5ECF6",
                                        "polar": {
                                            "angularaxis": {
                                                "gridcolor": "white",
                                                "linecolor": "white",
                                                "ticks": ""
                                            },
                                            "bgcolor": "#E5ECF6",
                                            "radialaxis": {
                                                "gridcolor": "white",
                                                "linecolor": "white",
                                                "ticks": ""
                                            }
                                        },
                                        "scene": {
                                            "xaxis": {
                                                "backgroundcolor": "#E5ECF6",
                                                "gridcolor": "white",
                                                "gridwidth": 2,
                                                "linecolor": "white",
                                                "showbackground": true,
                                                "ticks": "",
                                                "zerolinecolor": "white"
                                            },
                                            "yaxis": {
                                                "backgroundcolor": "#E5ECF6",
                                                "gridcolor": "white",
                                                "gridwidth": 2,
                                                "linecolor": "white",
                                                "showbackground": true,
                                                "ticks": "",
                                                "zerolinecolor": "white"
                                            },
                                            "zaxis": {
                                                "backgroundcolor": "#E5ECF6",
                                                "gridcolor": "white",
                                                "gridwidth": 2,
                                                "linecolor": "white",
                                                "showbackground": true,
                                                "ticks": "",
                                                "zerolinecolor": "white"
                                            }
                                        },
                                        "shapedefaults": {
                                            "line": {
                                                "color": "#2a3f5f"
                                            }
                                        },
                                        "ternary": {
                                            "aaxis": {
                                                "gridcolor": "white",
                                                "linecolor": "white",
                                                "ticks": ""
                                            },
                                            "baxis": {
                                                "gridcolor": "white",
                                                "linecolor": "white",
                                                "ticks": ""
                                            },
                                            "bgcolor": "#E5ECF6",
                                            "caxis": {
                                                "gridcolor": "white",
                                                "linecolor": "white",
                                                "ticks": ""
                                            }
                                        },
                                        "title": {
                                            "x": 0.05
                                        },
                                        "xaxis": {
                                            "automargin": true,
                                            "gridcolor": "white",
                                            "linecolor": "white",
                                            "ticks": "",
                                            "title": {
                                                "standoff": 15
                                            },
                                            "zerolinecolor": "white",
                                            "zerolinewidth": 2
                                        },
                                        "yaxis": {
                                            "automargin": true,
                                            "gridcolor": "white",
                                            "linecolor": "white",
                                            "ticks": "",
                                            "title": {
                                                "standoff": 15
                                            },
                                            "zerolinecolor": "white",
                                            "zerolinewidth": 2
                                        }
                                    }
                                },
                                "title": {
                                    "text": "Quantidade de Eventos por ano"
                                },
                                "xaxis": {
                                    "anchor": "y",
                                    "domain": [
                                        0,
                                        1
                                    ],
                                    "title": {
                                        "text": "Ano"
                                    }
                                },
                                "yaxis": {
                                    "anchor": "x",
                                    "domain": [
                                        0,
                                        1
                                    ],
                                    "title": {
                                        "text": "Total de resumos"
                                    }
                                }
                            }
                        }
                    },
                    "metadata": {},
                    "output_type": "display_data"
                }
            ],
            "source": [
                "# gráfico de barras com coluna x = Ano e y = Quantidade\n",
                "fig2 = px.bar(df_ano_evento, x='Ano', y='Total de resumos', title='Quantidade de Eventos por ano')\n",
                "\n",
                "fig2.show()"
            ]
        },
        {
            "cell_type": "code",
            "execution_count": 33,
            "metadata": {},
            "outputs": [
                {
                    "data": {
                        "application/vnd.plotly.v1+json": {
                            "config": {
                                "plotlyServerURL": "https://plot.ly"
                            },
                            "data": [
                                {
                                    "alignmentgroup": "True",
                                    "hovertemplate": "Ano=%{x}<br>Total de resumos=%{y}<extra></extra>",
                                    "legendgroup": "",
                                    "marker": {
                                        "color": "#636efa",
                                        "pattern": {
                                            "shape": ""
                                        }
                                    },
                                    "name": "",
                                    "offsetgroup": "",
                                    "orientation": "v",
                                    "showlegend": false,
                                    "textposition": "auto",
                                    "type": "bar",
                                    "x": [
                                        2013,
                                        2015,
                                        2017,
                                        2019,
                                        2021,
                                        2023
                                    ],
                                    "xaxis": "x",
                                    "y": [
                                        2678,
                                        2770,
                                        2802,
                                        3240,
                                        2729,
                                        2372
                                    ],
                                    "yaxis": "y"
                                }
                            ],
                            "layout": {
                                "barmode": "relative",
                                "legend": {
                                    "tracegroupgap": 0
                                },
                                "template": {
                                    "data": {
                                        "bar": [
                                            {
                                                "error_x": {
                                                    "color": "#2a3f5f"
                                                },
                                                "error_y": {
                                                    "color": "#2a3f5f"
                                                },
                                                "marker": {
                                                    "line": {
                                                        "color": "#E5ECF6",
                                                        "width": 0.5
                                                    },
                                                    "pattern": {
                                                        "fillmode": "overlay",
                                                        "size": 10,
                                                        "solidity": 0.2
                                                    }
                                                },
                                                "type": "bar"
                                            }
                                        ],
                                        "barpolar": [
                                            {
                                                "marker": {
                                                    "line": {
                                                        "color": "#E5ECF6",
                                                        "width": 0.5
                                                    },
                                                    "pattern": {
                                                        "fillmode": "overlay",
                                                        "size": 10,
                                                        "solidity": 0.2
                                                    }
                                                },
                                                "type": "barpolar"
                                            }
                                        ],
                                        "carpet": [
                                            {
                                                "aaxis": {
                                                    "endlinecolor": "#2a3f5f",
                                                    "gridcolor": "white",
                                                    "linecolor": "white",
                                                    "minorgridcolor": "white",
                                                    "startlinecolor": "#2a3f5f"
                                                },
                                                "baxis": {
                                                    "endlinecolor": "#2a3f5f",
                                                    "gridcolor": "white",
                                                    "linecolor": "white",
                                                    "minorgridcolor": "white",
                                                    "startlinecolor": "#2a3f5f"
                                                },
                                                "type": "carpet"
                                            }
                                        ],
                                        "choropleth": [
                                            {
                                                "colorbar": {
                                                    "outlinewidth": 0,
                                                    "ticks": ""
                                                },
                                                "type": "choropleth"
                                            }
                                        ],
                                        "contour": [
                                            {
                                                "colorbar": {
                                                    "outlinewidth": 0,
                                                    "ticks": ""
                                                },
                                                "colorscale": [
                                                    [
                                                        0,
                                                        "#0d0887"
                                                    ],
                                                    [
                                                        0.1111111111111111,
                                                        "#46039f"
                                                    ],
                                                    [
                                                        0.2222222222222222,
                                                        "#7201a8"
                                                    ],
                                                    [
                                                        0.3333333333333333,
                                                        "#9c179e"
                                                    ],
                                                    [
                                                        0.4444444444444444,
                                                        "#bd3786"
                                                    ],
                                                    [
                                                        0.5555555555555556,
                                                        "#d8576b"
                                                    ],
                                                    [
                                                        0.6666666666666666,
                                                        "#ed7953"
                                                    ],
                                                    [
                                                        0.7777777777777778,
                                                        "#fb9f3a"
                                                    ],
                                                    [
                                                        0.8888888888888888,
                                                        "#fdca26"
                                                    ],
                                                    [
                                                        1,
                                                        "#f0f921"
                                                    ]
                                                ],
                                                "type": "contour"
                                            }
                                        ],
                                        "contourcarpet": [
                                            {
                                                "colorbar": {
                                                    "outlinewidth": 0,
                                                    "ticks": ""
                                                },
                                                "type": "contourcarpet"
                                            }
                                        ],
                                        "heatmap": [
                                            {
                                                "colorbar": {
                                                    "outlinewidth": 0,
                                                    "ticks": ""
                                                },
                                                "colorscale": [
                                                    [
                                                        0,
                                                        "#0d0887"
                                                    ],
                                                    [
                                                        0.1111111111111111,
                                                        "#46039f"
                                                    ],
                                                    [
                                                        0.2222222222222222,
                                                        "#7201a8"
                                                    ],
                                                    [
                                                        0.3333333333333333,
                                                        "#9c179e"
                                                    ],
                                                    [
                                                        0.4444444444444444,
                                                        "#bd3786"
                                                    ],
                                                    [
                                                        0.5555555555555556,
                                                        "#d8576b"
                                                    ],
                                                    [
                                                        0.6666666666666666,
                                                        "#ed7953"
                                                    ],
                                                    [
                                                        0.7777777777777778,
                                                        "#fb9f3a"
                                                    ],
                                                    [
                                                        0.8888888888888888,
                                                        "#fdca26"
                                                    ],
                                                    [
                                                        1,
                                                        "#f0f921"
                                                    ]
                                                ],
                                                "type": "heatmap"
                                            }
                                        ],
                                        "heatmapgl": [
                                            {
                                                "colorbar": {
                                                    "outlinewidth": 0,
                                                    "ticks": ""
                                                },
                                                "colorscale": [
                                                    [
                                                        0,
                                                        "#0d0887"
                                                    ],
                                                    [
                                                        0.1111111111111111,
                                                        "#46039f"
                                                    ],
                                                    [
                                                        0.2222222222222222,
                                                        "#7201a8"
                                                    ],
                                                    [
                                                        0.3333333333333333,
                                                        "#9c179e"
                                                    ],
                                                    [
                                                        0.4444444444444444,
                                                        "#bd3786"
                                                    ],
                                                    [
                                                        0.5555555555555556,
                                                        "#d8576b"
                                                    ],
                                                    [
                                                        0.6666666666666666,
                                                        "#ed7953"
                                                    ],
                                                    [
                                                        0.7777777777777778,
                                                        "#fb9f3a"
                                                    ],
                                                    [
                                                        0.8888888888888888,
                                                        "#fdca26"
                                                    ],
                                                    [
                                                        1,
                                                        "#f0f921"
                                                    ]
                                                ],
                                                "type": "heatmapgl"
                                            }
                                        ],
                                        "histogram": [
                                            {
                                                "marker": {
                                                    "pattern": {
                                                        "fillmode": "overlay",
                                                        "size": 10,
                                                        "solidity": 0.2
                                                    }
                                                },
                                                "type": "histogram"
                                            }
                                        ],
                                        "histogram2d": [
                                            {
                                                "colorbar": {
                                                    "outlinewidth": 0,
                                                    "ticks": ""
                                                },
                                                "colorscale": [
                                                    [
                                                        0,
                                                        "#0d0887"
                                                    ],
                                                    [
                                                        0.1111111111111111,
                                                        "#46039f"
                                                    ],
                                                    [
                                                        0.2222222222222222,
                                                        "#7201a8"
                                                    ],
                                                    [
                                                        0.3333333333333333,
                                                        "#9c179e"
                                                    ],
                                                    [
                                                        0.4444444444444444,
                                                        "#bd3786"
                                                    ],
                                                    [
                                                        0.5555555555555556,
                                                        "#d8576b"
                                                    ],
                                                    [
                                                        0.6666666666666666,
                                                        "#ed7953"
                                                    ],
                                                    [
                                                        0.7777777777777778,
                                                        "#fb9f3a"
                                                    ],
                                                    [
                                                        0.8888888888888888,
                                                        "#fdca26"
                                                    ],
                                                    [
                                                        1,
                                                        "#f0f921"
                                                    ]
                                                ],
                                                "type": "histogram2d"
                                            }
                                        ],
                                        "histogram2dcontour": [
                                            {
                                                "colorbar": {
                                                    "outlinewidth": 0,
                                                    "ticks": ""
                                                },
                                                "colorscale": [
                                                    [
                                                        0,
                                                        "#0d0887"
                                                    ],
                                                    [
                                                        0.1111111111111111,
                                                        "#46039f"
                                                    ],
                                                    [
                                                        0.2222222222222222,
                                                        "#7201a8"
                                                    ],
                                                    [
                                                        0.3333333333333333,
                                                        "#9c179e"
                                                    ],
                                                    [
                                                        0.4444444444444444,
                                                        "#bd3786"
                                                    ],
                                                    [
                                                        0.5555555555555556,
                                                        "#d8576b"
                                                    ],
                                                    [
                                                        0.6666666666666666,
                                                        "#ed7953"
                                                    ],
                                                    [
                                                        0.7777777777777778,
                                                        "#fb9f3a"
                                                    ],
                                                    [
                                                        0.8888888888888888,
                                                        "#fdca26"
                                                    ],
                                                    [
                                                        1,
                                                        "#f0f921"
                                                    ]
                                                ],
                                                "type": "histogram2dcontour"
                                            }
                                        ],
                                        "mesh3d": [
                                            {
                                                "colorbar": {
                                                    "outlinewidth": 0,
                                                    "ticks": ""
                                                },
                                                "type": "mesh3d"
                                            }
                                        ],
                                        "parcoords": [
                                            {
                                                "line": {
                                                    "colorbar": {
                                                        "outlinewidth": 0,
                                                        "ticks": ""
                                                    }
                                                },
                                                "type": "parcoords"
                                            }
                                        ],
                                        "pie": [
                                            {
                                                "automargin": true,
                                                "type": "pie"
                                            }
                                        ],
                                        "scatter": [
                                            {
                                                "fillpattern": {
                                                    "fillmode": "overlay",
                                                    "size": 10,
                                                    "solidity": 0.2
                                                },
                                                "type": "scatter"
                                            }
                                        ],
                                        "scatter3d": [
                                            {
                                                "line": {
                                                    "colorbar": {
                                                        "outlinewidth": 0,
                                                        "ticks": ""
                                                    }
                                                },
                                                "marker": {
                                                    "colorbar": {
                                                        "outlinewidth": 0,
                                                        "ticks": ""
                                                    }
                                                },
                                                "type": "scatter3d"
                                            }
                                        ],
                                        "scattercarpet": [
                                            {
                                                "marker": {
                                                    "colorbar": {
                                                        "outlinewidth": 0,
                                                        "ticks": ""
                                                    }
                                                },
                                                "type": "scattercarpet"
                                            }
                                        ],
                                        "scattergeo": [
                                            {
                                                "marker": {
                                                    "colorbar": {
                                                        "outlinewidth": 0,
                                                        "ticks": ""
                                                    }
                                                },
                                                "type": "scattergeo"
                                            }
                                        ],
                                        "scattergl": [
                                            {
                                                "marker": {
                                                    "colorbar": {
                                                        "outlinewidth": 0,
                                                        "ticks": ""
                                                    }
                                                },
                                                "type": "scattergl"
                                            }
                                        ],
                                        "scattermapbox": [
                                            {
                                                "marker": {
                                                    "colorbar": {
                                                        "outlinewidth": 0,
                                                        "ticks": ""
                                                    }
                                                },
                                                "type": "scattermapbox"
                                            }
                                        ],
                                        "scatterpolar": [
                                            {
                                                "marker": {
                                                    "colorbar": {
                                                        "outlinewidth": 0,
                                                        "ticks": ""
                                                    }
                                                },
                                                "type": "scatterpolar"
                                            }
                                        ],
                                        "scatterpolargl": [
                                            {
                                                "marker": {
                                                    "colorbar": {
                                                        "outlinewidth": 0,
                                                        "ticks": ""
                                                    }
                                                },
                                                "type": "scatterpolargl"
                                            }
                                        ],
                                        "scatterternary": [
                                            {
                                                "marker": {
                                                    "colorbar": {
                                                        "outlinewidth": 0,
                                                        "ticks": ""
                                                    }
                                                },
                                                "type": "scatterternary"
                                            }
                                        ],
                                        "surface": [
                                            {
                                                "colorbar": {
                                                    "outlinewidth": 0,
                                                    "ticks": ""
                                                },
                                                "colorscale": [
                                                    [
                                                        0,
                                                        "#0d0887"
                                                    ],
                                                    [
                                                        0.1111111111111111,
                                                        "#46039f"
                                                    ],
                                                    [
                                                        0.2222222222222222,
                                                        "#7201a8"
                                                    ],
                                                    [
                                                        0.3333333333333333,
                                                        "#9c179e"
                                                    ],
                                                    [
                                                        0.4444444444444444,
                                                        "#bd3786"
                                                    ],
                                                    [
                                                        0.5555555555555556,
                                                        "#d8576b"
                                                    ],
                                                    [
                                                        0.6666666666666666,
                                                        "#ed7953"
                                                    ],
                                                    [
                                                        0.7777777777777778,
                                                        "#fb9f3a"
                                                    ],
                                                    [
                                                        0.8888888888888888,
                                                        "#fdca26"
                                                    ],
                                                    [
                                                        1,
                                                        "#f0f921"
                                                    ]
                                                ],
                                                "type": "surface"
                                            }
                                        ],
                                        "table": [
                                            {
                                                "cells": {
                                                    "fill": {
                                                        "color": "#EBF0F8"
                                                    },
                                                    "line": {
                                                        "color": "white"
                                                    }
                                                },
                                                "header": {
                                                    "fill": {
                                                        "color": "#C8D4E3"
                                                    },
                                                    "line": {
                                                        "color": "white"
                                                    }
                                                },
                                                "type": "table"
                                            }
                                        ]
                                    },
                                    "layout": {
                                        "annotationdefaults": {
                                            "arrowcolor": "#2a3f5f",
                                            "arrowhead": 0,
                                            "arrowwidth": 1
                                        },
                                        "autotypenumbers": "strict",
                                        "coloraxis": {
                                            "colorbar": {
                                                "outlinewidth": 0,
                                                "ticks": ""
                                            }
                                        },
                                        "colorscale": {
                                            "diverging": [
                                                [
                                                    0,
                                                    "#8e0152"
                                                ],
                                                [
                                                    0.1,
                                                    "#c51b7d"
                                                ],
                                                [
                                                    0.2,
                                                    "#de77ae"
                                                ],
                                                [
                                                    0.3,
                                                    "#f1b6da"
                                                ],
                                                [
                                                    0.4,
                                                    "#fde0ef"
                                                ],
                                                [
                                                    0.5,
                                                    "#f7f7f7"
                                                ],
                                                [
                                                    0.6,
                                                    "#e6f5d0"
                                                ],
                                                [
                                                    0.7,
                                                    "#b8e186"
                                                ],
                                                [
                                                    0.8,
                                                    "#7fbc41"
                                                ],
                                                [
                                                    0.9,
                                                    "#4d9221"
                                                ],
                                                [
                                                    1,
                                                    "#276419"
                                                ]
                                            ],
                                            "sequential": [
                                                [
                                                    0,
                                                    "#0d0887"
                                                ],
                                                [
                                                    0.1111111111111111,
                                                    "#46039f"
                                                ],
                                                [
                                                    0.2222222222222222,
                                                    "#7201a8"
                                                ],
                                                [
                                                    0.3333333333333333,
                                                    "#9c179e"
                                                ],
                                                [
                                                    0.4444444444444444,
                                                    "#bd3786"
                                                ],
                                                [
                                                    0.5555555555555556,
                                                    "#d8576b"
                                                ],
                                                [
                                                    0.6666666666666666,
                                                    "#ed7953"
                                                ],
                                                [
                                                    0.7777777777777778,
                                                    "#fb9f3a"
                                                ],
                                                [
                                                    0.8888888888888888,
                                                    "#fdca26"
                                                ],
                                                [
                                                    1,
                                                    "#f0f921"
                                                ]
                                            ],
                                            "sequentialminus": [
                                                [
                                                    0,
                                                    "#0d0887"
                                                ],
                                                [
                                                    0.1111111111111111,
                                                    "#46039f"
                                                ],
                                                [
                                                    0.2222222222222222,
                                                    "#7201a8"
                                                ],
                                                [
                                                    0.3333333333333333,
                                                    "#9c179e"
                                                ],
                                                [
                                                    0.4444444444444444,
                                                    "#bd3786"
                                                ],
                                                [
                                                    0.5555555555555556,
                                                    "#d8576b"
                                                ],
                                                [
                                                    0.6666666666666666,
                                                    "#ed7953"
                                                ],
                                                [
                                                    0.7777777777777778,
                                                    "#fb9f3a"
                                                ],
                                                [
                                                    0.8888888888888888,
                                                    "#fdca26"
                                                ],
                                                [
                                                    1,
                                                    "#f0f921"
                                                ]
                                            ]
                                        },
                                        "colorway": [
                                            "#636efa",
                                            "#EF553B",
                                            "#00cc96",
                                            "#ab63fa",
                                            "#FFA15A",
                                            "#19d3f3",
                                            "#FF6692",
                                            "#B6E880",
                                            "#FF97FF",
                                            "#FECB52"
                                        ],
                                        "font": {
                                            "color": "#2a3f5f"
                                        },
                                        "geo": {
                                            "bgcolor": "white",
                                            "lakecolor": "white",
                                            "landcolor": "#E5ECF6",
                                            "showlakes": true,
                                            "showland": true,
                                            "subunitcolor": "white"
                                        },
                                        "hoverlabel": {
                                            "align": "left"
                                        },
                                        "hovermode": "closest",
                                        "mapbox": {
                                            "style": "light"
                                        },
                                        "paper_bgcolor": "white",
                                        "plot_bgcolor": "#E5ECF6",
                                        "polar": {
                                            "angularaxis": {
                                                "gridcolor": "white",
                                                "linecolor": "white",
                                                "ticks": ""
                                            },
                                            "bgcolor": "#E5ECF6",
                                            "radialaxis": {
                                                "gridcolor": "white",
                                                "linecolor": "white",
                                                "ticks": ""
                                            }
                                        },
                                        "scene": {
                                            "xaxis": {
                                                "backgroundcolor": "#E5ECF6",
                                                "gridcolor": "white",
                                                "gridwidth": 2,
                                                "linecolor": "white",
                                                "showbackground": true,
                                                "ticks": "",
                                                "zerolinecolor": "white"
                                            },
                                            "yaxis": {
                                                "backgroundcolor": "#E5ECF6",
                                                "gridcolor": "white",
                                                "gridwidth": 2,
                                                "linecolor": "white",
                                                "showbackground": true,
                                                "ticks": "",
                                                "zerolinecolor": "white"
                                            },
                                            "zaxis": {
                                                "backgroundcolor": "#E5ECF6",
                                                "gridcolor": "white",
                                                "gridwidth": 2,
                                                "linecolor": "white",
                                                "showbackground": true,
                                                "ticks": "",
                                                "zerolinecolor": "white"
                                            }
                                        },
                                        "shapedefaults": {
                                            "line": {
                                                "color": "#2a3f5f"
                                            }
                                        },
                                        "ternary": {
                                            "aaxis": {
                                                "gridcolor": "white",
                                                "linecolor": "white",
                                                "ticks": ""
                                            },
                                            "baxis": {
                                                "gridcolor": "white",
                                                "linecolor": "white",
                                                "ticks": ""
                                            },
                                            "bgcolor": "#E5ECF6",
                                            "caxis": {
                                                "gridcolor": "white",
                                                "linecolor": "white",
                                                "ticks": ""
                                            }
                                        },
                                        "title": {
                                            "x": 0.05
                                        },
                                        "xaxis": {
                                            "automargin": true,
                                            "gridcolor": "white",
                                            "linecolor": "white",
                                            "ticks": "",
                                            "title": {
                                                "standoff": 15
                                            },
                                            "zerolinecolor": "white",
                                            "zerolinewidth": 2
                                        },
                                        "yaxis": {
                                            "automargin": true,
                                            "gridcolor": "white",
                                            "linecolor": "white",
                                            "ticks": "",
                                            "title": {
                                                "standoff": 15
                                            },
                                            "zerolinecolor": "white",
                                            "zerolinewidth": 2
                                        }
                                    }
                                },
                                "title": {
                                    "text": "Quantidade de Eventos por ano"
                                },
                                "xaxis": {
                                    "anchor": "y",
                                    "domain": [
                                        0,
                                        1
                                    ],
                                    "tickvals": [
                                        2013,
                                        2015,
                                        2017,
                                        2019,
                                        2021,
                                        2023
                                    ],
                                    "title": {
                                        "text": "Ano"
                                    }
                                },
                                "yaxis": {
                                    "anchor": "x",
                                    "domain": [
                                        0,
                                        1
                                    ],
                                    "title": {
                                        "text": "Total de resumos"
                                    }
                                }
                            }
                        }
                    },
                    "metadata": {},
                    "output_type": "display_data"
                }
            ],
            "source": [
                "# atualizar traces do eixo x: anos fixos\n",
                "fig2.update_xaxes(tickvals=[2013, 2015, 2017, 2019, 2021, 2023])\n",
                "fig2.show()"
            ]
        },
        {
            "cell_type": "markdown",
            "metadata": {},
            "source": [
                "## gráfico de Pizza\n"
            ]
        },
        {
            "cell_type": "code",
            "execution_count": 34,
            "metadata": {},
            "outputs": [
                {
                    "data": {
                        "application/vnd.plotly.v1+json": {
                            "config": {
                                "plotlyServerURL": "https://plot.ly"
                            },
                            "data": [
                                {
                                    "domain": {
                                        "x": [
                                            0,
                                            1
                                        ],
                                        "y": [
                                            0,
                                            1
                                        ]
                                    },
                                    "hovertemplate": "Ano=%{label}<br>Total de resumos=%{value}<extra></extra>",
                                    "labels": [
                                        2013,
                                        2015,
                                        2017,
                                        2019,
                                        2021,
                                        2023
                                    ],
                                    "legendgroup": "",
                                    "name": "",
                                    "showlegend": true,
                                    "type": "pie",
                                    "values": [
                                        2678,
                                        2770,
                                        2802,
                                        3240,
                                        2729,
                                        2372
                                    ]
                                }
                            ],
                            "layout": {
                                "legend": {
                                    "tracegroupgap": 0
                                },
                                "template": {
                                    "data": {
                                        "bar": [
                                            {
                                                "error_x": {
                                                    "color": "#2a3f5f"
                                                },
                                                "error_y": {
                                                    "color": "#2a3f5f"
                                                },
                                                "marker": {
                                                    "line": {
                                                        "color": "#E5ECF6",
                                                        "width": 0.5
                                                    },
                                                    "pattern": {
                                                        "fillmode": "overlay",
                                                        "size": 10,
                                                        "solidity": 0.2
                                                    }
                                                },
                                                "type": "bar"
                                            }
                                        ],
                                        "barpolar": [
                                            {
                                                "marker": {
                                                    "line": {
                                                        "color": "#E5ECF6",
                                                        "width": 0.5
                                                    },
                                                    "pattern": {
                                                        "fillmode": "overlay",
                                                        "size": 10,
                                                        "solidity": 0.2
                                                    }
                                                },
                                                "type": "barpolar"
                                            }
                                        ],
                                        "carpet": [
                                            {
                                                "aaxis": {
                                                    "endlinecolor": "#2a3f5f",
                                                    "gridcolor": "white",
                                                    "linecolor": "white",
                                                    "minorgridcolor": "white",
                                                    "startlinecolor": "#2a3f5f"
                                                },
                                                "baxis": {
                                                    "endlinecolor": "#2a3f5f",
                                                    "gridcolor": "white",
                                                    "linecolor": "white",
                                                    "minorgridcolor": "white",
                                                    "startlinecolor": "#2a3f5f"
                                                },
                                                "type": "carpet"
                                            }
                                        ],
                                        "choropleth": [
                                            {
                                                "colorbar": {
                                                    "outlinewidth": 0,
                                                    "ticks": ""
                                                },
                                                "type": "choropleth"
                                            }
                                        ],
                                        "contour": [
                                            {
                                                "colorbar": {
                                                    "outlinewidth": 0,
                                                    "ticks": ""
                                                },
                                                "colorscale": [
                                                    [
                                                        0,
                                                        "#0d0887"
                                                    ],
                                                    [
                                                        0.1111111111111111,
                                                        "#46039f"
                                                    ],
                                                    [
                                                        0.2222222222222222,
                                                        "#7201a8"
                                                    ],
                                                    [
                                                        0.3333333333333333,
                                                        "#9c179e"
                                                    ],
                                                    [
                                                        0.4444444444444444,
                                                        "#bd3786"
                                                    ],
                                                    [
                                                        0.5555555555555556,
                                                        "#d8576b"
                                                    ],
                                                    [
                                                        0.6666666666666666,
                                                        "#ed7953"
                                                    ],
                                                    [
                                                        0.7777777777777778,
                                                        "#fb9f3a"
                                                    ],
                                                    [
                                                        0.8888888888888888,
                                                        "#fdca26"
                                                    ],
                                                    [
                                                        1,
                                                        "#f0f921"
                                                    ]
                                                ],
                                                "type": "contour"
                                            }
                                        ],
                                        "contourcarpet": [
                                            {
                                                "colorbar": {
                                                    "outlinewidth": 0,
                                                    "ticks": ""
                                                },
                                                "type": "contourcarpet"
                                            }
                                        ],
                                        "heatmap": [
                                            {
                                                "colorbar": {
                                                    "outlinewidth": 0,
                                                    "ticks": ""
                                                },
                                                "colorscale": [
                                                    [
                                                        0,
                                                        "#0d0887"
                                                    ],
                                                    [
                                                        0.1111111111111111,
                                                        "#46039f"
                                                    ],
                                                    [
                                                        0.2222222222222222,
                                                        "#7201a8"
                                                    ],
                                                    [
                                                        0.3333333333333333,
                                                        "#9c179e"
                                                    ],
                                                    [
                                                        0.4444444444444444,
                                                        "#bd3786"
                                                    ],
                                                    [
                                                        0.5555555555555556,
                                                        "#d8576b"
                                                    ],
                                                    [
                                                        0.6666666666666666,
                                                        "#ed7953"
                                                    ],
                                                    [
                                                        0.7777777777777778,
                                                        "#fb9f3a"
                                                    ],
                                                    [
                                                        0.8888888888888888,
                                                        "#fdca26"
                                                    ],
                                                    [
                                                        1,
                                                        "#f0f921"
                                                    ]
                                                ],
                                                "type": "heatmap"
                                            }
                                        ],
                                        "heatmapgl": [
                                            {
                                                "colorbar": {
                                                    "outlinewidth": 0,
                                                    "ticks": ""
                                                },
                                                "colorscale": [
                                                    [
                                                        0,
                                                        "#0d0887"
                                                    ],
                                                    [
                                                        0.1111111111111111,
                                                        "#46039f"
                                                    ],
                                                    [
                                                        0.2222222222222222,
                                                        "#7201a8"
                                                    ],
                                                    [
                                                        0.3333333333333333,
                                                        "#9c179e"
                                                    ],
                                                    [
                                                        0.4444444444444444,
                                                        "#bd3786"
                                                    ],
                                                    [
                                                        0.5555555555555556,
                                                        "#d8576b"
                                                    ],
                                                    [
                                                        0.6666666666666666,
                                                        "#ed7953"
                                                    ],
                                                    [
                                                        0.7777777777777778,
                                                        "#fb9f3a"
                                                    ],
                                                    [
                                                        0.8888888888888888,
                                                        "#fdca26"
                                                    ],
                                                    [
                                                        1,
                                                        "#f0f921"
                                                    ]
                                                ],
                                                "type": "heatmapgl"
                                            }
                                        ],
                                        "histogram": [
                                            {
                                                "marker": {
                                                    "pattern": {
                                                        "fillmode": "overlay",
                                                        "size": 10,
                                                        "solidity": 0.2
                                                    }
                                                },
                                                "type": "histogram"
                                            }
                                        ],
                                        "histogram2d": [
                                            {
                                                "colorbar": {
                                                    "outlinewidth": 0,
                                                    "ticks": ""
                                                },
                                                "colorscale": [
                                                    [
                                                        0,
                                                        "#0d0887"
                                                    ],
                                                    [
                                                        0.1111111111111111,
                                                        "#46039f"
                                                    ],
                                                    [
                                                        0.2222222222222222,
                                                        "#7201a8"
                                                    ],
                                                    [
                                                        0.3333333333333333,
                                                        "#9c179e"
                                                    ],
                                                    [
                                                        0.4444444444444444,
                                                        "#bd3786"
                                                    ],
                                                    [
                                                        0.5555555555555556,
                                                        "#d8576b"
                                                    ],
                                                    [
                                                        0.6666666666666666,
                                                        "#ed7953"
                                                    ],
                                                    [
                                                        0.7777777777777778,
                                                        "#fb9f3a"
                                                    ],
                                                    [
                                                        0.8888888888888888,
                                                        "#fdca26"
                                                    ],
                                                    [
                                                        1,
                                                        "#f0f921"
                                                    ]
                                                ],
                                                "type": "histogram2d"
                                            }
                                        ],
                                        "histogram2dcontour": [
                                            {
                                                "colorbar": {
                                                    "outlinewidth": 0,
                                                    "ticks": ""
                                                },
                                                "colorscale": [
                                                    [
                                                        0,
                                                        "#0d0887"
                                                    ],
                                                    [
                                                        0.1111111111111111,
                                                        "#46039f"
                                                    ],
                                                    [
                                                        0.2222222222222222,
                                                        "#7201a8"
                                                    ],
                                                    [
                                                        0.3333333333333333,
                                                        "#9c179e"
                                                    ],
                                                    [
                                                        0.4444444444444444,
                                                        "#bd3786"
                                                    ],
                                                    [
                                                        0.5555555555555556,
                                                        "#d8576b"
                                                    ],
                                                    [
                                                        0.6666666666666666,
                                                        "#ed7953"
                                                    ],
                                                    [
                                                        0.7777777777777778,
                                                        "#fb9f3a"
                                                    ],
                                                    [
                                                        0.8888888888888888,
                                                        "#fdca26"
                                                    ],
                                                    [
                                                        1,
                                                        "#f0f921"
                                                    ]
                                                ],
                                                "type": "histogram2dcontour"
                                            }
                                        ],
                                        "mesh3d": [
                                            {
                                                "colorbar": {
                                                    "outlinewidth": 0,
                                                    "ticks": ""
                                                },
                                                "type": "mesh3d"
                                            }
                                        ],
                                        "parcoords": [
                                            {
                                                "line": {
                                                    "colorbar": {
                                                        "outlinewidth": 0,
                                                        "ticks": ""
                                                    }
                                                },
                                                "type": "parcoords"
                                            }
                                        ],
                                        "pie": [
                                            {
                                                "automargin": true,
                                                "type": "pie"
                                            }
                                        ],
                                        "scatter": [
                                            {
                                                "fillpattern": {
                                                    "fillmode": "overlay",
                                                    "size": 10,
                                                    "solidity": 0.2
                                                },
                                                "type": "scatter"
                                            }
                                        ],
                                        "scatter3d": [
                                            {
                                                "line": {
                                                    "colorbar": {
                                                        "outlinewidth": 0,
                                                        "ticks": ""
                                                    }
                                                },
                                                "marker": {
                                                    "colorbar": {
                                                        "outlinewidth": 0,
                                                        "ticks": ""
                                                    }
                                                },
                                                "type": "scatter3d"
                                            }
                                        ],
                                        "scattercarpet": [
                                            {
                                                "marker": {
                                                    "colorbar": {
                                                        "outlinewidth": 0,
                                                        "ticks": ""
                                                    }
                                                },
                                                "type": "scattercarpet"
                                            }
                                        ],
                                        "scattergeo": [
                                            {
                                                "marker": {
                                                    "colorbar": {
                                                        "outlinewidth": 0,
                                                        "ticks": ""
                                                    }
                                                },
                                                "type": "scattergeo"
                                            }
                                        ],
                                        "scattergl": [
                                            {
                                                "marker": {
                                                    "colorbar": {
                                                        "outlinewidth": 0,
                                                        "ticks": ""
                                                    }
                                                },
                                                "type": "scattergl"
                                            }
                                        ],
                                        "scattermapbox": [
                                            {
                                                "marker": {
                                                    "colorbar": {
                                                        "outlinewidth": 0,
                                                        "ticks": ""
                                                    }
                                                },
                                                "type": "scattermapbox"
                                            }
                                        ],
                                        "scatterpolar": [
                                            {
                                                "marker": {
                                                    "colorbar": {
                                                        "outlinewidth": 0,
                                                        "ticks": ""
                                                    }
                                                },
                                                "type": "scatterpolar"
                                            }
                                        ],
                                        "scatterpolargl": [
                                            {
                                                "marker": {
                                                    "colorbar": {
                                                        "outlinewidth": 0,
                                                        "ticks": ""
                                                    }
                                                },
                                                "type": "scatterpolargl"
                                            }
                                        ],
                                        "scatterternary": [
                                            {
                                                "marker": {
                                                    "colorbar": {
                                                        "outlinewidth": 0,
                                                        "ticks": ""
                                                    }
                                                },
                                                "type": "scatterternary"
                                            }
                                        ],
                                        "surface": [
                                            {
                                                "colorbar": {
                                                    "outlinewidth": 0,
                                                    "ticks": ""
                                                },
                                                "colorscale": [
                                                    [
                                                        0,
                                                        "#0d0887"
                                                    ],
                                                    [
                                                        0.1111111111111111,
                                                        "#46039f"
                                                    ],
                                                    [
                                                        0.2222222222222222,
                                                        "#7201a8"
                                                    ],
                                                    [
                                                        0.3333333333333333,
                                                        "#9c179e"
                                                    ],
                                                    [
                                                        0.4444444444444444,
                                                        "#bd3786"
                                                    ],
                                                    [
                                                        0.5555555555555556,
                                                        "#d8576b"
                                                    ],
                                                    [
                                                        0.6666666666666666,
                                                        "#ed7953"
                                                    ],
                                                    [
                                                        0.7777777777777778,
                                                        "#fb9f3a"
                                                    ],
                                                    [
                                                        0.8888888888888888,
                                                        "#fdca26"
                                                    ],
                                                    [
                                                        1,
                                                        "#f0f921"
                                                    ]
                                                ],
                                                "type": "surface"
                                            }
                                        ],
                                        "table": [
                                            {
                                                "cells": {
                                                    "fill": {
                                                        "color": "#EBF0F8"
                                                    },
                                                    "line": {
                                                        "color": "white"
                                                    }
                                                },
                                                "header": {
                                                    "fill": {
                                                        "color": "#C8D4E3"
                                                    },
                                                    "line": {
                                                        "color": "white"
                                                    }
                                                },
                                                "type": "table"
                                            }
                                        ]
                                    },
                                    "layout": {
                                        "annotationdefaults": {
                                            "arrowcolor": "#2a3f5f",
                                            "arrowhead": 0,
                                            "arrowwidth": 1
                                        },
                                        "autotypenumbers": "strict",
                                        "coloraxis": {
                                            "colorbar": {
                                                "outlinewidth": 0,
                                                "ticks": ""
                                            }
                                        },
                                        "colorscale": {
                                            "diverging": [
                                                [
                                                    0,
                                                    "#8e0152"
                                                ],
                                                [
                                                    0.1,
                                                    "#c51b7d"
                                                ],
                                                [
                                                    0.2,
                                                    "#de77ae"
                                                ],
                                                [
                                                    0.3,
                                                    "#f1b6da"
                                                ],
                                                [
                                                    0.4,
                                                    "#fde0ef"
                                                ],
                                                [
                                                    0.5,
                                                    "#f7f7f7"
                                                ],
                                                [
                                                    0.6,
                                                    "#e6f5d0"
                                                ],
                                                [
                                                    0.7,
                                                    "#b8e186"
                                                ],
                                                [
                                                    0.8,
                                                    "#7fbc41"
                                                ],
                                                [
                                                    0.9,
                                                    "#4d9221"
                                                ],
                                                [
                                                    1,
                                                    "#276419"
                                                ]
                                            ],
                                            "sequential": [
                                                [
                                                    0,
                                                    "#0d0887"
                                                ],
                                                [
                                                    0.1111111111111111,
                                                    "#46039f"
                                                ],
                                                [
                                                    0.2222222222222222,
                                                    "#7201a8"
                                                ],
                                                [
                                                    0.3333333333333333,
                                                    "#9c179e"
                                                ],
                                                [
                                                    0.4444444444444444,
                                                    "#bd3786"
                                                ],
                                                [
                                                    0.5555555555555556,
                                                    "#d8576b"
                                                ],
                                                [
                                                    0.6666666666666666,
                                                    "#ed7953"
                                                ],
                                                [
                                                    0.7777777777777778,
                                                    "#fb9f3a"
                                                ],
                                                [
                                                    0.8888888888888888,
                                                    "#fdca26"
                                                ],
                                                [
                                                    1,
                                                    "#f0f921"
                                                ]
                                            ],
                                            "sequentialminus": [
                                                [
                                                    0,
                                                    "#0d0887"
                                                ],
                                                [
                                                    0.1111111111111111,
                                                    "#46039f"
                                                ],
                                                [
                                                    0.2222222222222222,
                                                    "#7201a8"
                                                ],
                                                [
                                                    0.3333333333333333,
                                                    "#9c179e"
                                                ],
                                                [
                                                    0.4444444444444444,
                                                    "#bd3786"
                                                ],
                                                [
                                                    0.5555555555555556,
                                                    "#d8576b"
                                                ],
                                                [
                                                    0.6666666666666666,
                                                    "#ed7953"
                                                ],
                                                [
                                                    0.7777777777777778,
                                                    "#fb9f3a"
                                                ],
                                                [
                                                    0.8888888888888888,
                                                    "#fdca26"
                                                ],
                                                [
                                                    1,
                                                    "#f0f921"
                                                ]
                                            ]
                                        },
                                        "colorway": [
                                            "#636efa",
                                            "#EF553B",
                                            "#00cc96",
                                            "#ab63fa",
                                            "#FFA15A",
                                            "#19d3f3",
                                            "#FF6692",
                                            "#B6E880",
                                            "#FF97FF",
                                            "#FECB52"
                                        ],
                                        "font": {
                                            "color": "#2a3f5f"
                                        },
                                        "geo": {
                                            "bgcolor": "white",
                                            "lakecolor": "white",
                                            "landcolor": "#E5ECF6",
                                            "showlakes": true,
                                            "showland": true,
                                            "subunitcolor": "white"
                                        },
                                        "hoverlabel": {
                                            "align": "left"
                                        },
                                        "hovermode": "closest",
                                        "mapbox": {
                                            "style": "light"
                                        },
                                        "paper_bgcolor": "white",
                                        "plot_bgcolor": "#E5ECF6",
                                        "polar": {
                                            "angularaxis": {
                                                "gridcolor": "white",
                                                "linecolor": "white",
                                                "ticks": ""
                                            },
                                            "bgcolor": "#E5ECF6",
                                            "radialaxis": {
                                                "gridcolor": "white",
                                                "linecolor": "white",
                                                "ticks": ""
                                            }
                                        },
                                        "scene": {
                                            "xaxis": {
                                                "backgroundcolor": "#E5ECF6",
                                                "gridcolor": "white",
                                                "gridwidth": 2,
                                                "linecolor": "white",
                                                "showbackground": true,
                                                "ticks": "",
                                                "zerolinecolor": "white"
                                            },
                                            "yaxis": {
                                                "backgroundcolor": "#E5ECF6",
                                                "gridcolor": "white",
                                                "gridwidth": 2,
                                                "linecolor": "white",
                                                "showbackground": true,
                                                "ticks": "",
                                                "zerolinecolor": "white"
                                            },
                                            "zaxis": {
                                                "backgroundcolor": "#E5ECF6",
                                                "gridcolor": "white",
                                                "gridwidth": 2,
                                                "linecolor": "white",
                                                "showbackground": true,
                                                "ticks": "",
                                                "zerolinecolor": "white"
                                            }
                                        },
                                        "shapedefaults": {
                                            "line": {
                                                "color": "#2a3f5f"
                                            }
                                        },
                                        "ternary": {
                                            "aaxis": {
                                                "gridcolor": "white",
                                                "linecolor": "white",
                                                "ticks": ""
                                            },
                                            "baxis": {
                                                "gridcolor": "white",
                                                "linecolor": "white",
                                                "ticks": ""
                                            },
                                            "bgcolor": "#E5ECF6",
                                            "caxis": {
                                                "gridcolor": "white",
                                                "linecolor": "white",
                                                "ticks": ""
                                            }
                                        },
                                        "title": {
                                            "x": 0.05
                                        },
                                        "xaxis": {
                                            "automargin": true,
                                            "gridcolor": "white",
                                            "linecolor": "white",
                                            "ticks": "",
                                            "title": {
                                                "standoff": 15
                                            },
                                            "zerolinecolor": "white",
                                            "zerolinewidth": 2
                                        },
                                        "yaxis": {
                                            "automargin": true,
                                            "gridcolor": "white",
                                            "linecolor": "white",
                                            "ticks": "",
                                            "title": {
                                                "standoff": 15
                                            },
                                            "zerolinecolor": "white",
                                            "zerolinewidth": 2
                                        }
                                    }
                                },
                                "title": {
                                    "text": "Eventos por ano"
                                }
                            }
                        }
                    },
                    "metadata": {},
                    "output_type": "display_data"
                }
            ],
            "source": [
                "fig3 = px.pie(df_ano_evento, values='Total de resumos', names='Ano', title='Eventos por ano')\n",
                "fig3.show()"
            ]
        },
        {
            "cell_type": "markdown",
            "metadata": {},
            "source": [
                "## Analisar a coluna Eventos e ST"
            ]
        },
        {
            "cell_type": "code",
            "execution_count": 35,
            "metadata": {},
            "outputs": [
                {
                    "data": {
                        "text/plain": [
                            "array(['001. \"De que África estamos falando\\x94 (I) : perspectivas da pesquisa histórica e do ensino de História da África (do século XI à primeira metade do século XIX)',\n",
                            "       '002. \"De que África estamos falando\\x94 (II): perspectivas da pesquisa histórica e do ensino de História da África (do século XIX à configuração dos Estados independentes).\\x94',\n",
                            "       '003. A dinâmica imperial e a comunicação política no Antigo Regime do mundo português, séculos XVI-XIX',\n",
                            "       '004. A EDUCAÇÃO E A FORMAÇÃO DA SOCIEDADE BRASILEIRA',\n",
                            "       '005. A empresa jesuítica: da antiga Companhia à Companhia restaurada',\n",
                            "       '006. A História Antiga e as fronteiras do conhecimento histórico',\n",
                            "       '008. A História Pública e os Públicos da História',\n",
                            "       '009. A instituição militar no Brasil: diálogos entre história e ciências sociais',\n",
                            "       '011. A Presença Indígena na História do Brasil',\n",
                            "       '013. Antiguidade e Modernidade: usos do passado / 018. As Formas e os Limites do Político nos Estudos Medievais',\n",
                            "       '015. APRENDIZAGEM,  COMPETÊNCIAS  E FORMAÇÃO DA CONSCIÊNCIA HISTÓRICA.',\n",
                            "       '016. Arquivos, Memórias e Repressão Política no Cone Sul: novas fontes e abordagens',\n",
                            "       '017. As construções históricas dos saberes populares',\n",
                            "       '019. As sensibilidades e a subjetividade na produção do conhecimento histórico sobre as artes, as ciências e o pensamento.',\n",
                            "       '020. Assistência, políticas públicas e sociedade no Brasil',\n",
                            "       '021. Escravidão e documentação: registros cartoriais e eclesiásticos como fontes para as pesquisas em escravidão',\n",
                            "       '022. Autoritarismos, Memória e Resistência: Movimentos de Direita nos Séculos XX e XXI',\n",
                            "       '023. Catolicismo, repressão e diversidade cultural na América portuguesa / 029. Cultura e Educação: Portugal e Brasil (1750-1834) / 099. Inquisição: fontes, circunstâncias, personagens, imaginários',\n",
                            "       '024. Cidades no Brasil contemporâneo: trânsitos pela sociedade, cultura e poder',\n",
                            "       '025. Como a arte pode transformar a vida: experiências culturais e políticas de ontem e de hoje',\n",
                            "       '026. Conhecimento histórico da Cidade: a escrita da história por meio do diálogo entre as diversas formas de apreensão da Memória.',\n",
                            "       '027. Conhecimento histórico e diálogos sobre cultura e política na América Latina a partir do século XIX',\n",
                            "       '031. Cultura visual, imagem e história: visualidade e culturas históricas',\n",
                            "       '032. Culturas, Memórias e Histórias: espaços e territórios na/da cidade',\n",
                            "       '034. Da escravidão e da liberdade: Processos, biografias e experiências da abolição e do pós-emancipação em perspectiva transnacional',\n",
                            "       '035. Desenvolvimento sustentável, responsabilidades, resiliências e resistências na sociedade de controle.',\n",
                            "       '036. Diálogos sociais na formação do historiador/professor: experiências de ensino a partir de projetos e políticas públicas',\n",
                            "       '037. Didática da História: articulações entre pesquisa e ensino',\n",
                            "       '038. Dimensões e Fronteiras do Estado Brasileiro no Século XIX',\n",
                            "       '039. E/IMIGRAÇÕES: HISTÓRIAS, CULTURAS, TRAJETÓRIAS.',\n",
                            "       '040. Ensino de história: questões contemporâneas',\n",
                            "       '041. Estado, Poder e Violência no Brasil e países Latino-Americanos: ditaduras, projetos nacionais, imperialismo e lutas sociais',\n",
                            "       '042. Estado, representação política e sistemas partidários.',\n",
                            "       '043. ESTUDOS REGIONAIS: HISTÓRIA, EDUCAÇÃO E ENSINO DE HISTÓRIA - CONSTRUINDO CAMINHOS.',\n",
                            "       '044. Famílias e seus enredos: cenários de solidariedades e conflitos no Brasil do século XVI ao XIX',\n",
                            "       '045. Festas e sociabilidades na ressignificação do patrimônio imaterial no Brasil (séculos XIX e XX)',\n",
                            "       '046. Figurações e tramas do político: conhecimento, linguagens e sensibilidades',\n",
                            "       '047. Formação de professores: saberes e práticas do Ensino de História',\n",
                            "       '048. Fronteira Oeste: Poder, Economia e Sociedade / 049. Fronteiras e História',\n",
                            "       '050. Gênero, Feminismos e Memórias na América Latina',\n",
                            "       '051. GT Mundos do Trabalho \\x96 Instituições e política; costumes e direitos',\n",
                            "       '052. GT Mundos do Trabalho \\x96 Trabalho escravo e trabalho livre: cultura, costumes e lutas',\n",
                            "       '053. GT Mundos do Trabalho: Processos produtivos, condições de trabalho, conflitos sociais e formas de resistência dos trabalhadores',\n",
                            "       '054. Habitação e direito à cidade: favelas, mocambos, periferias e assentamentos informais no Brasil/071. História dos Quilombos',\n",
                            "       '055. História & Música', '056. História & Teatro',\n",
                            "       '057. História Ambiental: Natureza e Sociedade na Interpretação Histórica',\n",
                            "       '058. História da Educação no Meio Rural: sujeitos, práticas e representações',\n",
                            "       '059. História da Infância, da Adolescência e da Juventude: diálogo social e interdisciplinaridade',\n",
                            "       '060/061/088: História da Loucura e da Psiquiatria: representação, experiências e patrimônio',\n",
                            "       '062. História da Saúde e das Doenças: representações, conhecimento científico e instituições',\n",
                            "       '063. História das Instituições e da Cultura Política',\n",
                            "       '064. História das mulheres: relações de gênero, violência e políticas públicas.',\n",
                            "       '065. História do crime, da polícia e da justiça criminal',\n",
                            "       '066. História do desenvolvimento econômico no Brasil',\n",
                            "       '067. História do Esporte',\n",
                            "       '068. História do Livro, da Leitura e da Escrita no Brasil',\n",
                            "       '069. História do Tempo Presente e Memória',\n",
                            "       '072. HISTÓRIA E CINEMA: DIÁLOGOS EM PESQUISA E ENSINO',\n",
                            "       '073. História e Comunicação: Mídias, Intelectuais e Participação Política',\n",
                            "       '074/098: História, cultura e a temática indígena nas universidades: lacunas historiográficas de uma igualdade duvidosa',\n",
                            "       '075/106: História, Direito e Memória',\n",
                            "       '077. HISTÓRIA E MEMÓRIA DO TURISMO',\n",
                            "       '078. História e Patrimônio Cultural',\n",
                            "       '079. História e Quadrinhos: Pesquisa e Ensino em História e as Interações com a Nona Arte / 096. Imprensa ilustrada e jornalismo no Brasil do século XIX ',\n",
                            "       '080. História e representações religiosas \\x96 memória, identidades e território',\n",
                            "       '082. Historia Militar / 115. O Brasil e a Segunda Guerra Mundial',\n",
                            "       '084. HISTÓRIA POLÍTICA E HISTÓRIA DAS IDEIAS: DIÁLOGOS POSSÍVEIS',\n",
                            "       '085. História, Cinema e Televisão: dimensões históricas do audiovisual',\n",
                            "       '086. História, historiadores e memória das comunidades: diálogos possíveis',\n",
                            "       '087. História, literatura e sociedade',\n",
                            "       '089. Historiografia e Escrita da História: conhecimento histórico e diálogo social',\n",
                            "       '090. Idéias, intelectuais e instituições - conhecimento histórico e diálogo social.',\n",
                            "       '091. Igreja, sociedade e relações de Poder na Idade Média',\n",
                            "       '092. Imagens da Morte: a Morte, o Morrer e os Mortos em Sociedades Ibero-americanas',\n",
                            "       '093. Imagens de arte atuam sobre nós: dialética, anacronismo, montagem, sobrevivência.',\n",
                            "       '094. Império e Colonização: economia e sociedade na América Portuguesa',\n",
                            "       '095. Impérios Ibéricos no Antigo Regime: política, sociedade e cultura',\n",
                            "       '097. Imprensa, Cinema e História Contemporânea: Novos Objetos e Métodos da Investigação Histórica / 096. Imprensa ilustrada e jornalismo no Brasil do século XIX ',\n",
                            "       '100. Intelectuais no espaço ibero-americano: projetos políticos e mediação cultural',\n",
                            "       '101. Intelectuais, Sociedade e Política no Brasil (Séculos XIX e XX)',\n",
                            "       '102. Livro Didático e história ensinada',\n",
                            "       '103. Marxismo, Conhecimento Histórico e Realidade Social',\n",
                            "       '104. MEMÓRIA, HISTÓRIA E ENSINO DE HISTORIA: DIÁLOGO ENTRE DIFERENTES SABERES.',\n",
                            "       '105. Memória, História Oral, Audiovisual. Produção de fontes para narrativas biográficas.',\n",
                            "       '107. Memórias, Identidades e Conflitos sociais',\n",
                            "       '108. Migrações em questão: Entre o conhecimento histórico e o diálogo social',\n",
                            "       '109. Militares, sociedade e política',\n",
                            "       '110. MULHERES, FEMINISMOS E GÊNERO: DIÁLOGOS (IN)TENSOS NA HISTÓRIA',\n",
                            "       '111. Narrativas de florestas e cidades amazônicas: patrimônios, histórias e literaturas em trânsitos orais, escritos e visuais',\n",
                            "       '112. NARRATIVAS E INVENÇÕES DE SI: tempo, escritas e representações',\n",
                            "       '113. NAS FRONTEIRAS DA HISTÓRIA CULTURAL E DA HISTÓRIA SOCIAL: DIÁLOGOS ENTRE MANIFESTAÇÕES ARTÍSTICAS, ESTÉTICA E SEGMENTOS SOCIAIS',\n",
                            "       '114. Nas Oficinas da história: Ensino de História e historiografia',\n",
                            "       '117. O ENSINO DE HISTÓRIA NA FORMAÇÃO DE PROFESSORES: FONTES, PROBLEMAS, TEMÁTICAS E LINGUAGENS',\n",
                            "       '118. O Estado Brasileiro em Perspectiva Historiográfica (séculos XIX e XX)',\n",
                            "       '119. O governo da cidade: práticas políticas e culturais no Brasil Império e na Primeira República',\n",
                            "       '120/134: Produção e circulação de saberes, ideias e práticas nos mundos ibéricos: América Luso- Hispânica, Europa e Oriente',\n",
                            "       '122. O Rural em teoria: conceitos e abordagens para o estudo da História no meio rural',\n",
                            "       '123. Os arquivos como objeto de pesquisa: representações, configurações e usos dos acervos arquivísticos',\n",
                            "       '125. Patrimônio cultural e produção do conhecimento histórico: desafios para o diálogo social',\n",
                            "       '126/127: Patrimônio Histórico, História da Arte e territorialidades: novos espaços de ação social',\n",
                            "       '129. Poderes e Cultura Política no Brasil',\n",
                            "       '130. Política Externa e Relações Internacionais: História e Historiografia',\n",
                            "       '131. Política, Sociedade e cultura: revisitando a Primeira República brasileira',\n",
                            "       '132. Pós-abolição: racialização, memória e trabalho.',\n",
                            "       '133. Práticas e Representações Religiosas na História do Brasil',\n",
                            "       '135. Relações Políticas e Conexões Culturais na América Portuguesa do Período Filipino',\n",
                            "       '136. Religiões Mediúnicas e Afro-Brasileiras no âmbito da pesquisa histórica',\n",
                            "       '138. Sociedade, Trabalho e Política em Áreas de Fronteira',\n",
                            "       '139. Tradicionalismo, conservadorismo e militância católica',\n",
                            "       '140. Trajetórias e biografias: modelos, limites, desafios e possibilidades',\n",
                            "       '141. Zonas de fronteira e caminhos \\x93mato adentro\\x94: história e historiografia acerca dos sertões brasileiros',\n",
                            "       '001. \"De que África estamos falando\" (II): perspectivas da pesquisa histórica e do ensino de História da África (do século XIX à configuração dos Estados independentes).',\n",
                            "       '002. \"De que África estamos falando\\x94 (I) : perspectivas da pesquisa histórica e do ensino de História da África (do século XI à primeira metade do século XIX)',\n",
                            "       '003. \"Lugares de mulheres, lugares de homens: gênero, silêncios e palavras\" - Sessão A',\n",
                            "       '003. \"Lugares de mulheres, lugares de homens: gênero, silêncios e palavras\" - Sessão B',\n",
                            "       '004. A América espanhola e suas conexões coloniais: trânsitos, poderes e disputas',\n",
                            "       '005. A escravidão negra nas Américas: o antigo problema sob novas miradas',\n",
                            "       '007. A História Global em debate: métodos, historiografia e estudos de casos',\n",
                            "       '008. A instituição militar: diálogos entre história e ciências sociais',\n",
                            "       '009. A morte, o morrer e os mortos na Ibero-América: história, representações e novos problemas',\n",
                            "       '011. Antiguidade e Modernidade: usos do passado',\n",
                            "       '012. APRENDIZAGEM E FORMAÇÃO DA CONSCIÊNCIA HISTÓRICA NA EDUCAÇÃO ESCOLAR',\n",
                            "       '013. Arquivos como objeto: materialidade, temporalidade e trajetórias dos acervos documentais',\n",
                            "       '014. ARTE E PATRIMÔNIO',\n",
                            "       '015. As \"escritas de si\" e as relações entre o público e o privado nas Américas (séculos XIX-XXI)',\n",
                            "       '016. As formas da história e o lugar dos historiadores',\n",
                            "       '017. As sensibilidades e a subjetividade na produção do conhecimento histórico sobre as artes, as ciências e o pensamento',\n",
                            "       '018. Assistência e pobreza: novos desafios historiográficos',\n",
                            "       '019. Autoritarismo e direita: doutrinas, práxis e movimentos',\n",
                            "       '020. Catolicismo e Política: entre conservadores e progressistas',\n",
                            "       '021. Cidade, Cultura e Trabalho: Memórias e Dissidências',\n",
                            "       '022. Cidade: histórias, memórias e fontes orais \\x96 desafios, limites e possibilidades.',\n",
                            "       '023. Cidades e Práticas Culturais: modernidade, subjetividades e configurações de  identidades',\n",
                            "       '024. Circulações entre teorias e práticas na produção do conhecimento histórico, artístico e cultural',\n",
                            "       '026. Contrabando, descaminhos e heterodoxias religiosas na Época Moderna',\n",
                            "       '027. Cultura audiovisual, memória e narrativas do pertencimento: território e identidade na contemporaneidade.',\n",
                            "       '028. Cultura Escrita no império luso-brasileiro: circulação da escrita manuscrita e impressa',\n",
                            "       '029. Cultura jurídica e formação institucional no Brasil: justiça, poder e economia na formação do Estado',\n",
                            "       '030. Cultura Visual e História: os sentidos das imagens no oficio do historiador',\n",
                            "       '032. Culturas escolares e práticas educativas: escritas, narrativas e usos sociais',\n",
                            "       '033. CULTURAS, MEMÓRIAS E HISTÓRIAS: ESPAÇOS E TERRITÓRIOS NA/DA CIDADE',\n",
                            "       '034. De Loyola a Certeau: a Companhia de Jesus e a(s) escrita(s) da História',\n",
                            "       '036. Dimensões do Catolicismo no mundo ibérico e colonial',\n",
                            "       '037. Direitas, História e Memória',\n",
                            "       '038. Ditaduras de segurança nacional no Cone Sul: história e memória em tempos de verdade e justiça',\n",
                            "       '039. Ditaduras e Democracias no Mundo Contemporâneo: Rupturas e Continuidades',\n",
                            "       '040. Diversidades, memória e ensino de história: novos desafios',\n",
                            "       '041. E/Imigrações: histórias, culturas, trajetórias.',\n",
                            "       '042. Ensino, memória e patrimônio: as África (s) e suas representações na cultura e identidade dos negros e negras brasileiras',\n",
                            "       '043. Entre a curva e o caso: velhos e novos desafios para a História da Família',\n",
                            "       '044. Espaços memoriais: Arquivos, patrimônios material edificado e intangível no Brasil dos séculos XIX e XX.',\n",
                            "       '045. Estado e Intelectuais no Brasil \\x96 Teoria e Metodologia de Pesquisa em desafio permanente (séculos XIX e XX)',\n",
                            "       '046. Estado, Poder e Violência no Brasil e países Latino-Americanos: ditaduras, projetos nacionais, imperialismo e lutas sociais',\n",
                            "       '047. ESTADOS UNIDOS: sociedade, política e cultura (XVIII ao XXI)',\n",
                            "       '048. GÊNERO, FEMINISMOS E IDENTIDADES: novos lugares e desafios',\n",
                            "       '049. Gênero, História e o Mundo do Trabalho Doméstico.',\n",
                            "       '050. Habitação e direito à cidade: favelas, mocambos, periferias e assentamentos informais no Brasil',\n",
                            "       '051. História & Música', '052. História & Teatro',\n",
                            "       '053. História Ambiental: ciência, tecnologia e recursos naturais',\n",
                            "       '054. História Ambiental: espaço, território e natureza',\n",
                            "       '055. História Ambiental: política e sociedade',\n",
                            "       '056. História da Educação: entre práticas e representações',\n",
                            "       '057. História da história ensinada e os livros didáticos',\n",
                            "       '058. História da Infância, da Adolescência e da Juventude no Brasil: perspectivas atuais e desafios futuros',\n",
                            "       '059. HISTÓRIA DA LOUCURA, DA PSIQUIATRIA E DAS INSTITUIÇÕES DE ASSISTÊNCIA.',\n",
                            "       '060. História da saúde e da doença: perspectivas historiográficas e metodologias - Sessão A',\n",
                            "       '060. História da saúde e da doença: perspectivas historiográficas e metodologias - Sessão B',\n",
                            "       '061. História das Ciências no Brasil: produção, práticas e institucionalização',\n",
                            "       '062. HISTÓRIA DAS RELIGIÕES E DAS RELIGIOSIDADES: DESAFIOS E PERSPECTIVAS',\n",
                            "       '063. História do crime, da polícia e da justiça criminal',\n",
                            "       '064. História do Direito e História Social: fontes, temas, metodologias',\n",
                            "       '065. História do Esporte e das Práticas Corporais',\n",
                            "       '066. HISTÓRIA DO TEMPO PRESENTE: ACERVOS, MEMÓRIAS  E NARRATIVAS',\n",
                            "       '067. História e Culturas Políticas no Brasil Republicano',\n",
                            "       '068. História e Ensino de História: a produção de saberes na formação e na prática docente',\n",
                            "       '069. HISTÓRIA E INDÍGENAS NAS UNIVERSIDADES: PESQUISAS E ENSINO',\n",
                            "       '072. HISTÓRIA ECONÔMICO-SOCIAL EM DEBATE: SÉCULOS XIX e XX',\n",
                            "       '073. História Indígena, Historiografia e Indigenismo: contribuições, desafios e perspectivas',\n",
                            "       '074. História Política: conceitos, métodos e suas múltiplas experiências.',\n",
                            "       '076. História, literatura e sociedade',\n",
                            "       '077. História, memória e práticas educativas no ensino de história, na história da educação e na educação patrimonial',\n",
                            "       '078. História, Museus e Museologia: velhos e novos desafios',\n",
                            "       '079. Histórias da História ensinada: experiências educacionais, currículos, impressos e processos formativos',\n",
                            "       '080. HISTÓRIAS, MEMÓRIAS E PATRIMÔNIOS: O TRABALHO DO HISTORIADOR ENTRE RASTROS E POSSIBILIDADES',\n",
                            "       '081. Igreja, Sociedade e Poder na Idade Média',\n",
                            "       '082. Imigrantes: memórias, trabalho, política e repressão',\n",
                            "       '083. Império e Colonização: economia e sociedade na América Portuguesa',\n",
                            "       '084. Impérios Ibéricos no Antigo Regime: política, sociedade e cultura',\n",
                            "       '085. Intelectuais e História:Experiências, Gerações e Mediações',\n",
                            "       '086. Intelectuais e mediação cultural (séculos XIX e XX)',\n",
                            "       '087. Intelectuais, poder e ideias políticas no Brasil',\n",
                            "       '088. Intelectuais, Sociedade e Política: Memórias e Biografias',\n",
                            "       '089. Lugares do cinema e da televisão na história, lugares da história no cinema e na televisão',\n",
                            "       '090. Lugares e fazeres do historiador no campo do patrimônio cultural e dos museus etnográficos',\n",
                            "       '091. MARXISMO E HISTÓRIA: LUGARES TEMÁTICOS, DESAFIOS TEÓRICOS - Sessão A',\n",
                            "       '091. MARXISMO E HISTÓRIA: LUGARES TEMÁTICOS, DESAFIOS TEÓRICOS - Sessão B',\n",
                            "       '092. Memória, narrativa e invenção: artes, culturas urbanas e escrita da História',\n",
                            "       '093. Movimento estudantil e Universidades em contextos autoritários: memórias, resistências e repressão.',\n",
                            "       '094. Mundos do trabalho: cultura e cotidiano',\n",
                            "       '095. Mundos do Trabalho: debates teóricos, métodos e fontes de pesquisa',\n",
                            "       '096. Mundos do Trabalho: organizações e lutas por direitos - Sessão A',\n",
                            "       '096. Mundos do Trabalho: organizações e lutas por direitos - Sessão B',\n",
                            "       '098. Narrativas (auto)biográficas e historiografia didática: que articulações possíveis no currículo escolar face às demandas do tempo presente?',\n",
                            "       '099. Narrativas de florestas e cidades amazônicas: patrimônios, histórias e literaturas em trânsitos orais, escritos e visuais',\n",
                            "       '100. Narrativas identitárias: lugares, memórias',\n",
                            "       '101. O Brasil no contexto da Segunda Guerra Mundial: cultura, política, sociedade e Forças Armadas',\n",
                            "       '102. O Ensino de História e a Educação de Jovens e Adultos: materiais didáticos, currículos, práticas docentes e identidades.',\n",
                            "       '104. O Lugar da História e dos Historiadores no Campo Interdisicplinar: convergências/dissonâncias entre História, Ficção e o Lugar da Obra de Arte como Documento de Pesquisa Histórica',\n",
                            "       '106. O protagonismo indígena na História: abordagens interdisciplinares em contextos coloniais e pós-colonais',\n",
                            "       '107. Os lugares das imagens',\n",
                            "       '108. Outras paisagens do cativeiro e da liberdade: abolição, abolicionismo e pós-emancipação',\n",
                            "       '109. Pesquisa histórica e relevância social da historiografia: interesse, continuidade e responsabilidade como problemas para o historiador do século 21',\n",
                            "       '110. Poder e saberes no século XIX: literatura, artes, imprensa, livros, missivas e política - Sessão A',\n",
                            "       '110. Poder e saberes no século XIX: literatura, artes, imprensa, livros, missivas e política - Sessão B',\n",
                            "       '111. Política Externa e Relações Internacionais: história e historiografia',\n",
                            "       '112. Pós-abolição, Identidades e Culturas',\n",
                            "       '113. Propriedades & usos coletivos na história rural do Brasil',\n",
                            "       '114. REEDUCAÇÃO DAS RELAÇÕES ÉTNICO-RACIAIS E ENSINO DE HISTÓRIA: DIÁLOGOS POSSÍVEIS, RELAÇÕES NECESSÁRIAS',\n",
                            "       '115. Simpósio Temático História e Direito',\n",
                            "       '116. Sociedade, Trabalho e Política em Áreas de Fronteira',\n",
                            "       '117. TRAJETÓRIAS E BIOGRAFIAS: MODELOS, LIMITES, DESAFIOS E POSSIBILIDADES',\n",
                            "       '118. Unidade e diversidade no Mundo Antigo',\n",
                            "       '119. Violência contra a mulher: conceituações e práticas sociais',\n",
                            "       'ST 001 - A cultura e as artes na ditadura militar',\n",
                            "       'ST 002 - A DOCÊNCIA EM HISTÓRIA: travessias formativas, saberes profissionais e experiências didático-históricas',\n",
                            "       'ST 003 - A Fronteira Oeste do Brasil: história, historiografia, culturas políticas, memórias, migrações, identidades e reordenamentos espaciais',\n",
                            "       'ST 004 - A História Global: métodos, abordagens e historiografia e ST 015 - As Américas do século XVI ao XVIII: conexões entre o local e o global',\n",
                            "       'ST 005 - A História Militar: contra o preconceito, saberes e práticas científicas',\n",
                            "       'ST 008 - A Primeira Modernidade: novos mundos, novas ordens',\n",
                            "       'ST 009 - África contemporânea: Novos temas e novas abordagens',\n",
                            "       'ST 010 - África: pluralismo histórico e temático (do século XI à primeira metade do século XIX)',\n",
                            "       'ST 011 - Anarquismo em questão: conceitos, práticas e trajetórias.',\n",
                            "       'ST 012 - Antiguidade e Modernidade: usos do passado',\n",
                            "       'ST 013 - Arquivos como objeto de pesquisa: representações, configurações e usos',\n",
                            "       'ST 014 - Artes visuais, política e representação',\n",
                            "       'ST 016 - As condições históricas das legislações sobre o Patrimônio Cultural e ST 085 - Memória, narrativa e invenção: artes, culturas urbanas e escrita da História',\n",
                            "       'ST 017 - As sensibilidades na história: artes, ciências e pensamento',\n",
                            "       'ST 018 - Caminhos da política no Império do Brasil',\n",
                            "       'ST 019 - Catolicismo e Política: entre conservadores e progressistas',\n",
                            "       'ST 020 - Cidadania, democracia e revoluções: desafios e transformações na América Latina nos séculos XIX e XX.',\n",
                            "       'ST 021 - Comunismo e anticomunismo no Brasil republicano: velhos e novos desafios e ST 039 - Guerra Fria em novas perspectivas transnacionais',\n",
                            "       'ST 022 - Cultura Escrita no mundo ibérico colonial: produção, circulação, uso e conservação de manuscritos e impressos',\n",
                            "       'ST 023 - Da construção dos patrimônios ao acesso às cidades: direitos, negociações e conflitos',\n",
                            "       'ST 024 - Dimensões da desordem em colônias: contrabando, descaminhos e heterodoxias religiosas',\n",
                            "       'ST 025 - Direitas, História e Memória',\n",
                            "       'ST 026 - Ditaduras e Democracias no Mundo Contemporâneo: Rupturas e Continuidades',\n",
                            "       'ST 027 - E/Imigrações: histórias, culturas, trajetórias',\n",
                            "       'ST 028 - Educação democrática e ensino de história: potenciais e perigos das novas propostas de reforma educacional',\n",
                            "       'ST 029 - Ensino de História e as lutas entre narrativas: políticas, saberes e práticas',\n",
                            "       'ST 030 - Ensino de História e disputas pela memória',\n",
                            "       'ST 031 - Ensino de História, Currículo e Cultura: narrativas em disputa',\n",
                            "       'ST 032 - Entre a politização e o engajamento \\x96 obras de arte e seus criadores nos embates em favor de processos democráticos e dos exercícios de liberdade',\n",
                            "       'ST 033 - Estado, democracia e movimentos sociais no mundo contemporâneo.',\n",
                            "       'ST 034 - ESTADOS UNIDOS: sociedade, política e cultura (XVIII ao XXI)',\n",
                            "       'ST 035 - Estudos Africanos, Representações da África e o Ensino de História da África no Brasil.',\n",
                            "       'ST 036 - Fronteiras e Territorialidades',\n",
                            "       'ST 037 - Gramsci na Pesquisa Histórica (séculos XIX, XX E XXI)',\n",
                            "       'ST 038 - GT História da Saúde e das Doenças',\n",
                            "       'ST 040 - Habitação e direito à cidade: favelas, subúrbios, periferias e assentamentos informais no Brasil',\n",
                            "       'ST 041 - História & Música', 'ST 042 - História & Teatro',\n",
                            "       'ST 043 - História Ambiental: ciência, tecnologia e o mundo natural e ST 045 - História Ambiental: o Antropoceno, desastres e biodiversidadeHistória Ambiental: o Antropoceno, desastres e biodiversidade',\n",
                            "       'ST 044 - História Ambiental: espaço, território e natureza Coordenadores: Eurípedes Funes (Pós Doutor - UFC), Dora Shellard Corrêa (Dou-tor   ENS)',\n",
                            "       'ST 046 - História Antiga \\x96 Rumos e Interpretações',\n",
                            "       'ST 047 - História da Educação: culturas, práticas e representações',\n",
                            "       'ST 048 - História da loucura, da psiquiatria e das instituições de assistência.',\n",
                            "       'ST 049 - História da violência no mundo contemporâneo (séculos XIX a XXI)',\n",
                            "       'ST 050 - História de fazer a cidade um espaço democrático: memória, identidade e transformação urbana',\n",
                            "       'ST 051 - História do ensino de história e os livros didáticos',\n",
                            "       'ST 052 - História do Esporte e das Práticas Corporais',\n",
                            "       'ST 053 - História e Culturas Políticas no Brasil Republicano',\n",
                            "       'ST 054 - História e Direito',\n",
                            "       'ST 056 - História e literatura: Possibilidades no estudo da cidade',\n",
                            "       'ST 057 - História e Memória do Turismo',\n",
                            "       'ST 058 - História Econômico-Social nos séculos XIX, XX e XXI: diálogos interdisciplinares entre História, Economia e Relações Internacionais.',\n",
                            "       'ST 059 - História Indígena, Etno-história e Indígenas Historiadores: experiências descolonizantes, novas abordagens, sujeitos e objetos',\n",
                            "       'ST 060 - História Marítima: perspectivas do Atlântico e da Diáspora Africana.',\n",
                            "       'ST 062 - História Oral, História Visual, História Audiovisual: fontes históricas em sons e imagens.',\n",
                            "       'ST 063 - História Política: conceitos, métodos e suas múltiplas experiências',\n",
                            "       'ST 064 - História Rural: debates, conceitos e pesquisas',\n",
                            "       'ST 065 - História, cinema e televisão: espaços de construção da memória',\n",
                            "       'ST 067 - História, infâncias e juventudes: desafios e perspectivas',\n",
                            "       'ST 068 - História, memória e conflitos sociais: atores, trajetórias, narrativas',\n",
                            "       'ST 069 - História: Teoria e Ensino',\n",
                            "       'ST 070 - Historiografia em Debate: Princípios de Escrita e Teoria da História.',\n",
                            "       'ST 071 - Ideias em construção: produção, circulação e recepção de ideias por meio dos impressos e livros no Oitocentos - Um espaço de debates para a Sociedade de Estudos dos Oitocentos',\n",
                            "       'ST 072 - Igreja, Sociedade e Poder na Idade Média',\n",
                            "       'ST 073 - Imagem, Cultura Visual e História',\n",
                            "       'ST 074 - Imagens da Morte: historicidades e historiografias',\n",
                            "       'ST 075 - Império e Colonização: sociedade, economia e administração na América Portuguesa',\n",
                            "       'ST 076 - Impérios Ibéricos no Antigo Regime: política, sociedade e cultura',\n",
                            "       'ST 077 - Imprensa e circulação de ideias: o papel dos periódicos nos séculos XIX e XX',\n",
                            "       'ST 078 - Inquisição, clero e conexões religiosas no mundo ibérico e colonial',\n",
                            "       'ST 080 - Intelectuais e História:  experiências, trajetórias, biografias.',\n",
                            "       'ST 081 - Intolerâncias: História do Poder, Ideias e Sentimentos Políticos',\n",
                            "       'ST 082 - Literatura e sociedade',\n",
                            "       'ST 083 - Marxismo e História 1: capitalismo, imperialismo, democracia e preconceitos',\n",
                            "       'ST 084 - Marxismo e História 2: percursos das esquerdas e das direitas, democracia e lutas sociais',\n",
                            "       'ST 086 - Movimento estudantil e universidades em contextos autoritários: memórias, resistências e repressão.',\n",
                            "       'ST 087 - Mulheres em espaços festivos e de protestos no Brasil dos séculos XIX e XX e ST 089 - Múltiplas faces da violência de Gênero: avanços, ambiguidades e perspectivas',\n",
                            "       'ST 088 - Múltiplas Cidades: histórias, memórias, disputas e intervenções',\n",
                            "       'ST 090 - Mundos do Trabalho: debates teóricos, métodos e fontes de pesquisa',\n",
                            "       'ST 091 - Mundos do Trabalho: política e democracia',\n",
                            "       'ST 092 - NARRATIVAS DE FLORESTAS E CIDADES AMAZÔNICAS: Patrimônios, Histórias e Literaturas em Trânsitos Orais, Escritos e Visuais',\n",
                            "       'ST 093 - Narrativas identitárias e sensibilidades políticas',\n",
                            "       'ST 095 - Novos Percursos e Reconfigurações:  abolição, abolicionismos e pós-emancipação',\n",
                            "       'ST 097 - O Brasil e os grandes conflitos bélicos: memória, cultura, política, Forças Armadas e relações internacionais',\n",
                            "       'ST 099 - O diálogo biográfico : vidas construídas e o papel do historiador',\n",
                            "       'ST 100 - O ensino de história e os materiais didáticos em variados contextos educativos: dos livros impressos às tecnologias digitais',\n",
                            "       'ST 103 - Patrimônio, memória e cidadania.',\n",
                            "       'ST 104 - Poder, sociedade e cultura no Brasil Império',\n",
                            "       'ST 105 - Política em família: casamento e compadrio no mundo luso-brasileiro',\n",
                            "       'ST 106 - Política Externa e Relações Internacionais: história e historiografia',\n",
                            "       'ST 107 - Por uma compreensão histórica das aparências: os usos da moda, do vestuário e da visualidade de si em questão',\n",
                            "       'ST 108 - Pós-abolição: racialização, memórias e protagonismos negros',\n",
                            "       'ST 109 - Presença e Participação Indígena na História: diálogos interdisciplinares',\n",
                            "       'ST 110 - Profhistória \\x96 Mestrado Profissional em Ensino de História: resultados, potencialidades e desafios',\n",
                            "       'ST 112 - Rebeliões, Sedições, Conjurações: episódios e narrativas das contestações políticas no Brasil \\x96 séculos XVII-XIX',\n",
                            "       'ST 113 - Reeducação étnico-racial e ensino de História: diálogos possíveis, relações necessárias',\n",
                            "       'ST 114 - Religiões, religiosidades, hibridismos e crenças afro-brasileiras',\n",
                            "       'ST 115 - Repensar a \\x93velha república\\x94: novas reflexões e desafios na produção historiográfica sobre a Primeira República',\n",
                            "       'ST 116 - Representações: política, imagens e escritas',\n",
                            "       'ST 118 - Trajetórias e biografias: modelos, limites, desafios e possibilidades.',\n",
                            "       'ST 119 - Um balanço dos museus em tempos de crise: novos atores e novas questões ou a celebração do mesmo?',\n",
                            "       'ST 120 - Mundos do Trabalho: trabalho de mulheres, relações de gênero e organização social',\n",
                            "       '001. \\x93A classe trabalhadora vai ao paraíso?\\x94 Ensino de História, emancipação, sujeitos e saberes em processos formais e não formais de educação.',\n",
                            "       '003. A cultura e as artes na ditadura militar',\n",
                            "       '005. A História Global: métodos, abordagens e historiografia',\n",
                            "       '006. A História Política e os estudos sobre o autoritarismo e a violência no Brasil republicano.',\n",
                            "       '008. A narrativa histórica escolar entre desafios do tempo presente e embates político-culturais',\n",
                            "       '010. África contemporânea: novos temas, questões de pesquisa e novas abordagens',\n",
                            "       '014. Antiguidade e Modernidade: usos do passado',\n",
                            "       '016. Arquivos e coleções como objeto de pesquisa: constituição, configuração e usos',\n",
                            "       '019. Arte, artistas e intelectuais na África e na diáspora: trânsitos coloniais e pós coloniais',\n",
                            "       '022. As famílias e suas estratégias de viver e sobreviver, séculos XVI a XIX',\n",
                            "       '023. As sensibilidades entre a razão instrumental e a desrazão',\n",
                            "       '026. Biografando intelectuais',\n",
                            "       '027. Caminhos da medicalização: a trajetória das relações entre medicina, saúde e sociedade no Brasil',\n",
                            "       '028. Catolicismos e Política: entre conservadores e progressistas',\n",
                            "       '029. Cidades em disputa: histórias, memórias, práticas do/no espaço',\n",
                            "       '032. Clio \\x93sai do armário\\x94: Homossexualidades e escrita da História',\n",
                            "       '033. Cultura Visual, História e Imagem',\n",
                            "       '034. Das margens: mulheres, gênero, sertões',\n",
                            "       '036. Desafios e transformações na América Latina: da constituição dos Estados nacionais no século XIX aos processos de abertura política no século XX',\n",
                            "       '037. Desafios para o estudo do Mundo Antigo na produção nacional: Temas, objetos e abordagens',\n",
                            "       '038. Diálogos de saberes: as possibilidades de construção de conhecimento entre a universidade e a sala de aula',\n",
                            "       '039. Diálogos, experiências e práticas pedagógicas de uma disciplina sob suspeita: o ensino de História na atualidade',\n",
                            "       '041. Dimensões do Regime Vargas e seus desdobramentos',\n",
                            "       '042. Direitas, História e Memória.',\n",
                            "       '043. Ditadura civil-militar no Brasil - lutas e resistências',\n",
                            "       '044. Divulgação Científica de História & História Pública',\n",
                            "       '045. Educação democrática e ensino de história: reformas educacionais, proposições pedagógicas, embates políticos, ameaças à liberdade de ensinar e modos de resistência',\n",
                            "       '046. Educação, Ensino e Pesquisa: Interdisciplinaridade, Transversalidade, Diversidade.',\n",
                            "       '047. Emancipações e Pós-abolição: sociabilidades, trabalho, racialização e memórias da escravidão e da liberdade',\n",
                            "       '048. Ensino de História e disputas pela memória',\n",
                            "       '052. Estado Ampliado: Agentes, Agências e Redes de Poder (Séculos XIX, XX E XXI)',\n",
                            "       '053. Estado, democracia e movimentos sociais no mundo contemporâneo',\n",
                            "       '054. Feminismos contemporâneos: Pensamentos, lutas, trajetórias e memórias',\n",
                            "       '055. Feminismos, Relações de Gênero, Narrativas e Políticas Públicas',\n",
                            "       '056. Foucault entre o porão e o sótão: a crítica do presente e as formas da resistência em tempos neoliberais',\n",
                            "       '057. Fronteiras e Territorialidades',\n",
                            "       '058. Habitação e direito à cidade: favelas, subúrbios, periferias e assentamentos informais no Brasil',\n",
                            "       '059. História & Música Popular', '060. História & Teatro',\n",
                            "       '061. História Ambiental: ciência, sociedade e biodiversidade',\n",
                            "       '062. História Ambiental: espaço, território e natureza.',\n",
                            "       '063. História da Ásia',\n",
                            "       '064. História da Educação: sujeitos, instituições, políticas educativas e culturas escolares',\n",
                            "       '066. História da Infância, da Adolescência e da Juventude no Brasil: perspectivas atuais e desafios futuros',\n",
                            "       '067. Historia da saúde e das doenças',\n",
                            "       '068. História das Ciências e da Saúde no Brasil: As relações nação-região nos processos de institucionalização das ciências',\n",
                            "       '069. História das Religiões e das Religiosidades',\n",
                            "       '070. História das Religiões e Religiosidades: crenças, práticas e hibridismos.',\n",
                            "       '071. História do ensino de história e os livros didáticos',\n",
                            "       '072. História do Esporte e das Práticas Corporais',\n",
                            "       '073. História do Lazer e dos Usos Sociais do Tempo Livre',\n",
                            "       '074. História e Cidades: memória, identidades, estilos de vida e reconfigurações urbanas',\n",
                            "       '075. História e Culturas Políticas no Brasil Republicano',\n",
                            "       '077. História e Ficção: diálogos e contaminações',\n",
                            "       '080. História e Memória do Turismo', '081. História e mídia',\n",
                            "       '082. História Econômica e Social: diálogos interdisciplinares entre História, Economia e Relações Internacionais.',\n",
                            "       '083. História indígena e Educação no Brasil: balanço, desafios e perspectivas.',\n",
                            "       '084. História Militar: Teorias, metodologias e fontes de pesquisa.',\n",
                            "       '085. História Política 3 - comunismo e anticomunismo: histórias, memórias e historiografia',\n",
                            "       '086. História Política: conceitos, métodos e suas múltiplas experiências',\n",
                            "       '087. História Rural: conflitos, disputas e direitos de propriedade.',\n",
                            "       '088. História social da educação brasileira: políticas, instituições, sujeitos',\n",
                            "       '089. História, arte e patrimônio: usos das imagens e da cultura material e visual',\n",
                            "       '090. História, cinema e televisão: lugares de disputa pela memória',\n",
                            "       '091. História, Cultura impressa e Intelectuais',\n",
                            "       '092. História, literatura e sociedade',\n",
                            "       '093. História, memória e patrimônio: entre usos sociais do passado e os patrimônios plurais',\n",
                            "       '094. História: livro didático, formação docente e ensino de história',\n",
                            "       '095. Histórias Atlânticas em perspectiva: portos, gênero e diáspora africana',\n",
                            "       '096. Histórias dos Sertões entre lugares: sociedade e cultura',\n",
                            "       '098. Igreja, Sociedade e Poder na Idade Média',\n",
                            "       '100. Imagens da Morte: crenças, atitudes e símbolos sobre a morte, os mortos e o morrer',\n",
                            "       '102. Impérios Ibéricos no Antigo Regime: política, sociedade e cultura',\n",
                            "       '105. Intelectuais e política em perspectiva transnacional no século XX e XXI: Américas e Europa',\n",
                            "       '106. \"Intelectuais, nações e circulação de ideias nas Américas nos séculos XIX e XX\"',\n",
                            "       '107. Intercâmbios, redes, rotas e conexões na Monarquia Hispânica: a circulação de ideias, saberes, objetos e sujeitos nos domínios ibéricos (sécs. XVI e XVII)',\n",
                            "       '109. Jogar com a História: ludicidade, divertimento e construções no ensino de História',\n",
                            "       '111. Livros e materiais didáticos de história: produção, circulação, usos e leituras',\n",
                            "       '112. Marxismo e História 1: capitalismo, imperialismo, educação, democracia e perspectivas de futuro',\n",
                            "       '113. Marxismo e História 2: percursos das esquerdas e das direitas, lutas sociais, educação, democracia e perspectivas de futuro',\n",
                            "       '114. Memória, história e historiografia(s)',\n",
                            "       '115. Memória, narrativa e invenção: artes, culturas urbanas e escrita da História',\n",
                            "       '116. \\x93Migrações: processos, memórias, trajetórias e itinerários (séculos XIX e XX)\\x94',\n",
                            "       '117. Movimento estudantil e universidades em contextos autoritários: memórias, resistências e repressão.',\n",
                            "       '119. Mundos do trabalho: escravidão, liberdade e  as diversas formas de exploração do trabalho',\n",
                            "       '120. Mundos do Trabalho: Lutas Sociais e Democracia',\n",
                            "       '121. Mundos do Trabalho: trabalho de mulheres, relações de gênero e organização social',\n",
                            "       '123. Museus, história e educação: retrospectivas e perspectivas',\n",
                            "       '124. Narrativas identitárias e sensibilidades políticas II',\n",
                            "       '126. Novos olhares sobre a Época Moderna (séc. XV-XVIII)',\n",
                            "       '128. O ensino como pesquisa: história, memória e política.',\n",
                            "       '131. O lugar da História na construção de uma formação interdisciplinar: Educação - Arte - Cultura - Cidadania',\n",
                            "       '132. O Patrimônio Cultural em lugar de fronteira: pensar o diálogo entre a História, Educação, Arquitetura, Antropologia e Turismo',\n",
                            "       '137. Pensamento Social Brasileiro',\n",
                            "       '138. Pesquisa e Ensino sobre a Antiguidade e o Medievo frente às demandas do século XXI',\n",
                            "       '140. Política e Sociedade no Brasil Oitocentista',\n",
                            "       '141. Política Externa e Relações Internacionais: história e historiografia',\n",
                            "       '142. Por uma compreensão histórica das aparências: os usos da moda, do vestuário e da visualidade - um olhar para o ensino e a multiculturalidade',\n",
                            "       '143. Pós-Abolição no Mundo Atlântico: diálogos transnacionais entre África, Américas e Europa',\n",
                            "       '144. Povos Indígenas, Gênero e Violências: histórias marginais',\n",
                            "       '145. Profhistória \\x96 Mestrado Profissional em Ensino de História:  resultados, potencialidades e desafios \\x96 2ª Edição',\n",
                            "       '146. Protagonismos indígenas:  reescrevendo histórias por meio de biografias e histórias de vida',\n",
                            "       '147. Reeducação étnico-racial e ensino-aprendizagem em História: diálogos possíveis, relações necessárias',\n",
                            "       '148. Representação política no Brasil oitocentista: parlamento, grupos e sociedades, partidos, imprensa, elites intelectuais e movimentos populares',\n",
                            "       '149. Representações do continente africano, Ensino de História da África no Brasil e Estudos Africanos.',\n",
                            "       '153. Teoria da História e História da Historiografia I',\n",
                            "       '154. Teoria da História e História da Historiografia II',\n",
                            "       '157. Trajetórias e (auto)biografias: modelos, limites, desafios e possibilidades.',\n",
                            "       '158. Trajetórias, violência, criminalidade: história social nas tramas da Justiça',\n",
                            "       '159. Violência de Gênero: interseccionalidades e sociedades \\x93hiperconectadas\\x94',\n",
                            "       '161. Artes, Patrimônio e Educação: os múltiplos suportes',\n",
                            "       '162. História do Brasil e suas Conexões',\n",
                            "       'ST 001. A direita e seus matizes: novos estudos e abordagens',\n",
                            "       'ST 002. A disciplina histórica e suas fronteiras',\n",
                            "       'ST 003. A História Global em perspectiva: história, historiografia e métodos',\n",
                            "       'ST 004. A história militar em perspectiva: Abordagens sobre instituições e sujeitos',\n",
                            "       'ST 005. A História Política e os estudos sobre autoritarismo, violência e graves violações de direitos humanos no Brasil republicano.',\n",
                            "       'ST 006. A História Pública, História Local e Comunidades',\n",
                            "       'ST 008. A invenção do passado: intelectuais, tradições e mitos políticos na América Latina',\n",
                            "       'ST 009. A Pesquisa em História Antiga no Brasil Contemporâneo: abordagens, desafios e inquietações',\n",
                            "       'ST 010. Afetos, Poderes e Violências:  feminismos ,  relações de gênero,  interseccionalidades, sexualidades e diversas maneiras de pensar a História',\n",
                            "       'ST 011. Anarquismo em questão: conceitos, práticas, circulação e trajetórias',\n",
                            "       'ST 012. Antiguidade e Modernidade: usos do passado',\n",
                            "       'ST 013. Aprendizagem em História:  entre antigos e novos desafios',\n",
                            "       'ST 014. Arquivos e coleções como objeto de pesquisa: configurações e agenciamentos',\n",
                            "       'ST 016. Artes de curar, Pensamento Médico e Doenças no contexto da Escravidão e do pós-Emancipação',\n",
                            "       'ST 018. As relações local-global e região-nação nos processos de constituição e institucionalização das ciências e da saúde no Brasil',\n",
                            "       'ST 019. As sensibilidades e a discussão do estatuto de verdade nas humanidades e nas artes',\n",
                            "       'ST 020. Ativismo, movimentos sociais e politização do tempo no mundo contemporâneo.',\n",
                            "       'ST 021. Atlântico e Diásporas: diálogos em torno de histórias, fontes e novos conceitos',\n",
                            "       'ST 022. Aula de História: Teoria e Ensino',\n",
                            "       'ST 023. Casamento, família e compadrio no mundo ibero-americano (séculos XVII a  XIX)',\n",
                            "       'ST 024. Cidades em disputas: histórias, memórias, práticas do/no espaço',\n",
                            "       'ST 026. Cinema, historiografia e cultura visual',\n",
                            "       'ST 027. Clio saiu do armário: LGBTQIA+s e escrita da História',\n",
                            "       'ST 028. Colonização e Ultramar: A Amazônia colonial e o mundo atlântico Português \\x96 séculos XVII e XVIII',\n",
                            "       'ST 029. Da África ás Diásporas: Eurocentrismo, Colonialismo e Relações de Poder',\n",
                            "       'ST 030. Das margens: gênero, interseccionalidades, sertanidades e re-existências',\n",
                            "       'ST 031. De narrativas identitárias e sensibilidades políticas III',\n",
                            "       'ST 033. Diálogos do Ensino de História em perspectivas',\n",
                            "       'ST 034. Dimensões do Regime Vargas e seus desdobramentos',\n",
                            "       'ST 035. Direitas, História e Memória',\n",
                            "       'ST 036. Ditaduras e Democracias no Mundo Contemporâneo: rupturas e continuidades',\n",
                            "       'ST 037. Educação de Jovens e Adultos e Ensino de História: sujeitos, saberes e docência em processos emancipatórios de educação',\n",
                            "       'ST 038. Educação democrática e ensino de História: embates políticos, enfrentamento do anti-intelectualismo e dos negacionismos, proposições pedagógicas de caráter emancipador',\n",
                            "       'ST 039. Educação e sociedade: as mudanças e permanências na História da Educação entre os séculos XIX e XX',\n",
                            "       'ST 040. Emancipações e Pós-Abolição: ensino de história, educação das relações étnico-raciais e antirracismo',\n",
                            "       'ST 041. Emancipações e Pós-abolição: racialização, memórias, biografias, protagonismos, sociabilidades, territorialidades, educação e trabalho',\n",
                            "       'ST 042. Ensino de História Antiga: Narrativas em Disputa na Cultura Histórica Brasileira',\n",
                            "       'ST 043. Ensino de História e disputas pela memória',\n",
                            "       'ST 044. Ensino de História e História Pública',\n",
                            "       'ST 045. Ensino de História e Imagens: Experiências de Pesquisa e Formação',\n",
                            "       'ST 046. Ensino de História no Tempo Presente:  disputas, resistências e conexões das culturas escolares e direitos humanos',\n",
                            "       'ST 047. Ensino superior de História: currículos, trajetórias e historiografia',\n",
                            "       'ST 049. Empresariado e Estado no Brasil',\n",
                            "       'ST 050. Estado, democracias e crises no Tempo Presente em contextos globais',\n",
                            "       'ST 051. Estudos Cemiteriais: arte, morte, religiosidade e sociedade',\n",
                            "       'ST 052. Fronteiras e Territorialidades',\n",
                            "       'ST 053. Gênero na Antiguidade.',\n",
                            "       'ST 054. GT - Teoria da História e História da Historiografia.',\n",
                            "       'ST 055. Habitação e direito à cidade: favelas, subúrbios, periferias e assentamentos informais no Brasil',\n",
                            "       'ST 056. História & Música Popular', 'ST 057. História & Teatro',\n",
                            "       'ST 058. História Ambiental: Ciência, Fronteira e Biodiversidade',\n",
                            "       'ST 059. História Ambiental: território, política e memória',\n",
                            "       'ST 060. História da África contemporânea e representações da África no Brasil',\n",
                            "       'ST 061. História da alimentação, da gastronomia e suas interfaces',\n",
                            "       'ST 062. História da Arte, Museus e Tecnologia',\n",
                            "       'ST 063. História da educação nas periferias do mundo contemporâneo: sujeitos, lugares e práticas',\n",
                            "       'ST 064 (A). História da Educação: sujeitos, instituições, políticas educativas e culturas escolares',\n",
                            "       'ST 064 (B). História da Educação: sujeitos, instituições, políticas educativas e culturas escolares',\n",
                            "       'ST 065. História da loucura, da psiquiatria e saberes afins.',\n",
                            "       'ST 066. História da Saúde e das doenças: perspectivas historiográficas e implicações culturais e sociais',\n",
                            "       'ST 067. História das mulheres e das relações de gênero (séculos XIII-XVIII)',\n",
                            "       'ST 068. História das Religiões e das Religiosidades',\n",
                            "       'ST 069. História do Esporte e das Práticas Corporais',\n",
                            "       'ST 070. História do Lazer e dos Usos Sociais do Tempo Livre',\n",
                            "       'ST 072. História e circulação de conhecimentos, saberes e práticas de saúde em perspectiva global',\n",
                            "       'ST 073. História e Culturas Políticas no Brasil Republicano',\n",
                            "       'ST 074. História e Gênero: Cultura, Memória e Identidades',\n",
                            "       'ST 075. História e Marxismo 1: Capitalismo contemporâneo, luta de classes, capital imperialismo, teoria, conjuntura.',\n",
                            "       'ST 076. História e Marxismo 2: Brasil recente, lutas de classe, esquerda, direita, educação.',\n",
                            "       'ST 077. HISTÓRIA E MARXISMO 3. História e historiografia marxistas sobre novos e velhos temas entre críticas e revisionismos: racismo, classe, gênero/opressões, revisionismo, relações sociais capitalistas e pré-capitalistas, campo e cidade',\n",
                            "       'ST 078. História e Mídia',\n",
                            "       'ST 079. História intelectual e História dos Intelectuais: percursos, estratégias e possibilidades metodológicas',\n",
                            "       'ST 080. História Moderna: concepções, temas e perspectivas para o ensino e a pesquisa',\n",
                            "       'ST 081. História política, \\x93escrevivências\\x94 do Movimento Negro, dos Feminismos negro e plurais: por um ensino de História antirracista e decolonial',\n",
                            "       'ST 082. História Política: conceitos, métodos e suas múltiplas experiências',\n",
                            "       'ST 083. História Pública e Histórias Públicas: debates e discussões, perspectivas e estado da arte',\n",
                            "       'ST 084. História Pública e Oralidades',\n",
                            "       'ST 085. História social das ciências: a construção do conhecimento científico e suas dimensões sócio-políticas, econômicas, culturais e teórico-metodológicas',\n",
                            "       'ST 086. História, cinema e televisão: regimes de representação, verossimilitude e veracidade',\n",
                            "       'ST 087. História, Trabalho e Tecnologia: o direito à cultura no processo de ensino/aprendizagem e pesquisa.',\n",
                            "       'ST 089. Histórias das Américas: novas abordagens historiográficas',\n",
                            "       'ST 090. Histórias de Vida no campo do Esporte e da Educação Física',\n",
                            "       'ST 091. Histórias de vida, ensino e aprendizagem na Educação Básica: desafios epistemológicos e potencialidades cognitivas',\n",
                            "       'ST 092. Histórias em quadrinhos, cartuns, charges e outras fontes visuais',\n",
                            "       'ST 094. Igreja, Sociedade e Poder na Idade Média',\n",
                            "       'ST 095. Imagem, Cultura Visual e História',\n",
                            "       'ST 096. Imagens da Morte: debates transversais sobre os sentidos da morte e do morrer',\n",
                            "       'ST 097. Impérios Ibéricos no Antigo Regime: política, sociedade, economia e cultura',\n",
                            "       'ST 098. Impérios ultramarinos e suas conquistas: cultura, escravidão, sociedade e governo (séculos XVI-XIX)',\n",
                            "       'ST 099. Indígenas, camponeses e quilombolas: caminhos para os (des)encontros com novas e outras narrativas',\n",
                            "       'ST 100. Infâncias, Adolescências e Juventudes no Brasil: História e Historiografia',\n",
                            "       'ST 102. Letrados, intelectuais, nações e circulação de ideias nas Américas nos séculos XIX e XX',\n",
                            "       'ST 103. Macrotempos e macroespaços: perspectivas sistêmicas e de longa duração nos estudos históricos',\n",
                            "       'ST 105. Memória, história e historiografia(s)',\n",
                            "       'ST 106. Memória, identidades (e seus limites) na pós-modernidade no Brasil',\n",
                            "       'ST 107. Morfologias históricas dos estudos sobre a época Moderna: histórias conectadas, sistemas atlânticos e impérios ultramarinos',\n",
                            "       'ST 108. Movimento estudantil e universidades em contextos autoritários: memórias, resistências e repressão.',\n",
                            "       'ST 109. Mundos do trabalho: escravidão, liberdade e as diversas formas de exploração dos trabalhadores e trabalhadoras',\n",
                            "       'ST 110. Mundos do trabalho: Literatura e sociedade',\n",
                            "       'ST 111. Mundos do Trabalho: Luta por direitos e Democracia',\n",
                            "       'ST 112 (A). Mundos do Trabalho: relações de gênero, masculinidades, trabalho de mulheres e organização social',\n",
                            "       'ST 112 (B). Mundos do Trabalho: relações de gênero, masculinidades, trabalho de mulheres e organização social',\n",
                            "       'ST 113. Narrativas Digitais, Memória e Patrimônio',\n",
                            "       'ST 115. Negacionismos  e usos da história',\n",
                            "       'ST 116. O jogar na História e a história nos jogos: aprendizagens, narrativas, representações e simulações',\n",
                            "       'ST 117. O Patrimônio Cultural em Lugar de Fronteira: História, Educação, Arquitetura, Antropologia, Turismo, Geologia e Outras Áreas Correlatas',\n",
                            "       'ST 118 (A). O rural e a tecnologia: pesquisas e debates em história agrária no Brasil',\n",
                            "       'ST 118 (B). O rural e a tecnologia: pesquisas e debates em história agrária no Brasil',\n",
                            "       'ST 119. O trabalho do Historiador em instituições custodiadoras de acervos',\n",
                            "       'ST 120. O(s) Ser-tão(ões) e suas Histórias: sujeitos, acontecimentos e temporalidades',\n",
                            "       'ST 121. Os índios na História: contextos históricos, situações sociais e mobilizações sociopolíticas.',\n",
                            "       'ST 122. Pandemia, temporalidade e arquivo: os desafios de arquivar a experiência contemporânea',\n",
                            "       'ST 123. Patrimônio Cultural e a crise da Democracia',\n",
                            "       'ST 124. Patrimônio Cultural, História e Ciência',\n",
                            "       'ST 125. Pensamento Social Brasileiro: intelectuais, cultura e política',\n",
                            "       'ST 126. Política Externa e Relações Internacionais: história e historiografia',\n",
                            "       'ST 127 (A). Política, sociedade e economia do Brasil no longo século XIX',\n",
                            "       'ST 127 (B). Política, sociedade e economia do Brasil no longo século XIX',\n",
                            "       'ST 128. Políticas de preservação do patrimônio cultural em tempos de redes ampliadas',\n",
                            "       'ST 129. Por uma compreensão histórica das aparências: história e cultura de moda',\n",
                            "       'ST 130. Pós-Abolição no Mundo Atlântico: diálogos transnacionais entre Áfricas, Américas e Europas',\n",
                            "       'ST 131. Povos indígenas e ensino de história',\n",
                            "       'ST 132. Povos indígenas na formação do Brasil oitocentista: pesquisa e renovação historiográfica',\n",
                            "       'ST 133. Povos Indígenas, Gênero e Violências: histórias marginais',\n",
                            "       'ST 134. Profhistória \\x96 Mestrado Profissional em Ensino de História:  resultados, potencialidades e desafios \\x96 3ª edição',\n",
                            "       'ST 135. Redes intelectuais e militância político-cultural nos catolicismos do Brasil',\n",
                            "       'ST 136. Redes intelectuais, Subjetividade(s) e Circularidade Transnacional: ideias jurídicas, cultura religiosa, instituições e poder',\n",
                            "       'ST 137. Religião e Movimentos Sociais: entremeios de uma relação',\n",
                            "       'ST 138. Religiões Mediúnicas na Modernidade',\n",
                            "       'ST 141. SIG Histórico e a virada espacial na História',\n",
                            "       'ST 142. Simpósio Temático: História Marítima: oceanos e vias navegáveis interiores em perspectivas históricas',\n",
                            "       'ST 143. Teoria da História e História da Historiografia: história, verdade e tecnologia.',\n",
                            "       'ST 145. Trabalhos da memória e escritas da história: testemunhos, estratégias discursivas e os impactos da tecnologia nas representações do passado',\n",
                            "       'ST 146. Trajetórias e (auto)biografias: modelos, limites, desafios e possibilidades.',\n",
                            "       'ST 147. Trajetórias e circulações no tempo da Monarquia Hispânica (séculos XVI e XVII)',\n",
                            "       'ST 148. Visões da Ásia: olhares de pesquisadores brasileiros sobre culturas e contatos entre culturas no espaço asiático',\n",
                            "       'ST 149. \\x93Migrações, processos e trajetórias: múltiplas experiências\\x94',\n",
                            "       '\\r\\n\\t\\tST 001. \"Mandonas\", mulheres eleitas e protagonistas: poderes informais, invisibilidades e violências\\r\\n\\t\\t\\t',\n",
                            "       '\\r\\n\\t\\tST 002. A Amazônia colonial e o mundo atlântico Português \\x96 séculos XVII e XVIII\\r\\n\\t\\t\\t',\n",
                            "       '\\r\\n\\t\\tST 003. A BNCC e o Ensino de História: Impasses e ressignificações disciplinares\\r\\n\\t\\t\\t',\n",
                            "       '\\r\\n\\t\\tST 004. A escola como espaço da vida: articulações entre ensino de história, cultura histórica e cultura escolar\\r\\n\\t\\t\\t',\n",
                            "       '\\r\\n\\t\\tST 006. A história do constitucionalismo na América Latina, em debate (séculos XIX-XXI)\\r\\n\\t\\t\\t',\n",
                            "       '\\r\\n\\t\\tST 008. A História Militar, o seu campo e as novas tendências da historiografia.\\r\\n\\t\\t\\t',\n",
                            "       '\\r\\n\\t\\tST 009. A história política, democracia e direitos humanos: novos e renovados estudos\\r\\n\\t\\t\\t',\n",
                            "       '\\r\\n\\t\\tST 011. Afetos, emoções e gênero na História\\r\\n\\t\\t\\t',\n",
                            "       '\\r\\n\\t\\tST 013. África contemporânea: temas, problemas e abordagens\\r\\n\\t\\t\\t',\n",
                            "       '\\r\\n\\t\\tST 014. Antiguidade e Modernidade: usos do passado\\r\\n\\t\\t\\t',\n",
                            "       '\\r\\n\\t\\tST 015. Arquivos e coleções como objeto de pesquisa: configurações e agenciamentos\\r\\n\\t\\t\\t',\n",
                            "       '\\r\\n\\t\\tST 016. Arte e partilha do sensível\\r\\n\\t\\t\\t',\n",
                            "       '\\r\\n\\t\\tST 018. Artes de curar, Pensamento Médico e Doenças no contexto da Escravidão e do pós-Emancipação\\r\\n\\t\\t\\t',\n",
                            "       '\\r\\n\\t\\tST 020. Assistência e saúde: atores, práticas, instituições e seus públicos\\r\\n\\t\\t\\t',\n",
                            "       '\\r\\n\\t\\tST 021. Aula de História: teorias, práticas e ensino\\r\\n\\t\\t\\t',\n",
                            "       '\\r\\n\\t\\tST 022. História e Marxismo 2: Brasil recente, luta de classes e política, ditadura e democracia, luta contra as opressões e direitos humanos\\r\\n\\t\\t\\t',\n",
                            "       '\\r\\n\\t\\tST 026. Ciência, Tecnologia e História Econômica: diálogos interdisciplinares\\r\\n\\t\\t\\t',\n",
                            "       '\\r\\n\\t\\tST 027. Clio no Cio: o que desejam as/os/es historiadores/as LGBTQIA+?\\r\\n\\t\\t\\t',\n",
                            "       '\\r\\n\\t\\tST 028. Combates pelo Ensino de História: propostas, práticas e lutas\\r\\n\\t\\t\\t',\n",
                            "       '\\r\\n\\t\\tST 029. Cultura Visual História e Imagem\\r\\n\\t\\t\\t',\n",
                            "       '\\r\\n\\t\\tST 031. Deslocamentos, democracia e direitos humanos: memórias, histórias e historiografias\\r\\n\\t\\t\\t',\n",
                            "       '\\r\\n\\t\\tST 034. Dimensões do Regime Vargas e seus desdobramentos\\r\\n\\t\\t\\t',\n",
                            "       '\\r\\n\\t\\tST 036. Direito à História, Educação e Historiografia: Políticas de tempo, negacionismo e regimes de espacialização.\\r\\n\\t\\t\\t',\n",
                            "       '\\r\\n\\t\\tST 038. DITADURA e AUTORITARISMO: necropolítica, negacionismo, arquivos e usos do passado\\r\\n\\t\\t\\t',\n",
                            "       '\\r\\n\\t\\tST 040. Ditaduras militares na América Latina, transições democráticas e usos políticos do passado: a História em tempos de negacionismo\\r\\n\\t\\t\\t',\n",
                            "       '\\r\\n\\t\\tST 041. Educação democrática, Ensino de História e a construção de horizontes políticos emancipatórios\\r\\n\\t\\t\\t',\n",
                            "       '\\r\\n\\t\\tST 042. Emancipações e Pós-Abolição: ensino de história, educação das relações étnico-raciais e antirracismo\\r\\n\\t\\t\\t',\n",
                            "       '\\r\\n\\t\\tST 043. Emancipações e Pós-abolição: racialização, memórias, biografias, protagonismos, sociabilidades, territorialidades, educação e trabalho\\r\\n\\t\\t\\t',\n",
                            "       '\\r\\n\\t\\tST 047. Ensino de História e disputas pela memória: trajetórias, perspectivas e possibilidades de pesquisa\\r\\n\\t\\t\\t',\n",
                            "       '\\r\\n\\t\\tST 048. Ensino de História e imagens: visualidades entre campos de interpretação e disputas\\r\\n\\t\\t\\t',\n",
                            "       '\\r\\n\\t\\tST 049. Ensino de História e interseccionalidades: protagonismos, resistências e dores, do passado e do presente\\r\\n\\t\\t\\t',\n",
                            "       '\\r\\n\\t\\tST 052. Ensino de História, usos de passado e formação de professores em tempos de crise democrática\\r\\n\\t\\t\\t',\n",
                            "       '\\r\\n\\t\\tST 057. Eugenia, Genética e Raça\\r\\n\\t\\t\\t',\n",
                            "       '\\r\\n\\t\\tST 060. Família no passado brasileiro: entre comportamentos, normas, solidariedades e tensões\\r\\n\\t\\t\\t',\n",
                            "       '\\r\\n\\t\\tST 062. Fronteiras e Territorialidades\\r\\n\\t\\t\\t',\n",
                            "       '\\r\\n\\t\\tST 063. GT Mundos do Trabalho, pesquisa e ensino: condições de vida e de trabalho, lutas e resistências.\\r\\n\\t\\t\\t',\n",
                            "       '\\r\\n\\t\\tST 064. GT Mundos do Trabalho- Relações raciais e racismo nos mundos do trabalho: conflitos, resistências e trajetórias\\r\\n\\t\\t\\t',\n",
                            "       '\\r\\n\\t\\tST 065. Habitação e direito à cidade: favelas, subúrbios, periferias e assentamentos informais no Brasil\\r\\n\\t\\t\\t',\n",
                            "       '\\r\\n\\t\\tST 066. História & Música Popular\\r\\n\\t\\t\\t',\n",
                            "       '\\r\\n\\t\\tST 067. História & Teatro\\r\\n\\t\\t\\t',\n",
                            "       '\\r\\n\\t\\tST 068. História Ambiental, democracia e sociobiodiversidade\\r\\n\\t\\t\\t',\n",
                            "       '\\r\\n\\t\\tST 069. História Antiga no Brasil do século XXI: Novas abordagens e problemas\\r\\n\\t\\t\\t',\n",
                            "       '\\r\\n\\t\\tST 073. História da Saúde e das doenças: perspectivas historiográficas e implicações culturais e sociais\\r\\n\\t\\t\\t',\n",
                            "       '\\r\\n\\t\\tST 074. História das Religiões e das Religiosidades\\r\\n\\t\\t\\t',\n",
                            "       '\\r\\n\\t\\tST 076. História do crime, da polícia e da justiça criminal\\r\\n\\t\\t\\t',\n",
                            "       '\\r\\n\\t\\tST 078. História do Esporte e das Práticas Corporais\\r\\n\\t\\t\\t',\n",
                            "       '\\r\\n\\t\\tST 081. História do Tempo Presente: a imprensa, as mídias e os passados que não passam\\r\\n\\t\\t\\t',\n",
                            "       '\\r\\n\\t\\tST 083. História e audiovisual: desafios políticos e epistemológicos\\r\\n\\t\\t\\t',\n",
                            "       '\\r\\n\\t\\tST 084. História e Culturas Políticas no Brasil Republicano\\r\\n\\t\\t\\t',\n",
                            "       '\\r\\n\\t\\tST 093. História Local: Pesquisa, Educação e Patrimônio\\r\\n\\t\\t\\t',\n",
                            "       '\\r\\n\\t\\tST 096. História Rural: debates, pesquisas e ensino (Séculos XVI-XIX)\\r\\n\\t\\t\\t',\n",
                            "       '\\r\\n\\t\\tST 097. Historia Rural: debates, pesquisas e ensino (séculos XX e XXI)\\r\\n\\t\\t\\t',\n",
                            "       '\\r\\n\\t\\tST 098. História social da educação brasileira: políticas, instituições, sujeitos\\r\\n\\t\\t\\t',\n",
                            "       '\\r\\n\\t\\tST 102. História, Memória, Cultura e Subjetividades urbanas\\r\\n\\t\\t\\t',\n",
                            "       '\\r\\n\\t\\tST 105. Histórias em quadrinhos, cartuns, charges e outras fontes visuais - parte 2\\r\\n\\t\\t\\t',\n",
                            "       '\\r\\n\\t\\tST 109. Igreja e Inquisição no mundo ibérico e colonial: dimensões e perspectivas\\r\\n\\t\\t\\t',\n",
                            "       '\\r\\n\\t\\tST 110. Imagens da Morte: diálogos possíveis sobre uma questão sensível\\r\\n\\t\\t\\t',\n",
                            "       '\\r\\n\\t\\tST 112. Infâncias, Adolescências e Juventudes no Brasil: experiências, práticas e discursos\\r\\n\\t\\t\\t',\n",
                            "       '\\r\\n\\t\\tST 113. Institutos históricos e geográficos no Brasil: acervos, intelectuais e historiografias\\r\\n\\t\\t\\t',\n",
                            "       '\\r\\n\\t\\tST 115. Inventar Democracia e Direitos Humanos \\x96  Histórias em Ensino e Pesquisa.\\r\\n\\t\\t\\t',\n",
                            "       '\\r\\n\\t\\tST 124. Mundos do trabalho: escravidão, liberdade e variadas formas de exploração dos trabalhadores e trabalhadoras\\r\\n\\t\\t\\t',\n",
                            "       '\\r\\n\\t\\tST 126. Mundos do trabalho: relações de gênero, trabalho de mulheres, organização social e masculinidades\\r\\n\\t\\t\\t',\n",
                            "       '\\r\\n\\t\\tST 128. Nas Tramas da História: Gênero, Poderes, Culturas e Interseccionalidades.\\r\\n\\t\\t\\t',\n",
                            "       '\\r\\n\\t\\tST 129. O Império do Brasil e a Segunda Escravidão\\r\\n\\t\\t\\t',\n",
                            "       '\\r\\n\\t\\tST 132. O patrimônio cultural em lugar de fronteira: história, educação, arquitetura, antropologia, turismo, geografia e outras áreas correlatas\\r\\n\\t\\t\\t',\n",
                            "       '\\r\\n\\t\\tST 134. O(s) Ser-tão(ões) e suas Histórias: sujeitos, narrativas, acontecimentos e temporalidades\\r\\n\\t\\t\\t',\n",
                            "       '\\r\\n\\t\\tST 135. Os Intelectuais e a política na América Latina: engajamento e circulação de ideias nos séculos XX e XXI\\r\\n\\t\\t\\t',\n",
                            "       '\\r\\n\\t\\tST 136. Os \\x93portugueses\\x94 nas províncias do Império do Brasil\\r\\n\\t\\t\\t',\n",
                            "       '\\r\\n\\t\\tST 138. Patrimonialização e reparação histórica: desafios do profissional de história\\r\\n\\t\\t\\t',\n",
                            "       '\\r\\n\\t\\tST 142. Pensamento Social Brasileiro: intelectuais, cultura e política\\r\\n\\t\\t\\t',\n",
                            "       '\\r\\n\\t\\tST 143. Pensar a cidade e o urbano - desafios em perspectiva interdisciplinar\\r\\n\\t\\t\\t',\n",
                            "       '\\r\\n\\t\\tST 144. Pesquisa e ensino da Idade Média no Brasil frente às demandas do século XXI: entre abordagens públicas e globais\\r\\n\\t\\t\\t',\n",
                            "       '\\r\\n\\t\\tST 145. Pesquisa e ensino de História Moderna no século XXI: dilemas, desafios e possibilidades\\r\\n\\t\\t\\t',\n",
                            "       '\\r\\n\\t\\tST 147. Política Externa e Relações Internacionais: história e historiografia\\r\\n\\t\\t\\t',\n",
                            "       '\\r\\n\\t\\tST 148. Política, economia e sociedade no Brasil oitocentista\\r\\n\\t\\t\\t',\n",
                            "       '\\r\\n\\t\\tST 150. Pós-Abolição no Mundo Atlântico: diálogos transnacionais entre Áfricas, Américas e Europas\\r\\n\\t\\t\\t',\n",
                            "       '\\r\\n\\t\\tST 152. Povos indígenas, terra e política: abordagens interdisciplinares sobre a construção do Estado nacional (séc. XIX-XXI)\\r\\n\\t\\t\\t',\n",
                            "       '\\r\\n\\t\\tST 154. Protagonismos indígenas na História e ensino da temática indígena: uma avaliação a partir da Lei nº 11.645/2008 e do Parecer CNE/CEB nº 14/2015\\r\\n\\t\\t\\t',\n",
                            "       '\\r\\n\\t\\tST 155. Regimes Ditatoriais Contemporâneos: Repressão, Ação Empresarial, Expropriação Rural e Justiça de Transição\\r\\n\\t\\t\\t',\n",
                            "       '\\r\\n\\t\\tST 164. Teoria da História e História da Historiografia (GT)\\r\\n\\t\\t\\t',\n",
                            "       '\\r\\n\\t\\tST 165. Teoria da História e História da Historiografia: história profissional, democracia e direitos humanos.\\r\\n\\t\\t\\t',\n",
                            "       '\\r\\n\\t\\tST 167. Trajetórias e (auto)biografias: modelos, limites, desafios e possibilidades.\\r\\n\\t\\t\\t',\n",
                            "       '\\r\\n\\t\\tST 172. Neoliberalismo, diretas e política: perspectiva históricas, econômicas e paraeconômicas\\r\\n\\t\\t\\t',\n",
                            "       '\\r\\n\\t\\tST 173. Povos Indígenas, Gênero e Violências: histórias marginais\\r\\n\\t\\t\\t',\n",
                            "       '\\r\\n\\t\\tST 175. Das margens: Feminismos, Gênero e Sertões\\r\\n\\t\\t\\t',\n",
                            "       '\\r\\n\\t\\tST 176. História Ambiental: do local ao global\\r\\n\\t\\t\\t'],\n",
                            "      dtype=object)"
                        ]
                    },
                    "execution_count": 35,
                    "metadata": {},
                    "output_type": "execute_result"
                }
            ],
            "source": [
                "df['ST'].unique()\n"
            ]
        },
        {
            "cell_type": "code",
            "execution_count": 36,
            "metadata": {},
            "outputs": [
                {
                    "data": {
                        "text/plain": [
                            "array(['001. \"De que África estamos falando\\x94 (I) : perspectivas da pesquisa histórica e do ensino de História da África (do século XI à primeira metade do século XIX)',\n",
                            "       '002. \"De que África estamos falando\\x94 (II): perspectivas da pesquisa histórica e do ensino de História da África (do século XIX à configuração dos Estados independentes).\\x94',\n",
                            "       '003. A dinâmica imperial e a comunicação política no Antigo Regime do mundo português, séculos XVI-XIX',\n",
                            "       '004. A EDUCAÇÃO E A FORMAÇÃO DA SOCIEDADE BRASILEIRA',\n",
                            "       '005. A empresa jesuítica: da antiga Companhia à Companhia restaurada',\n",
                            "       '006. A História Antiga e as fronteiras do conhecimento histórico',\n",
                            "       '008. A História Pública e os Públicos da História',\n",
                            "       '009. A instituição militar no Brasil: diálogos entre história e ciências sociais',\n",
                            "       '011. A Presença Indígena na História do Brasil',\n",
                            "       '013. Antiguidade e Modernidade: usos do passado / 018. As Formas e os Limites do Político nos Estudos Medievais',\n",
                            "       '015. APRENDIZAGEM,  COMPETÊNCIAS  E FORMAÇÃO DA CONSCIÊNCIA HISTÓRICA.',\n",
                            "       '016. Arquivos, Memórias e Repressão Política no Cone Sul: novas fontes e abordagens',\n",
                            "       '017. As construções históricas dos saberes populares',\n",
                            "       '019. As sensibilidades e a subjetividade na produção do conhecimento histórico sobre as artes, as ciências e o pensamento.',\n",
                            "       '020. Assistência, políticas públicas e sociedade no Brasil',\n",
                            "       '021. Escravidão e documentação: registros cartoriais e eclesiásticos como fontes para as pesquisas em escravidão',\n",
                            "       '022. Autoritarismos, Memória e Resistência: Movimentos de Direita nos Séculos XX e XXI',\n",
                            "       '023. Catolicismo, repressão e diversidade cultural na América portuguesa / 029. Cultura e Educação: Portugal e Brasil (1750-1834) / 099. Inquisição: fontes, circunstâncias, personagens, imaginários',\n",
                            "       '024. Cidades no Brasil contemporâneo: trânsitos pela sociedade, cultura e poder',\n",
                            "       '025. Como a arte pode transformar a vida: experiências culturais e políticas de ontem e de hoje',\n",
                            "       '026. Conhecimento histórico da Cidade: a escrita da história por meio do diálogo entre as diversas formas de apreensão da Memória.',\n",
                            "       '027. Conhecimento histórico e diálogos sobre cultura e política na América Latina a partir do século XIX',\n",
                            "       '031. Cultura visual, imagem e história: visualidade e culturas históricas',\n",
                            "       '032. Culturas, Memórias e Histórias: espaços e territórios na/da cidade',\n",
                            "       '034. Da escravidão e da liberdade: Processos, biografias e experiências da abolição e do pós-emancipação em perspectiva transnacional',\n",
                            "       '035. Desenvolvimento sustentável, responsabilidades, resiliências e resistências na sociedade de controle.',\n",
                            "       '036. Diálogos sociais na formação do historiador/professor: experiências de ensino a partir de projetos e políticas públicas',\n",
                            "       '037. Didática da História: articulações entre pesquisa e ensino',\n",
                            "       '038. Dimensões e Fronteiras do Estado Brasileiro no Século XIX',\n",
                            "       '039. E/IMIGRAÇÕES: HISTÓRIAS, CULTURAS, TRAJETÓRIAS.',\n",
                            "       '040. Ensino de história: questões contemporâneas',\n",
                            "       '041. Estado, Poder e Violência no Brasil e países Latino-Americanos: ditaduras, projetos nacionais, imperialismo e lutas sociais',\n",
                            "       '042. Estado, representação política e sistemas partidários.',\n",
                            "       '043. ESTUDOS REGIONAIS: HISTÓRIA, EDUCAÇÃO E ENSINO DE HISTÓRIA - CONSTRUINDO CAMINHOS.',\n",
                            "       '044. Famílias e seus enredos: cenários de solidariedades e conflitos no Brasil do século XVI ao XIX',\n",
                            "       '045. Festas e sociabilidades na ressignificação do patrimônio imaterial no Brasil (séculos XIX e XX)',\n",
                            "       '046. Figurações e tramas do político: conhecimento, linguagens e sensibilidades',\n",
                            "       '047. Formação de professores: saberes e práticas do Ensino de História',\n",
                            "       '048. Fronteira Oeste: Poder, Economia e Sociedade / 049. Fronteiras e História',\n",
                            "       '050. Gênero, Feminismos e Memórias na América Latina',\n",
                            "       '051. GT Mundos do Trabalho \\x96 Instituições e política; costumes e direitos',\n",
                            "       '052. GT Mundos do Trabalho \\x96 Trabalho escravo e trabalho livre: cultura, costumes e lutas',\n",
                            "       '053. GT Mundos do Trabalho: Processos produtivos, condições de trabalho, conflitos sociais e formas de resistência dos trabalhadores',\n",
                            "       '054. Habitação e direito à cidade: favelas, mocambos, periferias e assentamentos informais no Brasil/071. História dos Quilombos',\n",
                            "       '055. História & Música', '056. História & Teatro',\n",
                            "       '057. História Ambiental: Natureza e Sociedade na Interpretação Histórica',\n",
                            "       '058. História da Educação no Meio Rural: sujeitos, práticas e representações',\n",
                            "       '059. História da Infância, da Adolescência e da Juventude: diálogo social e interdisciplinaridade',\n",
                            "       '060/061/088: História da Loucura e da Psiquiatria: representação, experiências e patrimônio',\n",
                            "       '062. História da Saúde e das Doenças: representações, conhecimento científico e instituições',\n",
                            "       '063. História das Instituições e da Cultura Política',\n",
                            "       '064. História das mulheres: relações de gênero, violência e políticas públicas.',\n",
                            "       '065. História do crime, da polícia e da justiça criminal',\n",
                            "       '066. História do desenvolvimento econômico no Brasil',\n",
                            "       '067. História do Esporte',\n",
                            "       '068. História do Livro, da Leitura e da Escrita no Brasil',\n",
                            "       '069. História do Tempo Presente e Memória',\n",
                            "       '072. HISTÓRIA E CINEMA: DIÁLOGOS EM PESQUISA E ENSINO',\n",
                            "       '073. História e Comunicação: Mídias, Intelectuais e Participação Política',\n",
                            "       '074/098: História, cultura e a temática indígena nas universidades: lacunas historiográficas de uma igualdade duvidosa',\n",
                            "       '075/106: História, Direito e Memória',\n",
                            "       '077. HISTÓRIA E MEMÓRIA DO TURISMO',\n",
                            "       '078. História e Patrimônio Cultural',\n",
                            "       '079. História e Quadrinhos: Pesquisa e Ensino em História e as Interações com a Nona Arte / 096. Imprensa ilustrada e jornalismo no Brasil do século XIX ',\n",
                            "       '080. História e representações religiosas \\x96 memória, identidades e território',\n",
                            "       '082. Historia Militar / 115. O Brasil e a Segunda Guerra Mundial',\n",
                            "       '084. HISTÓRIA POLÍTICA E HISTÓRIA DAS IDEIAS: DIÁLOGOS POSSÍVEIS',\n",
                            "       '085. História, Cinema e Televisão: dimensões históricas do audiovisual',\n",
                            "       '086. História, historiadores e memória das comunidades: diálogos possíveis',\n",
                            "       '087. História, literatura e sociedade',\n",
                            "       '089. Historiografia e Escrita da História: conhecimento histórico e diálogo social',\n",
                            "       '090. Idéias, intelectuais e instituições - conhecimento histórico e diálogo social.',\n",
                            "       '091. Igreja, sociedade e relações de Poder na Idade Média',\n",
                            "       '092. Imagens da Morte: a Morte, o Morrer e os Mortos em Sociedades Ibero-americanas',\n",
                            "       '093. Imagens de arte atuam sobre nós: dialética, anacronismo, montagem, sobrevivência.',\n",
                            "       '094. Império e Colonização: economia e sociedade na América Portuguesa',\n",
                            "       '095. Impérios Ibéricos no Antigo Regime: política, sociedade e cultura',\n",
                            "       '097. Imprensa, Cinema e História Contemporânea: Novos Objetos e Métodos da Investigação Histórica / 096. Imprensa ilustrada e jornalismo no Brasil do século XIX ',\n",
                            "       '100. Intelectuais no espaço ibero-americano: projetos políticos e mediação cultural',\n",
                            "       '101. Intelectuais, Sociedade e Política no Brasil (Séculos XIX e XX)',\n",
                            "       '102. Livro Didático e história ensinada',\n",
                            "       '103. Marxismo, Conhecimento Histórico e Realidade Social',\n",
                            "       '104. MEMÓRIA, HISTÓRIA E ENSINO DE HISTORIA: DIÁLOGO ENTRE DIFERENTES SABERES.',\n",
                            "       '105. Memória, História Oral, Audiovisual. Produção de fontes para narrativas biográficas.',\n",
                            "       '107. Memórias, Identidades e Conflitos sociais',\n",
                            "       '108. Migrações em questão: Entre o conhecimento histórico e o diálogo social',\n",
                            "       '109. Militares, sociedade e política',\n",
                            "       '110. MULHERES, FEMINISMOS E GÊNERO: DIÁLOGOS (IN)TENSOS NA HISTÓRIA',\n",
                            "       '111. Narrativas de florestas e cidades amazônicas: patrimônios, histórias e literaturas em trânsitos orais, escritos e visuais',\n",
                            "       '112. NARRATIVAS E INVENÇÕES DE SI: tempo, escritas e representações',\n",
                            "       '113. NAS FRONTEIRAS DA HISTÓRIA CULTURAL E DA HISTÓRIA SOCIAL: DIÁLOGOS ENTRE MANIFESTAÇÕES ARTÍSTICAS, ESTÉTICA E SEGMENTOS SOCIAIS',\n",
                            "       '114. Nas Oficinas da história: Ensino de História e historiografia',\n",
                            "       '117. O ENSINO DE HISTÓRIA NA FORMAÇÃO DE PROFESSORES: FONTES, PROBLEMAS, TEMÁTICAS E LINGUAGENS',\n",
                            "       '118. O Estado Brasileiro em Perspectiva Historiográfica (séculos XIX e XX)',\n",
                            "       '119. O governo da cidade: práticas políticas e culturais no Brasil Império e na Primeira República',\n",
                            "       '120/134: Produção e circulação de saberes, ideias e práticas nos mundos ibéricos: América Luso- Hispânica, Europa e Oriente',\n",
                            "       '122. O Rural em teoria: conceitos e abordagens para o estudo da História no meio rural',\n",
                            "       '123. Os arquivos como objeto de pesquisa: representações, configurações e usos dos acervos arquivísticos',\n",
                            "       '125. Patrimônio cultural e produção do conhecimento histórico: desafios para o diálogo social',\n",
                            "       '126/127: Patrimônio Histórico, História da Arte e territorialidades: novos espaços de ação social',\n",
                            "       '129. Poderes e Cultura Política no Brasil',\n",
                            "       '130. Política Externa e Relações Internacionais: História e Historiografia',\n",
                            "       '131. Política, Sociedade e cultura: revisitando a Primeira República brasileira',\n",
                            "       '132. Pós-abolição: racialização, memória e trabalho.',\n",
                            "       '133. Práticas e Representações Religiosas na História do Brasil',\n",
                            "       '135. Relações Políticas e Conexões Culturais na América Portuguesa do Período Filipino',\n",
                            "       '136. Religiões Mediúnicas e Afro-Brasileiras no âmbito da pesquisa histórica',\n",
                            "       '138. Sociedade, Trabalho e Política em Áreas de Fronteira',\n",
                            "       '139. Tradicionalismo, conservadorismo e militância católica',\n",
                            "       '140. Trajetórias e biografias: modelos, limites, desafios e possibilidades',\n",
                            "       '141. Zonas de fronteira e caminhos \\x93mato adentro\\x94: história e historiografia acerca dos sertões brasileiros',\n",
                            "       '001. \"De que África estamos falando\" (II): perspectivas da pesquisa histórica e do ensino de História da África (do século XIX à configuração dos Estados independentes).',\n",
                            "       '002. \"De que África estamos falando\\x94 (I) : perspectivas da pesquisa histórica e do ensino de História da África (do século XI à primeira metade do século XIX)',\n",
                            "       '003. \"Lugares de mulheres, lugares de homens: gênero, silêncios e palavras\" - Sessão A',\n",
                            "       '003. \"Lugares de mulheres, lugares de homens: gênero, silêncios e palavras\" - Sessão B',\n",
                            "       '004. A América espanhola e suas conexões coloniais: trânsitos, poderes e disputas',\n",
                            "       '005. A escravidão negra nas Américas: o antigo problema sob novas miradas',\n",
                            "       '007. A História Global em debate: métodos, historiografia e estudos de casos',\n",
                            "       '008. A instituição militar: diálogos entre história e ciências sociais',\n",
                            "       '009. A morte, o morrer e os mortos na Ibero-América: história, representações e novos problemas',\n",
                            "       '011. Antiguidade e Modernidade: usos do passado',\n",
                            "       '012. APRENDIZAGEM E FORMAÇÃO DA CONSCIÊNCIA HISTÓRICA NA EDUCAÇÃO ESCOLAR',\n",
                            "       '013. Arquivos como objeto: materialidade, temporalidade e trajetórias dos acervos documentais',\n",
                            "       '014. ARTE E PATRIMÔNIO',\n",
                            "       '015. As \"escritas de si\" e as relações entre o público e o privado nas Américas (séculos XIX-XXI)',\n",
                            "       '016. As formas da história e o lugar dos historiadores',\n",
                            "       '017. As sensibilidades e a subjetividade na produção do conhecimento histórico sobre as artes, as ciências e o pensamento',\n",
                            "       '018. Assistência e pobreza: novos desafios historiográficos',\n",
                            "       '019. Autoritarismo e direita: doutrinas, práxis e movimentos',\n",
                            "       '020. Catolicismo e Política: entre conservadores e progressistas',\n",
                            "       '021. Cidade, Cultura e Trabalho: Memórias e Dissidências',\n",
                            "       '022. Cidade: histórias, memórias e fontes orais \\x96 desafios, limites e possibilidades.',\n",
                            "       '023. Cidades e Práticas Culturais: modernidade, subjetividades e configurações de  identidades',\n",
                            "       '024. Circulações entre teorias e práticas na produção do conhecimento histórico, artístico e cultural',\n",
                            "       '026. Contrabando, descaminhos e heterodoxias religiosas na Época Moderna',\n",
                            "       '027. Cultura audiovisual, memória e narrativas do pertencimento: território e identidade na contemporaneidade.',\n",
                            "       '028. Cultura Escrita no império luso-brasileiro: circulação da escrita manuscrita e impressa',\n",
                            "       '029. Cultura jurídica e formação institucional no Brasil: justiça, poder e economia na formação do Estado',\n",
                            "       '030. Cultura Visual e História: os sentidos das imagens no oficio do historiador',\n",
                            "       '032. Culturas escolares e práticas educativas: escritas, narrativas e usos sociais',\n",
                            "       '033. CULTURAS, MEMÓRIAS E HISTÓRIAS: ESPAÇOS E TERRITÓRIOS NA/DA CIDADE',\n",
                            "       '034. De Loyola a Certeau: a Companhia de Jesus e a(s) escrita(s) da História',\n",
                            "       '036. Dimensões do Catolicismo no mundo ibérico e colonial',\n",
                            "       '037. Direitas, História e Memória',\n",
                            "       '038. Ditaduras de segurança nacional no Cone Sul: história e memória em tempos de verdade e justiça',\n",
                            "       '039. Ditaduras e Democracias no Mundo Contemporâneo: Rupturas e Continuidades',\n",
                            "       '040. Diversidades, memória e ensino de história: novos desafios',\n",
                            "       '041. E/Imigrações: histórias, culturas, trajetórias.',\n",
                            "       '042. Ensino, memória e patrimônio: as África (s) e suas representações na cultura e identidade dos negros e negras brasileiras',\n",
                            "       '043. Entre a curva e o caso: velhos e novos desafios para a História da Família',\n",
                            "       '044. Espaços memoriais: Arquivos, patrimônios material edificado e intangível no Brasil dos séculos XIX e XX.',\n",
                            "       '045. Estado e Intelectuais no Brasil \\x96 Teoria e Metodologia de Pesquisa em desafio permanente (séculos XIX e XX)',\n",
                            "       '046. Estado, Poder e Violência no Brasil e países Latino-Americanos: ditaduras, projetos nacionais, imperialismo e lutas sociais',\n",
                            "       '047. ESTADOS UNIDOS: sociedade, política e cultura (XVIII ao XXI)',\n",
                            "       '048. GÊNERO, FEMINISMOS E IDENTIDADES: novos lugares e desafios',\n",
                            "       '049. Gênero, História e o Mundo do Trabalho Doméstico.',\n",
                            "       '050. Habitação e direito à cidade: favelas, mocambos, periferias e assentamentos informais no Brasil',\n",
                            "       '051. História & Música', '052. História & Teatro',\n",
                            "       '053. História Ambiental: ciência, tecnologia e recursos naturais',\n",
                            "       '054. História Ambiental: espaço, território e natureza',\n",
                            "       '055. História Ambiental: política e sociedade',\n",
                            "       '056. História da Educação: entre práticas e representações',\n",
                            "       '057. História da história ensinada e os livros didáticos',\n",
                            "       '058. História da Infância, da Adolescência e da Juventude no Brasil: perspectivas atuais e desafios futuros',\n",
                            "       '059. HISTÓRIA DA LOUCURA, DA PSIQUIATRIA E DAS INSTITUIÇÕES DE ASSISTÊNCIA.',\n",
                            "       '060. História da saúde e da doença: perspectivas historiográficas e metodologias - Sessão A',\n",
                            "       '060. História da saúde e da doença: perspectivas historiográficas e metodologias - Sessão B',\n",
                            "       '061. História das Ciências no Brasil: produção, práticas e institucionalização',\n",
                            "       '062. HISTÓRIA DAS RELIGIÕES E DAS RELIGIOSIDADES: DESAFIOS E PERSPECTIVAS',\n",
                            "       '063. História do crime, da polícia e da justiça criminal',\n",
                            "       '064. História do Direito e História Social: fontes, temas, metodologias',\n",
                            "       '065. História do Esporte e das Práticas Corporais',\n",
                            "       '066. HISTÓRIA DO TEMPO PRESENTE: ACERVOS, MEMÓRIAS  E NARRATIVAS',\n",
                            "       '067. História e Culturas Políticas no Brasil Republicano',\n",
                            "       '068. História e Ensino de História: a produção de saberes na formação e na prática docente',\n",
                            "       '069. HISTÓRIA E INDÍGENAS NAS UNIVERSIDADES: PESQUISAS E ENSINO',\n",
                            "       '072. HISTÓRIA ECONÔMICO-SOCIAL EM DEBATE: SÉCULOS XIX e XX',\n",
                            "       '073. História Indígena, Historiografia e Indigenismo: contribuições, desafios e perspectivas',\n",
                            "       '074. História Política: conceitos, métodos e suas múltiplas experiências.',\n",
                            "       '076. História, literatura e sociedade',\n",
                            "       '077. História, memória e práticas educativas no ensino de história, na história da educação e na educação patrimonial',\n",
                            "       '078. História, Museus e Museologia: velhos e novos desafios',\n",
                            "       '079. Histórias da História ensinada: experiências educacionais, currículos, impressos e processos formativos',\n",
                            "       '080. HISTÓRIAS, MEMÓRIAS E PATRIMÔNIOS: O TRABALHO DO HISTORIADOR ENTRE RASTROS E POSSIBILIDADES',\n",
                            "       '081. Igreja, Sociedade e Poder na Idade Média',\n",
                            "       '082. Imigrantes: memórias, trabalho, política e repressão',\n",
                            "       '083. Império e Colonização: economia e sociedade na América Portuguesa',\n",
                            "       '084. Impérios Ibéricos no Antigo Regime: política, sociedade e cultura',\n",
                            "       '085. Intelectuais e História:Experiências, Gerações e Mediações',\n",
                            "       '086. Intelectuais e mediação cultural (séculos XIX e XX)',\n",
                            "       '087. Intelectuais, poder e ideias políticas no Brasil',\n",
                            "       '088. Intelectuais, Sociedade e Política: Memórias e Biografias',\n",
                            "       '089. Lugares do cinema e da televisão na história, lugares da história no cinema e na televisão',\n",
                            "       '090. Lugares e fazeres do historiador no campo do patrimônio cultural e dos museus etnográficos',\n",
                            "       '091. MARXISMO E HISTÓRIA: LUGARES TEMÁTICOS, DESAFIOS TEÓRICOS - Sessão A',\n",
                            "       '091. MARXISMO E HISTÓRIA: LUGARES TEMÁTICOS, DESAFIOS TEÓRICOS - Sessão B',\n",
                            "       '092. Memória, narrativa e invenção: artes, culturas urbanas e escrita da História',\n",
                            "       '093. Movimento estudantil e Universidades em contextos autoritários: memórias, resistências e repressão.',\n",
                            "       '094. Mundos do trabalho: cultura e cotidiano',\n",
                            "       '095. Mundos do Trabalho: debates teóricos, métodos e fontes de pesquisa',\n",
                            "       '096. Mundos do Trabalho: organizações e lutas por direitos - Sessão A',\n",
                            "       '096. Mundos do Trabalho: organizações e lutas por direitos - Sessão B',\n",
                            "       '098. Narrativas (auto)biográficas e historiografia didática: que articulações possíveis no currículo escolar face às demandas do tempo presente?',\n",
                            "       '099. Narrativas de florestas e cidades amazônicas: patrimônios, histórias e literaturas em trânsitos orais, escritos e visuais',\n",
                            "       '100. Narrativas identitárias: lugares, memórias',\n",
                            "       '101. O Brasil no contexto da Segunda Guerra Mundial: cultura, política, sociedade e Forças Armadas',\n",
                            "       '102. O Ensino de História e a Educação de Jovens e Adultos: materiais didáticos, currículos, práticas docentes e identidades.',\n",
                            "       '104. O Lugar da História e dos Historiadores no Campo Interdisicplinar: convergências/dissonâncias entre História, Ficção e o Lugar da Obra de Arte como Documento de Pesquisa Histórica',\n",
                            "       '106. O protagonismo indígena na História: abordagens interdisciplinares em contextos coloniais e pós-colonais',\n",
                            "       '107. Os lugares das imagens',\n",
                            "       '108. Outras paisagens do cativeiro e da liberdade: abolição, abolicionismo e pós-emancipação',\n",
                            "       '109. Pesquisa histórica e relevância social da historiografia: interesse, continuidade e responsabilidade como problemas para o historiador do século 21',\n",
                            "       '110. Poder e saberes no século XIX: literatura, artes, imprensa, livros, missivas e política - Sessão A',\n",
                            "       '110. Poder e saberes no século XIX: literatura, artes, imprensa, livros, missivas e política - Sessão B',\n",
                            "       '111. Política Externa e Relações Internacionais: história e historiografia',\n",
                            "       '112. Pós-abolição, Identidades e Culturas',\n",
                            "       '113. Propriedades & usos coletivos na história rural do Brasil',\n",
                            "       '114. REEDUCAÇÃO DAS RELAÇÕES ÉTNICO-RACIAIS E ENSINO DE HISTÓRIA: DIÁLOGOS POSSÍVEIS, RELAÇÕES NECESSÁRIAS',\n",
                            "       '115. Simpósio Temático História e Direito',\n",
                            "       '116. Sociedade, Trabalho e Política em Áreas de Fronteira',\n",
                            "       '117. TRAJETÓRIAS E BIOGRAFIAS: MODELOS, LIMITES, DESAFIOS E POSSIBILIDADES',\n",
                            "       '118. Unidade e diversidade no Mundo Antigo',\n",
                            "       '119. Violência contra a mulher: conceituações e práticas sociais',\n",
                            "       'ST 001 - A cultura e as artes na ditadura militar',\n",
                            "       'ST 002 - A DOCÊNCIA EM HISTÓRIA: travessias formativas, saberes profissionais e experiências didático-históricas',\n",
                            "       'ST 003 - A Fronteira Oeste do Brasil: história, historiografia, culturas políticas, memórias, migrações, identidades e reordenamentos espaciais',\n",
                            "       'ST 004 - A História Global: métodos, abordagens e historiografia e ST 015 - As Américas do século XVI ao XVIII: conexões entre o local e o global',\n",
                            "       'ST 005 - A História Militar: contra o preconceito, saberes e práticas científicas',\n",
                            "       'ST 008 - A Primeira Modernidade: novos mundos, novas ordens',\n",
                            "       'ST 009 - África contemporânea: Novos temas e novas abordagens',\n",
                            "       'ST 010 - África: pluralismo histórico e temático (do século XI à primeira metade do século XIX)',\n",
                            "       'ST 011 - Anarquismo em questão: conceitos, práticas e trajetórias.',\n",
                            "       'ST 012 - Antiguidade e Modernidade: usos do passado',\n",
                            "       'ST 013 - Arquivos como objeto de pesquisa: representações, configurações e usos',\n",
                            "       'ST 014 - Artes visuais, política e representação',\n",
                            "       'ST 016 - As condições históricas das legislações sobre o Patrimônio Cultural e ST 085 - Memória, narrativa e invenção: artes, culturas urbanas e escrita da História',\n",
                            "       'ST 017 - As sensibilidades na história: artes, ciências e pensamento',\n",
                            "       'ST 018 - Caminhos da política no Império do Brasil',\n",
                            "       'ST 019 - Catolicismo e Política: entre conservadores e progressistas',\n",
                            "       'ST 020 - Cidadania, democracia e revoluções: desafios e transformações na América Latina nos séculos XIX e XX.',\n",
                            "       'ST 021 - Comunismo e anticomunismo no Brasil republicano: velhos e novos desafios e ST 039 - Guerra Fria em novas perspectivas transnacionais',\n",
                            "       'ST 022 - Cultura Escrita no mundo ibérico colonial: produção, circulação, uso e conservação de manuscritos e impressos',\n",
                            "       'ST 023 - Da construção dos patrimônios ao acesso às cidades: direitos, negociações e conflitos',\n",
                            "       'ST 024 - Dimensões da desordem em colônias: contrabando, descaminhos e heterodoxias religiosas',\n",
                            "       'ST 025 - Direitas, História e Memória',\n",
                            "       'ST 026 - Ditaduras e Democracias no Mundo Contemporâneo: Rupturas e Continuidades',\n",
                            "       'ST 027 - E/Imigrações: histórias, culturas, trajetórias',\n",
                            "       'ST 028 - Educação democrática e ensino de história: potenciais e perigos das novas propostas de reforma educacional',\n",
                            "       'ST 029 - Ensino de História e as lutas entre narrativas: políticas, saberes e práticas',\n",
                            "       'ST 030 - Ensino de História e disputas pela memória',\n",
                            "       'ST 031 - Ensino de História, Currículo e Cultura: narrativas em disputa',\n",
                            "       'ST 032 - Entre a politização e o engajamento \\x96 obras de arte e seus criadores nos embates em favor de processos democráticos e dos exercícios de liberdade',\n",
                            "       'ST 033 - Estado, democracia e movimentos sociais no mundo contemporâneo.',\n",
                            "       'ST 034 - ESTADOS UNIDOS: sociedade, política e cultura (XVIII ao XXI)',\n",
                            "       'ST 035 - Estudos Africanos, Representações da África e o Ensino de História da África no Brasil.',\n",
                            "       'ST 036 - Fronteiras e Territorialidades',\n",
                            "       'ST 037 - Gramsci na Pesquisa Histórica (séculos XIX, XX E XXI)',\n",
                            "       'ST 038 - GT História da Saúde e das Doenças',\n",
                            "       'ST 040 - Habitação e direito à cidade: favelas, subúrbios, periferias e assentamentos informais no Brasil',\n",
                            "       'ST 041 - História & Música', 'ST 042 - História & Teatro',\n",
                            "       'ST 043 - História Ambiental: ciência, tecnologia e o mundo natural e ST 045 - História Ambiental: o Antropoceno, desastres e biodiversidadeHistória Ambiental: o Antropoceno, desastres e biodiversidade',\n",
                            "       'ST 044 - História Ambiental: espaço, território e natureza Coordenadores: Eurípedes Funes (Pós Doutor - UFC), Dora Shellard Corrêa (Dou-tor   ENS)',\n",
                            "       'ST 046 - História Antiga \\x96 Rumos e Interpretações',\n",
                            "       'ST 047 - História da Educação: culturas, práticas e representações',\n",
                            "       'ST 048 - História da loucura, da psiquiatria e das instituições de assistência.',\n",
                            "       'ST 049 - História da violência no mundo contemporâneo (séculos XIX a XXI)',\n",
                            "       'ST 050 - História de fazer a cidade um espaço democrático: memória, identidade e transformação urbana',\n",
                            "       'ST 051 - História do ensino de história e os livros didáticos',\n",
                            "       'ST 052 - História do Esporte e das Práticas Corporais',\n",
                            "       'ST 053 - História e Culturas Políticas no Brasil Republicano',\n",
                            "       'ST 054 - História e Direito',\n",
                            "       'ST 056 - História e literatura: Possibilidades no estudo da cidade',\n",
                            "       'ST 057 - História e Memória do Turismo',\n",
                            "       'ST 058 - História Econômico-Social nos séculos XIX, XX e XXI: diálogos interdisciplinares entre História, Economia e Relações Internacionais.',\n",
                            "       'ST 059 - História Indígena, Etno-história e Indígenas Historiadores: experiências descolonizantes, novas abordagens, sujeitos e objetos',\n",
                            "       'ST 060 - História Marítima: perspectivas do Atlântico e da Diáspora Africana.',\n",
                            "       'ST 062 - História Oral, História Visual, História Audiovisual: fontes históricas em sons e imagens.',\n",
                            "       'ST 063 - História Política: conceitos, métodos e suas múltiplas experiências',\n",
                            "       'ST 064 - História Rural: debates, conceitos e pesquisas',\n",
                            "       'ST 065 - História, cinema e televisão: espaços de construção da memória',\n",
                            "       'ST 067 - História, infâncias e juventudes: desafios e perspectivas',\n",
                            "       'ST 068 - História, memória e conflitos sociais: atores, trajetórias, narrativas',\n",
                            "       'ST 069 - História: Teoria e Ensino',\n",
                            "       'ST 070 - Historiografia em Debate: Princípios de Escrita e Teoria da História.',\n",
                            "       'ST 071 - Ideias em construção: produção, circulação e recepção de ideias por meio dos impressos e livros no Oitocentos - Um espaço de debates para a Sociedade de Estudos dos Oitocentos',\n",
                            "       'ST 072 - Igreja, Sociedade e Poder na Idade Média',\n",
                            "       'ST 073 - Imagem, Cultura Visual e História',\n",
                            "       'ST 074 - Imagens da Morte: historicidades e historiografias',\n",
                            "       'ST 075 - Império e Colonização: sociedade, economia e administração na América Portuguesa',\n",
                            "       'ST 076 - Impérios Ibéricos no Antigo Regime: política, sociedade e cultura',\n",
                            "       'ST 077 - Imprensa e circulação de ideias: o papel dos periódicos nos séculos XIX e XX',\n",
                            "       'ST 078 - Inquisição, clero e conexões religiosas no mundo ibérico e colonial',\n",
                            "       'ST 080 - Intelectuais e História:  experiências, trajetórias, biografias.',\n",
                            "       'ST 081 - Intolerâncias: História do Poder, Ideias e Sentimentos Políticos',\n",
                            "       'ST 082 - Literatura e sociedade',\n",
                            "       'ST 083 - Marxismo e História 1: capitalismo, imperialismo, democracia e preconceitos',\n",
                            "       'ST 084 - Marxismo e História 2: percursos das esquerdas e das direitas, democracia e lutas sociais',\n",
                            "       'ST 086 - Movimento estudantil e universidades em contextos autoritários: memórias, resistências e repressão.',\n",
                            "       'ST 087 - Mulheres em espaços festivos e de protestos no Brasil dos séculos XIX e XX e ST 089 - Múltiplas faces da violência de Gênero: avanços, ambiguidades e perspectivas',\n",
                            "       'ST 088 - Múltiplas Cidades: histórias, memórias, disputas e intervenções',\n",
                            "       'ST 090 - Mundos do Trabalho: debates teóricos, métodos e fontes de pesquisa',\n",
                            "       'ST 091 - Mundos do Trabalho: política e democracia',\n",
                            "       'ST 092 - NARRATIVAS DE FLORESTAS E CIDADES AMAZÔNICAS: Patrimônios, Histórias e Literaturas em Trânsitos Orais, Escritos e Visuais',\n",
                            "       'ST 093 - Narrativas identitárias e sensibilidades políticas',\n",
                            "       'ST 095 - Novos Percursos e Reconfigurações:  abolição, abolicionismos e pós-emancipação',\n",
                            "       'ST 097 - O Brasil e os grandes conflitos bélicos: memória, cultura, política, Forças Armadas e relações internacionais',\n",
                            "       'ST 099 - O diálogo biográfico : vidas construídas e o papel do historiador',\n",
                            "       'ST 100 - O ensino de história e os materiais didáticos em variados contextos educativos: dos livros impressos às tecnologias digitais',\n",
                            "       'ST 103 - Patrimônio, memória e cidadania.',\n",
                            "       'ST 104 - Poder, sociedade e cultura no Brasil Império',\n",
                            "       'ST 105 - Política em família: casamento e compadrio no mundo luso-brasileiro',\n",
                            "       'ST 106 - Política Externa e Relações Internacionais: história e historiografia',\n",
                            "       'ST 107 - Por uma compreensão histórica das aparências: os usos da moda, do vestuário e da visualidade de si em questão',\n",
                            "       'ST 108 - Pós-abolição: racialização, memórias e protagonismos negros',\n",
                            "       'ST 109 - Presença e Participação Indígena na História: diálogos interdisciplinares',\n",
                            "       'ST 110 - Profhistória \\x96 Mestrado Profissional em Ensino de História: resultados, potencialidades e desafios',\n",
                            "       'ST 112 - Rebeliões, Sedições, Conjurações: episódios e narrativas das contestações políticas no Brasil \\x96 séculos XVII-XIX',\n",
                            "       'ST 113 - Reeducação étnico-racial e ensino de História: diálogos possíveis, relações necessárias',\n",
                            "       'ST 114 - Religiões, religiosidades, hibridismos e crenças afro-brasileiras',\n",
                            "       'ST 115 - Repensar a \\x93velha república\\x94: novas reflexões e desafios na produção historiográfica sobre a Primeira República',\n",
                            "       'ST 116 - Representações: política, imagens e escritas',\n",
                            "       'ST 118 - Trajetórias e biografias: modelos, limites, desafios e possibilidades.',\n",
                            "       'ST 119 - Um balanço dos museus em tempos de crise: novos atores e novas questões ou a celebração do mesmo?',\n",
                            "       'ST 120 - Mundos do Trabalho: trabalho de mulheres, relações de gênero e organização social',\n",
                            "       '001. \\x93A classe trabalhadora vai ao paraíso?\\x94 Ensino de História, emancipação, sujeitos e saberes em processos formais e não formais de educação.',\n",
                            "       '003. A cultura e as artes na ditadura militar',\n",
                            "       '005. A História Global: métodos, abordagens e historiografia',\n",
                            "       '006. A História Política e os estudos sobre o autoritarismo e a violência no Brasil republicano.',\n",
                            "       '008. A narrativa histórica escolar entre desafios do tempo presente e embates político-culturais',\n",
                            "       '010. África contemporânea: novos temas, questões de pesquisa e novas abordagens',\n",
                            "       '014. Antiguidade e Modernidade: usos do passado',\n",
                            "       '016. Arquivos e coleções como objeto de pesquisa: constituição, configuração e usos',\n",
                            "       '019. Arte, artistas e intelectuais na África e na diáspora: trânsitos coloniais e pós coloniais',\n",
                            "       '022. As famílias e suas estratégias de viver e sobreviver, séculos XVI a XIX',\n",
                            "       '023. As sensibilidades entre a razão instrumental e a desrazão',\n",
                            "       '026. Biografando intelectuais',\n",
                            "       '027. Caminhos da medicalização: a trajetória das relações entre medicina, saúde e sociedade no Brasil',\n",
                            "       '028. Catolicismos e Política: entre conservadores e progressistas',\n",
                            "       '029. Cidades em disputa: histórias, memórias, práticas do/no espaço',\n",
                            "       '032. Clio \\x93sai do armário\\x94: Homossexualidades e escrita da História',\n",
                            "       '033. Cultura Visual, História e Imagem',\n",
                            "       '034. Das margens: mulheres, gênero, sertões',\n",
                            "       '036. Desafios e transformações na América Latina: da constituição dos Estados nacionais no século XIX aos processos de abertura política no século XX',\n",
                            "       '037. Desafios para o estudo do Mundo Antigo na produção nacional: Temas, objetos e abordagens',\n",
                            "       '038. Diálogos de saberes: as possibilidades de construção de conhecimento entre a universidade e a sala de aula',\n",
                            "       '039. Diálogos, experiências e práticas pedagógicas de uma disciplina sob suspeita: o ensino de História na atualidade',\n",
                            "       '041. Dimensões do Regime Vargas e seus desdobramentos',\n",
                            "       '042. Direitas, História e Memória.',\n",
                            "       '043. Ditadura civil-militar no Brasil - lutas e resistências',\n",
                            "       '044. Divulgação Científica de História & História Pública',\n",
                            "       '045. Educação democrática e ensino de história: reformas educacionais, proposições pedagógicas, embates políticos, ameaças à liberdade de ensinar e modos de resistência',\n",
                            "       '046. Educação, Ensino e Pesquisa: Interdisciplinaridade, Transversalidade, Diversidade.',\n",
                            "       '047. Emancipações e Pós-abolição: sociabilidades, trabalho, racialização e memórias da escravidão e da liberdade',\n",
                            "       '048. Ensino de História e disputas pela memória',\n",
                            "       '052. Estado Ampliado: Agentes, Agências e Redes de Poder (Séculos XIX, XX E XXI)',\n",
                            "       '053. Estado, democracia e movimentos sociais no mundo contemporâneo',\n",
                            "       '054. Feminismos contemporâneos: Pensamentos, lutas, trajetórias e memórias',\n",
                            "       '055. Feminismos, Relações de Gênero, Narrativas e Políticas Públicas',\n",
                            "       '056. Foucault entre o porão e o sótão: a crítica do presente e as formas da resistência em tempos neoliberais',\n",
                            "       '057. Fronteiras e Territorialidades',\n",
                            "       '058. Habitação e direito à cidade: favelas, subúrbios, periferias e assentamentos informais no Brasil',\n",
                            "       '059. História & Música Popular', '060. História & Teatro',\n",
                            "       '061. História Ambiental: ciência, sociedade e biodiversidade',\n",
                            "       '062. História Ambiental: espaço, território e natureza.',\n",
                            "       '063. História da Ásia',\n",
                            "       '064. História da Educação: sujeitos, instituições, políticas educativas e culturas escolares',\n",
                            "       '066. História da Infância, da Adolescência e da Juventude no Brasil: perspectivas atuais e desafios futuros',\n",
                            "       '067. Historia da saúde e das doenças',\n",
                            "       '068. História das Ciências e da Saúde no Brasil: As relações nação-região nos processos de institucionalização das ciências',\n",
                            "       '069. História das Religiões e das Religiosidades',\n",
                            "       '070. História das Religiões e Religiosidades: crenças, práticas e hibridismos.',\n",
                            "       '071. História do ensino de história e os livros didáticos',\n",
                            "       '072. História do Esporte e das Práticas Corporais',\n",
                            "       '073. História do Lazer e dos Usos Sociais do Tempo Livre',\n",
                            "       '074. História e Cidades: memória, identidades, estilos de vida e reconfigurações urbanas',\n",
                            "       '075. História e Culturas Políticas no Brasil Republicano',\n",
                            "       '077. História e Ficção: diálogos e contaminações',\n",
                            "       '080. História e Memória do Turismo', '081. História e mídia',\n",
                            "       '082. História Econômica e Social: diálogos interdisciplinares entre História, Economia e Relações Internacionais.',\n",
                            "       '083. História indígena e Educação no Brasil: balanço, desafios e perspectivas.',\n",
                            "       '084. História Militar: Teorias, metodologias e fontes de pesquisa.',\n",
                            "       '085. História Política 3 - comunismo e anticomunismo: histórias, memórias e historiografia',\n",
                            "       '086. História Política: conceitos, métodos e suas múltiplas experiências',\n",
                            "       '087. História Rural: conflitos, disputas e direitos de propriedade.',\n",
                            "       '088. História social da educação brasileira: políticas, instituições, sujeitos',\n",
                            "       '089. História, arte e patrimônio: usos das imagens e da cultura material e visual',\n",
                            "       '090. História, cinema e televisão: lugares de disputa pela memória',\n",
                            "       '091. História, Cultura impressa e Intelectuais',\n",
                            "       '092. História, literatura e sociedade',\n",
                            "       '093. História, memória e patrimônio: entre usos sociais do passado e os patrimônios plurais',\n",
                            "       '094. História: livro didático, formação docente e ensino de história',\n",
                            "       '095. Histórias Atlânticas em perspectiva: portos, gênero e diáspora africana',\n",
                            "       '096. Histórias dos Sertões entre lugares: sociedade e cultura',\n",
                            "       '098. Igreja, Sociedade e Poder na Idade Média',\n",
                            "       '100. Imagens da Morte: crenças, atitudes e símbolos sobre a morte, os mortos e o morrer',\n",
                            "       '102. Impérios Ibéricos no Antigo Regime: política, sociedade e cultura',\n",
                            "       '105. Intelectuais e política em perspectiva transnacional no século XX e XXI: Américas e Europa',\n",
                            "       '106. \"Intelectuais, nações e circulação de ideias nas Américas nos séculos XIX e XX\"',\n",
                            "       '107. Intercâmbios, redes, rotas e conexões na Monarquia Hispânica: a circulação de ideias, saberes, objetos e sujeitos nos domínios ibéricos (sécs. XVI e XVII)',\n",
                            "       '109. Jogar com a História: ludicidade, divertimento e construções no ensino de História',\n",
                            "       '111. Livros e materiais didáticos de história: produção, circulação, usos e leituras',\n",
                            "       '112. Marxismo e História 1: capitalismo, imperialismo, educação, democracia e perspectivas de futuro',\n",
                            "       '113. Marxismo e História 2: percursos das esquerdas e das direitas, lutas sociais, educação, democracia e perspectivas de futuro',\n",
                            "       '114. Memória, história e historiografia(s)',\n",
                            "       '115. Memória, narrativa e invenção: artes, culturas urbanas e escrita da História',\n",
                            "       '116. \\x93Migrações: processos, memórias, trajetórias e itinerários (séculos XIX e XX)\\x94',\n",
                            "       '117. Movimento estudantil e universidades em contextos autoritários: memórias, resistências e repressão.',\n",
                            "       '119. Mundos do trabalho: escravidão, liberdade e  as diversas formas de exploração do trabalho',\n",
                            "       '120. Mundos do Trabalho: Lutas Sociais e Democracia',\n",
                            "       '121. Mundos do Trabalho: trabalho de mulheres, relações de gênero e organização social',\n",
                            "       '123. Museus, história e educação: retrospectivas e perspectivas',\n",
                            "       '124. Narrativas identitárias e sensibilidades políticas II',\n",
                            "       '126. Novos olhares sobre a Época Moderna (séc. XV-XVIII)',\n",
                            "       '128. O ensino como pesquisa: história, memória e política.',\n",
                            "       '131. O lugar da História na construção de uma formação interdisciplinar: Educação - Arte - Cultura - Cidadania',\n",
                            "       '132. O Patrimônio Cultural em lugar de fronteira: pensar o diálogo entre a História, Educação, Arquitetura, Antropologia e Turismo',\n",
                            "       '137. Pensamento Social Brasileiro',\n",
                            "       '138. Pesquisa e Ensino sobre a Antiguidade e o Medievo frente às demandas do século XXI',\n",
                            "       '140. Política e Sociedade no Brasil Oitocentista',\n",
                            "       '141. Política Externa e Relações Internacionais: história e historiografia',\n",
                            "       '142. Por uma compreensão histórica das aparências: os usos da moda, do vestuário e da visualidade - um olhar para o ensino e a multiculturalidade',\n",
                            "       '143. Pós-Abolição no Mundo Atlântico: diálogos transnacionais entre África, Américas e Europa',\n",
                            "       '144. Povos Indígenas, Gênero e Violências: histórias marginais',\n",
                            "       '145. Profhistória \\x96 Mestrado Profissional em Ensino de História:  resultados, potencialidades e desafios \\x96 2ª Edição',\n",
                            "       '146. Protagonismos indígenas:  reescrevendo histórias por meio de biografias e histórias de vida',\n",
                            "       '147. Reeducação étnico-racial e ensino-aprendizagem em História: diálogos possíveis, relações necessárias',\n",
                            "       '148. Representação política no Brasil oitocentista: parlamento, grupos e sociedades, partidos, imprensa, elites intelectuais e movimentos populares',\n",
                            "       '149. Representações do continente africano, Ensino de História da África no Brasil e Estudos Africanos.',\n",
                            "       '153. Teoria da História e História da Historiografia I',\n",
                            "       '154. Teoria da História e História da Historiografia II',\n",
                            "       '157. Trajetórias e (auto)biografias: modelos, limites, desafios e possibilidades.',\n",
                            "       '158. Trajetórias, violência, criminalidade: história social nas tramas da Justiça',\n",
                            "       '159. Violência de Gênero: interseccionalidades e sociedades \\x93hiperconectadas\\x94',\n",
                            "       '161. Artes, Patrimônio e Educação: os múltiplos suportes',\n",
                            "       '162. História do Brasil e suas Conexões',\n",
                            "       'ST 001. A direita e seus matizes: novos estudos e abordagens',\n",
                            "       'ST 002. A disciplina histórica e suas fronteiras',\n",
                            "       'ST 003. A História Global em perspectiva: história, historiografia e métodos',\n",
                            "       'ST 004. A história militar em perspectiva: Abordagens sobre instituições e sujeitos',\n",
                            "       'ST 005. A História Política e os estudos sobre autoritarismo, violência e graves violações de direitos humanos no Brasil republicano.',\n",
                            "       'ST 006. A História Pública, História Local e Comunidades',\n",
                            "       'ST 008. A invenção do passado: intelectuais, tradições e mitos políticos na América Latina',\n",
                            "       'ST 009. A Pesquisa em História Antiga no Brasil Contemporâneo: abordagens, desafios e inquietações',\n",
                            "       'ST 010. Afetos, Poderes e Violências:  feminismos ,  relações de gênero,  interseccionalidades, sexualidades e diversas maneiras de pensar a História',\n",
                            "       'ST 011. Anarquismo em questão: conceitos, práticas, circulação e trajetórias',\n",
                            "       'ST 012. Antiguidade e Modernidade: usos do passado',\n",
                            "       'ST 013. Aprendizagem em História:  entre antigos e novos desafios',\n",
                            "       'ST 014. Arquivos e coleções como objeto de pesquisa: configurações e agenciamentos',\n",
                            "       'ST 016. Artes de curar, Pensamento Médico e Doenças no contexto da Escravidão e do pós-Emancipação',\n",
                            "       'ST 018. As relações local-global e região-nação nos processos de constituição e institucionalização das ciências e da saúde no Brasil',\n",
                            "       'ST 019. As sensibilidades e a discussão do estatuto de verdade nas humanidades e nas artes',\n",
                            "       'ST 020. Ativismo, movimentos sociais e politização do tempo no mundo contemporâneo.',\n",
                            "       'ST 021. Atlântico e Diásporas: diálogos em torno de histórias, fontes e novos conceitos',\n",
                            "       'ST 022. Aula de História: Teoria e Ensino',\n",
                            "       'ST 023. Casamento, família e compadrio no mundo ibero-americano (séculos XVII a  XIX)',\n",
                            "       'ST 024. Cidades em disputas: histórias, memórias, práticas do/no espaço',\n",
                            "       'ST 026. Cinema, historiografia e cultura visual',\n",
                            "       'ST 027. Clio saiu do armário: LGBTQIA+s e escrita da História',\n",
                            "       'ST 028. Colonização e Ultramar: A Amazônia colonial e o mundo atlântico Português \\x96 séculos XVII e XVIII',\n",
                            "       'ST 029. Da África ás Diásporas: Eurocentrismo, Colonialismo e Relações de Poder',\n",
                            "       'ST 030. Das margens: gênero, interseccionalidades, sertanidades e re-existências',\n",
                            "       'ST 031. De narrativas identitárias e sensibilidades políticas III',\n",
                            "       'ST 033. Diálogos do Ensino de História em perspectivas',\n",
                            "       'ST 034. Dimensões do Regime Vargas e seus desdobramentos',\n",
                            "       'ST 035. Direitas, História e Memória',\n",
                            "       'ST 036. Ditaduras e Democracias no Mundo Contemporâneo: rupturas e continuidades',\n",
                            "       'ST 037. Educação de Jovens e Adultos e Ensino de História: sujeitos, saberes e docência em processos emancipatórios de educação',\n",
                            "       'ST 038. Educação democrática e ensino de História: embates políticos, enfrentamento do anti-intelectualismo e dos negacionismos, proposições pedagógicas de caráter emancipador',\n",
                            "       'ST 039. Educação e sociedade: as mudanças e permanências na História da Educação entre os séculos XIX e XX',\n",
                            "       'ST 040. Emancipações e Pós-Abolição: ensino de história, educação das relações étnico-raciais e antirracismo',\n",
                            "       'ST 041. Emancipações e Pós-abolição: racialização, memórias, biografias, protagonismos, sociabilidades, territorialidades, educação e trabalho',\n",
                            "       'ST 042. Ensino de História Antiga: Narrativas em Disputa na Cultura Histórica Brasileira',\n",
                            "       'ST 043. Ensino de História e disputas pela memória',\n",
                            "       'ST 044. Ensino de História e História Pública',\n",
                            "       'ST 045. Ensino de História e Imagens: Experiências de Pesquisa e Formação',\n",
                            "       'ST 046. Ensino de História no Tempo Presente:  disputas, resistências e conexões das culturas escolares e direitos humanos',\n",
                            "       'ST 047. Ensino superior de História: currículos, trajetórias e historiografia',\n",
                            "       'ST 049. Empresariado e Estado no Brasil',\n",
                            "       'ST 050. Estado, democracias e crises no Tempo Presente em contextos globais',\n",
                            "       'ST 051. Estudos Cemiteriais: arte, morte, religiosidade e sociedade',\n",
                            "       'ST 052. Fronteiras e Territorialidades',\n",
                            "       'ST 053. Gênero na Antiguidade.',\n",
                            "       'ST 054. GT - Teoria da História e História da Historiografia.',\n",
                            "       'ST 055. Habitação e direito à cidade: favelas, subúrbios, periferias e assentamentos informais no Brasil',\n",
                            "       'ST 056. História & Música Popular', 'ST 057. História & Teatro',\n",
                            "       'ST 058. História Ambiental: Ciência, Fronteira e Biodiversidade',\n",
                            "       'ST 059. História Ambiental: território, política e memória',\n",
                            "       'ST 060. História da África contemporânea e representações da África no Brasil',\n",
                            "       'ST 061. História da alimentação, da gastronomia e suas interfaces',\n",
                            "       'ST 062. História da Arte, Museus e Tecnologia',\n",
                            "       'ST 063. História da educação nas periferias do mundo contemporâneo: sujeitos, lugares e práticas',\n",
                            "       'ST 064 (A). História da Educação: sujeitos, instituições, políticas educativas e culturas escolares',\n",
                            "       'ST 064 (B). História da Educação: sujeitos, instituições, políticas educativas e culturas escolares',\n",
                            "       'ST 065. História da loucura, da psiquiatria e saberes afins.',\n",
                            "       'ST 066. História da Saúde e das doenças: perspectivas historiográficas e implicações culturais e sociais',\n",
                            "       'ST 067. História das mulheres e das relações de gênero (séculos XIII-XVIII)',\n",
                            "       'ST 068. História das Religiões e das Religiosidades',\n",
                            "       'ST 069. História do Esporte e das Práticas Corporais',\n",
                            "       'ST 070. História do Lazer e dos Usos Sociais do Tempo Livre',\n",
                            "       'ST 072. História e circulação de conhecimentos, saberes e práticas de saúde em perspectiva global',\n",
                            "       'ST 073. História e Culturas Políticas no Brasil Republicano',\n",
                            "       'ST 074. História e Gênero: Cultura, Memória e Identidades',\n",
                            "       'ST 075. História e Marxismo 1: Capitalismo contemporâneo, luta de classes, capital imperialismo, teoria, conjuntura.',\n",
                            "       'ST 076. História e Marxismo 2: Brasil recente, lutas de classe, esquerda, direita, educação.',\n",
                            "       'ST 077. HISTÓRIA E MARXISMO 3. História e historiografia marxistas sobre novos e velhos temas entre críticas e revisionismos: racismo, classe, gênero/opressões, revisionismo, relações sociais capitalistas e pré-capitalistas, campo e cidade',\n",
                            "       'ST 078. História e Mídia',\n",
                            "       'ST 079. História intelectual e História dos Intelectuais: percursos, estratégias e possibilidades metodológicas',\n",
                            "       'ST 080. História Moderna: concepções, temas e perspectivas para o ensino e a pesquisa',\n",
                            "       'ST 081. História política, \\x93escrevivências\\x94 do Movimento Negro, dos Feminismos negro e plurais: por um ensino de História antirracista e decolonial',\n",
                            "       'ST 082. História Política: conceitos, métodos e suas múltiplas experiências',\n",
                            "       'ST 083. História Pública e Histórias Públicas: debates e discussões, perspectivas e estado da arte',\n",
                            "       'ST 084. História Pública e Oralidades',\n",
                            "       'ST 085. História social das ciências: a construção do conhecimento científico e suas dimensões sócio-políticas, econômicas, culturais e teórico-metodológicas',\n",
                            "       'ST 086. História, cinema e televisão: regimes de representação, verossimilitude e veracidade',\n",
                            "       'ST 087. História, Trabalho e Tecnologia: o direito à cultura no processo de ensino/aprendizagem e pesquisa.',\n",
                            "       'ST 089. Histórias das Américas: novas abordagens historiográficas',\n",
                            "       'ST 090. Histórias de Vida no campo do Esporte e da Educação Física',\n",
                            "       'ST 091. Histórias de vida, ensino e aprendizagem na Educação Básica: desafios epistemológicos e potencialidades cognitivas',\n",
                            "       'ST 092. Histórias em quadrinhos, cartuns, charges e outras fontes visuais',\n",
                            "       'ST 094. Igreja, Sociedade e Poder na Idade Média',\n",
                            "       'ST 095. Imagem, Cultura Visual e História',\n",
                            "       'ST 096. Imagens da Morte: debates transversais sobre os sentidos da morte e do morrer',\n",
                            "       'ST 097. Impérios Ibéricos no Antigo Regime: política, sociedade, economia e cultura',\n",
                            "       'ST 098. Impérios ultramarinos e suas conquistas: cultura, escravidão, sociedade e governo (séculos XVI-XIX)',\n",
                            "       'ST 099. Indígenas, camponeses e quilombolas: caminhos para os (des)encontros com novas e outras narrativas',\n",
                            "       'ST 100. Infâncias, Adolescências e Juventudes no Brasil: História e Historiografia',\n",
                            "       'ST 102. Letrados, intelectuais, nações e circulação de ideias nas Américas nos séculos XIX e XX',\n",
                            "       'ST 103. Macrotempos e macroespaços: perspectivas sistêmicas e de longa duração nos estudos históricos',\n",
                            "       'ST 105. Memória, história e historiografia(s)',\n",
                            "       'ST 106. Memória, identidades (e seus limites) na pós-modernidade no Brasil',\n",
                            "       'ST 107. Morfologias históricas dos estudos sobre a época Moderna: histórias conectadas, sistemas atlânticos e impérios ultramarinos',\n",
                            "       'ST 108. Movimento estudantil e universidades em contextos autoritários: memórias, resistências e repressão.',\n",
                            "       'ST 109. Mundos do trabalho: escravidão, liberdade e as diversas formas de exploração dos trabalhadores e trabalhadoras',\n",
                            "       'ST 110. Mundos do trabalho: Literatura e sociedade',\n",
                            "       'ST 111. Mundos do Trabalho: Luta por direitos e Democracia',\n",
                            "       'ST 112 (A). Mundos do Trabalho: relações de gênero, masculinidades, trabalho de mulheres e organização social',\n",
                            "       'ST 112 (B). Mundos do Trabalho: relações de gênero, masculinidades, trabalho de mulheres e organização social',\n",
                            "       'ST 113. Narrativas Digitais, Memória e Patrimônio',\n",
                            "       'ST 115. Negacionismos  e usos da história',\n",
                            "       'ST 116. O jogar na História e a história nos jogos: aprendizagens, narrativas, representações e simulações',\n",
                            "       'ST 117. O Patrimônio Cultural em Lugar de Fronteira: História, Educação, Arquitetura, Antropologia, Turismo, Geologia e Outras Áreas Correlatas',\n",
                            "       'ST 118 (A). O rural e a tecnologia: pesquisas e debates em história agrária no Brasil',\n",
                            "       'ST 118 (B). O rural e a tecnologia: pesquisas e debates em história agrária no Brasil',\n",
                            "       'ST 119. O trabalho do Historiador em instituições custodiadoras de acervos',\n",
                            "       'ST 120. O(s) Ser-tão(ões) e suas Histórias: sujeitos, acontecimentos e temporalidades',\n",
                            "       'ST 121. Os índios na História: contextos históricos, situações sociais e mobilizações sociopolíticas.',\n",
                            "       'ST 122. Pandemia, temporalidade e arquivo: os desafios de arquivar a experiência contemporânea',\n",
                            "       'ST 123. Patrimônio Cultural e a crise da Democracia',\n",
                            "       'ST 124. Patrimônio Cultural, História e Ciência',\n",
                            "       'ST 125. Pensamento Social Brasileiro: intelectuais, cultura e política',\n",
                            "       'ST 126. Política Externa e Relações Internacionais: história e historiografia',\n",
                            "       'ST 127 (A). Política, sociedade e economia do Brasil no longo século XIX',\n",
                            "       'ST 127 (B). Política, sociedade e economia do Brasil no longo século XIX',\n",
                            "       'ST 128. Políticas de preservação do patrimônio cultural em tempos de redes ampliadas',\n",
                            "       'ST 129. Por uma compreensão histórica das aparências: história e cultura de moda',\n",
                            "       'ST 130. Pós-Abolição no Mundo Atlântico: diálogos transnacionais entre Áfricas, Américas e Europas',\n",
                            "       'ST 131. Povos indígenas e ensino de história',\n",
                            "       'ST 132. Povos indígenas na formação do Brasil oitocentista: pesquisa e renovação historiográfica',\n",
                            "       'ST 133. Povos Indígenas, Gênero e Violências: histórias marginais',\n",
                            "       'ST 134. Profhistória \\x96 Mestrado Profissional em Ensino de História:  resultados, potencialidades e desafios \\x96 3ª edição',\n",
                            "       'ST 135. Redes intelectuais e militância político-cultural nos catolicismos do Brasil',\n",
                            "       'ST 136. Redes intelectuais, Subjetividade(s) e Circularidade Transnacional: ideias jurídicas, cultura religiosa, instituições e poder',\n",
                            "       'ST 137. Religião e Movimentos Sociais: entremeios de uma relação',\n",
                            "       'ST 138. Religiões Mediúnicas na Modernidade',\n",
                            "       'ST 141. SIG Histórico e a virada espacial na História',\n",
                            "       'ST 142. Simpósio Temático: História Marítima: oceanos e vias navegáveis interiores em perspectivas históricas',\n",
                            "       'ST 143. Teoria da História e História da Historiografia: história, verdade e tecnologia.',\n",
                            "       'ST 145. Trabalhos da memória e escritas da história: testemunhos, estratégias discursivas e os impactos da tecnologia nas representações do passado',\n",
                            "       'ST 146. Trajetórias e (auto)biografias: modelos, limites, desafios e possibilidades.',\n",
                            "       'ST 147. Trajetórias e circulações no tempo da Monarquia Hispânica (séculos XVI e XVII)',\n",
                            "       'ST 148. Visões da Ásia: olhares de pesquisadores brasileiros sobre culturas e contatos entre culturas no espaço asiático',\n",
                            "       'ST 149. \\x93Migrações, processos e trajetórias: múltiplas experiências\\x94',\n",
                            "       'ST 001. \"Mandonas\", mulheres eleitas e protagonistas: poderes informais, invisibilidades e violências\\t',\n",
                            "       'ST 002. A Amazônia colonial e o mundo atlântico Português \\x96 séculos XVII e XVIII\\t',\n",
                            "       'ST 003. A BNCC e o Ensino de História: Impasses e ressignificações disciplinares\\t',\n",
                            "       'ST 004. A escola como espaço da vida: articulações entre ensino de história, cultura histórica e cultura escolar\\t',\n",
                            "       'ST 006. A história do constitucionalismo na América Latina, em debate (séculos XIX-XXI)\\t',\n",
                            "       'ST 008. A História Militar, o seu campo e as novas tendências da historiografia.\\t',\n",
                            "       'ST 009. A história política, democracia e direitos humanos: novos e renovados estudos\\t',\n",
                            "       'ST 011. Afetos, emoções e gênero na História\\t',\n",
                            "       'ST 013. África contemporânea: temas, problemas e abordagens\\t',\n",
                            "       'ST 014. Antiguidade e Modernidade: usos do passado\\t',\n",
                            "       'ST 015. Arquivos e coleções como objeto de pesquisa: configurações e agenciamentos\\t',\n",
                            "       'ST 016. Arte e partilha do sensível\\t',\n",
                            "       'ST 018. Artes de curar, Pensamento Médico e Doenças no contexto da Escravidão e do pós-Emancipação\\t',\n",
                            "       'ST 020. Assistência e saúde: atores, práticas, instituições e seus públicos\\t',\n",
                            "       'ST 021. Aula de História: teorias, práticas e ensino\\t',\n",
                            "       'ST 022. História e Marxismo 2: Brasil recente, luta de classes e política, ditadura e democracia, luta contra as opressões e direitos humanos\\t',\n",
                            "       'ST 026. Ciência, Tecnologia e História Econômica: diálogos interdisciplinares\\t',\n",
                            "       'ST 027. Clio no Cio: o que desejam as/os/es historiadores/as LGBTQIA+?\\t',\n",
                            "       'ST 028. Combates pelo Ensino de História: propostas, práticas e lutas\\t',\n",
                            "       'ST 029. Cultura Visual História e Imagem\\t',\n",
                            "       'ST 031. Deslocamentos, democracia e direitos humanos: memórias, histórias e historiografias\\t',\n",
                            "       'ST 034. Dimensões do Regime Vargas e seus desdobramentos\\t',\n",
                            "       'ST 036. Direito à História, Educação e Historiografia: Políticas de tempo, negacionismo e regimes de espacialização.\\t',\n",
                            "       'ST 038. DITADURA e AUTORITARISMO: necropolítica, negacionismo, arquivos e usos do passado\\t',\n",
                            "       'ST 040. Ditaduras militares na América Latina, transições democráticas e usos políticos do passado: a História em tempos de negacionismo\\t',\n",
                            "       'ST 041. Educação democrática, Ensino de História e a construção de horizontes políticos emancipatórios\\t',\n",
                            "       'ST 042. Emancipações e Pós-Abolição: ensino de história, educação das relações étnico-raciais e antirracismo\\t',\n",
                            "       'ST 043. Emancipações e Pós-abolição: racialização, memórias, biografias, protagonismos, sociabilidades, territorialidades, educação e trabalho\\t',\n",
                            "       'ST 047. Ensino de História e disputas pela memória: trajetórias, perspectivas e possibilidades de pesquisa\\t',\n",
                            "       'ST 048. Ensino de História e imagens: visualidades entre campos de interpretação e disputas\\t',\n",
                            "       'ST 049. Ensino de História e interseccionalidades: protagonismos, resistências e dores, do passado e do presente\\t',\n",
                            "       'ST 052. Ensino de História, usos de passado e formação de professores em tempos de crise democrática\\t',\n",
                            "       'ST 057. Eugenia, Genética e Raça\\t',\n",
                            "       'ST 060. Família no passado brasileiro: entre comportamentos, normas, solidariedades e tensões\\t',\n",
                            "       'ST 062. Fronteiras e Territorialidades\\t',\n",
                            "       'ST 063. GT Mundos do Trabalho, pesquisa e ensino: condições de vida e de trabalho, lutas e resistências.\\t',\n",
                            "       'ST 064. GT Mundos do Trabalho- Relações raciais e racismo nos mundos do trabalho: conflitos, resistências e trajetórias\\t',\n",
                            "       'ST 065. Habitação e direito à cidade: favelas, subúrbios, periferias e assentamentos informais no Brasil\\t',\n",
                            "       'ST 066. História & Música Popular\\t',\n",
                            "       'ST 067. História & Teatro\\t',\n",
                            "       'ST 068. História Ambiental, democracia e sociobiodiversidade\\t',\n",
                            "       'ST 069. História Antiga no Brasil do século XXI: Novas abordagens e problemas\\t',\n",
                            "       'ST 073. História da Saúde e das doenças: perspectivas historiográficas e implicações culturais e sociais\\t',\n",
                            "       'ST 074. História das Religiões e das Religiosidades\\t',\n",
                            "       'ST 076. História do crime, da polícia e da justiça criminal\\t',\n",
                            "       'ST 078. História do Esporte e das Práticas Corporais\\t',\n",
                            "       'ST 081. História do Tempo Presente: a imprensa, as mídias e os passados que não passam\\t',\n",
                            "       'ST 083. História e audiovisual: desafios políticos e epistemológicos\\t',\n",
                            "       'ST 084. História e Culturas Políticas no Brasil Republicano\\t',\n",
                            "       'ST 093. História Local: Pesquisa, Educação e Patrimônio\\t',\n",
                            "       'ST 096. História Rural: debates, pesquisas e ensino (Séculos XVI-XIX)\\t',\n",
                            "       'ST 097. Historia Rural: debates, pesquisas e ensino (séculos XX e XXI)\\t',\n",
                            "       'ST 098. História social da educação brasileira: políticas, instituições, sujeitos\\t',\n",
                            "       'ST 102. História, Memória, Cultura e Subjetividades urbanas\\t',\n",
                            "       'ST 105. Histórias em quadrinhos, cartuns, charges e outras fontes visuais - parte 2\\t',\n",
                            "       'ST 109. Igreja e Inquisição no mundo ibérico e colonial: dimensões e perspectivas\\t',\n",
                            "       'ST 110. Imagens da Morte: diálogos possíveis sobre uma questão sensível\\t',\n",
                            "       'ST 112. Infâncias, Adolescências e Juventudes no Brasil: experiências, práticas e discursos\\t',\n",
                            "       'ST 113. Institutos históricos e geográficos no Brasil: acervos, intelectuais e historiografias\\t',\n",
                            "       'ST 115. Inventar Democracia e Direitos Humanos \\x96  Histórias em Ensino e Pesquisa.\\t',\n",
                            "       'ST 124. Mundos do trabalho: escravidão, liberdade e variadas formas de exploração dos trabalhadores e trabalhadoras\\t',\n",
                            "       'ST 126. Mundos do trabalho: relações de gênero, trabalho de mulheres, organização social e masculinidades\\t',\n",
                            "       'ST 128. Nas Tramas da História: Gênero, Poderes, Culturas e Interseccionalidades.\\t',\n",
                            "       'ST 129. O Império do Brasil e a Segunda Escravidão\\t',\n",
                            "       'ST 132. O patrimônio cultural em lugar de fronteira: história, educação, arquitetura, antropologia, turismo, geografia e outras áreas correlatas\\t',\n",
                            "       'ST 134. O(s) Ser-tão(ões) e suas Histórias: sujeitos, narrativas, acontecimentos e temporalidades\\t',\n",
                            "       'ST 135. Os Intelectuais e a política na América Latina: engajamento e circulação de ideias nos séculos XX e XXI\\t',\n",
                            "       'ST 136. Os \\x93portugueses\\x94 nas províncias do Império do Brasil\\t',\n",
                            "       'ST 138. Patrimonialização e reparação histórica: desafios do profissional de história\\t',\n",
                            "       'ST 142. Pensamento Social Brasileiro: intelectuais, cultura e política\\t',\n",
                            "       'ST 143. Pensar a cidade e o urbano - desafios em perspectiva interdisciplinar\\t',\n",
                            "       'ST 144. Pesquisa e ensino da Idade Média no Brasil frente às demandas do século XXI: entre abordagens públicas e globais\\t',\n",
                            "       'ST 145. Pesquisa e ensino de História Moderna no século XXI: dilemas, desafios e possibilidades\\t',\n",
                            "       'ST 147. Política Externa e Relações Internacionais: história e historiografia\\t',\n",
                            "       'ST 148. Política, economia e sociedade no Brasil oitocentista\\t',\n",
                            "       'ST 150. Pós-Abolição no Mundo Atlântico: diálogos transnacionais entre Áfricas, Américas e Europas\\t',\n",
                            "       'ST 152. Povos indígenas, terra e política: abordagens interdisciplinares sobre a construção do Estado nacional (séc. XIX-XXI)\\t',\n",
                            "       'ST 154. Protagonismos indígenas na História e ensino da temática indígena: uma avaliação a partir da Lei nº 11.645/2008 e do Parecer CNE/CEB nº 14/2015\\t',\n",
                            "       'ST 155. Regimes Ditatoriais Contemporâneos: Repressão, Ação Empresarial, Expropriação Rural e Justiça de Transição\\t',\n",
                            "       'ST 164. Teoria da História e História da Historiografia (GT)\\t',\n",
                            "       'ST 165. Teoria da História e História da Historiografia: história profissional, democracia e direitos humanos.\\t',\n",
                            "       'ST 167. Trajetórias e (auto)biografias: modelos, limites, desafios e possibilidades.\\t',\n",
                            "       'ST 172. Neoliberalismo, diretas e política: perspectiva históricas, econômicas e paraeconômicas\\t',\n",
                            "       'ST 173. Povos Indígenas, Gênero e Violências: histórias marginais\\t',\n",
                            "       'ST 175. Das margens: Feminismos, Gênero e Sertões\\t',\n",
                            "       'ST 176. História Ambiental: do local ao global\\t'], dtype=object)"
                        ]
                    },
                    "execution_count": 36,
                    "metadata": {},
                    "output_type": "execute_result"
                }
            ],
            "source": [
                "# limpar valores em coluna 'ST': excluir '\\r\\n\\t\\t'\n",
                "df['ST'] = df['ST'].str.replace('\\r\\n\\t\\t', '')\n",
                "df['ST'].unique()"
            ]
        },
        {
            "cell_type": "code",
            "execution_count": 37,
            "metadata": {},
            "outputs": [
                {
                    "data": {
                        "text/plain": [
                            "array(['001. \"De que África estamos falando\\x94 (I) : perspectivas da pesquisa histórica e do ensino de História da África (do século XI à primeira metade do século XIX)',\n",
                            "       '002. \"De que África estamos falando\\x94 (II): perspectivas da pesquisa histórica e do ensino de História da África (do século XIX à configuração dos Estados independentes).\\x94',\n",
                            "       '003. A dinâmica imperial e a comunicação política no Antigo Regime do mundo português, séculos XVI-XIX',\n",
                            "       '004. A EDUCAÇÃO E A FORMAÇÃO DA SOCIEDADE BRASILEIRA',\n",
                            "       '005. A empresa jesuítica: da antiga Companhia à Companhia restaurada',\n",
                            "       '006. A História Antiga e as fronteiras do conhecimento histórico',\n",
                            "       '008. A História Pública e os Públicos da História',\n",
                            "       '009. A instituição militar no Brasil: diálogos entre história e ciências sociais',\n",
                            "       '011. A Presença Indígena na História do Brasil',\n",
                            "       '013. Antiguidade e Modernidade: usos do passado / 018. As Formas e os Limites do Político nos Estudos Medievais',\n",
                            "       '015. APRENDIZAGEM,  COMPETÊNCIAS  E FORMAÇÃO DA CONSCIÊNCIA HISTÓRICA.',\n",
                            "       '016. Arquivos, Memórias e Repressão Política no Cone Sul: novas fontes e abordagens',\n",
                            "       '017. As construções históricas dos saberes populares',\n",
                            "       '019. As sensibilidades e a subjetividade na produção do conhecimento histórico sobre as artes, as ciências e o pensamento.',\n",
                            "       '020. Assistência, políticas públicas e sociedade no Brasil',\n",
                            "       '021. Escravidão e documentação: registros cartoriais e eclesiásticos como fontes para as pesquisas em escravidão',\n",
                            "       '022. Autoritarismos, Memória e Resistência: Movimentos de Direita nos Séculos XX e XXI',\n",
                            "       '023. Catolicismo, repressão e diversidade cultural na América portuguesa / 029. Cultura e Educação: Portugal e Brasil (1750-1834) / 099. Inquisição: fontes, circunstâncias, personagens, imaginários',\n",
                            "       '024. Cidades no Brasil contemporâneo: trânsitos pela sociedade, cultura e poder',\n",
                            "       '025. Como a arte pode transformar a vida: experiências culturais e políticas de ontem e de hoje',\n",
                            "       '026. Conhecimento histórico da Cidade: a escrita da história por meio do diálogo entre as diversas formas de apreensão da Memória.',\n",
                            "       '027. Conhecimento histórico e diálogos sobre cultura e política na América Latina a partir do século XIX',\n",
                            "       '031. Cultura visual, imagem e história: visualidade e culturas históricas',\n",
                            "       '032. Culturas, Memórias e Histórias: espaços e territórios na/da cidade',\n",
                            "       '034. Da escravidão e da liberdade: Processos, biografias e experiências da abolição e do pós-emancipação em perspectiva transnacional',\n",
                            "       '035. Desenvolvimento sustentável, responsabilidades, resiliências e resistências na sociedade de controle.',\n",
                            "       '036. Diálogos sociais na formação do historiador/professor: experiências de ensino a partir de projetos e políticas públicas',\n",
                            "       '037. Didática da História: articulações entre pesquisa e ensino',\n",
                            "       '038. Dimensões e Fronteiras do Estado Brasileiro no Século XIX',\n",
                            "       '039. E/IMIGRAÇÕES: HISTÓRIAS, CULTURAS, TRAJETÓRIAS.',\n",
                            "       '040. Ensino de história: questões contemporâneas',\n",
                            "       '041. Estado, Poder e Violência no Brasil e países Latino-Americanos: ditaduras, projetos nacionais, imperialismo e lutas sociais',\n",
                            "       '042. Estado, representação política e sistemas partidários.',\n",
                            "       '043. ESTUDOS REGIONAIS: HISTÓRIA, EDUCAÇÃO E ENSINO DE HISTÓRIA - CONSTRUINDO CAMINHOS.',\n",
                            "       '044. Famílias e seus enredos: cenários de solidariedades e conflitos no Brasil do século XVI ao XIX',\n",
                            "       '045. Festas e sociabilidades na ressignificação do patrimônio imaterial no Brasil (séculos XIX e XX)',\n",
                            "       '046. Figurações e tramas do político: conhecimento, linguagens e sensibilidades',\n",
                            "       '047. Formação de professores: saberes e práticas do Ensino de História',\n",
                            "       '048. Fronteira Oeste: Poder, Economia e Sociedade / 049. Fronteiras e História',\n",
                            "       '050. Gênero, Feminismos e Memórias na América Latina',\n",
                            "       '051. GT Mundos do Trabalho \\x96 Instituições e política; costumes e direitos',\n",
                            "       '052. GT Mundos do Trabalho \\x96 Trabalho escravo e trabalho livre: cultura, costumes e lutas',\n",
                            "       '053. GT Mundos do Trabalho: Processos produtivos, condições de trabalho, conflitos sociais e formas de resistência dos trabalhadores',\n",
                            "       '054. Habitação e direito à cidade: favelas, mocambos, periferias e assentamentos informais no Brasil/071. História dos Quilombos',\n",
                            "       '055. História & Música', '056. História & Teatro',\n",
                            "       '057. História Ambiental: Natureza e Sociedade na Interpretação Histórica',\n",
                            "       '058. História da Educação no Meio Rural: sujeitos, práticas e representações',\n",
                            "       '059. História da Infância, da Adolescência e da Juventude: diálogo social e interdisciplinaridade',\n",
                            "       '060/061/088: História da Loucura e da Psiquiatria: representação, experiências e patrimônio',\n",
                            "       '062. História da Saúde e das Doenças: representações, conhecimento científico e instituições',\n",
                            "       '063. História das Instituições e da Cultura Política',\n",
                            "       '064. História das mulheres: relações de gênero, violência e políticas públicas.',\n",
                            "       '065. História do crime, da polícia e da justiça criminal',\n",
                            "       '066. História do desenvolvimento econômico no Brasil',\n",
                            "       '067. História do Esporte',\n",
                            "       '068. História do Livro, da Leitura e da Escrita no Brasil',\n",
                            "       '069. História do Tempo Presente e Memória',\n",
                            "       '072. HISTÓRIA E CINEMA: DIÁLOGOS EM PESQUISA E ENSINO',\n",
                            "       '073. História e Comunicação: Mídias, Intelectuais e Participação Política',\n",
                            "       '074/098: História, cultura e a temática indígena nas universidades: lacunas historiográficas de uma igualdade duvidosa',\n",
                            "       '075/106: História, Direito e Memória',\n",
                            "       '077. HISTÓRIA E MEMÓRIA DO TURISMO',\n",
                            "       '078. História e Patrimônio Cultural',\n",
                            "       '079. História e Quadrinhos: Pesquisa e Ensino em História e as Interações com a Nona Arte / 096. Imprensa ilustrada e jornalismo no Brasil do século XIX ',\n",
                            "       '080. História e representações religiosas \\x96 memória, identidades e território',\n",
                            "       '082. Historia Militar / 115. O Brasil e a Segunda Guerra Mundial',\n",
                            "       '084. HISTÓRIA POLÍTICA E HISTÓRIA DAS IDEIAS: DIÁLOGOS POSSÍVEIS',\n",
                            "       '085. História, Cinema e Televisão: dimensões históricas do audiovisual',\n",
                            "       '086. História, historiadores e memória das comunidades: diálogos possíveis',\n",
                            "       '087. História, literatura e sociedade',\n",
                            "       '089. Historiografia e Escrita da História: conhecimento histórico e diálogo social',\n",
                            "       '090. Idéias, intelectuais e instituições - conhecimento histórico e diálogo social.',\n",
                            "       '091. Igreja, sociedade e relações de Poder na Idade Média',\n",
                            "       '092. Imagens da Morte: a Morte, o Morrer e os Mortos em Sociedades Ibero-americanas',\n",
                            "       '093. Imagens de arte atuam sobre nós: dialética, anacronismo, montagem, sobrevivência.',\n",
                            "       '094. Império e Colonização: economia e sociedade na América Portuguesa',\n",
                            "       '095. Impérios Ibéricos no Antigo Regime: política, sociedade e cultura',\n",
                            "       '097. Imprensa, Cinema e História Contemporânea: Novos Objetos e Métodos da Investigação Histórica / 096. Imprensa ilustrada e jornalismo no Brasil do século XIX ',\n",
                            "       '100. Intelectuais no espaço ibero-americano: projetos políticos e mediação cultural',\n",
                            "       '101. Intelectuais, Sociedade e Política no Brasil (Séculos XIX e XX)',\n",
                            "       '102. Livro Didático e história ensinada',\n",
                            "       '103. Marxismo, Conhecimento Histórico e Realidade Social',\n",
                            "       '104. MEMÓRIA, HISTÓRIA E ENSINO DE HISTORIA: DIÁLOGO ENTRE DIFERENTES SABERES.',\n",
                            "       '105. Memória, História Oral, Audiovisual. Produção de fontes para narrativas biográficas.',\n",
                            "       '107. Memórias, Identidades e Conflitos sociais',\n",
                            "       '108. Migrações em questão: Entre o conhecimento histórico e o diálogo social',\n",
                            "       '109. Militares, sociedade e política',\n",
                            "       '110. MULHERES, FEMINISMOS E GÊNERO: DIÁLOGOS (IN)TENSOS NA HISTÓRIA',\n",
                            "       '111. Narrativas de florestas e cidades amazônicas: patrimônios, histórias e literaturas em trânsitos orais, escritos e visuais',\n",
                            "       '112. NARRATIVAS E INVENÇÕES DE SI: tempo, escritas e representações',\n",
                            "       '113. NAS FRONTEIRAS DA HISTÓRIA CULTURAL E DA HISTÓRIA SOCIAL: DIÁLOGOS ENTRE MANIFESTAÇÕES ARTÍSTICAS, ESTÉTICA E SEGMENTOS SOCIAIS',\n",
                            "       '114. Nas Oficinas da história: Ensino de História e historiografia',\n",
                            "       '117. O ENSINO DE HISTÓRIA NA FORMAÇÃO DE PROFESSORES: FONTES, PROBLEMAS, TEMÁTICAS E LINGUAGENS',\n",
                            "       '118. O Estado Brasileiro em Perspectiva Historiográfica (séculos XIX e XX)',\n",
                            "       '119. O governo da cidade: práticas políticas e culturais no Brasil Império e na Primeira República',\n",
                            "       '120/134: Produção e circulação de saberes, ideias e práticas nos mundos ibéricos: América Luso- Hispânica, Europa e Oriente',\n",
                            "       '122. O Rural em teoria: conceitos e abordagens para o estudo da História no meio rural',\n",
                            "       '123. Os arquivos como objeto de pesquisa: representações, configurações e usos dos acervos arquivísticos',\n",
                            "       '125. Patrimônio cultural e produção do conhecimento histórico: desafios para o diálogo social',\n",
                            "       '126/127: Patrimônio Histórico, História da Arte e territorialidades: novos espaços de ação social',\n",
                            "       '129. Poderes e Cultura Política no Brasil',\n",
                            "       '130. Política Externa e Relações Internacionais: História e Historiografia',\n",
                            "       '131. Política, Sociedade e cultura: revisitando a Primeira República brasileira',\n",
                            "       '132. Pós-abolição: racialização, memória e trabalho.',\n",
                            "       '133. Práticas e Representações Religiosas na História do Brasil',\n",
                            "       '135. Relações Políticas e Conexões Culturais na América Portuguesa do Período Filipino',\n",
                            "       '136. Religiões Mediúnicas e Afro-Brasileiras no âmbito da pesquisa histórica',\n",
                            "       '138. Sociedade, Trabalho e Política em Áreas de Fronteira',\n",
                            "       '139. Tradicionalismo, conservadorismo e militância católica',\n",
                            "       '140. Trajetórias e biografias: modelos, limites, desafios e possibilidades',\n",
                            "       '141. Zonas de fronteira e caminhos \\x93mato adentro\\x94: história e historiografia acerca dos sertões brasileiros',\n",
                            "       '001. \"De que África estamos falando\" (II): perspectivas da pesquisa histórica e do ensino de História da África (do século XIX à configuração dos Estados independentes).',\n",
                            "       '002. \"De que África estamos falando\\x94 (I) : perspectivas da pesquisa histórica e do ensino de História da África (do século XI à primeira metade do século XIX)',\n",
                            "       '003. \"Lugares de mulheres, lugares de homens: gênero, silêncios e palavras\" - Sessão A',\n",
                            "       '003. \"Lugares de mulheres, lugares de homens: gênero, silêncios e palavras\" - Sessão B',\n",
                            "       '004. A América espanhola e suas conexões coloniais: trânsitos, poderes e disputas',\n",
                            "       '005. A escravidão negra nas Américas: o antigo problema sob novas miradas',\n",
                            "       '007. A História Global em debate: métodos, historiografia e estudos de casos',\n",
                            "       '008. A instituição militar: diálogos entre história e ciências sociais',\n",
                            "       '009. A morte, o morrer e os mortos na Ibero-América: história, representações e novos problemas',\n",
                            "       '011. Antiguidade e Modernidade: usos do passado',\n",
                            "       '012. APRENDIZAGEM E FORMAÇÃO DA CONSCIÊNCIA HISTÓRICA NA EDUCAÇÃO ESCOLAR',\n",
                            "       '013. Arquivos como objeto: materialidade, temporalidade e trajetórias dos acervos documentais',\n",
                            "       '014. ARTE E PATRIMÔNIO',\n",
                            "       '015. As \"escritas de si\" e as relações entre o público e o privado nas Américas (séculos XIX-XXI)',\n",
                            "       '016. As formas da história e o lugar dos historiadores',\n",
                            "       '017. As sensibilidades e a subjetividade na produção do conhecimento histórico sobre as artes, as ciências e o pensamento',\n",
                            "       '018. Assistência e pobreza: novos desafios historiográficos',\n",
                            "       '019. Autoritarismo e direita: doutrinas, práxis e movimentos',\n",
                            "       '020. Catolicismo e Política: entre conservadores e progressistas',\n",
                            "       '021. Cidade, Cultura e Trabalho: Memórias e Dissidências',\n",
                            "       '022. Cidade: histórias, memórias e fontes orais \\x96 desafios, limites e possibilidades.',\n",
                            "       '023. Cidades e Práticas Culturais: modernidade, subjetividades e configurações de  identidades',\n",
                            "       '024. Circulações entre teorias e práticas na produção do conhecimento histórico, artístico e cultural',\n",
                            "       '026. Contrabando, descaminhos e heterodoxias religiosas na Época Moderna',\n",
                            "       '027. Cultura audiovisual, memória e narrativas do pertencimento: território e identidade na contemporaneidade.',\n",
                            "       '028. Cultura Escrita no império luso-brasileiro: circulação da escrita manuscrita e impressa',\n",
                            "       '029. Cultura jurídica e formação institucional no Brasil: justiça, poder e economia na formação do Estado',\n",
                            "       '030. Cultura Visual e História: os sentidos das imagens no oficio do historiador',\n",
                            "       '032. Culturas escolares e práticas educativas: escritas, narrativas e usos sociais',\n",
                            "       '033. CULTURAS, MEMÓRIAS E HISTÓRIAS: ESPAÇOS E TERRITÓRIOS NA/DA CIDADE',\n",
                            "       '034. De Loyola a Certeau: a Companhia de Jesus e a(s) escrita(s) da História',\n",
                            "       '036. Dimensões do Catolicismo no mundo ibérico e colonial',\n",
                            "       '037. Direitas, História e Memória',\n",
                            "       '038. Ditaduras de segurança nacional no Cone Sul: história e memória em tempos de verdade e justiça',\n",
                            "       '039. Ditaduras e Democracias no Mundo Contemporâneo: Rupturas e Continuidades',\n",
                            "       '040. Diversidades, memória e ensino de história: novos desafios',\n",
                            "       '041. E/Imigrações: histórias, culturas, trajetórias.',\n",
                            "       '042. Ensino, memória e patrimônio: as África (s) e suas representações na cultura e identidade dos negros e negras brasileiras',\n",
                            "       '043. Entre a curva e o caso: velhos e novos desafios para a História da Família',\n",
                            "       '044. Espaços memoriais: Arquivos, patrimônios material edificado e intangível no Brasil dos séculos XIX e XX.',\n",
                            "       '045. Estado e Intelectuais no Brasil \\x96 Teoria e Metodologia de Pesquisa em desafio permanente (séculos XIX e XX)',\n",
                            "       '046. Estado, Poder e Violência no Brasil e países Latino-Americanos: ditaduras, projetos nacionais, imperialismo e lutas sociais',\n",
                            "       '047. ESTADOS UNIDOS: sociedade, política e cultura (XVIII ao XXI)',\n",
                            "       '048. GÊNERO, FEMINISMOS E IDENTIDADES: novos lugares e desafios',\n",
                            "       '049. Gênero, História e o Mundo do Trabalho Doméstico.',\n",
                            "       '050. Habitação e direito à cidade: favelas, mocambos, periferias e assentamentos informais no Brasil',\n",
                            "       '051. História & Música', '052. História & Teatro',\n",
                            "       '053. História Ambiental: ciência, tecnologia e recursos naturais',\n",
                            "       '054. História Ambiental: espaço, território e natureza',\n",
                            "       '055. História Ambiental: política e sociedade',\n",
                            "       '056. História da Educação: entre práticas e representações',\n",
                            "       '057. História da história ensinada e os livros didáticos',\n",
                            "       '058. História da Infância, da Adolescência e da Juventude no Brasil: perspectivas atuais e desafios futuros',\n",
                            "       '059. HISTÓRIA DA LOUCURA, DA PSIQUIATRIA E DAS INSTITUIÇÕES DE ASSISTÊNCIA.',\n",
                            "       '060. História da saúde e da doença: perspectivas historiográficas e metodologias - Sessão A',\n",
                            "       '060. História da saúde e da doença: perspectivas historiográficas e metodologias - Sessão B',\n",
                            "       '061. História das Ciências no Brasil: produção, práticas e institucionalização',\n",
                            "       '062. HISTÓRIA DAS RELIGIÕES E DAS RELIGIOSIDADES: DESAFIOS E PERSPECTIVAS',\n",
                            "       '063. História do crime, da polícia e da justiça criminal',\n",
                            "       '064. História do Direito e História Social: fontes, temas, metodologias',\n",
                            "       '065. História do Esporte e das Práticas Corporais',\n",
                            "       '066. HISTÓRIA DO TEMPO PRESENTE: ACERVOS, MEMÓRIAS  E NARRATIVAS',\n",
                            "       '067. História e Culturas Políticas no Brasil Republicano',\n",
                            "       '068. História e Ensino de História: a produção de saberes na formação e na prática docente',\n",
                            "       '069. HISTÓRIA E INDÍGENAS NAS UNIVERSIDADES: PESQUISAS E ENSINO',\n",
                            "       '072. HISTÓRIA ECONÔMICO-SOCIAL EM DEBATE: SÉCULOS XIX e XX',\n",
                            "       '073. História Indígena, Historiografia e Indigenismo: contribuições, desafios e perspectivas',\n",
                            "       '074. História Política: conceitos, métodos e suas múltiplas experiências.',\n",
                            "       '076. História, literatura e sociedade',\n",
                            "       '077. História, memória e práticas educativas no ensino de história, na história da educação e na educação patrimonial',\n",
                            "       '078. História, Museus e Museologia: velhos e novos desafios',\n",
                            "       '079. Histórias da História ensinada: experiências educacionais, currículos, impressos e processos formativos',\n",
                            "       '080. HISTÓRIAS, MEMÓRIAS E PATRIMÔNIOS: O TRABALHO DO HISTORIADOR ENTRE RASTROS E POSSIBILIDADES',\n",
                            "       '081. Igreja, Sociedade e Poder na Idade Média',\n",
                            "       '082. Imigrantes: memórias, trabalho, política e repressão',\n",
                            "       '083. Império e Colonização: economia e sociedade na América Portuguesa',\n",
                            "       '084. Impérios Ibéricos no Antigo Regime: política, sociedade e cultura',\n",
                            "       '085. Intelectuais e História:Experiências, Gerações e Mediações',\n",
                            "       '086. Intelectuais e mediação cultural (séculos XIX e XX)',\n",
                            "       '087. Intelectuais, poder e ideias políticas no Brasil',\n",
                            "       '088. Intelectuais, Sociedade e Política: Memórias e Biografias',\n",
                            "       '089. Lugares do cinema e da televisão na história, lugares da história no cinema e na televisão',\n",
                            "       '090. Lugares e fazeres do historiador no campo do patrimônio cultural e dos museus etnográficos',\n",
                            "       '091. MARXISMO E HISTÓRIA: LUGARES TEMÁTICOS, DESAFIOS TEÓRICOS - Sessão A',\n",
                            "       '091. MARXISMO E HISTÓRIA: LUGARES TEMÁTICOS, DESAFIOS TEÓRICOS - Sessão B',\n",
                            "       '092. Memória, narrativa e invenção: artes, culturas urbanas e escrita da História',\n",
                            "       '093. Movimento estudantil e Universidades em contextos autoritários: memórias, resistências e repressão.',\n",
                            "       '094. Mundos do trabalho: cultura e cotidiano',\n",
                            "       '095. Mundos do Trabalho: debates teóricos, métodos e fontes de pesquisa',\n",
                            "       '096. Mundos do Trabalho: organizações e lutas por direitos - Sessão A',\n",
                            "       '096. Mundos do Trabalho: organizações e lutas por direitos - Sessão B',\n",
                            "       '098. Narrativas (auto)biográficas e historiografia didática: que articulações possíveis no currículo escolar face às demandas do tempo presente?',\n",
                            "       '099. Narrativas de florestas e cidades amazônicas: patrimônios, histórias e literaturas em trânsitos orais, escritos e visuais',\n",
                            "       '100. Narrativas identitárias: lugares, memórias',\n",
                            "       '101. O Brasil no contexto da Segunda Guerra Mundial: cultura, política, sociedade e Forças Armadas',\n",
                            "       '102. O Ensino de História e a Educação de Jovens e Adultos: materiais didáticos, currículos, práticas docentes e identidades.',\n",
                            "       '104. O Lugar da História e dos Historiadores no Campo Interdisicplinar: convergências/dissonâncias entre História, Ficção e o Lugar da Obra de Arte como Documento de Pesquisa Histórica',\n",
                            "       '106. O protagonismo indígena na História: abordagens interdisciplinares em contextos coloniais e pós-colonais',\n",
                            "       '107. Os lugares das imagens',\n",
                            "       '108. Outras paisagens do cativeiro e da liberdade: abolição, abolicionismo e pós-emancipação',\n",
                            "       '109. Pesquisa histórica e relevância social da historiografia: interesse, continuidade e responsabilidade como problemas para o historiador do século 21',\n",
                            "       '110. Poder e saberes no século XIX: literatura, artes, imprensa, livros, missivas e política - Sessão A',\n",
                            "       '110. Poder e saberes no século XIX: literatura, artes, imprensa, livros, missivas e política - Sessão B',\n",
                            "       '111. Política Externa e Relações Internacionais: história e historiografia',\n",
                            "       '112. Pós-abolição, Identidades e Culturas',\n",
                            "       '113. Propriedades & usos coletivos na história rural do Brasil',\n",
                            "       '114. REEDUCAÇÃO DAS RELAÇÕES ÉTNICO-RACIAIS E ENSINO DE HISTÓRIA: DIÁLOGOS POSSÍVEIS, RELAÇÕES NECESSÁRIAS',\n",
                            "       '115. Simpósio Temático História e Direito',\n",
                            "       '116. Sociedade, Trabalho e Política em Áreas de Fronteira',\n",
                            "       '117. TRAJETÓRIAS E BIOGRAFIAS: MODELOS, LIMITES, DESAFIOS E POSSIBILIDADES',\n",
                            "       '118. Unidade e diversidade no Mundo Antigo',\n",
                            "       '119. Violência contra a mulher: conceituações e práticas sociais',\n",
                            "       'ST 001 - A cultura e as artes na ditadura militar',\n",
                            "       'ST 002 - A DOCÊNCIA EM HISTÓRIA: travessias formativas, saberes profissionais e experiências didático-históricas',\n",
                            "       'ST 003 - A Fronteira Oeste do Brasil: história, historiografia, culturas políticas, memórias, migrações, identidades e reordenamentos espaciais',\n",
                            "       'ST 004 - A História Global: métodos, abordagens e historiografia e ST 015 - As Américas do século XVI ao XVIII: conexões entre o local e o global',\n",
                            "       'ST 005 - A História Militar: contra o preconceito, saberes e práticas científicas',\n",
                            "       'ST 008 - A Primeira Modernidade: novos mundos, novas ordens',\n",
                            "       'ST 009 - África contemporânea: Novos temas e novas abordagens',\n",
                            "       'ST 010 - África: pluralismo histórico e temático (do século XI à primeira metade do século XIX)',\n",
                            "       'ST 011 - Anarquismo em questão: conceitos, práticas e trajetórias.',\n",
                            "       'ST 012 - Antiguidade e Modernidade: usos do passado',\n",
                            "       'ST 013 - Arquivos como objeto de pesquisa: representações, configurações e usos',\n",
                            "       'ST 014 - Artes visuais, política e representação',\n",
                            "       'ST 016 - As condições históricas das legislações sobre o Patrimônio Cultural e ST 085 - Memória, narrativa e invenção: artes, culturas urbanas e escrita da História',\n",
                            "       'ST 017 - As sensibilidades na história: artes, ciências e pensamento',\n",
                            "       'ST 018 - Caminhos da política no Império do Brasil',\n",
                            "       'ST 019 - Catolicismo e Política: entre conservadores e progressistas',\n",
                            "       'ST 020 - Cidadania, democracia e revoluções: desafios e transformações na América Latina nos séculos XIX e XX.',\n",
                            "       'ST 021 - Comunismo e anticomunismo no Brasil republicano: velhos e novos desafios e ST 039 - Guerra Fria em novas perspectivas transnacionais',\n",
                            "       'ST 022 - Cultura Escrita no mundo ibérico colonial: produção, circulação, uso e conservação de manuscritos e impressos',\n",
                            "       'ST 023 - Da construção dos patrimônios ao acesso às cidades: direitos, negociações e conflitos',\n",
                            "       'ST 024 - Dimensões da desordem em colônias: contrabando, descaminhos e heterodoxias religiosas',\n",
                            "       'ST 025 - Direitas, História e Memória',\n",
                            "       'ST 026 - Ditaduras e Democracias no Mundo Contemporâneo: Rupturas e Continuidades',\n",
                            "       'ST 027 - E/Imigrações: histórias, culturas, trajetórias',\n",
                            "       'ST 028 - Educação democrática e ensino de história: potenciais e perigos das novas propostas de reforma educacional',\n",
                            "       'ST 029 - Ensino de História e as lutas entre narrativas: políticas, saberes e práticas',\n",
                            "       'ST 030 - Ensino de História e disputas pela memória',\n",
                            "       'ST 031 - Ensino de História, Currículo e Cultura: narrativas em disputa',\n",
                            "       'ST 032 - Entre a politização e o engajamento \\x96 obras de arte e seus criadores nos embates em favor de processos democráticos e dos exercícios de liberdade',\n",
                            "       'ST 033 - Estado, democracia e movimentos sociais no mundo contemporâneo.',\n",
                            "       'ST 034 - ESTADOS UNIDOS: sociedade, política e cultura (XVIII ao XXI)',\n",
                            "       'ST 035 - Estudos Africanos, Representações da África e o Ensino de História da África no Brasil.',\n",
                            "       'ST 036 - Fronteiras e Territorialidades',\n",
                            "       'ST 037 - Gramsci na Pesquisa Histórica (séculos XIX, XX E XXI)',\n",
                            "       'ST 038 - GT História da Saúde e das Doenças',\n",
                            "       'ST 040 - Habitação e direito à cidade: favelas, subúrbios, periferias e assentamentos informais no Brasil',\n",
                            "       'ST 041 - História & Música', 'ST 042 - História & Teatro',\n",
                            "       'ST 043 - História Ambiental: ciência, tecnologia e o mundo natural e ST 045 - História Ambiental: o Antropoceno, desastres e biodiversidadeHistória Ambiental: o Antropoceno, desastres e biodiversidade',\n",
                            "       'ST 044 - História Ambiental: espaço, território e natureza Coordenadores: Eurípedes Funes (Pós Doutor - UFC), Dora Shellard Corrêa (Dou-tor   ENS)',\n",
                            "       'ST 046 - História Antiga \\x96 Rumos e Interpretações',\n",
                            "       'ST 047 - História da Educação: culturas, práticas e representações',\n",
                            "       'ST 048 - História da loucura, da psiquiatria e das instituições de assistência.',\n",
                            "       'ST 049 - História da violência no mundo contemporâneo (séculos XIX a XXI)',\n",
                            "       'ST 050 - História de fazer a cidade um espaço democrático: memória, identidade e transformação urbana',\n",
                            "       'ST 051 - História do ensino de história e os livros didáticos',\n",
                            "       'ST 052 - História do Esporte e das Práticas Corporais',\n",
                            "       'ST 053 - História e Culturas Políticas no Brasil Republicano',\n",
                            "       'ST 054 - História e Direito',\n",
                            "       'ST 056 - História e literatura: Possibilidades no estudo da cidade',\n",
                            "       'ST 057 - História e Memória do Turismo',\n",
                            "       'ST 058 - História Econômico-Social nos séculos XIX, XX e XXI: diálogos interdisciplinares entre História, Economia e Relações Internacionais.',\n",
                            "       'ST 059 - História Indígena, Etno-história e Indígenas Historiadores: experiências descolonizantes, novas abordagens, sujeitos e objetos',\n",
                            "       'ST 060 - História Marítima: perspectivas do Atlântico e da Diáspora Africana.',\n",
                            "       'ST 062 - História Oral, História Visual, História Audiovisual: fontes históricas em sons e imagens.',\n",
                            "       'ST 063 - História Política: conceitos, métodos e suas múltiplas experiências',\n",
                            "       'ST 064 - História Rural: debates, conceitos e pesquisas',\n",
                            "       'ST 065 - História, cinema e televisão: espaços de construção da memória',\n",
                            "       'ST 067 - História, infâncias e juventudes: desafios e perspectivas',\n",
                            "       'ST 068 - História, memória e conflitos sociais: atores, trajetórias, narrativas',\n",
                            "       'ST 069 - História: Teoria e Ensino',\n",
                            "       'ST 070 - Historiografia em Debate: Princípios de Escrita e Teoria da História.',\n",
                            "       'ST 071 - Ideias em construção: produção, circulação e recepção de ideias por meio dos impressos e livros no Oitocentos - Um espaço de debates para a Sociedade de Estudos dos Oitocentos',\n",
                            "       'ST 072 - Igreja, Sociedade e Poder na Idade Média',\n",
                            "       'ST 073 - Imagem, Cultura Visual e História',\n",
                            "       'ST 074 - Imagens da Morte: historicidades e historiografias',\n",
                            "       'ST 075 - Império e Colonização: sociedade, economia e administração na América Portuguesa',\n",
                            "       'ST 076 - Impérios Ibéricos no Antigo Regime: política, sociedade e cultura',\n",
                            "       'ST 077 - Imprensa e circulação de ideias: o papel dos periódicos nos séculos XIX e XX',\n",
                            "       'ST 078 - Inquisição, clero e conexões religiosas no mundo ibérico e colonial',\n",
                            "       'ST 080 - Intelectuais e História:  experiências, trajetórias, biografias.',\n",
                            "       'ST 081 - Intolerâncias: História do Poder, Ideias e Sentimentos Políticos',\n",
                            "       'ST 082 - Literatura e sociedade',\n",
                            "       'ST 083 - Marxismo e História 1: capitalismo, imperialismo, democracia e preconceitos',\n",
                            "       'ST 084 - Marxismo e História 2: percursos das esquerdas e das direitas, democracia e lutas sociais',\n",
                            "       'ST 086 - Movimento estudantil e universidades em contextos autoritários: memórias, resistências e repressão.',\n",
                            "       'ST 087 - Mulheres em espaços festivos e de protestos no Brasil dos séculos XIX e XX e ST 089 - Múltiplas faces da violência de Gênero: avanços, ambiguidades e perspectivas',\n",
                            "       'ST 088 - Múltiplas Cidades: histórias, memórias, disputas e intervenções',\n",
                            "       'ST 090 - Mundos do Trabalho: debates teóricos, métodos e fontes de pesquisa',\n",
                            "       'ST 091 - Mundos do Trabalho: política e democracia',\n",
                            "       'ST 092 - NARRATIVAS DE FLORESTAS E CIDADES AMAZÔNICAS: Patrimônios, Histórias e Literaturas em Trânsitos Orais, Escritos e Visuais',\n",
                            "       'ST 093 - Narrativas identitárias e sensibilidades políticas',\n",
                            "       'ST 095 - Novos Percursos e Reconfigurações:  abolição, abolicionismos e pós-emancipação',\n",
                            "       'ST 097 - O Brasil e os grandes conflitos bélicos: memória, cultura, política, Forças Armadas e relações internacionais',\n",
                            "       'ST 099 - O diálogo biográfico : vidas construídas e o papel do historiador',\n",
                            "       'ST 100 - O ensino de história e os materiais didáticos em variados contextos educativos: dos livros impressos às tecnologias digitais',\n",
                            "       'ST 103 - Patrimônio, memória e cidadania.',\n",
                            "       'ST 104 - Poder, sociedade e cultura no Brasil Império',\n",
                            "       'ST 105 - Política em família: casamento e compadrio no mundo luso-brasileiro',\n",
                            "       'ST 106 - Política Externa e Relações Internacionais: história e historiografia',\n",
                            "       'ST 107 - Por uma compreensão histórica das aparências: os usos da moda, do vestuário e da visualidade de si em questão',\n",
                            "       'ST 108 - Pós-abolição: racialização, memórias e protagonismos negros',\n",
                            "       'ST 109 - Presença e Participação Indígena na História: diálogos interdisciplinares',\n",
                            "       'ST 110 - Profhistória \\x96 Mestrado Profissional em Ensino de História: resultados, potencialidades e desafios',\n",
                            "       'ST 112 - Rebeliões, Sedições, Conjurações: episódios e narrativas das contestações políticas no Brasil \\x96 séculos XVII-XIX',\n",
                            "       'ST 113 - Reeducação étnico-racial e ensino de História: diálogos possíveis, relações necessárias',\n",
                            "       'ST 114 - Religiões, religiosidades, hibridismos e crenças afro-brasileiras',\n",
                            "       'ST 115 - Repensar a \\x93velha república\\x94: novas reflexões e desafios na produção historiográfica sobre a Primeira República',\n",
                            "       'ST 116 - Representações: política, imagens e escritas',\n",
                            "       'ST 118 - Trajetórias e biografias: modelos, limites, desafios e possibilidades.',\n",
                            "       'ST 119 - Um balanço dos museus em tempos de crise: novos atores e novas questões ou a celebração do mesmo?',\n",
                            "       'ST 120 - Mundos do Trabalho: trabalho de mulheres, relações de gênero e organização social',\n",
                            "       '001. \\x93A classe trabalhadora vai ao paraíso?\\x94 Ensino de História, emancipação, sujeitos e saberes em processos formais e não formais de educação.',\n",
                            "       '003. A cultura e as artes na ditadura militar',\n",
                            "       '005. A História Global: métodos, abordagens e historiografia',\n",
                            "       '006. A História Política e os estudos sobre o autoritarismo e a violência no Brasil republicano.',\n",
                            "       '008. A narrativa histórica escolar entre desafios do tempo presente e embates político-culturais',\n",
                            "       '010. África contemporânea: novos temas, questões de pesquisa e novas abordagens',\n",
                            "       '014. Antiguidade e Modernidade: usos do passado',\n",
                            "       '016. Arquivos e coleções como objeto de pesquisa: constituição, configuração e usos',\n",
                            "       '019. Arte, artistas e intelectuais na África e na diáspora: trânsitos coloniais e pós coloniais',\n",
                            "       '022. As famílias e suas estratégias de viver e sobreviver, séculos XVI a XIX',\n",
                            "       '023. As sensibilidades entre a razão instrumental e a desrazão',\n",
                            "       '026. Biografando intelectuais',\n",
                            "       '027. Caminhos da medicalização: a trajetória das relações entre medicina, saúde e sociedade no Brasil',\n",
                            "       '028. Catolicismos e Política: entre conservadores e progressistas',\n",
                            "       '029. Cidades em disputa: histórias, memórias, práticas do/no espaço',\n",
                            "       '032. Clio \\x93sai do armário\\x94: Homossexualidades e escrita da História',\n",
                            "       '033. Cultura Visual, História e Imagem',\n",
                            "       '034. Das margens: mulheres, gênero, sertões',\n",
                            "       '036. Desafios e transformações na América Latina: da constituição dos Estados nacionais no século XIX aos processos de abertura política no século XX',\n",
                            "       '037. Desafios para o estudo do Mundo Antigo na produção nacional: Temas, objetos e abordagens',\n",
                            "       '038. Diálogos de saberes: as possibilidades de construção de conhecimento entre a universidade e a sala de aula',\n",
                            "       '039. Diálogos, experiências e práticas pedagógicas de uma disciplina sob suspeita: o ensino de História na atualidade',\n",
                            "       '041. Dimensões do Regime Vargas e seus desdobramentos',\n",
                            "       '042. Direitas, História e Memória.',\n",
                            "       '043. Ditadura civil-militar no Brasil - lutas e resistências',\n",
                            "       '044. Divulgação Científica de História & História Pública',\n",
                            "       '045. Educação democrática e ensino de história: reformas educacionais, proposições pedagógicas, embates políticos, ameaças à liberdade de ensinar e modos de resistência',\n",
                            "       '046. Educação, Ensino e Pesquisa: Interdisciplinaridade, Transversalidade, Diversidade.',\n",
                            "       '047. Emancipações e Pós-abolição: sociabilidades, trabalho, racialização e memórias da escravidão e da liberdade',\n",
                            "       '048. Ensino de História e disputas pela memória',\n",
                            "       '052. Estado Ampliado: Agentes, Agências e Redes de Poder (Séculos XIX, XX E XXI)',\n",
                            "       '053. Estado, democracia e movimentos sociais no mundo contemporâneo',\n",
                            "       '054. Feminismos contemporâneos: Pensamentos, lutas, trajetórias e memórias',\n",
                            "       '055. Feminismos, Relações de Gênero, Narrativas e Políticas Públicas',\n",
                            "       '056. Foucault entre o porão e o sótão: a crítica do presente e as formas da resistência em tempos neoliberais',\n",
                            "       '057. Fronteiras e Territorialidades',\n",
                            "       '058. Habitação e direito à cidade: favelas, subúrbios, periferias e assentamentos informais no Brasil',\n",
                            "       '059. História & Música Popular', '060. História & Teatro',\n",
                            "       '061. História Ambiental: ciência, sociedade e biodiversidade',\n",
                            "       '062. História Ambiental: espaço, território e natureza.',\n",
                            "       '063. História da Ásia',\n",
                            "       '064. História da Educação: sujeitos, instituições, políticas educativas e culturas escolares',\n",
                            "       '066. História da Infância, da Adolescência e da Juventude no Brasil: perspectivas atuais e desafios futuros',\n",
                            "       '067. Historia da saúde e das doenças',\n",
                            "       '068. História das Ciências e da Saúde no Brasil: As relações nação-região nos processos de institucionalização das ciências',\n",
                            "       '069. História das Religiões e das Religiosidades',\n",
                            "       '070. História das Religiões e Religiosidades: crenças, práticas e hibridismos.',\n",
                            "       '071. História do ensino de história e os livros didáticos',\n",
                            "       '072. História do Esporte e das Práticas Corporais',\n",
                            "       '073. História do Lazer e dos Usos Sociais do Tempo Livre',\n",
                            "       '074. História e Cidades: memória, identidades, estilos de vida e reconfigurações urbanas',\n",
                            "       '075. História e Culturas Políticas no Brasil Republicano',\n",
                            "       '077. História e Ficção: diálogos e contaminações',\n",
                            "       '080. História e Memória do Turismo', '081. História e mídia',\n",
                            "       '082. História Econômica e Social: diálogos interdisciplinares entre História, Economia e Relações Internacionais.',\n",
                            "       '083. História indígena e Educação no Brasil: balanço, desafios e perspectivas.',\n",
                            "       '084. História Militar: Teorias, metodologias e fontes de pesquisa.',\n",
                            "       '085. História Política 3 - comunismo e anticomunismo: histórias, memórias e historiografia',\n",
                            "       '086. História Política: conceitos, métodos e suas múltiplas experiências',\n",
                            "       '087. História Rural: conflitos, disputas e direitos de propriedade.',\n",
                            "       '088. História social da educação brasileira: políticas, instituições, sujeitos',\n",
                            "       '089. História, arte e patrimônio: usos das imagens e da cultura material e visual',\n",
                            "       '090. História, cinema e televisão: lugares de disputa pela memória',\n",
                            "       '091. História, Cultura impressa e Intelectuais',\n",
                            "       '092. História, literatura e sociedade',\n",
                            "       '093. História, memória e patrimônio: entre usos sociais do passado e os patrimônios plurais',\n",
                            "       '094. História: livro didático, formação docente e ensino de história',\n",
                            "       '095. Histórias Atlânticas em perspectiva: portos, gênero e diáspora africana',\n",
                            "       '096. Histórias dos Sertões entre lugares: sociedade e cultura',\n",
                            "       '098. Igreja, Sociedade e Poder na Idade Média',\n",
                            "       '100. Imagens da Morte: crenças, atitudes e símbolos sobre a morte, os mortos e o morrer',\n",
                            "       '102. Impérios Ibéricos no Antigo Regime: política, sociedade e cultura',\n",
                            "       '105. Intelectuais e política em perspectiva transnacional no século XX e XXI: Américas e Europa',\n",
                            "       '106. \"Intelectuais, nações e circulação de ideias nas Américas nos séculos XIX e XX\"',\n",
                            "       '107. Intercâmbios, redes, rotas e conexões na Monarquia Hispânica: a circulação de ideias, saberes, objetos e sujeitos nos domínios ibéricos (sécs. XVI e XVII)',\n",
                            "       '109. Jogar com a História: ludicidade, divertimento e construções no ensino de História',\n",
                            "       '111. Livros e materiais didáticos de história: produção, circulação, usos e leituras',\n",
                            "       '112. Marxismo e História 1: capitalismo, imperialismo, educação, democracia e perspectivas de futuro',\n",
                            "       '113. Marxismo e História 2: percursos das esquerdas e das direitas, lutas sociais, educação, democracia e perspectivas de futuro',\n",
                            "       '114. Memória, história e historiografia(s)',\n",
                            "       '115. Memória, narrativa e invenção: artes, culturas urbanas e escrita da História',\n",
                            "       '116. \\x93Migrações: processos, memórias, trajetórias e itinerários (séculos XIX e XX)\\x94',\n",
                            "       '117. Movimento estudantil e universidades em contextos autoritários: memórias, resistências e repressão.',\n",
                            "       '119. Mundos do trabalho: escravidão, liberdade e  as diversas formas de exploração do trabalho',\n",
                            "       '120. Mundos do Trabalho: Lutas Sociais e Democracia',\n",
                            "       '121. Mundos do Trabalho: trabalho de mulheres, relações de gênero e organização social',\n",
                            "       '123. Museus, história e educação: retrospectivas e perspectivas',\n",
                            "       '124. Narrativas identitárias e sensibilidades políticas II',\n",
                            "       '126. Novos olhares sobre a Época Moderna (séc. XV-XVIII)',\n",
                            "       '128. O ensino como pesquisa: história, memória e política.',\n",
                            "       '131. O lugar da História na construção de uma formação interdisciplinar: Educação - Arte - Cultura - Cidadania',\n",
                            "       '132. O Patrimônio Cultural em lugar de fronteira: pensar o diálogo entre a História, Educação, Arquitetura, Antropologia e Turismo',\n",
                            "       '137. Pensamento Social Brasileiro',\n",
                            "       '138. Pesquisa e Ensino sobre a Antiguidade e o Medievo frente às demandas do século XXI',\n",
                            "       '140. Política e Sociedade no Brasil Oitocentista',\n",
                            "       '141. Política Externa e Relações Internacionais: história e historiografia',\n",
                            "       '142. Por uma compreensão histórica das aparências: os usos da moda, do vestuário e da visualidade - um olhar para o ensino e a multiculturalidade',\n",
                            "       '143. Pós-Abolição no Mundo Atlântico: diálogos transnacionais entre África, Américas e Europa',\n",
                            "       '144. Povos Indígenas, Gênero e Violências: histórias marginais',\n",
                            "       '145. Profhistória \\x96 Mestrado Profissional em Ensino de História:  resultados, potencialidades e desafios \\x96 2ª Edição',\n",
                            "       '146. Protagonismos indígenas:  reescrevendo histórias por meio de biografias e histórias de vida',\n",
                            "       '147. Reeducação étnico-racial e ensino-aprendizagem em História: diálogos possíveis, relações necessárias',\n",
                            "       '148. Representação política no Brasil oitocentista: parlamento, grupos e sociedades, partidos, imprensa, elites intelectuais e movimentos populares',\n",
                            "       '149. Representações do continente africano, Ensino de História da África no Brasil e Estudos Africanos.',\n",
                            "       '153. Teoria da História e História da Historiografia I',\n",
                            "       '154. Teoria da História e História da Historiografia II',\n",
                            "       '157. Trajetórias e (auto)biografias: modelos, limites, desafios e possibilidades.',\n",
                            "       '158. Trajetórias, violência, criminalidade: história social nas tramas da Justiça',\n",
                            "       '159. Violência de Gênero: interseccionalidades e sociedades \\x93hiperconectadas\\x94',\n",
                            "       '161. Artes, Patrimônio e Educação: os múltiplos suportes',\n",
                            "       '162. História do Brasil e suas Conexões',\n",
                            "       'ST 001. A direita e seus matizes: novos estudos e abordagens',\n",
                            "       'ST 002. A disciplina histórica e suas fronteiras',\n",
                            "       'ST 003. A História Global em perspectiva: história, historiografia e métodos',\n",
                            "       'ST 004. A história militar em perspectiva: Abordagens sobre instituições e sujeitos',\n",
                            "       'ST 005. A História Política e os estudos sobre autoritarismo, violência e graves violações de direitos humanos no Brasil republicano.',\n",
                            "       'ST 006. A História Pública, História Local e Comunidades',\n",
                            "       'ST 008. A invenção do passado: intelectuais, tradições e mitos políticos na América Latina',\n",
                            "       'ST 009. A Pesquisa em História Antiga no Brasil Contemporâneo: abordagens, desafios e inquietações',\n",
                            "       'ST 010. Afetos, Poderes e Violências:  feminismos ,  relações de gênero,  interseccionalidades, sexualidades e diversas maneiras de pensar a História',\n",
                            "       'ST 011. Anarquismo em questão: conceitos, práticas, circulação e trajetórias',\n",
                            "       'ST 012. Antiguidade e Modernidade: usos do passado',\n",
                            "       'ST 013. Aprendizagem em História:  entre antigos e novos desafios',\n",
                            "       'ST 014. Arquivos e coleções como objeto de pesquisa: configurações e agenciamentos',\n",
                            "       'ST 016. Artes de curar, Pensamento Médico e Doenças no contexto da Escravidão e do pós-Emancipação',\n",
                            "       'ST 018. As relações local-global e região-nação nos processos de constituição e institucionalização das ciências e da saúde no Brasil',\n",
                            "       'ST 019. As sensibilidades e a discussão do estatuto de verdade nas humanidades e nas artes',\n",
                            "       'ST 020. Ativismo, movimentos sociais e politização do tempo no mundo contemporâneo.',\n",
                            "       'ST 021. Atlântico e Diásporas: diálogos em torno de histórias, fontes e novos conceitos',\n",
                            "       'ST 022. Aula de História: Teoria e Ensino',\n",
                            "       'ST 023. Casamento, família e compadrio no mundo ibero-americano (séculos XVII a  XIX)',\n",
                            "       'ST 024. Cidades em disputas: histórias, memórias, práticas do/no espaço',\n",
                            "       'ST 026. Cinema, historiografia e cultura visual',\n",
                            "       'ST 027. Clio saiu do armário: LGBTQIA+s e escrita da História',\n",
                            "       'ST 028. Colonização e Ultramar: A Amazônia colonial e o mundo atlântico Português \\x96 séculos XVII e XVIII',\n",
                            "       'ST 029. Da África ás Diásporas: Eurocentrismo, Colonialismo e Relações de Poder',\n",
                            "       'ST 030. Das margens: gênero, interseccionalidades, sertanidades e re-existências',\n",
                            "       'ST 031. De narrativas identitárias e sensibilidades políticas III',\n",
                            "       'ST 033. Diálogos do Ensino de História em perspectivas',\n",
                            "       'ST 034. Dimensões do Regime Vargas e seus desdobramentos',\n",
                            "       'ST 035. Direitas, História e Memória',\n",
                            "       'ST 036. Ditaduras e Democracias no Mundo Contemporâneo: rupturas e continuidades',\n",
                            "       'ST 037. Educação de Jovens e Adultos e Ensino de História: sujeitos, saberes e docência em processos emancipatórios de educação',\n",
                            "       'ST 038. Educação democrática e ensino de História: embates políticos, enfrentamento do anti-intelectualismo e dos negacionismos, proposições pedagógicas de caráter emancipador',\n",
                            "       'ST 039. Educação e sociedade: as mudanças e permanências na História da Educação entre os séculos XIX e XX',\n",
                            "       'ST 040. Emancipações e Pós-Abolição: ensino de história, educação das relações étnico-raciais e antirracismo',\n",
                            "       'ST 041. Emancipações e Pós-abolição: racialização, memórias, biografias, protagonismos, sociabilidades, territorialidades, educação e trabalho',\n",
                            "       'ST 042. Ensino de História Antiga: Narrativas em Disputa na Cultura Histórica Brasileira',\n",
                            "       'ST 043. Ensino de História e disputas pela memória',\n",
                            "       'ST 044. Ensino de História e História Pública',\n",
                            "       'ST 045. Ensino de História e Imagens: Experiências de Pesquisa e Formação',\n",
                            "       'ST 046. Ensino de História no Tempo Presente:  disputas, resistências e conexões das culturas escolares e direitos humanos',\n",
                            "       'ST 047. Ensino superior de História: currículos, trajetórias e historiografia',\n",
                            "       'ST 049. Empresariado e Estado no Brasil',\n",
                            "       'ST 050. Estado, democracias e crises no Tempo Presente em contextos globais',\n",
                            "       'ST 051. Estudos Cemiteriais: arte, morte, religiosidade e sociedade',\n",
                            "       'ST 052. Fronteiras e Territorialidades',\n",
                            "       'ST 053. Gênero na Antiguidade.',\n",
                            "       'ST 054. GT - Teoria da História e História da Historiografia.',\n",
                            "       'ST 055. Habitação e direito à cidade: favelas, subúrbios, periferias e assentamentos informais no Brasil',\n",
                            "       'ST 056. História & Música Popular', 'ST 057. História & Teatro',\n",
                            "       'ST 058. História Ambiental: Ciência, Fronteira e Biodiversidade',\n",
                            "       'ST 059. História Ambiental: território, política e memória',\n",
                            "       'ST 060. História da África contemporânea e representações da África no Brasil',\n",
                            "       'ST 061. História da alimentação, da gastronomia e suas interfaces',\n",
                            "       'ST 062. História da Arte, Museus e Tecnologia',\n",
                            "       'ST 063. História da educação nas periferias do mundo contemporâneo: sujeitos, lugares e práticas',\n",
                            "       'ST 064 (A). História da Educação: sujeitos, instituições, políticas educativas e culturas escolares',\n",
                            "       'ST 064 (B). História da Educação: sujeitos, instituições, políticas educativas e culturas escolares',\n",
                            "       'ST 065. História da loucura, da psiquiatria e saberes afins.',\n",
                            "       'ST 066. História da Saúde e das doenças: perspectivas historiográficas e implicações culturais e sociais',\n",
                            "       'ST 067. História das mulheres e das relações de gênero (séculos XIII-XVIII)',\n",
                            "       'ST 068. História das Religiões e das Religiosidades',\n",
                            "       'ST 069. História do Esporte e das Práticas Corporais',\n",
                            "       'ST 070. História do Lazer e dos Usos Sociais do Tempo Livre',\n",
                            "       'ST 072. História e circulação de conhecimentos, saberes e práticas de saúde em perspectiva global',\n",
                            "       'ST 073. História e Culturas Políticas no Brasil Republicano',\n",
                            "       'ST 074. História e Gênero: Cultura, Memória e Identidades',\n",
                            "       'ST 075. História e Marxismo 1: Capitalismo contemporâneo, luta de classes, capital imperialismo, teoria, conjuntura.',\n",
                            "       'ST 076. História e Marxismo 2: Brasil recente, lutas de classe, esquerda, direita, educação.',\n",
                            "       'ST 077. HISTÓRIA E MARXISMO 3. História e historiografia marxistas sobre novos e velhos temas entre críticas e revisionismos: racismo, classe, gênero/opressões, revisionismo, relações sociais capitalistas e pré-capitalistas, campo e cidade',\n",
                            "       'ST 078. História e Mídia',\n",
                            "       'ST 079. História intelectual e História dos Intelectuais: percursos, estratégias e possibilidades metodológicas',\n",
                            "       'ST 080. História Moderna: concepções, temas e perspectivas para o ensino e a pesquisa',\n",
                            "       'ST 081. História política, \\x93escrevivências\\x94 do Movimento Negro, dos Feminismos negro e plurais: por um ensino de História antirracista e decolonial',\n",
                            "       'ST 082. História Política: conceitos, métodos e suas múltiplas experiências',\n",
                            "       'ST 083. História Pública e Histórias Públicas: debates e discussões, perspectivas e estado da arte',\n",
                            "       'ST 084. História Pública e Oralidades',\n",
                            "       'ST 085. História social das ciências: a construção do conhecimento científico e suas dimensões sócio-políticas, econômicas, culturais e teórico-metodológicas',\n",
                            "       'ST 086. História, cinema e televisão: regimes de representação, verossimilitude e veracidade',\n",
                            "       'ST 087. História, Trabalho e Tecnologia: o direito à cultura no processo de ensino/aprendizagem e pesquisa.',\n",
                            "       'ST 089. Histórias das Américas: novas abordagens historiográficas',\n",
                            "       'ST 090. Histórias de Vida no campo do Esporte e da Educação Física',\n",
                            "       'ST 091. Histórias de vida, ensino e aprendizagem na Educação Básica: desafios epistemológicos e potencialidades cognitivas',\n",
                            "       'ST 092. Histórias em quadrinhos, cartuns, charges e outras fontes visuais',\n",
                            "       'ST 094. Igreja, Sociedade e Poder na Idade Média',\n",
                            "       'ST 095. Imagem, Cultura Visual e História',\n",
                            "       'ST 096. Imagens da Morte: debates transversais sobre os sentidos da morte e do morrer',\n",
                            "       'ST 097. Impérios Ibéricos no Antigo Regime: política, sociedade, economia e cultura',\n",
                            "       'ST 098. Impérios ultramarinos e suas conquistas: cultura, escravidão, sociedade e governo (séculos XVI-XIX)',\n",
                            "       'ST 099. Indígenas, camponeses e quilombolas: caminhos para os (des)encontros com novas e outras narrativas',\n",
                            "       'ST 100. Infâncias, Adolescências e Juventudes no Brasil: História e Historiografia',\n",
                            "       'ST 102. Letrados, intelectuais, nações e circulação de ideias nas Américas nos séculos XIX e XX',\n",
                            "       'ST 103. Macrotempos e macroespaços: perspectivas sistêmicas e de longa duração nos estudos históricos',\n",
                            "       'ST 105. Memória, história e historiografia(s)',\n",
                            "       'ST 106. Memória, identidades (e seus limites) na pós-modernidade no Brasil',\n",
                            "       'ST 107. Morfologias históricas dos estudos sobre a época Moderna: histórias conectadas, sistemas atlânticos e impérios ultramarinos',\n",
                            "       'ST 108. Movimento estudantil e universidades em contextos autoritários: memórias, resistências e repressão.',\n",
                            "       'ST 109. Mundos do trabalho: escravidão, liberdade e as diversas formas de exploração dos trabalhadores e trabalhadoras',\n",
                            "       'ST 110. Mundos do trabalho: Literatura e sociedade',\n",
                            "       'ST 111. Mundos do Trabalho: Luta por direitos e Democracia',\n",
                            "       'ST 112 (A). Mundos do Trabalho: relações de gênero, masculinidades, trabalho de mulheres e organização social',\n",
                            "       'ST 112 (B). Mundos do Trabalho: relações de gênero, masculinidades, trabalho de mulheres e organização social',\n",
                            "       'ST 113. Narrativas Digitais, Memória e Patrimônio',\n",
                            "       'ST 115. Negacionismos  e usos da história',\n",
                            "       'ST 116. O jogar na História e a história nos jogos: aprendizagens, narrativas, representações e simulações',\n",
                            "       'ST 117. O Patrimônio Cultural em Lugar de Fronteira: História, Educação, Arquitetura, Antropologia, Turismo, Geologia e Outras Áreas Correlatas',\n",
                            "       'ST 118 (A). O rural e a tecnologia: pesquisas e debates em história agrária no Brasil',\n",
                            "       'ST 118 (B). O rural e a tecnologia: pesquisas e debates em história agrária no Brasil',\n",
                            "       'ST 119. O trabalho do Historiador em instituições custodiadoras de acervos',\n",
                            "       'ST 120. O(s) Ser-tão(ões) e suas Histórias: sujeitos, acontecimentos e temporalidades',\n",
                            "       'ST 121. Os índios na História: contextos históricos, situações sociais e mobilizações sociopolíticas.',\n",
                            "       'ST 122. Pandemia, temporalidade e arquivo: os desafios de arquivar a experiência contemporânea',\n",
                            "       'ST 123. Patrimônio Cultural e a crise da Democracia',\n",
                            "       'ST 124. Patrimônio Cultural, História e Ciência',\n",
                            "       'ST 125. Pensamento Social Brasileiro: intelectuais, cultura e política',\n",
                            "       'ST 126. Política Externa e Relações Internacionais: história e historiografia',\n",
                            "       'ST 127 (A). Política, sociedade e economia do Brasil no longo século XIX',\n",
                            "       'ST 127 (B). Política, sociedade e economia do Brasil no longo século XIX',\n",
                            "       'ST 128. Políticas de preservação do patrimônio cultural em tempos de redes ampliadas',\n",
                            "       'ST 129. Por uma compreensão histórica das aparências: história e cultura de moda',\n",
                            "       'ST 130. Pós-Abolição no Mundo Atlântico: diálogos transnacionais entre Áfricas, Américas e Europas',\n",
                            "       'ST 131. Povos indígenas e ensino de história',\n",
                            "       'ST 132. Povos indígenas na formação do Brasil oitocentista: pesquisa e renovação historiográfica',\n",
                            "       'ST 133. Povos Indígenas, Gênero e Violências: histórias marginais',\n",
                            "       'ST 134. Profhistória \\x96 Mestrado Profissional em Ensino de História:  resultados, potencialidades e desafios \\x96 3ª edição',\n",
                            "       'ST 135. Redes intelectuais e militância político-cultural nos catolicismos do Brasil',\n",
                            "       'ST 136. Redes intelectuais, Subjetividade(s) e Circularidade Transnacional: ideias jurídicas, cultura religiosa, instituições e poder',\n",
                            "       'ST 137. Religião e Movimentos Sociais: entremeios de uma relação',\n",
                            "       'ST 138. Religiões Mediúnicas na Modernidade',\n",
                            "       'ST 141. SIG Histórico e a virada espacial na História',\n",
                            "       'ST 142. Simpósio Temático: História Marítima: oceanos e vias navegáveis interiores em perspectivas históricas',\n",
                            "       'ST 143. Teoria da História e História da Historiografia: história, verdade e tecnologia.',\n",
                            "       'ST 145. Trabalhos da memória e escritas da história: testemunhos, estratégias discursivas e os impactos da tecnologia nas representações do passado',\n",
                            "       'ST 146. Trajetórias e (auto)biografias: modelos, limites, desafios e possibilidades.',\n",
                            "       'ST 147. Trajetórias e circulações no tempo da Monarquia Hispânica (séculos XVI e XVII)',\n",
                            "       'ST 148. Visões da Ásia: olhares de pesquisadores brasileiros sobre culturas e contatos entre culturas no espaço asiático',\n",
                            "       'ST 149. \\x93Migrações, processos e trajetórias: múltiplas experiências\\x94',\n",
                            "       'ST 001. \"Mandonas\", mulheres eleitas e protagonistas: poderes informais, invisibilidades e violências',\n",
                            "       'ST 002. A Amazônia colonial e o mundo atlântico Português \\x96 séculos XVII e XVIII',\n",
                            "       'ST 003. A BNCC e o Ensino de História: Impasses e ressignificações disciplinares',\n",
                            "       'ST 004. A escola como espaço da vida: articulações entre ensino de história, cultura histórica e cultura escolar',\n",
                            "       'ST 006. A história do constitucionalismo na América Latina, em debate (séculos XIX-XXI)',\n",
                            "       'ST 008. A História Militar, o seu campo e as novas tendências da historiografia.',\n",
                            "       'ST 009. A história política, democracia e direitos humanos: novos e renovados estudos',\n",
                            "       'ST 011. Afetos, emoções e gênero na História',\n",
                            "       'ST 013. África contemporânea: temas, problemas e abordagens',\n",
                            "       'ST 014. Antiguidade e Modernidade: usos do passado',\n",
                            "       'ST 015. Arquivos e coleções como objeto de pesquisa: configurações e agenciamentos',\n",
                            "       'ST 016. Arte e partilha do sensível',\n",
                            "       'ST 018. Artes de curar, Pensamento Médico e Doenças no contexto da Escravidão e do pós-Emancipação',\n",
                            "       'ST 020. Assistência e saúde: atores, práticas, instituições e seus públicos',\n",
                            "       'ST 021. Aula de História: teorias, práticas e ensino',\n",
                            "       'ST 022. História e Marxismo 2: Brasil recente, luta de classes e política, ditadura e democracia, luta contra as opressões e direitos humanos',\n",
                            "       'ST 026. Ciência, Tecnologia e História Econômica: diálogos interdisciplinares',\n",
                            "       'ST 027. Clio no Cio: o que desejam as/os/es historiadores/as LGBTQIA+?',\n",
                            "       'ST 028. Combates pelo Ensino de História: propostas, práticas e lutas',\n",
                            "       'ST 029. Cultura Visual História e Imagem',\n",
                            "       'ST 031. Deslocamentos, democracia e direitos humanos: memórias, histórias e historiografias',\n",
                            "       'ST 036. Direito à História, Educação e Historiografia: Políticas de tempo, negacionismo e regimes de espacialização.',\n",
                            "       'ST 038. DITADURA e AUTORITARISMO: necropolítica, negacionismo, arquivos e usos do passado',\n",
                            "       'ST 040. Ditaduras militares na América Latina, transições democráticas e usos políticos do passado: a História em tempos de negacionismo',\n",
                            "       'ST 041. Educação democrática, Ensino de História e a construção de horizontes políticos emancipatórios',\n",
                            "       'ST 042. Emancipações e Pós-Abolição: ensino de história, educação das relações étnico-raciais e antirracismo',\n",
                            "       'ST 043. Emancipações e Pós-abolição: racialização, memórias, biografias, protagonismos, sociabilidades, territorialidades, educação e trabalho',\n",
                            "       'ST 047. Ensino de História e disputas pela memória: trajetórias, perspectivas e possibilidades de pesquisa',\n",
                            "       'ST 048. Ensino de História e imagens: visualidades entre campos de interpretação e disputas',\n",
                            "       'ST 049. Ensino de História e interseccionalidades: protagonismos, resistências e dores, do passado e do presente',\n",
                            "       'ST 052. Ensino de História, usos de passado e formação de professores em tempos de crise democrática',\n",
                            "       'ST 057. Eugenia, Genética e Raça',\n",
                            "       'ST 060. Família no passado brasileiro: entre comportamentos, normas, solidariedades e tensões',\n",
                            "       'ST 062. Fronteiras e Territorialidades',\n",
                            "       'ST 063. GT Mundos do Trabalho, pesquisa e ensino: condições de vida e de trabalho, lutas e resistências.',\n",
                            "       'ST 064. GT Mundos do Trabalho- Relações raciais e racismo nos mundos do trabalho: conflitos, resistências e trajetórias',\n",
                            "       'ST 065. Habitação e direito à cidade: favelas, subúrbios, periferias e assentamentos informais no Brasil',\n",
                            "       'ST 066. História & Música Popular', 'ST 067. História & Teatro',\n",
                            "       'ST 068. História Ambiental, democracia e sociobiodiversidade',\n",
                            "       'ST 069. História Antiga no Brasil do século XXI: Novas abordagens e problemas',\n",
                            "       'ST 073. História da Saúde e das doenças: perspectivas historiográficas e implicações culturais e sociais',\n",
                            "       'ST 074. História das Religiões e das Religiosidades',\n",
                            "       'ST 076. História do crime, da polícia e da justiça criminal',\n",
                            "       'ST 078. História do Esporte e das Práticas Corporais',\n",
                            "       'ST 081. História do Tempo Presente: a imprensa, as mídias e os passados que não passam',\n",
                            "       'ST 083. História e audiovisual: desafios políticos e epistemológicos',\n",
                            "       'ST 084. História e Culturas Políticas no Brasil Republicano',\n",
                            "       'ST 093. História Local: Pesquisa, Educação e Patrimônio',\n",
                            "       'ST 096. História Rural: debates, pesquisas e ensino (Séculos XVI-XIX)',\n",
                            "       'ST 097. Historia Rural: debates, pesquisas e ensino (séculos XX e XXI)',\n",
                            "       'ST 098. História social da educação brasileira: políticas, instituições, sujeitos',\n",
                            "       'ST 102. História, Memória, Cultura e Subjetividades urbanas',\n",
                            "       'ST 105. Histórias em quadrinhos, cartuns, charges e outras fontes visuais - parte 2',\n",
                            "       'ST 109. Igreja e Inquisição no mundo ibérico e colonial: dimensões e perspectivas',\n",
                            "       'ST 110. Imagens da Morte: diálogos possíveis sobre uma questão sensível',\n",
                            "       'ST 112. Infâncias, Adolescências e Juventudes no Brasil: experiências, práticas e discursos',\n",
                            "       'ST 113. Institutos históricos e geográficos no Brasil: acervos, intelectuais e historiografias',\n",
                            "       'ST 115. Inventar Democracia e Direitos Humanos \\x96  Histórias em Ensino e Pesquisa.',\n",
                            "       'ST 124. Mundos do trabalho: escravidão, liberdade e variadas formas de exploração dos trabalhadores e trabalhadoras',\n",
                            "       'ST 126. Mundos do trabalho: relações de gênero, trabalho de mulheres, organização social e masculinidades',\n",
                            "       'ST 128. Nas Tramas da História: Gênero, Poderes, Culturas e Interseccionalidades.',\n",
                            "       'ST 129. O Império do Brasil e a Segunda Escravidão',\n",
                            "       'ST 132. O patrimônio cultural em lugar de fronteira: história, educação, arquitetura, antropologia, turismo, geografia e outras áreas correlatas',\n",
                            "       'ST 134. O(s) Ser-tão(ões) e suas Histórias: sujeitos, narrativas, acontecimentos e temporalidades',\n",
                            "       'ST 135. Os Intelectuais e a política na América Latina: engajamento e circulação de ideias nos séculos XX e XXI',\n",
                            "       'ST 136. Os \\x93portugueses\\x94 nas províncias do Império do Brasil',\n",
                            "       'ST 138. Patrimonialização e reparação histórica: desafios do profissional de história',\n",
                            "       'ST 142. Pensamento Social Brasileiro: intelectuais, cultura e política',\n",
                            "       'ST 143. Pensar a cidade e o urbano - desafios em perspectiva interdisciplinar',\n",
                            "       'ST 144. Pesquisa e ensino da Idade Média no Brasil frente às demandas do século XXI: entre abordagens públicas e globais',\n",
                            "       'ST 145. Pesquisa e ensino de História Moderna no século XXI: dilemas, desafios e possibilidades',\n",
                            "       'ST 147. Política Externa e Relações Internacionais: história e historiografia',\n",
                            "       'ST 148. Política, economia e sociedade no Brasil oitocentista',\n",
                            "       'ST 150. Pós-Abolição no Mundo Atlântico: diálogos transnacionais entre Áfricas, Américas e Europas',\n",
                            "       'ST 152. Povos indígenas, terra e política: abordagens interdisciplinares sobre a construção do Estado nacional (séc. XIX-XXI)',\n",
                            "       'ST 154. Protagonismos indígenas na História e ensino da temática indígena: uma avaliação a partir da Lei nº 11.645/2008 e do Parecer CNE/CEB nº 14/2015',\n",
                            "       'ST 155. Regimes Ditatoriais Contemporâneos: Repressão, Ação Empresarial, Expropriação Rural e Justiça de Transição',\n",
                            "       'ST 164. Teoria da História e História da Historiografia (GT)',\n",
                            "       'ST 165. Teoria da História e História da Historiografia: história profissional, democracia e direitos humanos.',\n",
                            "       'ST 167. Trajetórias e (auto)biografias: modelos, limites, desafios e possibilidades.',\n",
                            "       'ST 172. Neoliberalismo, diretas e política: perspectiva históricas, econômicas e paraeconômicas',\n",
                            "       'ST 173. Povos Indígenas, Gênero e Violências: histórias marginais',\n",
                            "       'ST 175. Das margens: Feminismos, Gênero e Sertões',\n",
                            "       'ST 176. História Ambiental: do local ao global'], dtype=object)"
                        ]
                    },
                    "execution_count": 37,
                    "metadata": {},
                    "output_type": "execute_result"
                }
            ],
            "source": [
                "# remover '\\t' do final da string na coluna 'ST'\n",
                "df['ST'] = df['ST'].str.rstrip('\\t')\n",
                "df['ST'].unique()"
            ]
        },
        {
            "cell_type": "markdown",
            "metadata": {},
            "source": [
                "## Filtrar e analisar por colunas específicas"
            ]
        },
        {
            "cell_type": "code",
            "execution_count": 38,
            "metadata": {},
            "outputs": [
                {
                    "data": {
                        "text/html": [
                            "<div>\n",
                            "<style scoped>\n",
                            "    .dataframe tbody tr th:only-of-type {\n",
                            "        vertical-align: middle;\n",
                            "    }\n",
                            "\n",
                            "    .dataframe tbody tr th {\n",
                            "        vertical-align: top;\n",
                            "    }\n",
                            "\n",
                            "    .dataframe thead th {\n",
                            "        text-align: right;\n",
                            "    }\n",
                            "</style>\n",
                            "<table border=\"1\" class=\"dataframe\">\n",
                            "  <thead>\n",
                            "    <tr style=\"text-align: right;\">\n",
                            "      <th></th>\n",
                            "      <th>ST</th>\n",
                            "      <th>Total</th>\n",
                            "    </tr>\n",
                            "  </thead>\n",
                            "  <tbody>\n",
                            "    <tr>\n",
                            "      <th>49</th>\n",
                            "      <td>023. Catolicismo, repressão e diversidade cult...</td>\n",
                            "      <td>69</td>\n",
                            "    </tr>\n",
                            "    <tr>\n",
                            "      <th>145</th>\n",
                            "      <td>060/061/088: História da Loucura e da Psiquiat...</td>\n",
                            "      <td>66</td>\n",
                            "    </tr>\n",
                            "    <tr>\n",
                            "      <th>418</th>\n",
                            "      <td>ST 034. Dimensões do Regime Vargas e seus desd...</td>\n",
                            "      <td>49</td>\n",
                            "    </tr>\n",
                            "    <tr>\n",
                            "      <th>296</th>\n",
                            "      <td>120/134: Produção e circulação de saberes, ide...</td>\n",
                            "      <td>48</td>\n",
                            "    </tr>\n",
                            "    <tr>\n",
                            "      <th>125</th>\n",
                            "      <td>054. Habitação e direito à cidade: favelas, mo...</td>\n",
                            "      <td>46</td>\n",
                            "    </tr>\n",
                            "    <tr>\n",
                            "      <th>...</th>\n",
                            "      <td>...</td>\n",
                            "      <td>...</td>\n",
                            "    </tr>\n",
                            "    <tr>\n",
                            "      <th>625</th>\n",
                            "      <td>ST 131. Povos indígenas e ensino de história</td>\n",
                            "      <td>8</td>\n",
                            "    </tr>\n",
                            "    <tr>\n",
                            "      <th>571</th>\n",
                            "      <td>ST 103. Macrotempos e macroespaços: perspectiv...</td>\n",
                            "      <td>8</td>\n",
                            "    </tr>\n",
                            "    <tr>\n",
                            "      <th>650</th>\n",
                            "      <td>ST 148. Visões da Ásia: olhares de pesquisador...</td>\n",
                            "      <td>7</td>\n",
                            "    </tr>\n",
                            "    <tr>\n",
                            "      <th>599</th>\n",
                            "      <td>ST 115. Negacionismos  e usos da história</td>\n",
                            "      <td>7</td>\n",
                            "    </tr>\n",
                            "    <tr>\n",
                            "      <th>408</th>\n",
                            "      <td>ST 029. Da África ás Diásporas: Eurocentrismo,...</td>\n",
                            "      <td>6</td>\n",
                            "    </tr>\n",
                            "  </tbody>\n",
                            "</table>\n",
                            "<p>663 rows × 2 columns</p>\n",
                            "</div>"
                        ],
                        "text/plain": [
                            "                                                    ST  Total\n",
                            "49   023. Catolicismo, repressão e diversidade cult...     69\n",
                            "145  060/061/088: História da Loucura e da Psiquiat...     66\n",
                            "418  ST 034. Dimensões do Regime Vargas e seus desd...     49\n",
                            "296  120/134: Produção e circulação de saberes, ide...     48\n",
                            "125  054. Habitação e direito à cidade: favelas, mo...     46\n",
                            "..                                                 ...    ...\n",
                            "625       ST 131. Povos indígenas e ensino de história      8\n",
                            "571  ST 103. Macrotempos e macroespaços: perspectiv...      8\n",
                            "650  ST 148. Visões da Ásia: olhares de pesquisador...      7\n",
                            "599          ST 115. Negacionismos  e usos da história      7\n",
                            "408  ST 029. Da África ás Diásporas: Eurocentrismo,...      6\n",
                            "\n",
                            "[663 rows x 2 columns]"
                        ]
                    },
                    "execution_count": 38,
                    "metadata": {},
                    "output_type": "execute_result"
                }
            ],
            "source": [
                "# agrupar por 'ST' e contar ocorrências e ordenar de forma decrescente\n",
                "df_st = df.groupby('ST').size().reset_index(name='Total').sort_values(by='Total',ascending=False)\n",
                "df_st"
            ]
        },
        {
            "cell_type": "code",
            "execution_count": 39,
            "metadata": {},
            "outputs": [
                {
                    "data": {
                        "text/html": [
                            "<div>\n",
                            "<style scoped>\n",
                            "    .dataframe tbody tr th:only-of-type {\n",
                            "        vertical-align: middle;\n",
                            "    }\n",
                            "\n",
                            "    .dataframe tbody tr th {\n",
                            "        vertical-align: top;\n",
                            "    }\n",
                            "\n",
                            "    .dataframe thead th {\n",
                            "        text-align: right;\n",
                            "    }\n",
                            "</style>\n",
                            "<table border=\"1\" class=\"dataframe\">\n",
                            "  <thead>\n",
                            "    <tr style=\"text-align: right;\">\n",
                            "      <th></th>\n",
                            "      <th>Ano</th>\n",
                            "      <th>ST</th>\n",
                            "      <th>Total de resumos</th>\n",
                            "    </tr>\n",
                            "  </thead>\n",
                            "  <tbody>\n",
                            "    <tr>\n",
                            "      <th>0</th>\n",
                            "      <td>2013</td>\n",
                            "      <td>023. Catolicismo, repressão e diversidade cult...</td>\n",
                            "      <td>69</td>\n",
                            "    </tr>\n",
                            "    <tr>\n",
                            "      <th>1</th>\n",
                            "      <td>2013</td>\n",
                            "      <td>060/061/088: História da Loucura e da Psiquiat...</td>\n",
                            "      <td>66</td>\n",
                            "    </tr>\n",
                            "    <tr>\n",
                            "      <th>2</th>\n",
                            "      <td>2013</td>\n",
                            "      <td>120/134: Produção e circulação de saberes, ide...</td>\n",
                            "      <td>48</td>\n",
                            "    </tr>\n",
                            "    <tr>\n",
                            "      <th>3</th>\n",
                            "      <td>2013</td>\n",
                            "      <td>075/106: História, Direito e Memória</td>\n",
                            "      <td>46</td>\n",
                            "    </tr>\n",
                            "    <tr>\n",
                            "      <th>4</th>\n",
                            "      <td>2013</td>\n",
                            "      <td>126/127: Patrimônio Histórico, História da Art...</td>\n",
                            "      <td>46</td>\n",
                            "    </tr>\n",
                            "  </tbody>\n",
                            "</table>\n",
                            "</div>"
                        ],
                        "text/plain": [
                            "    Ano                                                 ST  Total de resumos\n",
                            "0  2013  023. Catolicismo, repressão e diversidade cult...                69\n",
                            "1  2013  060/061/088: História da Loucura e da Psiquiat...                66\n",
                            "2  2013  120/134: Produção e circulação de saberes, ide...                48\n",
                            "3  2013               075/106: História, Direito e Memória                46\n",
                            "4  2013  126/127: Patrimônio Histórico, História da Art...                46"
                        ]
                    },
                    "execution_count": 39,
                    "metadata": {},
                    "output_type": "execute_result"
                }
            ],
            "source": [
                "df_ano_st = df.filter(items=['Ano', 'ST'])\\\n",
                "    .groupby(['Ano', 'ST'])\\\n",
                "    .size()\\\n",
                "    .reset_index(name='Total de resumos')\\\n",
                "    .sort_values(by='Total de resumos', ascending=False, ignore_index=True)\n",
                "df_ano_st.head()"
            ]
        },
        {
            "cell_type": "markdown",
            "metadata": {},
            "source": [
                "#### df_ano_st\n",
                "\n",
                "Esse dataframe contém a quantidade total de resumos por ST em cada ano.\n",
                "\n",
                "Vamos utilizar esses dados para gerar visualizações com Plotly."
            ]
        },
        {
            "cell_type": "code",
            "execution_count": 40,
            "metadata": {},
            "outputs": [
                {
                    "data": {
                        "application/vnd.plotly.v1+json": {
                            "config": {
                                "plotlyServerURL": "https://plot.ly"
                            },
                            "data": [
                                {
                                    "alignmentgroup": "True",
                                    "hovertemplate": "ST=%{x}<br>Total de resumos=%{y}<br>Ano=%{marker.color}<extra></extra>",
                                    "legendgroup": "",
                                    "marker": {
                                        "color": [
                                            2013,
                                            2013,
                                            2013,
                                            2013,
                                            2013,
                                            2013,
                                            2013,
                                            2021,
                                            2013,
                                            2023,
                                            2021,
                                            2021,
                                            2023,
                                            2023,
                                            2017,
                                            2023,
                                            2021,
                                            2017,
                                            2017,
                                            2023
                                        ],
                                        "coloraxis": "coloraxis",
                                        "pattern": {
                                            "shape": ""
                                        }
                                    },
                                    "name": "",
                                    "offsetgroup": "",
                                    "orientation": "v",
                                    "showlegend": false,
                                    "textposition": "auto",
                                    "type": "bar",
                                    "x": [
                                        "023. Catolicismo, repressão e diversidade cultural na América portuguesa / 029. Cultura e Educação: Portugal e Brasil (1750-1834) / 099. Inquisição: fontes, circunstâncias, personagens, imaginários",
                                        "060/061/088: História da Loucura e da Psiquiatria: representação, experiências e patrimônio",
                                        "120/134: Produção e circulação de saberes, ideias e práticas nos mundos ibéricos: América Luso- Hispânica, Europa e Oriente",
                                        "075/106: História, Direito e Memória",
                                        "126/127: Patrimônio Histórico, História da Arte e territorialidades: novos espaços de ação social",
                                        "054. Habitação e direito à cidade: favelas, mocambos, periferias e assentamentos informais no Brasil/071. História dos Quilombos",
                                        "074/098: História, cultura e a temática indígena nas universidades: lacunas historiográficas de uma igualdade duvidosa",
                                        "ST 078. História e Mídia",
                                        "013. Antiguidade e Modernidade: usos do passado / 018. As Formas e os Limites do Político nos Estudos Medievais",
                                        "ST 040. Ditaduras militares na América Latina, transições democráticas e usos políticos do passado: a História em tempos de negacionismo",
                                        "ST 149. Migrações, processos e trajetórias: múltiplas experiências",
                                        "ST 109. Mundos do trabalho: escravidão, liberdade e as diversas formas de exploração dos trabalhadores e trabalhadoras",
                                        "ST 013. África contemporânea: temas, problemas e abordagens",
                                        "ST 029. Cultura Visual História e Imagem",
                                        "ST 031 - Ensino de História, Currículo e Cultura: narrativas em disputa",
                                        "ST 043. Emancipações e Pós-abolição: racialização, memórias, biografias, protagonismos, sociabilidades, territorialidades, educação e trabalho",
                                        "ST 041. Emancipações e Pós-abolição: racialização, memórias, biografias, protagonismos, sociabilidades, territorialidades, educação e trabalho",
                                        "ST 110 - Profhistória  Mestrado Profissional em Ensino de História: resultados, potencialidades e desafios",
                                        "ST 103 - Patrimônio, memória e cidadania.",
                                        "ST 074. História das Religiões e das Religiosidades"
                                    ],
                                    "xaxis": "x",
                                    "y": [
                                        69,
                                        66,
                                        48,
                                        46,
                                        46,
                                        46,
                                        46,
                                        40,
                                        40,
                                        39,
                                        39,
                                        39,
                                        39,
                                        38,
                                        37,
                                        37,
                                        37,
                                        36,
                                        36,
                                        36
                                    ],
                                    "yaxis": "y"
                                }
                            ],
                            "layout": {
                                "barmode": "relative",
                                "coloraxis": {
                                    "colorbar": {
                                        "title": {
                                            "text": "Ano"
                                        }
                                    },
                                    "colorscale": [
                                        [
                                            0,
                                            "#0d0887"
                                        ],
                                        [
                                            0.1111111111111111,
                                            "#46039f"
                                        ],
                                        [
                                            0.2222222222222222,
                                            "#7201a8"
                                        ],
                                        [
                                            0.3333333333333333,
                                            "#9c179e"
                                        ],
                                        [
                                            0.4444444444444444,
                                            "#bd3786"
                                        ],
                                        [
                                            0.5555555555555556,
                                            "#d8576b"
                                        ],
                                        [
                                            0.6666666666666666,
                                            "#ed7953"
                                        ],
                                        [
                                            0.7777777777777778,
                                            "#fb9f3a"
                                        ],
                                        [
                                            0.8888888888888888,
                                            "#fdca26"
                                        ],
                                        [
                                            1,
                                            "#f0f921"
                                        ]
                                    ]
                                },
                                "legend": {
                                    "tracegroupgap": 0
                                },
                                "template": {
                                    "data": {
                                        "bar": [
                                            {
                                                "error_x": {
                                                    "color": "#2a3f5f"
                                                },
                                                "error_y": {
                                                    "color": "#2a3f5f"
                                                },
                                                "marker": {
                                                    "line": {
                                                        "color": "#E5ECF6",
                                                        "width": 0.5
                                                    },
                                                    "pattern": {
                                                        "fillmode": "overlay",
                                                        "size": 10,
                                                        "solidity": 0.2
                                                    }
                                                },
                                                "type": "bar"
                                            }
                                        ],
                                        "barpolar": [
                                            {
                                                "marker": {
                                                    "line": {
                                                        "color": "#E5ECF6",
                                                        "width": 0.5
                                                    },
                                                    "pattern": {
                                                        "fillmode": "overlay",
                                                        "size": 10,
                                                        "solidity": 0.2
                                                    }
                                                },
                                                "type": "barpolar"
                                            }
                                        ],
                                        "carpet": [
                                            {
                                                "aaxis": {
                                                    "endlinecolor": "#2a3f5f",
                                                    "gridcolor": "white",
                                                    "linecolor": "white",
                                                    "minorgridcolor": "white",
                                                    "startlinecolor": "#2a3f5f"
                                                },
                                                "baxis": {
                                                    "endlinecolor": "#2a3f5f",
                                                    "gridcolor": "white",
                                                    "linecolor": "white",
                                                    "minorgridcolor": "white",
                                                    "startlinecolor": "#2a3f5f"
                                                },
                                                "type": "carpet"
                                            }
                                        ],
                                        "choropleth": [
                                            {
                                                "colorbar": {
                                                    "outlinewidth": 0,
                                                    "ticks": ""
                                                },
                                                "type": "choropleth"
                                            }
                                        ],
                                        "contour": [
                                            {
                                                "colorbar": {
                                                    "outlinewidth": 0,
                                                    "ticks": ""
                                                },
                                                "colorscale": [
                                                    [
                                                        0,
                                                        "#0d0887"
                                                    ],
                                                    [
                                                        0.1111111111111111,
                                                        "#46039f"
                                                    ],
                                                    [
                                                        0.2222222222222222,
                                                        "#7201a8"
                                                    ],
                                                    [
                                                        0.3333333333333333,
                                                        "#9c179e"
                                                    ],
                                                    [
                                                        0.4444444444444444,
                                                        "#bd3786"
                                                    ],
                                                    [
                                                        0.5555555555555556,
                                                        "#d8576b"
                                                    ],
                                                    [
                                                        0.6666666666666666,
                                                        "#ed7953"
                                                    ],
                                                    [
                                                        0.7777777777777778,
                                                        "#fb9f3a"
                                                    ],
                                                    [
                                                        0.8888888888888888,
                                                        "#fdca26"
                                                    ],
                                                    [
                                                        1,
                                                        "#f0f921"
                                                    ]
                                                ],
                                                "type": "contour"
                                            }
                                        ],
                                        "contourcarpet": [
                                            {
                                                "colorbar": {
                                                    "outlinewidth": 0,
                                                    "ticks": ""
                                                },
                                                "type": "contourcarpet"
                                            }
                                        ],
                                        "heatmap": [
                                            {
                                                "colorbar": {
                                                    "outlinewidth": 0,
                                                    "ticks": ""
                                                },
                                                "colorscale": [
                                                    [
                                                        0,
                                                        "#0d0887"
                                                    ],
                                                    [
                                                        0.1111111111111111,
                                                        "#46039f"
                                                    ],
                                                    [
                                                        0.2222222222222222,
                                                        "#7201a8"
                                                    ],
                                                    [
                                                        0.3333333333333333,
                                                        "#9c179e"
                                                    ],
                                                    [
                                                        0.4444444444444444,
                                                        "#bd3786"
                                                    ],
                                                    [
                                                        0.5555555555555556,
                                                        "#d8576b"
                                                    ],
                                                    [
                                                        0.6666666666666666,
                                                        "#ed7953"
                                                    ],
                                                    [
                                                        0.7777777777777778,
                                                        "#fb9f3a"
                                                    ],
                                                    [
                                                        0.8888888888888888,
                                                        "#fdca26"
                                                    ],
                                                    [
                                                        1,
                                                        "#f0f921"
                                                    ]
                                                ],
                                                "type": "heatmap"
                                            }
                                        ],
                                        "heatmapgl": [
                                            {
                                                "colorbar": {
                                                    "outlinewidth": 0,
                                                    "ticks": ""
                                                },
                                                "colorscale": [
                                                    [
                                                        0,
                                                        "#0d0887"
                                                    ],
                                                    [
                                                        0.1111111111111111,
                                                        "#46039f"
                                                    ],
                                                    [
                                                        0.2222222222222222,
                                                        "#7201a8"
                                                    ],
                                                    [
                                                        0.3333333333333333,
                                                        "#9c179e"
                                                    ],
                                                    [
                                                        0.4444444444444444,
                                                        "#bd3786"
                                                    ],
                                                    [
                                                        0.5555555555555556,
                                                        "#d8576b"
                                                    ],
                                                    [
                                                        0.6666666666666666,
                                                        "#ed7953"
                                                    ],
                                                    [
                                                        0.7777777777777778,
                                                        "#fb9f3a"
                                                    ],
                                                    [
                                                        0.8888888888888888,
                                                        "#fdca26"
                                                    ],
                                                    [
                                                        1,
                                                        "#f0f921"
                                                    ]
                                                ],
                                                "type": "heatmapgl"
                                            }
                                        ],
                                        "histogram": [
                                            {
                                                "marker": {
                                                    "pattern": {
                                                        "fillmode": "overlay",
                                                        "size": 10,
                                                        "solidity": 0.2
                                                    }
                                                },
                                                "type": "histogram"
                                            }
                                        ],
                                        "histogram2d": [
                                            {
                                                "colorbar": {
                                                    "outlinewidth": 0,
                                                    "ticks": ""
                                                },
                                                "colorscale": [
                                                    [
                                                        0,
                                                        "#0d0887"
                                                    ],
                                                    [
                                                        0.1111111111111111,
                                                        "#46039f"
                                                    ],
                                                    [
                                                        0.2222222222222222,
                                                        "#7201a8"
                                                    ],
                                                    [
                                                        0.3333333333333333,
                                                        "#9c179e"
                                                    ],
                                                    [
                                                        0.4444444444444444,
                                                        "#bd3786"
                                                    ],
                                                    [
                                                        0.5555555555555556,
                                                        "#d8576b"
                                                    ],
                                                    [
                                                        0.6666666666666666,
                                                        "#ed7953"
                                                    ],
                                                    [
                                                        0.7777777777777778,
                                                        "#fb9f3a"
                                                    ],
                                                    [
                                                        0.8888888888888888,
                                                        "#fdca26"
                                                    ],
                                                    [
                                                        1,
                                                        "#f0f921"
                                                    ]
                                                ],
                                                "type": "histogram2d"
                                            }
                                        ],
                                        "histogram2dcontour": [
                                            {
                                                "colorbar": {
                                                    "outlinewidth": 0,
                                                    "ticks": ""
                                                },
                                                "colorscale": [
                                                    [
                                                        0,
                                                        "#0d0887"
                                                    ],
                                                    [
                                                        0.1111111111111111,
                                                        "#46039f"
                                                    ],
                                                    [
                                                        0.2222222222222222,
                                                        "#7201a8"
                                                    ],
                                                    [
                                                        0.3333333333333333,
                                                        "#9c179e"
                                                    ],
                                                    [
                                                        0.4444444444444444,
                                                        "#bd3786"
                                                    ],
                                                    [
                                                        0.5555555555555556,
                                                        "#d8576b"
                                                    ],
                                                    [
                                                        0.6666666666666666,
                                                        "#ed7953"
                                                    ],
                                                    [
                                                        0.7777777777777778,
                                                        "#fb9f3a"
                                                    ],
                                                    [
                                                        0.8888888888888888,
                                                        "#fdca26"
                                                    ],
                                                    [
                                                        1,
                                                        "#f0f921"
                                                    ]
                                                ],
                                                "type": "histogram2dcontour"
                                            }
                                        ],
                                        "mesh3d": [
                                            {
                                                "colorbar": {
                                                    "outlinewidth": 0,
                                                    "ticks": ""
                                                },
                                                "type": "mesh3d"
                                            }
                                        ],
                                        "parcoords": [
                                            {
                                                "line": {
                                                    "colorbar": {
                                                        "outlinewidth": 0,
                                                        "ticks": ""
                                                    }
                                                },
                                                "type": "parcoords"
                                            }
                                        ],
                                        "pie": [
                                            {
                                                "automargin": true,
                                                "type": "pie"
                                            }
                                        ],
                                        "scatter": [
                                            {
                                                "fillpattern": {
                                                    "fillmode": "overlay",
                                                    "size": 10,
                                                    "solidity": 0.2
                                                },
                                                "type": "scatter"
                                            }
                                        ],
                                        "scatter3d": [
                                            {
                                                "line": {
                                                    "colorbar": {
                                                        "outlinewidth": 0,
                                                        "ticks": ""
                                                    }
                                                },
                                                "marker": {
                                                    "colorbar": {
                                                        "outlinewidth": 0,
                                                        "ticks": ""
                                                    }
                                                },
                                                "type": "scatter3d"
                                            }
                                        ],
                                        "scattercarpet": [
                                            {
                                                "marker": {
                                                    "colorbar": {
                                                        "outlinewidth": 0,
                                                        "ticks": ""
                                                    }
                                                },
                                                "type": "scattercarpet"
                                            }
                                        ],
                                        "scattergeo": [
                                            {
                                                "marker": {
                                                    "colorbar": {
                                                        "outlinewidth": 0,
                                                        "ticks": ""
                                                    }
                                                },
                                                "type": "scattergeo"
                                            }
                                        ],
                                        "scattergl": [
                                            {
                                                "marker": {
                                                    "colorbar": {
                                                        "outlinewidth": 0,
                                                        "ticks": ""
                                                    }
                                                },
                                                "type": "scattergl"
                                            }
                                        ],
                                        "scattermapbox": [
                                            {
                                                "marker": {
                                                    "colorbar": {
                                                        "outlinewidth": 0,
                                                        "ticks": ""
                                                    }
                                                },
                                                "type": "scattermapbox"
                                            }
                                        ],
                                        "scatterpolar": [
                                            {
                                                "marker": {
                                                    "colorbar": {
                                                        "outlinewidth": 0,
                                                        "ticks": ""
                                                    }
                                                },
                                                "type": "scatterpolar"
                                            }
                                        ],
                                        "scatterpolargl": [
                                            {
                                                "marker": {
                                                    "colorbar": {
                                                        "outlinewidth": 0,
                                                        "ticks": ""
                                                    }
                                                },
                                                "type": "scatterpolargl"
                                            }
                                        ],
                                        "scatterternary": [
                                            {
                                                "marker": {
                                                    "colorbar": {
                                                        "outlinewidth": 0,
                                                        "ticks": ""
                                                    }
                                                },
                                                "type": "scatterternary"
                                            }
                                        ],
                                        "surface": [
                                            {
                                                "colorbar": {
                                                    "outlinewidth": 0,
                                                    "ticks": ""
                                                },
                                                "colorscale": [
                                                    [
                                                        0,
                                                        "#0d0887"
                                                    ],
                                                    [
                                                        0.1111111111111111,
                                                        "#46039f"
                                                    ],
                                                    [
                                                        0.2222222222222222,
                                                        "#7201a8"
                                                    ],
                                                    [
                                                        0.3333333333333333,
                                                        "#9c179e"
                                                    ],
                                                    [
                                                        0.4444444444444444,
                                                        "#bd3786"
                                                    ],
                                                    [
                                                        0.5555555555555556,
                                                        "#d8576b"
                                                    ],
                                                    [
                                                        0.6666666666666666,
                                                        "#ed7953"
                                                    ],
                                                    [
                                                        0.7777777777777778,
                                                        "#fb9f3a"
                                                    ],
                                                    [
                                                        0.8888888888888888,
                                                        "#fdca26"
                                                    ],
                                                    [
                                                        1,
                                                        "#f0f921"
                                                    ]
                                                ],
                                                "type": "surface"
                                            }
                                        ],
                                        "table": [
                                            {
                                                "cells": {
                                                    "fill": {
                                                        "color": "#EBF0F8"
                                                    },
                                                    "line": {
                                                        "color": "white"
                                                    }
                                                },
                                                "header": {
                                                    "fill": {
                                                        "color": "#C8D4E3"
                                                    },
                                                    "line": {
                                                        "color": "white"
                                                    }
                                                },
                                                "type": "table"
                                            }
                                        ]
                                    },
                                    "layout": {
                                        "annotationdefaults": {
                                            "arrowcolor": "#2a3f5f",
                                            "arrowhead": 0,
                                            "arrowwidth": 1
                                        },
                                        "autotypenumbers": "strict",
                                        "coloraxis": {
                                            "colorbar": {
                                                "outlinewidth": 0,
                                                "ticks": ""
                                            }
                                        },
                                        "colorscale": {
                                            "diverging": [
                                                [
                                                    0,
                                                    "#8e0152"
                                                ],
                                                [
                                                    0.1,
                                                    "#c51b7d"
                                                ],
                                                [
                                                    0.2,
                                                    "#de77ae"
                                                ],
                                                [
                                                    0.3,
                                                    "#f1b6da"
                                                ],
                                                [
                                                    0.4,
                                                    "#fde0ef"
                                                ],
                                                [
                                                    0.5,
                                                    "#f7f7f7"
                                                ],
                                                [
                                                    0.6,
                                                    "#e6f5d0"
                                                ],
                                                [
                                                    0.7,
                                                    "#b8e186"
                                                ],
                                                [
                                                    0.8,
                                                    "#7fbc41"
                                                ],
                                                [
                                                    0.9,
                                                    "#4d9221"
                                                ],
                                                [
                                                    1,
                                                    "#276419"
                                                ]
                                            ],
                                            "sequential": [
                                                [
                                                    0,
                                                    "#0d0887"
                                                ],
                                                [
                                                    0.1111111111111111,
                                                    "#46039f"
                                                ],
                                                [
                                                    0.2222222222222222,
                                                    "#7201a8"
                                                ],
                                                [
                                                    0.3333333333333333,
                                                    "#9c179e"
                                                ],
                                                [
                                                    0.4444444444444444,
                                                    "#bd3786"
                                                ],
                                                [
                                                    0.5555555555555556,
                                                    "#d8576b"
                                                ],
                                                [
                                                    0.6666666666666666,
                                                    "#ed7953"
                                                ],
                                                [
                                                    0.7777777777777778,
                                                    "#fb9f3a"
                                                ],
                                                [
                                                    0.8888888888888888,
                                                    "#fdca26"
                                                ],
                                                [
                                                    1,
                                                    "#f0f921"
                                                ]
                                            ],
                                            "sequentialminus": [
                                                [
                                                    0,
                                                    "#0d0887"
                                                ],
                                                [
                                                    0.1111111111111111,
                                                    "#46039f"
                                                ],
                                                [
                                                    0.2222222222222222,
                                                    "#7201a8"
                                                ],
                                                [
                                                    0.3333333333333333,
                                                    "#9c179e"
                                                ],
                                                [
                                                    0.4444444444444444,
                                                    "#bd3786"
                                                ],
                                                [
                                                    0.5555555555555556,
                                                    "#d8576b"
                                                ],
                                                [
                                                    0.6666666666666666,
                                                    "#ed7953"
                                                ],
                                                [
                                                    0.7777777777777778,
                                                    "#fb9f3a"
                                                ],
                                                [
                                                    0.8888888888888888,
                                                    "#fdca26"
                                                ],
                                                [
                                                    1,
                                                    "#f0f921"
                                                ]
                                            ]
                                        },
                                        "colorway": [
                                            "#636efa",
                                            "#EF553B",
                                            "#00cc96",
                                            "#ab63fa",
                                            "#FFA15A",
                                            "#19d3f3",
                                            "#FF6692",
                                            "#B6E880",
                                            "#FF97FF",
                                            "#FECB52"
                                        ],
                                        "font": {
                                            "color": "#2a3f5f"
                                        },
                                        "geo": {
                                            "bgcolor": "white",
                                            "lakecolor": "white",
                                            "landcolor": "#E5ECF6",
                                            "showlakes": true,
                                            "showland": true,
                                            "subunitcolor": "white"
                                        },
                                        "hoverlabel": {
                                            "align": "left"
                                        },
                                        "hovermode": "closest",
                                        "mapbox": {
                                            "style": "light"
                                        },
                                        "paper_bgcolor": "white",
                                        "plot_bgcolor": "#E5ECF6",
                                        "polar": {
                                            "angularaxis": {
                                                "gridcolor": "white",
                                                "linecolor": "white",
                                                "ticks": ""
                                            },
                                            "bgcolor": "#E5ECF6",
                                            "radialaxis": {
                                                "gridcolor": "white",
                                                "linecolor": "white",
                                                "ticks": ""
                                            }
                                        },
                                        "scene": {
                                            "xaxis": {
                                                "backgroundcolor": "#E5ECF6",
                                                "gridcolor": "white",
                                                "gridwidth": 2,
                                                "linecolor": "white",
                                                "showbackground": true,
                                                "ticks": "",
                                                "zerolinecolor": "white"
                                            },
                                            "yaxis": {
                                                "backgroundcolor": "#E5ECF6",
                                                "gridcolor": "white",
                                                "gridwidth": 2,
                                                "linecolor": "white",
                                                "showbackground": true,
                                                "ticks": "",
                                                "zerolinecolor": "white"
                                            },
                                            "zaxis": {
                                                "backgroundcolor": "#E5ECF6",
                                                "gridcolor": "white",
                                                "gridwidth": 2,
                                                "linecolor": "white",
                                                "showbackground": true,
                                                "ticks": "",
                                                "zerolinecolor": "white"
                                            }
                                        },
                                        "shapedefaults": {
                                            "line": {
                                                "color": "#2a3f5f"
                                            }
                                        },
                                        "ternary": {
                                            "aaxis": {
                                                "gridcolor": "white",
                                                "linecolor": "white",
                                                "ticks": ""
                                            },
                                            "baxis": {
                                                "gridcolor": "white",
                                                "linecolor": "white",
                                                "ticks": ""
                                            },
                                            "bgcolor": "#E5ECF6",
                                            "caxis": {
                                                "gridcolor": "white",
                                                "linecolor": "white",
                                                "ticks": ""
                                            }
                                        },
                                        "title": {
                                            "x": 0.05
                                        },
                                        "xaxis": {
                                            "automargin": true,
                                            "gridcolor": "white",
                                            "linecolor": "white",
                                            "ticks": "",
                                            "title": {
                                                "standoff": 15
                                            },
                                            "zerolinecolor": "white",
                                            "zerolinewidth": 2
                                        },
                                        "yaxis": {
                                            "automargin": true,
                                            "gridcolor": "white",
                                            "linecolor": "white",
                                            "ticks": "",
                                            "title": {
                                                "standoff": 15
                                            },
                                            "zerolinecolor": "white",
                                            "zerolinewidth": 2
                                        }
                                    }
                                },
                                "title": {
                                    "text": "Quantidade de resumos por ST"
                                },
                                "xaxis": {
                                    "anchor": "y",
                                    "domain": [
                                        0,
                                        1
                                    ],
                                    "title": {
                                        "text": "ST"
                                    }
                                },
                                "yaxis": {
                                    "anchor": "x",
                                    "domain": [
                                        0,
                                        1
                                    ],
                                    "title": {
                                        "text": "Total de resumos"
                                    }
                                }
                            }
                        }
                    },
                    "metadata": {},
                    "output_type": "display_data"
                }
            ],
            "source": [
                "# avaliar os 20 maiores valores de 'ST' e mostrar em um gráfico de barras\n",
                "fig4 = px.bar(df_ano_st.head(20), x='ST', y='Total de resumos', title='Quantidade de resumos por ST', color='Ano')\n",
                "\n",
                "fig4.show()"
            ]
        },
        {
            "cell_type": "code",
            "execution_count": 41,
            "metadata": {},
            "outputs": [],
            "source": [
                "for index, row in df_ano_st.iterrows():\n",
                "    if len(row['ST']) > 40:\n",
                "        df_ano_st.at[index, 'ST'] = row['ST'][:40] + '...'"
            ]
        },
        {
            "cell_type": "code",
            "execution_count": 42,
            "metadata": {},
            "outputs": [
                {
                    "data": {
                        "application/vnd.plotly.v1+json": {
                            "config": {
                                "plotlyServerURL": "https://plot.ly"
                            },
                            "data": [
                                {
                                    "alignmentgroup": "True",
                                    "hovertemplate": "ST=%{x}<br>Total de resumos=%{y}<br>Ano=%{marker.color}<extra></extra>",
                                    "legendgroup": "",
                                    "marker": {
                                        "color": [
                                            2013,
                                            2013,
                                            2013,
                                            2013,
                                            2013,
                                            2013,
                                            2013,
                                            2021,
                                            2013,
                                            2023,
                                            2021,
                                            2021,
                                            2023,
                                            2023,
                                            2017
                                        ],
                                        "coloraxis": "coloraxis",
                                        "pattern": {
                                            "shape": ""
                                        }
                                    },
                                    "name": "",
                                    "offsetgroup": "",
                                    "orientation": "v",
                                    "showlegend": false,
                                    "textposition": "auto",
                                    "type": "bar",
                                    "x": [
                                        "023. Catolicismo, repressão e diversidad...",
                                        "060/061/088: História da Loucura e da Ps...",
                                        "120/134: Produção e circulação de sabere...",
                                        "075/106: História, Direito e Memória",
                                        "126/127: Patrimônio Histórico, História ...",
                                        "054. Habitação e direito à cidade: favel...",
                                        "074/098: História, cultura e a temática ...",
                                        "ST 078. História e Mídia",
                                        "013. Antiguidade e Modernidade: usos do ...",
                                        "ST 040. Ditaduras militares na América L...",
                                        "ST 149. Migrações, processos e trajetór...",
                                        "ST 109. Mundos do trabalho: escravidão, ...",
                                        "ST 013. África contemporânea: temas, pro...",
                                        "ST 029. Cultura Visual História e Imagem",
                                        "ST 031 - Ensino de História, Currículo e..."
                                    ],
                                    "xaxis": "x",
                                    "y": [
                                        69,
                                        66,
                                        48,
                                        46,
                                        46,
                                        46,
                                        46,
                                        40,
                                        40,
                                        39,
                                        39,
                                        39,
                                        39,
                                        38,
                                        37
                                    ],
                                    "yaxis": "y"
                                }
                            ],
                            "layout": {
                                "barmode": "relative",
                                "coloraxis": {
                                    "colorbar": {
                                        "title": {
                                            "text": "Ano"
                                        }
                                    },
                                    "colorscale": [
                                        [
                                            0,
                                            "#0d0887"
                                        ],
                                        [
                                            0.1111111111111111,
                                            "#46039f"
                                        ],
                                        [
                                            0.2222222222222222,
                                            "#7201a8"
                                        ],
                                        [
                                            0.3333333333333333,
                                            "#9c179e"
                                        ],
                                        [
                                            0.4444444444444444,
                                            "#bd3786"
                                        ],
                                        [
                                            0.5555555555555556,
                                            "#d8576b"
                                        ],
                                        [
                                            0.6666666666666666,
                                            "#ed7953"
                                        ],
                                        [
                                            0.7777777777777778,
                                            "#fb9f3a"
                                        ],
                                        [
                                            0.8888888888888888,
                                            "#fdca26"
                                        ],
                                        [
                                            1,
                                            "#f0f921"
                                        ]
                                    ]
                                },
                                "legend": {
                                    "tracegroupgap": 0
                                },
                                "template": {
                                    "data": {
                                        "bar": [
                                            {
                                                "error_x": {
                                                    "color": "#2a3f5f"
                                                },
                                                "error_y": {
                                                    "color": "#2a3f5f"
                                                },
                                                "marker": {
                                                    "line": {
                                                        "color": "#E5ECF6",
                                                        "width": 0.5
                                                    },
                                                    "pattern": {
                                                        "fillmode": "overlay",
                                                        "size": 10,
                                                        "solidity": 0.2
                                                    }
                                                },
                                                "type": "bar"
                                            }
                                        ],
                                        "barpolar": [
                                            {
                                                "marker": {
                                                    "line": {
                                                        "color": "#E5ECF6",
                                                        "width": 0.5
                                                    },
                                                    "pattern": {
                                                        "fillmode": "overlay",
                                                        "size": 10,
                                                        "solidity": 0.2
                                                    }
                                                },
                                                "type": "barpolar"
                                            }
                                        ],
                                        "carpet": [
                                            {
                                                "aaxis": {
                                                    "endlinecolor": "#2a3f5f",
                                                    "gridcolor": "white",
                                                    "linecolor": "white",
                                                    "minorgridcolor": "white",
                                                    "startlinecolor": "#2a3f5f"
                                                },
                                                "baxis": {
                                                    "endlinecolor": "#2a3f5f",
                                                    "gridcolor": "white",
                                                    "linecolor": "white",
                                                    "minorgridcolor": "white",
                                                    "startlinecolor": "#2a3f5f"
                                                },
                                                "type": "carpet"
                                            }
                                        ],
                                        "choropleth": [
                                            {
                                                "colorbar": {
                                                    "outlinewidth": 0,
                                                    "ticks": ""
                                                },
                                                "type": "choropleth"
                                            }
                                        ],
                                        "contour": [
                                            {
                                                "colorbar": {
                                                    "outlinewidth": 0,
                                                    "ticks": ""
                                                },
                                                "colorscale": [
                                                    [
                                                        0,
                                                        "#0d0887"
                                                    ],
                                                    [
                                                        0.1111111111111111,
                                                        "#46039f"
                                                    ],
                                                    [
                                                        0.2222222222222222,
                                                        "#7201a8"
                                                    ],
                                                    [
                                                        0.3333333333333333,
                                                        "#9c179e"
                                                    ],
                                                    [
                                                        0.4444444444444444,
                                                        "#bd3786"
                                                    ],
                                                    [
                                                        0.5555555555555556,
                                                        "#d8576b"
                                                    ],
                                                    [
                                                        0.6666666666666666,
                                                        "#ed7953"
                                                    ],
                                                    [
                                                        0.7777777777777778,
                                                        "#fb9f3a"
                                                    ],
                                                    [
                                                        0.8888888888888888,
                                                        "#fdca26"
                                                    ],
                                                    [
                                                        1,
                                                        "#f0f921"
                                                    ]
                                                ],
                                                "type": "contour"
                                            }
                                        ],
                                        "contourcarpet": [
                                            {
                                                "colorbar": {
                                                    "outlinewidth": 0,
                                                    "ticks": ""
                                                },
                                                "type": "contourcarpet"
                                            }
                                        ],
                                        "heatmap": [
                                            {
                                                "colorbar": {
                                                    "outlinewidth": 0,
                                                    "ticks": ""
                                                },
                                                "colorscale": [
                                                    [
                                                        0,
                                                        "#0d0887"
                                                    ],
                                                    [
                                                        0.1111111111111111,
                                                        "#46039f"
                                                    ],
                                                    [
                                                        0.2222222222222222,
                                                        "#7201a8"
                                                    ],
                                                    [
                                                        0.3333333333333333,
                                                        "#9c179e"
                                                    ],
                                                    [
                                                        0.4444444444444444,
                                                        "#bd3786"
                                                    ],
                                                    [
                                                        0.5555555555555556,
                                                        "#d8576b"
                                                    ],
                                                    [
                                                        0.6666666666666666,
                                                        "#ed7953"
                                                    ],
                                                    [
                                                        0.7777777777777778,
                                                        "#fb9f3a"
                                                    ],
                                                    [
                                                        0.8888888888888888,
                                                        "#fdca26"
                                                    ],
                                                    [
                                                        1,
                                                        "#f0f921"
                                                    ]
                                                ],
                                                "type": "heatmap"
                                            }
                                        ],
                                        "heatmapgl": [
                                            {
                                                "colorbar": {
                                                    "outlinewidth": 0,
                                                    "ticks": ""
                                                },
                                                "colorscale": [
                                                    [
                                                        0,
                                                        "#0d0887"
                                                    ],
                                                    [
                                                        0.1111111111111111,
                                                        "#46039f"
                                                    ],
                                                    [
                                                        0.2222222222222222,
                                                        "#7201a8"
                                                    ],
                                                    [
                                                        0.3333333333333333,
                                                        "#9c179e"
                                                    ],
                                                    [
                                                        0.4444444444444444,
                                                        "#bd3786"
                                                    ],
                                                    [
                                                        0.5555555555555556,
                                                        "#d8576b"
                                                    ],
                                                    [
                                                        0.6666666666666666,
                                                        "#ed7953"
                                                    ],
                                                    [
                                                        0.7777777777777778,
                                                        "#fb9f3a"
                                                    ],
                                                    [
                                                        0.8888888888888888,
                                                        "#fdca26"
                                                    ],
                                                    [
                                                        1,
                                                        "#f0f921"
                                                    ]
                                                ],
                                                "type": "heatmapgl"
                                            }
                                        ],
                                        "histogram": [
                                            {
                                                "marker": {
                                                    "pattern": {
                                                        "fillmode": "overlay",
                                                        "size": 10,
                                                        "solidity": 0.2
                                                    }
                                                },
                                                "type": "histogram"
                                            }
                                        ],
                                        "histogram2d": [
                                            {
                                                "colorbar": {
                                                    "outlinewidth": 0,
                                                    "ticks": ""
                                                },
                                                "colorscale": [
                                                    [
                                                        0,
                                                        "#0d0887"
                                                    ],
                                                    [
                                                        0.1111111111111111,
                                                        "#46039f"
                                                    ],
                                                    [
                                                        0.2222222222222222,
                                                        "#7201a8"
                                                    ],
                                                    [
                                                        0.3333333333333333,
                                                        "#9c179e"
                                                    ],
                                                    [
                                                        0.4444444444444444,
                                                        "#bd3786"
                                                    ],
                                                    [
                                                        0.5555555555555556,
                                                        "#d8576b"
                                                    ],
                                                    [
                                                        0.6666666666666666,
                                                        "#ed7953"
                                                    ],
                                                    [
                                                        0.7777777777777778,
                                                        "#fb9f3a"
                                                    ],
                                                    [
                                                        0.8888888888888888,
                                                        "#fdca26"
                                                    ],
                                                    [
                                                        1,
                                                        "#f0f921"
                                                    ]
                                                ],
                                                "type": "histogram2d"
                                            }
                                        ],
                                        "histogram2dcontour": [
                                            {
                                                "colorbar": {
                                                    "outlinewidth": 0,
                                                    "ticks": ""
                                                },
                                                "colorscale": [
                                                    [
                                                        0,
                                                        "#0d0887"
                                                    ],
                                                    [
                                                        0.1111111111111111,
                                                        "#46039f"
                                                    ],
                                                    [
                                                        0.2222222222222222,
                                                        "#7201a8"
                                                    ],
                                                    [
                                                        0.3333333333333333,
                                                        "#9c179e"
                                                    ],
                                                    [
                                                        0.4444444444444444,
                                                        "#bd3786"
                                                    ],
                                                    [
                                                        0.5555555555555556,
                                                        "#d8576b"
                                                    ],
                                                    [
                                                        0.6666666666666666,
                                                        "#ed7953"
                                                    ],
                                                    [
                                                        0.7777777777777778,
                                                        "#fb9f3a"
                                                    ],
                                                    [
                                                        0.8888888888888888,
                                                        "#fdca26"
                                                    ],
                                                    [
                                                        1,
                                                        "#f0f921"
                                                    ]
                                                ],
                                                "type": "histogram2dcontour"
                                            }
                                        ],
                                        "mesh3d": [
                                            {
                                                "colorbar": {
                                                    "outlinewidth": 0,
                                                    "ticks": ""
                                                },
                                                "type": "mesh3d"
                                            }
                                        ],
                                        "parcoords": [
                                            {
                                                "line": {
                                                    "colorbar": {
                                                        "outlinewidth": 0,
                                                        "ticks": ""
                                                    }
                                                },
                                                "type": "parcoords"
                                            }
                                        ],
                                        "pie": [
                                            {
                                                "automargin": true,
                                                "type": "pie"
                                            }
                                        ],
                                        "scatter": [
                                            {
                                                "fillpattern": {
                                                    "fillmode": "overlay",
                                                    "size": 10,
                                                    "solidity": 0.2
                                                },
                                                "type": "scatter"
                                            }
                                        ],
                                        "scatter3d": [
                                            {
                                                "line": {
                                                    "colorbar": {
                                                        "outlinewidth": 0,
                                                        "ticks": ""
                                                    }
                                                },
                                                "marker": {
                                                    "colorbar": {
                                                        "outlinewidth": 0,
                                                        "ticks": ""
                                                    }
                                                },
                                                "type": "scatter3d"
                                            }
                                        ],
                                        "scattercarpet": [
                                            {
                                                "marker": {
                                                    "colorbar": {
                                                        "outlinewidth": 0,
                                                        "ticks": ""
                                                    }
                                                },
                                                "type": "scattercarpet"
                                            }
                                        ],
                                        "scattergeo": [
                                            {
                                                "marker": {
                                                    "colorbar": {
                                                        "outlinewidth": 0,
                                                        "ticks": ""
                                                    }
                                                },
                                                "type": "scattergeo"
                                            }
                                        ],
                                        "scattergl": [
                                            {
                                                "marker": {
                                                    "colorbar": {
                                                        "outlinewidth": 0,
                                                        "ticks": ""
                                                    }
                                                },
                                                "type": "scattergl"
                                            }
                                        ],
                                        "scattermapbox": [
                                            {
                                                "marker": {
                                                    "colorbar": {
                                                        "outlinewidth": 0,
                                                        "ticks": ""
                                                    }
                                                },
                                                "type": "scattermapbox"
                                            }
                                        ],
                                        "scatterpolar": [
                                            {
                                                "marker": {
                                                    "colorbar": {
                                                        "outlinewidth": 0,
                                                        "ticks": ""
                                                    }
                                                },
                                                "type": "scatterpolar"
                                            }
                                        ],
                                        "scatterpolargl": [
                                            {
                                                "marker": {
                                                    "colorbar": {
                                                        "outlinewidth": 0,
                                                        "ticks": ""
                                                    }
                                                },
                                                "type": "scatterpolargl"
                                            }
                                        ],
                                        "scatterternary": [
                                            {
                                                "marker": {
                                                    "colorbar": {
                                                        "outlinewidth": 0,
                                                        "ticks": ""
                                                    }
                                                },
                                                "type": "scatterternary"
                                            }
                                        ],
                                        "surface": [
                                            {
                                                "colorbar": {
                                                    "outlinewidth": 0,
                                                    "ticks": ""
                                                },
                                                "colorscale": [
                                                    [
                                                        0,
                                                        "#0d0887"
                                                    ],
                                                    [
                                                        0.1111111111111111,
                                                        "#46039f"
                                                    ],
                                                    [
                                                        0.2222222222222222,
                                                        "#7201a8"
                                                    ],
                                                    [
                                                        0.3333333333333333,
                                                        "#9c179e"
                                                    ],
                                                    [
                                                        0.4444444444444444,
                                                        "#bd3786"
                                                    ],
                                                    [
                                                        0.5555555555555556,
                                                        "#d8576b"
                                                    ],
                                                    [
                                                        0.6666666666666666,
                                                        "#ed7953"
                                                    ],
                                                    [
                                                        0.7777777777777778,
                                                        "#fb9f3a"
                                                    ],
                                                    [
                                                        0.8888888888888888,
                                                        "#fdca26"
                                                    ],
                                                    [
                                                        1,
                                                        "#f0f921"
                                                    ]
                                                ],
                                                "type": "surface"
                                            }
                                        ],
                                        "table": [
                                            {
                                                "cells": {
                                                    "fill": {
                                                        "color": "#EBF0F8"
                                                    },
                                                    "line": {
                                                        "color": "white"
                                                    }
                                                },
                                                "header": {
                                                    "fill": {
                                                        "color": "#C8D4E3"
                                                    },
                                                    "line": {
                                                        "color": "white"
                                                    }
                                                },
                                                "type": "table"
                                            }
                                        ]
                                    },
                                    "layout": {
                                        "annotationdefaults": {
                                            "arrowcolor": "#2a3f5f",
                                            "arrowhead": 0,
                                            "arrowwidth": 1
                                        },
                                        "autotypenumbers": "strict",
                                        "coloraxis": {
                                            "colorbar": {
                                                "outlinewidth": 0,
                                                "ticks": ""
                                            }
                                        },
                                        "colorscale": {
                                            "diverging": [
                                                [
                                                    0,
                                                    "#8e0152"
                                                ],
                                                [
                                                    0.1,
                                                    "#c51b7d"
                                                ],
                                                [
                                                    0.2,
                                                    "#de77ae"
                                                ],
                                                [
                                                    0.3,
                                                    "#f1b6da"
                                                ],
                                                [
                                                    0.4,
                                                    "#fde0ef"
                                                ],
                                                [
                                                    0.5,
                                                    "#f7f7f7"
                                                ],
                                                [
                                                    0.6,
                                                    "#e6f5d0"
                                                ],
                                                [
                                                    0.7,
                                                    "#b8e186"
                                                ],
                                                [
                                                    0.8,
                                                    "#7fbc41"
                                                ],
                                                [
                                                    0.9,
                                                    "#4d9221"
                                                ],
                                                [
                                                    1,
                                                    "#276419"
                                                ]
                                            ],
                                            "sequential": [
                                                [
                                                    0,
                                                    "#0d0887"
                                                ],
                                                [
                                                    0.1111111111111111,
                                                    "#46039f"
                                                ],
                                                [
                                                    0.2222222222222222,
                                                    "#7201a8"
                                                ],
                                                [
                                                    0.3333333333333333,
                                                    "#9c179e"
                                                ],
                                                [
                                                    0.4444444444444444,
                                                    "#bd3786"
                                                ],
                                                [
                                                    0.5555555555555556,
                                                    "#d8576b"
                                                ],
                                                [
                                                    0.6666666666666666,
                                                    "#ed7953"
                                                ],
                                                [
                                                    0.7777777777777778,
                                                    "#fb9f3a"
                                                ],
                                                [
                                                    0.8888888888888888,
                                                    "#fdca26"
                                                ],
                                                [
                                                    1,
                                                    "#f0f921"
                                                ]
                                            ],
                                            "sequentialminus": [
                                                [
                                                    0,
                                                    "#0d0887"
                                                ],
                                                [
                                                    0.1111111111111111,
                                                    "#46039f"
                                                ],
                                                [
                                                    0.2222222222222222,
                                                    "#7201a8"
                                                ],
                                                [
                                                    0.3333333333333333,
                                                    "#9c179e"
                                                ],
                                                [
                                                    0.4444444444444444,
                                                    "#bd3786"
                                                ],
                                                [
                                                    0.5555555555555556,
                                                    "#d8576b"
                                                ],
                                                [
                                                    0.6666666666666666,
                                                    "#ed7953"
                                                ],
                                                [
                                                    0.7777777777777778,
                                                    "#fb9f3a"
                                                ],
                                                [
                                                    0.8888888888888888,
                                                    "#fdca26"
                                                ],
                                                [
                                                    1,
                                                    "#f0f921"
                                                ]
                                            ]
                                        },
                                        "colorway": [
                                            "#636efa",
                                            "#EF553B",
                                            "#00cc96",
                                            "#ab63fa",
                                            "#FFA15A",
                                            "#19d3f3",
                                            "#FF6692",
                                            "#B6E880",
                                            "#FF97FF",
                                            "#FECB52"
                                        ],
                                        "font": {
                                            "color": "#2a3f5f"
                                        },
                                        "geo": {
                                            "bgcolor": "white",
                                            "lakecolor": "white",
                                            "landcolor": "#E5ECF6",
                                            "showlakes": true,
                                            "showland": true,
                                            "subunitcolor": "white"
                                        },
                                        "hoverlabel": {
                                            "align": "left"
                                        },
                                        "hovermode": "closest",
                                        "mapbox": {
                                            "style": "light"
                                        },
                                        "paper_bgcolor": "white",
                                        "plot_bgcolor": "#E5ECF6",
                                        "polar": {
                                            "angularaxis": {
                                                "gridcolor": "white",
                                                "linecolor": "white",
                                                "ticks": ""
                                            },
                                            "bgcolor": "#E5ECF6",
                                            "radialaxis": {
                                                "gridcolor": "white",
                                                "linecolor": "white",
                                                "ticks": ""
                                            }
                                        },
                                        "scene": {
                                            "xaxis": {
                                                "backgroundcolor": "#E5ECF6",
                                                "gridcolor": "white",
                                                "gridwidth": 2,
                                                "linecolor": "white",
                                                "showbackground": true,
                                                "ticks": "",
                                                "zerolinecolor": "white"
                                            },
                                            "yaxis": {
                                                "backgroundcolor": "#E5ECF6",
                                                "gridcolor": "white",
                                                "gridwidth": 2,
                                                "linecolor": "white",
                                                "showbackground": true,
                                                "ticks": "",
                                                "zerolinecolor": "white"
                                            },
                                            "zaxis": {
                                                "backgroundcolor": "#E5ECF6",
                                                "gridcolor": "white",
                                                "gridwidth": 2,
                                                "linecolor": "white",
                                                "showbackground": true,
                                                "ticks": "",
                                                "zerolinecolor": "white"
                                            }
                                        },
                                        "shapedefaults": {
                                            "line": {
                                                "color": "#2a3f5f"
                                            }
                                        },
                                        "ternary": {
                                            "aaxis": {
                                                "gridcolor": "white",
                                                "linecolor": "white",
                                                "ticks": ""
                                            },
                                            "baxis": {
                                                "gridcolor": "white",
                                                "linecolor": "white",
                                                "ticks": ""
                                            },
                                            "bgcolor": "#E5ECF6",
                                            "caxis": {
                                                "gridcolor": "white",
                                                "linecolor": "white",
                                                "ticks": ""
                                            }
                                        },
                                        "title": {
                                            "x": 0.05
                                        },
                                        "xaxis": {
                                            "automargin": true,
                                            "gridcolor": "white",
                                            "linecolor": "white",
                                            "ticks": "",
                                            "title": {
                                                "standoff": 15
                                            },
                                            "zerolinecolor": "white",
                                            "zerolinewidth": 2
                                        },
                                        "yaxis": {
                                            "automargin": true,
                                            "gridcolor": "white",
                                            "linecolor": "white",
                                            "ticks": "",
                                            "title": {
                                                "standoff": 15
                                            },
                                            "zerolinecolor": "white",
                                            "zerolinewidth": 2
                                        }
                                    }
                                },
                                "title": {
                                    "text": "Quantidade de resumos por ST"
                                },
                                "xaxis": {
                                    "anchor": "y",
                                    "domain": [
                                        0,
                                        1
                                    ],
                                    "title": {
                                        "text": "ST"
                                    }
                                },
                                "yaxis": {
                                    "anchor": "x",
                                    "domain": [
                                        0,
                                        1
                                    ],
                                    "title": {
                                        "text": "Total de resumos"
                                    }
                                }
                            }
                        }
                    },
                    "metadata": {},
                    "output_type": "display_data"
                }
            ],
            "source": [
                "fig4 = px.bar(df_ano_st.head(15), x='ST', y='Total de resumos', title='Quantidade de resumos por ST', color='Ano')\n",
                "\n",
                "fig4.show()"
            ]
        },
        {
            "cell_type": "markdown",
            "metadata": {},
            "source": [
                "---\n",
                "\n",
                "[← Anterior](dia3.ipynb)\n",
                "\n",
                "[↑ Início](./README.md)"
            ]
        }
    ],
    "metadata": {
        "kernelspec": {
            "display_name": "Python 3",
            "language": "python",
            "name": "python3"
        },
        "language_info": {
            "codemirror_mode": {
                "name": "ipython",
                "version": 3
            },
            "file_extension": ".py",
            "mimetype": "text/x-python",
            "name": "python",
            "nbconvert_exporter": "python",
            "pygments_lexer": "ipython3",
            "version": "3.10.12"
        },
        "orig_nbformat": 4
    },
    "nbformat": 4,
    "nbformat_minor": 2
}
