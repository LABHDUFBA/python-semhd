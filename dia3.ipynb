{
    "cells": [
        {
            "cell_type": "markdown",
            "metadata": {},
            "source": [
                "# Pandas"
            ]
        },
        {
            "cell_type": "markdown",
            "metadata": {},
            "source": [
                "ChatGPT-3 definindo Pandas, a partir do seguinte prompt: \"defina pandas em um parágrafo, destacando sua importância para análise de dados\"\n",
                "\n",
                ">O pandas é uma poderosa biblioteca de Python amplamente utilizada na análise de dados. Sua importância reside na capacidade de simplificar e agilizar tarefas relacionadas à manipulação e exploração de dados tabulares, como planilhas ou tabelas de bancos de dados. Com o pandas, os analistas de dados podem facilmente importar, limpar, transformar, agregar e visualizar dados, permitindo uma compreensão mais profunda e insights valiosos a partir de conjuntos de dados complexos. Ao oferecer uma estrutura de dados flexível chamada DataFrame, o pandas se tornou uma ferramenta indispensável para cientistas de dados, analistas de negócios e pesquisadores em diversas áreas, contribuindo significativamente para a eficiência e qualidade das análises de dados."
            ]
        },
        {
            "cell_type": "markdown",
            "metadata": {},
            "source": [
                "DataFrames: são estruturas de dados tabulares semelhantes a tabelas de banco de dados ou planilhas do Excel."
            ]
        },
        {
            "cell_type": "markdown",
            "metadata": {},
            "source": [
                "## Instalando a biblioteca Pandas\n",
                "\n",
                "```bash\n",
                "pip install pandas\n",
                "```\n",
                "\n",
                "O `pip` é um gerenciador de pacotes do Python. Ele é usado para instalar e gerenciar pacotes de software escritos na linguagem Python.\n",
                "\n",
                "Para saber mais sobre instalação e uso do pip, veja a lição \"Instalação de Módulos Python com pip\" de Fred Gibbs no [The Programming Historian](https://programminghistorian.org/pt/licoes/instalacao-modulos-python-pip)."
            ]
        },
        {
            "cell_type": "markdown",
            "metadata": {},
            "source": [
                "## Importando a biblioteca Pandas\n",
                "\n",
                "Para utilizar a biblioteca Pandas, é preciso importá-la no seu código. Para isso, basta usar o comando `import` seguido do nome da biblioteca:"
            ]
        },
        {
            "cell_type": "code",
            "execution_count": 1,
            "metadata": {},
            "outputs": [],
            "source": [
                "import pandas as pd\n"
            ]
        },
        {
            "cell_type": "markdown",
            "metadata": {},
            "source": [
                "## Criando um *Dataframe* a partir de um dicionário"
            ]
        },
        {
            "cell_type": "markdown",
            "metadata": {},
            "source": [
                "```python\n",
                "df = pd.DataFrame(<seus dados aqui>)\n",
                "```"
            ]
        },
        {
            "cell_type": "markdown",
            "metadata": {},
            "source": [
                "Para criar um objeto DataFrame, basta passar seus dados como argumento para a função `pd.DataFrame()`. Lembrando que `pd` é o alias (*apelidinho*) que utilizamos para importar a biblioteca pandas.\n",
                "\n",
                "No exemplo abaixo, vamos criar um dicionário com três chaves: 'A', 'B' e 'C'. Cada chave possui uma lista com cinco valores inteiros. \n",
                "    \n",
                "Em seguida, vamos criar um DataFrame a partir do dicionário."
            ]
        },
        {
            "cell_type": "code",
            "execution_count": 2,
            "metadata": {},
            "outputs": [],
            "source": [
                "# criando uma variável para receber o dicionário\n",
                "dados = {'A': [1,2,3,4,5],\n",
                "         'B': [6,7,8,9,10],\n",
                "         'C': [0,10,100,1000,10000]}"
            ]
        },
        {
            "cell_type": "code",
            "execution_count": 3,
            "metadata": {},
            "outputs": [
                {
                    "data": {
                        "text/plain": [
                            "{'A': [1, 2, 3, 4, 5], 'B': [6, 7, 8, 9, 10], 'C': [0, 10, 100, 1000, 10000]}"
                        ]
                    },
                    "execution_count": 3,
                    "metadata": {},
                    "output_type": "execute_result"
                }
            ],
            "source": [
                "dados"
            ]
        },
        {
            "cell_type": "code",
            "execution_count": 4,
            "metadata": {},
            "outputs": [
                {
                    "data": {
                        "text/plain": [
                            "dict"
                        ]
                    },
                    "execution_count": 4,
                    "metadata": {},
                    "output_type": "execute_result"
                }
            ],
            "source": [
                "type(dados)"
            ]
        },
        {
            "cell_type": "code",
            "execution_count": 5,
            "metadata": {},
            "outputs": [],
            "source": [
                "dicionario = {\n",
                "    'Nomes': ['João', 'Maria', 'José', 'Pedro'],\n",
                "    'Idades': [25, 30, 40, 50],\n",
                "    'Cidades': ['Manaus', 'Rio de Janeiro', 'Salvador', 'Salvador']\n",
                "}"
            ]
        },
        {
            "cell_type": "code",
            "execution_count": 6,
            "metadata": {},
            "outputs": [
                {
                    "data": {
                        "text/plain": [
                            "dict_keys(['Nomes', 'Idades', 'Cidades'])"
                        ]
                    },
                    "execution_count": 6,
                    "metadata": {},
                    "output_type": "execute_result"
                }
            ],
            "source": [
                "dicionario.keys()"
            ]
        },
        {
            "cell_type": "code",
            "execution_count": 7,
            "metadata": {},
            "outputs": [
                {
                    "data": {
                        "text/plain": [
                            "dict_values([['João', 'Maria', 'José', 'Pedro'], [25, 30, 40, 50], ['Manaus', 'Rio de Janeiro', 'Salvador', 'Salvador']])"
                        ]
                    },
                    "execution_count": 7,
                    "metadata": {},
                    "output_type": "execute_result"
                }
            ],
            "source": [
                "dicionario.values()\n"
            ]
        },
        {
            "cell_type": "code",
            "execution_count": 8,
            "metadata": {},
            "outputs": [
                {
                    "data": {
                        "text/plain": [
                            "['João', 'Maria', 'José', 'Pedro']"
                        ]
                    },
                    "execution_count": 8,
                    "metadata": {},
                    "output_type": "execute_result"
                }
            ],
            "source": [
                "dicionario['Nomes']"
            ]
        },
        {
            "cell_type": "code",
            "execution_count": 9,
            "metadata": {},
            "outputs": [
                {
                    "data": {
                        "text/plain": [
                            "[25, 30, 40, 50]"
                        ]
                    },
                    "execution_count": 9,
                    "metadata": {},
                    "output_type": "execute_result"
                }
            ],
            "source": [
                "dicionario['Idades']"
            ]
        },
        {
            "cell_type": "code",
            "execution_count": 10,
            "metadata": {},
            "outputs": [
                {
                    "data": {
                        "text/plain": [
                            "['Manaus', 'Rio de Janeiro', 'Salvador', 'Salvador']"
                        ]
                    },
                    "execution_count": 10,
                    "metadata": {},
                    "output_type": "execute_result"
                }
            ],
            "source": [
                "dicionario['Cidades']"
            ]
        },
        {
            "cell_type": "markdown",
            "metadata": {},
            "source": [
                "\n",
                "No exemplo acima, o dicionário possui três chaves: 'Nomes', 'Idades' e 'Cidades'. Cada chave é associada a uma lista de valores.\n",
                "\n",
                "Se passarmos esse dicionário como argumento para a função `pd.DataFrame()`, o pandas irá criar um DataFrame com três colunas (a partir das chaves) e cinco linhas (a partir dos valores)."
            ]
        },
        {
            "cell_type": "code",
            "execution_count": 11,
            "metadata": {},
            "outputs": [],
            "source": [
                "# Criar um dataframe\n",
                "df = pd.DataFrame(dicionario)"
            ]
        },
        {
            "cell_type": "markdown",
            "metadata": {},
            "source": [
                "## Informações gerais sobre o DataFrame\n",
                "\n",
                "Vamos começar com o exemplo simples do DataFrame criado a partir do dicionário de nomes, idades e cidades.\n",
                "\n",
                "Antes de explorar os dados de forma mais aprofundada, vamos verificar algumas informações gerais sobre o DataFrame."
            ]
        },
        {
            "cell_type": "markdown",
            "metadata": {},
            "source": [
                "### Primeiras linhas\n"
            ]
        },
        {
            "cell_type": "code",
            "execution_count": 12,
            "metadata": {},
            "outputs": [
                {
                    "data": {
                        "text/html": [
                            "<div>\n",
                            "<style scoped>\n",
                            "    .dataframe tbody tr th:only-of-type {\n",
                            "        vertical-align: middle;\n",
                            "    }\n",
                            "\n",
                            "    .dataframe tbody tr th {\n",
                            "        vertical-align: top;\n",
                            "    }\n",
                            "\n",
                            "    .dataframe thead th {\n",
                            "        text-align: right;\n",
                            "    }\n",
                            "</style>\n",
                            "<table border=\"1\" class=\"dataframe\">\n",
                            "  <thead>\n",
                            "    <tr style=\"text-align: right;\">\n",
                            "      <th></th>\n",
                            "      <th>Nomes</th>\n",
                            "      <th>Idades</th>\n",
                            "      <th>Cidades</th>\n",
                            "    </tr>\n",
                            "  </thead>\n",
                            "  <tbody>\n",
                            "    <tr>\n",
                            "      <th>0</th>\n",
                            "      <td>João</td>\n",
                            "      <td>25</td>\n",
                            "      <td>Manaus</td>\n",
                            "    </tr>\n",
                            "    <tr>\n",
                            "      <th>1</th>\n",
                            "      <td>Maria</td>\n",
                            "      <td>30</td>\n",
                            "      <td>Rio de Janeiro</td>\n",
                            "    </tr>\n",
                            "    <tr>\n",
                            "      <th>2</th>\n",
                            "      <td>José</td>\n",
                            "      <td>40</td>\n",
                            "      <td>Salvador</td>\n",
                            "    </tr>\n",
                            "    <tr>\n",
                            "      <th>3</th>\n",
                            "      <td>Pedro</td>\n",
                            "      <td>50</td>\n",
                            "      <td>Salvador</td>\n",
                            "    </tr>\n",
                            "  </tbody>\n",
                            "</table>\n",
                            "</div>"
                        ],
                        "text/plain": [
                            "   Nomes  Idades         Cidades\n",
                            "0   João      25          Manaus\n",
                            "1  Maria      30  Rio de Janeiro\n",
                            "2   José      40        Salvador\n",
                            "3  Pedro      50        Salvador"
                        ]
                    },
                    "execution_count": 12,
                    "metadata": {},
                    "output_type": "execute_result"
                }
            ],
            "source": [
                "df.head()"
            ]
        },
        {
            "cell_type": "markdown",
            "metadata": {},
            "source": [
                "### Últimas linhas\n"
            ]
        },
        {
            "cell_type": "code",
            "execution_count": 13,
            "metadata": {},
            "outputs": [
                {
                    "data": {
                        "text/html": [
                            "<div>\n",
                            "<style scoped>\n",
                            "    .dataframe tbody tr th:only-of-type {\n",
                            "        vertical-align: middle;\n",
                            "    }\n",
                            "\n",
                            "    .dataframe tbody tr th {\n",
                            "        vertical-align: top;\n",
                            "    }\n",
                            "\n",
                            "    .dataframe thead th {\n",
                            "        text-align: right;\n",
                            "    }\n",
                            "</style>\n",
                            "<table border=\"1\" class=\"dataframe\">\n",
                            "  <thead>\n",
                            "    <tr style=\"text-align: right;\">\n",
                            "      <th></th>\n",
                            "      <th>Nomes</th>\n",
                            "      <th>Idades</th>\n",
                            "      <th>Cidades</th>\n",
                            "    </tr>\n",
                            "  </thead>\n",
                            "  <tbody>\n",
                            "    <tr>\n",
                            "      <th>0</th>\n",
                            "      <td>João</td>\n",
                            "      <td>25</td>\n",
                            "      <td>Manaus</td>\n",
                            "    </tr>\n",
                            "    <tr>\n",
                            "      <th>1</th>\n",
                            "      <td>Maria</td>\n",
                            "      <td>30</td>\n",
                            "      <td>Rio de Janeiro</td>\n",
                            "    </tr>\n",
                            "    <tr>\n",
                            "      <th>2</th>\n",
                            "      <td>José</td>\n",
                            "      <td>40</td>\n",
                            "      <td>Salvador</td>\n",
                            "    </tr>\n",
                            "    <tr>\n",
                            "      <th>3</th>\n",
                            "      <td>Pedro</td>\n",
                            "      <td>50</td>\n",
                            "      <td>Salvador</td>\n",
                            "    </tr>\n",
                            "  </tbody>\n",
                            "</table>\n",
                            "</div>"
                        ],
                        "text/plain": [
                            "   Nomes  Idades         Cidades\n",
                            "0   João      25          Manaus\n",
                            "1  Maria      30  Rio de Janeiro\n",
                            "2   José      40        Salvador\n",
                            "3  Pedro      50        Salvador"
                        ]
                    },
                    "execution_count": 13,
                    "metadata": {},
                    "output_type": "execute_result"
                }
            ],
            "source": [
                "df.tail()"
            ]
        },
        {
            "cell_type": "markdown",
            "metadata": {},
            "source": [
                "### Mostrar a forma do dataframe (linhas, colunas)\n"
            ]
        },
        {
            "cell_type": "code",
            "execution_count": null,
            "metadata": {},
            "outputs": [],
            "source": [
                "df.shape"
            ]
        },
        {
            "cell_type": "markdown",
            "metadata": {},
            "source": [
                "### Descrição estatística do dataframe\n"
            ]
        },
        {
            "cell_type": "code",
            "execution_count": null,
            "metadata": {},
            "outputs": [],
            "source": [
                "df.describe()"
            ]
        },
        {
            "cell_type": "markdown",
            "metadata": {},
            "source": [
                "### Informações completas do dataframe\n"
            ]
        },
        {
            "cell_type": "code",
            "execution_count": null,
            "metadata": {},
            "outputs": [],
            "source": [
                "df.info()"
            ]
        },
        {
            "cell_type": "markdown",
            "metadata": {},
            "source": [
                "### Mostrar colunas\n"
            ]
        },
        {
            "cell_type": "code",
            "execution_count": null,
            "metadata": {},
            "outputs": [],
            "source": [
                "df.columns"
            ]
        },
        {
            "cell_type": "markdown",
            "metadata": {},
            "source": [
                "## Manipulando DataFrames"
            ]
        },
        {
            "cell_type": "markdown",
            "metadata": {},
            "source": [
                "### Renomear colunas\n"
            ]
        },
        {
            "cell_type": "code",
            "execution_count": null,
            "metadata": {},
            "outputs": [],
            "source": [
                "df.rename(columns={'Nomes': 'nome', 'Idades': 'idade', 'Cidades': 'cidade'}, inplace=True)"
            ]
        },
        {
            "cell_type": "code",
            "execution_count": null,
            "metadata": {},
            "outputs": [],
            "source": [
                "df"
            ]
        },
        {
            "cell_type": "markdown",
            "metadata": {},
            "source": [
                "### Adicionar colunas\n"
            ]
        },
        {
            "cell_type": "code",
            "execution_count": null,
            "metadata": {},
            "outputs": [],
            "source": [
                "df['nota'] = [9.5, 4.0, 8.8, 3.0]\n",
                "df"
            ]
        },
        {
            "cell_type": "code",
            "execution_count": null,
            "metadata": {},
            "outputs": [],
            "source": [
                "df['id'] = [1, 2, 3, 4]\n",
                "df"
            ]
        },
        {
            "cell_type": "markdown",
            "metadata": {},
            "source": [
                "### Deletar uma coluna\n"
            ]
        },
        {
            "cell_type": "code",
            "execution_count": null,
            "metadata": {},
            "outputs": [],
            "source": [
                "df.drop('id', axis=1, inplace=True)\n",
                "df"
            ]
        },
        {
            "cell_type": "markdown",
            "metadata": {},
            "source": [
                "### Incluir um linha"
            ]
        },
        {
            "cell_type": "code",
            "execution_count": null,
            "metadata": {},
            "outputs": [],
            "source": [
                "# incluir Pedro ao final do dataframe\n",
                "df.loc[4] = ['Pedro', 50, 'Salvador', 3.0]"
            ]
        },
        {
            "cell_type": "code",
            "execution_count": null,
            "metadata": {},
            "outputs": [],
            "source": [
                "df"
            ]
        },
        {
            "cell_type": "code",
            "execution_count": null,
            "metadata": {},
            "outputs": [],
            "source": [
                "df.loc[0] = ['Pedro', 50, 'Salvador', 3.0]\n",
                "df"
            ]
        },
        {
            "cell_type": "code",
            "execution_count": null,
            "metadata": {},
            "outputs": [],
            "source": [
                "df.loc[0] = ['João', 25, 'Manaus', 9.5]\n",
                "df"
            ]
        },
        {
            "cell_type": "markdown",
            "metadata": {},
            "source": [
                "### Excluir uma linha pelo índice"
            ]
        },
        {
            "cell_type": "code",
            "execution_count": null,
            "metadata": {},
            "outputs": [],
            "source": [
                "df.drop(4, axis=0, inplace=True)"
            ]
        },
        {
            "cell_type": "code",
            "execution_count": null,
            "metadata": {},
            "outputs": [],
            "source": [
                "df"
            ]
        },
        {
            "cell_type": "markdown",
            "metadata": {},
            "source": [
                "É possível excluir várias linhas de uma vez, passando uma lista de índices para a função `drop()`.\n",
                "\n",
                "```python\n",
                "df.drop([1,2,3], axis=0, inplace=True)\n",
                "```"
            ]
        },
        {
            "cell_type": "markdown",
            "metadata": {},
            "source": [
                "## Concatenando DataFrames\n",
                "\n",
                "Para isso usamos a função `pd.concat()`."
            ]
        },
        {
            "cell_type": "code",
            "execution_count": null,
            "metadata": {},
            "outputs": [],
            "source": [
                "novo_dict = {\n",
                "    'Nomes': ['Luiza', 'Carolina', 'Vitor', 'Gabriel'],\n",
                "    'Idades': [20, 20, 22, 31],\n",
                "    'Cidades': ['Manaus', 'Rio de Janeiro', 'Salvador', 'Salvador']\n",
                "}"
            ]
        },
        {
            "cell_type": "code",
            "execution_count": null,
            "metadata": {},
            "outputs": [],
            "source": [
                "df2 = pd.DataFrame(novo_dict)\n"
            ]
        },
        {
            "cell_type": "code",
            "execution_count": null,
            "metadata": {},
            "outputs": [],
            "source": [
                "# concatenar dataframes\n",
                "df_concat = pd.concat([df, df2])\n"
            ]
        },
        {
            "cell_type": "code",
            "execution_count": null,
            "metadata": {},
            "outputs": [],
            "source": [
                "df_concat"
            ]
        },
        {
            "cell_type": "markdown",
            "metadata": {},
            "source": [
                "É importante avaliar os nomes das colunas e o índice dos dataframes que serão concatenados. Se os nomes das colunas forem diferentes, o pandas irá criar novas colunas. Se os índices forem diferentes, o pandas irá criar novas linhas (com valores NaN)."
            ]
        },
        {
            "cell_type": "code",
            "execution_count": null,
            "metadata": {},
            "outputs": [],
            "source": [
                "df.columns"
            ]
        },
        {
            "cell_type": "code",
            "execution_count": null,
            "metadata": {},
            "outputs": [],
            "source": [
                "df2.columns"
            ]
        },
        {
            "cell_type": "code",
            "execution_count": null,
            "metadata": {},
            "outputs": [],
            "source": [
                "df2.rename(columns={'Nomes': 'nome', 'Idades': 'idade', 'Cidades': 'cidade'}, inplace=True)\n",
                "df2.columns"
            ]
        },
        {
            "cell_type": "code",
            "execution_count": null,
            "metadata": {},
            "outputs": [],
            "source": [
                "df_concat = pd.concat([df, df2])\n",
                "df_concat"
            ]
        },
        {
            "cell_type": "code",
            "execution_count": null,
            "metadata": {},
            "outputs": [],
            "source": [
                "df_concat.loc[0]"
            ]
        },
        {
            "cell_type": "markdown",
            "metadata": {},
            "source": [
                "### Resetar o index após a concatenação\n"
            ]
        },
        {
            "cell_type": "code",
            "execution_count": null,
            "metadata": {},
            "outputs": [],
            "source": [
                "# resetar o index e remover o antigo\n",
                "df_concat.reset_index(inplace=True)\n",
                "df_concat"
            ]
        },
        {
            "cell_type": "code",
            "execution_count": null,
            "metadata": {},
            "outputs": [],
            "source": [
                "df_concat.loc[0]"
            ]
        },
        {
            "cell_type": "code",
            "execution_count": null,
            "metadata": {},
            "outputs": [],
            "source": [
                "# remover a coluna `index` para 'index original'\n",
                "df_concat.rename(columns={'index': 'index_original'}, inplace=True)\n",
                "df_concat"
            ]
        },
        {
            "cell_type": "markdown",
            "metadata": {},
            "source": [
                "### NaN - Not a Number - valores ausentes\n"
            ]
        },
        {
            "cell_type": "code",
            "execution_count": null,
            "metadata": {},
            "outputs": [],
            "source": [
                "# média das notas\n",
                "df_concat['nota'].mean()"
            ]
        },
        {
            "cell_type": "code",
            "execution_count": null,
            "metadata": {},
            "outputs": [],
            "source": [
                "# Verificar se há valores nulos\n",
                "df_concat['nota'].isnull()\n"
            ]
        },
        {
            "cell_type": "code",
            "execution_count": null,
            "metadata": {},
            "outputs": [],
            "source": [
                "# preencher valores ausentes\n",
                "df_concat.fillna(0, inplace=True)\n",
                "df_concat"
            ]
        },
        {
            "cell_type": "markdown",
            "metadata": {},
            "source": [
                "Também é possível deletar linhas que possuem valores NaN em uma coluna específica.\n",
                "\n",
                "```python\n",
                "#drop NAN values\n",
                "df.dropna(inplace=True)\n",
                "```"
            ]
        },
        {
            "cell_type": "markdown",
            "metadata": {},
            "source": [
                "### Trabalhando com números inteiros e floats"
            ]
        },
        {
            "cell_type": "code",
            "execution_count": null,
            "metadata": {},
            "outputs": [],
            "source": [
                "# Encontrar o maior valor da coluna `nota`\n",
                "df_concat['nota'].max()\n"
            ]
        },
        {
            "cell_type": "code",
            "execution_count": null,
            "metadata": {},
            "outputs": [],
            "source": [
                "#  Encontrar o menor valor da coluna `nota`\n",
                "print(df_concat['nota'].min())"
            ]
        },
        {
            "cell_type": "code",
            "execution_count": null,
            "metadata": {},
            "outputs": [],
            "source": [
                "# Encontrar a média da coluna `nota`\n",
                "print(df_concat['nota'].mean())\n"
            ]
        },
        {
            "cell_type": "code",
            "execution_count": null,
            "metadata": {},
            "outputs": [],
            "source": [
                "# Encontrar a mediana da coluna `nota`\n",
                "print(df_concat['nota'].median())"
            ]
        },
        {
            "cell_type": "markdown",
            "metadata": {},
            "source": [
                "## Contar valores únicos em uma coluna"
            ]
        },
        {
            "cell_type": "code",
            "execution_count": null,
            "metadata": {},
            "outputs": [],
            "source": [
                "# Contar a quantidade de valores da coluna `nota`\n",
                "df_concat['nota'].value_counts()"
            ]
        },
        {
            "cell_type": "markdown",
            "metadata": {},
            "source": [
                "## Iterar nas linhas de um DataFrame: `iterrows()`\n",
                "\n",
                "Iterar nas linhas da coluna `nota` e imprimir apenas as notas maiores que 7."
            ]
        },
        {
            "cell_type": "code",
            "execution_count": null,
            "metadata": {},
            "outputs": [],
            "source": [
                "# iterar nas linhas e imprimir apenas notas maiores do que 7\n",
                "for index, row in df_concat.iterrows():\n",
                "    if row['nota'] > 7:\n",
                "        print(row['nome'], row['nota'])"
            ]
        },
        {
            "cell_type": "markdown",
            "metadata": {},
            "source": [
                "### query()\n",
                "\n",
                "E se quisermos iterar nas linhas e criar um novo DataFrame apenas com as linhas que possuem notas menores que 7?"
            ]
        },
        {
            "cell_type": "code",
            "execution_count": null,
            "metadata": {},
            "outputs": [],
            "source": [
                "# iterar nas linhas e criar um \n",
                "# novo dataframe com as notas menores do que 7\n",
                "lista = []\n",
                "for index, row in df_concat.iterrows():\n",
                "    if row['nota'] < 7:\n",
                "        lista.append(row)\n",
                "\n",
                "df_novo = pd.DataFrame(lista)\n",
                "df_novo"
            ]
        },
        {
            "cell_type": "markdown",
            "metadata": {},
            "source": [
                "Há um jeito mais fácil de fazer isso: usando o método `query()`."
            ]
        },
        {
            "cell_type": "code",
            "execution_count": null,
            "metadata": {},
            "outputs": [],
            "source": [
                "df_novo = df_concat.query('nota < 7')\n",
                "df_novo"
            ]
        },
        {
            "cell_type": "markdown",
            "metadata": {},
            "source": [
                "## Agrupando valores para análise"
            ]
        },
        {
            "cell_type": "code",
            "execution_count": null,
            "metadata": {},
            "outputs": [],
            "source": [
                "df_concat.groupby('cidade')"
            ]
        },
        {
            "cell_type": "code",
            "execution_count": null,
            "metadata": {},
            "outputs": [],
            "source": [
                "# group by a column and count the number of occurrences\n",
                "df_concat.groupby(by=['nota']).count()"
            ]
        },
        {
            "cell_type": "code",
            "execution_count": null,
            "metadata": {},
            "outputs": [],
            "source": [
                "#Avaliar quais cidades tiveram mais notas maiores que 7 a partir do dataframe `df`.\n",
                "df_concat.query('nota > 7').groupby('cidade').count()\n"
            ]
        },
        {
            "cell_type": "markdown",
            "metadata": {},
            "source": [
                "## apply(): aplicar uma função a uma coluna"
            ]
        },
        {
            "cell_type": "markdown",
            "metadata": {},
            "source": [
                "Vamos tentar incluir uma coluna 'resultado'. \n",
                "\n",
                "- Se a nota for igual ou maior que 7, o resultado é aprovado',\n",
                "- Se for entre 5 e 6.9, o resultado é 'recuperação',\n",
                "- Sse for menor que 5, o resultado é 'reprovado'"
            ]
        },
        {
            "cell_type": "code",
            "execution_count": null,
            "metadata": {},
            "outputs": [],
            "source": [
                "def calcular_resultado(nota):\n",
                "    \"\"\"\n",
                "    Recebe uma nota e retorna o resultado do aluno com base na nota.\n",
                "    \"\"\"\n",
                "    if nota >= 7:\n",
                "        return 'aprovado'\n",
                "    elif nota >= 5 and nota < 7:\n",
                "        return 'recuperação'\n",
                "    else:\n",
                "        return 'reprovado'\n"
            ]
        },
        {
            "cell_type": "code",
            "execution_count": null,
            "metadata": {},
            "outputs": [],
            "source": [
                "# método apply: aplica uma função a cada linha do dataframe\n",
                "df_concat['resultado'] = df_concat['nota'].apply(calcular_resultado)\n",
                "df_concat"
            ]
        },
        {
            "cell_type": "markdown",
            "metadata": {},
            "source": [
                "Mesma coisa com uma função lambda (que é uma função anônima e não vamos nos aprofundar nisso agora):\n",
                "\n",
                "```python\n",
                "df['resultado'] = df['nota'].apply(lambda x: 'aprovado' if x >= 7 else ('recuperação' if x >= 5 and x < 7 else 'reprovado'))\n",
                "```"
            ]
        },
        {
            "cell_type": "markdown",
            "metadata": {},
            "source": [
                "## Salvando um DataFrame em um arquivo\n",
                "\n",
                "Podemos salvar nosso DataFrame em arquivos com diferentes formatos: csv, excel, json, html, etc.\n",
                "\n",
                "Veja a tabela com alguns formatos e os métodos de salvar:\n",
                "\n",
                "|Formato|Salvar com|\n",
                "|---|---|\n",
                "|csv|`df.to_csv('nome_do_arquivo.csv')`|\n",
                "|json|`df.to_json('nome_do_arquivo.json')`|\n",
                "|html|`df.to_html('nome_do_arquivo.html')`|\n"
            ]
        },
        {
            "cell_type": "code",
            "execution_count": null,
            "metadata": {},
            "outputs": [],
            "source": [
                "df_concat.to_csv('resultado_completo.csv', index=False, sep=',')"
            ]
        },
        {
            "cell_type": "code",
            "execution_count": null,
            "metadata": {},
            "outputs": [],
            "source": [
                "# salvar o dataframe em um arquivo csv apenas com as colunas nome, nota e resultado\n",
                "df_concat[['nome', 'nota', 'resultado']].to_csv('resultado.csv', index=False)\n"
            ]
        },
        {
            "cell_type": "code",
            "execution_count": null,
            "metadata": {},
            "outputs": [],
            "source": [
                "# salvar em json com utf-8\n",
                "df_concat[['nome', 'nota', 'resultado']].to_json('resultado.json', orient='records', force_ascii=False)\n"
            ]
        },
        {
            "cell_type": "code",
            "execution_count": null,
            "metadata": {},
            "outputs": [],
            "source": [
                "df_concat[['nome', 'nota', 'resultado']].to_html('resultado.html', index=False)"
            ]
        },
        {
            "cell_type": "markdown",
            "metadata": {},
            "source": [
                "Na célula acima, utilizamos df_concat[[]] retorna um novo dataframe."
            ]
        },
        {
            "cell_type": "markdown",
            "metadata": {},
            "source": [
                "# Analisando dados na prática\n",
                "\n",
                "Exemplo com dados da HDB."
            ]
        },
        {
            "cell_type": "markdown",
            "metadata": {},
            "source": [
                "Aqui veremos um exemplo com um dataset mais complexo, com 69 linhas e 8 colunas. \n",
                "\n",
                "Esse dataset é resultado da utilização da ferramenta pyHDB, uma ferramenta de auxílio metodológico para a pesquisa na Hemeroteca Digital Brasileira da Biblioteca Nacional.\n",
                "\n",
                "A ferramenta foi desenvolvida por mim e está disponível no GitHub: https://ericbrasiln.github.io/pyHDB/.\n",
                "\n",
                "Para mais informações sobre seus usos e aspectos teóricos e metodológicos de seu desenvolvimento veja o artigo [pyHDB - Ferramenta Heurística para a Hemeroteca Digital Brasileira: utilizando técnicas de web scraping para a pesquisa em História](https://www.historiadahistoriografia.com.br/revista/article/view/1904) publicano na Revista História da Historiografia."
            ]
        },
        {
            "cell_type": "markdown",
            "metadata": {},
            "source": [
                "Ao invés de criar um dataframe a partir de um dicionário como fizemos anteriormente, vamos criar um dataframe a partir de um arquivo CSV.\n",
                "\n",
                "O CSV (*Comma Separated Values*) é um formato de arquivo que armazena dados tabulares em texto simples. \n",
                "\n",
                "Cada linha do arquivo de texto é uma linha da tabela e as colunas são separadas por vírgulas. Esses arquivos podem ser abertos em qualquer editor de texto ou planilha.\n",
                "\n",
                "Para criar um dataframe a partir de um arquivo CSV, basta utilizar a função `pd.read_csv()` e passar o caminho do arquivo como argumento."
            ]
        },
        {
            "cell_type": "markdown",
            "metadata": {},
            "source": [
                "Também é possível criar um dataframe a partir de um arquivo Excel, utilizando a função `pd.read_excel()`."
            ]
        },
        {
            "cell_type": "markdown",
            "metadata": {},
            "source": [
                "Antes de analisarmos nossos dados com o pandas, vamos dar uma olhada no arquivo CSV em um editor de planilhas comum."
            ]
        },
        {
            "cell_type": "code",
            "execution_count": null,
            "metadata": {},
            "outputs": [],
            "source": [
                "df_hdb = pd.read_csv('./assets/moyses-zacharias_2023-09-13_14-52-48.csv')"
            ]
        },
        {
            "cell_type": "code",
            "execution_count": null,
            "metadata": {},
            "outputs": [],
            "source": [
                "df_hdb.head()"
            ]
        },
        {
            "cell_type": "code",
            "execution_count": null,
            "metadata": {},
            "outputs": [],
            "source": [
                "df_hdb = pd.read_csv('./assets/moyses-zacharias_2023-09-13_14-52-48.csv', index_col=0)\n"
            ]
        },
        {
            "cell_type": "code",
            "execution_count": null,
            "metadata": {},
            "outputs": [],
            "source": [
                "df_hdb.head(10)"
            ]
        },
        {
            "cell_type": "code",
            "execution_count": null,
            "metadata": {},
            "outputs": [],
            "source": [
                "df_hdb.tail(10)"
            ]
        },
        {
            "cell_type": "code",
            "execution_count": null,
            "metadata": {},
            "outputs": [],
            "source": [
                "# print column names\n",
                "df_hdb.columns"
            ]
        },
        {
            "cell_type": "code",
            "execution_count": null,
            "metadata": {},
            "outputs": [],
            "source": [
                "df_hdb.shape"
            ]
        },
        {
            "cell_type": "code",
            "execution_count": null,
            "metadata": {},
            "outputs": [],
            "source": [
                "df_hdb.info()"
            ]
        },
        {
            "cell_type": "code",
            "execution_count": null,
            "metadata": {},
            "outputs": [],
            "source": [
                "df_hdb['Acervo'][:20]"
            ]
        },
        {
            "cell_type": "code",
            "execution_count": null,
            "metadata": {},
            "outputs": [],
            "source": [
                "# group by column 'Acervo'\n",
                "gb_acervo = df_hdb.groupby('Acervo')\n",
                "gb_acervo"
            ]
        },
        {
            "cell_type": "code",
            "execution_count": null,
            "metadata": {},
            "outputs": [],
            "source": [
                "# count the number of occurrences and sort by descending order\n",
                "gb_acervo.size()"
            ]
        },
        {
            "cell_type": "code",
            "execution_count": null,
            "metadata": {},
            "outputs": [],
            "source": [
                "gb_acervo.size().sort_values(ascending=False)"
            ]
        },
        {
            "cell_type": "markdown",
            "metadata": {},
            "source": [
                "Para fazermos uma análise mais completa dos dados, precisamos excluir o padrão '- XXXX a XXXX' e manter apenas o nome do jornal na coluna 'Acervo'. \n",
                "\n",
                "Mas como faremos isso? um por um?\n",
                "\n",
                "Vamos usar expressões regulares! E pedir uma ajudinha ao ChatGPT-3.\n",
                "\n",
                "## Expressões regulares\n",
                "\n",
                "Expressões regulares são padrões utilizados para selecionar combinações de caracteres em uma string. Tudo é possível com expressões regulares, mas ao mesmo tempo elas podem ser bem complicadas.\n",
                "\n",
                "Veja a lição [Understanding Regular Expressions](http://programminghistorian.org/en/lessons/understanding-regular-expressions) de Doug Knox no Programming Historian para saber mais sobre expressões regulares. Ela ainda está em inglês (e se alguém quiser traduzir para publicarmos em português, será muito bem-vindo e só entrar em contato comigo!)."
            ]
        },
        {
            "cell_type": "markdown",
            "metadata": {},
            "source": [
                "Prompt para o ChatGPT-3.5:\n",
                "\n",
                ">Escreva uma expressão regular para selecionar o padrão '- XXXX a XXXX'. O XXXX corresponde a um ano de quatro dígitos.\n",
                "\n",
                "Essa foi a resposta que o ChatGPT-3.5 me deu:\n",
                "\n",
                "---\n",
                "Você pode usar a seguinte expressão regular para selecionar o padrão \"- XXXX a XXXX\", onde XXXX representa um ano de quatro dígitos:\n",
                "\n",
                "```regex\n",
                "-\\s\\d{4}\\s+a\\s+\\d{4}\n",
                "```\n",
                "\n",
                "Aqui está uma breve explicação da expressão regular:\n",
                "\n",
                "- `-\\s`: Isso corresponde ao caractere \"-\" seguido de um espaço em branco.\n",
                "- `\\d{4}`: Isso corresponde a quatro dígitos consecutivos, que representam um ano de quatro dígitos.\n",
                "- `\\s+a\\s+`: Isso corresponde a um ou mais espaços em branco, seguidos pela letra \"a\" em minúsculas e mais um ou mais espaços em branco.\n",
                "- `\\d{4}`: Isso corresponde novamente a quatro dígitos consecutivos para o segundo ano de quatro dígitos.\n",
                "\n",
                "Essa expressão regular capturará padrões como \"- 2021 a 2022\", onde \"2021\" e \"2022\" são anos de quatro dígitos separados pelo texto \"a\".\n"
            ]
        },
        {
            "cell_type": "code",
            "execution_count": null,
            "metadata": {},
            "outputs": [],
            "source": [
                "# use re to find the pattern and replace it with a new string\n",
                "df_hdb['Acervo'] = df_hdb['Acervo'].str.replace(' -\\s\\d{4}\\s+a\\s+\\d{4}', '', regex=True)\n"
            ]
        },
        {
            "cell_type": "code",
            "execution_count": null,
            "metadata": {},
            "outputs": [],
            "source": [
                "df_hdb['Acervo'] = df_hdb['Acervo'].str.replace(' -\\s\\d{4}', '', regex=True)"
            ]
        },
        {
            "cell_type": "code",
            "execution_count": null,
            "metadata": {},
            "outputs": [],
            "source": [
                "df_hdb['Acervo']"
            ]
        },
        {
            "cell_type": "code",
            "execution_count": null,
            "metadata": {},
            "outputs": [],
            "source": [
                "df_hdb_acervo = df_hdb.groupby('Acervo').size().sort_values(ascending=False)\n",
                "df_hdb_acervo"
            ]
        },
        {
            "cell_type": "code",
            "execution_count": null,
            "metadata": {},
            "outputs": [],
            "source": [
                "df_hdb_acervo.info()"
            ]
        },
        {
            "cell_type": "code",
            "execution_count": null,
            "metadata": {},
            "outputs": [],
            "source": [
                "# group by column 'Acervo' and 'Ano'\n",
                "df_hdb_acervo_ano = df_hdb.groupby(['Acervo', 'Ano']).size()\n",
                "df_hdb_acervo_ano"
            ]
        },
        {
            "cell_type": "code",
            "execution_count": null,
            "metadata": {},
            "outputs": [],
            "source": [
                "# plot a bar chart of column 'Ano' and 'Acervo'\n",
                "df_hdb['Acervo'].value_counts().plot(kind='bar')\n"
            ]
        },
        {
            "cell_type": "code",
            "execution_count": null,
            "metadata": {},
            "outputs": [],
            "source": [
                "# filter by 'Ano'\n",
                "df_hdb.filter(items=['Ano', 'Acervo'])\\\n",
                "    .groupby(['Ano', 'Acervo'])\\\n",
                "    .size()\n",
                "    "
            ]
        },
        {
            "cell_type": "code",
            "execution_count": null,
            "metadata": {},
            "outputs": [],
            "source": [
                "# filter by 'Ano' between 1901 and 1940\n",
                "df2 = df_hdb.filter(items=['Ano', 'Acervo'])\\\n",
                "          .query('Ano > 1901 and Ano < 1940')\\\n",
                "              "
            ]
        },
        {
            "cell_type": "code",
            "execution_count": null,
            "metadata": {},
            "outputs": [],
            "source": [
                "df2"
            ]
        },
        {
            "cell_type": "code",
            "execution_count": null,
            "metadata": {},
            "outputs": [],
            "source": [
                "df2.sort_values(by='Ano', ascending=True)"
            ]
        },
        {
            "cell_type": "code",
            "execution_count": null,
            "metadata": {},
            "outputs": [],
            "source": [
                "# contar anos com maior frequência e  mostrar num gráfico\n",
                "df2['Ano'].value_counts().plot(kind='bar')"
            ]
        },
        {
            "cell_type": "code",
            "execution_count": null,
            "metadata": {},
            "outputs": [],
            "source": [
                "# contar anos com maior frequência e  mostrar num gráfico, ordenando por ano\n",
                "df2['Ano'].value_counts().sort_index().plot(kind='bar')\n"
            ]
        },
        {
            "cell_type": "code",
            "execution_count": null,
            "metadata": {},
            "outputs": [],
            "source": [
                "df2['Acervo'].value_counts().plot(kind='bar')"
            ]
        },
        {
            "cell_type": "markdown",
            "metadata": {},
            "source": [
                "---\n",
                "\n",
                "[Próximo →](dia4.ipynb)\n",
                "\n",
                "[← Anterior](dia2.md)\n",
                "\n",
                "[↑ Início](./README.md)"
            ]
        }
    ],
    "metadata": {
        "interpreter": {
            "hash": "31f2aee4e71d21fbe5cf8b01ff0e069b9275f58929596ceb00d14d90e3e16cd6"
        },
        "kernelspec": {
            "display_name": "Python 3.9.5 64-bit",
            "name": "python3"
        },
        "language_info": {
            "codemirror_mode": {
                "name": "ipython",
                "version": 3
            },
            "file_extension": ".py",
            "mimetype": "text/x-python",
            "name": "python",
            "nbconvert_exporter": "python",
            "pygments_lexer": "ipython3",
            "version": "3.10.12"
        },
        "orig_nbformat": 4
    },
    "nbformat": 4,
    "nbformat_minor": 2
}
