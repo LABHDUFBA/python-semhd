{
    "cells": [
        {
            "cell_type": "markdown",
            "metadata": {},
            "source": [
                "# Pandas"
            ]
        },
        {
            "cell_type": "markdown",
            "metadata": {},
            "source": [
                "ChatGPT-3 definindo Pandas, a partir do seguinte prompt: \"defina pandas em um parágrafo, destacando sua importância para análise de dados\"\n",
                "\n",
                ">O pandas é uma poderosa biblioteca de Python amplamente utilizada na análise de dados. Sua importância reside na capacidade de simplificar e agilizar tarefas relacionadas à manipulação e exploração de dados tabulares, como planilhas ou tabelas de bancos de dados. Com o pandas, os analistas de dados podem facilmente importar, limpar, transformar, agregar e visualizar dados, permitindo uma compreensão mais profunda e insights valiosos a partir de conjuntos de dados complexos. Ao oferecer uma estrutura de dados flexível chamada DataFrame, o pandas se tornou uma ferramenta indispensável para cientistas de dados, analistas de negócios e pesquisadores em diversas áreas, contribuindo significativamente para a eficiência e qualidade das análises de dados."
            ]
        },
        {
            "cell_type": "markdown",
            "metadata": {},
            "source": [
                "DataFrames: são estruturas de dados tabulares semelhantes a tabelas de banco de dados ou planilhas do Excel."
            ]
        },
        {
            "cell_type": "markdown",
            "metadata": {},
            "source": [
                "## Instalando a biblioteca Pandas\n",
                "\n",
                "```bash\n",
                "pip install pandas\n",
                "```\n",
                "\n",
                "O `pip` é um gerenciador de pacotes do Python. Ele é usado para instalar e gerenciar pacotes de software escritos na linguagem Python.\n",
                "\n",
                "Para saber mais sobre instalação e uso do pip, veja a lição \"Instalação de Módulos Python com pip\" de Fred Gibbs no [The Programming Historian](https://programminghistorian.org/pt/licoes/instalacao-modulos-python-pip)."
            ]
        },
        {
            "cell_type": "markdown",
            "metadata": {},
            "source": [
                "## Importando a biblioteca Pandas\n",
                "\n",
                "Para utilizar a biblioteca Pandas, é preciso importá-la no seu código. Para isso, basta usar o comando `import` seguido do nome da biblioteca:"
            ]
        },
        {
            "cell_type": "code",
            "execution_count": null,
            "metadata": {},
            "outputs": [],
            "source": [
                "import pandas as pd"
            ]
        },
        {
            "cell_type": "markdown",
            "metadata": {},
            "source": [
                "## Criando um Dataframe a partir de um dicionário\n",
                "\n",
                "```python\n",
                "df = pd.DataFrame({'col1': [1, 2], 'col2': [3, 4]})\n",
                "```\n",
                "\n",
                "Um dicionário no Python é uma estrutura de dados que armazena pares de chave-valor. Em python, definimos um dicionário utilizando chaves {} e separando cada par chave-valor com dois pontos :. Cada chave é associada a um valor, que pode ser um número, uma string, uma lista, um dicionário, etc.\n",
                "\n",
                "No exemplo acima, o dicionário possui duas chaves: 'col1' e 'col2'. O pandas utiliza as chaves do dicionário para criar os nomes das colunas do DataFrame e as listas de valores para criar as linhas do DataFrame.\n",
                "\n",
                "Para criar um objeto DataFrame a partir de um dicionário, basta passar o dicionário como argumento para a função `pd.DataFrame()`. Lembrando que `pd` é o alias (apelidinho) que utilizamos para importar a biblioteca pandas.\n",
                "\n",
                "No exemplo abaixo, vamos criar um dicionário com três chaves: 'A', 'B' e 'C'. Cada chave possui uma lista com cinco valores inteiros. \n",
                "    \n",
                "Em seguida, vamos criar um DataFrame a partir do dicionário."
            ]
        },
        {
            "cell_type": "code",
            "execution_count": null,
            "metadata": {},
            "outputs": [],
            "source": [
                "# criando uma variável para receber o dicionário\n",
                "dados = {'A': [1,2,3,4,5],\n",
                "         'B': [6,7,8,9,10],\n",
                "         'C': [0,10,100,1000,10000],}"
            ]
        },
        {
            "cell_type": "code",
            "execution_count": null,
            "metadata": {},
            "outputs": [],
            "source": [
                "type(dados)"
            ]
        },
        {
            "cell_type": "code",
            "execution_count": null,
            "metadata": {},
            "outputs": [],
            "source": [
                "# Create a dataframe\n",
                "df = pd.DataFrame(dados)"
            ]
        },
        {
            "cell_type": "code",
            "execution_count": null,
            "metadata": {},
            "outputs": [],
            "source": [
                "# print the dataframe's shape\n",
                "print(df.shape)"
            ]
        },
        {
            "cell_type": "code",
            "execution_count": null,
            "metadata": {},
            "outputs": [],
            "source": [
                "# head of the dataframe\n",
                "print(df.head())"
            ]
        },
        {
            "cell_type": "code",
            "execution_count": null,
            "metadata": {},
            "outputs": [],
            "source": [
                "# rename a column\n",
                "df.rename(columns={'A': 'a', 'B': 'b', 'C': 'c'}, inplace=True)"
            ]
        },
        {
            "cell_type": "code",
            "execution_count": null,
            "metadata": {},
            "outputs": [],
            "source": [
                "# delete a column\n",
                "df.drop('c', axis=1, inplace=True)"
            ]
        },
        {
            "cell_type": "code",
            "execution_count": null,
            "metadata": {},
            "outputs": [],
            "source": [
                "# add a column\n",
                "df['D'] = [1, 1, 5, 5, 5]"
            ]
        },
        {
            "cell_type": "code",
            "execution_count": null,
            "metadata": {},
            "outputs": [],
            "source": [
                "#find the max value in a column\n",
                "print(df['a'].max())\n",
                "\n",
                "#find the min value in a column\n",
                "print(df['a'].min())"
            ]
        },
        {
            "cell_type": "code",
            "execution_count": null,
            "metadata": {},
            "outputs": [],
            "source": [
                "#find the mean value in a column\n",
                "print(df['a'].mean())\n",
                "\n",
                "#find the median value in a column\n",
                "print(df['a'].median())"
            ]
        },
        {
            "cell_type": "code",
            "execution_count": null,
            "metadata": {},
            "outputs": [],
            "source": [
                "# count the number of occurrences of a value in a column\n",
                "print(df['D'].value_counts())"
            ]
        },
        {
            "cell_type": "code",
            "execution_count": null,
            "metadata": {},
            "outputs": [],
            "source": [
                "#new dataframe selecting two columns\n",
                "selected_columns = ['a', 'D']\n",
                "df_selected = df[selected_columns]\n",
                "# or df_selected = df.filter(items=selected_columns)\n",
                "print(df_selected)"
            ]
        },
        {
            "cell_type": "code",
            "execution_count": null,
            "metadata": {},
            "outputs": [],
            "source": [
                "#drop NAN values\n",
                "df_selected.dropna(inplace=True)\n",
                "print(df_selected)"
            ]
        },
        {
            "cell_type": "code",
            "execution_count": null,
            "metadata": {},
            "outputs": [],
            "source": [
                "# group by a column\n",
                "df_grouped = df.groupby('a')\n",
                "print(df_grouped.size())\n"
            ]
        },
        {
            "cell_type": "markdown",
            "metadata": {},
            "source": [
                "# Exemplo com HDB"
            ]
        },
        {
            "cell_type": "code",
            "execution_count": null,
            "metadata": {},
            "outputs": [],
            "source": [
                "df_hdb = pd.read_csv('hdb_est.csv')\n",
                "print(df_hdb.head())"
            ]
        },
        {
            "cell_type": "code",
            "execution_count": null,
            "metadata": {},
            "outputs": [],
            "source": [
                "# print column names\n",
                "print(df_hdb.columns)"
            ]
        },
        {
            "cell_type": "code",
            "execution_count": null,
            "metadata": {},
            "outputs": [],
            "source": [
                "# drop column 'Unnamed: 0'\n",
                "df_hdb.drop('Unnamed: 0', axis=1, inplace=True)"
            ]
        },
        {
            "cell_type": "code",
            "execution_count": null,
            "metadata": {},
            "outputs": [],
            "source": [
                "# use re to find the pattern and replace it with a new string\n",
                "df_hdb['Acervo'] = df_hdb['Acervo'].str.replace('- \\d{4} a \\d{4}', '', regex=True)\n",
                "df_hdb['Acervo'] = df_hdb['Acervo'].str.replace('- \\d{4}', '', regex=True)"
            ]
        },
        {
            "cell_type": "code",
            "execution_count": null,
            "metadata": {},
            "outputs": [],
            "source": [
                "# group by column 'Acervo'\n",
                "df_hdb_acervo = df_hdb.groupby('Acervo')\n",
                "print(df_hdb_acervo.size())"
            ]
        },
        {
            "cell_type": "code",
            "execution_count": null,
            "metadata": {},
            "outputs": [],
            "source": [
                "# group by column 'Acervo' and 'Ano'\n",
                "df_hdb_acervo_ano = df_hdb.groupby(['Acervo', 'Ano'])\n",
                "print(df_hdb_acervo_ano.size())"
            ]
        },
        {
            "cell_type": "code",
            "execution_count": null,
            "metadata": {},
            "outputs": [],
            "source": [
                "# histogram of column 'Ano'\n",
                "df_hdb_acervo_ano['Ano'].hist()"
            ]
        },
        {
            "cell_type": "code",
            "execution_count": null,
            "metadata": {},
            "outputs": [],
            "source": [
                "# plot a bar chart of column 'Ano' and 'Acervo'\n",
                "df_hdb['Acervo'].value_counts().plot(kind='bar')\n"
            ]
        },
        {
            "cell_type": "code",
            "execution_count": null,
            "metadata": {},
            "outputs": [],
            "source": [
                "# filter by 'Acervo'\n",
                "df_hdb.filter(items=['Ano', 'Acervo'])\\\n",
                "    .groupby(['Acervo', 'Ano'])\\\n",
                "    .size()\n"
            ]
        },
        {
            "cell_type": "code",
            "execution_count": null,
            "metadata": {},
            "outputs": [],
            "source": [
                "# filter by 'Ano'\n",
                "df_hdb.filter(items=['Ano', 'Acervo'])\\\n",
                "    .groupby(['Ano', 'Acervo'])\\\n",
                "    .size()\n",
                "    "
            ]
        },
        {
            "cell_type": "code",
            "execution_count": null,
            "metadata": {},
            "outputs": [],
            "source": [
                "# filter by 'Ano' between 1901 and 1940\n",
                "df2 = df_hdb.filter(items=['Ano', 'Acervo'])\\\n",
                "          .query('Ano > 1901 and Ano < 1940')\\\n",
                "              "
            ]
        },
        {
            "cell_type": "markdown",
            "metadata": {},
            "source": [
                "---\n",
                "\n",
                "[Próximo →](dia4.ipynb)\n",
                "\n",
                "[← Anterior](dia2.md)\n",
                "\n",
                "[↑ Início](./README.md)"
            ]
        }
    ],
    "metadata": {
        "interpreter": {
            "hash": "31f2aee4e71d21fbe5cf8b01ff0e069b9275f58929596ceb00d14d90e3e16cd6"
        },
        "kernelspec": {
            "display_name": "Python 3.9.5 64-bit",
            "name": "python3"
        },
        "language_info": {
            "codemirror_mode": {
                "name": "ipython",
                "version": 3
            },
            "file_extension": ".py",
            "mimetype": "text/x-python",
            "name": "python",
            "nbconvert_exporter": "python",
            "pygments_lexer": "ipython3",
            "version": "3.9.5"
        },
        "orig_nbformat": 4
    },
    "nbformat": 4,
    "nbformat_minor": 2
}
