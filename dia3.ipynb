{
    "cells": [
        {
            "cell_type": "markdown",
            "metadata": {},
            "source": [
                "# Pandas"
            ]
        },
        {
            "cell_type": "markdown",
            "metadata": {},
            "source": [
                "ChatGPT-3 definindo Pandas, a partir do seguinte prompt: \"defina pandas em um parágrafo, destacando sua importância para análise de dados\"\n",
                "\n",
                ">O pandas é uma poderosa biblioteca de Python amplamente utilizada na análise de dados. Sua importância reside na capacidade de simplificar e agilizar tarefas relacionadas à manipulação e exploração de dados tabulares, como planilhas ou tabelas de bancos de dados. Com o pandas, os analistas de dados podem facilmente importar, limpar, transformar, agregar e visualizar dados, permitindo uma compreensão mais profunda e insights valiosos a partir de conjuntos de dados complexos. Ao oferecer uma estrutura de dados flexível chamada DataFrame, o pandas se tornou uma ferramenta indispensável para cientistas de dados, analistas de negócios e pesquisadores em diversas áreas, contribuindo significativamente para a eficiência e qualidade das análises de dados."
            ]
        },
        {
            "cell_type": "markdown",
            "metadata": {},
            "source": [
                "DataFrames: são estruturas de dados tabulares semelhantes a tabelas de banco de dados ou planilhas do Excel."
            ]
        },
        {
            "cell_type": "markdown",
            "metadata": {},
            "source": [
                "## Instalando a biblioteca Pandas\n",
                "\n",
                "```bash\n",
                "pip install pandas\n",
                "```\n",
                "\n",
                "O `pip` é um gerenciador de pacotes do Python. Ele é usado para instalar e gerenciar pacotes de software escritos na linguagem Python.\n",
                "\n",
                "Para saber mais sobre instalação e uso do pip, veja a lição \"Instalação de Módulos Python com pip\" de Fred Gibbs no [The Programming Historian](https://programminghistorian.org/pt/licoes/instalacao-modulos-python-pip)."
            ]
        },
        {
            "cell_type": "markdown",
            "metadata": {},
            "source": [
                "## Importando a biblioteca Pandas\n",
                "\n",
                "Para utilizar a biblioteca Pandas, é preciso importá-la no seu código. Para isso, basta usar o comando `import` seguido do nome da biblioteca:"
            ]
        },
        {
            "cell_type": "code",
            "execution_count": 1,
            "metadata": {},
            "outputs": [],
            "source": [
                "import pandas as pd"
            ]
        },
        {
            "cell_type": "markdown",
            "metadata": {},
            "source": [
                "## Criando um *Dataframe* a partir de um dicionário"
            ]
        },
        {
            "cell_type": "markdown",
            "metadata": {},
            "source": [
                "```python\n",
                "df = pd.DataFrame(<seus dados aqui>)\n",
                "```"
            ]
        },
        {
            "cell_type": "markdown",
            "metadata": {},
            "source": [
                "Para criar um objeto DataFrame, basta passar seus dados como argumento para a função `pd.DataFrame()`. Lembrando que `pd` é o alias (*apelidinho*) que utilizamos para importar a biblioteca pandas.\n",
                "\n",
                "No exemplo abaixo, vamos criar um dicionário com três chaves: 'A', 'B' e 'C'. Cada chave possui uma lista com cinco valores inteiros. \n",
                "    \n",
                "Em seguida, vamos criar um DataFrame a partir do dicionário."
            ]
        },
        {
            "cell_type": "code",
            "execution_count": 2,
            "metadata": {},
            "outputs": [],
            "source": [
                "# criando uma variável para receber o dicionário\n",
                "dados = {'A': [1,2,3,4,5],\n",
                "         'B': [6,7,8,9,10],\n",
                "         'C': [0,10,100,1000,10000]}"
            ]
        },
        {
            "cell_type": "code",
            "execution_count": 3,
            "metadata": {},
            "outputs": [
                {
                    "data": {
                        "text/plain": [
                            "{'A': [1, 2, 3, 4, 5], 'B': [6, 7, 8, 9, 10], 'C': [0, 10, 100, 1000, 10000]}"
                        ]
                    },
                    "execution_count": 3,
                    "metadata": {},
                    "output_type": "execute_result"
                }
            ],
            "source": [
                "dados"
            ]
        },
        {
            "cell_type": "code",
            "execution_count": 4,
            "metadata": {},
            "outputs": [
                {
                    "data": {
                        "text/plain": [
                            "dict"
                        ]
                    },
                    "execution_count": 4,
                    "metadata": {},
                    "output_type": "execute_result"
                }
            ],
            "source": [
                "type(dados)"
            ]
        },
        {
            "cell_type": "code",
            "execution_count": 5,
            "metadata": {},
            "outputs": [],
            "source": [
                "dicionario = {\n",
                "    'Nomes': ['João', 'Maria', 'José', 'Pedro'],\n",
                "    'Idades': [25, 30, 40, 50],\n",
                "    'Cidades': ['Manaus', 'Rio de Janeiro', 'Salvador', 'Salvador']\n",
                "}"
            ]
        },
        {
            "cell_type": "code",
            "execution_count": 6,
            "metadata": {},
            "outputs": [
                {
                    "data": {
                        "text/plain": [
                            "dict_keys(['Nomes', 'Idades', 'Cidades'])"
                        ]
                    },
                    "execution_count": 6,
                    "metadata": {},
                    "output_type": "execute_result"
                }
            ],
            "source": [
                "dicionario.keys()"
            ]
        },
        {
            "cell_type": "code",
            "execution_count": 7,
            "metadata": {},
            "outputs": [
                {
                    "data": {
                        "text/plain": [
                            "dict_values([['João', 'Maria', 'José', 'Pedro'], [25, 30, 40, 50], ['Manaus', 'Rio de Janeiro', 'Salvador', 'Salvador']])"
                        ]
                    },
                    "execution_count": 7,
                    "metadata": {},
                    "output_type": "execute_result"
                }
            ],
            "source": [
                "dicionario.values()\n"
            ]
        },
        {
            "cell_type": "code",
            "execution_count": 8,
            "metadata": {},
            "outputs": [
                {
                    "data": {
                        "text/plain": [
                            "['João', 'Maria', 'José', 'Pedro']"
                        ]
                    },
                    "execution_count": 8,
                    "metadata": {},
                    "output_type": "execute_result"
                }
            ],
            "source": [
                "dicionario['Nomes']"
            ]
        },
        {
            "cell_type": "code",
            "execution_count": 9,
            "metadata": {},
            "outputs": [
                {
                    "data": {
                        "text/plain": [
                            "[25, 30, 40, 50]"
                        ]
                    },
                    "execution_count": 9,
                    "metadata": {},
                    "output_type": "execute_result"
                }
            ],
            "source": [
                "dicionario['Idades']"
            ]
        },
        {
            "cell_type": "code",
            "execution_count": 10,
            "metadata": {},
            "outputs": [
                {
                    "data": {
                        "text/plain": [
                            "['Manaus', 'Rio de Janeiro', 'Salvador', 'Salvador']"
                        ]
                    },
                    "execution_count": 10,
                    "metadata": {},
                    "output_type": "execute_result"
                }
            ],
            "source": [
                "dicionario['Cidades']"
            ]
        },
        {
            "cell_type": "markdown",
            "metadata": {},
            "source": [
                "\n",
                "No exemplo acima, o dicionário possui três chaves: 'Nomes', 'Idades' e 'Cidades'. Cada chave é associada a uma lista de valores.\n",
                "\n",
                "Se passarmos esse dicionário como argumento para a função `pd.DataFrame()`, o pandas irá criar um DataFrame com três colunas (a partir das chaves) e cinco linhas (a partir dos valores)."
            ]
        },
        {
            "cell_type": "code",
            "execution_count": 11,
            "metadata": {},
            "outputs": [],
            "source": [
                "# Criar um dataframe\n",
                "df = pd.DataFrame(dicionario)"
            ]
        },
        {
            "cell_type": "markdown",
            "metadata": {},
            "source": [
                "## Informações gerais sobre o DataFrame\n",
                "\n",
                "Vamos começar com o exemplo simples do DataFrame criado a partir do dicionário de nomes, idades e cidades.\n",
                "\n",
                "Antes de explorar os dados de forma mais aprofundada, vamos verificar algumas informações gerais sobre o DataFrame."
            ]
        },
        {
            "cell_type": "markdown",
            "metadata": {},
            "source": [
                "### Primeiras linhas\n"
            ]
        },
        {
            "cell_type": "code",
            "execution_count": 12,
            "metadata": {},
            "outputs": [
                {
                    "data": {
                        "text/html": [
                            "<div>\n",
                            "<style scoped>\n",
                            "    .dataframe tbody tr th:only-of-type {\n",
                            "        vertical-align: middle;\n",
                            "    }\n",
                            "\n",
                            "    .dataframe tbody tr th {\n",
                            "        vertical-align: top;\n",
                            "    }\n",
                            "\n",
                            "    .dataframe thead th {\n",
                            "        text-align: right;\n",
                            "    }\n",
                            "</style>\n",
                            "<table border=\"1\" class=\"dataframe\">\n",
                            "  <thead>\n",
                            "    <tr style=\"text-align: right;\">\n",
                            "      <th></th>\n",
                            "      <th>Nomes</th>\n",
                            "      <th>Idades</th>\n",
                            "      <th>Cidades</th>\n",
                            "    </tr>\n",
                            "  </thead>\n",
                            "  <tbody>\n",
                            "    <tr>\n",
                            "      <th>0</th>\n",
                            "      <td>João</td>\n",
                            "      <td>25</td>\n",
                            "      <td>Manaus</td>\n",
                            "    </tr>\n",
                            "    <tr>\n",
                            "      <th>1</th>\n",
                            "      <td>Maria</td>\n",
                            "      <td>30</td>\n",
                            "      <td>Rio de Janeiro</td>\n",
                            "    </tr>\n",
                            "    <tr>\n",
                            "      <th>2</th>\n",
                            "      <td>José</td>\n",
                            "      <td>40</td>\n",
                            "      <td>Salvador</td>\n",
                            "    </tr>\n",
                            "    <tr>\n",
                            "      <th>3</th>\n",
                            "      <td>Pedro</td>\n",
                            "      <td>50</td>\n",
                            "      <td>Salvador</td>\n",
                            "    </tr>\n",
                            "  </tbody>\n",
                            "</table>\n",
                            "</div>"
                        ],
                        "text/plain": [
                            "   Nomes  Idades         Cidades\n",
                            "0   João      25          Manaus\n",
                            "1  Maria      30  Rio de Janeiro\n",
                            "2   José      40        Salvador\n",
                            "3  Pedro      50        Salvador"
                        ]
                    },
                    "execution_count": 12,
                    "metadata": {},
                    "output_type": "execute_result"
                }
            ],
            "source": [
                "df.head()"
            ]
        },
        {
            "cell_type": "markdown",
            "metadata": {},
            "source": [
                "### Últimas linhas\n"
            ]
        },
        {
            "cell_type": "code",
            "execution_count": 13,
            "metadata": {},
            "outputs": [
                {
                    "data": {
                        "text/html": [
                            "<div>\n",
                            "<style scoped>\n",
                            "    .dataframe tbody tr th:only-of-type {\n",
                            "        vertical-align: middle;\n",
                            "    }\n",
                            "\n",
                            "    .dataframe tbody tr th {\n",
                            "        vertical-align: top;\n",
                            "    }\n",
                            "\n",
                            "    .dataframe thead th {\n",
                            "        text-align: right;\n",
                            "    }\n",
                            "</style>\n",
                            "<table border=\"1\" class=\"dataframe\">\n",
                            "  <thead>\n",
                            "    <tr style=\"text-align: right;\">\n",
                            "      <th></th>\n",
                            "      <th>Nomes</th>\n",
                            "      <th>Idades</th>\n",
                            "      <th>Cidades</th>\n",
                            "    </tr>\n",
                            "  </thead>\n",
                            "  <tbody>\n",
                            "    <tr>\n",
                            "      <th>0</th>\n",
                            "      <td>João</td>\n",
                            "      <td>25</td>\n",
                            "      <td>Manaus</td>\n",
                            "    </tr>\n",
                            "    <tr>\n",
                            "      <th>1</th>\n",
                            "      <td>Maria</td>\n",
                            "      <td>30</td>\n",
                            "      <td>Rio de Janeiro</td>\n",
                            "    </tr>\n",
                            "    <tr>\n",
                            "      <th>2</th>\n",
                            "      <td>José</td>\n",
                            "      <td>40</td>\n",
                            "      <td>Salvador</td>\n",
                            "    </tr>\n",
                            "    <tr>\n",
                            "      <th>3</th>\n",
                            "      <td>Pedro</td>\n",
                            "      <td>50</td>\n",
                            "      <td>Salvador</td>\n",
                            "    </tr>\n",
                            "  </tbody>\n",
                            "</table>\n",
                            "</div>"
                        ],
                        "text/plain": [
                            "   Nomes  Idades         Cidades\n",
                            "0   João      25          Manaus\n",
                            "1  Maria      30  Rio de Janeiro\n",
                            "2   José      40        Salvador\n",
                            "3  Pedro      50        Salvador"
                        ]
                    },
                    "execution_count": 13,
                    "metadata": {},
                    "output_type": "execute_result"
                }
            ],
            "source": [
                "df.tail()"
            ]
        },
        {
            "cell_type": "markdown",
            "metadata": {},
            "source": [
                "### Mostrar a forma do dataframe (linhas, colunas)\n"
            ]
        },
        {
            "cell_type": "code",
            "execution_count": 14,
            "metadata": {},
            "outputs": [
                {
                    "data": {
                        "text/plain": [
                            "(4, 3)"
                        ]
                    },
                    "execution_count": 14,
                    "metadata": {},
                    "output_type": "execute_result"
                }
            ],
            "source": [
                "df.shape"
            ]
        },
        {
            "cell_type": "markdown",
            "metadata": {},
            "source": [
                "### Descrição estatística do dataframe\n"
            ]
        },
        {
            "cell_type": "code",
            "execution_count": 15,
            "metadata": {},
            "outputs": [
                {
                    "data": {
                        "text/html": [
                            "<div>\n",
                            "<style scoped>\n",
                            "    .dataframe tbody tr th:only-of-type {\n",
                            "        vertical-align: middle;\n",
                            "    }\n",
                            "\n",
                            "    .dataframe tbody tr th {\n",
                            "        vertical-align: top;\n",
                            "    }\n",
                            "\n",
                            "    .dataframe thead th {\n",
                            "        text-align: right;\n",
                            "    }\n",
                            "</style>\n",
                            "<table border=\"1\" class=\"dataframe\">\n",
                            "  <thead>\n",
                            "    <tr style=\"text-align: right;\">\n",
                            "      <th></th>\n",
                            "      <th>Idades</th>\n",
                            "    </tr>\n",
                            "  </thead>\n",
                            "  <tbody>\n",
                            "    <tr>\n",
                            "      <th>count</th>\n",
                            "      <td>4.000000</td>\n",
                            "    </tr>\n",
                            "    <tr>\n",
                            "      <th>mean</th>\n",
                            "      <td>36.250000</td>\n",
                            "    </tr>\n",
                            "    <tr>\n",
                            "      <th>std</th>\n",
                            "      <td>11.086779</td>\n",
                            "    </tr>\n",
                            "    <tr>\n",
                            "      <th>min</th>\n",
                            "      <td>25.000000</td>\n",
                            "    </tr>\n",
                            "    <tr>\n",
                            "      <th>25%</th>\n",
                            "      <td>28.750000</td>\n",
                            "    </tr>\n",
                            "    <tr>\n",
                            "      <th>50%</th>\n",
                            "      <td>35.000000</td>\n",
                            "    </tr>\n",
                            "    <tr>\n",
                            "      <th>75%</th>\n",
                            "      <td>42.500000</td>\n",
                            "    </tr>\n",
                            "    <tr>\n",
                            "      <th>max</th>\n",
                            "      <td>50.000000</td>\n",
                            "    </tr>\n",
                            "  </tbody>\n",
                            "</table>\n",
                            "</div>"
                        ],
                        "text/plain": [
                            "          Idades\n",
                            "count   4.000000\n",
                            "mean   36.250000\n",
                            "std    11.086779\n",
                            "min    25.000000\n",
                            "25%    28.750000\n",
                            "50%    35.000000\n",
                            "75%    42.500000\n",
                            "max    50.000000"
                        ]
                    },
                    "execution_count": 15,
                    "metadata": {},
                    "output_type": "execute_result"
                }
            ],
            "source": [
                "df.describe()"
            ]
        },
        {
            "cell_type": "markdown",
            "metadata": {},
            "source": [
                "### Informações completas do dataframe\n"
            ]
        },
        {
            "cell_type": "code",
            "execution_count": 16,
            "metadata": {},
            "outputs": [
                {
                    "name": "stdout",
                    "output_type": "stream",
                    "text": [
                        "<class 'pandas.core.frame.DataFrame'>\n",
                        "RangeIndex: 4 entries, 0 to 3\n",
                        "Data columns (total 3 columns):\n",
                        " #   Column   Non-Null Count  Dtype \n",
                        "---  ------   --------------  ----- \n",
                        " 0   Nomes    4 non-null      object\n",
                        " 1   Idades   4 non-null      int64 \n",
                        " 2   Cidades  4 non-null      object\n",
                        "dtypes: int64(1), object(2)\n",
                        "memory usage: 224.0+ bytes\n"
                    ]
                }
            ],
            "source": [
                "df.info()"
            ]
        },
        {
            "cell_type": "markdown",
            "metadata": {},
            "source": [
                "### Mostrar colunas\n"
            ]
        },
        {
            "cell_type": "code",
            "execution_count": 17,
            "metadata": {},
            "outputs": [
                {
                    "data": {
                        "text/plain": [
                            "Index(['Nomes', 'Idades', 'Cidades'], dtype='object')"
                        ]
                    },
                    "execution_count": 17,
                    "metadata": {},
                    "output_type": "execute_result"
                }
            ],
            "source": [
                "df.columns"
            ]
        },
        {
            "cell_type": "markdown",
            "metadata": {},
            "source": [
                "## Manipulando DataFrames"
            ]
        },
        {
            "cell_type": "markdown",
            "metadata": {},
            "source": [
                "### Renomear colunas\n"
            ]
        },
        {
            "cell_type": "code",
            "execution_count": 22,
            "metadata": {},
            "outputs": [],
            "source": [
                "df.rename(columns={'Nomes': 'nome', 'Idades': 'idade', 'Cidades': 'cidade'}, inplace=True)"
            ]
        },
        {
            "cell_type": "code",
            "execution_count": 23,
            "metadata": {},
            "outputs": [
                {
                    "data": {
                        "text/html": [
                            "<div>\n",
                            "<style scoped>\n",
                            "    .dataframe tbody tr th:only-of-type {\n",
                            "        vertical-align: middle;\n",
                            "    }\n",
                            "\n",
                            "    .dataframe tbody tr th {\n",
                            "        vertical-align: top;\n",
                            "    }\n",
                            "\n",
                            "    .dataframe thead th {\n",
                            "        text-align: right;\n",
                            "    }\n",
                            "</style>\n",
                            "<table border=\"1\" class=\"dataframe\">\n",
                            "  <thead>\n",
                            "    <tr style=\"text-align: right;\">\n",
                            "      <th></th>\n",
                            "      <th>nome</th>\n",
                            "      <th>idade</th>\n",
                            "      <th>cidade</th>\n",
                            "    </tr>\n",
                            "  </thead>\n",
                            "  <tbody>\n",
                            "    <tr>\n",
                            "      <th>0</th>\n",
                            "      <td>João</td>\n",
                            "      <td>25</td>\n",
                            "      <td>Manaus</td>\n",
                            "    </tr>\n",
                            "    <tr>\n",
                            "      <th>1</th>\n",
                            "      <td>Maria</td>\n",
                            "      <td>30</td>\n",
                            "      <td>Rio de Janeiro</td>\n",
                            "    </tr>\n",
                            "    <tr>\n",
                            "      <th>2</th>\n",
                            "      <td>José</td>\n",
                            "      <td>40</td>\n",
                            "      <td>Salvador</td>\n",
                            "    </tr>\n",
                            "    <tr>\n",
                            "      <th>3</th>\n",
                            "      <td>Pedro</td>\n",
                            "      <td>50</td>\n",
                            "      <td>Salvador</td>\n",
                            "    </tr>\n",
                            "  </tbody>\n",
                            "</table>\n",
                            "</div>"
                        ],
                        "text/plain": [
                            "    nome  idade          cidade\n",
                            "0   João     25          Manaus\n",
                            "1  Maria     30  Rio de Janeiro\n",
                            "2   José     40        Salvador\n",
                            "3  Pedro     50        Salvador"
                        ]
                    },
                    "execution_count": 23,
                    "metadata": {},
                    "output_type": "execute_result"
                }
            ],
            "source": [
                "df"
            ]
        },
        {
            "cell_type": "markdown",
            "metadata": {},
            "source": [
                "### Adicionar colunas\n"
            ]
        },
        {
            "cell_type": "code",
            "execution_count": 24,
            "metadata": {},
            "outputs": [
                {
                    "data": {
                        "text/html": [
                            "<div>\n",
                            "<style scoped>\n",
                            "    .dataframe tbody tr th:only-of-type {\n",
                            "        vertical-align: middle;\n",
                            "    }\n",
                            "\n",
                            "    .dataframe tbody tr th {\n",
                            "        vertical-align: top;\n",
                            "    }\n",
                            "\n",
                            "    .dataframe thead th {\n",
                            "        text-align: right;\n",
                            "    }\n",
                            "</style>\n",
                            "<table border=\"1\" class=\"dataframe\">\n",
                            "  <thead>\n",
                            "    <tr style=\"text-align: right;\">\n",
                            "      <th></th>\n",
                            "      <th>nome</th>\n",
                            "      <th>idade</th>\n",
                            "      <th>cidade</th>\n",
                            "      <th>nota</th>\n",
                            "    </tr>\n",
                            "  </thead>\n",
                            "  <tbody>\n",
                            "    <tr>\n",
                            "      <th>0</th>\n",
                            "      <td>João</td>\n",
                            "      <td>25</td>\n",
                            "      <td>Manaus</td>\n",
                            "      <td>9.5</td>\n",
                            "    </tr>\n",
                            "    <tr>\n",
                            "      <th>1</th>\n",
                            "      <td>Maria</td>\n",
                            "      <td>30</td>\n",
                            "      <td>Rio de Janeiro</td>\n",
                            "      <td>4.0</td>\n",
                            "    </tr>\n",
                            "    <tr>\n",
                            "      <th>2</th>\n",
                            "      <td>José</td>\n",
                            "      <td>40</td>\n",
                            "      <td>Salvador</td>\n",
                            "      <td>8.8</td>\n",
                            "    </tr>\n",
                            "    <tr>\n",
                            "      <th>3</th>\n",
                            "      <td>Pedro</td>\n",
                            "      <td>50</td>\n",
                            "      <td>Salvador</td>\n",
                            "      <td>3.0</td>\n",
                            "    </tr>\n",
                            "  </tbody>\n",
                            "</table>\n",
                            "</div>"
                        ],
                        "text/plain": [
                            "    nome  idade          cidade  nota\n",
                            "0   João     25          Manaus   9.5\n",
                            "1  Maria     30  Rio de Janeiro   4.0\n",
                            "2   José     40        Salvador   8.8\n",
                            "3  Pedro     50        Salvador   3.0"
                        ]
                    },
                    "execution_count": 24,
                    "metadata": {},
                    "output_type": "execute_result"
                }
            ],
            "source": [
                "df['nota'] = [9.5, 4.0, 8.8, 3.0]\n",
                "df"
            ]
        },
        {
            "cell_type": "code",
            "execution_count": 26,
            "metadata": {},
            "outputs": [
                {
                    "data": {
                        "text/html": [
                            "<div>\n",
                            "<style scoped>\n",
                            "    .dataframe tbody tr th:only-of-type {\n",
                            "        vertical-align: middle;\n",
                            "    }\n",
                            "\n",
                            "    .dataframe tbody tr th {\n",
                            "        vertical-align: top;\n",
                            "    }\n",
                            "\n",
                            "    .dataframe thead th {\n",
                            "        text-align: right;\n",
                            "    }\n",
                            "</style>\n",
                            "<table border=\"1\" class=\"dataframe\">\n",
                            "  <thead>\n",
                            "    <tr style=\"text-align: right;\">\n",
                            "      <th></th>\n",
                            "      <th>nome</th>\n",
                            "      <th>idade</th>\n",
                            "      <th>cidade</th>\n",
                            "      <th>nota</th>\n",
                            "      <th>id</th>\n",
                            "    </tr>\n",
                            "  </thead>\n",
                            "  <tbody>\n",
                            "    <tr>\n",
                            "      <th>0</th>\n",
                            "      <td>João</td>\n",
                            "      <td>25</td>\n",
                            "      <td>Manaus</td>\n",
                            "      <td>9.5</td>\n",
                            "      <td>1</td>\n",
                            "    </tr>\n",
                            "    <tr>\n",
                            "      <th>1</th>\n",
                            "      <td>Maria</td>\n",
                            "      <td>30</td>\n",
                            "      <td>Rio de Janeiro</td>\n",
                            "      <td>4.0</td>\n",
                            "      <td>2</td>\n",
                            "    </tr>\n",
                            "    <tr>\n",
                            "      <th>2</th>\n",
                            "      <td>José</td>\n",
                            "      <td>40</td>\n",
                            "      <td>Salvador</td>\n",
                            "      <td>8.8</td>\n",
                            "      <td>3</td>\n",
                            "    </tr>\n",
                            "    <tr>\n",
                            "      <th>3</th>\n",
                            "      <td>Pedro</td>\n",
                            "      <td>50</td>\n",
                            "      <td>Salvador</td>\n",
                            "      <td>3.0</td>\n",
                            "      <td>4</td>\n",
                            "    </tr>\n",
                            "  </tbody>\n",
                            "</table>\n",
                            "</div>"
                        ],
                        "text/plain": [
                            "    nome  idade          cidade  nota  id\n",
                            "0   João     25          Manaus   9.5   1\n",
                            "1  Maria     30  Rio de Janeiro   4.0   2\n",
                            "2   José     40        Salvador   8.8   3\n",
                            "3  Pedro     50        Salvador   3.0   4"
                        ]
                    },
                    "execution_count": 26,
                    "metadata": {},
                    "output_type": "execute_result"
                }
            ],
            "source": [
                "df['id'] = [1, 2, 3, 4]\n",
                "df"
            ]
        },
        {
            "cell_type": "markdown",
            "metadata": {},
            "source": [
                "### Deletar uma coluna\n"
            ]
        },
        {
            "cell_type": "code",
            "execution_count": 27,
            "metadata": {},
            "outputs": [
                {
                    "data": {
                        "text/html": [
                            "<div>\n",
                            "<style scoped>\n",
                            "    .dataframe tbody tr th:only-of-type {\n",
                            "        vertical-align: middle;\n",
                            "    }\n",
                            "\n",
                            "    .dataframe tbody tr th {\n",
                            "        vertical-align: top;\n",
                            "    }\n",
                            "\n",
                            "    .dataframe thead th {\n",
                            "        text-align: right;\n",
                            "    }\n",
                            "</style>\n",
                            "<table border=\"1\" class=\"dataframe\">\n",
                            "  <thead>\n",
                            "    <tr style=\"text-align: right;\">\n",
                            "      <th></th>\n",
                            "      <th>nome</th>\n",
                            "      <th>idade</th>\n",
                            "      <th>cidade</th>\n",
                            "      <th>nota</th>\n",
                            "    </tr>\n",
                            "  </thead>\n",
                            "  <tbody>\n",
                            "    <tr>\n",
                            "      <th>0</th>\n",
                            "      <td>João</td>\n",
                            "      <td>25</td>\n",
                            "      <td>Manaus</td>\n",
                            "      <td>9.5</td>\n",
                            "    </tr>\n",
                            "    <tr>\n",
                            "      <th>1</th>\n",
                            "      <td>Maria</td>\n",
                            "      <td>30</td>\n",
                            "      <td>Rio de Janeiro</td>\n",
                            "      <td>4.0</td>\n",
                            "    </tr>\n",
                            "    <tr>\n",
                            "      <th>2</th>\n",
                            "      <td>José</td>\n",
                            "      <td>40</td>\n",
                            "      <td>Salvador</td>\n",
                            "      <td>8.8</td>\n",
                            "    </tr>\n",
                            "    <tr>\n",
                            "      <th>3</th>\n",
                            "      <td>Pedro</td>\n",
                            "      <td>50</td>\n",
                            "      <td>Salvador</td>\n",
                            "      <td>3.0</td>\n",
                            "    </tr>\n",
                            "  </tbody>\n",
                            "</table>\n",
                            "</div>"
                        ],
                        "text/plain": [
                            "    nome  idade          cidade  nota\n",
                            "0   João     25          Manaus   9.5\n",
                            "1  Maria     30  Rio de Janeiro   4.0\n",
                            "2   José     40        Salvador   8.8\n",
                            "3  Pedro     50        Salvador   3.0"
                        ]
                    },
                    "execution_count": 27,
                    "metadata": {},
                    "output_type": "execute_result"
                }
            ],
            "source": [
                "df.drop('id', axis=1, inplace=True)\n",
                "df"
            ]
        },
        {
            "cell_type": "markdown",
            "metadata": {},
            "source": [
                "### Incluir um linha"
            ]
        },
        {
            "cell_type": "code",
            "execution_count": 28,
            "metadata": {},
            "outputs": [],
            "source": [
                "# incluir Pedro ao final do dataframe\n",
                "df.loc[4] = ['Pedro', 50, 'Salvador', 3.0]"
            ]
        },
        {
            "cell_type": "code",
            "execution_count": 29,
            "metadata": {},
            "outputs": [
                {
                    "data": {
                        "text/html": [
                            "<div>\n",
                            "<style scoped>\n",
                            "    .dataframe tbody tr th:only-of-type {\n",
                            "        vertical-align: middle;\n",
                            "    }\n",
                            "\n",
                            "    .dataframe tbody tr th {\n",
                            "        vertical-align: top;\n",
                            "    }\n",
                            "\n",
                            "    .dataframe thead th {\n",
                            "        text-align: right;\n",
                            "    }\n",
                            "</style>\n",
                            "<table border=\"1\" class=\"dataframe\">\n",
                            "  <thead>\n",
                            "    <tr style=\"text-align: right;\">\n",
                            "      <th></th>\n",
                            "      <th>nome</th>\n",
                            "      <th>idade</th>\n",
                            "      <th>cidade</th>\n",
                            "      <th>nota</th>\n",
                            "    </tr>\n",
                            "  </thead>\n",
                            "  <tbody>\n",
                            "    <tr>\n",
                            "      <th>0</th>\n",
                            "      <td>João</td>\n",
                            "      <td>25</td>\n",
                            "      <td>Manaus</td>\n",
                            "      <td>9.5</td>\n",
                            "    </tr>\n",
                            "    <tr>\n",
                            "      <th>1</th>\n",
                            "      <td>Maria</td>\n",
                            "      <td>30</td>\n",
                            "      <td>Rio de Janeiro</td>\n",
                            "      <td>4.0</td>\n",
                            "    </tr>\n",
                            "    <tr>\n",
                            "      <th>2</th>\n",
                            "      <td>José</td>\n",
                            "      <td>40</td>\n",
                            "      <td>Salvador</td>\n",
                            "      <td>8.8</td>\n",
                            "    </tr>\n",
                            "    <tr>\n",
                            "      <th>3</th>\n",
                            "      <td>Pedro</td>\n",
                            "      <td>50</td>\n",
                            "      <td>Salvador</td>\n",
                            "      <td>3.0</td>\n",
                            "    </tr>\n",
                            "    <tr>\n",
                            "      <th>4</th>\n",
                            "      <td>Pedro</td>\n",
                            "      <td>50</td>\n",
                            "      <td>Salvador</td>\n",
                            "      <td>3.0</td>\n",
                            "    </tr>\n",
                            "  </tbody>\n",
                            "</table>\n",
                            "</div>"
                        ],
                        "text/plain": [
                            "    nome  idade          cidade  nota\n",
                            "0   João     25          Manaus   9.5\n",
                            "1  Maria     30  Rio de Janeiro   4.0\n",
                            "2   José     40        Salvador   8.8\n",
                            "3  Pedro     50        Salvador   3.0\n",
                            "4  Pedro     50        Salvador   3.0"
                        ]
                    },
                    "execution_count": 29,
                    "metadata": {},
                    "output_type": "execute_result"
                }
            ],
            "source": [
                "df"
            ]
        },
        {
            "cell_type": "code",
            "execution_count": 30,
            "metadata": {},
            "outputs": [
                {
                    "data": {
                        "text/html": [
                            "<div>\n",
                            "<style scoped>\n",
                            "    .dataframe tbody tr th:only-of-type {\n",
                            "        vertical-align: middle;\n",
                            "    }\n",
                            "\n",
                            "    .dataframe tbody tr th {\n",
                            "        vertical-align: top;\n",
                            "    }\n",
                            "\n",
                            "    .dataframe thead th {\n",
                            "        text-align: right;\n",
                            "    }\n",
                            "</style>\n",
                            "<table border=\"1\" class=\"dataframe\">\n",
                            "  <thead>\n",
                            "    <tr style=\"text-align: right;\">\n",
                            "      <th></th>\n",
                            "      <th>nome</th>\n",
                            "      <th>idade</th>\n",
                            "      <th>cidade</th>\n",
                            "      <th>nota</th>\n",
                            "    </tr>\n",
                            "  </thead>\n",
                            "  <tbody>\n",
                            "    <tr>\n",
                            "      <th>0</th>\n",
                            "      <td>Pedro</td>\n",
                            "      <td>50</td>\n",
                            "      <td>Salvador</td>\n",
                            "      <td>3.0</td>\n",
                            "    </tr>\n",
                            "    <tr>\n",
                            "      <th>1</th>\n",
                            "      <td>Maria</td>\n",
                            "      <td>30</td>\n",
                            "      <td>Rio de Janeiro</td>\n",
                            "      <td>4.0</td>\n",
                            "    </tr>\n",
                            "    <tr>\n",
                            "      <th>2</th>\n",
                            "      <td>José</td>\n",
                            "      <td>40</td>\n",
                            "      <td>Salvador</td>\n",
                            "      <td>8.8</td>\n",
                            "    </tr>\n",
                            "    <tr>\n",
                            "      <th>3</th>\n",
                            "      <td>Pedro</td>\n",
                            "      <td>50</td>\n",
                            "      <td>Salvador</td>\n",
                            "      <td>3.0</td>\n",
                            "    </tr>\n",
                            "    <tr>\n",
                            "      <th>4</th>\n",
                            "      <td>Pedro</td>\n",
                            "      <td>50</td>\n",
                            "      <td>Salvador</td>\n",
                            "      <td>3.0</td>\n",
                            "    </tr>\n",
                            "  </tbody>\n",
                            "</table>\n",
                            "</div>"
                        ],
                        "text/plain": [
                            "    nome  idade          cidade  nota\n",
                            "0  Pedro     50        Salvador   3.0\n",
                            "1  Maria     30  Rio de Janeiro   4.0\n",
                            "2   José     40        Salvador   8.8\n",
                            "3  Pedro     50        Salvador   3.0\n",
                            "4  Pedro     50        Salvador   3.0"
                        ]
                    },
                    "execution_count": 30,
                    "metadata": {},
                    "output_type": "execute_result"
                }
            ],
            "source": [
                "df.loc[0] = ['Pedro', 50, 'Salvador', 3.0]\n",
                "df"
            ]
        },
        {
            "cell_type": "code",
            "execution_count": 31,
            "metadata": {},
            "outputs": [
                {
                    "data": {
                        "text/html": [
                            "<div>\n",
                            "<style scoped>\n",
                            "    .dataframe tbody tr th:only-of-type {\n",
                            "        vertical-align: middle;\n",
                            "    }\n",
                            "\n",
                            "    .dataframe tbody tr th {\n",
                            "        vertical-align: top;\n",
                            "    }\n",
                            "\n",
                            "    .dataframe thead th {\n",
                            "        text-align: right;\n",
                            "    }\n",
                            "</style>\n",
                            "<table border=\"1\" class=\"dataframe\">\n",
                            "  <thead>\n",
                            "    <tr style=\"text-align: right;\">\n",
                            "      <th></th>\n",
                            "      <th>nome</th>\n",
                            "      <th>idade</th>\n",
                            "      <th>cidade</th>\n",
                            "      <th>nota</th>\n",
                            "    </tr>\n",
                            "  </thead>\n",
                            "  <tbody>\n",
                            "    <tr>\n",
                            "      <th>0</th>\n",
                            "      <td>João</td>\n",
                            "      <td>25</td>\n",
                            "      <td>Manaus</td>\n",
                            "      <td>9.5</td>\n",
                            "    </tr>\n",
                            "    <tr>\n",
                            "      <th>1</th>\n",
                            "      <td>Maria</td>\n",
                            "      <td>30</td>\n",
                            "      <td>Rio de Janeiro</td>\n",
                            "      <td>4.0</td>\n",
                            "    </tr>\n",
                            "    <tr>\n",
                            "      <th>2</th>\n",
                            "      <td>José</td>\n",
                            "      <td>40</td>\n",
                            "      <td>Salvador</td>\n",
                            "      <td>8.8</td>\n",
                            "    </tr>\n",
                            "    <tr>\n",
                            "      <th>3</th>\n",
                            "      <td>Pedro</td>\n",
                            "      <td>50</td>\n",
                            "      <td>Salvador</td>\n",
                            "      <td>3.0</td>\n",
                            "    </tr>\n",
                            "    <tr>\n",
                            "      <th>4</th>\n",
                            "      <td>Pedro</td>\n",
                            "      <td>50</td>\n",
                            "      <td>Salvador</td>\n",
                            "      <td>3.0</td>\n",
                            "    </tr>\n",
                            "  </tbody>\n",
                            "</table>\n",
                            "</div>"
                        ],
                        "text/plain": [
                            "    nome  idade          cidade  nota\n",
                            "0   João     25          Manaus   9.5\n",
                            "1  Maria     30  Rio de Janeiro   4.0\n",
                            "2   José     40        Salvador   8.8\n",
                            "3  Pedro     50        Salvador   3.0\n",
                            "4  Pedro     50        Salvador   3.0"
                        ]
                    },
                    "execution_count": 31,
                    "metadata": {},
                    "output_type": "execute_result"
                }
            ],
            "source": [
                "df.loc[0] = ['João', 25, 'Manaus', 9.5]\n",
                "df"
            ]
        },
        {
            "cell_type": "markdown",
            "metadata": {},
            "source": [
                "### Excluir uma linha pelo índice"
            ]
        },
        {
            "cell_type": "code",
            "execution_count": 32,
            "metadata": {},
            "outputs": [],
            "source": [
                "df.drop(4, axis=0, inplace=True)"
            ]
        },
        {
            "cell_type": "code",
            "execution_count": 33,
            "metadata": {},
            "outputs": [
                {
                    "data": {
                        "text/html": [
                            "<div>\n",
                            "<style scoped>\n",
                            "    .dataframe tbody tr th:only-of-type {\n",
                            "        vertical-align: middle;\n",
                            "    }\n",
                            "\n",
                            "    .dataframe tbody tr th {\n",
                            "        vertical-align: top;\n",
                            "    }\n",
                            "\n",
                            "    .dataframe thead th {\n",
                            "        text-align: right;\n",
                            "    }\n",
                            "</style>\n",
                            "<table border=\"1\" class=\"dataframe\">\n",
                            "  <thead>\n",
                            "    <tr style=\"text-align: right;\">\n",
                            "      <th></th>\n",
                            "      <th>nome</th>\n",
                            "      <th>idade</th>\n",
                            "      <th>cidade</th>\n",
                            "      <th>nota</th>\n",
                            "    </tr>\n",
                            "  </thead>\n",
                            "  <tbody>\n",
                            "    <tr>\n",
                            "      <th>0</th>\n",
                            "      <td>João</td>\n",
                            "      <td>25</td>\n",
                            "      <td>Manaus</td>\n",
                            "      <td>9.5</td>\n",
                            "    </tr>\n",
                            "    <tr>\n",
                            "      <th>1</th>\n",
                            "      <td>Maria</td>\n",
                            "      <td>30</td>\n",
                            "      <td>Rio de Janeiro</td>\n",
                            "      <td>4.0</td>\n",
                            "    </tr>\n",
                            "    <tr>\n",
                            "      <th>2</th>\n",
                            "      <td>José</td>\n",
                            "      <td>40</td>\n",
                            "      <td>Salvador</td>\n",
                            "      <td>8.8</td>\n",
                            "    </tr>\n",
                            "    <tr>\n",
                            "      <th>3</th>\n",
                            "      <td>Pedro</td>\n",
                            "      <td>50</td>\n",
                            "      <td>Salvador</td>\n",
                            "      <td>3.0</td>\n",
                            "    </tr>\n",
                            "  </tbody>\n",
                            "</table>\n",
                            "</div>"
                        ],
                        "text/plain": [
                            "    nome  idade          cidade  nota\n",
                            "0   João     25          Manaus   9.5\n",
                            "1  Maria     30  Rio de Janeiro   4.0\n",
                            "2   José     40        Salvador   8.8\n",
                            "3  Pedro     50        Salvador   3.0"
                        ]
                    },
                    "execution_count": 33,
                    "metadata": {},
                    "output_type": "execute_result"
                }
            ],
            "source": [
                "df"
            ]
        },
        {
            "cell_type": "markdown",
            "metadata": {},
            "source": [
                "É possível excluir várias linhas de uma vez, passando uma lista de índices para a função `drop()`.\n",
                "\n",
                "```python\n",
                "df.drop([1,2,3], axis=0, inplace=True)\n",
                "```"
            ]
        },
        {
            "cell_type": "markdown",
            "metadata": {},
            "source": [
                "## Concatenando DataFrames\n",
                "\n",
                "Para isso usamos a função `pd.concat()`."
            ]
        },
        {
            "cell_type": "code",
            "execution_count": 42,
            "metadata": {},
            "outputs": [],
            "source": [
                "novo_dict = {\n",
                "    'nome': ['Luiza', 'Carolina', 'Vitor', 'Gabriel'],\n",
                "    'idade': [20, 20, 22, 31],\n",
                "    'cidade': ['Manaus', 'Rio de Janeiro', 'Salvador', 'Salvador']\n",
                "}"
            ]
        },
        {
            "cell_type": "code",
            "execution_count": 43,
            "metadata": {},
            "outputs": [],
            "source": [
                "df2 = pd.DataFrame(novo_dict)\n"
            ]
        },
        {
            "cell_type": "code",
            "execution_count": 44,
            "metadata": {},
            "outputs": [],
            "source": [
                "# concatenar dataframes\n",
                "df_concat = pd.concat([df, df2])\n"
            ]
        },
        {
            "cell_type": "code",
            "execution_count": 45,
            "metadata": {},
            "outputs": [
                {
                    "data": {
                        "text/html": [
                            "<div>\n",
                            "<style scoped>\n",
                            "    .dataframe tbody tr th:only-of-type {\n",
                            "        vertical-align: middle;\n",
                            "    }\n",
                            "\n",
                            "    .dataframe tbody tr th {\n",
                            "        vertical-align: top;\n",
                            "    }\n",
                            "\n",
                            "    .dataframe thead th {\n",
                            "        text-align: right;\n",
                            "    }\n",
                            "</style>\n",
                            "<table border=\"1\" class=\"dataframe\">\n",
                            "  <thead>\n",
                            "    <tr style=\"text-align: right;\">\n",
                            "      <th></th>\n",
                            "      <th>nome</th>\n",
                            "      <th>idade</th>\n",
                            "      <th>cidade</th>\n",
                            "      <th>nota</th>\n",
                            "    </tr>\n",
                            "  </thead>\n",
                            "  <tbody>\n",
                            "    <tr>\n",
                            "      <th>0</th>\n",
                            "      <td>João</td>\n",
                            "      <td>25</td>\n",
                            "      <td>Manaus</td>\n",
                            "      <td>9.5</td>\n",
                            "    </tr>\n",
                            "    <tr>\n",
                            "      <th>1</th>\n",
                            "      <td>Maria</td>\n",
                            "      <td>30</td>\n",
                            "      <td>Rio de Janeiro</td>\n",
                            "      <td>4.0</td>\n",
                            "    </tr>\n",
                            "    <tr>\n",
                            "      <th>2</th>\n",
                            "      <td>José</td>\n",
                            "      <td>40</td>\n",
                            "      <td>Salvador</td>\n",
                            "      <td>8.8</td>\n",
                            "    </tr>\n",
                            "    <tr>\n",
                            "      <th>3</th>\n",
                            "      <td>Pedro</td>\n",
                            "      <td>50</td>\n",
                            "      <td>Salvador</td>\n",
                            "      <td>3.0</td>\n",
                            "    </tr>\n",
                            "    <tr>\n",
                            "      <th>0</th>\n",
                            "      <td>Luiza</td>\n",
                            "      <td>20</td>\n",
                            "      <td>Manaus</td>\n",
                            "      <td>NaN</td>\n",
                            "    </tr>\n",
                            "    <tr>\n",
                            "      <th>1</th>\n",
                            "      <td>Carolina</td>\n",
                            "      <td>20</td>\n",
                            "      <td>Rio de Janeiro</td>\n",
                            "      <td>NaN</td>\n",
                            "    </tr>\n",
                            "    <tr>\n",
                            "      <th>2</th>\n",
                            "      <td>Vitor</td>\n",
                            "      <td>22</td>\n",
                            "      <td>Salvador</td>\n",
                            "      <td>NaN</td>\n",
                            "    </tr>\n",
                            "    <tr>\n",
                            "      <th>3</th>\n",
                            "      <td>Gabriel</td>\n",
                            "      <td>31</td>\n",
                            "      <td>Salvador</td>\n",
                            "      <td>NaN</td>\n",
                            "    </tr>\n",
                            "  </tbody>\n",
                            "</table>\n",
                            "</div>"
                        ],
                        "text/plain": [
                            "       nome  idade          cidade  nota\n",
                            "0      João     25          Manaus   9.5\n",
                            "1     Maria     30  Rio de Janeiro   4.0\n",
                            "2      José     40        Salvador   8.8\n",
                            "3     Pedro     50        Salvador   3.0\n",
                            "0     Luiza     20          Manaus   NaN\n",
                            "1  Carolina     20  Rio de Janeiro   NaN\n",
                            "2     Vitor     22        Salvador   NaN\n",
                            "3   Gabriel     31        Salvador   NaN"
                        ]
                    },
                    "execution_count": 45,
                    "metadata": {},
                    "output_type": "execute_result"
                }
            ],
            "source": [
                "df_concat"
            ]
        },
        {
            "cell_type": "markdown",
            "metadata": {},
            "source": [
                "É importante avaliar os nomes das colunas e o índice dos dataframes que serão concatenados. Se os nomes das colunas forem diferentes, o pandas irá criar novas colunas. Se os índices forem diferentes, o pandas irá criar novas linhas (com valores NaN)."
            ]
        },
        {
            "cell_type": "code",
            "execution_count": null,
            "metadata": {},
            "outputs": [],
            "source": [
                "df.columns"
            ]
        },
        {
            "cell_type": "code",
            "execution_count": null,
            "metadata": {},
            "outputs": [],
            "source": [
                "df2.columns"
            ]
        },
        {
            "cell_type": "code",
            "execution_count": null,
            "metadata": {},
            "outputs": [],
            "source": [
                "df.rename(columns={'Nomes': 'nome', 'Idades': 'idade', 'Cidades': 'cidade'}, inplace=True)\n",
                "df.columns"
            ]
        },
        {
            "cell_type": "code",
            "execution_count": 46,
            "metadata": {},
            "outputs": [
                {
                    "data": {
                        "text/html": [
                            "<div>\n",
                            "<style scoped>\n",
                            "    .dataframe tbody tr th:only-of-type {\n",
                            "        vertical-align: middle;\n",
                            "    }\n",
                            "\n",
                            "    .dataframe tbody tr th {\n",
                            "        vertical-align: top;\n",
                            "    }\n",
                            "\n",
                            "    .dataframe thead th {\n",
                            "        text-align: right;\n",
                            "    }\n",
                            "</style>\n",
                            "<table border=\"1\" class=\"dataframe\">\n",
                            "  <thead>\n",
                            "    <tr style=\"text-align: right;\">\n",
                            "      <th></th>\n",
                            "      <th>nome</th>\n",
                            "      <th>idade</th>\n",
                            "      <th>cidade</th>\n",
                            "      <th>nota</th>\n",
                            "    </tr>\n",
                            "  </thead>\n",
                            "  <tbody>\n",
                            "    <tr>\n",
                            "      <th>0</th>\n",
                            "      <td>João</td>\n",
                            "      <td>25</td>\n",
                            "      <td>Manaus</td>\n",
                            "      <td>9.5</td>\n",
                            "    </tr>\n",
                            "    <tr>\n",
                            "      <th>1</th>\n",
                            "      <td>Maria</td>\n",
                            "      <td>30</td>\n",
                            "      <td>Rio de Janeiro</td>\n",
                            "      <td>4.0</td>\n",
                            "    </tr>\n",
                            "    <tr>\n",
                            "      <th>2</th>\n",
                            "      <td>José</td>\n",
                            "      <td>40</td>\n",
                            "      <td>Salvador</td>\n",
                            "      <td>8.8</td>\n",
                            "    </tr>\n",
                            "    <tr>\n",
                            "      <th>3</th>\n",
                            "      <td>Pedro</td>\n",
                            "      <td>50</td>\n",
                            "      <td>Salvador</td>\n",
                            "      <td>3.0</td>\n",
                            "    </tr>\n",
                            "    <tr>\n",
                            "      <th>0</th>\n",
                            "      <td>Luiza</td>\n",
                            "      <td>20</td>\n",
                            "      <td>Manaus</td>\n",
                            "      <td>NaN</td>\n",
                            "    </tr>\n",
                            "    <tr>\n",
                            "      <th>1</th>\n",
                            "      <td>Carolina</td>\n",
                            "      <td>20</td>\n",
                            "      <td>Rio de Janeiro</td>\n",
                            "      <td>NaN</td>\n",
                            "    </tr>\n",
                            "    <tr>\n",
                            "      <th>2</th>\n",
                            "      <td>Vitor</td>\n",
                            "      <td>22</td>\n",
                            "      <td>Salvador</td>\n",
                            "      <td>NaN</td>\n",
                            "    </tr>\n",
                            "    <tr>\n",
                            "      <th>3</th>\n",
                            "      <td>Gabriel</td>\n",
                            "      <td>31</td>\n",
                            "      <td>Salvador</td>\n",
                            "      <td>NaN</td>\n",
                            "    </tr>\n",
                            "  </tbody>\n",
                            "</table>\n",
                            "</div>"
                        ],
                        "text/plain": [
                            "       nome  idade          cidade  nota\n",
                            "0      João     25          Manaus   9.5\n",
                            "1     Maria     30  Rio de Janeiro   4.0\n",
                            "2      José     40        Salvador   8.8\n",
                            "3     Pedro     50        Salvador   3.0\n",
                            "0     Luiza     20          Manaus   NaN\n",
                            "1  Carolina     20  Rio de Janeiro   NaN\n",
                            "2     Vitor     22        Salvador   NaN\n",
                            "3   Gabriel     31        Salvador   NaN"
                        ]
                    },
                    "execution_count": 46,
                    "metadata": {},
                    "output_type": "execute_result"
                }
            ],
            "source": [
                "df_concat"
            ]
        },
        {
            "cell_type": "code",
            "execution_count": 47,
            "metadata": {},
            "outputs": [
                {
                    "data": {
                        "text/html": [
                            "<div>\n",
                            "<style scoped>\n",
                            "    .dataframe tbody tr th:only-of-type {\n",
                            "        vertical-align: middle;\n",
                            "    }\n",
                            "\n",
                            "    .dataframe tbody tr th {\n",
                            "        vertical-align: top;\n",
                            "    }\n",
                            "\n",
                            "    .dataframe thead th {\n",
                            "        text-align: right;\n",
                            "    }\n",
                            "</style>\n",
                            "<table border=\"1\" class=\"dataframe\">\n",
                            "  <thead>\n",
                            "    <tr style=\"text-align: right;\">\n",
                            "      <th></th>\n",
                            "      <th>nome</th>\n",
                            "      <th>idade</th>\n",
                            "      <th>cidade</th>\n",
                            "      <th>nota</th>\n",
                            "    </tr>\n",
                            "  </thead>\n",
                            "  <tbody>\n",
                            "    <tr>\n",
                            "      <th>0</th>\n",
                            "      <td>João</td>\n",
                            "      <td>25</td>\n",
                            "      <td>Manaus</td>\n",
                            "      <td>9.5</td>\n",
                            "    </tr>\n",
                            "    <tr>\n",
                            "      <th>0</th>\n",
                            "      <td>Luiza</td>\n",
                            "      <td>20</td>\n",
                            "      <td>Manaus</td>\n",
                            "      <td>NaN</td>\n",
                            "    </tr>\n",
                            "  </tbody>\n",
                            "</table>\n",
                            "</div>"
                        ],
                        "text/plain": [
                            "    nome  idade  cidade  nota\n",
                            "0   João     25  Manaus   9.5\n",
                            "0  Luiza     20  Manaus   NaN"
                        ]
                    },
                    "execution_count": 47,
                    "metadata": {},
                    "output_type": "execute_result"
                }
            ],
            "source": [
                "df_concat.loc[0]"
            ]
        },
        {
            "cell_type": "markdown",
            "metadata": {},
            "source": [
                "### Resetar o index após a concatenação\n"
            ]
        },
        {
            "cell_type": "code",
            "execution_count": 48,
            "metadata": {},
            "outputs": [
                {
                    "data": {
                        "text/html": [
                            "<div>\n",
                            "<style scoped>\n",
                            "    .dataframe tbody tr th:only-of-type {\n",
                            "        vertical-align: middle;\n",
                            "    }\n",
                            "\n",
                            "    .dataframe tbody tr th {\n",
                            "        vertical-align: top;\n",
                            "    }\n",
                            "\n",
                            "    .dataframe thead th {\n",
                            "        text-align: right;\n",
                            "    }\n",
                            "</style>\n",
                            "<table border=\"1\" class=\"dataframe\">\n",
                            "  <thead>\n",
                            "    <tr style=\"text-align: right;\">\n",
                            "      <th></th>\n",
                            "      <th>index</th>\n",
                            "      <th>nome</th>\n",
                            "      <th>idade</th>\n",
                            "      <th>cidade</th>\n",
                            "      <th>nota</th>\n",
                            "    </tr>\n",
                            "  </thead>\n",
                            "  <tbody>\n",
                            "    <tr>\n",
                            "      <th>0</th>\n",
                            "      <td>0</td>\n",
                            "      <td>João</td>\n",
                            "      <td>25</td>\n",
                            "      <td>Manaus</td>\n",
                            "      <td>9.5</td>\n",
                            "    </tr>\n",
                            "    <tr>\n",
                            "      <th>1</th>\n",
                            "      <td>1</td>\n",
                            "      <td>Maria</td>\n",
                            "      <td>30</td>\n",
                            "      <td>Rio de Janeiro</td>\n",
                            "      <td>4.0</td>\n",
                            "    </tr>\n",
                            "    <tr>\n",
                            "      <th>2</th>\n",
                            "      <td>2</td>\n",
                            "      <td>José</td>\n",
                            "      <td>40</td>\n",
                            "      <td>Salvador</td>\n",
                            "      <td>8.8</td>\n",
                            "    </tr>\n",
                            "    <tr>\n",
                            "      <th>3</th>\n",
                            "      <td>3</td>\n",
                            "      <td>Pedro</td>\n",
                            "      <td>50</td>\n",
                            "      <td>Salvador</td>\n",
                            "      <td>3.0</td>\n",
                            "    </tr>\n",
                            "    <tr>\n",
                            "      <th>4</th>\n",
                            "      <td>0</td>\n",
                            "      <td>Luiza</td>\n",
                            "      <td>20</td>\n",
                            "      <td>Manaus</td>\n",
                            "      <td>NaN</td>\n",
                            "    </tr>\n",
                            "    <tr>\n",
                            "      <th>5</th>\n",
                            "      <td>1</td>\n",
                            "      <td>Carolina</td>\n",
                            "      <td>20</td>\n",
                            "      <td>Rio de Janeiro</td>\n",
                            "      <td>NaN</td>\n",
                            "    </tr>\n",
                            "    <tr>\n",
                            "      <th>6</th>\n",
                            "      <td>2</td>\n",
                            "      <td>Vitor</td>\n",
                            "      <td>22</td>\n",
                            "      <td>Salvador</td>\n",
                            "      <td>NaN</td>\n",
                            "    </tr>\n",
                            "    <tr>\n",
                            "      <th>7</th>\n",
                            "      <td>3</td>\n",
                            "      <td>Gabriel</td>\n",
                            "      <td>31</td>\n",
                            "      <td>Salvador</td>\n",
                            "      <td>NaN</td>\n",
                            "    </tr>\n",
                            "  </tbody>\n",
                            "</table>\n",
                            "</div>"
                        ],
                        "text/plain": [
                            "   index      nome  idade          cidade  nota\n",
                            "0      0      João     25          Manaus   9.5\n",
                            "1      1     Maria     30  Rio de Janeiro   4.0\n",
                            "2      2      José     40        Salvador   8.8\n",
                            "3      3     Pedro     50        Salvador   3.0\n",
                            "4      0     Luiza     20          Manaus   NaN\n",
                            "5      1  Carolina     20  Rio de Janeiro   NaN\n",
                            "6      2     Vitor     22        Salvador   NaN\n",
                            "7      3   Gabriel     31        Salvador   NaN"
                        ]
                    },
                    "execution_count": 48,
                    "metadata": {},
                    "output_type": "execute_result"
                }
            ],
            "source": [
                "# resetar o index e remover o antigo\n",
                "df_concat.reset_index(inplace=True)\n",
                "df_concat"
            ]
        },
        {
            "cell_type": "code",
            "execution_count": 49,
            "metadata": {},
            "outputs": [
                {
                    "data": {
                        "text/plain": [
                            "index          0\n",
                            "nome        João\n",
                            "idade         25\n",
                            "cidade    Manaus\n",
                            "nota         9.5\n",
                            "Name: 0, dtype: object"
                        ]
                    },
                    "execution_count": 49,
                    "metadata": {},
                    "output_type": "execute_result"
                }
            ],
            "source": [
                "df_concat.loc[0]"
            ]
        },
        {
            "cell_type": "code",
            "execution_count": 50,
            "metadata": {},
            "outputs": [
                {
                    "data": {
                        "text/html": [
                            "<div>\n",
                            "<style scoped>\n",
                            "    .dataframe tbody tr th:only-of-type {\n",
                            "        vertical-align: middle;\n",
                            "    }\n",
                            "\n",
                            "    .dataframe tbody tr th {\n",
                            "        vertical-align: top;\n",
                            "    }\n",
                            "\n",
                            "    .dataframe thead th {\n",
                            "        text-align: right;\n",
                            "    }\n",
                            "</style>\n",
                            "<table border=\"1\" class=\"dataframe\">\n",
                            "  <thead>\n",
                            "    <tr style=\"text-align: right;\">\n",
                            "      <th></th>\n",
                            "      <th>index_original</th>\n",
                            "      <th>nome</th>\n",
                            "      <th>idade</th>\n",
                            "      <th>cidade</th>\n",
                            "      <th>nota</th>\n",
                            "    </tr>\n",
                            "  </thead>\n",
                            "  <tbody>\n",
                            "    <tr>\n",
                            "      <th>0</th>\n",
                            "      <td>0</td>\n",
                            "      <td>João</td>\n",
                            "      <td>25</td>\n",
                            "      <td>Manaus</td>\n",
                            "      <td>9.5</td>\n",
                            "    </tr>\n",
                            "    <tr>\n",
                            "      <th>1</th>\n",
                            "      <td>1</td>\n",
                            "      <td>Maria</td>\n",
                            "      <td>30</td>\n",
                            "      <td>Rio de Janeiro</td>\n",
                            "      <td>4.0</td>\n",
                            "    </tr>\n",
                            "    <tr>\n",
                            "      <th>2</th>\n",
                            "      <td>2</td>\n",
                            "      <td>José</td>\n",
                            "      <td>40</td>\n",
                            "      <td>Salvador</td>\n",
                            "      <td>8.8</td>\n",
                            "    </tr>\n",
                            "    <tr>\n",
                            "      <th>3</th>\n",
                            "      <td>3</td>\n",
                            "      <td>Pedro</td>\n",
                            "      <td>50</td>\n",
                            "      <td>Salvador</td>\n",
                            "      <td>3.0</td>\n",
                            "    </tr>\n",
                            "    <tr>\n",
                            "      <th>4</th>\n",
                            "      <td>0</td>\n",
                            "      <td>Luiza</td>\n",
                            "      <td>20</td>\n",
                            "      <td>Manaus</td>\n",
                            "      <td>NaN</td>\n",
                            "    </tr>\n",
                            "    <tr>\n",
                            "      <th>5</th>\n",
                            "      <td>1</td>\n",
                            "      <td>Carolina</td>\n",
                            "      <td>20</td>\n",
                            "      <td>Rio de Janeiro</td>\n",
                            "      <td>NaN</td>\n",
                            "    </tr>\n",
                            "    <tr>\n",
                            "      <th>6</th>\n",
                            "      <td>2</td>\n",
                            "      <td>Vitor</td>\n",
                            "      <td>22</td>\n",
                            "      <td>Salvador</td>\n",
                            "      <td>NaN</td>\n",
                            "    </tr>\n",
                            "    <tr>\n",
                            "      <th>7</th>\n",
                            "      <td>3</td>\n",
                            "      <td>Gabriel</td>\n",
                            "      <td>31</td>\n",
                            "      <td>Salvador</td>\n",
                            "      <td>NaN</td>\n",
                            "    </tr>\n",
                            "  </tbody>\n",
                            "</table>\n",
                            "</div>"
                        ],
                        "text/plain": [
                            "   index_original      nome  idade          cidade  nota\n",
                            "0               0      João     25          Manaus   9.5\n",
                            "1               1     Maria     30  Rio de Janeiro   4.0\n",
                            "2               2      José     40        Salvador   8.8\n",
                            "3               3     Pedro     50        Salvador   3.0\n",
                            "4               0     Luiza     20          Manaus   NaN\n",
                            "5               1  Carolina     20  Rio de Janeiro   NaN\n",
                            "6               2     Vitor     22        Salvador   NaN\n",
                            "7               3   Gabriel     31        Salvador   NaN"
                        ]
                    },
                    "execution_count": 50,
                    "metadata": {},
                    "output_type": "execute_result"
                }
            ],
            "source": [
                "# remover a coluna `index` para 'index original'\n",
                "df_concat.rename(columns={'index': 'index_original'}, inplace=True)\n",
                "df_concat"
            ]
        },
        {
            "cell_type": "markdown",
            "metadata": {},
            "source": [
                "### NaN - Not a Number - valores ausentes\n"
            ]
        },
        {
            "cell_type": "code",
            "execution_count": 51,
            "metadata": {},
            "outputs": [
                {
                    "data": {
                        "text/plain": [
                            "index_original           3\n",
                            "nome               Gabriel\n",
                            "idade                   31\n",
                            "cidade            Salvador\n",
                            "nota                   NaN\n",
                            "Name: 7, dtype: object"
                        ]
                    },
                    "execution_count": 51,
                    "metadata": {},
                    "output_type": "execute_result"
                }
            ],
            "source": [
                "df_concat.loc[7]"
            ]
        },
        {
            "cell_type": "code",
            "execution_count": 52,
            "metadata": {},
            "outputs": [
                {
                    "data": {
                        "text/plain": [
                            "6.325"
                        ]
                    },
                    "execution_count": 52,
                    "metadata": {},
                    "output_type": "execute_result"
                }
            ],
            "source": [
                "# média das notas\n",
                "df_concat['nota'].mean()"
            ]
        },
        {
            "cell_type": "code",
            "execution_count": 53,
            "metadata": {},
            "outputs": [
                {
                    "data": {
                        "text/plain": [
                            "0    False\n",
                            "1    False\n",
                            "2    False\n",
                            "3    False\n",
                            "4     True\n",
                            "5     True\n",
                            "6     True\n",
                            "7     True\n",
                            "Name: nota, dtype: bool"
                        ]
                    },
                    "execution_count": 53,
                    "metadata": {},
                    "output_type": "execute_result"
                }
            ],
            "source": [
                "# Verificar se há valores nulos\n",
                "df_concat['nota'].isnull()\n"
            ]
        },
        {
            "cell_type": "code",
            "execution_count": 54,
            "metadata": {},
            "outputs": [
                {
                    "data": {
                        "text/html": [
                            "<div>\n",
                            "<style scoped>\n",
                            "    .dataframe tbody tr th:only-of-type {\n",
                            "        vertical-align: middle;\n",
                            "    }\n",
                            "\n",
                            "    .dataframe tbody tr th {\n",
                            "        vertical-align: top;\n",
                            "    }\n",
                            "\n",
                            "    .dataframe thead th {\n",
                            "        text-align: right;\n",
                            "    }\n",
                            "</style>\n",
                            "<table border=\"1\" class=\"dataframe\">\n",
                            "  <thead>\n",
                            "    <tr style=\"text-align: right;\">\n",
                            "      <th></th>\n",
                            "      <th>index_original</th>\n",
                            "      <th>nome</th>\n",
                            "      <th>idade</th>\n",
                            "      <th>cidade</th>\n",
                            "      <th>nota</th>\n",
                            "    </tr>\n",
                            "  </thead>\n",
                            "  <tbody>\n",
                            "    <tr>\n",
                            "      <th>0</th>\n",
                            "      <td>0</td>\n",
                            "      <td>João</td>\n",
                            "      <td>25</td>\n",
                            "      <td>Manaus</td>\n",
                            "      <td>9.5</td>\n",
                            "    </tr>\n",
                            "    <tr>\n",
                            "      <th>1</th>\n",
                            "      <td>1</td>\n",
                            "      <td>Maria</td>\n",
                            "      <td>30</td>\n",
                            "      <td>Rio de Janeiro</td>\n",
                            "      <td>4.0</td>\n",
                            "    </tr>\n",
                            "    <tr>\n",
                            "      <th>2</th>\n",
                            "      <td>2</td>\n",
                            "      <td>José</td>\n",
                            "      <td>40</td>\n",
                            "      <td>Salvador</td>\n",
                            "      <td>8.8</td>\n",
                            "    </tr>\n",
                            "    <tr>\n",
                            "      <th>3</th>\n",
                            "      <td>3</td>\n",
                            "      <td>Pedro</td>\n",
                            "      <td>50</td>\n",
                            "      <td>Salvador</td>\n",
                            "      <td>3.0</td>\n",
                            "    </tr>\n",
                            "    <tr>\n",
                            "      <th>4</th>\n",
                            "      <td>0</td>\n",
                            "      <td>Luiza</td>\n",
                            "      <td>20</td>\n",
                            "      <td>Manaus</td>\n",
                            "      <td>Sem Nota</td>\n",
                            "    </tr>\n",
                            "    <tr>\n",
                            "      <th>5</th>\n",
                            "      <td>1</td>\n",
                            "      <td>Carolina</td>\n",
                            "      <td>20</td>\n",
                            "      <td>Rio de Janeiro</td>\n",
                            "      <td>Sem Nota</td>\n",
                            "    </tr>\n",
                            "    <tr>\n",
                            "      <th>6</th>\n",
                            "      <td>2</td>\n",
                            "      <td>Vitor</td>\n",
                            "      <td>22</td>\n",
                            "      <td>Salvador</td>\n",
                            "      <td>Sem Nota</td>\n",
                            "    </tr>\n",
                            "    <tr>\n",
                            "      <th>7</th>\n",
                            "      <td>3</td>\n",
                            "      <td>Gabriel</td>\n",
                            "      <td>31</td>\n",
                            "      <td>Salvador</td>\n",
                            "      <td>Sem Nota</td>\n",
                            "    </tr>\n",
                            "  </tbody>\n",
                            "</table>\n",
                            "</div>"
                        ],
                        "text/plain": [
                            "   index_original      nome  idade          cidade      nota\n",
                            "0               0      João     25          Manaus       9.5\n",
                            "1               1     Maria     30  Rio de Janeiro       4.0\n",
                            "2               2      José     40        Salvador       8.8\n",
                            "3               3     Pedro     50        Salvador       3.0\n",
                            "4               0     Luiza     20          Manaus  Sem Nota\n",
                            "5               1  Carolina     20  Rio de Janeiro  Sem Nota\n",
                            "6               2     Vitor     22        Salvador  Sem Nota\n",
                            "7               3   Gabriel     31        Salvador  Sem Nota"
                        ]
                    },
                    "execution_count": 54,
                    "metadata": {},
                    "output_type": "execute_result"
                }
            ],
            "source": [
                "# preencher valores ausentes\n",
                "df_concat.fillna('Sem Nota', inplace=True)\n",
                "df_concat"
            ]
        },
        {
            "cell_type": "code",
            "execution_count": 55,
            "metadata": {},
            "outputs": [
                {
                    "ename": "TypeError",
                    "evalue": "unsupported operand type(s) for +: 'float' and 'str'",
                    "output_type": "error",
                    "traceback": [
                        "\u001b[0;31m---------------------------------------------------------------------------\u001b[0m",
                        "\u001b[0;31mTypeError\u001b[0m                                 Traceback (most recent call last)",
                        "\u001b[1;32m/home/ebn/Documentos/Github/python-puc/dia3.ipynb Célula 72\u001b[0m line \u001b[0;36m1\n\u001b[0;32m----> <a href='vscode-notebook-cell:/home/ebn/Documentos/Github/python-puc/dia3.ipynb#Y251sZmlsZQ%3D%3D?line=0'>1</a>\u001b[0m df_concat[\u001b[39m'\u001b[39;49m\u001b[39mnota\u001b[39;49m\u001b[39m'\u001b[39;49m]\u001b[39m.\u001b[39;49mmean()\n",
                        "File \u001b[0;32m~/.local/lib/python3.10/site-packages/pandas/core/generic.py:11847\u001b[0m, in \u001b[0;36mNDFrame._add_numeric_operations.<locals>.mean\u001b[0;34m(self, axis, skipna, level, numeric_only, **kwargs)\u001b[0m\n\u001b[1;32m  11829\u001b[0m \u001b[39m@doc\u001b[39m(\n\u001b[1;32m  11830\u001b[0m     _num_doc,\n\u001b[1;32m  11831\u001b[0m     desc\u001b[39m=\u001b[39m\u001b[39m\"\u001b[39m\u001b[39mReturn the mean of the values over the requested axis.\u001b[39m\u001b[39m\"\u001b[39m,\n\u001b[0;32m   (...)\u001b[0m\n\u001b[1;32m  11845\u001b[0m     \u001b[39m*\u001b[39m\u001b[39m*\u001b[39mkwargs,\n\u001b[1;32m  11846\u001b[0m ):\n\u001b[0;32m> 11847\u001b[0m     \u001b[39mreturn\u001b[39;00m NDFrame\u001b[39m.\u001b[39;49mmean(\u001b[39mself\u001b[39;49m, axis, skipna, level, numeric_only, \u001b[39m*\u001b[39;49m\u001b[39m*\u001b[39;49mkwargs)\n",
                        "File \u001b[0;32m~/.local/lib/python3.10/site-packages/pandas/core/generic.py:11401\u001b[0m, in \u001b[0;36mNDFrame.mean\u001b[0;34m(self, axis, skipna, level, numeric_only, **kwargs)\u001b[0m\n\u001b[1;32m  11393\u001b[0m \u001b[39mdef\u001b[39;00m \u001b[39mmean\u001b[39m(\n\u001b[1;32m  11394\u001b[0m     \u001b[39mself\u001b[39m,\n\u001b[1;32m  11395\u001b[0m     axis: Axis \u001b[39m|\u001b[39m \u001b[39mNone\u001b[39;00m \u001b[39m|\u001b[39m lib\u001b[39m.\u001b[39mNoDefault \u001b[39m=\u001b[39m lib\u001b[39m.\u001b[39mno_default,\n\u001b[0;32m   (...)\u001b[0m\n\u001b[1;32m  11399\u001b[0m     \u001b[39m*\u001b[39m\u001b[39m*\u001b[39mkwargs,\n\u001b[1;32m  11400\u001b[0m ) \u001b[39m-\u001b[39m\u001b[39m>\u001b[39m Series \u001b[39m|\u001b[39m \u001b[39mfloat\u001b[39m:\n\u001b[0;32m> 11401\u001b[0m     \u001b[39mreturn\u001b[39;00m \u001b[39mself\u001b[39;49m\u001b[39m.\u001b[39;49m_stat_function(\n\u001b[1;32m  11402\u001b[0m         \u001b[39m\"\u001b[39;49m\u001b[39mmean\u001b[39;49m\u001b[39m\"\u001b[39;49m, nanops\u001b[39m.\u001b[39;49mnanmean, axis, skipna, level, numeric_only, \u001b[39m*\u001b[39;49m\u001b[39m*\u001b[39;49mkwargs\n\u001b[1;32m  11403\u001b[0m     )\n",
                        "File \u001b[0;32m~/.local/lib/python3.10/site-packages/pandas/core/generic.py:11353\u001b[0m, in \u001b[0;36mNDFrame._stat_function\u001b[0;34m(self, name, func, axis, skipna, level, numeric_only, **kwargs)\u001b[0m\n\u001b[1;32m  11343\u001b[0m     warnings\u001b[39m.\u001b[39mwarn(\n\u001b[1;32m  11344\u001b[0m         \u001b[39m\"\u001b[39m\u001b[39mUsing the level keyword in DataFrame and Series aggregations is \u001b[39m\u001b[39m\"\u001b[39m\n\u001b[1;32m  11345\u001b[0m         \u001b[39m\"\u001b[39m\u001b[39mdeprecated and will be removed in a future version. Use groupby \u001b[39m\u001b[39m\"\u001b[39m\n\u001b[0;32m   (...)\u001b[0m\n\u001b[1;32m  11348\u001b[0m         stacklevel\u001b[39m=\u001b[39mfind_stack_level(),\n\u001b[1;32m  11349\u001b[0m     )\n\u001b[1;32m  11350\u001b[0m     \u001b[39mreturn\u001b[39;00m \u001b[39mself\u001b[39m\u001b[39m.\u001b[39m_agg_by_level(\n\u001b[1;32m  11351\u001b[0m         name, axis\u001b[39m=\u001b[39maxis, level\u001b[39m=\u001b[39mlevel, skipna\u001b[39m=\u001b[39mskipna, numeric_only\u001b[39m=\u001b[39mnumeric_only\n\u001b[1;32m  11352\u001b[0m     )\n\u001b[0;32m> 11353\u001b[0m \u001b[39mreturn\u001b[39;00m \u001b[39mself\u001b[39;49m\u001b[39m.\u001b[39;49m_reduce(\n\u001b[1;32m  11354\u001b[0m     func, name\u001b[39m=\u001b[39;49mname, axis\u001b[39m=\u001b[39;49maxis, skipna\u001b[39m=\u001b[39;49mskipna, numeric_only\u001b[39m=\u001b[39;49mnumeric_only\n\u001b[1;32m  11355\u001b[0m )\n",
                        "File \u001b[0;32m~/.local/lib/python3.10/site-packages/pandas/core/series.py:4816\u001b[0m, in \u001b[0;36mSeries._reduce\u001b[0;34m(self, op, name, axis, skipna, numeric_only, filter_type, **kwds)\u001b[0m\n\u001b[1;32m   4812\u001b[0m     \u001b[39mraise\u001b[39;00m \u001b[39mNotImplementedError\u001b[39;00m(\n\u001b[1;32m   4813\u001b[0m         \u001b[39mf\u001b[39m\u001b[39m\"\u001b[39m\u001b[39mSeries.\u001b[39m\u001b[39m{\u001b[39;00mname\u001b[39m}\u001b[39;00m\u001b[39m does not implement \u001b[39m\u001b[39m{\u001b[39;00mkwd_name\u001b[39m}\u001b[39;00m\u001b[39m.\u001b[39m\u001b[39m\"\u001b[39m\n\u001b[1;32m   4814\u001b[0m     )\n\u001b[1;32m   4815\u001b[0m \u001b[39mwith\u001b[39;00m np\u001b[39m.\u001b[39merrstate(\u001b[39mall\u001b[39m\u001b[39m=\u001b[39m\u001b[39m\"\u001b[39m\u001b[39mignore\u001b[39m\u001b[39m\"\u001b[39m):\n\u001b[0;32m-> 4816\u001b[0m     \u001b[39mreturn\u001b[39;00m op(delegate, skipna\u001b[39m=\u001b[39;49mskipna, \u001b[39m*\u001b[39;49m\u001b[39m*\u001b[39;49mkwds)\n",
                        "File \u001b[0;32m~/.local/lib/python3.10/site-packages/pandas/core/nanops.py:93\u001b[0m, in \u001b[0;36mdisallow.__call__.<locals>._f\u001b[0;34m(*args, **kwargs)\u001b[0m\n\u001b[1;32m     91\u001b[0m \u001b[39mtry\u001b[39;00m:\n\u001b[1;32m     92\u001b[0m     \u001b[39mwith\u001b[39;00m np\u001b[39m.\u001b[39merrstate(invalid\u001b[39m=\u001b[39m\u001b[39m\"\u001b[39m\u001b[39mignore\u001b[39m\u001b[39m\"\u001b[39m):\n\u001b[0;32m---> 93\u001b[0m         \u001b[39mreturn\u001b[39;00m f(\u001b[39m*\u001b[39;49margs, \u001b[39m*\u001b[39;49m\u001b[39m*\u001b[39;49mkwargs)\n\u001b[1;32m     94\u001b[0m \u001b[39mexcept\u001b[39;00m \u001b[39mValueError\u001b[39;00m \u001b[39mas\u001b[39;00m e:\n\u001b[1;32m     95\u001b[0m     \u001b[39m# we want to transform an object array\u001b[39;00m\n\u001b[1;32m     96\u001b[0m     \u001b[39m# ValueError message to the more typical TypeError\u001b[39;00m\n\u001b[1;32m     97\u001b[0m     \u001b[39m# e.g. this is normally a disallowed function on\u001b[39;00m\n\u001b[1;32m     98\u001b[0m     \u001b[39m# object arrays that contain strings\u001b[39;00m\n\u001b[1;32m     99\u001b[0m     \u001b[39mif\u001b[39;00m is_object_dtype(args[\u001b[39m0\u001b[39m]):\n",
                        "File \u001b[0;32m~/.local/lib/python3.10/site-packages/pandas/core/nanops.py:155\u001b[0m, in \u001b[0;36mbottleneck_switch.__call__.<locals>.f\u001b[0;34m(values, axis, skipna, **kwds)\u001b[0m\n\u001b[1;32m    153\u001b[0m         result \u001b[39m=\u001b[39m alt(values, axis\u001b[39m=\u001b[39maxis, skipna\u001b[39m=\u001b[39mskipna, \u001b[39m*\u001b[39m\u001b[39m*\u001b[39mkwds)\n\u001b[1;32m    154\u001b[0m \u001b[39melse\u001b[39;00m:\n\u001b[0;32m--> 155\u001b[0m     result \u001b[39m=\u001b[39m alt(values, axis\u001b[39m=\u001b[39;49maxis, skipna\u001b[39m=\u001b[39;49mskipna, \u001b[39m*\u001b[39;49m\u001b[39m*\u001b[39;49mkwds)\n\u001b[1;32m    157\u001b[0m \u001b[39mreturn\u001b[39;00m result\n",
                        "File \u001b[0;32m~/.local/lib/python3.10/site-packages/pandas/core/nanops.py:418\u001b[0m, in \u001b[0;36m_datetimelike_compat.<locals>.new_func\u001b[0;34m(values, axis, skipna, mask, **kwargs)\u001b[0m\n\u001b[1;32m    415\u001b[0m \u001b[39mif\u001b[39;00m datetimelike \u001b[39mand\u001b[39;00m mask \u001b[39mis\u001b[39;00m \u001b[39mNone\u001b[39;00m:\n\u001b[1;32m    416\u001b[0m     mask \u001b[39m=\u001b[39m isna(values)\n\u001b[0;32m--> 418\u001b[0m result \u001b[39m=\u001b[39m func(values, axis\u001b[39m=\u001b[39;49maxis, skipna\u001b[39m=\u001b[39;49mskipna, mask\u001b[39m=\u001b[39;49mmask, \u001b[39m*\u001b[39;49m\u001b[39m*\u001b[39;49mkwargs)\n\u001b[1;32m    420\u001b[0m \u001b[39mif\u001b[39;00m datetimelike:\n\u001b[1;32m    421\u001b[0m     result \u001b[39m=\u001b[39m _wrap_results(result, orig_values\u001b[39m.\u001b[39mdtype, fill_value\u001b[39m=\u001b[39miNaT)\n",
                        "File \u001b[0;32m~/.local/lib/python3.10/site-packages/pandas/core/nanops.py:706\u001b[0m, in \u001b[0;36mnanmean\u001b[0;34m(values, axis, skipna, mask)\u001b[0m\n\u001b[1;32m    703\u001b[0m     dtype_count \u001b[39m=\u001b[39m dtype\n\u001b[1;32m    705\u001b[0m count \u001b[39m=\u001b[39m _get_counts(values\u001b[39m.\u001b[39mshape, mask, axis, dtype\u001b[39m=\u001b[39mdtype_count)\n\u001b[0;32m--> 706\u001b[0m the_sum \u001b[39m=\u001b[39m _ensure_numeric(values\u001b[39m.\u001b[39;49msum(axis, dtype\u001b[39m=\u001b[39;49mdtype_sum))\n\u001b[1;32m    708\u001b[0m \u001b[39mif\u001b[39;00m axis \u001b[39mis\u001b[39;00m \u001b[39mnot\u001b[39;00m \u001b[39mNone\u001b[39;00m \u001b[39mand\u001b[39;00m \u001b[39mgetattr\u001b[39m(the_sum, \u001b[39m\"\u001b[39m\u001b[39mndim\u001b[39m\u001b[39m\"\u001b[39m, \u001b[39mFalse\u001b[39;00m):\n\u001b[1;32m    709\u001b[0m     count \u001b[39m=\u001b[39m cast(np\u001b[39m.\u001b[39mndarray, count)\n",
                        "File \u001b[0;32m~/.local/lib/python3.10/site-packages/numpy/core/_methods.py:48\u001b[0m, in \u001b[0;36m_sum\u001b[0;34m(a, axis, dtype, out, keepdims, initial, where)\u001b[0m\n\u001b[1;32m     46\u001b[0m \u001b[39mdef\u001b[39;00m \u001b[39m_sum\u001b[39m(a, axis\u001b[39m=\u001b[39m\u001b[39mNone\u001b[39;00m, dtype\u001b[39m=\u001b[39m\u001b[39mNone\u001b[39;00m, out\u001b[39m=\u001b[39m\u001b[39mNone\u001b[39;00m, keepdims\u001b[39m=\u001b[39m\u001b[39mFalse\u001b[39;00m,\n\u001b[1;32m     47\u001b[0m          initial\u001b[39m=\u001b[39m_NoValue, where\u001b[39m=\u001b[39m\u001b[39mTrue\u001b[39;00m):\n\u001b[0;32m---> 48\u001b[0m     \u001b[39mreturn\u001b[39;00m umr_sum(a, axis, dtype, out, keepdims, initial, where)\n",
                        "\u001b[0;31mTypeError\u001b[0m: unsupported operand type(s) for +: 'float' and 'str'"
                    ]
                }
            ],
            "source": [
                "df_concat['nota'].mean()"
            ]
        },
        {
            "cell_type": "markdown",
            "metadata": {},
            "source": [
                "Também é possível deletar linhas que possuem valores NaN em uma coluna específica.\n",
                "\n",
                "```python\n",
                "#drop NAN values\n",
                "df.dropna(inplace=True)\n",
                "```"
            ]
        },
        {
            "cell_type": "code",
            "execution_count": 56,
            "metadata": {},
            "outputs": [
                {
                    "data": {
                        "text/html": [
                            "<div>\n",
                            "<style scoped>\n",
                            "    .dataframe tbody tr th:only-of-type {\n",
                            "        vertical-align: middle;\n",
                            "    }\n",
                            "\n",
                            "    .dataframe tbody tr th {\n",
                            "        vertical-align: top;\n",
                            "    }\n",
                            "\n",
                            "    .dataframe thead th {\n",
                            "        text-align: right;\n",
                            "    }\n",
                            "</style>\n",
                            "<table border=\"1\" class=\"dataframe\">\n",
                            "  <thead>\n",
                            "    <tr style=\"text-align: right;\">\n",
                            "      <th></th>\n",
                            "      <th>index_original</th>\n",
                            "      <th>nome</th>\n",
                            "      <th>idade</th>\n",
                            "      <th>cidade</th>\n",
                            "      <th>nota</th>\n",
                            "    </tr>\n",
                            "  </thead>\n",
                            "  <tbody>\n",
                            "    <tr>\n",
                            "      <th>0</th>\n",
                            "      <td>0</td>\n",
                            "      <td>João</td>\n",
                            "      <td>25</td>\n",
                            "      <td>Manaus</td>\n",
                            "      <td>9.5</td>\n",
                            "    </tr>\n",
                            "    <tr>\n",
                            "      <th>1</th>\n",
                            "      <td>1</td>\n",
                            "      <td>Maria</td>\n",
                            "      <td>30</td>\n",
                            "      <td>Rio de Janeiro</td>\n",
                            "      <td>4.0</td>\n",
                            "    </tr>\n",
                            "    <tr>\n",
                            "      <th>2</th>\n",
                            "      <td>2</td>\n",
                            "      <td>José</td>\n",
                            "      <td>40</td>\n",
                            "      <td>Salvador</td>\n",
                            "      <td>8.8</td>\n",
                            "    </tr>\n",
                            "    <tr>\n",
                            "      <th>3</th>\n",
                            "      <td>3</td>\n",
                            "      <td>Pedro</td>\n",
                            "      <td>50</td>\n",
                            "      <td>Salvador</td>\n",
                            "      <td>3.0</td>\n",
                            "    </tr>\n",
                            "    <tr>\n",
                            "      <th>4</th>\n",
                            "      <td>0</td>\n",
                            "      <td>Luiza</td>\n",
                            "      <td>20</td>\n",
                            "      <td>Manaus</td>\n",
                            "      <td>Sem Nota</td>\n",
                            "    </tr>\n",
                            "    <tr>\n",
                            "      <th>5</th>\n",
                            "      <td>1</td>\n",
                            "      <td>Carolina</td>\n",
                            "      <td>20</td>\n",
                            "      <td>Rio de Janeiro</td>\n",
                            "      <td>Sem Nota</td>\n",
                            "    </tr>\n",
                            "    <tr>\n",
                            "      <th>6</th>\n",
                            "      <td>2</td>\n",
                            "      <td>Vitor</td>\n",
                            "      <td>22</td>\n",
                            "      <td>Salvador</td>\n",
                            "      <td>Sem Nota</td>\n",
                            "    </tr>\n",
                            "    <tr>\n",
                            "      <th>7</th>\n",
                            "      <td>3</td>\n",
                            "      <td>Gabriel</td>\n",
                            "      <td>31</td>\n",
                            "      <td>Salvador</td>\n",
                            "      <td>Sem Nota</td>\n",
                            "    </tr>\n",
                            "  </tbody>\n",
                            "</table>\n",
                            "</div>"
                        ],
                        "text/plain": [
                            "   index_original      nome  idade          cidade      nota\n",
                            "0               0      João     25          Manaus       9.5\n",
                            "1               1     Maria     30  Rio de Janeiro       4.0\n",
                            "2               2      José     40        Salvador       8.8\n",
                            "3               3     Pedro     50        Salvador       3.0\n",
                            "4               0     Luiza     20          Manaus  Sem Nota\n",
                            "5               1  Carolina     20  Rio de Janeiro  Sem Nota\n",
                            "6               2     Vitor     22        Salvador  Sem Nota\n",
                            "7               3   Gabriel     31        Salvador  Sem Nota"
                        ]
                    },
                    "execution_count": 56,
                    "metadata": {},
                    "output_type": "execute_result"
                }
            ],
            "source": [
                "df_concat"
            ]
        },
        {
            "cell_type": "code",
            "execution_count": 57,
            "metadata": {},
            "outputs": [
                {
                    "data": {
                        "text/html": [
                            "<div>\n",
                            "<style scoped>\n",
                            "    .dataframe tbody tr th:only-of-type {\n",
                            "        vertical-align: middle;\n",
                            "    }\n",
                            "\n",
                            "    .dataframe tbody tr th {\n",
                            "        vertical-align: top;\n",
                            "    }\n",
                            "\n",
                            "    .dataframe thead th {\n",
                            "        text-align: right;\n",
                            "    }\n",
                            "</style>\n",
                            "<table border=\"1\" class=\"dataframe\">\n",
                            "  <thead>\n",
                            "    <tr style=\"text-align: right;\">\n",
                            "      <th></th>\n",
                            "      <th>index_original</th>\n",
                            "      <th>nome</th>\n",
                            "      <th>idade</th>\n",
                            "      <th>cidade</th>\n",
                            "      <th>nota</th>\n",
                            "    </tr>\n",
                            "  </thead>\n",
                            "  <tbody>\n",
                            "    <tr>\n",
                            "      <th>0</th>\n",
                            "      <td>0</td>\n",
                            "      <td>João</td>\n",
                            "      <td>25</td>\n",
                            "      <td>Manaus</td>\n",
                            "      <td>9.5</td>\n",
                            "    </tr>\n",
                            "    <tr>\n",
                            "      <th>1</th>\n",
                            "      <td>1</td>\n",
                            "      <td>Maria</td>\n",
                            "      <td>30</td>\n",
                            "      <td>Rio de Janeiro</td>\n",
                            "      <td>4.0</td>\n",
                            "    </tr>\n",
                            "    <tr>\n",
                            "      <th>2</th>\n",
                            "      <td>2</td>\n",
                            "      <td>José</td>\n",
                            "      <td>40</td>\n",
                            "      <td>Salvador</td>\n",
                            "      <td>8.8</td>\n",
                            "    </tr>\n",
                            "    <tr>\n",
                            "      <th>3</th>\n",
                            "      <td>3</td>\n",
                            "      <td>Pedro</td>\n",
                            "      <td>50</td>\n",
                            "      <td>Salvador</td>\n",
                            "      <td>3.0</td>\n",
                            "    </tr>\n",
                            "    <tr>\n",
                            "      <th>4</th>\n",
                            "      <td>0</td>\n",
                            "      <td>Luiza</td>\n",
                            "      <td>20</td>\n",
                            "      <td>Manaus</td>\n",
                            "      <td>0.0</td>\n",
                            "    </tr>\n",
                            "    <tr>\n",
                            "      <th>5</th>\n",
                            "      <td>1</td>\n",
                            "      <td>Carolina</td>\n",
                            "      <td>20</td>\n",
                            "      <td>Rio de Janeiro</td>\n",
                            "      <td>0.0</td>\n",
                            "    </tr>\n",
                            "    <tr>\n",
                            "      <th>6</th>\n",
                            "      <td>2</td>\n",
                            "      <td>Vitor</td>\n",
                            "      <td>22</td>\n",
                            "      <td>Salvador</td>\n",
                            "      <td>0.0</td>\n",
                            "    </tr>\n",
                            "    <tr>\n",
                            "      <th>7</th>\n",
                            "      <td>3</td>\n",
                            "      <td>Gabriel</td>\n",
                            "      <td>31</td>\n",
                            "      <td>Salvador</td>\n",
                            "      <td>0.0</td>\n",
                            "    </tr>\n",
                            "  </tbody>\n",
                            "</table>\n",
                            "</div>"
                        ],
                        "text/plain": [
                            "   index_original      nome  idade          cidade  nota\n",
                            "0               0      João     25          Manaus   9.5\n",
                            "1               1     Maria     30  Rio de Janeiro   4.0\n",
                            "2               2      José     40        Salvador   8.8\n",
                            "3               3     Pedro     50        Salvador   3.0\n",
                            "4               0     Luiza     20          Manaus   0.0\n",
                            "5               1  Carolina     20  Rio de Janeiro   0.0\n",
                            "6               2     Vitor     22        Salvador   0.0\n",
                            "7               3   Gabriel     31        Salvador   0.0"
                        ]
                    },
                    "execution_count": 57,
                    "metadata": {},
                    "output_type": "execute_result"
                }
            ],
            "source": [
                "# substituir valores 'Sem nota' por 0 na coluna nota\n",
                "df_concat['nota'].replace('Sem Nota', 0, inplace=True)\n",
                "df_concat"
            ]
        },
        {
            "cell_type": "code",
            "execution_count": 58,
            "metadata": {},
            "outputs": [
                {
                    "name": "stdout",
                    "output_type": "stream",
                    "text": [
                        "<class 'pandas.core.frame.DataFrame'>\n",
                        "RangeIndex: 8 entries, 0 to 7\n",
                        "Data columns (total 5 columns):\n",
                        " #   Column          Non-Null Count  Dtype  \n",
                        "---  ------          --------------  -----  \n",
                        " 0   index_original  8 non-null      int64  \n",
                        " 1   nome            8 non-null      object \n",
                        " 2   idade           8 non-null      int64  \n",
                        " 3   cidade          8 non-null      object \n",
                        " 4   nota            8 non-null      float64\n",
                        "dtypes: float64(1), int64(2), object(2)\n",
                        "memory usage: 448.0+ bytes\n"
                    ]
                }
            ],
            "source": [
                "df_concat.info()"
            ]
        },
        {
            "cell_type": "markdown",
            "metadata": {},
            "source": [
                "### Trabalhando com números inteiros e floats"
            ]
        },
        {
            "cell_type": "code",
            "execution_count": 59,
            "metadata": {},
            "outputs": [
                {
                    "data": {
                        "text/plain": [
                            "9.5"
                        ]
                    },
                    "execution_count": 59,
                    "metadata": {},
                    "output_type": "execute_result"
                }
            ],
            "source": [
                "# Encontrar o maior valor da coluna `nota`\n",
                "df_concat['nota'].max()\n"
            ]
        },
        {
            "cell_type": "code",
            "execution_count": 60,
            "metadata": {},
            "outputs": [
                {
                    "data": {
                        "text/plain": [
                            "0.0"
                        ]
                    },
                    "execution_count": 60,
                    "metadata": {},
                    "output_type": "execute_result"
                }
            ],
            "source": [
                "#  Encontrar o menor valor da coluna `nota`\n",
                "df_concat['nota'].min()"
            ]
        },
        {
            "cell_type": "code",
            "execution_count": 61,
            "metadata": {},
            "outputs": [
                {
                    "data": {
                        "text/plain": [
                            "3.1625"
                        ]
                    },
                    "execution_count": 61,
                    "metadata": {},
                    "output_type": "execute_result"
                }
            ],
            "source": [
                "# Encontrar a média da coluna `nota`\n",
                "df_concat['nota'].mean()\n"
            ]
        },
        {
            "cell_type": "code",
            "execution_count": 62,
            "metadata": {},
            "outputs": [
                {
                    "data": {
                        "text/plain": [
                            "1.5"
                        ]
                    },
                    "execution_count": 62,
                    "metadata": {},
                    "output_type": "execute_result"
                }
            ],
            "source": [
                "# Encontrar a mediana da coluna `nota`\n",
                "df_concat['nota'].median()"
            ]
        },
        {
            "cell_type": "markdown",
            "metadata": {},
            "source": [
                "## Contar valores únicos em uma coluna"
            ]
        },
        {
            "cell_type": "code",
            "execution_count": 65,
            "metadata": {},
            "outputs": [
                {
                    "data": {
                        "text/plain": [
                            "João        1\n",
                            "Maria       1\n",
                            "José        1\n",
                            "Pedro       1\n",
                            "Luiza       1\n",
                            "Carolina    1\n",
                            "Vitor       1\n",
                            "Gabriel     1\n",
                            "Name: nome, dtype: int64"
                        ]
                    },
                    "execution_count": 65,
                    "metadata": {},
                    "output_type": "execute_result"
                }
            ],
            "source": [
                "# Contar a quantidade de valores da coluna `nota`\n",
                "df_concat['nome'].value_counts()"
            ]
        },
        {
            "cell_type": "markdown",
            "metadata": {},
            "source": [
                "## Iterar nas linhas de um DataFrame: `iterrows()`\n",
                "\n",
                "Iterar nas linhas da coluna `nota` e imprimir apenas as notas maiores que 7."
            ]
        },
        {
            "cell_type": "code",
            "execution_count": 66,
            "metadata": {},
            "outputs": [
                {
                    "name": "stdout",
                    "output_type": "stream",
                    "text": [
                        "João 9.5\n",
                        "José 8.8\n"
                    ]
                }
            ],
            "source": [
                "# iterar nas linhas e imprimir apenas notas maiores do que 7\n",
                "for index, valor in df_concat.iterrows():\n",
                "    if valor['nota'] > 7:\n",
                "        print(valor['nome'], valor['nota'])"
            ]
        },
        {
            "cell_type": "markdown",
            "metadata": {},
            "source": [
                "### query()\n",
                "\n",
                "E se quisermos iterar nas linhas e criar um novo DataFrame apenas com as linhas que possuem notas menores que 7?"
            ]
        },
        {
            "cell_type": "code",
            "execution_count": null,
            "metadata": {},
            "outputs": [],
            "source": [
                "# iterar nas linhas e criar um \n",
                "# novo dataframe com as notas menores do que 7\n",
                "lista = []\n",
                "for index, row in df_concat.iterrows():\n",
                "    if row['nota'] < 7:\n",
                "        lista.append(row)\n",
                "\n",
                "df_novo = pd.DataFrame(lista)\n",
                "df_novo"
            ]
        },
        {
            "cell_type": "markdown",
            "metadata": {},
            "source": [
                "Há um jeito mais fácil de fazer isso: usando o método `query()`."
            ]
        },
        {
            "cell_type": "code",
            "execution_count": 67,
            "metadata": {},
            "outputs": [
                {
                    "data": {
                        "text/html": [
                            "<div>\n",
                            "<style scoped>\n",
                            "    .dataframe tbody tr th:only-of-type {\n",
                            "        vertical-align: middle;\n",
                            "    }\n",
                            "\n",
                            "    .dataframe tbody tr th {\n",
                            "        vertical-align: top;\n",
                            "    }\n",
                            "\n",
                            "    .dataframe thead th {\n",
                            "        text-align: right;\n",
                            "    }\n",
                            "</style>\n",
                            "<table border=\"1\" class=\"dataframe\">\n",
                            "  <thead>\n",
                            "    <tr style=\"text-align: right;\">\n",
                            "      <th></th>\n",
                            "      <th>index_original</th>\n",
                            "      <th>nome</th>\n",
                            "      <th>idade</th>\n",
                            "      <th>cidade</th>\n",
                            "      <th>nota</th>\n",
                            "    </tr>\n",
                            "  </thead>\n",
                            "  <tbody>\n",
                            "    <tr>\n",
                            "      <th>1</th>\n",
                            "      <td>1</td>\n",
                            "      <td>Maria</td>\n",
                            "      <td>30</td>\n",
                            "      <td>Rio de Janeiro</td>\n",
                            "      <td>4.0</td>\n",
                            "    </tr>\n",
                            "    <tr>\n",
                            "      <th>3</th>\n",
                            "      <td>3</td>\n",
                            "      <td>Pedro</td>\n",
                            "      <td>50</td>\n",
                            "      <td>Salvador</td>\n",
                            "      <td>3.0</td>\n",
                            "    </tr>\n",
                            "    <tr>\n",
                            "      <th>4</th>\n",
                            "      <td>0</td>\n",
                            "      <td>Luiza</td>\n",
                            "      <td>20</td>\n",
                            "      <td>Manaus</td>\n",
                            "      <td>0.0</td>\n",
                            "    </tr>\n",
                            "    <tr>\n",
                            "      <th>5</th>\n",
                            "      <td>1</td>\n",
                            "      <td>Carolina</td>\n",
                            "      <td>20</td>\n",
                            "      <td>Rio de Janeiro</td>\n",
                            "      <td>0.0</td>\n",
                            "    </tr>\n",
                            "    <tr>\n",
                            "      <th>6</th>\n",
                            "      <td>2</td>\n",
                            "      <td>Vitor</td>\n",
                            "      <td>22</td>\n",
                            "      <td>Salvador</td>\n",
                            "      <td>0.0</td>\n",
                            "    </tr>\n",
                            "    <tr>\n",
                            "      <th>7</th>\n",
                            "      <td>3</td>\n",
                            "      <td>Gabriel</td>\n",
                            "      <td>31</td>\n",
                            "      <td>Salvador</td>\n",
                            "      <td>0.0</td>\n",
                            "    </tr>\n",
                            "  </tbody>\n",
                            "</table>\n",
                            "</div>"
                        ],
                        "text/plain": [
                            "   index_original      nome  idade          cidade  nota\n",
                            "1               1     Maria     30  Rio de Janeiro   4.0\n",
                            "3               3     Pedro     50        Salvador   3.0\n",
                            "4               0     Luiza     20          Manaus   0.0\n",
                            "5               1  Carolina     20  Rio de Janeiro   0.0\n",
                            "6               2     Vitor     22        Salvador   0.0\n",
                            "7               3   Gabriel     31        Salvador   0.0"
                        ]
                    },
                    "execution_count": 67,
                    "metadata": {},
                    "output_type": "execute_result"
                }
            ],
            "source": [
                "df_novo = df_concat.query('nota < 7')\n",
                "df_novo"
            ]
        },
        {
            "cell_type": "markdown",
            "metadata": {},
            "source": [
                "## Agrupando valores para análise"
            ]
        },
        {
            "cell_type": "code",
            "execution_count": null,
            "metadata": {},
            "outputs": [],
            "source": [
                "df_concat.groupby('cidade')"
            ]
        },
        {
            "cell_type": "code",
            "execution_count": null,
            "metadata": {},
            "outputs": [],
            "source": [
                "# group by a column and count the number of occurrences\n",
                "df_concat.groupby(by=['cidade']).count()"
            ]
        },
        {
            "cell_type": "code",
            "execution_count": null,
            "metadata": {},
            "outputs": [],
            "source": [
                "#Avaliar quais cidades tiveram mais notas maiores que 7 a partir do dataframe `df`.\n",
                "df_concat.query('nota > 7').groupby('cidade').count()\n"
            ]
        },
        {
            "cell_type": "markdown",
            "metadata": {},
            "source": [
                "## apply(): aplicar uma função a uma coluna"
            ]
        },
        {
            "cell_type": "markdown",
            "metadata": {},
            "source": [
                "Vamos tentar incluir uma coluna 'resultado'. \n",
                "\n",
                "- Se a nota for igual ou maior que 7, o resultado é aprovado',\n",
                "- Se for entre 5 e 6.9, o resultado é 'recuperação',\n",
                "- Sse for menor que 5, o resultado é 'reprovado'"
            ]
        },
        {
            "cell_type": "code",
            "execution_count": null,
            "metadata": {},
            "outputs": [],
            "source": [
                "def calcular_resultado(nota):\n",
                "    \"\"\"\n",
                "    Recebe uma nota e retorna o resultado do aluno com base na nota.\n",
                "    \"\"\"\n",
                "    if nota >= 7:\n",
                "        return 'aprovado'\n",
                "    elif nota >= 5 and nota < 7:\n",
                "        return 'recuperação'\n",
                "    else:\n",
                "        return 'reprovado'\n"
            ]
        },
        {
            "cell_type": "code",
            "execution_count": null,
            "metadata": {},
            "outputs": [],
            "source": [
                "# método apply: aplica uma função a cada linha do dataframe\n",
                "df_concat['resultado'] = df_concat['nota'].apply(calcular_resultado)\n",
                "df_concat"
            ]
        },
        {
            "cell_type": "markdown",
            "metadata": {},
            "source": [
                "Mesma coisa com uma função lambda (que é uma função anônima e não vamos nos aprofundar nisso agora):\n",
                "\n",
                "```python\n",
                "df['resultado'] = df['nota'].apply(lambda x: 'aprovado' if x >= 7 else ('recuperação' if x >= 5 and x < 7 else 'reprovado'))\n",
                "```"
            ]
        },
        {
            "cell_type": "markdown",
            "metadata": {},
            "source": [
                "## Salvando um DataFrame em um arquivo\n",
                "\n",
                "Podemos salvar nosso DataFrame em arquivos com diferentes formatos: csv, excel, json, html, etc.\n",
                "\n",
                "Veja a tabela com alguns formatos e os métodos de salvar:\n",
                "\n",
                "|Formato|Salvar com|\n",
                "|---|---|\n",
                "|csv|`df.to_csv('nome_do_arquivo.csv')`|\n",
                "|json|`df.to_json('nome_do_arquivo.json')`|\n",
                "|html|`df.to_html('nome_do_arquivo.html')`|\n"
            ]
        },
        {
            "cell_type": "code",
            "execution_count": 69,
            "metadata": {},
            "outputs": [],
            "source": [
                "df_concat.to_csv('resultado_completo.csv', index_label=False) "
            ]
        },
        {
            "cell_type": "code",
            "execution_count": 70,
            "metadata": {},
            "outputs": [],
            "source": [
                "# salvar o dataframe em um arquivo csv apenas com as colunas nome, nota e resultado\n",
                "df_concat[['nome', 'nota']].to_csv('resultado.csv', index=False)\n"
            ]
        },
        {
            "cell_type": "code",
            "execution_count": null,
            "metadata": {},
            "outputs": [],
            "source": [
                "# salvar em json com utf-8\n",
                "df_concat[['nome', 'nota']].to_json('resultado.json', orient='records', force_ascii=False)\n"
            ]
        },
        {
            "cell_type": "code",
            "execution_count": null,
            "metadata": {},
            "outputs": [],
            "source": [
                "df_concat[['nome', 'nota']].to_html('resultado.html', index=False)"
            ]
        },
        {
            "cell_type": "code",
            "execution_count": 72,
            "metadata": {},
            "outputs": [],
            "source": [
                "# salvar em excel\n",
                "df_concat[['nome', 'nota']].to_excel('resultado.xlsx', index=False)"
            ]
        },
        {
            "cell_type": "markdown",
            "metadata": {},
            "source": [
                "Na célula acima, utilizamos df_concat[[]] retorna um novo dataframe."
            ]
        },
        {
            "cell_type": "markdown",
            "metadata": {},
            "source": [
                "# Analisando dados na prática\n",
                "\n",
                "Exemplo com dados da HDB."
            ]
        },
        {
            "cell_type": "markdown",
            "metadata": {},
            "source": [
                "Aqui veremos um exemplo com um dataset mais complexo, com 69 linhas e 8 colunas. \n",
                "\n",
                "Esse dataset é resultado da utilização da ferramenta pyHDB, uma ferramenta de auxílio metodológico para a pesquisa na Hemeroteca Digital Brasileira da Biblioteca Nacional.\n",
                "\n",
                "A ferramenta foi desenvolvida por mim e está disponível no GitHub: https://ericbrasiln.github.io/pyHDB/.\n",
                "\n",
                "Para mais informações sobre seus usos e aspectos teóricos e metodológicos de seu desenvolvimento veja o artigo [pyHDB - Ferramenta Heurística para a Hemeroteca Digital Brasileira: utilizando técnicas de web scraping para a pesquisa em História](https://www.historiadahistoriografia.com.br/revista/article/view/1904) publicano na Revista História da Historiografia."
            ]
        },
        {
            "cell_type": "markdown",
            "metadata": {},
            "source": [
                "Ao invés de criar um dataframe a partir de um dicionário como fizemos anteriormente, vamos criar um dataframe a partir de um arquivo CSV.\n",
                "\n",
                "O CSV (*Comma Separated Values*) é um formato de arquivo que armazena dados tabulares em texto simples. \n",
                "\n",
                "Cada linha do arquivo de texto é uma linha da tabela e as colunas são separadas por vírgulas. Esses arquivos podem ser abertos em qualquer editor de texto ou planilha.\n",
                "\n",
                "Para criar um dataframe a partir de um arquivo CSV, basta utilizar a função `pd.read_csv()` e passar o caminho do arquivo como argumento."
            ]
        },
        {
            "cell_type": "markdown",
            "metadata": {},
            "source": [
                "Também é possível criar um dataframe a partir de um arquivo Excel, utilizando a função `pd.read_excel()`."
            ]
        },
        {
            "cell_type": "markdown",
            "metadata": {},
            "source": [
                "Antes de analisarmos nossos dados com o pandas, vamos dar uma olhada no arquivo CSV em um editor de planilhas comum."
            ]
        },
        {
            "cell_type": "code",
            "execution_count": 73,
            "metadata": {},
            "outputs": [],
            "source": [
                "df_hdb = pd.read_csv('./assets/moyses-zacharias_2023-09-13_14-52-48.csv')"
            ]
        },
        {
            "cell_type": "code",
            "execution_count": 74,
            "metadata": {},
            "outputs": [
                {
                    "data": {
                        "text/html": [
                            "<div>\n",
                            "<style scoped>\n",
                            "    .dataframe tbody tr th:only-of-type {\n",
                            "        vertical-align: middle;\n",
                            "    }\n",
                            "\n",
                            "    .dataframe tbody tr th {\n",
                            "        vertical-align: top;\n",
                            "    }\n",
                            "\n",
                            "    .dataframe thead th {\n",
                            "        text-align: right;\n",
                            "    }\n",
                            "</style>\n",
                            "<table border=\"1\" class=\"dataframe\">\n",
                            "  <thead>\n",
                            "    <tr style=\"text-align: right;\">\n",
                            "      <th></th>\n",
                            "      <th>Unnamed: 0</th>\n",
                            "      <th>Termo da busca</th>\n",
                            "      <th>Data da Busca</th>\n",
                            "      <th>Acervo</th>\n",
                            "      <th>Ano</th>\n",
                            "      <th>Edição</th>\n",
                            "      <th>Página</th>\n",
                            "      <th>Nome do arquivo</th>\n",
                            "      <th>Link</th>\n",
                            "    </tr>\n",
                            "  </thead>\n",
                            "  <tbody>\n",
                            "    <tr>\n",
                            "      <th>0</th>\n",
                            "      <td>0</td>\n",
                            "      <td>\"moyses zacharias\"</td>\n",
                            "      <td>2023-09-13</td>\n",
                            "      <td>O Malho (RJ) - 1902 - 1953</td>\n",
                            "      <td>1908</td>\n",
                            "      <td>91</td>\n",
                            "      <td>15</td>\n",
                            "      <td>116300_11226.jpg</td>\n",
                            "      <td>http://memoria.bn.br/docreader/116300/11226</td>\n",
                            "    </tr>\n",
                            "    <tr>\n",
                            "      <th>1</th>\n",
                            "      <td>1</td>\n",
                            "      <td>\"moyses zacharias\"</td>\n",
                            "      <td>2023-09-13</td>\n",
                            "      <td>O Malho (RJ) - 1902 - 1953</td>\n",
                            "      <td>1911</td>\n",
                            "      <td>54</td>\n",
                            "      <td>20</td>\n",
                            "      <td>116300_18886.jpg</td>\n",
                            "      <td>http://memoria.bn.br/docreader/116300/18886</td>\n",
                            "    </tr>\n",
                            "    <tr>\n",
                            "      <th>2</th>\n",
                            "      <td>2</td>\n",
                            "      <td>\"moyses zacharias\"</td>\n",
                            "      <td>2023-09-13</td>\n",
                            "      <td>Correio da Manhã (RJ) - 1910 a 1919</td>\n",
                            "      <td>1910</td>\n",
                            "      <td>112</td>\n",
                            "      <td>3</td>\n",
                            "      <td>089842_02_213.jpg</td>\n",
                            "      <td>http://memoria.bn.br/docreader/089842_02/213</td>\n",
                            "    </tr>\n",
                            "    <tr>\n",
                            "      <th>3</th>\n",
                            "      <td>3</td>\n",
                            "      <td>\"moyses zacharias\"</td>\n",
                            "      <td>2023-09-13</td>\n",
                            "      <td>Correio da Manhã (RJ) - 1910 a 1919</td>\n",
                            "      <td>1910</td>\n",
                            "      <td>125</td>\n",
                            "      <td>2</td>\n",
                            "      <td>089842_02_332.jpg</td>\n",
                            "      <td>http://memoria.bn.br/docreader/089842_02/332</td>\n",
                            "    </tr>\n",
                            "    <tr>\n",
                            "      <th>4</th>\n",
                            "      <td>4</td>\n",
                            "      <td>\"moyses zacharias\"</td>\n",
                            "      <td>2023-09-13</td>\n",
                            "      <td>Correio da Manhã (RJ) - 1910 a 1919</td>\n",
                            "      <td>1910</td>\n",
                            "      <td>140</td>\n",
                            "      <td>4</td>\n",
                            "      <td>089842_02_462.jpg</td>\n",
                            "      <td>http://memoria.bn.br/docreader/089842_02/462</td>\n",
                            "    </tr>\n",
                            "  </tbody>\n",
                            "</table>\n",
                            "</div>"
                        ],
                        "text/plain": [
                            "   Unnamed: 0      Termo da busca Data da Busca  \\\n",
                            "0           0  \"moyses zacharias\"    2023-09-13   \n",
                            "1           1  \"moyses zacharias\"    2023-09-13   \n",
                            "2           2  \"moyses zacharias\"    2023-09-13   \n",
                            "3           3  \"moyses zacharias\"    2023-09-13   \n",
                            "4           4  \"moyses zacharias\"    2023-09-13   \n",
                            "\n",
                            "                                Acervo   Ano  Edição  Página  \\\n",
                            "0           O Malho (RJ) - 1902 - 1953  1908      91      15   \n",
                            "1           O Malho (RJ) - 1902 - 1953  1911      54      20   \n",
                            "2  Correio da Manhã (RJ) - 1910 a 1919  1910     112       3   \n",
                            "3  Correio da Manhã (RJ) - 1910 a 1919  1910     125       2   \n",
                            "4  Correio da Manhã (RJ) - 1910 a 1919  1910     140       4   \n",
                            "\n",
                            "     Nome do arquivo                                          Link  \n",
                            "0   116300_11226.jpg   http://memoria.bn.br/docreader/116300/11226  \n",
                            "1   116300_18886.jpg   http://memoria.bn.br/docreader/116300/18886  \n",
                            "2  089842_02_213.jpg  http://memoria.bn.br/docreader/089842_02/213  \n",
                            "3  089842_02_332.jpg  http://memoria.bn.br/docreader/089842_02/332  \n",
                            "4  089842_02_462.jpg  http://memoria.bn.br/docreader/089842_02/462  "
                        ]
                    },
                    "execution_count": 74,
                    "metadata": {},
                    "output_type": "execute_result"
                }
            ],
            "source": [
                "df_hdb.head()"
            ]
        },
        {
            "cell_type": "code",
            "execution_count": 75,
            "metadata": {},
            "outputs": [],
            "source": [
                "df_hdb = pd.read_csv('./assets/moyses-zacharias_2023-09-13_14-52-48.csv', index_col=0)\n"
            ]
        },
        {
            "cell_type": "code",
            "execution_count": 76,
            "metadata": {},
            "outputs": [
                {
                    "data": {
                        "text/html": [
                            "<div>\n",
                            "<style scoped>\n",
                            "    .dataframe tbody tr th:only-of-type {\n",
                            "        vertical-align: middle;\n",
                            "    }\n",
                            "\n",
                            "    .dataframe tbody tr th {\n",
                            "        vertical-align: top;\n",
                            "    }\n",
                            "\n",
                            "    .dataframe thead th {\n",
                            "        text-align: right;\n",
                            "    }\n",
                            "</style>\n",
                            "<table border=\"1\" class=\"dataframe\">\n",
                            "  <thead>\n",
                            "    <tr style=\"text-align: right;\">\n",
                            "      <th></th>\n",
                            "      <th>Termo da busca</th>\n",
                            "      <th>Data da Busca</th>\n",
                            "      <th>Acervo</th>\n",
                            "      <th>Ano</th>\n",
                            "      <th>Edição</th>\n",
                            "      <th>Página</th>\n",
                            "      <th>Nome do arquivo</th>\n",
                            "      <th>Link</th>\n",
                            "    </tr>\n",
                            "  </thead>\n",
                            "  <tbody>\n",
                            "    <tr>\n",
                            "      <th>0</th>\n",
                            "      <td>\"moyses zacharias\"</td>\n",
                            "      <td>2023-09-13</td>\n",
                            "      <td>O Malho (RJ) - 1902 - 1953</td>\n",
                            "      <td>1908</td>\n",
                            "      <td>91</td>\n",
                            "      <td>15</td>\n",
                            "      <td>116300_11226.jpg</td>\n",
                            "      <td>http://memoria.bn.br/docreader/116300/11226</td>\n",
                            "    </tr>\n",
                            "    <tr>\n",
                            "      <th>1</th>\n",
                            "      <td>\"moyses zacharias\"</td>\n",
                            "      <td>2023-09-13</td>\n",
                            "      <td>O Malho (RJ) - 1902 - 1953</td>\n",
                            "      <td>1911</td>\n",
                            "      <td>54</td>\n",
                            "      <td>20</td>\n",
                            "      <td>116300_18886.jpg</td>\n",
                            "      <td>http://memoria.bn.br/docreader/116300/18886</td>\n",
                            "    </tr>\n",
                            "    <tr>\n",
                            "      <th>2</th>\n",
                            "      <td>\"moyses zacharias\"</td>\n",
                            "      <td>2023-09-13</td>\n",
                            "      <td>Correio da Manhã (RJ) - 1910 a 1919</td>\n",
                            "      <td>1910</td>\n",
                            "      <td>112</td>\n",
                            "      <td>3</td>\n",
                            "      <td>089842_02_213.jpg</td>\n",
                            "      <td>http://memoria.bn.br/docreader/089842_02/213</td>\n",
                            "    </tr>\n",
                            "    <tr>\n",
                            "      <th>3</th>\n",
                            "      <td>\"moyses zacharias\"</td>\n",
                            "      <td>2023-09-13</td>\n",
                            "      <td>Correio da Manhã (RJ) - 1910 a 1919</td>\n",
                            "      <td>1910</td>\n",
                            "      <td>125</td>\n",
                            "      <td>2</td>\n",
                            "      <td>089842_02_332.jpg</td>\n",
                            "      <td>http://memoria.bn.br/docreader/089842_02/332</td>\n",
                            "    </tr>\n",
                            "    <tr>\n",
                            "      <th>4</th>\n",
                            "      <td>\"moyses zacharias\"</td>\n",
                            "      <td>2023-09-13</td>\n",
                            "      <td>Correio da Manhã (RJ) - 1910 a 1919</td>\n",
                            "      <td>1910</td>\n",
                            "      <td>140</td>\n",
                            "      <td>4</td>\n",
                            "      <td>089842_02_462.jpg</td>\n",
                            "      <td>http://memoria.bn.br/docreader/089842_02/462</td>\n",
                            "    </tr>\n",
                            "    <tr>\n",
                            "      <th>5</th>\n",
                            "      <td>\"moyses zacharias\"</td>\n",
                            "      <td>2023-09-13</td>\n",
                            "      <td>Correio da Manhã (RJ) - 1910 a 1919</td>\n",
                            "      <td>1910</td>\n",
                            "      <td>143</td>\n",
                            "      <td>1</td>\n",
                            "      <td>089842_02_491.jpg</td>\n",
                            "      <td>http://memoria.bn.br/docreader/089842_02/491</td>\n",
                            "    </tr>\n",
                            "    <tr>\n",
                            "      <th>6</th>\n",
                            "      <td>\"moyses zacharias\"</td>\n",
                            "      <td>2023-09-13</td>\n",
                            "      <td>Correio da Manhã (RJ) - 1910 a 1919</td>\n",
                            "      <td>1911</td>\n",
                            "      <td>575</td>\n",
                            "      <td>3</td>\n",
                            "      <td>089842_02_4730.jpg</td>\n",
                            "      <td>http://memoria.bn.br/docreader/089842_02/4730</td>\n",
                            "    </tr>\n",
                            "    <tr>\n",
                            "      <th>7</th>\n",
                            "      <td>\"moyses zacharias\"</td>\n",
                            "      <td>2023-09-13</td>\n",
                            "      <td>Correio da Manhã (RJ) - 1910 a 1919</td>\n",
                            "      <td>1911</td>\n",
                            "      <td>586</td>\n",
                            "      <td>3</td>\n",
                            "      <td>089842_02_4844.jpg</td>\n",
                            "      <td>http://memoria.bn.br/docreader/089842_02/4844</td>\n",
                            "    </tr>\n",
                            "    <tr>\n",
                            "      <th>8</th>\n",
                            "      <td>\"moyses zacharias\"</td>\n",
                            "      <td>2023-09-13</td>\n",
                            "      <td>Correio da Manhã (RJ) - 1910 a 1919</td>\n",
                            "      <td>1916</td>\n",
                            "      <td>194</td>\n",
                            "      <td>3</td>\n",
                            "      <td>089842_02_26864.jpg</td>\n",
                            "      <td>http://memoria.bn.br/docreader/089842_02/26864</td>\n",
                            "    </tr>\n",
                            "    <tr>\n",
                            "      <th>9</th>\n",
                            "      <td>\"moyses zacharias\"</td>\n",
                            "      <td>2023-09-13</td>\n",
                            "      <td>Gazeta de Noticias (RJ) - 1900 a 1919</td>\n",
                            "      <td>1904</td>\n",
                            "      <td>111</td>\n",
                            "      <td>2</td>\n",
                            "      <td>103730_04_7508.jpg</td>\n",
                            "      <td>http://memoria.bn.br/docreader/103730_04/7508</td>\n",
                            "    </tr>\n",
                            "  </tbody>\n",
                            "</table>\n",
                            "</div>"
                        ],
                        "text/plain": [
                            "       Termo da busca Data da Busca                                 Acervo  \\\n",
                            "0  \"moyses zacharias\"    2023-09-13             O Malho (RJ) - 1902 - 1953   \n",
                            "1  \"moyses zacharias\"    2023-09-13             O Malho (RJ) - 1902 - 1953   \n",
                            "2  \"moyses zacharias\"    2023-09-13    Correio da Manhã (RJ) - 1910 a 1919   \n",
                            "3  \"moyses zacharias\"    2023-09-13    Correio da Manhã (RJ) - 1910 a 1919   \n",
                            "4  \"moyses zacharias\"    2023-09-13    Correio da Manhã (RJ) - 1910 a 1919   \n",
                            "5  \"moyses zacharias\"    2023-09-13    Correio da Manhã (RJ) - 1910 a 1919   \n",
                            "6  \"moyses zacharias\"    2023-09-13    Correio da Manhã (RJ) - 1910 a 1919   \n",
                            "7  \"moyses zacharias\"    2023-09-13    Correio da Manhã (RJ) - 1910 a 1919   \n",
                            "8  \"moyses zacharias\"    2023-09-13    Correio da Manhã (RJ) - 1910 a 1919   \n",
                            "9  \"moyses zacharias\"    2023-09-13  Gazeta de Noticias (RJ) - 1900 a 1919   \n",
                            "\n",
                            "    Ano  Edição  Página      Nome do arquivo  \\\n",
                            "0  1908      91      15     116300_11226.jpg   \n",
                            "1  1911      54      20     116300_18886.jpg   \n",
                            "2  1910     112       3    089842_02_213.jpg   \n",
                            "3  1910     125       2    089842_02_332.jpg   \n",
                            "4  1910     140       4    089842_02_462.jpg   \n",
                            "5  1910     143       1    089842_02_491.jpg   \n",
                            "6  1911     575       3   089842_02_4730.jpg   \n",
                            "7  1911     586       3   089842_02_4844.jpg   \n",
                            "8  1916     194       3  089842_02_26864.jpg   \n",
                            "9  1904     111       2   103730_04_7508.jpg   \n",
                            "\n",
                            "                                             Link  \n",
                            "0     http://memoria.bn.br/docreader/116300/11226  \n",
                            "1     http://memoria.bn.br/docreader/116300/18886  \n",
                            "2    http://memoria.bn.br/docreader/089842_02/213  \n",
                            "3    http://memoria.bn.br/docreader/089842_02/332  \n",
                            "4    http://memoria.bn.br/docreader/089842_02/462  \n",
                            "5    http://memoria.bn.br/docreader/089842_02/491  \n",
                            "6   http://memoria.bn.br/docreader/089842_02/4730  \n",
                            "7   http://memoria.bn.br/docreader/089842_02/4844  \n",
                            "8  http://memoria.bn.br/docreader/089842_02/26864  \n",
                            "9   http://memoria.bn.br/docreader/103730_04/7508  "
                        ]
                    },
                    "execution_count": 76,
                    "metadata": {},
                    "output_type": "execute_result"
                }
            ],
            "source": [
                "df_hdb.head(10)"
            ]
        },
        {
            "cell_type": "code",
            "execution_count": 77,
            "metadata": {},
            "outputs": [
                {
                    "data": {
                        "text/html": [
                            "<div>\n",
                            "<style scoped>\n",
                            "    .dataframe tbody tr th:only-of-type {\n",
                            "        vertical-align: middle;\n",
                            "    }\n",
                            "\n",
                            "    .dataframe tbody tr th {\n",
                            "        vertical-align: top;\n",
                            "    }\n",
                            "\n",
                            "    .dataframe thead th {\n",
                            "        text-align: right;\n",
                            "    }\n",
                            "</style>\n",
                            "<table border=\"1\" class=\"dataframe\">\n",
                            "  <thead>\n",
                            "    <tr style=\"text-align: right;\">\n",
                            "      <th></th>\n",
                            "      <th>Termo da busca</th>\n",
                            "      <th>Data da Busca</th>\n",
                            "      <th>Acervo</th>\n",
                            "      <th>Ano</th>\n",
                            "      <th>Edição</th>\n",
                            "      <th>Página</th>\n",
                            "      <th>Nome do arquivo</th>\n",
                            "      <th>Link</th>\n",
                            "    </tr>\n",
                            "  </thead>\n",
                            "  <tbody>\n",
                            "    <tr>\n",
                            "      <th>59</th>\n",
                            "      <td>\"moyses zacharias\"</td>\n",
                            "      <td>2023-09-13</td>\n",
                            "      <td>O Paiz (RJ) - 1910 a 1919</td>\n",
                            "      <td>1911</td>\n",
                            "      <td>784</td>\n",
                            "      <td>2</td>\n",
                            "      <td>178691_04_7627.jpg</td>\n",
                            "      <td>http://memoria.bn.br/docreader/178691_04/7627</td>\n",
                            "    </tr>\n",
                            "    <tr>\n",
                            "      <th>60</th>\n",
                            "      <td>\"moyses zacharias\"</td>\n",
                            "      <td>2023-09-13</td>\n",
                            "      <td>Correio da Manhã (RJ) - 1901 a 1909</td>\n",
                            "      <td>1906</td>\n",
                            "      <td>719</td>\n",
                            "      <td>3</td>\n",
                            "      <td>089842_01_10241.jpg</td>\n",
                            "      <td>http://memoria.bn.br/docreader/089842_01/10241</td>\n",
                            "    </tr>\n",
                            "    <tr>\n",
                            "      <th>61</th>\n",
                            "      <td>\"moyses zacharias\"</td>\n",
                            "      <td>2023-09-13</td>\n",
                            "      <td>Correio da Manhã (RJ) - 1901 a 1909</td>\n",
                            "      <td>1909</td>\n",
                            "      <td>1</td>\n",
                            "      <td>1</td>\n",
                            "      <td>089842_01_21042.jpg</td>\n",
                            "      <td>http://memoria.bn.br/docreader/089842_01/21042</td>\n",
                            "    </tr>\n",
                            "    <tr>\n",
                            "      <th>62</th>\n",
                            "      <td>\"moyses zacharias\"</td>\n",
                            "      <td>2023-09-13</td>\n",
                            "      <td>Correio da Manhã (RJ) - 1901 a 1909</td>\n",
                            "      <td>1909</td>\n",
                            "      <td>40</td>\n",
                            "      <td>3</td>\n",
                            "      <td>089842_01_21382.jpg</td>\n",
                            "      <td>http://memoria.bn.br/docreader/089842_01/21382</td>\n",
                            "    </tr>\n",
                            "    <tr>\n",
                            "      <th>63</th>\n",
                            "      <td>\"moyses zacharias\"</td>\n",
                            "      <td>2023-09-13</td>\n",
                            "      <td>Correio da Manhã (RJ) - 1901 a 1909</td>\n",
                            "      <td>1909</td>\n",
                            "      <td>87</td>\n",
                            "      <td>1</td>\n",
                            "      <td>089842_01_21802.jpg</td>\n",
                            "      <td>http://memoria.bn.br/docreader/089842_01/21802</td>\n",
                            "    </tr>\n",
                            "    <tr>\n",
                            "      <th>64</th>\n",
                            "      <td>\"moyses zacharias\"</td>\n",
                            "      <td>2023-09-13</td>\n",
                            "      <td>A Noite (RJ) - 1930 a 1939</td>\n",
                            "      <td>1939</td>\n",
                            "      <td>752</td>\n",
                            "      <td>18</td>\n",
                            "      <td>348970_03_62607.jpg</td>\n",
                            "      <td>http://memoria.bn.br/docreader/348970_03/62607</td>\n",
                            "    </tr>\n",
                            "    <tr>\n",
                            "      <th>65</th>\n",
                            "      <td>\"moyses zacharias\"</td>\n",
                            "      <td>2023-09-13</td>\n",
                            "      <td>A Noite (RJ) - 1930 a 1939</td>\n",
                            "      <td>1939</td>\n",
                            "      <td>752</td>\n",
                            "      <td>28</td>\n",
                            "      <td>348970_03_62617.jpg</td>\n",
                            "      <td>http://memoria.bn.br/docreader/348970_03/62617</td>\n",
                            "    </tr>\n",
                            "    <tr>\n",
                            "      <th>66</th>\n",
                            "      <td>\"moyses zacharias\"</td>\n",
                            "      <td>2023-09-13</td>\n",
                            "      <td>O Imparcial : Diario Illustrado do Rio de Jane...</td>\n",
                            "      <td>1915</td>\n",
                            "      <td>758</td>\n",
                            "      <td>11</td>\n",
                            "      <td>107670_01_9429.jpg</td>\n",
                            "      <td>http://memoria.bn.br/docreader/107670_01/9429</td>\n",
                            "    </tr>\n",
                            "    <tr>\n",
                            "      <th>67</th>\n",
                            "      <td>\"moyses zacharias\"</td>\n",
                            "      <td>2023-09-13</td>\n",
                            "      <td>O Imparcial : Diario Illustrado do Rio de Jane...</td>\n",
                            "      <td>1915</td>\n",
                            "      <td>759</td>\n",
                            "      <td>9</td>\n",
                            "      <td>107670_01_9443.jpg</td>\n",
                            "      <td>http://memoria.bn.br/docreader/107670_01/9443</td>\n",
                            "    </tr>\n",
                            "    <tr>\n",
                            "      <th>68</th>\n",
                            "      <td>\"moyses zacharias\"</td>\n",
                            "      <td>2023-09-13</td>\n",
                            "      <td>Diario Carioca : O máximo de jornal  no mínimo...</td>\n",
                            "      <td>1960</td>\n",
                            "      <td>704</td>\n",
                            "      <td>2</td>\n",
                            "      <td>093092_05_746.jpg</td>\n",
                            "      <td>http://memoria.bn.br/docreader/093092_05/746</td>\n",
                            "    </tr>\n",
                            "  </tbody>\n",
                            "</table>\n",
                            "</div>"
                        ],
                        "text/plain": [
                            "        Termo da busca Data da Busca  \\\n",
                            "59  \"moyses zacharias\"    2023-09-13   \n",
                            "60  \"moyses zacharias\"    2023-09-13   \n",
                            "61  \"moyses zacharias\"    2023-09-13   \n",
                            "62  \"moyses zacharias\"    2023-09-13   \n",
                            "63  \"moyses zacharias\"    2023-09-13   \n",
                            "64  \"moyses zacharias\"    2023-09-13   \n",
                            "65  \"moyses zacharias\"    2023-09-13   \n",
                            "66  \"moyses zacharias\"    2023-09-13   \n",
                            "67  \"moyses zacharias\"    2023-09-13   \n",
                            "68  \"moyses zacharias\"    2023-09-13   \n",
                            "\n",
                            "                                               Acervo   Ano  Edição  Página  \\\n",
                            "59                          O Paiz (RJ) - 1910 a 1919  1911     784       2   \n",
                            "60                Correio da Manhã (RJ) - 1901 a 1909  1906     719       3   \n",
                            "61                Correio da Manhã (RJ) - 1901 a 1909  1909       1       1   \n",
                            "62                Correio da Manhã (RJ) - 1901 a 1909  1909      40       3   \n",
                            "63                Correio da Manhã (RJ) - 1901 a 1909  1909      87       1   \n",
                            "64                         A Noite (RJ) - 1930 a 1939  1939     752      18   \n",
                            "65                         A Noite (RJ) - 1930 a 1939  1939     752      28   \n",
                            "66  O Imparcial : Diario Illustrado do Rio de Jane...  1915     758      11   \n",
                            "67  O Imparcial : Diario Illustrado do Rio de Jane...  1915     759       9   \n",
                            "68  Diario Carioca : O máximo de jornal  no mínimo...  1960     704       2   \n",
                            "\n",
                            "        Nome do arquivo                                            Link  \n",
                            "59   178691_04_7627.jpg   http://memoria.bn.br/docreader/178691_04/7627  \n",
                            "60  089842_01_10241.jpg  http://memoria.bn.br/docreader/089842_01/10241  \n",
                            "61  089842_01_21042.jpg  http://memoria.bn.br/docreader/089842_01/21042  \n",
                            "62  089842_01_21382.jpg  http://memoria.bn.br/docreader/089842_01/21382  \n",
                            "63  089842_01_21802.jpg  http://memoria.bn.br/docreader/089842_01/21802  \n",
                            "64  348970_03_62607.jpg  http://memoria.bn.br/docreader/348970_03/62607  \n",
                            "65  348970_03_62617.jpg  http://memoria.bn.br/docreader/348970_03/62617  \n",
                            "66   107670_01_9429.jpg   http://memoria.bn.br/docreader/107670_01/9429  \n",
                            "67   107670_01_9443.jpg   http://memoria.bn.br/docreader/107670_01/9443  \n",
                            "68    093092_05_746.jpg    http://memoria.bn.br/docreader/093092_05/746  "
                        ]
                    },
                    "execution_count": 77,
                    "metadata": {},
                    "output_type": "execute_result"
                }
            ],
            "source": [
                "df_hdb.tail(10)"
            ]
        },
        {
            "cell_type": "code",
            "execution_count": 78,
            "metadata": {},
            "outputs": [
                {
                    "data": {
                        "text/plain": [
                            "Index(['Termo da busca', 'Data da Busca', 'Acervo', 'Ano', 'Edição', 'Página',\n",
                            "       'Nome do arquivo', 'Link'],\n",
                            "      dtype='object')"
                        ]
                    },
                    "execution_count": 78,
                    "metadata": {},
                    "output_type": "execute_result"
                }
            ],
            "source": [
                "# print column names\n",
                "df_hdb.columns"
            ]
        },
        {
            "cell_type": "code",
            "execution_count": 79,
            "metadata": {},
            "outputs": [
                {
                    "data": {
                        "text/plain": [
                            "(69, 8)"
                        ]
                    },
                    "execution_count": 79,
                    "metadata": {},
                    "output_type": "execute_result"
                }
            ],
            "source": [
                "df_hdb.shape"
            ]
        },
        {
            "cell_type": "code",
            "execution_count": 80,
            "metadata": {},
            "outputs": [
                {
                    "name": "stdout",
                    "output_type": "stream",
                    "text": [
                        "<class 'pandas.core.frame.DataFrame'>\n",
                        "Int64Index: 69 entries, 0 to 68\n",
                        "Data columns (total 8 columns):\n",
                        " #   Column           Non-Null Count  Dtype \n",
                        "---  ------           --------------  ----- \n",
                        " 0   Termo da busca   69 non-null     object\n",
                        " 1   Data da Busca    69 non-null     object\n",
                        " 2   Acervo           69 non-null     object\n",
                        " 3   Ano              69 non-null     int64 \n",
                        " 4   Edição           69 non-null     int64 \n",
                        " 5   Página           69 non-null     int64 \n",
                        " 6   Nome do arquivo  60 non-null     object\n",
                        " 7   Link             69 non-null     object\n",
                        "dtypes: int64(3), object(5)\n",
                        "memory usage: 4.9+ KB\n"
                    ]
                }
            ],
            "source": [
                "df_hdb.info()"
            ]
        },
        {
            "cell_type": "code",
            "execution_count": 81,
            "metadata": {},
            "outputs": [
                {
                    "data": {
                        "text/plain": [
                            "0                O Malho (RJ) - 1902 - 1953\n",
                            "1                O Malho (RJ) - 1902 - 1953\n",
                            "2       Correio da Manhã (RJ) - 1910 a 1919\n",
                            "3       Correio da Manhã (RJ) - 1910 a 1919\n",
                            "4       Correio da Manhã (RJ) - 1910 a 1919\n",
                            "5       Correio da Manhã (RJ) - 1910 a 1919\n",
                            "6       Correio da Manhã (RJ) - 1910 a 1919\n",
                            "7       Correio da Manhã (RJ) - 1910 a 1919\n",
                            "8       Correio da Manhã (RJ) - 1910 a 1919\n",
                            "9     Gazeta de Noticias (RJ) - 1900 a 1919\n",
                            "10    Gazeta de Noticias (RJ) - 1900 a 1919\n",
                            "11    Gazeta de Noticias (RJ) - 1900 a 1919\n",
                            "12    Gazeta de Noticias (RJ) - 1900 a 1919\n",
                            "13    Gazeta de Noticias (RJ) - 1900 a 1919\n",
                            "14    Gazeta de Noticias (RJ) - 1900 a 1919\n",
                            "15    Gazeta de Noticias (RJ) - 1900 a 1919\n",
                            "16    Gazeta de Noticias (RJ) - 1900 a 1919\n",
                            "17    Gazeta de Noticias (RJ) - 1900 a 1919\n",
                            "18    Gazeta de Noticias (RJ) - 1900 a 1919\n",
                            "19    Gazeta de Noticias (RJ) - 1900 a 1919\n",
                            "Name: Acervo, dtype: object"
                        ]
                    },
                    "execution_count": 81,
                    "metadata": {},
                    "output_type": "execute_result"
                }
            ],
            "source": [
                "df_hdb['Acervo'][:20]"
            ]
        },
        {
            "cell_type": "markdown",
            "metadata": {},
            "source": [
                "### Groupby"
            ]
        },
        {
            "cell_type": "code",
            "execution_count": 82,
            "metadata": {},
            "outputs": [
                {
                    "data": {
                        "text/plain": [
                            "<pandas.core.groupby.generic.DataFrameGroupBy object at 0x7f8b1fa11000>"
                        ]
                    },
                    "execution_count": 82,
                    "metadata": {},
                    "output_type": "execute_result"
                }
            ],
            "source": [
                "# Agrupar por Acervo\n",
                "gb_acervo = df_hdb.groupby('Acervo')\n",
                "gb_acervo"
            ]
        },
        {
            "cell_type": "code",
            "execution_count": 83,
            "metadata": {},
            "outputs": [
                {
                    "data": {
                        "text/plain": [
                            "Acervo\n",
                            "A Epoca (RJ) - 1912 a 1919                                                      3\n",
                            "A Imprensa (RJ) - 1898 a 1914                                                   2\n",
                            "A Noite (RJ) - 1911 a 1919                                                      1\n",
                            "A Noite (RJ) - 1920 a 1929                                                      1\n",
                            "A Noite (RJ) - 1930 a 1939                                                      2\n",
                            "A Noticia (RJ) - 1894 a 1916                                                    2\n",
                            "A Rua : Semanario Illustrado (RJ) - 1910 a 1927                                 1\n",
                            "A União (RJ) - 1905 a 1950                                                      1\n",
                            "Correio da Manhã (RJ) - 1901 a 1909                                             4\n",
                            "Correio da Manhã (RJ) - 1910 a 1919                                             7\n",
                            "Correio da Manhã (RJ) - 1920 a 1929                                             2\n",
                            "Correio da Manhã (RJ) - 1936 a 1939                                             1\n",
                            "Diario Carioca : O máximo de jornal  no mínimo de espaço (RJ) - 1960 a 1965     1\n",
                            "Gazeta de Noticias (RJ) - 1900 a 1919                                          13\n",
                            "Jornal do Brasil (RJ) - 1900 a 1909                                             3\n",
                            "Jornal do Brasil (RJ) - 1920 a 1929                                             1\n",
                            "Jornal do Commercio (RJ) - 1910 a 1919                                          3\n",
                            "Jornal do Commercio (RJ) - 1970 a 1979                                          1\n",
                            "O Imparcial (RJ) - 1920 a 1929                                                  2\n",
                            "O Imparcial : Diario Illustrado do Rio de Janeiro (RJ) - 1912 a 1919            2\n",
                            "O Jornal (RJ) - 1920 a 1929                                                     1\n",
                            "O Malho (RJ) - 1902 - 1953                                                      2\n",
                            "O Paiz (RJ) - 1900 a 1909                                                       1\n",
                            "O Paiz (RJ) - 1910 a 1919                                                       1\n",
                            "O Paiz (RJ) - 1920 a 1929                                                       3\n",
                            "O Radical (RJ) - 1932 a 1943                                                    2\n",
                            "O Seculo (RJ) - 1906 a 1916                                                     5\n",
                            "O Social : semanario illustrado (RJ) - 1921 a 1926                              1\n",
                            "dtype: int64"
                        ]
                    },
                    "execution_count": 83,
                    "metadata": {},
                    "output_type": "execute_result"
                }
            ],
            "source": [
                "# Contar o número de ocorrências por Acervo: solicitando o tamanho do grupo\n",
                "gb_acervo.size()"
            ]
        },
        {
            "cell_type": "code",
            "execution_count": 84,
            "metadata": {},
            "outputs": [
                {
                    "data": {
                        "text/plain": [
                            "Acervo\n",
                            "Gazeta de Noticias (RJ) - 1900 a 1919                                          13\n",
                            "Correio da Manhã (RJ) - 1910 a 1919                                             7\n",
                            "O Seculo (RJ) - 1906 a 1916                                                     5\n",
                            "Correio da Manhã (RJ) - 1901 a 1909                                             4\n",
                            "A Epoca (RJ) - 1912 a 1919                                                      3\n",
                            "O Paiz (RJ) - 1920 a 1929                                                       3\n",
                            "Jornal do Commercio (RJ) - 1910 a 1919                                          3\n",
                            "Jornal do Brasil (RJ) - 1900 a 1909                                             3\n",
                            "O Imparcial (RJ) - 1920 a 1929                                                  2\n",
                            "O Malho (RJ) - 1902 - 1953                                                      2\n",
                            "Correio da Manhã (RJ) - 1920 a 1929                                             2\n",
                            "O Radical (RJ) - 1932 a 1943                                                    2\n",
                            "A Noticia (RJ) - 1894 a 1916                                                    2\n",
                            "A Imprensa (RJ) - 1898 a 1914                                                   2\n",
                            "A Noite (RJ) - 1930 a 1939                                                      2\n",
                            "O Imparcial : Diario Illustrado do Rio de Janeiro (RJ) - 1912 a 1919            2\n",
                            "A Noite (RJ) - 1911 a 1919                                                      1\n",
                            "A Noite (RJ) - 1920 a 1929                                                      1\n",
                            "O Paiz (RJ) - 1910 a 1919                                                       1\n",
                            "O Paiz (RJ) - 1900 a 1909                                                       1\n",
                            "A União (RJ) - 1905 a 1950                                                      1\n",
                            "O Jornal (RJ) - 1920 a 1929                                                     1\n",
                            "A Rua : Semanario Illustrado (RJ) - 1910 a 1927                                 1\n",
                            "Jornal do Commercio (RJ) - 1970 a 1979                                          1\n",
                            "Jornal do Brasil (RJ) - 1920 a 1929                                             1\n",
                            "Diario Carioca : O máximo de jornal  no mínimo de espaço (RJ) - 1960 a 1965     1\n",
                            "Correio da Manhã (RJ) - 1936 a 1939                                             1\n",
                            "O Social : semanario illustrado (RJ) - 1921 a 1926                              1\n",
                            "dtype: int64"
                        ]
                    },
                    "execution_count": 84,
                    "metadata": {},
                    "output_type": "execute_result"
                }
            ],
            "source": [
                "# Ordenar os valores em ordem decrescente\n",
                "gb_acervo.size().sort_values(ascending=False)"
            ]
        },
        {
            "cell_type": "markdown",
            "metadata": {},
            "source": [
                "Para fazermos uma análise mais completa dos dados, precisamos excluir o padrão '- XXXX a XXXX' e manter apenas o nome do jornal na coluna 'Acervo'. \n",
                "\n",
                "Mas como faremos isso? um por um?\n",
                "\n",
                "Vamos usar expressões regulares! E pedir uma ajudinha ao ChatGPT-3.\n",
                "\n",
                "## Expressões regulares\n",
                "\n",
                "Expressões regulares são padrões utilizados para selecionar combinações de caracteres em uma string. Tudo é possível com expressões regulares, mas ao mesmo tempo elas podem ser bem complicadas.\n",
                "\n",
                "Veja a lição [Understanding Regular Expressions](http://programminghistorian.org/en/lessons/understanding-regular-expressions) de Doug Knox no Programming Historian para saber mais sobre expressões regulares. Ela ainda está em inglês (e se alguém quiser traduzir para publicarmos em português, será muito bem-vindo e só entrar em contato comigo!)."
            ]
        },
        {
            "cell_type": "markdown",
            "metadata": {},
            "source": [
                "Prompt para o ChatGPT-3.5:\n",
                "\n",
                ">Escreva uma expressão regular para selecionar o padrão '- XXXX a XXXX'. O XXXX corresponde a um ano de quatro dígitos.\n",
                "\n",
                "Essa foi a resposta que o ChatGPT-3.5 me deu:\n",
                "\n",
                "---\n",
                "Você pode usar a seguinte expressão regular para selecionar o padrão \"- XXXX a XXXX\", onde XXXX representa um ano de quatro dígitos:\n",
                "\n",
                "```regex\n",
                "-\\s\\d{4}\\s+a\\s+\\d{4}\n",
                "```\n",
                "\n",
                "Aqui está uma breve explicação da expressão regular:\n",
                "\n",
                "- `-\\s`: Isso corresponde ao caractere \"-\" seguido de um espaço em branco.\n",
                "- `\\d{4}`: Isso corresponde a quatro dígitos consecutivos, que representam um ano de quatro dígitos.\n",
                "- `\\s+a\\s+`: Isso corresponde a um ou mais espaços em branco, seguidos pela letra \"a\" em minúsculas e mais um ou mais espaços em branco.\n",
                "- `\\d{4}`: Isso corresponde novamente a quatro dígitos consecutivos para o segundo ano de quatro dígitos.\n",
                "\n",
                "Essa expressão regular capturará padrões como \"- 2021 a 2022\", onde \"2021\" e \"2022\" são anos de quatro dígitos separados pelo texto \"a\".\n"
            ]
        },
        {
            "cell_type": "code",
            "execution_count": 85,
            "metadata": {},
            "outputs": [],
            "source": [
                "# usar regex para encontrar um padrão e substituir por outro\n",
                "df_hdb['Acervo'] = df_hdb['Acervo'].str.replace(' -\\s\\d{4}\\s+a\\s+\\d{4}', '', regex=True)\n"
            ]
        },
        {
            "cell_type": "code",
            "execution_count": 86,
            "metadata": {},
            "outputs": [],
            "source": [
                "df_hdb['Acervo'] = df_hdb['Acervo'].str.replace(' -\\s\\d{4}', '', regex=True)"
            ]
        },
        {
            "cell_type": "code",
            "execution_count": 87,
            "metadata": {},
            "outputs": [
                {
                    "data": {
                        "text/plain": [
                            "0                                          O Malho (RJ)\n",
                            "1                                          O Malho (RJ)\n",
                            "2                                 Correio da Manhã (RJ)\n",
                            "3                                 Correio da Manhã (RJ)\n",
                            "4                                 Correio da Manhã (RJ)\n",
                            "                            ...                        \n",
                            "64                                         A Noite (RJ)\n",
                            "65                                         A Noite (RJ)\n",
                            "66    O Imparcial : Diario Illustrado do Rio de Jane...\n",
                            "67    O Imparcial : Diario Illustrado do Rio de Jane...\n",
                            "68    Diario Carioca : O máximo de jornal  no mínimo...\n",
                            "Name: Acervo, Length: 69, dtype: object"
                        ]
                    },
                    "execution_count": 87,
                    "metadata": {},
                    "output_type": "execute_result"
                }
            ],
            "source": [
                "df_hdb['Acervo']"
            ]
        },
        {
            "cell_type": "code",
            "execution_count": 88,
            "metadata": {},
            "outputs": [
                {
                    "data": {
                        "text/html": [
                            "<div>\n",
                            "<style scoped>\n",
                            "    .dataframe tbody tr th:only-of-type {\n",
                            "        vertical-align: middle;\n",
                            "    }\n",
                            "\n",
                            "    .dataframe tbody tr th {\n",
                            "        vertical-align: top;\n",
                            "    }\n",
                            "\n",
                            "    .dataframe thead th {\n",
                            "        text-align: right;\n",
                            "    }\n",
                            "</style>\n",
                            "<table border=\"1\" class=\"dataframe\">\n",
                            "  <thead>\n",
                            "    <tr style=\"text-align: right;\">\n",
                            "      <th></th>\n",
                            "      <th>Termo da busca</th>\n",
                            "      <th>Data da Busca</th>\n",
                            "      <th>Acervo</th>\n",
                            "      <th>Ano</th>\n",
                            "      <th>Edição</th>\n",
                            "      <th>Página</th>\n",
                            "      <th>Nome do arquivo</th>\n",
                            "      <th>Link</th>\n",
                            "    </tr>\n",
                            "  </thead>\n",
                            "  <tbody>\n",
                            "    <tr>\n",
                            "      <th>0</th>\n",
                            "      <td>\"moyses zacharias\"</td>\n",
                            "      <td>2023-09-13</td>\n",
                            "      <td>O Malho (RJ)</td>\n",
                            "      <td>1908</td>\n",
                            "      <td>91</td>\n",
                            "      <td>15</td>\n",
                            "      <td>116300_11226.jpg</td>\n",
                            "      <td>http://memoria.bn.br/docreader/116300/11226</td>\n",
                            "    </tr>\n",
                            "    <tr>\n",
                            "      <th>1</th>\n",
                            "      <td>\"moyses zacharias\"</td>\n",
                            "      <td>2023-09-13</td>\n",
                            "      <td>O Malho (RJ)</td>\n",
                            "      <td>1911</td>\n",
                            "      <td>54</td>\n",
                            "      <td>20</td>\n",
                            "      <td>116300_18886.jpg</td>\n",
                            "      <td>http://memoria.bn.br/docreader/116300/18886</td>\n",
                            "    </tr>\n",
                            "    <tr>\n",
                            "      <th>2</th>\n",
                            "      <td>\"moyses zacharias\"</td>\n",
                            "      <td>2023-09-13</td>\n",
                            "      <td>Correio da Manhã (RJ)</td>\n",
                            "      <td>1910</td>\n",
                            "      <td>112</td>\n",
                            "      <td>3</td>\n",
                            "      <td>089842_02_213.jpg</td>\n",
                            "      <td>http://memoria.bn.br/docreader/089842_02/213</td>\n",
                            "    </tr>\n",
                            "    <tr>\n",
                            "      <th>3</th>\n",
                            "      <td>\"moyses zacharias\"</td>\n",
                            "      <td>2023-09-13</td>\n",
                            "      <td>Correio da Manhã (RJ)</td>\n",
                            "      <td>1910</td>\n",
                            "      <td>125</td>\n",
                            "      <td>2</td>\n",
                            "      <td>089842_02_332.jpg</td>\n",
                            "      <td>http://memoria.bn.br/docreader/089842_02/332</td>\n",
                            "    </tr>\n",
                            "    <tr>\n",
                            "      <th>4</th>\n",
                            "      <td>\"moyses zacharias\"</td>\n",
                            "      <td>2023-09-13</td>\n",
                            "      <td>Correio da Manhã (RJ)</td>\n",
                            "      <td>1910</td>\n",
                            "      <td>140</td>\n",
                            "      <td>4</td>\n",
                            "      <td>089842_02_462.jpg</td>\n",
                            "      <td>http://memoria.bn.br/docreader/089842_02/462</td>\n",
                            "    </tr>\n",
                            "  </tbody>\n",
                            "</table>\n",
                            "</div>"
                        ],
                        "text/plain": [
                            "       Termo da busca Data da Busca                 Acervo   Ano  Edição  \\\n",
                            "0  \"moyses zacharias\"    2023-09-13           O Malho (RJ)  1908      91   \n",
                            "1  \"moyses zacharias\"    2023-09-13           O Malho (RJ)  1911      54   \n",
                            "2  \"moyses zacharias\"    2023-09-13  Correio da Manhã (RJ)  1910     112   \n",
                            "3  \"moyses zacharias\"    2023-09-13  Correio da Manhã (RJ)  1910     125   \n",
                            "4  \"moyses zacharias\"    2023-09-13  Correio da Manhã (RJ)  1910     140   \n",
                            "\n",
                            "   Página    Nome do arquivo                                          Link  \n",
                            "0      15   116300_11226.jpg   http://memoria.bn.br/docreader/116300/11226  \n",
                            "1      20   116300_18886.jpg   http://memoria.bn.br/docreader/116300/18886  \n",
                            "2       3  089842_02_213.jpg  http://memoria.bn.br/docreader/089842_02/213  \n",
                            "3       2  089842_02_332.jpg  http://memoria.bn.br/docreader/089842_02/332  \n",
                            "4       4  089842_02_462.jpg  http://memoria.bn.br/docreader/089842_02/462  "
                        ]
                    },
                    "execution_count": 88,
                    "metadata": {},
                    "output_type": "execute_result"
                }
            ],
            "source": [
                "df_hdb.head()"
            ]
        },
        {
            "cell_type": "code",
            "execution_count": 89,
            "metadata": {},
            "outputs": [
                {
                    "data": {
                        "text/plain": [
                            "Acervo\n",
                            "Correio da Manhã (RJ)                                            14\n",
                            "Gazeta de Noticias (RJ)                                          13\n",
                            "O Seculo (RJ)                                                     5\n",
                            "O Paiz (RJ)                                                       5\n",
                            "Jornal do Brasil (RJ)                                             4\n",
                            "A Noite (RJ)                                                      4\n",
                            "Jornal do Commercio (RJ)                                          4\n",
                            "A Epoca (RJ)                                                      3\n",
                            "A Imprensa (RJ)                                                   2\n",
                            "O Imparcial (RJ)                                                  2\n",
                            "O Imparcial : Diario Illustrado do Rio de Janeiro (RJ)            2\n",
                            "O Malho (RJ)                                                      2\n",
                            "O Radical (RJ)                                                    2\n",
                            "A Noticia (RJ)                                                    2\n",
                            "Diario Carioca : O máximo de jornal  no mínimo de espaço (RJ)     1\n",
                            "A União (RJ)                                                      1\n",
                            "O Jornal (RJ)                                                     1\n",
                            "A Rua : Semanario Illustrado (RJ)                                 1\n",
                            "O Social : semanario illustrado (RJ)                              1\n",
                            "dtype: int64"
                        ]
                    },
                    "execution_count": 89,
                    "metadata": {},
                    "output_type": "execute_result"
                }
            ],
            "source": [
                "df_hdb_acervo = df_hdb.groupby('Acervo').size().sort_values(ascending=False)\n",
                "df_hdb_acervo"
            ]
        },
        {
            "cell_type": "code",
            "execution_count": 90,
            "metadata": {},
            "outputs": [
                {
                    "name": "stdout",
                    "output_type": "stream",
                    "text": [
                        "<class 'pandas.core.series.Series'>\n",
                        "Index: 19 entries, Correio da Manhã (RJ) to O Social : semanario illustrado (RJ)\n",
                        "Series name: None\n",
                        "Non-Null Count  Dtype\n",
                        "--------------  -----\n",
                        "19 non-null     int64\n",
                        "dtypes: int64(1)\n",
                        "memory usage: 860.0+ bytes\n"
                    ]
                }
            ],
            "source": [
                "df_hdb_acervo.info()"
            ]
        },
        {
            "cell_type": "code",
            "execution_count": 91,
            "metadata": {},
            "outputs": [
                {
                    "data": {
                        "text/plain": [
                            "Acervo                                                         Ano \n",
                            "A Epoca (RJ)                                                   1915    3\n",
                            "A Imprensa (RJ)                                                1911    2\n",
                            "A Noite (RJ)                                                   1916    1\n",
                            "                                                               1922    1\n",
                            "                                                               1939    2\n",
                            "A Noticia (RJ)                                                 1905    1\n",
                            "                                                               1916    1\n",
                            "A Rua : Semanario Illustrado (RJ)                              1916    1\n",
                            "A União (RJ)                                                   1905    1\n",
                            "Correio da Manhã (RJ)                                          1906    1\n",
                            "                                                               1909    3\n",
                            "                                                               1910    4\n",
                            "                                                               1911    2\n",
                            "                                                               1916    1\n",
                            "                                                               1920    1\n",
                            "                                                               1922    1\n",
                            "                                                               1939    1\n",
                            "Diario Carioca : O máximo de jornal  no mínimo de espaço (RJ)  1960    1\n",
                            "Gazeta de Noticias (RJ)                                        1904    1\n",
                            "                                                               1905    3\n",
                            "                                                               1909    4\n",
                            "                                                               1910    1\n",
                            "                                                               1911    3\n",
                            "                                                               1916    1\n",
                            "Jornal do Brasil (RJ)                                          1908    1\n",
                            "                                                               1909    2\n",
                            "                                                               1924    1\n",
                            "Jornal do Commercio (RJ)                                       1910    2\n",
                            "                                                               1911    1\n",
                            "                                                               1977    1\n",
                            "O Imparcial (RJ)                                               1922    1\n",
                            "                                                               1923    1\n",
                            "O Imparcial : Diario Illustrado do Rio de Janeiro (RJ)         1915    2\n",
                            "O Jornal (RJ)                                                  1922    1\n",
                            "O Malho (RJ)                                                   1908    1\n",
                            "                                                               1911    1\n",
                            "O Paiz (RJ)                                                    1909    1\n",
                            "                                                               1911    1\n",
                            "                                                               1922    3\n",
                            "O Radical (RJ)                                                 1939    2\n",
                            "O Seculo (RJ)                                                  1907    1\n",
                            "                                                               1909    2\n",
                            "                                                               1911    1\n",
                            "                                                               1915    1\n",
                            "O Social : semanario illustrado (RJ)                           1921    1\n",
                            "dtype: int64"
                        ]
                    },
                    "execution_count": 91,
                    "metadata": {},
                    "output_type": "execute_result"
                }
            ],
            "source": [
                "# group by column 'Acervo' and 'Ano'\n",
                "df_hdb_acervo_ano = df_hdb.groupby(['Acervo', 'Ano']).size()\n",
                "df_hdb_acervo_ano"
            ]
        },
        {
            "cell_type": "code",
            "execution_count": 95,
            "metadata": {},
            "outputs": [
                {
                    "data": {
                        "text/html": [
                            "<div>\n",
                            "<style scoped>\n",
                            "    .dataframe tbody tr th:only-of-type {\n",
                            "        vertical-align: middle;\n",
                            "    }\n",
                            "\n",
                            "    .dataframe tbody tr th {\n",
                            "        vertical-align: top;\n",
                            "    }\n",
                            "\n",
                            "    .dataframe thead th {\n",
                            "        text-align: right;\n",
                            "    }\n",
                            "</style>\n",
                            "<table border=\"1\" class=\"dataframe\">\n",
                            "  <thead>\n",
                            "    <tr style=\"text-align: right;\">\n",
                            "      <th></th>\n",
                            "      <th>Acervo</th>\n",
                            "      <th>Total de Ocorrências</th>\n",
                            "    </tr>\n",
                            "  </thead>\n",
                            "  <tbody>\n",
                            "    <tr>\n",
                            "      <th>0</th>\n",
                            "      <td>Correio da Manhã (RJ)</td>\n",
                            "      <td>14</td>\n",
                            "    </tr>\n",
                            "    <tr>\n",
                            "      <th>1</th>\n",
                            "      <td>Gazeta de Noticias (RJ)</td>\n",
                            "      <td>13</td>\n",
                            "    </tr>\n",
                            "    <tr>\n",
                            "      <th>2</th>\n",
                            "      <td>O Seculo (RJ)</td>\n",
                            "      <td>5</td>\n",
                            "    </tr>\n",
                            "    <tr>\n",
                            "      <th>3</th>\n",
                            "      <td>O Paiz (RJ)</td>\n",
                            "      <td>5</td>\n",
                            "    </tr>\n",
                            "    <tr>\n",
                            "      <th>4</th>\n",
                            "      <td>Jornal do Brasil (RJ)</td>\n",
                            "      <td>4</td>\n",
                            "    </tr>\n",
                            "    <tr>\n",
                            "      <th>5</th>\n",
                            "      <td>A Noite (RJ)</td>\n",
                            "      <td>4</td>\n",
                            "    </tr>\n",
                            "    <tr>\n",
                            "      <th>6</th>\n",
                            "      <td>Jornal do Commercio (RJ)</td>\n",
                            "      <td>4</td>\n",
                            "    </tr>\n",
                            "    <tr>\n",
                            "      <th>7</th>\n",
                            "      <td>A Epoca (RJ)</td>\n",
                            "      <td>3</td>\n",
                            "    </tr>\n",
                            "    <tr>\n",
                            "      <th>8</th>\n",
                            "      <td>A Imprensa (RJ)</td>\n",
                            "      <td>2</td>\n",
                            "    </tr>\n",
                            "    <tr>\n",
                            "      <th>9</th>\n",
                            "      <td>O Imparcial (RJ)</td>\n",
                            "      <td>2</td>\n",
                            "    </tr>\n",
                            "    <tr>\n",
                            "      <th>10</th>\n",
                            "      <td>O Imparcial : Diario Illustrado do Rio de Jane...</td>\n",
                            "      <td>2</td>\n",
                            "    </tr>\n",
                            "    <tr>\n",
                            "      <th>11</th>\n",
                            "      <td>O Malho (RJ)</td>\n",
                            "      <td>2</td>\n",
                            "    </tr>\n",
                            "    <tr>\n",
                            "      <th>12</th>\n",
                            "      <td>O Radical (RJ)</td>\n",
                            "      <td>2</td>\n",
                            "    </tr>\n",
                            "    <tr>\n",
                            "      <th>13</th>\n",
                            "      <td>A Noticia (RJ)</td>\n",
                            "      <td>2</td>\n",
                            "    </tr>\n",
                            "    <tr>\n",
                            "      <th>14</th>\n",
                            "      <td>Diario Carioca : O máximo de jornal  no mínimo...</td>\n",
                            "      <td>1</td>\n",
                            "    </tr>\n",
                            "    <tr>\n",
                            "      <th>15</th>\n",
                            "      <td>A União (RJ)</td>\n",
                            "      <td>1</td>\n",
                            "    </tr>\n",
                            "    <tr>\n",
                            "      <th>16</th>\n",
                            "      <td>O Jornal (RJ)</td>\n",
                            "      <td>1</td>\n",
                            "    </tr>\n",
                            "    <tr>\n",
                            "      <th>17</th>\n",
                            "      <td>A Rua : Semanario Illustrado (RJ)</td>\n",
                            "      <td>1</td>\n",
                            "    </tr>\n",
                            "    <tr>\n",
                            "      <th>18</th>\n",
                            "      <td>O Social : semanario illustrado (RJ)</td>\n",
                            "      <td>1</td>\n",
                            "    </tr>\n",
                            "  </tbody>\n",
                            "</table>\n",
                            "</div>"
                        ],
                        "text/plain": [
                            "                                               Acervo  Total de Ocorrências\n",
                            "0                               Correio da Manhã (RJ)                    14\n",
                            "1                             Gazeta de Noticias (RJ)                    13\n",
                            "2                                       O Seculo (RJ)                     5\n",
                            "3                                         O Paiz (RJ)                     5\n",
                            "4                               Jornal do Brasil (RJ)                     4\n",
                            "5                                        A Noite (RJ)                     4\n",
                            "6                            Jornal do Commercio (RJ)                     4\n",
                            "7                                        A Epoca (RJ)                     3\n",
                            "8                                     A Imprensa (RJ)                     2\n",
                            "9                                    O Imparcial (RJ)                     2\n",
                            "10  O Imparcial : Diario Illustrado do Rio de Jane...                     2\n",
                            "11                                       O Malho (RJ)                     2\n",
                            "12                                     O Radical (RJ)                     2\n",
                            "13                                     A Noticia (RJ)                     2\n",
                            "14  Diario Carioca : O máximo de jornal  no mínimo...                     1\n",
                            "15                                       A União (RJ)                     1\n",
                            "16                                      O Jornal (RJ)                     1\n",
                            "17                  A Rua : Semanario Illustrado (RJ)                     1\n",
                            "18               O Social : semanario illustrado (RJ)                     1"
                        ]
                    },
                    "execution_count": 95,
                    "metadata": {},
                    "output_type": "execute_result"
                }
            ],
            "source": [
                "df_acervos = df_hdb.groupby('Acervo').size()\\\n",
                "                   .reset_index(name='Total de Ocorrências')\\\n",
                "                   .sort_values(by=['Total de Ocorrências'], ascending=False, ignore_index=True)\n",
                "df_acervos"
            ]
        },
        {
            "cell_type": "markdown",
            "metadata": {},
            "source": [
                "### Gráfico de barras com Plotly"
            ]
        },
        {
            "cell_type": "code",
            "execution_count": 96,
            "metadata": {},
            "outputs": [],
            "source": [
                "import plotly.express as px"
            ]
        },
        {
            "cell_type": "code",
            "execution_count": 98,
            "metadata": {},
            "outputs": [
                {
                    "data": {
                        "application/vnd.plotly.v1+json": {
                            "config": {
                                "plotlyServerURL": "https://plot.ly"
                            },
                            "data": [
                                {
                                    "alignmentgroup": "True",
                                    "hovertemplate": "Acervo=%{x}<br>Total de Ocorrências=%{y}<extra></extra>",
                                    "legendgroup": "Correio da Manhã (RJ)",
                                    "marker": {
                                        "color": "#636efa",
                                        "pattern": {
                                            "shape": ""
                                        }
                                    },
                                    "name": "Correio da Manhã (RJ)",
                                    "offsetgroup": "Correio da Manhã (RJ)",
                                    "orientation": "v",
                                    "showlegend": true,
                                    "textposition": "auto",
                                    "type": "bar",
                                    "x": [
                                        "Correio da Manhã (RJ)"
                                    ],
                                    "xaxis": "x",
                                    "y": [
                                        14
                                    ],
                                    "yaxis": "y"
                                },
                                {
                                    "alignmentgroup": "True",
                                    "hovertemplate": "Acervo=%{x}<br>Total de Ocorrências=%{y}<extra></extra>",
                                    "legendgroup": "Gazeta de Noticias (RJ)",
                                    "marker": {
                                        "color": "#EF553B",
                                        "pattern": {
                                            "shape": ""
                                        }
                                    },
                                    "name": "Gazeta de Noticias (RJ)",
                                    "offsetgroup": "Gazeta de Noticias (RJ)",
                                    "orientation": "v",
                                    "showlegend": true,
                                    "textposition": "auto",
                                    "type": "bar",
                                    "x": [
                                        "Gazeta de Noticias (RJ)"
                                    ],
                                    "xaxis": "x",
                                    "y": [
                                        13
                                    ],
                                    "yaxis": "y"
                                },
                                {
                                    "alignmentgroup": "True",
                                    "hovertemplate": "Acervo=%{x}<br>Total de Ocorrências=%{y}<extra></extra>",
                                    "legendgroup": "O Seculo (RJ)",
                                    "marker": {
                                        "color": "#00cc96",
                                        "pattern": {
                                            "shape": ""
                                        }
                                    },
                                    "name": "O Seculo (RJ)",
                                    "offsetgroup": "O Seculo (RJ)",
                                    "orientation": "v",
                                    "showlegend": true,
                                    "textposition": "auto",
                                    "type": "bar",
                                    "x": [
                                        "O Seculo (RJ)"
                                    ],
                                    "xaxis": "x",
                                    "y": [
                                        5
                                    ],
                                    "yaxis": "y"
                                },
                                {
                                    "alignmentgroup": "True",
                                    "hovertemplate": "Acervo=%{x}<br>Total de Ocorrências=%{y}<extra></extra>",
                                    "legendgroup": "O Paiz (RJ)",
                                    "marker": {
                                        "color": "#ab63fa",
                                        "pattern": {
                                            "shape": ""
                                        }
                                    },
                                    "name": "O Paiz (RJ)",
                                    "offsetgroup": "O Paiz (RJ)",
                                    "orientation": "v",
                                    "showlegend": true,
                                    "textposition": "auto",
                                    "type": "bar",
                                    "x": [
                                        "O Paiz (RJ)"
                                    ],
                                    "xaxis": "x",
                                    "y": [
                                        5
                                    ],
                                    "yaxis": "y"
                                },
                                {
                                    "alignmentgroup": "True",
                                    "hovertemplate": "Acervo=%{x}<br>Total de Ocorrências=%{y}<extra></extra>",
                                    "legendgroup": "Jornal do Brasil (RJ)",
                                    "marker": {
                                        "color": "#FFA15A",
                                        "pattern": {
                                            "shape": ""
                                        }
                                    },
                                    "name": "Jornal do Brasil (RJ)",
                                    "offsetgroup": "Jornal do Brasil (RJ)",
                                    "orientation": "v",
                                    "showlegend": true,
                                    "textposition": "auto",
                                    "type": "bar",
                                    "x": [
                                        "Jornal do Brasil (RJ)"
                                    ],
                                    "xaxis": "x",
                                    "y": [
                                        4
                                    ],
                                    "yaxis": "y"
                                },
                                {
                                    "alignmentgroup": "True",
                                    "hovertemplate": "Acervo=%{x}<br>Total de Ocorrências=%{y}<extra></extra>",
                                    "legendgroup": "A Noite (RJ)",
                                    "marker": {
                                        "color": "#19d3f3",
                                        "pattern": {
                                            "shape": ""
                                        }
                                    },
                                    "name": "A Noite (RJ)",
                                    "offsetgroup": "A Noite (RJ)",
                                    "orientation": "v",
                                    "showlegend": true,
                                    "textposition": "auto",
                                    "type": "bar",
                                    "x": [
                                        "A Noite (RJ)"
                                    ],
                                    "xaxis": "x",
                                    "y": [
                                        4
                                    ],
                                    "yaxis": "y"
                                },
                                {
                                    "alignmentgroup": "True",
                                    "hovertemplate": "Acervo=%{x}<br>Total de Ocorrências=%{y}<extra></extra>",
                                    "legendgroup": "Jornal do Commercio (RJ)",
                                    "marker": {
                                        "color": "#FF6692",
                                        "pattern": {
                                            "shape": ""
                                        }
                                    },
                                    "name": "Jornal do Commercio (RJ)",
                                    "offsetgroup": "Jornal do Commercio (RJ)",
                                    "orientation": "v",
                                    "showlegend": true,
                                    "textposition": "auto",
                                    "type": "bar",
                                    "x": [
                                        "Jornal do Commercio (RJ)"
                                    ],
                                    "xaxis": "x",
                                    "y": [
                                        4
                                    ],
                                    "yaxis": "y"
                                },
                                {
                                    "alignmentgroup": "True",
                                    "hovertemplate": "Acervo=%{x}<br>Total de Ocorrências=%{y}<extra></extra>",
                                    "legendgroup": "A Epoca (RJ)",
                                    "marker": {
                                        "color": "#B6E880",
                                        "pattern": {
                                            "shape": ""
                                        }
                                    },
                                    "name": "A Epoca (RJ)",
                                    "offsetgroup": "A Epoca (RJ)",
                                    "orientation": "v",
                                    "showlegend": true,
                                    "textposition": "auto",
                                    "type": "bar",
                                    "x": [
                                        "A Epoca (RJ)"
                                    ],
                                    "xaxis": "x",
                                    "y": [
                                        3
                                    ],
                                    "yaxis": "y"
                                },
                                {
                                    "alignmentgroup": "True",
                                    "hovertemplate": "Acervo=%{x}<br>Total de Ocorrências=%{y}<extra></extra>",
                                    "legendgroup": "A Imprensa (RJ)",
                                    "marker": {
                                        "color": "#FF97FF",
                                        "pattern": {
                                            "shape": ""
                                        }
                                    },
                                    "name": "A Imprensa (RJ)",
                                    "offsetgroup": "A Imprensa (RJ)",
                                    "orientation": "v",
                                    "showlegend": true,
                                    "textposition": "auto",
                                    "type": "bar",
                                    "x": [
                                        "A Imprensa (RJ)"
                                    ],
                                    "xaxis": "x",
                                    "y": [
                                        2
                                    ],
                                    "yaxis": "y"
                                },
                                {
                                    "alignmentgroup": "True",
                                    "hovertemplate": "Acervo=%{x}<br>Total de Ocorrências=%{y}<extra></extra>",
                                    "legendgroup": "O Imparcial (RJ)",
                                    "marker": {
                                        "color": "#FECB52",
                                        "pattern": {
                                            "shape": ""
                                        }
                                    },
                                    "name": "O Imparcial (RJ)",
                                    "offsetgroup": "O Imparcial (RJ)",
                                    "orientation": "v",
                                    "showlegend": true,
                                    "textposition": "auto",
                                    "type": "bar",
                                    "x": [
                                        "O Imparcial (RJ)"
                                    ],
                                    "xaxis": "x",
                                    "y": [
                                        2
                                    ],
                                    "yaxis": "y"
                                },
                                {
                                    "alignmentgroup": "True",
                                    "hovertemplate": "Acervo=%{x}<br>Total de Ocorrências=%{y}<extra></extra>",
                                    "legendgroup": "O Imparcial : Diario Illustrado do Rio de Janeiro (RJ)",
                                    "marker": {
                                        "color": "#636efa",
                                        "pattern": {
                                            "shape": ""
                                        }
                                    },
                                    "name": "O Imparcial : Diario Illustrado do Rio de Janeiro (RJ)",
                                    "offsetgroup": "O Imparcial : Diario Illustrado do Rio de Janeiro (RJ)",
                                    "orientation": "v",
                                    "showlegend": true,
                                    "textposition": "auto",
                                    "type": "bar",
                                    "x": [
                                        "O Imparcial : Diario Illustrado do Rio de Janeiro (RJ)"
                                    ],
                                    "xaxis": "x",
                                    "y": [
                                        2
                                    ],
                                    "yaxis": "y"
                                },
                                {
                                    "alignmentgroup": "True",
                                    "hovertemplate": "Acervo=%{x}<br>Total de Ocorrências=%{y}<extra></extra>",
                                    "legendgroup": "O Malho (RJ)",
                                    "marker": {
                                        "color": "#EF553B",
                                        "pattern": {
                                            "shape": ""
                                        }
                                    },
                                    "name": "O Malho (RJ)",
                                    "offsetgroup": "O Malho (RJ)",
                                    "orientation": "v",
                                    "showlegend": true,
                                    "textposition": "auto",
                                    "type": "bar",
                                    "x": [
                                        "O Malho (RJ)"
                                    ],
                                    "xaxis": "x",
                                    "y": [
                                        2
                                    ],
                                    "yaxis": "y"
                                },
                                {
                                    "alignmentgroup": "True",
                                    "hovertemplate": "Acervo=%{x}<br>Total de Ocorrências=%{y}<extra></extra>",
                                    "legendgroup": "O Radical (RJ)",
                                    "marker": {
                                        "color": "#00cc96",
                                        "pattern": {
                                            "shape": ""
                                        }
                                    },
                                    "name": "O Radical (RJ)",
                                    "offsetgroup": "O Radical (RJ)",
                                    "orientation": "v",
                                    "showlegend": true,
                                    "textposition": "auto",
                                    "type": "bar",
                                    "x": [
                                        "O Radical (RJ)"
                                    ],
                                    "xaxis": "x",
                                    "y": [
                                        2
                                    ],
                                    "yaxis": "y"
                                },
                                {
                                    "alignmentgroup": "True",
                                    "hovertemplate": "Acervo=%{x}<br>Total de Ocorrências=%{y}<extra></extra>",
                                    "legendgroup": "A Noticia (RJ)",
                                    "marker": {
                                        "color": "#ab63fa",
                                        "pattern": {
                                            "shape": ""
                                        }
                                    },
                                    "name": "A Noticia (RJ)",
                                    "offsetgroup": "A Noticia (RJ)",
                                    "orientation": "v",
                                    "showlegend": true,
                                    "textposition": "auto",
                                    "type": "bar",
                                    "x": [
                                        "A Noticia (RJ)"
                                    ],
                                    "xaxis": "x",
                                    "y": [
                                        2
                                    ],
                                    "yaxis": "y"
                                },
                                {
                                    "alignmentgroup": "True",
                                    "hovertemplate": "Acervo=%{x}<br>Total de Ocorrências=%{y}<extra></extra>",
                                    "legendgroup": "Diario Carioca : O máximo de jornal  no mínimo de espaço (RJ)",
                                    "marker": {
                                        "color": "#FFA15A",
                                        "pattern": {
                                            "shape": ""
                                        }
                                    },
                                    "name": "Diario Carioca : O máximo de jornal  no mínimo de espaço (RJ)",
                                    "offsetgroup": "Diario Carioca : O máximo de jornal  no mínimo de espaço (RJ)",
                                    "orientation": "v",
                                    "showlegend": true,
                                    "textposition": "auto",
                                    "type": "bar",
                                    "x": [
                                        "Diario Carioca : O máximo de jornal  no mínimo de espaço (RJ)"
                                    ],
                                    "xaxis": "x",
                                    "y": [
                                        1
                                    ],
                                    "yaxis": "y"
                                },
                                {
                                    "alignmentgroup": "True",
                                    "hovertemplate": "Acervo=%{x}<br>Total de Ocorrências=%{y}<extra></extra>",
                                    "legendgroup": "A União (RJ)",
                                    "marker": {
                                        "color": "#19d3f3",
                                        "pattern": {
                                            "shape": ""
                                        }
                                    },
                                    "name": "A União (RJ)",
                                    "offsetgroup": "A União (RJ)",
                                    "orientation": "v",
                                    "showlegend": true,
                                    "textposition": "auto",
                                    "type": "bar",
                                    "x": [
                                        "A União (RJ)"
                                    ],
                                    "xaxis": "x",
                                    "y": [
                                        1
                                    ],
                                    "yaxis": "y"
                                },
                                {
                                    "alignmentgroup": "True",
                                    "hovertemplate": "Acervo=%{x}<br>Total de Ocorrências=%{y}<extra></extra>",
                                    "legendgroup": "O Jornal (RJ)",
                                    "marker": {
                                        "color": "#FF6692",
                                        "pattern": {
                                            "shape": ""
                                        }
                                    },
                                    "name": "O Jornal (RJ)",
                                    "offsetgroup": "O Jornal (RJ)",
                                    "orientation": "v",
                                    "showlegend": true,
                                    "textposition": "auto",
                                    "type": "bar",
                                    "x": [
                                        "O Jornal (RJ)"
                                    ],
                                    "xaxis": "x",
                                    "y": [
                                        1
                                    ],
                                    "yaxis": "y"
                                },
                                {
                                    "alignmentgroup": "True",
                                    "hovertemplate": "Acervo=%{x}<br>Total de Ocorrências=%{y}<extra></extra>",
                                    "legendgroup": "A Rua : Semanario Illustrado (RJ)",
                                    "marker": {
                                        "color": "#B6E880",
                                        "pattern": {
                                            "shape": ""
                                        }
                                    },
                                    "name": "A Rua : Semanario Illustrado (RJ)",
                                    "offsetgroup": "A Rua : Semanario Illustrado (RJ)",
                                    "orientation": "v",
                                    "showlegend": true,
                                    "textposition": "auto",
                                    "type": "bar",
                                    "x": [
                                        "A Rua : Semanario Illustrado (RJ)"
                                    ],
                                    "xaxis": "x",
                                    "y": [
                                        1
                                    ],
                                    "yaxis": "y"
                                },
                                {
                                    "alignmentgroup": "True",
                                    "hovertemplate": "Acervo=%{x}<br>Total de Ocorrências=%{y}<extra></extra>",
                                    "legendgroup": "O Social : semanario illustrado (RJ)",
                                    "marker": {
                                        "color": "#FF97FF",
                                        "pattern": {
                                            "shape": ""
                                        }
                                    },
                                    "name": "O Social : semanario illustrado (RJ)",
                                    "offsetgroup": "O Social : semanario illustrado (RJ)",
                                    "orientation": "v",
                                    "showlegend": true,
                                    "textposition": "auto",
                                    "type": "bar",
                                    "x": [
                                        "O Social : semanario illustrado (RJ)"
                                    ],
                                    "xaxis": "x",
                                    "y": [
                                        1
                                    ],
                                    "yaxis": "y"
                                }
                            ],
                            "layout": {
                                "barmode": "relative",
                                "legend": {
                                    "title": {
                                        "text": "Acervo"
                                    },
                                    "tracegroupgap": 0
                                },
                                "margin": {
                                    "t": 60
                                },
                                "template": {
                                    "data": {
                                        "bar": [
                                            {
                                                "error_x": {
                                                    "color": "#2a3f5f"
                                                },
                                                "error_y": {
                                                    "color": "#2a3f5f"
                                                },
                                                "marker": {
                                                    "line": {
                                                        "color": "#E5ECF6",
                                                        "width": 0.5
                                                    },
                                                    "pattern": {
                                                        "fillmode": "overlay",
                                                        "size": 10,
                                                        "solidity": 0.2
                                                    }
                                                },
                                                "type": "bar"
                                            }
                                        ],
                                        "barpolar": [
                                            {
                                                "marker": {
                                                    "line": {
                                                        "color": "#E5ECF6",
                                                        "width": 0.5
                                                    },
                                                    "pattern": {
                                                        "fillmode": "overlay",
                                                        "size": 10,
                                                        "solidity": 0.2
                                                    }
                                                },
                                                "type": "barpolar"
                                            }
                                        ],
                                        "carpet": [
                                            {
                                                "aaxis": {
                                                    "endlinecolor": "#2a3f5f",
                                                    "gridcolor": "white",
                                                    "linecolor": "white",
                                                    "minorgridcolor": "white",
                                                    "startlinecolor": "#2a3f5f"
                                                },
                                                "baxis": {
                                                    "endlinecolor": "#2a3f5f",
                                                    "gridcolor": "white",
                                                    "linecolor": "white",
                                                    "minorgridcolor": "white",
                                                    "startlinecolor": "#2a3f5f"
                                                },
                                                "type": "carpet"
                                            }
                                        ],
                                        "choropleth": [
                                            {
                                                "colorbar": {
                                                    "outlinewidth": 0,
                                                    "ticks": ""
                                                },
                                                "type": "choropleth"
                                            }
                                        ],
                                        "contour": [
                                            {
                                                "colorbar": {
                                                    "outlinewidth": 0,
                                                    "ticks": ""
                                                },
                                                "colorscale": [
                                                    [
                                                        0,
                                                        "#0d0887"
                                                    ],
                                                    [
                                                        0.1111111111111111,
                                                        "#46039f"
                                                    ],
                                                    [
                                                        0.2222222222222222,
                                                        "#7201a8"
                                                    ],
                                                    [
                                                        0.3333333333333333,
                                                        "#9c179e"
                                                    ],
                                                    [
                                                        0.4444444444444444,
                                                        "#bd3786"
                                                    ],
                                                    [
                                                        0.5555555555555556,
                                                        "#d8576b"
                                                    ],
                                                    [
                                                        0.6666666666666666,
                                                        "#ed7953"
                                                    ],
                                                    [
                                                        0.7777777777777778,
                                                        "#fb9f3a"
                                                    ],
                                                    [
                                                        0.8888888888888888,
                                                        "#fdca26"
                                                    ],
                                                    [
                                                        1,
                                                        "#f0f921"
                                                    ]
                                                ],
                                                "type": "contour"
                                            }
                                        ],
                                        "contourcarpet": [
                                            {
                                                "colorbar": {
                                                    "outlinewidth": 0,
                                                    "ticks": ""
                                                },
                                                "type": "contourcarpet"
                                            }
                                        ],
                                        "heatmap": [
                                            {
                                                "colorbar": {
                                                    "outlinewidth": 0,
                                                    "ticks": ""
                                                },
                                                "colorscale": [
                                                    [
                                                        0,
                                                        "#0d0887"
                                                    ],
                                                    [
                                                        0.1111111111111111,
                                                        "#46039f"
                                                    ],
                                                    [
                                                        0.2222222222222222,
                                                        "#7201a8"
                                                    ],
                                                    [
                                                        0.3333333333333333,
                                                        "#9c179e"
                                                    ],
                                                    [
                                                        0.4444444444444444,
                                                        "#bd3786"
                                                    ],
                                                    [
                                                        0.5555555555555556,
                                                        "#d8576b"
                                                    ],
                                                    [
                                                        0.6666666666666666,
                                                        "#ed7953"
                                                    ],
                                                    [
                                                        0.7777777777777778,
                                                        "#fb9f3a"
                                                    ],
                                                    [
                                                        0.8888888888888888,
                                                        "#fdca26"
                                                    ],
                                                    [
                                                        1,
                                                        "#f0f921"
                                                    ]
                                                ],
                                                "type": "heatmap"
                                            }
                                        ],
                                        "heatmapgl": [
                                            {
                                                "colorbar": {
                                                    "outlinewidth": 0,
                                                    "ticks": ""
                                                },
                                                "colorscale": [
                                                    [
                                                        0,
                                                        "#0d0887"
                                                    ],
                                                    [
                                                        0.1111111111111111,
                                                        "#46039f"
                                                    ],
                                                    [
                                                        0.2222222222222222,
                                                        "#7201a8"
                                                    ],
                                                    [
                                                        0.3333333333333333,
                                                        "#9c179e"
                                                    ],
                                                    [
                                                        0.4444444444444444,
                                                        "#bd3786"
                                                    ],
                                                    [
                                                        0.5555555555555556,
                                                        "#d8576b"
                                                    ],
                                                    [
                                                        0.6666666666666666,
                                                        "#ed7953"
                                                    ],
                                                    [
                                                        0.7777777777777778,
                                                        "#fb9f3a"
                                                    ],
                                                    [
                                                        0.8888888888888888,
                                                        "#fdca26"
                                                    ],
                                                    [
                                                        1,
                                                        "#f0f921"
                                                    ]
                                                ],
                                                "type": "heatmapgl"
                                            }
                                        ],
                                        "histogram": [
                                            {
                                                "marker": {
                                                    "pattern": {
                                                        "fillmode": "overlay",
                                                        "size": 10,
                                                        "solidity": 0.2
                                                    }
                                                },
                                                "type": "histogram"
                                            }
                                        ],
                                        "histogram2d": [
                                            {
                                                "colorbar": {
                                                    "outlinewidth": 0,
                                                    "ticks": ""
                                                },
                                                "colorscale": [
                                                    [
                                                        0,
                                                        "#0d0887"
                                                    ],
                                                    [
                                                        0.1111111111111111,
                                                        "#46039f"
                                                    ],
                                                    [
                                                        0.2222222222222222,
                                                        "#7201a8"
                                                    ],
                                                    [
                                                        0.3333333333333333,
                                                        "#9c179e"
                                                    ],
                                                    [
                                                        0.4444444444444444,
                                                        "#bd3786"
                                                    ],
                                                    [
                                                        0.5555555555555556,
                                                        "#d8576b"
                                                    ],
                                                    [
                                                        0.6666666666666666,
                                                        "#ed7953"
                                                    ],
                                                    [
                                                        0.7777777777777778,
                                                        "#fb9f3a"
                                                    ],
                                                    [
                                                        0.8888888888888888,
                                                        "#fdca26"
                                                    ],
                                                    [
                                                        1,
                                                        "#f0f921"
                                                    ]
                                                ],
                                                "type": "histogram2d"
                                            }
                                        ],
                                        "histogram2dcontour": [
                                            {
                                                "colorbar": {
                                                    "outlinewidth": 0,
                                                    "ticks": ""
                                                },
                                                "colorscale": [
                                                    [
                                                        0,
                                                        "#0d0887"
                                                    ],
                                                    [
                                                        0.1111111111111111,
                                                        "#46039f"
                                                    ],
                                                    [
                                                        0.2222222222222222,
                                                        "#7201a8"
                                                    ],
                                                    [
                                                        0.3333333333333333,
                                                        "#9c179e"
                                                    ],
                                                    [
                                                        0.4444444444444444,
                                                        "#bd3786"
                                                    ],
                                                    [
                                                        0.5555555555555556,
                                                        "#d8576b"
                                                    ],
                                                    [
                                                        0.6666666666666666,
                                                        "#ed7953"
                                                    ],
                                                    [
                                                        0.7777777777777778,
                                                        "#fb9f3a"
                                                    ],
                                                    [
                                                        0.8888888888888888,
                                                        "#fdca26"
                                                    ],
                                                    [
                                                        1,
                                                        "#f0f921"
                                                    ]
                                                ],
                                                "type": "histogram2dcontour"
                                            }
                                        ],
                                        "mesh3d": [
                                            {
                                                "colorbar": {
                                                    "outlinewidth": 0,
                                                    "ticks": ""
                                                },
                                                "type": "mesh3d"
                                            }
                                        ],
                                        "parcoords": [
                                            {
                                                "line": {
                                                    "colorbar": {
                                                        "outlinewidth": 0,
                                                        "ticks": ""
                                                    }
                                                },
                                                "type": "parcoords"
                                            }
                                        ],
                                        "pie": [
                                            {
                                                "automargin": true,
                                                "type": "pie"
                                            }
                                        ],
                                        "scatter": [
                                            {
                                                "fillpattern": {
                                                    "fillmode": "overlay",
                                                    "size": 10,
                                                    "solidity": 0.2
                                                },
                                                "type": "scatter"
                                            }
                                        ],
                                        "scatter3d": [
                                            {
                                                "line": {
                                                    "colorbar": {
                                                        "outlinewidth": 0,
                                                        "ticks": ""
                                                    }
                                                },
                                                "marker": {
                                                    "colorbar": {
                                                        "outlinewidth": 0,
                                                        "ticks": ""
                                                    }
                                                },
                                                "type": "scatter3d"
                                            }
                                        ],
                                        "scattercarpet": [
                                            {
                                                "marker": {
                                                    "colorbar": {
                                                        "outlinewidth": 0,
                                                        "ticks": ""
                                                    }
                                                },
                                                "type": "scattercarpet"
                                            }
                                        ],
                                        "scattergeo": [
                                            {
                                                "marker": {
                                                    "colorbar": {
                                                        "outlinewidth": 0,
                                                        "ticks": ""
                                                    }
                                                },
                                                "type": "scattergeo"
                                            }
                                        ],
                                        "scattergl": [
                                            {
                                                "marker": {
                                                    "colorbar": {
                                                        "outlinewidth": 0,
                                                        "ticks": ""
                                                    }
                                                },
                                                "type": "scattergl"
                                            }
                                        ],
                                        "scattermapbox": [
                                            {
                                                "marker": {
                                                    "colorbar": {
                                                        "outlinewidth": 0,
                                                        "ticks": ""
                                                    }
                                                },
                                                "type": "scattermapbox"
                                            }
                                        ],
                                        "scatterpolar": [
                                            {
                                                "marker": {
                                                    "colorbar": {
                                                        "outlinewidth": 0,
                                                        "ticks": ""
                                                    }
                                                },
                                                "type": "scatterpolar"
                                            }
                                        ],
                                        "scatterpolargl": [
                                            {
                                                "marker": {
                                                    "colorbar": {
                                                        "outlinewidth": 0,
                                                        "ticks": ""
                                                    }
                                                },
                                                "type": "scatterpolargl"
                                            }
                                        ],
                                        "scatterternary": [
                                            {
                                                "marker": {
                                                    "colorbar": {
                                                        "outlinewidth": 0,
                                                        "ticks": ""
                                                    }
                                                },
                                                "type": "scatterternary"
                                            }
                                        ],
                                        "surface": [
                                            {
                                                "colorbar": {
                                                    "outlinewidth": 0,
                                                    "ticks": ""
                                                },
                                                "colorscale": [
                                                    [
                                                        0,
                                                        "#0d0887"
                                                    ],
                                                    [
                                                        0.1111111111111111,
                                                        "#46039f"
                                                    ],
                                                    [
                                                        0.2222222222222222,
                                                        "#7201a8"
                                                    ],
                                                    [
                                                        0.3333333333333333,
                                                        "#9c179e"
                                                    ],
                                                    [
                                                        0.4444444444444444,
                                                        "#bd3786"
                                                    ],
                                                    [
                                                        0.5555555555555556,
                                                        "#d8576b"
                                                    ],
                                                    [
                                                        0.6666666666666666,
                                                        "#ed7953"
                                                    ],
                                                    [
                                                        0.7777777777777778,
                                                        "#fb9f3a"
                                                    ],
                                                    [
                                                        0.8888888888888888,
                                                        "#fdca26"
                                                    ],
                                                    [
                                                        1,
                                                        "#f0f921"
                                                    ]
                                                ],
                                                "type": "surface"
                                            }
                                        ],
                                        "table": [
                                            {
                                                "cells": {
                                                    "fill": {
                                                        "color": "#EBF0F8"
                                                    },
                                                    "line": {
                                                        "color": "white"
                                                    }
                                                },
                                                "header": {
                                                    "fill": {
                                                        "color": "#C8D4E3"
                                                    },
                                                    "line": {
                                                        "color": "white"
                                                    }
                                                },
                                                "type": "table"
                                            }
                                        ]
                                    },
                                    "layout": {
                                        "annotationdefaults": {
                                            "arrowcolor": "#2a3f5f",
                                            "arrowhead": 0,
                                            "arrowwidth": 1
                                        },
                                        "autotypenumbers": "strict",
                                        "coloraxis": {
                                            "colorbar": {
                                                "outlinewidth": 0,
                                                "ticks": ""
                                            }
                                        },
                                        "colorscale": {
                                            "diverging": [
                                                [
                                                    0,
                                                    "#8e0152"
                                                ],
                                                [
                                                    0.1,
                                                    "#c51b7d"
                                                ],
                                                [
                                                    0.2,
                                                    "#de77ae"
                                                ],
                                                [
                                                    0.3,
                                                    "#f1b6da"
                                                ],
                                                [
                                                    0.4,
                                                    "#fde0ef"
                                                ],
                                                [
                                                    0.5,
                                                    "#f7f7f7"
                                                ],
                                                [
                                                    0.6,
                                                    "#e6f5d0"
                                                ],
                                                [
                                                    0.7,
                                                    "#b8e186"
                                                ],
                                                [
                                                    0.8,
                                                    "#7fbc41"
                                                ],
                                                [
                                                    0.9,
                                                    "#4d9221"
                                                ],
                                                [
                                                    1,
                                                    "#276419"
                                                ]
                                            ],
                                            "sequential": [
                                                [
                                                    0,
                                                    "#0d0887"
                                                ],
                                                [
                                                    0.1111111111111111,
                                                    "#46039f"
                                                ],
                                                [
                                                    0.2222222222222222,
                                                    "#7201a8"
                                                ],
                                                [
                                                    0.3333333333333333,
                                                    "#9c179e"
                                                ],
                                                [
                                                    0.4444444444444444,
                                                    "#bd3786"
                                                ],
                                                [
                                                    0.5555555555555556,
                                                    "#d8576b"
                                                ],
                                                [
                                                    0.6666666666666666,
                                                    "#ed7953"
                                                ],
                                                [
                                                    0.7777777777777778,
                                                    "#fb9f3a"
                                                ],
                                                [
                                                    0.8888888888888888,
                                                    "#fdca26"
                                                ],
                                                [
                                                    1,
                                                    "#f0f921"
                                                ]
                                            ],
                                            "sequentialminus": [
                                                [
                                                    0,
                                                    "#0d0887"
                                                ],
                                                [
                                                    0.1111111111111111,
                                                    "#46039f"
                                                ],
                                                [
                                                    0.2222222222222222,
                                                    "#7201a8"
                                                ],
                                                [
                                                    0.3333333333333333,
                                                    "#9c179e"
                                                ],
                                                [
                                                    0.4444444444444444,
                                                    "#bd3786"
                                                ],
                                                [
                                                    0.5555555555555556,
                                                    "#d8576b"
                                                ],
                                                [
                                                    0.6666666666666666,
                                                    "#ed7953"
                                                ],
                                                [
                                                    0.7777777777777778,
                                                    "#fb9f3a"
                                                ],
                                                [
                                                    0.8888888888888888,
                                                    "#fdca26"
                                                ],
                                                [
                                                    1,
                                                    "#f0f921"
                                                ]
                                            ]
                                        },
                                        "colorway": [
                                            "#636efa",
                                            "#EF553B",
                                            "#00cc96",
                                            "#ab63fa",
                                            "#FFA15A",
                                            "#19d3f3",
                                            "#FF6692",
                                            "#B6E880",
                                            "#FF97FF",
                                            "#FECB52"
                                        ],
                                        "font": {
                                            "color": "#2a3f5f"
                                        },
                                        "geo": {
                                            "bgcolor": "white",
                                            "lakecolor": "white",
                                            "landcolor": "#E5ECF6",
                                            "showlakes": true,
                                            "showland": true,
                                            "subunitcolor": "white"
                                        },
                                        "hoverlabel": {
                                            "align": "left"
                                        },
                                        "hovermode": "closest",
                                        "mapbox": {
                                            "style": "light"
                                        },
                                        "paper_bgcolor": "white",
                                        "plot_bgcolor": "#E5ECF6",
                                        "polar": {
                                            "angularaxis": {
                                                "gridcolor": "white",
                                                "linecolor": "white",
                                                "ticks": ""
                                            },
                                            "bgcolor": "#E5ECF6",
                                            "radialaxis": {
                                                "gridcolor": "white",
                                                "linecolor": "white",
                                                "ticks": ""
                                            }
                                        },
                                        "scene": {
                                            "xaxis": {
                                                "backgroundcolor": "#E5ECF6",
                                                "gridcolor": "white",
                                                "gridwidth": 2,
                                                "linecolor": "white",
                                                "showbackground": true,
                                                "ticks": "",
                                                "zerolinecolor": "white"
                                            },
                                            "yaxis": {
                                                "backgroundcolor": "#E5ECF6",
                                                "gridcolor": "white",
                                                "gridwidth": 2,
                                                "linecolor": "white",
                                                "showbackground": true,
                                                "ticks": "",
                                                "zerolinecolor": "white"
                                            },
                                            "zaxis": {
                                                "backgroundcolor": "#E5ECF6",
                                                "gridcolor": "white",
                                                "gridwidth": 2,
                                                "linecolor": "white",
                                                "showbackground": true,
                                                "ticks": "",
                                                "zerolinecolor": "white"
                                            }
                                        },
                                        "shapedefaults": {
                                            "line": {
                                                "color": "#2a3f5f"
                                            }
                                        },
                                        "ternary": {
                                            "aaxis": {
                                                "gridcolor": "white",
                                                "linecolor": "white",
                                                "ticks": ""
                                            },
                                            "baxis": {
                                                "gridcolor": "white",
                                                "linecolor": "white",
                                                "ticks": ""
                                            },
                                            "bgcolor": "#E5ECF6",
                                            "caxis": {
                                                "gridcolor": "white",
                                                "linecolor": "white",
                                                "ticks": ""
                                            }
                                        },
                                        "title": {
                                            "x": 0.05
                                        },
                                        "xaxis": {
                                            "automargin": true,
                                            "gridcolor": "white",
                                            "linecolor": "white",
                                            "ticks": "",
                                            "title": {
                                                "standoff": 15
                                            },
                                            "zerolinecolor": "white",
                                            "zerolinewidth": 2
                                        },
                                        "yaxis": {
                                            "automargin": true,
                                            "gridcolor": "white",
                                            "linecolor": "white",
                                            "ticks": "",
                                            "title": {
                                                "standoff": 15
                                            },
                                            "zerolinecolor": "white",
                                            "zerolinewidth": 2
                                        }
                                    }
                                },
                                "xaxis": {
                                    "anchor": "y",
                                    "categoryarray": [
                                        "Correio da Manhã (RJ)",
                                        "Gazeta de Noticias (RJ)",
                                        "O Seculo (RJ)",
                                        "O Paiz (RJ)",
                                        "Jornal do Brasil (RJ)",
                                        "A Noite (RJ)",
                                        "Jornal do Commercio (RJ)",
                                        "A Epoca (RJ)",
                                        "A Imprensa (RJ)",
                                        "O Imparcial (RJ)",
                                        "O Imparcial : Diario Illustrado do Rio de Janeiro (RJ)",
                                        "O Malho (RJ)",
                                        "O Radical (RJ)",
                                        "A Noticia (RJ)",
                                        "Diario Carioca : O máximo de jornal  no mínimo de espaço (RJ)",
                                        "A União (RJ)",
                                        "O Jornal (RJ)",
                                        "A Rua : Semanario Illustrado (RJ)",
                                        "O Social : semanario illustrado (RJ)"
                                    ],
                                    "categoryorder": "array",
                                    "domain": [
                                        0,
                                        1
                                    ],
                                    "title": {
                                        "text": "Acervo"
                                    }
                                },
                                "yaxis": {
                                    "anchor": "x",
                                    "domain": [
                                        0,
                                        1
                                    ],
                                    "title": {
                                        "text": "Total de Ocorrências"
                                    }
                                }
                            }
                        }
                    },
                    "metadata": {},
                    "output_type": "display_data"
                }
            ],
            "source": [
                "fig = px.bar(df_acervos, x='Acervo', y='Total de Ocorrências',color='Acervo')\n",
                "fig.show()"
            ]
        },
        {
            "cell_type": "markdown",
            "metadata": {},
            "source": [
                "### Filtrar colunas com pandas"
            ]
        },
        {
            "cell_type": "code",
            "execution_count": 99,
            "metadata": {},
            "outputs": [
                {
                    "data": {
                        "text/plain": [
                            "Ano   Acervo                                                       \n",
                            "1904  Gazeta de Noticias (RJ)                                          1\n",
                            "1905  A Noticia (RJ)                                                   1\n",
                            "      A União (RJ)                                                     1\n",
                            "      Gazeta de Noticias (RJ)                                          3\n",
                            "1906  Correio da Manhã (RJ)                                            1\n",
                            "1907  O Seculo (RJ)                                                    1\n",
                            "1908  Jornal do Brasil (RJ)                                            1\n",
                            "      O Malho (RJ)                                                     1\n",
                            "1909  Correio da Manhã (RJ)                                            3\n",
                            "      Gazeta de Noticias (RJ)                                          4\n",
                            "      Jornal do Brasil (RJ)                                            2\n",
                            "      O Paiz (RJ)                                                      1\n",
                            "      O Seculo (RJ)                                                    2\n",
                            "1910  Correio da Manhã (RJ)                                            4\n",
                            "      Gazeta de Noticias (RJ)                                          1\n",
                            "      Jornal do Commercio (RJ)                                         2\n",
                            "1911  A Imprensa (RJ)                                                  2\n",
                            "      Correio da Manhã (RJ)                                            2\n",
                            "      Gazeta de Noticias (RJ)                                          3\n",
                            "      Jornal do Commercio (RJ)                                         1\n",
                            "      O Malho (RJ)                                                     1\n",
                            "      O Paiz (RJ)                                                      1\n",
                            "      O Seculo (RJ)                                                    1\n",
                            "1915  A Epoca (RJ)                                                     3\n",
                            "      O Imparcial : Diario Illustrado do Rio de Janeiro (RJ)           2\n",
                            "      O Seculo (RJ)                                                    1\n",
                            "1916  A Noite (RJ)                                                     1\n",
                            "      A Noticia (RJ)                                                   1\n",
                            "      A Rua : Semanario Illustrado (RJ)                                1\n",
                            "      Correio da Manhã (RJ)                                            1\n",
                            "      Gazeta de Noticias (RJ)                                          1\n",
                            "1920  Correio da Manhã (RJ)                                            1\n",
                            "1921  O Social : semanario illustrado (RJ)                             1\n",
                            "1922  A Noite (RJ)                                                     1\n",
                            "      Correio da Manhã (RJ)                                            1\n",
                            "      O Imparcial (RJ)                                                 1\n",
                            "      O Jornal (RJ)                                                    1\n",
                            "      O Paiz (RJ)                                                      3\n",
                            "1923  O Imparcial (RJ)                                                 1\n",
                            "1924  Jornal do Brasil (RJ)                                            1\n",
                            "1939  A Noite (RJ)                                                     2\n",
                            "      Correio da Manhã (RJ)                                            1\n",
                            "      O Radical (RJ)                                                   2\n",
                            "1960  Diario Carioca : O máximo de jornal  no mínimo de espaço (RJ)    1\n",
                            "1977  Jornal do Commercio (RJ)                                         1\n",
                            "dtype: int64"
                        ]
                    },
                    "execution_count": 99,
                    "metadata": {},
                    "output_type": "execute_result"
                }
            ],
            "source": [
                "# filtrar por colunas 'Ano' e 'Acervo' e contar o número de ocorrências\n",
                "df_ano_acervo = df_hdb.filter(items=['Ano', 'Acervo'])\\\n",
                "    .groupby(['Ano', 'Acervo'])\\\n",
                "    .size()\n",
                "df_ano_acervo"
            ]
        },
        {
            "cell_type": "code",
            "execution_count": 100,
            "metadata": {},
            "outputs": [],
            "source": [
                "# Usar reset_index() para transformar o resultado em um dataframe \n",
                "df_ano_acervo = df_ano_acervo.reset_index(name='quantidade de ocorrências').sort_values(by=['Ano'])"
            ]
        },
        {
            "cell_type": "code",
            "execution_count": 101,
            "metadata": {},
            "outputs": [
                {
                    "data": {
                        "text/html": [
                            "<div>\n",
                            "<style scoped>\n",
                            "    .dataframe tbody tr th:only-of-type {\n",
                            "        vertical-align: middle;\n",
                            "    }\n",
                            "\n",
                            "    .dataframe tbody tr th {\n",
                            "        vertical-align: top;\n",
                            "    }\n",
                            "\n",
                            "    .dataframe thead th {\n",
                            "        text-align: right;\n",
                            "    }\n",
                            "</style>\n",
                            "<table border=\"1\" class=\"dataframe\">\n",
                            "  <thead>\n",
                            "    <tr style=\"text-align: right;\">\n",
                            "      <th></th>\n",
                            "      <th>Ano</th>\n",
                            "      <th>Acervo</th>\n",
                            "      <th>quantidade de ocorrências</th>\n",
                            "    </tr>\n",
                            "  </thead>\n",
                            "  <tbody>\n",
                            "    <tr>\n",
                            "      <th>0</th>\n",
                            "      <td>1904</td>\n",
                            "      <td>Gazeta de Noticias (RJ)</td>\n",
                            "      <td>1</td>\n",
                            "    </tr>\n",
                            "    <tr>\n",
                            "      <th>1</th>\n",
                            "      <td>1905</td>\n",
                            "      <td>A Noticia (RJ)</td>\n",
                            "      <td>1</td>\n",
                            "    </tr>\n",
                            "    <tr>\n",
                            "      <th>2</th>\n",
                            "      <td>1905</td>\n",
                            "      <td>A União (RJ)</td>\n",
                            "      <td>1</td>\n",
                            "    </tr>\n",
                            "    <tr>\n",
                            "      <th>3</th>\n",
                            "      <td>1905</td>\n",
                            "      <td>Gazeta de Noticias (RJ)</td>\n",
                            "      <td>3</td>\n",
                            "    </tr>\n",
                            "    <tr>\n",
                            "      <th>4</th>\n",
                            "      <td>1906</td>\n",
                            "      <td>Correio da Manhã (RJ)</td>\n",
                            "      <td>1</td>\n",
                            "    </tr>\n",
                            "    <tr>\n",
                            "      <th>5</th>\n",
                            "      <td>1907</td>\n",
                            "      <td>O Seculo (RJ)</td>\n",
                            "      <td>1</td>\n",
                            "    </tr>\n",
                            "    <tr>\n",
                            "      <th>6</th>\n",
                            "      <td>1908</td>\n",
                            "      <td>Jornal do Brasil (RJ)</td>\n",
                            "      <td>1</td>\n",
                            "    </tr>\n",
                            "    <tr>\n",
                            "      <th>7</th>\n",
                            "      <td>1908</td>\n",
                            "      <td>O Malho (RJ)</td>\n",
                            "      <td>1</td>\n",
                            "    </tr>\n",
                            "    <tr>\n",
                            "      <th>12</th>\n",
                            "      <td>1909</td>\n",
                            "      <td>O Seculo (RJ)</td>\n",
                            "      <td>2</td>\n",
                            "    </tr>\n",
                            "    <tr>\n",
                            "      <th>11</th>\n",
                            "      <td>1909</td>\n",
                            "      <td>O Paiz (RJ)</td>\n",
                            "      <td>1</td>\n",
                            "    </tr>\n",
                            "    <tr>\n",
                            "      <th>9</th>\n",
                            "      <td>1909</td>\n",
                            "      <td>Gazeta de Noticias (RJ)</td>\n",
                            "      <td>4</td>\n",
                            "    </tr>\n",
                            "    <tr>\n",
                            "      <th>8</th>\n",
                            "      <td>1909</td>\n",
                            "      <td>Correio da Manhã (RJ)</td>\n",
                            "      <td>3</td>\n",
                            "    </tr>\n",
                            "    <tr>\n",
                            "      <th>10</th>\n",
                            "      <td>1909</td>\n",
                            "      <td>Jornal do Brasil (RJ)</td>\n",
                            "      <td>2</td>\n",
                            "    </tr>\n",
                            "    <tr>\n",
                            "      <th>13</th>\n",
                            "      <td>1910</td>\n",
                            "      <td>Correio da Manhã (RJ)</td>\n",
                            "      <td>4</td>\n",
                            "    </tr>\n",
                            "    <tr>\n",
                            "      <th>14</th>\n",
                            "      <td>1910</td>\n",
                            "      <td>Gazeta de Noticias (RJ)</td>\n",
                            "      <td>1</td>\n",
                            "    </tr>\n",
                            "    <tr>\n",
                            "      <th>15</th>\n",
                            "      <td>1910</td>\n",
                            "      <td>Jornal do Commercio (RJ)</td>\n",
                            "      <td>2</td>\n",
                            "    </tr>\n",
                            "    <tr>\n",
                            "      <th>20</th>\n",
                            "      <td>1911</td>\n",
                            "      <td>O Malho (RJ)</td>\n",
                            "      <td>1</td>\n",
                            "    </tr>\n",
                            "    <tr>\n",
                            "      <th>21</th>\n",
                            "      <td>1911</td>\n",
                            "      <td>O Paiz (RJ)</td>\n",
                            "      <td>1</td>\n",
                            "    </tr>\n",
                            "    <tr>\n",
                            "      <th>19</th>\n",
                            "      <td>1911</td>\n",
                            "      <td>Jornal do Commercio (RJ)</td>\n",
                            "      <td>1</td>\n",
                            "    </tr>\n",
                            "    <tr>\n",
                            "      <th>22</th>\n",
                            "      <td>1911</td>\n",
                            "      <td>O Seculo (RJ)</td>\n",
                            "      <td>1</td>\n",
                            "    </tr>\n",
                            "    <tr>\n",
                            "      <th>17</th>\n",
                            "      <td>1911</td>\n",
                            "      <td>Correio da Manhã (RJ)</td>\n",
                            "      <td>2</td>\n",
                            "    </tr>\n",
                            "    <tr>\n",
                            "      <th>16</th>\n",
                            "      <td>1911</td>\n",
                            "      <td>A Imprensa (RJ)</td>\n",
                            "      <td>2</td>\n",
                            "    </tr>\n",
                            "    <tr>\n",
                            "      <th>18</th>\n",
                            "      <td>1911</td>\n",
                            "      <td>Gazeta de Noticias (RJ)</td>\n",
                            "      <td>3</td>\n",
                            "    </tr>\n",
                            "    <tr>\n",
                            "      <th>23</th>\n",
                            "      <td>1915</td>\n",
                            "      <td>A Epoca (RJ)</td>\n",
                            "      <td>3</td>\n",
                            "    </tr>\n",
                            "    <tr>\n",
                            "      <th>24</th>\n",
                            "      <td>1915</td>\n",
                            "      <td>O Imparcial : Diario Illustrado do Rio de Jane...</td>\n",
                            "      <td>2</td>\n",
                            "    </tr>\n",
                            "    <tr>\n",
                            "      <th>25</th>\n",
                            "      <td>1915</td>\n",
                            "      <td>O Seculo (RJ)</td>\n",
                            "      <td>1</td>\n",
                            "    </tr>\n",
                            "    <tr>\n",
                            "      <th>26</th>\n",
                            "      <td>1916</td>\n",
                            "      <td>A Noite (RJ)</td>\n",
                            "      <td>1</td>\n",
                            "    </tr>\n",
                            "    <tr>\n",
                            "      <th>27</th>\n",
                            "      <td>1916</td>\n",
                            "      <td>A Noticia (RJ)</td>\n",
                            "      <td>1</td>\n",
                            "    </tr>\n",
                            "    <tr>\n",
                            "      <th>28</th>\n",
                            "      <td>1916</td>\n",
                            "      <td>A Rua : Semanario Illustrado (RJ)</td>\n",
                            "      <td>1</td>\n",
                            "    </tr>\n",
                            "    <tr>\n",
                            "      <th>29</th>\n",
                            "      <td>1916</td>\n",
                            "      <td>Correio da Manhã (RJ)</td>\n",
                            "      <td>1</td>\n",
                            "    </tr>\n",
                            "    <tr>\n",
                            "      <th>30</th>\n",
                            "      <td>1916</td>\n",
                            "      <td>Gazeta de Noticias (RJ)</td>\n",
                            "      <td>1</td>\n",
                            "    </tr>\n",
                            "    <tr>\n",
                            "      <th>31</th>\n",
                            "      <td>1920</td>\n",
                            "      <td>Correio da Manhã (RJ)</td>\n",
                            "      <td>1</td>\n",
                            "    </tr>\n",
                            "    <tr>\n",
                            "      <th>32</th>\n",
                            "      <td>1921</td>\n",
                            "      <td>O Social : semanario illustrado (RJ)</td>\n",
                            "      <td>1</td>\n",
                            "    </tr>\n",
                            "    <tr>\n",
                            "      <th>33</th>\n",
                            "      <td>1922</td>\n",
                            "      <td>A Noite (RJ)</td>\n",
                            "      <td>1</td>\n",
                            "    </tr>\n",
                            "    <tr>\n",
                            "      <th>34</th>\n",
                            "      <td>1922</td>\n",
                            "      <td>Correio da Manhã (RJ)</td>\n",
                            "      <td>1</td>\n",
                            "    </tr>\n",
                            "    <tr>\n",
                            "      <th>35</th>\n",
                            "      <td>1922</td>\n",
                            "      <td>O Imparcial (RJ)</td>\n",
                            "      <td>1</td>\n",
                            "    </tr>\n",
                            "    <tr>\n",
                            "      <th>36</th>\n",
                            "      <td>1922</td>\n",
                            "      <td>O Jornal (RJ)</td>\n",
                            "      <td>1</td>\n",
                            "    </tr>\n",
                            "    <tr>\n",
                            "      <th>37</th>\n",
                            "      <td>1922</td>\n",
                            "      <td>O Paiz (RJ)</td>\n",
                            "      <td>3</td>\n",
                            "    </tr>\n",
                            "    <tr>\n",
                            "      <th>38</th>\n",
                            "      <td>1923</td>\n",
                            "      <td>O Imparcial (RJ)</td>\n",
                            "      <td>1</td>\n",
                            "    </tr>\n",
                            "    <tr>\n",
                            "      <th>39</th>\n",
                            "      <td>1924</td>\n",
                            "      <td>Jornal do Brasil (RJ)</td>\n",
                            "      <td>1</td>\n",
                            "    </tr>\n",
                            "    <tr>\n",
                            "      <th>40</th>\n",
                            "      <td>1939</td>\n",
                            "      <td>A Noite (RJ)</td>\n",
                            "      <td>2</td>\n",
                            "    </tr>\n",
                            "    <tr>\n",
                            "      <th>41</th>\n",
                            "      <td>1939</td>\n",
                            "      <td>Correio da Manhã (RJ)</td>\n",
                            "      <td>1</td>\n",
                            "    </tr>\n",
                            "    <tr>\n",
                            "      <th>42</th>\n",
                            "      <td>1939</td>\n",
                            "      <td>O Radical (RJ)</td>\n",
                            "      <td>2</td>\n",
                            "    </tr>\n",
                            "    <tr>\n",
                            "      <th>43</th>\n",
                            "      <td>1960</td>\n",
                            "      <td>Diario Carioca : O máximo de jornal  no mínimo...</td>\n",
                            "      <td>1</td>\n",
                            "    </tr>\n",
                            "    <tr>\n",
                            "      <th>44</th>\n",
                            "      <td>1977</td>\n",
                            "      <td>Jornal do Commercio (RJ)</td>\n",
                            "      <td>1</td>\n",
                            "    </tr>\n",
                            "  </tbody>\n",
                            "</table>\n",
                            "</div>"
                        ],
                        "text/plain": [
                            "     Ano                                             Acervo  \\\n",
                            "0   1904                            Gazeta de Noticias (RJ)   \n",
                            "1   1905                                     A Noticia (RJ)   \n",
                            "2   1905                                       A União (RJ)   \n",
                            "3   1905                            Gazeta de Noticias (RJ)   \n",
                            "4   1906                              Correio da Manhã (RJ)   \n",
                            "5   1907                                      O Seculo (RJ)   \n",
                            "6   1908                              Jornal do Brasil (RJ)   \n",
                            "7   1908                                       O Malho (RJ)   \n",
                            "12  1909                                      O Seculo (RJ)   \n",
                            "11  1909                                        O Paiz (RJ)   \n",
                            "9   1909                            Gazeta de Noticias (RJ)   \n",
                            "8   1909                              Correio da Manhã (RJ)   \n",
                            "10  1909                              Jornal do Brasil (RJ)   \n",
                            "13  1910                              Correio da Manhã (RJ)   \n",
                            "14  1910                            Gazeta de Noticias (RJ)   \n",
                            "15  1910                           Jornal do Commercio (RJ)   \n",
                            "20  1911                                       O Malho (RJ)   \n",
                            "21  1911                                        O Paiz (RJ)   \n",
                            "19  1911                           Jornal do Commercio (RJ)   \n",
                            "22  1911                                      O Seculo (RJ)   \n",
                            "17  1911                              Correio da Manhã (RJ)   \n",
                            "16  1911                                    A Imprensa (RJ)   \n",
                            "18  1911                            Gazeta de Noticias (RJ)   \n",
                            "23  1915                                       A Epoca (RJ)   \n",
                            "24  1915  O Imparcial : Diario Illustrado do Rio de Jane...   \n",
                            "25  1915                                      O Seculo (RJ)   \n",
                            "26  1916                                       A Noite (RJ)   \n",
                            "27  1916                                     A Noticia (RJ)   \n",
                            "28  1916                  A Rua : Semanario Illustrado (RJ)   \n",
                            "29  1916                              Correio da Manhã (RJ)   \n",
                            "30  1916                            Gazeta de Noticias (RJ)   \n",
                            "31  1920                              Correio da Manhã (RJ)   \n",
                            "32  1921               O Social : semanario illustrado (RJ)   \n",
                            "33  1922                                       A Noite (RJ)   \n",
                            "34  1922                              Correio da Manhã (RJ)   \n",
                            "35  1922                                   O Imparcial (RJ)   \n",
                            "36  1922                                      O Jornal (RJ)   \n",
                            "37  1922                                        O Paiz (RJ)   \n",
                            "38  1923                                   O Imparcial (RJ)   \n",
                            "39  1924                              Jornal do Brasil (RJ)   \n",
                            "40  1939                                       A Noite (RJ)   \n",
                            "41  1939                              Correio da Manhã (RJ)   \n",
                            "42  1939                                     O Radical (RJ)   \n",
                            "43  1960  Diario Carioca : O máximo de jornal  no mínimo...   \n",
                            "44  1977                           Jornal do Commercio (RJ)   \n",
                            "\n",
                            "    quantidade de ocorrências  \n",
                            "0                           1  \n",
                            "1                           1  \n",
                            "2                           1  \n",
                            "3                           3  \n",
                            "4                           1  \n",
                            "5                           1  \n",
                            "6                           1  \n",
                            "7                           1  \n",
                            "12                          2  \n",
                            "11                          1  \n",
                            "9                           4  \n",
                            "8                           3  \n",
                            "10                          2  \n",
                            "13                          4  \n",
                            "14                          1  \n",
                            "15                          2  \n",
                            "20                          1  \n",
                            "21                          1  \n",
                            "19                          1  \n",
                            "22                          1  \n",
                            "17                          2  \n",
                            "16                          2  \n",
                            "18                          3  \n",
                            "23                          3  \n",
                            "24                          2  \n",
                            "25                          1  \n",
                            "26                          1  \n",
                            "27                          1  \n",
                            "28                          1  \n",
                            "29                          1  \n",
                            "30                          1  \n",
                            "31                          1  \n",
                            "32                          1  \n",
                            "33                          1  \n",
                            "34                          1  \n",
                            "35                          1  \n",
                            "36                          1  \n",
                            "37                          3  \n",
                            "38                          1  \n",
                            "39                          1  \n",
                            "40                          2  \n",
                            "41                          1  \n",
                            "42                          2  \n",
                            "43                          1  \n",
                            "44                          1  "
                        ]
                    },
                    "execution_count": 101,
                    "metadata": {},
                    "output_type": "execute_result"
                }
            ],
            "source": [
                "df_ano_acervo\n"
            ]
        },
        {
            "cell_type": "markdown",
            "metadata": {},
            "source": [
                "### Scatter plot com Plotly"
            ]
        },
        {
            "cell_type": "code",
            "execution_count": 104,
            "metadata": {},
            "outputs": [
                {
                    "data": {
                        "application/vnd.plotly.v1+json": {
                            "config": {
                                "plotlyServerURL": "https://plot.ly"
                            },
                            "data": [
                                {
                                    "hovertemplate": "Ano=%{x}<br>Acervo=%{y}<br>quantidade de ocorrências=%{marker.color}<extra></extra>",
                                    "legendgroup": "",
                                    "marker": {
                                        "color": [
                                            1,
                                            1,
                                            1,
                                            3,
                                            1,
                                            1,
                                            1,
                                            1,
                                            2,
                                            1,
                                            4,
                                            3,
                                            2,
                                            4,
                                            1,
                                            2,
                                            1,
                                            1,
                                            1,
                                            1,
                                            2,
                                            2,
                                            3,
                                            3,
                                            2,
                                            1,
                                            1,
                                            1,
                                            1,
                                            1,
                                            1,
                                            1,
                                            1,
                                            1,
                                            1,
                                            1,
                                            1,
                                            3,
                                            1,
                                            1,
                                            2,
                                            1,
                                            2,
                                            1,
                                            1
                                        ],
                                        "coloraxis": "coloraxis",
                                        "size": [
                                            1,
                                            1,
                                            1,
                                            3,
                                            1,
                                            1,
                                            1,
                                            1,
                                            2,
                                            1,
                                            4,
                                            3,
                                            2,
                                            4,
                                            1,
                                            2,
                                            1,
                                            1,
                                            1,
                                            1,
                                            2,
                                            2,
                                            3,
                                            3,
                                            2,
                                            1,
                                            1,
                                            1,
                                            1,
                                            1,
                                            1,
                                            1,
                                            1,
                                            1,
                                            1,
                                            1,
                                            1,
                                            3,
                                            1,
                                            1,
                                            2,
                                            1,
                                            2,
                                            1,
                                            1
                                        ],
                                        "sizemode": "area",
                                        "sizeref": 0.01,
                                        "symbol": "circle"
                                    },
                                    "mode": "markers",
                                    "name": "",
                                    "orientation": "h",
                                    "showlegend": false,
                                    "type": "scatter",
                                    "x": [
                                        1904,
                                        1905,
                                        1905,
                                        1905,
                                        1906,
                                        1907,
                                        1908,
                                        1908,
                                        1909,
                                        1909,
                                        1909,
                                        1909,
                                        1909,
                                        1910,
                                        1910,
                                        1910,
                                        1911,
                                        1911,
                                        1911,
                                        1911,
                                        1911,
                                        1911,
                                        1911,
                                        1915,
                                        1915,
                                        1915,
                                        1916,
                                        1916,
                                        1916,
                                        1916,
                                        1916,
                                        1920,
                                        1921,
                                        1922,
                                        1922,
                                        1922,
                                        1922,
                                        1922,
                                        1923,
                                        1924,
                                        1939,
                                        1939,
                                        1939,
                                        1960,
                                        1977
                                    ],
                                    "xaxis": "x",
                                    "y": [
                                        "Gazeta de Noticias (RJ)",
                                        "A Noticia (RJ)",
                                        "A União (RJ)",
                                        "Gazeta de Noticias (RJ)",
                                        "Correio da Manhã (RJ)",
                                        "O Seculo (RJ)",
                                        "Jornal do Brasil (RJ)",
                                        "O Malho (RJ)",
                                        "O Seculo (RJ)",
                                        "O Paiz (RJ)",
                                        "Gazeta de Noticias (RJ)",
                                        "Correio da Manhã (RJ)",
                                        "Jornal do Brasil (RJ)",
                                        "Correio da Manhã (RJ)",
                                        "Gazeta de Noticias (RJ)",
                                        "Jornal do Commercio (RJ)",
                                        "O Malho (RJ)",
                                        "O Paiz (RJ)",
                                        "Jornal do Commercio (RJ)",
                                        "O Seculo (RJ)",
                                        "Correio da Manhã (RJ)",
                                        "A Imprensa (RJ)",
                                        "Gazeta de Noticias (RJ)",
                                        "A Epoca (RJ)",
                                        "O Imparcial : Diario Illustrado do Rio de Janeiro (RJ)",
                                        "O Seculo (RJ)",
                                        "A Noite (RJ)",
                                        "A Noticia (RJ)",
                                        "A Rua : Semanario Illustrado (RJ)",
                                        "Correio da Manhã (RJ)",
                                        "Gazeta de Noticias (RJ)",
                                        "Correio da Manhã (RJ)",
                                        "O Social : semanario illustrado (RJ)",
                                        "A Noite (RJ)",
                                        "Correio da Manhã (RJ)",
                                        "O Imparcial (RJ)",
                                        "O Jornal (RJ)",
                                        "O Paiz (RJ)",
                                        "O Imparcial (RJ)",
                                        "Jornal do Brasil (RJ)",
                                        "A Noite (RJ)",
                                        "Correio da Manhã (RJ)",
                                        "O Radical (RJ)",
                                        "Diario Carioca : O máximo de jornal  no mínimo de espaço (RJ)",
                                        "Jornal do Commercio (RJ)"
                                    ],
                                    "yaxis": "y"
                                }
                            ],
                            "layout": {
                                "coloraxis": {
                                    "colorbar": {
                                        "title": {
                                            "text": "quantidade de ocorrências"
                                        }
                                    },
                                    "colorscale": [
                                        [
                                            0,
                                            "#0d0887"
                                        ],
                                        [
                                            0.1111111111111111,
                                            "#46039f"
                                        ],
                                        [
                                            0.2222222222222222,
                                            "#7201a8"
                                        ],
                                        [
                                            0.3333333333333333,
                                            "#9c179e"
                                        ],
                                        [
                                            0.4444444444444444,
                                            "#bd3786"
                                        ],
                                        [
                                            0.5555555555555556,
                                            "#d8576b"
                                        ],
                                        [
                                            0.6666666666666666,
                                            "#ed7953"
                                        ],
                                        [
                                            0.7777777777777778,
                                            "#fb9f3a"
                                        ],
                                        [
                                            0.8888888888888888,
                                            "#fdca26"
                                        ],
                                        [
                                            1,
                                            "#f0f921"
                                        ]
                                    ]
                                },
                                "height": 1000,
                                "legend": {
                                    "itemsizing": "constant",
                                    "tracegroupgap": 0
                                },
                                "template": {
                                    "data": {
                                        "bar": [
                                            {
                                                "error_x": {
                                                    "color": "#2a3f5f"
                                                },
                                                "error_y": {
                                                    "color": "#2a3f5f"
                                                },
                                                "marker": {
                                                    "line": {
                                                        "color": "#E5ECF6",
                                                        "width": 0.5
                                                    },
                                                    "pattern": {
                                                        "fillmode": "overlay",
                                                        "size": 10,
                                                        "solidity": 0.2
                                                    }
                                                },
                                                "type": "bar"
                                            }
                                        ],
                                        "barpolar": [
                                            {
                                                "marker": {
                                                    "line": {
                                                        "color": "#E5ECF6",
                                                        "width": 0.5
                                                    },
                                                    "pattern": {
                                                        "fillmode": "overlay",
                                                        "size": 10,
                                                        "solidity": 0.2
                                                    }
                                                },
                                                "type": "barpolar"
                                            }
                                        ],
                                        "carpet": [
                                            {
                                                "aaxis": {
                                                    "endlinecolor": "#2a3f5f",
                                                    "gridcolor": "white",
                                                    "linecolor": "white",
                                                    "minorgridcolor": "white",
                                                    "startlinecolor": "#2a3f5f"
                                                },
                                                "baxis": {
                                                    "endlinecolor": "#2a3f5f",
                                                    "gridcolor": "white",
                                                    "linecolor": "white",
                                                    "minorgridcolor": "white",
                                                    "startlinecolor": "#2a3f5f"
                                                },
                                                "type": "carpet"
                                            }
                                        ],
                                        "choropleth": [
                                            {
                                                "colorbar": {
                                                    "outlinewidth": 0,
                                                    "ticks": ""
                                                },
                                                "type": "choropleth"
                                            }
                                        ],
                                        "contour": [
                                            {
                                                "colorbar": {
                                                    "outlinewidth": 0,
                                                    "ticks": ""
                                                },
                                                "colorscale": [
                                                    [
                                                        0,
                                                        "#0d0887"
                                                    ],
                                                    [
                                                        0.1111111111111111,
                                                        "#46039f"
                                                    ],
                                                    [
                                                        0.2222222222222222,
                                                        "#7201a8"
                                                    ],
                                                    [
                                                        0.3333333333333333,
                                                        "#9c179e"
                                                    ],
                                                    [
                                                        0.4444444444444444,
                                                        "#bd3786"
                                                    ],
                                                    [
                                                        0.5555555555555556,
                                                        "#d8576b"
                                                    ],
                                                    [
                                                        0.6666666666666666,
                                                        "#ed7953"
                                                    ],
                                                    [
                                                        0.7777777777777778,
                                                        "#fb9f3a"
                                                    ],
                                                    [
                                                        0.8888888888888888,
                                                        "#fdca26"
                                                    ],
                                                    [
                                                        1,
                                                        "#f0f921"
                                                    ]
                                                ],
                                                "type": "contour"
                                            }
                                        ],
                                        "contourcarpet": [
                                            {
                                                "colorbar": {
                                                    "outlinewidth": 0,
                                                    "ticks": ""
                                                },
                                                "type": "contourcarpet"
                                            }
                                        ],
                                        "heatmap": [
                                            {
                                                "colorbar": {
                                                    "outlinewidth": 0,
                                                    "ticks": ""
                                                },
                                                "colorscale": [
                                                    [
                                                        0,
                                                        "#0d0887"
                                                    ],
                                                    [
                                                        0.1111111111111111,
                                                        "#46039f"
                                                    ],
                                                    [
                                                        0.2222222222222222,
                                                        "#7201a8"
                                                    ],
                                                    [
                                                        0.3333333333333333,
                                                        "#9c179e"
                                                    ],
                                                    [
                                                        0.4444444444444444,
                                                        "#bd3786"
                                                    ],
                                                    [
                                                        0.5555555555555556,
                                                        "#d8576b"
                                                    ],
                                                    [
                                                        0.6666666666666666,
                                                        "#ed7953"
                                                    ],
                                                    [
                                                        0.7777777777777778,
                                                        "#fb9f3a"
                                                    ],
                                                    [
                                                        0.8888888888888888,
                                                        "#fdca26"
                                                    ],
                                                    [
                                                        1,
                                                        "#f0f921"
                                                    ]
                                                ],
                                                "type": "heatmap"
                                            }
                                        ],
                                        "heatmapgl": [
                                            {
                                                "colorbar": {
                                                    "outlinewidth": 0,
                                                    "ticks": ""
                                                },
                                                "colorscale": [
                                                    [
                                                        0,
                                                        "#0d0887"
                                                    ],
                                                    [
                                                        0.1111111111111111,
                                                        "#46039f"
                                                    ],
                                                    [
                                                        0.2222222222222222,
                                                        "#7201a8"
                                                    ],
                                                    [
                                                        0.3333333333333333,
                                                        "#9c179e"
                                                    ],
                                                    [
                                                        0.4444444444444444,
                                                        "#bd3786"
                                                    ],
                                                    [
                                                        0.5555555555555556,
                                                        "#d8576b"
                                                    ],
                                                    [
                                                        0.6666666666666666,
                                                        "#ed7953"
                                                    ],
                                                    [
                                                        0.7777777777777778,
                                                        "#fb9f3a"
                                                    ],
                                                    [
                                                        0.8888888888888888,
                                                        "#fdca26"
                                                    ],
                                                    [
                                                        1,
                                                        "#f0f921"
                                                    ]
                                                ],
                                                "type": "heatmapgl"
                                            }
                                        ],
                                        "histogram": [
                                            {
                                                "marker": {
                                                    "pattern": {
                                                        "fillmode": "overlay",
                                                        "size": 10,
                                                        "solidity": 0.2
                                                    }
                                                },
                                                "type": "histogram"
                                            }
                                        ],
                                        "histogram2d": [
                                            {
                                                "colorbar": {
                                                    "outlinewidth": 0,
                                                    "ticks": ""
                                                },
                                                "colorscale": [
                                                    [
                                                        0,
                                                        "#0d0887"
                                                    ],
                                                    [
                                                        0.1111111111111111,
                                                        "#46039f"
                                                    ],
                                                    [
                                                        0.2222222222222222,
                                                        "#7201a8"
                                                    ],
                                                    [
                                                        0.3333333333333333,
                                                        "#9c179e"
                                                    ],
                                                    [
                                                        0.4444444444444444,
                                                        "#bd3786"
                                                    ],
                                                    [
                                                        0.5555555555555556,
                                                        "#d8576b"
                                                    ],
                                                    [
                                                        0.6666666666666666,
                                                        "#ed7953"
                                                    ],
                                                    [
                                                        0.7777777777777778,
                                                        "#fb9f3a"
                                                    ],
                                                    [
                                                        0.8888888888888888,
                                                        "#fdca26"
                                                    ],
                                                    [
                                                        1,
                                                        "#f0f921"
                                                    ]
                                                ],
                                                "type": "histogram2d"
                                            }
                                        ],
                                        "histogram2dcontour": [
                                            {
                                                "colorbar": {
                                                    "outlinewidth": 0,
                                                    "ticks": ""
                                                },
                                                "colorscale": [
                                                    [
                                                        0,
                                                        "#0d0887"
                                                    ],
                                                    [
                                                        0.1111111111111111,
                                                        "#46039f"
                                                    ],
                                                    [
                                                        0.2222222222222222,
                                                        "#7201a8"
                                                    ],
                                                    [
                                                        0.3333333333333333,
                                                        "#9c179e"
                                                    ],
                                                    [
                                                        0.4444444444444444,
                                                        "#bd3786"
                                                    ],
                                                    [
                                                        0.5555555555555556,
                                                        "#d8576b"
                                                    ],
                                                    [
                                                        0.6666666666666666,
                                                        "#ed7953"
                                                    ],
                                                    [
                                                        0.7777777777777778,
                                                        "#fb9f3a"
                                                    ],
                                                    [
                                                        0.8888888888888888,
                                                        "#fdca26"
                                                    ],
                                                    [
                                                        1,
                                                        "#f0f921"
                                                    ]
                                                ],
                                                "type": "histogram2dcontour"
                                            }
                                        ],
                                        "mesh3d": [
                                            {
                                                "colorbar": {
                                                    "outlinewidth": 0,
                                                    "ticks": ""
                                                },
                                                "type": "mesh3d"
                                            }
                                        ],
                                        "parcoords": [
                                            {
                                                "line": {
                                                    "colorbar": {
                                                        "outlinewidth": 0,
                                                        "ticks": ""
                                                    }
                                                },
                                                "type": "parcoords"
                                            }
                                        ],
                                        "pie": [
                                            {
                                                "automargin": true,
                                                "type": "pie"
                                            }
                                        ],
                                        "scatter": [
                                            {
                                                "fillpattern": {
                                                    "fillmode": "overlay",
                                                    "size": 10,
                                                    "solidity": 0.2
                                                },
                                                "type": "scatter"
                                            }
                                        ],
                                        "scatter3d": [
                                            {
                                                "line": {
                                                    "colorbar": {
                                                        "outlinewidth": 0,
                                                        "ticks": ""
                                                    }
                                                },
                                                "marker": {
                                                    "colorbar": {
                                                        "outlinewidth": 0,
                                                        "ticks": ""
                                                    }
                                                },
                                                "type": "scatter3d"
                                            }
                                        ],
                                        "scattercarpet": [
                                            {
                                                "marker": {
                                                    "colorbar": {
                                                        "outlinewidth": 0,
                                                        "ticks": ""
                                                    }
                                                },
                                                "type": "scattercarpet"
                                            }
                                        ],
                                        "scattergeo": [
                                            {
                                                "marker": {
                                                    "colorbar": {
                                                        "outlinewidth": 0,
                                                        "ticks": ""
                                                    }
                                                },
                                                "type": "scattergeo"
                                            }
                                        ],
                                        "scattergl": [
                                            {
                                                "marker": {
                                                    "colorbar": {
                                                        "outlinewidth": 0,
                                                        "ticks": ""
                                                    }
                                                },
                                                "type": "scattergl"
                                            }
                                        ],
                                        "scattermapbox": [
                                            {
                                                "marker": {
                                                    "colorbar": {
                                                        "outlinewidth": 0,
                                                        "ticks": ""
                                                    }
                                                },
                                                "type": "scattermapbox"
                                            }
                                        ],
                                        "scatterpolar": [
                                            {
                                                "marker": {
                                                    "colorbar": {
                                                        "outlinewidth": 0,
                                                        "ticks": ""
                                                    }
                                                },
                                                "type": "scatterpolar"
                                            }
                                        ],
                                        "scatterpolargl": [
                                            {
                                                "marker": {
                                                    "colorbar": {
                                                        "outlinewidth": 0,
                                                        "ticks": ""
                                                    }
                                                },
                                                "type": "scatterpolargl"
                                            }
                                        ],
                                        "scatterternary": [
                                            {
                                                "marker": {
                                                    "colorbar": {
                                                        "outlinewidth": 0,
                                                        "ticks": ""
                                                    }
                                                },
                                                "type": "scatterternary"
                                            }
                                        ],
                                        "surface": [
                                            {
                                                "colorbar": {
                                                    "outlinewidth": 0,
                                                    "ticks": ""
                                                },
                                                "colorscale": [
                                                    [
                                                        0,
                                                        "#0d0887"
                                                    ],
                                                    [
                                                        0.1111111111111111,
                                                        "#46039f"
                                                    ],
                                                    [
                                                        0.2222222222222222,
                                                        "#7201a8"
                                                    ],
                                                    [
                                                        0.3333333333333333,
                                                        "#9c179e"
                                                    ],
                                                    [
                                                        0.4444444444444444,
                                                        "#bd3786"
                                                    ],
                                                    [
                                                        0.5555555555555556,
                                                        "#d8576b"
                                                    ],
                                                    [
                                                        0.6666666666666666,
                                                        "#ed7953"
                                                    ],
                                                    [
                                                        0.7777777777777778,
                                                        "#fb9f3a"
                                                    ],
                                                    [
                                                        0.8888888888888888,
                                                        "#fdca26"
                                                    ],
                                                    [
                                                        1,
                                                        "#f0f921"
                                                    ]
                                                ],
                                                "type": "surface"
                                            }
                                        ],
                                        "table": [
                                            {
                                                "cells": {
                                                    "fill": {
                                                        "color": "#EBF0F8"
                                                    },
                                                    "line": {
                                                        "color": "white"
                                                    }
                                                },
                                                "header": {
                                                    "fill": {
                                                        "color": "#C8D4E3"
                                                    },
                                                    "line": {
                                                        "color": "white"
                                                    }
                                                },
                                                "type": "table"
                                            }
                                        ]
                                    },
                                    "layout": {
                                        "annotationdefaults": {
                                            "arrowcolor": "#2a3f5f",
                                            "arrowhead": 0,
                                            "arrowwidth": 1
                                        },
                                        "autotypenumbers": "strict",
                                        "coloraxis": {
                                            "colorbar": {
                                                "outlinewidth": 0,
                                                "ticks": ""
                                            }
                                        },
                                        "colorscale": {
                                            "diverging": [
                                                [
                                                    0,
                                                    "#8e0152"
                                                ],
                                                [
                                                    0.1,
                                                    "#c51b7d"
                                                ],
                                                [
                                                    0.2,
                                                    "#de77ae"
                                                ],
                                                [
                                                    0.3,
                                                    "#f1b6da"
                                                ],
                                                [
                                                    0.4,
                                                    "#fde0ef"
                                                ],
                                                [
                                                    0.5,
                                                    "#f7f7f7"
                                                ],
                                                [
                                                    0.6,
                                                    "#e6f5d0"
                                                ],
                                                [
                                                    0.7,
                                                    "#b8e186"
                                                ],
                                                [
                                                    0.8,
                                                    "#7fbc41"
                                                ],
                                                [
                                                    0.9,
                                                    "#4d9221"
                                                ],
                                                [
                                                    1,
                                                    "#276419"
                                                ]
                                            ],
                                            "sequential": [
                                                [
                                                    0,
                                                    "#0d0887"
                                                ],
                                                [
                                                    0.1111111111111111,
                                                    "#46039f"
                                                ],
                                                [
                                                    0.2222222222222222,
                                                    "#7201a8"
                                                ],
                                                [
                                                    0.3333333333333333,
                                                    "#9c179e"
                                                ],
                                                [
                                                    0.4444444444444444,
                                                    "#bd3786"
                                                ],
                                                [
                                                    0.5555555555555556,
                                                    "#d8576b"
                                                ],
                                                [
                                                    0.6666666666666666,
                                                    "#ed7953"
                                                ],
                                                [
                                                    0.7777777777777778,
                                                    "#fb9f3a"
                                                ],
                                                [
                                                    0.8888888888888888,
                                                    "#fdca26"
                                                ],
                                                [
                                                    1,
                                                    "#f0f921"
                                                ]
                                            ],
                                            "sequentialminus": [
                                                [
                                                    0,
                                                    "#0d0887"
                                                ],
                                                [
                                                    0.1111111111111111,
                                                    "#46039f"
                                                ],
                                                [
                                                    0.2222222222222222,
                                                    "#7201a8"
                                                ],
                                                [
                                                    0.3333333333333333,
                                                    "#9c179e"
                                                ],
                                                [
                                                    0.4444444444444444,
                                                    "#bd3786"
                                                ],
                                                [
                                                    0.5555555555555556,
                                                    "#d8576b"
                                                ],
                                                [
                                                    0.6666666666666666,
                                                    "#ed7953"
                                                ],
                                                [
                                                    0.7777777777777778,
                                                    "#fb9f3a"
                                                ],
                                                [
                                                    0.8888888888888888,
                                                    "#fdca26"
                                                ],
                                                [
                                                    1,
                                                    "#f0f921"
                                                ]
                                            ]
                                        },
                                        "colorway": [
                                            "#636efa",
                                            "#EF553B",
                                            "#00cc96",
                                            "#ab63fa",
                                            "#FFA15A",
                                            "#19d3f3",
                                            "#FF6692",
                                            "#B6E880",
                                            "#FF97FF",
                                            "#FECB52"
                                        ],
                                        "font": {
                                            "color": "#2a3f5f"
                                        },
                                        "geo": {
                                            "bgcolor": "white",
                                            "lakecolor": "white",
                                            "landcolor": "#E5ECF6",
                                            "showlakes": true,
                                            "showland": true,
                                            "subunitcolor": "white"
                                        },
                                        "hoverlabel": {
                                            "align": "left"
                                        },
                                        "hovermode": "closest",
                                        "mapbox": {
                                            "style": "light"
                                        },
                                        "paper_bgcolor": "white",
                                        "plot_bgcolor": "#E5ECF6",
                                        "polar": {
                                            "angularaxis": {
                                                "gridcolor": "white",
                                                "linecolor": "white",
                                                "ticks": ""
                                            },
                                            "bgcolor": "#E5ECF6",
                                            "radialaxis": {
                                                "gridcolor": "white",
                                                "linecolor": "white",
                                                "ticks": ""
                                            }
                                        },
                                        "scene": {
                                            "xaxis": {
                                                "backgroundcolor": "#E5ECF6",
                                                "gridcolor": "white",
                                                "gridwidth": 2,
                                                "linecolor": "white",
                                                "showbackground": true,
                                                "ticks": "",
                                                "zerolinecolor": "white"
                                            },
                                            "yaxis": {
                                                "backgroundcolor": "#E5ECF6",
                                                "gridcolor": "white",
                                                "gridwidth": 2,
                                                "linecolor": "white",
                                                "showbackground": true,
                                                "ticks": "",
                                                "zerolinecolor": "white"
                                            },
                                            "zaxis": {
                                                "backgroundcolor": "#E5ECF6",
                                                "gridcolor": "white",
                                                "gridwidth": 2,
                                                "linecolor": "white",
                                                "showbackground": true,
                                                "ticks": "",
                                                "zerolinecolor": "white"
                                            }
                                        },
                                        "shapedefaults": {
                                            "line": {
                                                "color": "#2a3f5f"
                                            }
                                        },
                                        "ternary": {
                                            "aaxis": {
                                                "gridcolor": "white",
                                                "linecolor": "white",
                                                "ticks": ""
                                            },
                                            "baxis": {
                                                "gridcolor": "white",
                                                "linecolor": "white",
                                                "ticks": ""
                                            },
                                            "bgcolor": "#E5ECF6",
                                            "caxis": {
                                                "gridcolor": "white",
                                                "linecolor": "white",
                                                "ticks": ""
                                            }
                                        },
                                        "title": {
                                            "x": 0.05
                                        },
                                        "xaxis": {
                                            "automargin": true,
                                            "gridcolor": "white",
                                            "linecolor": "white",
                                            "ticks": "",
                                            "title": {
                                                "standoff": 15
                                            },
                                            "zerolinecolor": "white",
                                            "zerolinewidth": 2
                                        },
                                        "yaxis": {
                                            "automargin": true,
                                            "gridcolor": "white",
                                            "linecolor": "white",
                                            "ticks": "",
                                            "title": {
                                                "standoff": 15
                                            },
                                            "zerolinecolor": "white",
                                            "zerolinewidth": 2
                                        }
                                    }
                                },
                                "title": {
                                    "text": "Ano x Acervo"
                                },
                                "width": 1200,
                                "xaxis": {
                                    "anchor": "y",
                                    "domain": [
                                        0,
                                        1
                                    ],
                                    "title": {
                                        "text": "Ano"
                                    }
                                },
                                "yaxis": {
                                    "anchor": "x",
                                    "domain": [
                                        0,
                                        1
                                    ],
                                    "title": {
                                        "text": "Acervo"
                                    }
                                }
                            }
                        }
                    },
                    "metadata": {},
                    "output_type": "display_data"
                }
            ],
            "source": [
                "fig = px.scatter(df_ano_acervo, x= 'Ano' , y='Acervo', color='quantidade de ocorrências', height=1000, width=1200,\n",
                "                 title=\"Ano x Acervo\",\n",
                "                 size='quantidade de ocorrências',\n",
                "                 )\n",
                "fig.show()  "
            ]
        },
        {
            "cell_type": "markdown",
            "metadata": {},
            "source": [
                "### Gráfico de linha com Plotly\n"
            ]
        },
        {
            "cell_type": "code",
            "execution_count": 105,
            "metadata": {},
            "outputs": [
                {
                    "data": {
                        "application/vnd.plotly.v1+json": {
                            "config": {
                                "plotlyServerURL": "https://plot.ly"
                            },
                            "data": [
                                {
                                    "hovertemplate": "Ano=%{x}<br>quantidade de ocorrências=%{y}<extra></extra>",
                                    "legendgroup": "",
                                    "line": {
                                        "color": "#636efa",
                                        "dash": "solid"
                                    },
                                    "marker": {
                                        "symbol": "circle"
                                    },
                                    "mode": "lines",
                                    "name": "",
                                    "orientation": "v",
                                    "showlegend": false,
                                    "type": "scatter",
                                    "x": [
                                        1904,
                                        1905,
                                        1905,
                                        1905,
                                        1906,
                                        1907,
                                        1908,
                                        1908,
                                        1909,
                                        1909,
                                        1909,
                                        1909,
                                        1909,
                                        1910,
                                        1910,
                                        1910,
                                        1911,
                                        1911,
                                        1911,
                                        1911,
                                        1911,
                                        1911,
                                        1911,
                                        1915,
                                        1915,
                                        1915,
                                        1916,
                                        1916,
                                        1916,
                                        1916,
                                        1916,
                                        1920,
                                        1921,
                                        1922,
                                        1922,
                                        1922,
                                        1922,
                                        1922,
                                        1923,
                                        1924,
                                        1939,
                                        1939,
                                        1939,
                                        1960,
                                        1977
                                    ],
                                    "xaxis": "x",
                                    "y": [
                                        1,
                                        1,
                                        1,
                                        3,
                                        1,
                                        1,
                                        1,
                                        1,
                                        2,
                                        1,
                                        4,
                                        3,
                                        2,
                                        4,
                                        1,
                                        2,
                                        1,
                                        1,
                                        1,
                                        1,
                                        2,
                                        2,
                                        3,
                                        3,
                                        2,
                                        1,
                                        1,
                                        1,
                                        1,
                                        1,
                                        1,
                                        1,
                                        1,
                                        1,
                                        1,
                                        1,
                                        1,
                                        3,
                                        1,
                                        1,
                                        2,
                                        1,
                                        2,
                                        1,
                                        1
                                    ],
                                    "yaxis": "y"
                                }
                            ],
                            "layout": {
                                "legend": {
                                    "tracegroupgap": 0
                                },
                                "margin": {
                                    "t": 60
                                },
                                "template": {
                                    "data": {
                                        "bar": [
                                            {
                                                "error_x": {
                                                    "color": "#2a3f5f"
                                                },
                                                "error_y": {
                                                    "color": "#2a3f5f"
                                                },
                                                "marker": {
                                                    "line": {
                                                        "color": "#E5ECF6",
                                                        "width": 0.5
                                                    },
                                                    "pattern": {
                                                        "fillmode": "overlay",
                                                        "size": 10,
                                                        "solidity": 0.2
                                                    }
                                                },
                                                "type": "bar"
                                            }
                                        ],
                                        "barpolar": [
                                            {
                                                "marker": {
                                                    "line": {
                                                        "color": "#E5ECF6",
                                                        "width": 0.5
                                                    },
                                                    "pattern": {
                                                        "fillmode": "overlay",
                                                        "size": 10,
                                                        "solidity": 0.2
                                                    }
                                                },
                                                "type": "barpolar"
                                            }
                                        ],
                                        "carpet": [
                                            {
                                                "aaxis": {
                                                    "endlinecolor": "#2a3f5f",
                                                    "gridcolor": "white",
                                                    "linecolor": "white",
                                                    "minorgridcolor": "white",
                                                    "startlinecolor": "#2a3f5f"
                                                },
                                                "baxis": {
                                                    "endlinecolor": "#2a3f5f",
                                                    "gridcolor": "white",
                                                    "linecolor": "white",
                                                    "minorgridcolor": "white",
                                                    "startlinecolor": "#2a3f5f"
                                                },
                                                "type": "carpet"
                                            }
                                        ],
                                        "choropleth": [
                                            {
                                                "colorbar": {
                                                    "outlinewidth": 0,
                                                    "ticks": ""
                                                },
                                                "type": "choropleth"
                                            }
                                        ],
                                        "contour": [
                                            {
                                                "colorbar": {
                                                    "outlinewidth": 0,
                                                    "ticks": ""
                                                },
                                                "colorscale": [
                                                    [
                                                        0,
                                                        "#0d0887"
                                                    ],
                                                    [
                                                        0.1111111111111111,
                                                        "#46039f"
                                                    ],
                                                    [
                                                        0.2222222222222222,
                                                        "#7201a8"
                                                    ],
                                                    [
                                                        0.3333333333333333,
                                                        "#9c179e"
                                                    ],
                                                    [
                                                        0.4444444444444444,
                                                        "#bd3786"
                                                    ],
                                                    [
                                                        0.5555555555555556,
                                                        "#d8576b"
                                                    ],
                                                    [
                                                        0.6666666666666666,
                                                        "#ed7953"
                                                    ],
                                                    [
                                                        0.7777777777777778,
                                                        "#fb9f3a"
                                                    ],
                                                    [
                                                        0.8888888888888888,
                                                        "#fdca26"
                                                    ],
                                                    [
                                                        1,
                                                        "#f0f921"
                                                    ]
                                                ],
                                                "type": "contour"
                                            }
                                        ],
                                        "contourcarpet": [
                                            {
                                                "colorbar": {
                                                    "outlinewidth": 0,
                                                    "ticks": ""
                                                },
                                                "type": "contourcarpet"
                                            }
                                        ],
                                        "heatmap": [
                                            {
                                                "colorbar": {
                                                    "outlinewidth": 0,
                                                    "ticks": ""
                                                },
                                                "colorscale": [
                                                    [
                                                        0,
                                                        "#0d0887"
                                                    ],
                                                    [
                                                        0.1111111111111111,
                                                        "#46039f"
                                                    ],
                                                    [
                                                        0.2222222222222222,
                                                        "#7201a8"
                                                    ],
                                                    [
                                                        0.3333333333333333,
                                                        "#9c179e"
                                                    ],
                                                    [
                                                        0.4444444444444444,
                                                        "#bd3786"
                                                    ],
                                                    [
                                                        0.5555555555555556,
                                                        "#d8576b"
                                                    ],
                                                    [
                                                        0.6666666666666666,
                                                        "#ed7953"
                                                    ],
                                                    [
                                                        0.7777777777777778,
                                                        "#fb9f3a"
                                                    ],
                                                    [
                                                        0.8888888888888888,
                                                        "#fdca26"
                                                    ],
                                                    [
                                                        1,
                                                        "#f0f921"
                                                    ]
                                                ],
                                                "type": "heatmap"
                                            }
                                        ],
                                        "heatmapgl": [
                                            {
                                                "colorbar": {
                                                    "outlinewidth": 0,
                                                    "ticks": ""
                                                },
                                                "colorscale": [
                                                    [
                                                        0,
                                                        "#0d0887"
                                                    ],
                                                    [
                                                        0.1111111111111111,
                                                        "#46039f"
                                                    ],
                                                    [
                                                        0.2222222222222222,
                                                        "#7201a8"
                                                    ],
                                                    [
                                                        0.3333333333333333,
                                                        "#9c179e"
                                                    ],
                                                    [
                                                        0.4444444444444444,
                                                        "#bd3786"
                                                    ],
                                                    [
                                                        0.5555555555555556,
                                                        "#d8576b"
                                                    ],
                                                    [
                                                        0.6666666666666666,
                                                        "#ed7953"
                                                    ],
                                                    [
                                                        0.7777777777777778,
                                                        "#fb9f3a"
                                                    ],
                                                    [
                                                        0.8888888888888888,
                                                        "#fdca26"
                                                    ],
                                                    [
                                                        1,
                                                        "#f0f921"
                                                    ]
                                                ],
                                                "type": "heatmapgl"
                                            }
                                        ],
                                        "histogram": [
                                            {
                                                "marker": {
                                                    "pattern": {
                                                        "fillmode": "overlay",
                                                        "size": 10,
                                                        "solidity": 0.2
                                                    }
                                                },
                                                "type": "histogram"
                                            }
                                        ],
                                        "histogram2d": [
                                            {
                                                "colorbar": {
                                                    "outlinewidth": 0,
                                                    "ticks": ""
                                                },
                                                "colorscale": [
                                                    [
                                                        0,
                                                        "#0d0887"
                                                    ],
                                                    [
                                                        0.1111111111111111,
                                                        "#46039f"
                                                    ],
                                                    [
                                                        0.2222222222222222,
                                                        "#7201a8"
                                                    ],
                                                    [
                                                        0.3333333333333333,
                                                        "#9c179e"
                                                    ],
                                                    [
                                                        0.4444444444444444,
                                                        "#bd3786"
                                                    ],
                                                    [
                                                        0.5555555555555556,
                                                        "#d8576b"
                                                    ],
                                                    [
                                                        0.6666666666666666,
                                                        "#ed7953"
                                                    ],
                                                    [
                                                        0.7777777777777778,
                                                        "#fb9f3a"
                                                    ],
                                                    [
                                                        0.8888888888888888,
                                                        "#fdca26"
                                                    ],
                                                    [
                                                        1,
                                                        "#f0f921"
                                                    ]
                                                ],
                                                "type": "histogram2d"
                                            }
                                        ],
                                        "histogram2dcontour": [
                                            {
                                                "colorbar": {
                                                    "outlinewidth": 0,
                                                    "ticks": ""
                                                },
                                                "colorscale": [
                                                    [
                                                        0,
                                                        "#0d0887"
                                                    ],
                                                    [
                                                        0.1111111111111111,
                                                        "#46039f"
                                                    ],
                                                    [
                                                        0.2222222222222222,
                                                        "#7201a8"
                                                    ],
                                                    [
                                                        0.3333333333333333,
                                                        "#9c179e"
                                                    ],
                                                    [
                                                        0.4444444444444444,
                                                        "#bd3786"
                                                    ],
                                                    [
                                                        0.5555555555555556,
                                                        "#d8576b"
                                                    ],
                                                    [
                                                        0.6666666666666666,
                                                        "#ed7953"
                                                    ],
                                                    [
                                                        0.7777777777777778,
                                                        "#fb9f3a"
                                                    ],
                                                    [
                                                        0.8888888888888888,
                                                        "#fdca26"
                                                    ],
                                                    [
                                                        1,
                                                        "#f0f921"
                                                    ]
                                                ],
                                                "type": "histogram2dcontour"
                                            }
                                        ],
                                        "mesh3d": [
                                            {
                                                "colorbar": {
                                                    "outlinewidth": 0,
                                                    "ticks": ""
                                                },
                                                "type": "mesh3d"
                                            }
                                        ],
                                        "parcoords": [
                                            {
                                                "line": {
                                                    "colorbar": {
                                                        "outlinewidth": 0,
                                                        "ticks": ""
                                                    }
                                                },
                                                "type": "parcoords"
                                            }
                                        ],
                                        "pie": [
                                            {
                                                "automargin": true,
                                                "type": "pie"
                                            }
                                        ],
                                        "scatter": [
                                            {
                                                "fillpattern": {
                                                    "fillmode": "overlay",
                                                    "size": 10,
                                                    "solidity": 0.2
                                                },
                                                "type": "scatter"
                                            }
                                        ],
                                        "scatter3d": [
                                            {
                                                "line": {
                                                    "colorbar": {
                                                        "outlinewidth": 0,
                                                        "ticks": ""
                                                    }
                                                },
                                                "marker": {
                                                    "colorbar": {
                                                        "outlinewidth": 0,
                                                        "ticks": ""
                                                    }
                                                },
                                                "type": "scatter3d"
                                            }
                                        ],
                                        "scattercarpet": [
                                            {
                                                "marker": {
                                                    "colorbar": {
                                                        "outlinewidth": 0,
                                                        "ticks": ""
                                                    }
                                                },
                                                "type": "scattercarpet"
                                            }
                                        ],
                                        "scattergeo": [
                                            {
                                                "marker": {
                                                    "colorbar": {
                                                        "outlinewidth": 0,
                                                        "ticks": ""
                                                    }
                                                },
                                                "type": "scattergeo"
                                            }
                                        ],
                                        "scattergl": [
                                            {
                                                "marker": {
                                                    "colorbar": {
                                                        "outlinewidth": 0,
                                                        "ticks": ""
                                                    }
                                                },
                                                "type": "scattergl"
                                            }
                                        ],
                                        "scattermapbox": [
                                            {
                                                "marker": {
                                                    "colorbar": {
                                                        "outlinewidth": 0,
                                                        "ticks": ""
                                                    }
                                                },
                                                "type": "scattermapbox"
                                            }
                                        ],
                                        "scatterpolar": [
                                            {
                                                "marker": {
                                                    "colorbar": {
                                                        "outlinewidth": 0,
                                                        "ticks": ""
                                                    }
                                                },
                                                "type": "scatterpolar"
                                            }
                                        ],
                                        "scatterpolargl": [
                                            {
                                                "marker": {
                                                    "colorbar": {
                                                        "outlinewidth": 0,
                                                        "ticks": ""
                                                    }
                                                },
                                                "type": "scatterpolargl"
                                            }
                                        ],
                                        "scatterternary": [
                                            {
                                                "marker": {
                                                    "colorbar": {
                                                        "outlinewidth": 0,
                                                        "ticks": ""
                                                    }
                                                },
                                                "type": "scatterternary"
                                            }
                                        ],
                                        "surface": [
                                            {
                                                "colorbar": {
                                                    "outlinewidth": 0,
                                                    "ticks": ""
                                                },
                                                "colorscale": [
                                                    [
                                                        0,
                                                        "#0d0887"
                                                    ],
                                                    [
                                                        0.1111111111111111,
                                                        "#46039f"
                                                    ],
                                                    [
                                                        0.2222222222222222,
                                                        "#7201a8"
                                                    ],
                                                    [
                                                        0.3333333333333333,
                                                        "#9c179e"
                                                    ],
                                                    [
                                                        0.4444444444444444,
                                                        "#bd3786"
                                                    ],
                                                    [
                                                        0.5555555555555556,
                                                        "#d8576b"
                                                    ],
                                                    [
                                                        0.6666666666666666,
                                                        "#ed7953"
                                                    ],
                                                    [
                                                        0.7777777777777778,
                                                        "#fb9f3a"
                                                    ],
                                                    [
                                                        0.8888888888888888,
                                                        "#fdca26"
                                                    ],
                                                    [
                                                        1,
                                                        "#f0f921"
                                                    ]
                                                ],
                                                "type": "surface"
                                            }
                                        ],
                                        "table": [
                                            {
                                                "cells": {
                                                    "fill": {
                                                        "color": "#EBF0F8"
                                                    },
                                                    "line": {
                                                        "color": "white"
                                                    }
                                                },
                                                "header": {
                                                    "fill": {
                                                        "color": "#C8D4E3"
                                                    },
                                                    "line": {
                                                        "color": "white"
                                                    }
                                                },
                                                "type": "table"
                                            }
                                        ]
                                    },
                                    "layout": {
                                        "annotationdefaults": {
                                            "arrowcolor": "#2a3f5f",
                                            "arrowhead": 0,
                                            "arrowwidth": 1
                                        },
                                        "autotypenumbers": "strict",
                                        "coloraxis": {
                                            "colorbar": {
                                                "outlinewidth": 0,
                                                "ticks": ""
                                            }
                                        },
                                        "colorscale": {
                                            "diverging": [
                                                [
                                                    0,
                                                    "#8e0152"
                                                ],
                                                [
                                                    0.1,
                                                    "#c51b7d"
                                                ],
                                                [
                                                    0.2,
                                                    "#de77ae"
                                                ],
                                                [
                                                    0.3,
                                                    "#f1b6da"
                                                ],
                                                [
                                                    0.4,
                                                    "#fde0ef"
                                                ],
                                                [
                                                    0.5,
                                                    "#f7f7f7"
                                                ],
                                                [
                                                    0.6,
                                                    "#e6f5d0"
                                                ],
                                                [
                                                    0.7,
                                                    "#b8e186"
                                                ],
                                                [
                                                    0.8,
                                                    "#7fbc41"
                                                ],
                                                [
                                                    0.9,
                                                    "#4d9221"
                                                ],
                                                [
                                                    1,
                                                    "#276419"
                                                ]
                                            ],
                                            "sequential": [
                                                [
                                                    0,
                                                    "#0d0887"
                                                ],
                                                [
                                                    0.1111111111111111,
                                                    "#46039f"
                                                ],
                                                [
                                                    0.2222222222222222,
                                                    "#7201a8"
                                                ],
                                                [
                                                    0.3333333333333333,
                                                    "#9c179e"
                                                ],
                                                [
                                                    0.4444444444444444,
                                                    "#bd3786"
                                                ],
                                                [
                                                    0.5555555555555556,
                                                    "#d8576b"
                                                ],
                                                [
                                                    0.6666666666666666,
                                                    "#ed7953"
                                                ],
                                                [
                                                    0.7777777777777778,
                                                    "#fb9f3a"
                                                ],
                                                [
                                                    0.8888888888888888,
                                                    "#fdca26"
                                                ],
                                                [
                                                    1,
                                                    "#f0f921"
                                                ]
                                            ],
                                            "sequentialminus": [
                                                [
                                                    0,
                                                    "#0d0887"
                                                ],
                                                [
                                                    0.1111111111111111,
                                                    "#46039f"
                                                ],
                                                [
                                                    0.2222222222222222,
                                                    "#7201a8"
                                                ],
                                                [
                                                    0.3333333333333333,
                                                    "#9c179e"
                                                ],
                                                [
                                                    0.4444444444444444,
                                                    "#bd3786"
                                                ],
                                                [
                                                    0.5555555555555556,
                                                    "#d8576b"
                                                ],
                                                [
                                                    0.6666666666666666,
                                                    "#ed7953"
                                                ],
                                                [
                                                    0.7777777777777778,
                                                    "#fb9f3a"
                                                ],
                                                [
                                                    0.8888888888888888,
                                                    "#fdca26"
                                                ],
                                                [
                                                    1,
                                                    "#f0f921"
                                                ]
                                            ]
                                        },
                                        "colorway": [
                                            "#636efa",
                                            "#EF553B",
                                            "#00cc96",
                                            "#ab63fa",
                                            "#FFA15A",
                                            "#19d3f3",
                                            "#FF6692",
                                            "#B6E880",
                                            "#FF97FF",
                                            "#FECB52"
                                        ],
                                        "font": {
                                            "color": "#2a3f5f"
                                        },
                                        "geo": {
                                            "bgcolor": "white",
                                            "lakecolor": "white",
                                            "landcolor": "#E5ECF6",
                                            "showlakes": true,
                                            "showland": true,
                                            "subunitcolor": "white"
                                        },
                                        "hoverlabel": {
                                            "align": "left"
                                        },
                                        "hovermode": "closest",
                                        "mapbox": {
                                            "style": "light"
                                        },
                                        "paper_bgcolor": "white",
                                        "plot_bgcolor": "#E5ECF6",
                                        "polar": {
                                            "angularaxis": {
                                                "gridcolor": "white",
                                                "linecolor": "white",
                                                "ticks": ""
                                            },
                                            "bgcolor": "#E5ECF6",
                                            "radialaxis": {
                                                "gridcolor": "white",
                                                "linecolor": "white",
                                                "ticks": ""
                                            }
                                        },
                                        "scene": {
                                            "xaxis": {
                                                "backgroundcolor": "#E5ECF6",
                                                "gridcolor": "white",
                                                "gridwidth": 2,
                                                "linecolor": "white",
                                                "showbackground": true,
                                                "ticks": "",
                                                "zerolinecolor": "white"
                                            },
                                            "yaxis": {
                                                "backgroundcolor": "#E5ECF6",
                                                "gridcolor": "white",
                                                "gridwidth": 2,
                                                "linecolor": "white",
                                                "showbackground": true,
                                                "ticks": "",
                                                "zerolinecolor": "white"
                                            },
                                            "zaxis": {
                                                "backgroundcolor": "#E5ECF6",
                                                "gridcolor": "white",
                                                "gridwidth": 2,
                                                "linecolor": "white",
                                                "showbackground": true,
                                                "ticks": "",
                                                "zerolinecolor": "white"
                                            }
                                        },
                                        "shapedefaults": {
                                            "line": {
                                                "color": "#2a3f5f"
                                            }
                                        },
                                        "ternary": {
                                            "aaxis": {
                                                "gridcolor": "white",
                                                "linecolor": "white",
                                                "ticks": ""
                                            },
                                            "baxis": {
                                                "gridcolor": "white",
                                                "linecolor": "white",
                                                "ticks": ""
                                            },
                                            "bgcolor": "#E5ECF6",
                                            "caxis": {
                                                "gridcolor": "white",
                                                "linecolor": "white",
                                                "ticks": ""
                                            }
                                        },
                                        "title": {
                                            "x": 0.05
                                        },
                                        "xaxis": {
                                            "automargin": true,
                                            "gridcolor": "white",
                                            "linecolor": "white",
                                            "ticks": "",
                                            "title": {
                                                "standoff": 15
                                            },
                                            "zerolinecolor": "white",
                                            "zerolinewidth": 2
                                        },
                                        "yaxis": {
                                            "automargin": true,
                                            "gridcolor": "white",
                                            "linecolor": "white",
                                            "ticks": "",
                                            "title": {
                                                "standoff": 15
                                            },
                                            "zerolinecolor": "white",
                                            "zerolinewidth": 2
                                        }
                                    }
                                },
                                "xaxis": {
                                    "anchor": "y",
                                    "domain": [
                                        0,
                                        1
                                    ],
                                    "title": {
                                        "text": "Ano"
                                    }
                                },
                                "yaxis": {
                                    "anchor": "x",
                                    "domain": [
                                        0,
                                        1
                                    ],
                                    "title": {
                                        "text": "quantidade de ocorrências"
                                    }
                                }
                            }
                        }
                    },
                    "metadata": {},
                    "output_type": "display_data"
                }
            ],
            "source": [
                "fig = px.line(df_ano_acervo, x='Ano', y='quantidade de ocorrências'\n",
                "                 )\n",
                "fig.show()"
            ]
        },
        {
            "cell_type": "markdown",
            "metadata": {},
            "source": [
                "---\n",
                "\n",
                "[Próximo →](dia4.ipynb)\n",
                "\n",
                "[← Anterior](dia2.md)\n",
                "\n",
                "[↑ Início](./README.md)"
            ]
        }
    ],
    "metadata": {
        "interpreter": {
            "hash": "31f2aee4e71d21fbe5cf8b01ff0e069b9275f58929596ceb00d14d90e3e16cd6"
        },
        "kernelspec": {
            "display_name": "Python 3.9.5 64-bit",
            "name": "python3"
        },
        "language_info": {
            "codemirror_mode": {
                "name": "ipython",
                "version": 3
            },
            "file_extension": ".py",
            "mimetype": "text/x-python",
            "name": "python",
            "nbconvert_exporter": "python",
            "pygments_lexer": "ipython3",
            "version": "3.10.12"
        },
        "orig_nbformat": 4
    },
    "nbformat": 4,
    "nbformat_minor": 2
}
