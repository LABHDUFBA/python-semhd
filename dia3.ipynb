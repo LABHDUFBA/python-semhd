{
    "cells": [
        {
            "cell_type": "markdown",
            "metadata": {},
            "source": [
                "# Pandas"
            ]
        },
        {
            "cell_type": "markdown",
            "metadata": {},
            "source": [
                "ChatGPT-3 definindo Pandas, a partir do seguinte prompt: \"defina pandas em um parágrafo, destacando sua importância para análise de dados\"\n",
                "\n",
                ">O pandas é uma poderosa biblioteca de Python amplamente utilizada na análise de dados. Sua importância reside na capacidade de simplificar e agilizar tarefas relacionadas à manipulação e exploração de dados tabulares, como planilhas ou tabelas de bancos de dados. Com o pandas, os analistas de dados podem facilmente importar, limpar, transformar, agregar e visualizar dados, permitindo uma compreensão mais profunda e insights valiosos a partir de conjuntos de dados complexos. Ao oferecer uma estrutura de dados flexível chamada DataFrame, o pandas se tornou uma ferramenta indispensável para cientistas de dados, analistas de negócios e pesquisadores em diversas áreas, contribuindo significativamente para a eficiência e qualidade das análises de dados."
            ]
        },
        {
            "cell_type": "markdown",
            "metadata": {},
            "source": [
                "DataFrames: são estruturas de dados tabulares semelhantes a tabelas de banco de dados ou planilhas do Excel."
            ]
        },
        {
            "cell_type": "markdown",
            "metadata": {},
            "source": [
                "## Instalando a biblioteca Pandas\n",
                "\n",
                "```bash\n",
                "pip install pandas\n",
                "```\n",
                "\n",
                "O `pip` é um gerenciador de pacotes do Python. Ele é usado para instalar e gerenciar pacotes de software escritos na linguagem Python.\n",
                "\n",
                "Para saber mais sobre instalação e uso do pip, veja a lição \"Instalação de Módulos Python com pip\" de Fred Gibbs no [The Programming Historian](https://programminghistorian.org/pt/licoes/instalacao-modulos-python-pip)."
            ]
        },
        {
            "cell_type": "markdown",
            "metadata": {},
            "source": [
                "## Importando a biblioteca Pandas\n",
                "\n",
                "Para utilizar a biblioteca Pandas, é preciso importá-la no seu código. Para isso, basta usar o comando `import` seguido do nome da biblioteca:"
            ]
        },
        {
            "cell_type": "code",
            "execution_count": 2,
            "metadata": {},
            "outputs": [],
            "source": [
                "import pandas as pd"
            ]
        },
        {
            "cell_type": "markdown",
            "metadata": {},
            "source": [
                "## Criando um *Dataframe* a partir de um dicionário"
            ]
        },
        {
            "cell_type": "markdown",
            "metadata": {},
            "source": [
                "```python\n",
                "df = pd.DataFrame(<seus dados aqui>)\n",
                "```"
            ]
        },
        {
            "cell_type": "markdown",
            "metadata": {},
            "source": [
                "Para criar um objeto DataFrame, basta passar seus dados como argumento para a função `pd.DataFrame()`. Lembrando que `pd` é o alias (*apelidinho*) que utilizamos para importar a biblioteca pandas.\n",
                "\n",
                "No exemplo abaixo, vamos criar um dicionário com três chaves: 'A', 'B' e 'C'. Cada chave possui uma lista com cinco valores inteiros. \n",
                "    \n",
                "Em seguida, vamos criar um DataFrame a partir do dicionário."
            ]
        },
        {
            "cell_type": "code",
            "execution_count": 3,
            "metadata": {},
            "outputs": [],
            "source": [
                "# criando uma variável para receber o dicionário\n",
                "dados = {'A': [1,2,3,4,5],\n",
                "         'B': [6,7,8,9,10],\n",
                "         'C': [0,10,100,1000,10000]}"
            ]
        },
        {
            "cell_type": "code",
            "execution_count": 4,
            "metadata": {},
            "outputs": [
                {
                    "data": {
                        "text/plain": [
                            "dict"
                        ]
                    },
                    "execution_count": 4,
                    "metadata": {},
                    "output_type": "execute_result"
                }
            ],
            "source": [
                "type(dados)"
            ]
        },
        {
            "cell_type": "markdown",
            "metadata": {},
            "source": [
                "Um dicionário no Python é uma estrutura de dados que armazena pares de chave-valor. Em python, definimos um dicionário utilizando chaves {} e separando cada par chave-valor com dois pontos. Cada chave é associada a um valor, que pode ser um número, uma string, uma lista, um dicionário, etc.\n"
            ]
        },
        {
            "cell_type": "code",
            "execution_count": 5,
            "metadata": {},
            "outputs": [],
            "source": [
                "dicionario = {\n",
                "    'Nomes': ['João', 'Maria', 'José', 'Pedro'],\n",
                "    'Idades': [25, 30, 40, 50],\n",
                "    'Cidades': ['Manaus', 'Rio de Janeiro', 'Salvador', 'Salvador']\n",
                "}"
            ]
        },
        {
            "cell_type": "code",
            "execution_count": 6,
            "metadata": {},
            "outputs": [
                {
                    "data": {
                        "text/plain": [
                            "dict_keys(['Nomes', 'Idades', 'Cidades'])"
                        ]
                    },
                    "execution_count": 6,
                    "metadata": {},
                    "output_type": "execute_result"
                }
            ],
            "source": [
                "dicionario.keys()"
            ]
        },
        {
            "cell_type": "code",
            "execution_count": 7,
            "metadata": {},
            "outputs": [
                {
                    "data": {
                        "text/plain": [
                            "dict_values([['João', 'Maria', 'José', 'Pedro'], [25, 30, 40, 50], ['Manaus', 'Rio de Janeiro', 'Salvador', 'Salvador']])"
                        ]
                    },
                    "execution_count": 7,
                    "metadata": {},
                    "output_type": "execute_result"
                }
            ],
            "source": [
                "dicionario.values()\n"
            ]
        },
        {
            "cell_type": "code",
            "execution_count": 8,
            "metadata": {},
            "outputs": [
                {
                    "data": {
                        "text/plain": [
                            "['João', 'Maria', 'José', 'Pedro']"
                        ]
                    },
                    "execution_count": 8,
                    "metadata": {},
                    "output_type": "execute_result"
                }
            ],
            "source": [
                "dicionario['Nomes']"
            ]
        },
        {
            "cell_type": "code",
            "execution_count": 9,
            "metadata": {},
            "outputs": [
                {
                    "data": {
                        "text/plain": [
                            "[25, 30, 40, 50]"
                        ]
                    },
                    "execution_count": 9,
                    "metadata": {},
                    "output_type": "execute_result"
                }
            ],
            "source": [
                "dicionario['Idades']"
            ]
        },
        {
            "cell_type": "code",
            "execution_count": 10,
            "metadata": {},
            "outputs": [
                {
                    "data": {
                        "text/plain": [
                            "['Manaus', 'Rio de Janeiro', 'Salvador', 'Salvador']"
                        ]
                    },
                    "execution_count": 10,
                    "metadata": {},
                    "output_type": "execute_result"
                }
            ],
            "source": [
                "dicionario['Cidades']"
            ]
        },
        {
            "cell_type": "markdown",
            "metadata": {},
            "source": [
                "\n",
                "No exemplo acima, o dicionário possui três chaves: 'Nomes', 'Idades' e 'Cidades'. Cada chave é associada a uma lista de valores.\n",
                "\n",
                "Se passarmos esse dicionário como argumento para a função `pd.DataFrame()`, o pandas irá criar um DataFrame com três colunas (a partir das chaves) e cinco linhas (a partir dos valores)."
            ]
        },
        {
            "cell_type": "code",
            "execution_count": 11,
            "metadata": {},
            "outputs": [],
            "source": [
                "# Create a dataframe\n",
                "df = pd.DataFrame(dicionario)"
            ]
        },
        {
            "cell_type": "code",
            "execution_count": 12,
            "metadata": {},
            "outputs": [
                {
                    "name": "stdout",
                    "output_type": "stream",
                    "text": [
                        "(4, 3)\n"
                    ]
                }
            ],
            "source": [
                "# print the dataframe's shape\n",
                "print(df.shape)"
            ]
        },
        {
            "cell_type": "code",
            "execution_count": 13,
            "metadata": {},
            "outputs": [
                {
                    "name": "stdout",
                    "output_type": "stream",
                    "text": [
                        "   Nomes  Idades         Cidades\n",
                        "0   João      25          Manaus\n",
                        "1  Maria      30  Rio de Janeiro\n",
                        "2   José      40        Salvador\n",
                        "3  Pedro      50        Salvador\n"
                    ]
                }
            ],
            "source": [
                "# head of the dataframe\n",
                "print(df.head())"
            ]
        },
        {
            "cell_type": "code",
            "execution_count": 14,
            "metadata": {},
            "outputs": [],
            "source": [
                "# rename a column\n",
                "df.rename(columns={'Nomes': 'nome', 'Idades': 'idade', 'Cidades': 'cidade'}, inplace=True)"
            ]
        },
        {
            "cell_type": "code",
            "execution_count": 15,
            "metadata": {},
            "outputs": [
                {
                    "data": {
                        "text/html": [
                            "<div>\n",
                            "<style scoped>\n",
                            "    .dataframe tbody tr th:only-of-type {\n",
                            "        vertical-align: middle;\n",
                            "    }\n",
                            "\n",
                            "    .dataframe tbody tr th {\n",
                            "        vertical-align: top;\n",
                            "    }\n",
                            "\n",
                            "    .dataframe thead th {\n",
                            "        text-align: right;\n",
                            "    }\n",
                            "</style>\n",
                            "<table border=\"1\" class=\"dataframe\">\n",
                            "  <thead>\n",
                            "    <tr style=\"text-align: right;\">\n",
                            "      <th></th>\n",
                            "      <th>nome</th>\n",
                            "      <th>idade</th>\n",
                            "      <th>cidade</th>\n",
                            "      <th>nota</th>\n",
                            "    </tr>\n",
                            "  </thead>\n",
                            "  <tbody>\n",
                            "    <tr>\n",
                            "      <th>0</th>\n",
                            "      <td>João</td>\n",
                            "      <td>25</td>\n",
                            "      <td>Manaus</td>\n",
                            "      <td>9.5</td>\n",
                            "    </tr>\n",
                            "    <tr>\n",
                            "      <th>1</th>\n",
                            "      <td>Maria</td>\n",
                            "      <td>30</td>\n",
                            "      <td>Rio de Janeiro</td>\n",
                            "      <td>4.0</td>\n",
                            "    </tr>\n",
                            "    <tr>\n",
                            "      <th>2</th>\n",
                            "      <td>José</td>\n",
                            "      <td>40</td>\n",
                            "      <td>Salvador</td>\n",
                            "      <td>8.8</td>\n",
                            "    </tr>\n",
                            "    <tr>\n",
                            "      <th>3</th>\n",
                            "      <td>Pedro</td>\n",
                            "      <td>50</td>\n",
                            "      <td>Salvador</td>\n",
                            "      <td>3.0</td>\n",
                            "    </tr>\n",
                            "  </tbody>\n",
                            "</table>\n",
                            "</div>"
                        ],
                        "text/plain": [
                            "    nome  idade          cidade  nota\n",
                            "0   João     25          Manaus   9.5\n",
                            "1  Maria     30  Rio de Janeiro   4.0\n",
                            "2   José     40        Salvador   8.8\n",
                            "3  Pedro     50        Salvador   3.0"
                        ]
                    },
                    "execution_count": 15,
                    "metadata": {},
                    "output_type": "execute_result"
                }
            ],
            "source": [
                "# add a column\n",
                "df['nota'] = [9.5, 4.0, 8.8, 3.0]\n",
                "df"
            ]
        },
        {
            "cell_type": "code",
            "execution_count": 16,
            "metadata": {},
            "outputs": [
                {
                    "data": {
                        "text/html": [
                            "<div>\n",
                            "<style scoped>\n",
                            "    .dataframe tbody tr th:only-of-type {\n",
                            "        vertical-align: middle;\n",
                            "    }\n",
                            "\n",
                            "    .dataframe tbody tr th {\n",
                            "        vertical-align: top;\n",
                            "    }\n",
                            "\n",
                            "    .dataframe thead th {\n",
                            "        text-align: right;\n",
                            "    }\n",
                            "</style>\n",
                            "<table border=\"1\" class=\"dataframe\">\n",
                            "  <thead>\n",
                            "    <tr style=\"text-align: right;\">\n",
                            "      <th></th>\n",
                            "      <th>nome</th>\n",
                            "      <th>idade</th>\n",
                            "      <th>cidade</th>\n",
                            "      <th>nota</th>\n",
                            "      <th>id</th>\n",
                            "    </tr>\n",
                            "  </thead>\n",
                            "  <tbody>\n",
                            "    <tr>\n",
                            "      <th>0</th>\n",
                            "      <td>João</td>\n",
                            "      <td>25</td>\n",
                            "      <td>Manaus</td>\n",
                            "      <td>9.5</td>\n",
                            "      <td>1</td>\n",
                            "    </tr>\n",
                            "    <tr>\n",
                            "      <th>1</th>\n",
                            "      <td>Maria</td>\n",
                            "      <td>30</td>\n",
                            "      <td>Rio de Janeiro</td>\n",
                            "      <td>4.0</td>\n",
                            "      <td>2</td>\n",
                            "    </tr>\n",
                            "    <tr>\n",
                            "      <th>2</th>\n",
                            "      <td>José</td>\n",
                            "      <td>40</td>\n",
                            "      <td>Salvador</td>\n",
                            "      <td>8.8</td>\n",
                            "      <td>3</td>\n",
                            "    </tr>\n",
                            "    <tr>\n",
                            "      <th>3</th>\n",
                            "      <td>Pedro</td>\n",
                            "      <td>50</td>\n",
                            "      <td>Salvador</td>\n",
                            "      <td>3.0</td>\n",
                            "      <td>4</td>\n",
                            "    </tr>\n",
                            "  </tbody>\n",
                            "</table>\n",
                            "</div>"
                        ],
                        "text/plain": [
                            "    nome  idade          cidade  nota  id\n",
                            "0   João     25          Manaus   9.5   1\n",
                            "1  Maria     30  Rio de Janeiro   4.0   2\n",
                            "2   José     40        Salvador   8.8   3\n",
                            "3  Pedro     50        Salvador   3.0   4"
                        ]
                    },
                    "execution_count": 16,
                    "metadata": {},
                    "output_type": "execute_result"
                }
            ],
            "source": [
                "df['id'] = [1, 2, 3, 4]\n",
                "df"
            ]
        },
        {
            "cell_type": "code",
            "execution_count": 17,
            "metadata": {},
            "outputs": [
                {
                    "data": {
                        "text/html": [
                            "<div>\n",
                            "<style scoped>\n",
                            "    .dataframe tbody tr th:only-of-type {\n",
                            "        vertical-align: middle;\n",
                            "    }\n",
                            "\n",
                            "    .dataframe tbody tr th {\n",
                            "        vertical-align: top;\n",
                            "    }\n",
                            "\n",
                            "    .dataframe thead th {\n",
                            "        text-align: right;\n",
                            "    }\n",
                            "</style>\n",
                            "<table border=\"1\" class=\"dataframe\">\n",
                            "  <thead>\n",
                            "    <tr style=\"text-align: right;\">\n",
                            "      <th></th>\n",
                            "      <th>nome</th>\n",
                            "      <th>idade</th>\n",
                            "      <th>cidade</th>\n",
                            "      <th>nota</th>\n",
                            "    </tr>\n",
                            "  </thead>\n",
                            "  <tbody>\n",
                            "    <tr>\n",
                            "      <th>0</th>\n",
                            "      <td>João</td>\n",
                            "      <td>25</td>\n",
                            "      <td>Manaus</td>\n",
                            "      <td>9.5</td>\n",
                            "    </tr>\n",
                            "    <tr>\n",
                            "      <th>1</th>\n",
                            "      <td>Maria</td>\n",
                            "      <td>30</td>\n",
                            "      <td>Rio de Janeiro</td>\n",
                            "      <td>4.0</td>\n",
                            "    </tr>\n",
                            "    <tr>\n",
                            "      <th>2</th>\n",
                            "      <td>José</td>\n",
                            "      <td>40</td>\n",
                            "      <td>Salvador</td>\n",
                            "      <td>8.8</td>\n",
                            "    </tr>\n",
                            "    <tr>\n",
                            "      <th>3</th>\n",
                            "      <td>Pedro</td>\n",
                            "      <td>50</td>\n",
                            "      <td>Salvador</td>\n",
                            "      <td>3.0</td>\n",
                            "    </tr>\n",
                            "  </tbody>\n",
                            "</table>\n",
                            "</div>"
                        ],
                        "text/plain": [
                            "    nome  idade          cidade  nota\n",
                            "0   João     25          Manaus   9.5\n",
                            "1  Maria     30  Rio de Janeiro   4.0\n",
                            "2   José     40        Salvador   8.8\n",
                            "3  Pedro     50        Salvador   3.0"
                        ]
                    },
                    "execution_count": 17,
                    "metadata": {},
                    "output_type": "execute_result"
                }
            ],
            "source": [
                "# delete a column\n",
                "df.drop('id', axis=1, inplace=True)\n",
                "df"
            ]
        },
        {
            "cell_type": "markdown",
            "metadata": {},
            "source": [
                "Incluir um linha ao final do dataframe."
            ]
        },
        {
            "cell_type": "code",
            "execution_count": 18,
            "metadata": {},
            "outputs": [],
            "source": [
                "# incluir Pedro ao final do dataframe\n",
                "df.loc[4] = ['Pedro', 50, 'Salvador', 3.0]"
            ]
        },
        {
            "cell_type": "code",
            "execution_count": 19,
            "metadata": {},
            "outputs": [
                {
                    "data": {
                        "text/html": [
                            "<div>\n",
                            "<style scoped>\n",
                            "    .dataframe tbody tr th:only-of-type {\n",
                            "        vertical-align: middle;\n",
                            "    }\n",
                            "\n",
                            "    .dataframe tbody tr th {\n",
                            "        vertical-align: top;\n",
                            "    }\n",
                            "\n",
                            "    .dataframe thead th {\n",
                            "        text-align: right;\n",
                            "    }\n",
                            "</style>\n",
                            "<table border=\"1\" class=\"dataframe\">\n",
                            "  <thead>\n",
                            "    <tr style=\"text-align: right;\">\n",
                            "      <th></th>\n",
                            "      <th>nome</th>\n",
                            "      <th>idade</th>\n",
                            "      <th>cidade</th>\n",
                            "      <th>nota</th>\n",
                            "    </tr>\n",
                            "  </thead>\n",
                            "  <tbody>\n",
                            "    <tr>\n",
                            "      <th>0</th>\n",
                            "      <td>João</td>\n",
                            "      <td>25</td>\n",
                            "      <td>Manaus</td>\n",
                            "      <td>9.5</td>\n",
                            "    </tr>\n",
                            "    <tr>\n",
                            "      <th>1</th>\n",
                            "      <td>Maria</td>\n",
                            "      <td>30</td>\n",
                            "      <td>Rio de Janeiro</td>\n",
                            "      <td>4.0</td>\n",
                            "    </tr>\n",
                            "    <tr>\n",
                            "      <th>2</th>\n",
                            "      <td>José</td>\n",
                            "      <td>40</td>\n",
                            "      <td>Salvador</td>\n",
                            "      <td>8.8</td>\n",
                            "    </tr>\n",
                            "    <tr>\n",
                            "      <th>3</th>\n",
                            "      <td>Pedro</td>\n",
                            "      <td>50</td>\n",
                            "      <td>Salvador</td>\n",
                            "      <td>3.0</td>\n",
                            "    </tr>\n",
                            "    <tr>\n",
                            "      <th>4</th>\n",
                            "      <td>Pedro</td>\n",
                            "      <td>50</td>\n",
                            "      <td>Salvador</td>\n",
                            "      <td>3.0</td>\n",
                            "    </tr>\n",
                            "  </tbody>\n",
                            "</table>\n",
                            "</div>"
                        ],
                        "text/plain": [
                            "    nome  idade          cidade  nota\n",
                            "0   João     25          Manaus   9.5\n",
                            "1  Maria     30  Rio de Janeiro   4.0\n",
                            "2   José     40        Salvador   8.8\n",
                            "3  Pedro     50        Salvador   3.0\n",
                            "4  Pedro     50        Salvador   3.0"
                        ]
                    },
                    "execution_count": 19,
                    "metadata": {},
                    "output_type": "execute_result"
                }
            ],
            "source": [
                "df"
            ]
        },
        {
            "cell_type": "code",
            "execution_count": 20,
            "metadata": {},
            "outputs": [],
            "source": [
                "# drop a row by index\n",
                "df.drop(4, axis=0, inplace=True)"
            ]
        },
        {
            "cell_type": "code",
            "execution_count": 21,
            "metadata": {},
            "outputs": [
                {
                    "data": {
                        "text/html": [
                            "<div>\n",
                            "<style scoped>\n",
                            "    .dataframe tbody tr th:only-of-type {\n",
                            "        vertical-align: middle;\n",
                            "    }\n",
                            "\n",
                            "    .dataframe tbody tr th {\n",
                            "        vertical-align: top;\n",
                            "    }\n",
                            "\n",
                            "    .dataframe thead th {\n",
                            "        text-align: right;\n",
                            "    }\n",
                            "</style>\n",
                            "<table border=\"1\" class=\"dataframe\">\n",
                            "  <thead>\n",
                            "    <tr style=\"text-align: right;\">\n",
                            "      <th></th>\n",
                            "      <th>nome</th>\n",
                            "      <th>idade</th>\n",
                            "      <th>cidade</th>\n",
                            "      <th>nota</th>\n",
                            "    </tr>\n",
                            "  </thead>\n",
                            "  <tbody>\n",
                            "    <tr>\n",
                            "      <th>0</th>\n",
                            "      <td>João</td>\n",
                            "      <td>25</td>\n",
                            "      <td>Manaus</td>\n",
                            "      <td>9.5</td>\n",
                            "    </tr>\n",
                            "    <tr>\n",
                            "      <th>1</th>\n",
                            "      <td>Maria</td>\n",
                            "      <td>30</td>\n",
                            "      <td>Rio de Janeiro</td>\n",
                            "      <td>4.0</td>\n",
                            "    </tr>\n",
                            "    <tr>\n",
                            "      <th>2</th>\n",
                            "      <td>José</td>\n",
                            "      <td>40</td>\n",
                            "      <td>Salvador</td>\n",
                            "      <td>8.8</td>\n",
                            "    </tr>\n",
                            "    <tr>\n",
                            "      <th>3</th>\n",
                            "      <td>Pedro</td>\n",
                            "      <td>50</td>\n",
                            "      <td>Salvador</td>\n",
                            "      <td>3.0</td>\n",
                            "    </tr>\n",
                            "  </tbody>\n",
                            "</table>\n",
                            "</div>"
                        ],
                        "text/plain": [
                            "    nome  idade          cidade  nota\n",
                            "0   João     25          Manaus   9.5\n",
                            "1  Maria     30  Rio de Janeiro   4.0\n",
                            "2   José     40        Salvador   8.8\n",
                            "3  Pedro     50        Salvador   3.0"
                        ]
                    },
                    "execution_count": 21,
                    "metadata": {},
                    "output_type": "execute_result"
                }
            ],
            "source": [
                "df"
            ]
        },
        {
            "cell_type": "code",
            "execution_count": 22,
            "metadata": {},
            "outputs": [
                {
                    "name": "stdout",
                    "output_type": "stream",
                    "text": [
                        "9.5\n"
                    ]
                }
            ],
            "source": [
                "#find the max value in a column\n",
                "print(df['nota'].max())\n"
            ]
        },
        {
            "cell_type": "code",
            "execution_count": 23,
            "metadata": {},
            "outputs": [
                {
                    "name": "stdout",
                    "output_type": "stream",
                    "text": [
                        "3.0\n"
                    ]
                }
            ],
            "source": [
                "#find the min value in a column\n",
                "print(df['nota'].min())"
            ]
        },
        {
            "cell_type": "code",
            "execution_count": 24,
            "metadata": {},
            "outputs": [
                {
                    "name": "stdout",
                    "output_type": "stream",
                    "text": [
                        "6.325\n"
                    ]
                }
            ],
            "source": [
                "#find the mean value in a column\n",
                "print(df['nota'].mean())\n"
            ]
        },
        {
            "cell_type": "code",
            "execution_count": 25,
            "metadata": {},
            "outputs": [
                {
                    "name": "stdout",
                    "output_type": "stream",
                    "text": [
                        "6.4\n"
                    ]
                }
            ],
            "source": [
                "#find the median value in a column\n",
                "print(df['nota'].median())"
            ]
        },
        {
            "cell_type": "code",
            "execution_count": 26,
            "metadata": {},
            "outputs": [
                {
                    "data": {
                        "text/plain": [
                            "Salvador          2\n",
                            "Manaus            1\n",
                            "Rio de Janeiro    1\n",
                            "Name: cidade, dtype: int64"
                        ]
                    },
                    "execution_count": 26,
                    "metadata": {},
                    "output_type": "execute_result"
                }
            ],
            "source": [
                "# count the number of occurrences of a value in a column\n",
                "df['cidade'].value_counts()"
            ]
        },
        {
            "cell_type": "code",
            "execution_count": 27,
            "metadata": {},
            "outputs": [
                {
                    "name": "stdout",
                    "output_type": "stream",
                    "text": [
                        "    nome  nota\n",
                        "0   João   9.5\n",
                        "1  Maria   4.0\n",
                        "2   José   8.8\n",
                        "3  Pedro   3.0\n"
                    ]
                }
            ],
            "source": [
                "#new dataframe selecting two columns\n",
                "selected_columns = ['nome', 'nota']\n",
                "df_selected = df[selected_columns]\n",
                "# or df_selected = df.filter(items=selected_columns)\n",
                "print(df_selected)"
            ]
        },
        {
            "cell_type": "code",
            "execution_count": 28,
            "metadata": {},
            "outputs": [
                {
                    "name": "stdout",
                    "output_type": "stream",
                    "text": [
                        "    nome  nota\n",
                        "0   João   9.5\n",
                        "1  Maria   4.0\n",
                        "2   José   8.8\n",
                        "3  Pedro   3.0\n"
                    ]
                },
                {
                    "name": "stderr",
                    "output_type": "stream",
                    "text": [
                        "/tmp/ipykernel_33952/4079312424.py:2: SettingWithCopyWarning: \n",
                        "A value is trying to be set on a copy of a slice from a DataFrame\n",
                        "\n",
                        "See the caveats in the documentation: https://pandas.pydata.org/pandas-docs/stable/user_guide/indexing.html#returning-a-view-versus-a-copy\n",
                        "  df_selected.dropna(inplace=True)\n"
                    ]
                }
            ],
            "source": [
                "#drop NAN values\n",
                "df_selected.dropna(inplace=True)\n",
                "print(df_selected)"
            ]
        },
        {
            "cell_type": "code",
            "execution_count": 29,
            "metadata": {},
            "outputs": [
                {
                    "data": {
                        "text/html": [
                            "<div>\n",
                            "<style scoped>\n",
                            "    .dataframe tbody tr th:only-of-type {\n",
                            "        vertical-align: middle;\n",
                            "    }\n",
                            "\n",
                            "    .dataframe tbody tr th {\n",
                            "        vertical-align: top;\n",
                            "    }\n",
                            "\n",
                            "    .dataframe thead th {\n",
                            "        text-align: right;\n",
                            "    }\n",
                            "</style>\n",
                            "<table border=\"1\" class=\"dataframe\">\n",
                            "  <thead>\n",
                            "    <tr style=\"text-align: right;\">\n",
                            "      <th></th>\n",
                            "      <th>nome</th>\n",
                            "      <th>idade</th>\n",
                            "      <th>nota</th>\n",
                            "    </tr>\n",
                            "    <tr>\n",
                            "      <th>cidade</th>\n",
                            "      <th></th>\n",
                            "      <th></th>\n",
                            "      <th></th>\n",
                            "    </tr>\n",
                            "  </thead>\n",
                            "  <tbody>\n",
                            "    <tr>\n",
                            "      <th>Manaus</th>\n",
                            "      <td>1</td>\n",
                            "      <td>1</td>\n",
                            "      <td>1</td>\n",
                            "    </tr>\n",
                            "    <tr>\n",
                            "      <th>Rio de Janeiro</th>\n",
                            "      <td>1</td>\n",
                            "      <td>1</td>\n",
                            "      <td>1</td>\n",
                            "    </tr>\n",
                            "    <tr>\n",
                            "      <th>Salvador</th>\n",
                            "      <td>2</td>\n",
                            "      <td>2</td>\n",
                            "      <td>2</td>\n",
                            "    </tr>\n",
                            "  </tbody>\n",
                            "</table>\n",
                            "</div>"
                        ],
                        "text/plain": [
                            "                nome  idade  nota\n",
                            "cidade                           \n",
                            "Manaus             1      1     1\n",
                            "Rio de Janeiro     1      1     1\n",
                            "Salvador           2      2     2"
                        ]
                    },
                    "execution_count": 29,
                    "metadata": {},
                    "output_type": "execute_result"
                }
            ],
            "source": [
                "# group by a column and count the number of occurrences\n",
                "df_grouped = df.groupby('cidade').count()\n",
                "df_grouped\n"
            ]
        },
        {
            "cell_type": "markdown",
            "metadata": {},
            "source": [
                "# Analisando dados na prática\n",
                "\n",
                "Exemplo com dados da HDB."
            ]
        },
        {
            "cell_type": "markdown",
            "metadata": {},
            "source": [
                "Aqui veremos um exemplo com um dataset mais complexo, com 69 linhas e 8 colunas. \n",
                "\n",
                "Esse dataset é resultado da utilização da ferramenta pyHDB, uma ferramenta de auxílio metodológico para a pesquisa na Hemeroteca Digital Brasileira da Biblioteca Nacional.\n",
                "\n",
                "A ferramenta foi desenvolvida por mim e está disponível no GitHub: https://ericbrasiln.github.io/pyHDB/.\n",
                "\n",
                "Para mais informações sobre seus usos e aspectos teóricos e metodológicos de seu desenvolvimento veja o artigo [pyHDB - Ferramenta Heurística para a Hemeroteca Digital Brasileira: utilizando técnicas de web scraping para a pesquisa em História](https://www.historiadahistoriografia.com.br/revista/article/view/1904) publicano na Revista História da Historiografia."
            ]
        },
        {
            "cell_type": "markdown",
            "metadata": {},
            "source": [
                "Ao invés de criar um dataframe a partir de um dicionário como fizemos anteriormente, vamos criar um dataframe a partir de um arquivo CSV.\n",
                "\n",
                "O CSV (*Comma Separated Values*) é um formato de arquivo que armazena dados tabulares em texto simples. \n",
                "\n",
                "Cada linha do arquivo de texto é uma linha da tabela e as colunas são separadas por vírgulas. Esses arquivos podem ser abertos em qualquer editor de texto ou planilha.\n",
                "\n",
                "Para criar um dataframe a partir de um arquivo CSV, basta utilizar a função `pd.read_csv()` e passar o caminho do arquivo como argumento."
            ]
        },
        {
            "cell_type": "markdown",
            "metadata": {},
            "source": [
                "Também é possível criar um dataframe a partir de um arquivo Excel, utilizando a função `pd.read_excel()`."
            ]
        },
        {
            "cell_type": "markdown",
            "metadata": {},
            "source": [
                "Antes de analisarmos nossos dados com o pandas, vamos dar uma olhada no arquivo CSV em um editor de planilhas comum."
            ]
        },
        {
            "cell_type": "code",
            "execution_count": 30,
            "metadata": {},
            "outputs": [],
            "source": [
                "df_hdb = pd.read_csv('./assets/moyses-zacharias_2023-09-13_14-52-48.csv')"
            ]
        },
        {
            "cell_type": "code",
            "execution_count": 31,
            "metadata": {},
            "outputs": [
                {
                    "data": {
                        "text/html": [
                            "<div>\n",
                            "<style scoped>\n",
                            "    .dataframe tbody tr th:only-of-type {\n",
                            "        vertical-align: middle;\n",
                            "    }\n",
                            "\n",
                            "    .dataframe tbody tr th {\n",
                            "        vertical-align: top;\n",
                            "    }\n",
                            "\n",
                            "    .dataframe thead th {\n",
                            "        text-align: right;\n",
                            "    }\n",
                            "</style>\n",
                            "<table border=\"1\" class=\"dataframe\">\n",
                            "  <thead>\n",
                            "    <tr style=\"text-align: right;\">\n",
                            "      <th></th>\n",
                            "      <th>Unnamed: 0</th>\n",
                            "      <th>Termo da busca</th>\n",
                            "      <th>Data da Busca</th>\n",
                            "      <th>Acervo</th>\n",
                            "      <th>Ano</th>\n",
                            "      <th>Edição</th>\n",
                            "      <th>Página</th>\n",
                            "      <th>Nome do arquivo</th>\n",
                            "      <th>Link</th>\n",
                            "    </tr>\n",
                            "  </thead>\n",
                            "  <tbody>\n",
                            "    <tr>\n",
                            "      <th>0</th>\n",
                            "      <td>0</td>\n",
                            "      <td>\"moyses zacharias\"</td>\n",
                            "      <td>2023-09-13</td>\n",
                            "      <td>O Malho (RJ) - 1902 - 1953</td>\n",
                            "      <td>1908</td>\n",
                            "      <td>91</td>\n",
                            "      <td>15</td>\n",
                            "      <td>116300_11226.jpg</td>\n",
                            "      <td>http://memoria.bn.br/docreader/116300/11226</td>\n",
                            "    </tr>\n",
                            "    <tr>\n",
                            "      <th>1</th>\n",
                            "      <td>1</td>\n",
                            "      <td>\"moyses zacharias\"</td>\n",
                            "      <td>2023-09-13</td>\n",
                            "      <td>O Malho (RJ) - 1902 - 1953</td>\n",
                            "      <td>1911</td>\n",
                            "      <td>54</td>\n",
                            "      <td>20</td>\n",
                            "      <td>116300_18886.jpg</td>\n",
                            "      <td>http://memoria.bn.br/docreader/116300/18886</td>\n",
                            "    </tr>\n",
                            "    <tr>\n",
                            "      <th>2</th>\n",
                            "      <td>2</td>\n",
                            "      <td>\"moyses zacharias\"</td>\n",
                            "      <td>2023-09-13</td>\n",
                            "      <td>Correio da Manhã (RJ) - 1910 a 1919</td>\n",
                            "      <td>1910</td>\n",
                            "      <td>112</td>\n",
                            "      <td>3</td>\n",
                            "      <td>089842_02_213.jpg</td>\n",
                            "      <td>http://memoria.bn.br/docreader/089842_02/213</td>\n",
                            "    </tr>\n",
                            "    <tr>\n",
                            "      <th>3</th>\n",
                            "      <td>3</td>\n",
                            "      <td>\"moyses zacharias\"</td>\n",
                            "      <td>2023-09-13</td>\n",
                            "      <td>Correio da Manhã (RJ) - 1910 a 1919</td>\n",
                            "      <td>1910</td>\n",
                            "      <td>125</td>\n",
                            "      <td>2</td>\n",
                            "      <td>089842_02_332.jpg</td>\n",
                            "      <td>http://memoria.bn.br/docreader/089842_02/332</td>\n",
                            "    </tr>\n",
                            "    <tr>\n",
                            "      <th>4</th>\n",
                            "      <td>4</td>\n",
                            "      <td>\"moyses zacharias\"</td>\n",
                            "      <td>2023-09-13</td>\n",
                            "      <td>Correio da Manhã (RJ) - 1910 a 1919</td>\n",
                            "      <td>1910</td>\n",
                            "      <td>140</td>\n",
                            "      <td>4</td>\n",
                            "      <td>089842_02_462.jpg</td>\n",
                            "      <td>http://memoria.bn.br/docreader/089842_02/462</td>\n",
                            "    </tr>\n",
                            "  </tbody>\n",
                            "</table>\n",
                            "</div>"
                        ],
                        "text/plain": [
                            "   Unnamed: 0      Termo da busca Data da Busca  \\\n",
                            "0           0  \"moyses zacharias\"    2023-09-13   \n",
                            "1           1  \"moyses zacharias\"    2023-09-13   \n",
                            "2           2  \"moyses zacharias\"    2023-09-13   \n",
                            "3           3  \"moyses zacharias\"    2023-09-13   \n",
                            "4           4  \"moyses zacharias\"    2023-09-13   \n",
                            "\n",
                            "                                Acervo   Ano  Edição  Página  \\\n",
                            "0           O Malho (RJ) - 1902 - 1953  1908      91      15   \n",
                            "1           O Malho (RJ) - 1902 - 1953  1911      54      20   \n",
                            "2  Correio da Manhã (RJ) - 1910 a 1919  1910     112       3   \n",
                            "3  Correio da Manhã (RJ) - 1910 a 1919  1910     125       2   \n",
                            "4  Correio da Manhã (RJ) - 1910 a 1919  1910     140       4   \n",
                            "\n",
                            "     Nome do arquivo                                          Link  \n",
                            "0   116300_11226.jpg   http://memoria.bn.br/docreader/116300/11226  \n",
                            "1   116300_18886.jpg   http://memoria.bn.br/docreader/116300/18886  \n",
                            "2  089842_02_213.jpg  http://memoria.bn.br/docreader/089842_02/213  \n",
                            "3  089842_02_332.jpg  http://memoria.bn.br/docreader/089842_02/332  \n",
                            "4  089842_02_462.jpg  http://memoria.bn.br/docreader/089842_02/462  "
                        ]
                    },
                    "execution_count": 31,
                    "metadata": {},
                    "output_type": "execute_result"
                }
            ],
            "source": [
                "df_hdb.head()"
            ]
        },
        {
            "cell_type": "code",
            "execution_count": 33,
            "metadata": {},
            "outputs": [],
            "source": [
                "df_hdb = pd.read_csv('./assets/moyses-zacharias_2023-09-13_14-52-48.csv', index_col=0)\n"
            ]
        },
        {
            "cell_type": "code",
            "execution_count": 34,
            "metadata": {},
            "outputs": [
                {
                    "data": {
                        "text/html": [
                            "<div>\n",
                            "<style scoped>\n",
                            "    .dataframe tbody tr th:only-of-type {\n",
                            "        vertical-align: middle;\n",
                            "    }\n",
                            "\n",
                            "    .dataframe tbody tr th {\n",
                            "        vertical-align: top;\n",
                            "    }\n",
                            "\n",
                            "    .dataframe thead th {\n",
                            "        text-align: right;\n",
                            "    }\n",
                            "</style>\n",
                            "<table border=\"1\" class=\"dataframe\">\n",
                            "  <thead>\n",
                            "    <tr style=\"text-align: right;\">\n",
                            "      <th></th>\n",
                            "      <th>Termo da busca</th>\n",
                            "      <th>Data da Busca</th>\n",
                            "      <th>Acervo</th>\n",
                            "      <th>Ano</th>\n",
                            "      <th>Edição</th>\n",
                            "      <th>Página</th>\n",
                            "      <th>Nome do arquivo</th>\n",
                            "      <th>Link</th>\n",
                            "    </tr>\n",
                            "  </thead>\n",
                            "  <tbody>\n",
                            "    <tr>\n",
                            "      <th>0</th>\n",
                            "      <td>\"moyses zacharias\"</td>\n",
                            "      <td>2023-09-13</td>\n",
                            "      <td>O Malho (RJ) - 1902 - 1953</td>\n",
                            "      <td>1908</td>\n",
                            "      <td>91</td>\n",
                            "      <td>15</td>\n",
                            "      <td>116300_11226.jpg</td>\n",
                            "      <td>http://memoria.bn.br/docreader/116300/11226</td>\n",
                            "    </tr>\n",
                            "    <tr>\n",
                            "      <th>1</th>\n",
                            "      <td>\"moyses zacharias\"</td>\n",
                            "      <td>2023-09-13</td>\n",
                            "      <td>O Malho (RJ) - 1902 - 1953</td>\n",
                            "      <td>1911</td>\n",
                            "      <td>54</td>\n",
                            "      <td>20</td>\n",
                            "      <td>116300_18886.jpg</td>\n",
                            "      <td>http://memoria.bn.br/docreader/116300/18886</td>\n",
                            "    </tr>\n",
                            "    <tr>\n",
                            "      <th>2</th>\n",
                            "      <td>\"moyses zacharias\"</td>\n",
                            "      <td>2023-09-13</td>\n",
                            "      <td>Correio da Manhã (RJ) - 1910 a 1919</td>\n",
                            "      <td>1910</td>\n",
                            "      <td>112</td>\n",
                            "      <td>3</td>\n",
                            "      <td>089842_02_213.jpg</td>\n",
                            "      <td>http://memoria.bn.br/docreader/089842_02/213</td>\n",
                            "    </tr>\n",
                            "    <tr>\n",
                            "      <th>3</th>\n",
                            "      <td>\"moyses zacharias\"</td>\n",
                            "      <td>2023-09-13</td>\n",
                            "      <td>Correio da Manhã (RJ) - 1910 a 1919</td>\n",
                            "      <td>1910</td>\n",
                            "      <td>125</td>\n",
                            "      <td>2</td>\n",
                            "      <td>089842_02_332.jpg</td>\n",
                            "      <td>http://memoria.bn.br/docreader/089842_02/332</td>\n",
                            "    </tr>\n",
                            "    <tr>\n",
                            "      <th>4</th>\n",
                            "      <td>\"moyses zacharias\"</td>\n",
                            "      <td>2023-09-13</td>\n",
                            "      <td>Correio da Manhã (RJ) - 1910 a 1919</td>\n",
                            "      <td>1910</td>\n",
                            "      <td>140</td>\n",
                            "      <td>4</td>\n",
                            "      <td>089842_02_462.jpg</td>\n",
                            "      <td>http://memoria.bn.br/docreader/089842_02/462</td>\n",
                            "    </tr>\n",
                            "    <tr>\n",
                            "      <th>5</th>\n",
                            "      <td>\"moyses zacharias\"</td>\n",
                            "      <td>2023-09-13</td>\n",
                            "      <td>Correio da Manhã (RJ) - 1910 a 1919</td>\n",
                            "      <td>1910</td>\n",
                            "      <td>143</td>\n",
                            "      <td>1</td>\n",
                            "      <td>089842_02_491.jpg</td>\n",
                            "      <td>http://memoria.bn.br/docreader/089842_02/491</td>\n",
                            "    </tr>\n",
                            "    <tr>\n",
                            "      <th>6</th>\n",
                            "      <td>\"moyses zacharias\"</td>\n",
                            "      <td>2023-09-13</td>\n",
                            "      <td>Correio da Manhã (RJ) - 1910 a 1919</td>\n",
                            "      <td>1911</td>\n",
                            "      <td>575</td>\n",
                            "      <td>3</td>\n",
                            "      <td>089842_02_4730.jpg</td>\n",
                            "      <td>http://memoria.bn.br/docreader/089842_02/4730</td>\n",
                            "    </tr>\n",
                            "    <tr>\n",
                            "      <th>7</th>\n",
                            "      <td>\"moyses zacharias\"</td>\n",
                            "      <td>2023-09-13</td>\n",
                            "      <td>Correio da Manhã (RJ) - 1910 a 1919</td>\n",
                            "      <td>1911</td>\n",
                            "      <td>586</td>\n",
                            "      <td>3</td>\n",
                            "      <td>089842_02_4844.jpg</td>\n",
                            "      <td>http://memoria.bn.br/docreader/089842_02/4844</td>\n",
                            "    </tr>\n",
                            "    <tr>\n",
                            "      <th>8</th>\n",
                            "      <td>\"moyses zacharias\"</td>\n",
                            "      <td>2023-09-13</td>\n",
                            "      <td>Correio da Manhã (RJ) - 1910 a 1919</td>\n",
                            "      <td>1916</td>\n",
                            "      <td>194</td>\n",
                            "      <td>3</td>\n",
                            "      <td>089842_02_26864.jpg</td>\n",
                            "      <td>http://memoria.bn.br/docreader/089842_02/26864</td>\n",
                            "    </tr>\n",
                            "    <tr>\n",
                            "      <th>9</th>\n",
                            "      <td>\"moyses zacharias\"</td>\n",
                            "      <td>2023-09-13</td>\n",
                            "      <td>Gazeta de Noticias (RJ) - 1900 a 1919</td>\n",
                            "      <td>1904</td>\n",
                            "      <td>111</td>\n",
                            "      <td>2</td>\n",
                            "      <td>103730_04_7508.jpg</td>\n",
                            "      <td>http://memoria.bn.br/docreader/103730_04/7508</td>\n",
                            "    </tr>\n",
                            "  </tbody>\n",
                            "</table>\n",
                            "</div>"
                        ],
                        "text/plain": [
                            "       Termo da busca Data da Busca                                 Acervo  \\\n",
                            "0  \"moyses zacharias\"    2023-09-13             O Malho (RJ) - 1902 - 1953   \n",
                            "1  \"moyses zacharias\"    2023-09-13             O Malho (RJ) - 1902 - 1953   \n",
                            "2  \"moyses zacharias\"    2023-09-13    Correio da Manhã (RJ) - 1910 a 1919   \n",
                            "3  \"moyses zacharias\"    2023-09-13    Correio da Manhã (RJ) - 1910 a 1919   \n",
                            "4  \"moyses zacharias\"    2023-09-13    Correio da Manhã (RJ) - 1910 a 1919   \n",
                            "5  \"moyses zacharias\"    2023-09-13    Correio da Manhã (RJ) - 1910 a 1919   \n",
                            "6  \"moyses zacharias\"    2023-09-13    Correio da Manhã (RJ) - 1910 a 1919   \n",
                            "7  \"moyses zacharias\"    2023-09-13    Correio da Manhã (RJ) - 1910 a 1919   \n",
                            "8  \"moyses zacharias\"    2023-09-13    Correio da Manhã (RJ) - 1910 a 1919   \n",
                            "9  \"moyses zacharias\"    2023-09-13  Gazeta de Noticias (RJ) - 1900 a 1919   \n",
                            "\n",
                            "    Ano  Edição  Página      Nome do arquivo  \\\n",
                            "0  1908      91      15     116300_11226.jpg   \n",
                            "1  1911      54      20     116300_18886.jpg   \n",
                            "2  1910     112       3    089842_02_213.jpg   \n",
                            "3  1910     125       2    089842_02_332.jpg   \n",
                            "4  1910     140       4    089842_02_462.jpg   \n",
                            "5  1910     143       1    089842_02_491.jpg   \n",
                            "6  1911     575       3   089842_02_4730.jpg   \n",
                            "7  1911     586       3   089842_02_4844.jpg   \n",
                            "8  1916     194       3  089842_02_26864.jpg   \n",
                            "9  1904     111       2   103730_04_7508.jpg   \n",
                            "\n",
                            "                                             Link  \n",
                            "0     http://memoria.bn.br/docreader/116300/11226  \n",
                            "1     http://memoria.bn.br/docreader/116300/18886  \n",
                            "2    http://memoria.bn.br/docreader/089842_02/213  \n",
                            "3    http://memoria.bn.br/docreader/089842_02/332  \n",
                            "4    http://memoria.bn.br/docreader/089842_02/462  \n",
                            "5    http://memoria.bn.br/docreader/089842_02/491  \n",
                            "6   http://memoria.bn.br/docreader/089842_02/4730  \n",
                            "7   http://memoria.bn.br/docreader/089842_02/4844  \n",
                            "8  http://memoria.bn.br/docreader/089842_02/26864  \n",
                            "9   http://memoria.bn.br/docreader/103730_04/7508  "
                        ]
                    },
                    "execution_count": 34,
                    "metadata": {},
                    "output_type": "execute_result"
                }
            ],
            "source": [
                "df_hdb.head(10)"
            ]
        },
        {
            "cell_type": "code",
            "execution_count": 35,
            "metadata": {},
            "outputs": [
                {
                    "data": {
                        "text/html": [
                            "<div>\n",
                            "<style scoped>\n",
                            "    .dataframe tbody tr th:only-of-type {\n",
                            "        vertical-align: middle;\n",
                            "    }\n",
                            "\n",
                            "    .dataframe tbody tr th {\n",
                            "        vertical-align: top;\n",
                            "    }\n",
                            "\n",
                            "    .dataframe thead th {\n",
                            "        text-align: right;\n",
                            "    }\n",
                            "</style>\n",
                            "<table border=\"1\" class=\"dataframe\">\n",
                            "  <thead>\n",
                            "    <tr style=\"text-align: right;\">\n",
                            "      <th></th>\n",
                            "      <th>Termo da busca</th>\n",
                            "      <th>Data da Busca</th>\n",
                            "      <th>Acervo</th>\n",
                            "      <th>Ano</th>\n",
                            "      <th>Edição</th>\n",
                            "      <th>Página</th>\n",
                            "      <th>Nome do arquivo</th>\n",
                            "      <th>Link</th>\n",
                            "    </tr>\n",
                            "  </thead>\n",
                            "  <tbody>\n",
                            "    <tr>\n",
                            "      <th>59</th>\n",
                            "      <td>\"moyses zacharias\"</td>\n",
                            "      <td>2023-09-13</td>\n",
                            "      <td>O Paiz (RJ) - 1910 a 1919</td>\n",
                            "      <td>1911</td>\n",
                            "      <td>784</td>\n",
                            "      <td>2</td>\n",
                            "      <td>178691_04_7627.jpg</td>\n",
                            "      <td>http://memoria.bn.br/docreader/178691_04/7627</td>\n",
                            "    </tr>\n",
                            "    <tr>\n",
                            "      <th>60</th>\n",
                            "      <td>\"moyses zacharias\"</td>\n",
                            "      <td>2023-09-13</td>\n",
                            "      <td>Correio da Manhã (RJ) - 1901 a 1909</td>\n",
                            "      <td>1906</td>\n",
                            "      <td>719</td>\n",
                            "      <td>3</td>\n",
                            "      <td>089842_01_10241.jpg</td>\n",
                            "      <td>http://memoria.bn.br/docreader/089842_01/10241</td>\n",
                            "    </tr>\n",
                            "    <tr>\n",
                            "      <th>61</th>\n",
                            "      <td>\"moyses zacharias\"</td>\n",
                            "      <td>2023-09-13</td>\n",
                            "      <td>Correio da Manhã (RJ) - 1901 a 1909</td>\n",
                            "      <td>1909</td>\n",
                            "      <td>1</td>\n",
                            "      <td>1</td>\n",
                            "      <td>089842_01_21042.jpg</td>\n",
                            "      <td>http://memoria.bn.br/docreader/089842_01/21042</td>\n",
                            "    </tr>\n",
                            "    <tr>\n",
                            "      <th>62</th>\n",
                            "      <td>\"moyses zacharias\"</td>\n",
                            "      <td>2023-09-13</td>\n",
                            "      <td>Correio da Manhã (RJ) - 1901 a 1909</td>\n",
                            "      <td>1909</td>\n",
                            "      <td>40</td>\n",
                            "      <td>3</td>\n",
                            "      <td>089842_01_21382.jpg</td>\n",
                            "      <td>http://memoria.bn.br/docreader/089842_01/21382</td>\n",
                            "    </tr>\n",
                            "    <tr>\n",
                            "      <th>63</th>\n",
                            "      <td>\"moyses zacharias\"</td>\n",
                            "      <td>2023-09-13</td>\n",
                            "      <td>Correio da Manhã (RJ) - 1901 a 1909</td>\n",
                            "      <td>1909</td>\n",
                            "      <td>87</td>\n",
                            "      <td>1</td>\n",
                            "      <td>089842_01_21802.jpg</td>\n",
                            "      <td>http://memoria.bn.br/docreader/089842_01/21802</td>\n",
                            "    </tr>\n",
                            "    <tr>\n",
                            "      <th>64</th>\n",
                            "      <td>\"moyses zacharias\"</td>\n",
                            "      <td>2023-09-13</td>\n",
                            "      <td>A Noite (RJ) - 1930 a 1939</td>\n",
                            "      <td>1939</td>\n",
                            "      <td>752</td>\n",
                            "      <td>18</td>\n",
                            "      <td>348970_03_62607.jpg</td>\n",
                            "      <td>http://memoria.bn.br/docreader/348970_03/62607</td>\n",
                            "    </tr>\n",
                            "    <tr>\n",
                            "      <th>65</th>\n",
                            "      <td>\"moyses zacharias\"</td>\n",
                            "      <td>2023-09-13</td>\n",
                            "      <td>A Noite (RJ) - 1930 a 1939</td>\n",
                            "      <td>1939</td>\n",
                            "      <td>752</td>\n",
                            "      <td>28</td>\n",
                            "      <td>348970_03_62617.jpg</td>\n",
                            "      <td>http://memoria.bn.br/docreader/348970_03/62617</td>\n",
                            "    </tr>\n",
                            "    <tr>\n",
                            "      <th>66</th>\n",
                            "      <td>\"moyses zacharias\"</td>\n",
                            "      <td>2023-09-13</td>\n",
                            "      <td>O Imparcial : Diario Illustrado do Rio de Jane...</td>\n",
                            "      <td>1915</td>\n",
                            "      <td>758</td>\n",
                            "      <td>11</td>\n",
                            "      <td>107670_01_9429.jpg</td>\n",
                            "      <td>http://memoria.bn.br/docreader/107670_01/9429</td>\n",
                            "    </tr>\n",
                            "    <tr>\n",
                            "      <th>67</th>\n",
                            "      <td>\"moyses zacharias\"</td>\n",
                            "      <td>2023-09-13</td>\n",
                            "      <td>O Imparcial : Diario Illustrado do Rio de Jane...</td>\n",
                            "      <td>1915</td>\n",
                            "      <td>759</td>\n",
                            "      <td>9</td>\n",
                            "      <td>107670_01_9443.jpg</td>\n",
                            "      <td>http://memoria.bn.br/docreader/107670_01/9443</td>\n",
                            "    </tr>\n",
                            "    <tr>\n",
                            "      <th>68</th>\n",
                            "      <td>\"moyses zacharias\"</td>\n",
                            "      <td>2023-09-13</td>\n",
                            "      <td>Diario Carioca : O máximo de jornal  no mínimo...</td>\n",
                            "      <td>1960</td>\n",
                            "      <td>704</td>\n",
                            "      <td>2</td>\n",
                            "      <td>093092_05_746.jpg</td>\n",
                            "      <td>http://memoria.bn.br/docreader/093092_05/746</td>\n",
                            "    </tr>\n",
                            "  </tbody>\n",
                            "</table>\n",
                            "</div>"
                        ],
                        "text/plain": [
                            "        Termo da busca Data da Busca  \\\n",
                            "59  \"moyses zacharias\"    2023-09-13   \n",
                            "60  \"moyses zacharias\"    2023-09-13   \n",
                            "61  \"moyses zacharias\"    2023-09-13   \n",
                            "62  \"moyses zacharias\"    2023-09-13   \n",
                            "63  \"moyses zacharias\"    2023-09-13   \n",
                            "64  \"moyses zacharias\"    2023-09-13   \n",
                            "65  \"moyses zacharias\"    2023-09-13   \n",
                            "66  \"moyses zacharias\"    2023-09-13   \n",
                            "67  \"moyses zacharias\"    2023-09-13   \n",
                            "68  \"moyses zacharias\"    2023-09-13   \n",
                            "\n",
                            "                                               Acervo   Ano  Edição  Página  \\\n",
                            "59                          O Paiz (RJ) - 1910 a 1919  1911     784       2   \n",
                            "60                Correio da Manhã (RJ) - 1901 a 1909  1906     719       3   \n",
                            "61                Correio da Manhã (RJ) - 1901 a 1909  1909       1       1   \n",
                            "62                Correio da Manhã (RJ) - 1901 a 1909  1909      40       3   \n",
                            "63                Correio da Manhã (RJ) - 1901 a 1909  1909      87       1   \n",
                            "64                         A Noite (RJ) - 1930 a 1939  1939     752      18   \n",
                            "65                         A Noite (RJ) - 1930 a 1939  1939     752      28   \n",
                            "66  O Imparcial : Diario Illustrado do Rio de Jane...  1915     758      11   \n",
                            "67  O Imparcial : Diario Illustrado do Rio de Jane...  1915     759       9   \n",
                            "68  Diario Carioca : O máximo de jornal  no mínimo...  1960     704       2   \n",
                            "\n",
                            "        Nome do arquivo                                            Link  \n",
                            "59   178691_04_7627.jpg   http://memoria.bn.br/docreader/178691_04/7627  \n",
                            "60  089842_01_10241.jpg  http://memoria.bn.br/docreader/089842_01/10241  \n",
                            "61  089842_01_21042.jpg  http://memoria.bn.br/docreader/089842_01/21042  \n",
                            "62  089842_01_21382.jpg  http://memoria.bn.br/docreader/089842_01/21382  \n",
                            "63  089842_01_21802.jpg  http://memoria.bn.br/docreader/089842_01/21802  \n",
                            "64  348970_03_62607.jpg  http://memoria.bn.br/docreader/348970_03/62607  \n",
                            "65  348970_03_62617.jpg  http://memoria.bn.br/docreader/348970_03/62617  \n",
                            "66   107670_01_9429.jpg   http://memoria.bn.br/docreader/107670_01/9429  \n",
                            "67   107670_01_9443.jpg   http://memoria.bn.br/docreader/107670_01/9443  \n",
                            "68    093092_05_746.jpg    http://memoria.bn.br/docreader/093092_05/746  "
                        ]
                    },
                    "execution_count": 35,
                    "metadata": {},
                    "output_type": "execute_result"
                }
            ],
            "source": [
                "df_hdb.tail(10)"
            ]
        },
        {
            "cell_type": "code",
            "execution_count": 36,
            "metadata": {},
            "outputs": [
                {
                    "data": {
                        "text/plain": [
                            "Index(['Termo da busca', 'Data da Busca', 'Acervo', 'Ano', 'Edição', 'Página',\n",
                            "       'Nome do arquivo', 'Link'],\n",
                            "      dtype='object')"
                        ]
                    },
                    "execution_count": 36,
                    "metadata": {},
                    "output_type": "execute_result"
                }
            ],
            "source": [
                "# print column names\n",
                "df_hdb.columns"
            ]
        },
        {
            "cell_type": "code",
            "execution_count": 37,
            "metadata": {},
            "outputs": [
                {
                    "data": {
                        "text/plain": [
                            "(69, 8)"
                        ]
                    },
                    "execution_count": 37,
                    "metadata": {},
                    "output_type": "execute_result"
                }
            ],
            "source": [
                "df_hdb.shape"
            ]
        },
        {
            "cell_type": "code",
            "execution_count": 38,
            "metadata": {},
            "outputs": [
                {
                    "name": "stdout",
                    "output_type": "stream",
                    "text": [
                        "<class 'pandas.core.frame.DataFrame'>\n",
                        "Int64Index: 69 entries, 0 to 68\n",
                        "Data columns (total 8 columns):\n",
                        " #   Column           Non-Null Count  Dtype \n",
                        "---  ------           --------------  ----- \n",
                        " 0   Termo da busca   69 non-null     object\n",
                        " 1   Data da Busca    69 non-null     object\n",
                        " 2   Acervo           69 non-null     object\n",
                        " 3   Ano              69 non-null     int64 \n",
                        " 4   Edição           69 non-null     int64 \n",
                        " 5   Página           69 non-null     int64 \n",
                        " 6   Nome do arquivo  60 non-null     object\n",
                        " 7   Link             69 non-null     object\n",
                        "dtypes: int64(3), object(5)\n",
                        "memory usage: 4.9+ KB\n"
                    ]
                }
            ],
            "source": [
                "df_hdb.info()"
            ]
        },
        {
            "cell_type": "code",
            "execution_count": 39,
            "metadata": {},
            "outputs": [
                {
                    "data": {
                        "text/plain": [
                            "0                O Malho (RJ) - 1902 - 1953\n",
                            "1                O Malho (RJ) - 1902 - 1953\n",
                            "2       Correio da Manhã (RJ) - 1910 a 1919\n",
                            "3       Correio da Manhã (RJ) - 1910 a 1919\n",
                            "4       Correio da Manhã (RJ) - 1910 a 1919\n",
                            "5       Correio da Manhã (RJ) - 1910 a 1919\n",
                            "6       Correio da Manhã (RJ) - 1910 a 1919\n",
                            "7       Correio da Manhã (RJ) - 1910 a 1919\n",
                            "8       Correio da Manhã (RJ) - 1910 a 1919\n",
                            "9     Gazeta de Noticias (RJ) - 1900 a 1919\n",
                            "10    Gazeta de Noticias (RJ) - 1900 a 1919\n",
                            "11    Gazeta de Noticias (RJ) - 1900 a 1919\n",
                            "12    Gazeta de Noticias (RJ) - 1900 a 1919\n",
                            "13    Gazeta de Noticias (RJ) - 1900 a 1919\n",
                            "14    Gazeta de Noticias (RJ) - 1900 a 1919\n",
                            "15    Gazeta de Noticias (RJ) - 1900 a 1919\n",
                            "16    Gazeta de Noticias (RJ) - 1900 a 1919\n",
                            "17    Gazeta de Noticias (RJ) - 1900 a 1919\n",
                            "18    Gazeta de Noticias (RJ) - 1900 a 1919\n",
                            "19    Gazeta de Noticias (RJ) - 1900 a 1919\n",
                            "Name: Acervo, dtype: object"
                        ]
                    },
                    "execution_count": 39,
                    "metadata": {},
                    "output_type": "execute_result"
                }
            ],
            "source": [
                "df_hdb['Acervo'][:20]"
            ]
        },
        {
            "cell_type": "code",
            "execution_count": 40,
            "metadata": {},
            "outputs": [
                {
                    "data": {
                        "text/plain": [
                            "<pandas.core.groupby.generic.DataFrameGroupBy object at 0x7f3e2f850e80>"
                        ]
                    },
                    "execution_count": 40,
                    "metadata": {},
                    "output_type": "execute_result"
                }
            ],
            "source": [
                "# group by column 'Acervo'\n",
                "df_hdb_acervo = df_hdb.groupby('Acervo')\n",
                "df_hdb_acervo"
            ]
        },
        {
            "cell_type": "code",
            "execution_count": 41,
            "metadata": {},
            "outputs": [
                {
                    "data": {
                        "text/plain": [
                            "Acervo\n",
                            "A Epoca (RJ) - 1912 a 1919                                                      3\n",
                            "A Imprensa (RJ) - 1898 a 1914                                                   2\n",
                            "A Noite (RJ) - 1911 a 1919                                                      1\n",
                            "A Noite (RJ) - 1920 a 1929                                                      1\n",
                            "A Noite (RJ) - 1930 a 1939                                                      2\n",
                            "A Noticia (RJ) - 1894 a 1916                                                    2\n",
                            "A Rua : Semanario Illustrado (RJ) - 1910 a 1927                                 1\n",
                            "A União (RJ) - 1905 a 1950                                                      1\n",
                            "Correio da Manhã (RJ) - 1901 a 1909                                             4\n",
                            "Correio da Manhã (RJ) - 1910 a 1919                                             7\n",
                            "Correio da Manhã (RJ) - 1920 a 1929                                             2\n",
                            "Correio da Manhã (RJ) - 1936 a 1939                                             1\n",
                            "Diario Carioca : O máximo de jornal  no mínimo de espaço (RJ) - 1960 a 1965     1\n",
                            "Gazeta de Noticias (RJ) - 1900 a 1919                                          13\n",
                            "Jornal do Brasil (RJ) - 1900 a 1909                                             3\n",
                            "Jornal do Brasil (RJ) - 1920 a 1929                                             1\n",
                            "Jornal do Commercio (RJ) - 1910 a 1919                                          3\n",
                            "Jornal do Commercio (RJ) - 1970 a 1979                                          1\n",
                            "O Imparcial (RJ) - 1920 a 1929                                                  2\n",
                            "O Imparcial : Diario Illustrado do Rio de Janeiro (RJ) - 1912 a 1919            2\n",
                            "O Jornal (RJ) - 1920 a 1929                                                     1\n",
                            "O Malho (RJ) - 1902 - 1953                                                      2\n",
                            "O Paiz (RJ) - 1900 a 1909                                                       1\n",
                            "O Paiz (RJ) - 1910 a 1919                                                       1\n",
                            "O Paiz (RJ) - 1920 a 1929                                                       3\n",
                            "O Radical (RJ) - 1932 a 1943                                                    2\n",
                            "O Seculo (RJ) - 1906 a 1916                                                     5\n",
                            "O Social : semanario illustrado (RJ) - 1921 a 1926                              1\n",
                            "dtype: int64"
                        ]
                    },
                    "execution_count": 41,
                    "metadata": {},
                    "output_type": "execute_result"
                }
            ],
            "source": [
                "# count the number of occurrences and sort by descending order\n",
                "df_hdb_acervo.size()"
            ]
        },
        {
            "cell_type": "code",
            "execution_count": 42,
            "metadata": {},
            "outputs": [
                {
                    "data": {
                        "text/plain": [
                            "Acervo\n",
                            "Gazeta de Noticias (RJ) - 1900 a 1919                                          13\n",
                            "Correio da Manhã (RJ) - 1910 a 1919                                             7\n",
                            "O Seculo (RJ) - 1906 a 1916                                                     5\n",
                            "Correio da Manhã (RJ) - 1901 a 1909                                             4\n",
                            "A Epoca (RJ) - 1912 a 1919                                                      3\n",
                            "O Paiz (RJ) - 1920 a 1929                                                       3\n",
                            "Jornal do Commercio (RJ) - 1910 a 1919                                          3\n",
                            "Jornal do Brasil (RJ) - 1900 a 1909                                             3\n",
                            "O Imparcial (RJ) - 1920 a 1929                                                  2\n",
                            "O Malho (RJ) - 1902 - 1953                                                      2\n",
                            "Correio da Manhã (RJ) - 1920 a 1929                                             2\n",
                            "O Radical (RJ) - 1932 a 1943                                                    2\n",
                            "A Noticia (RJ) - 1894 a 1916                                                    2\n",
                            "A Imprensa (RJ) - 1898 a 1914                                                   2\n",
                            "A Noite (RJ) - 1930 a 1939                                                      2\n",
                            "O Imparcial : Diario Illustrado do Rio de Janeiro (RJ) - 1912 a 1919            2\n",
                            "A Noite (RJ) - 1911 a 1919                                                      1\n",
                            "A Noite (RJ) - 1920 a 1929                                                      1\n",
                            "O Paiz (RJ) - 1910 a 1919                                                       1\n",
                            "O Paiz (RJ) - 1900 a 1909                                                       1\n",
                            "A União (RJ) - 1905 a 1950                                                      1\n",
                            "O Jornal (RJ) - 1920 a 1929                                                     1\n",
                            "A Rua : Semanario Illustrado (RJ) - 1910 a 1927                                 1\n",
                            "Jornal do Commercio (RJ) - 1970 a 1979                                          1\n",
                            "Jornal do Brasil (RJ) - 1920 a 1929                                             1\n",
                            "Diario Carioca : O máximo de jornal  no mínimo de espaço (RJ) - 1960 a 1965     1\n",
                            "Correio da Manhã (RJ) - 1936 a 1939                                             1\n",
                            "O Social : semanario illustrado (RJ) - 1921 a 1926                              1\n",
                            "dtype: int64"
                        ]
                    },
                    "execution_count": 42,
                    "metadata": {},
                    "output_type": "execute_result"
                }
            ],
            "source": [
                "df_hdb_acervo.size().sort_values(ascending=False)"
            ]
        },
        {
            "cell_type": "markdown",
            "metadata": {},
            "source": [
                "Para fazermos uma análise mais completa dos dados, precisamos excluir o padrão '- XXXX a XXXX' e manter apenas o nome do jornal na coluna 'Acervo'. \n",
                "\n",
                "Mas como faremos isso? um por um?\n",
                "\n",
                "Vamos usar expressões regulares! E pedir uma ajudinha ao ChatGPT-3.\n",
                "\n",
                "## Expressões regulares\n",
                "\n",
                "Expressões regulares são padrões utilizados para selecionar combinações de caracteres em uma string. Tudo é possível com expressões regulares, mas ao mesmo tempo elas podem ser bem complicadas.\n",
                "\n",
                "Veja a lição [Understanding Regular Expressions](http://programminghistorian.org/en/lessons/understanding-regular-expressions) de Doug Knox no Programming Historian para saber mais sobre expressões regulares. Ela ainda está em inglês (e se alguém quiser traduzir para publicarmos em português, será muito bem-vindo e só entrar em contato comigo!)."
            ]
        },
        {
            "cell_type": "markdown",
            "metadata": {},
            "source": [
                "Prompt para o ChatGPT-3.5:\n",
                "\n",
                ">Escreva uma expressão regular para selecionar o padrão '- XXXX a XXXX'. O XXXX corresponde a um ano de quatro dígitos.\n",
                "\n",
                "Essa foi a resposta que o ChatGPT-3.5 me deu:\n",
                "\n",
                "---\n",
                "Você pode usar a seguinte expressão regular para selecionar o padrão \"- XXXX a XXXX\", onde XXXX representa um ano de quatro dígitos:\n",
                "\n",
                "```regex\n",
                "-\\s\\d{4}\\s+a\\s+\\d{4}\n",
                "```\n",
                "\n",
                "Aqui está uma breve explicação da expressão regular:\n",
                "\n",
                "- `-\\s`: Isso corresponde ao caractere \"-\" seguido de um espaço em branco.\n",
                "- `\\d{4}`: Isso corresponde a quatro dígitos consecutivos, que representam um ano de quatro dígitos.\n",
                "- `\\s+a\\s+`: Isso corresponde a um ou mais espaços em branco, seguidos pela letra \"a\" em minúsculas e mais um ou mais espaços em branco.\n",
                "- `\\d{4}`: Isso corresponde novamente a quatro dígitos consecutivos para o segundo ano de quatro dígitos.\n",
                "\n",
                "Essa expressão regular capturará padrões como \"- 2021 a 2022\", onde \"2021\" e \"2022\" são anos de quatro dígitos separados pelo texto \"a\".\n"
            ]
        },
        {
            "cell_type": "code",
            "execution_count": 43,
            "metadata": {},
            "outputs": [],
            "source": [
                "# use re to find the pattern and replace it with a new string\n",
                "df_hdb['Acervo'] = df_hdb['Acervo'].str.replace('-\\s\\d{4}\\s+a\\s+\\d{4}', '', regex=True)\n"
            ]
        },
        {
            "cell_type": "code",
            "execution_count": 44,
            "metadata": {},
            "outputs": [],
            "source": [
                "df_hdb['Acervo'] = df_hdb['Acervo'].str.replace('-\\s\\d{4}', '', regex=True)"
            ]
        },
        {
            "cell_type": "code",
            "execution_count": 45,
            "metadata": {},
            "outputs": [
                {
                    "data": {
                        "text/plain": [
                            "0                                        O Malho (RJ)  \n",
                            "1                                        O Malho (RJ)  \n",
                            "2                                Correio da Manhã (RJ) \n",
                            "3                                Correio da Manhã (RJ) \n",
                            "4                                Correio da Manhã (RJ) \n",
                            "                            ...                        \n",
                            "64                                        A Noite (RJ) \n",
                            "65                                        A Noite (RJ) \n",
                            "66    O Imparcial : Diario Illustrado do Rio de Jane...\n",
                            "67    O Imparcial : Diario Illustrado do Rio de Jane...\n",
                            "68    Diario Carioca : O máximo de jornal  no mínimo...\n",
                            "Name: Acervo, Length: 69, dtype: object"
                        ]
                    },
                    "execution_count": 45,
                    "metadata": {},
                    "output_type": "execute_result"
                }
            ],
            "source": [
                "df_hdb['Acervo']"
            ]
        },
        {
            "cell_type": "code",
            "execution_count": 46,
            "metadata": {},
            "outputs": [
                {
                    "data": {
                        "text/plain": [
                            "Acervo\n",
                            "Correio da Manhã (RJ)                                             14\n",
                            "Gazeta de Noticias (RJ)                                           13\n",
                            "O Seculo (RJ)                                                      5\n",
                            "O Paiz (RJ)                                                        5\n",
                            "Jornal do Brasil (RJ)                                              4\n",
                            "A Noite (RJ)                                                       4\n",
                            "Jornal do Commercio (RJ)                                           4\n",
                            "A Epoca (RJ)                                                       3\n",
                            "A Imprensa (RJ)                                                    2\n",
                            "O Imparcial (RJ)                                                   2\n",
                            "O Imparcial : Diario Illustrado do Rio de Janeiro (RJ)             2\n",
                            "O Malho (RJ)                                                       2\n",
                            "O Radical (RJ)                                                     2\n",
                            "A Noticia (RJ)                                                     2\n",
                            "Diario Carioca : O máximo de jornal  no mínimo de espaço (RJ)      1\n",
                            "A União (RJ)                                                       1\n",
                            "O Jornal (RJ)                                                      1\n",
                            "A Rua : Semanario Illustrado (RJ)                                  1\n",
                            "O Social : semanario illustrado (RJ)                               1\n",
                            "dtype: int64"
                        ]
                    },
                    "execution_count": 46,
                    "metadata": {},
                    "output_type": "execute_result"
                }
            ],
            "source": [
                "df_hdb_acervo = df_hdb.groupby('Acervo').size().sort_values(ascending=False)\n",
                "df_hdb_acervo"
            ]
        },
        {
            "cell_type": "code",
            "execution_count": 47,
            "metadata": {},
            "outputs": [
                {
                    "name": "stdout",
                    "output_type": "stream",
                    "text": [
                        "<class 'pandas.core.series.Series'>\n",
                        "Index: 19 entries, Correio da Manhã (RJ)  to O Social : semanario illustrado (RJ) \n",
                        "Series name: None\n",
                        "Non-Null Count  Dtype\n",
                        "--------------  -----\n",
                        "19 non-null     int64\n",
                        "dtypes: int64(1)\n",
                        "memory usage: 860.0+ bytes\n"
                    ]
                }
            ],
            "source": [
                "df_hdb_acervo.info()"
            ]
        },
        {
            "cell_type": "code",
            "execution_count": 48,
            "metadata": {},
            "outputs": [
                {
                    "data": {
                        "text/plain": [
                            "Acervo                                                          Ano \n",
                            "A Epoca (RJ)                                                    1915    3\n",
                            "A Imprensa (RJ)                                                 1911    2\n",
                            "A Noite (RJ)                                                    1916    1\n",
                            "                                                                1922    1\n",
                            "                                                                1939    2\n",
                            "A Noticia (RJ)                                                  1905    1\n",
                            "                                                                1916    1\n",
                            "A Rua : Semanario Illustrado (RJ)                               1916    1\n",
                            "A União (RJ)                                                    1905    1\n",
                            "Correio da Manhã (RJ)                                           1906    1\n",
                            "                                                                1909    3\n",
                            "                                                                1910    4\n",
                            "                                                                1911    2\n",
                            "                                                                1916    1\n",
                            "                                                                1920    1\n",
                            "                                                                1922    1\n",
                            "                                                                1939    1\n",
                            "Diario Carioca : O máximo de jornal  no mínimo de espaço (RJ)   1960    1\n",
                            "Gazeta de Noticias (RJ)                                         1904    1\n",
                            "                                                                1905    3\n",
                            "                                                                1909    4\n",
                            "                                                                1910    1\n",
                            "                                                                1911    3\n",
                            "                                                                1916    1\n",
                            "Jornal do Brasil (RJ)                                           1908    1\n",
                            "                                                                1909    2\n",
                            "                                                                1924    1\n",
                            "Jornal do Commercio (RJ)                                        1910    2\n",
                            "                                                                1911    1\n",
                            "                                                                1977    1\n",
                            "O Imparcial (RJ)                                                1922    1\n",
                            "                                                                1923    1\n",
                            "O Imparcial : Diario Illustrado do Rio de Janeiro (RJ)          1915    2\n",
                            "O Jornal (RJ)                                                   1922    1\n",
                            "O Malho (RJ)                                                    1908    1\n",
                            "                                                                1911    1\n",
                            "O Paiz (RJ)                                                     1909    1\n",
                            "                                                                1911    1\n",
                            "                                                                1922    3\n",
                            "O Radical (RJ)                                                  1939    2\n",
                            "O Seculo (RJ)                                                   1907    1\n",
                            "                                                                1909    2\n",
                            "                                                                1911    1\n",
                            "                                                                1915    1\n",
                            "O Social : semanario illustrado (RJ)                            1921    1\n",
                            "dtype: int64"
                        ]
                    },
                    "execution_count": 48,
                    "metadata": {},
                    "output_type": "execute_result"
                }
            ],
            "source": [
                "# group by column 'Acervo' and 'Ano'\n",
                "df_hdb_acervo_ano = df_hdb.groupby(['Acervo', 'Ano']).size()\n",
                "df_hdb_acervo_ano"
            ]
        },
        {
            "cell_type": "code",
            "execution_count": 49,
            "metadata": {},
            "outputs": [
                {
                    "data": {
                        "text/plain": [
                            "<Axes: >"
                        ]
                    },
                    "execution_count": 49,
                    "metadata": {},
                    "output_type": "execute_result"
                },
                {
                    "data": {
                        "image/png": "[encoded data removed]",
                        "text/plain": [
                            "<Figure size 640x480 with 1 Axes>"
                        ]
                    },
                    "metadata": {},
                    "output_type": "display_data"
                }
            ],
            "source": [
                "# plot a bar chart of column 'Ano' and 'Acervo'\n",
                "df_hdb['Acervo'].value_counts().plot(kind='bar')\n"
            ]
        },
        {
            "cell_type": "code",
            "execution_count": 50,
            "metadata": {},
            "outputs": [
                {
                    "data": {
                        "text/plain": [
                            "Ano   Acervo                                                        \n",
                            "1904  Gazeta de Noticias (RJ)                                           1\n",
                            "1905  A Noticia (RJ)                                                    1\n",
                            "      A União (RJ)                                                      1\n",
                            "      Gazeta de Noticias (RJ)                                           3\n",
                            "1906  Correio da Manhã (RJ)                                             1\n",
                            "1907  O Seculo (RJ)                                                     1\n",
                            "1908  Jornal do Brasil (RJ)                                             1\n",
                            "      O Malho (RJ)                                                      1\n",
                            "1909  Correio da Manhã (RJ)                                             3\n",
                            "      Gazeta de Noticias (RJ)                                           4\n",
                            "      Jornal do Brasil (RJ)                                             2\n",
                            "      O Paiz (RJ)                                                       1\n",
                            "      O Seculo (RJ)                                                     2\n",
                            "1910  Correio da Manhã (RJ)                                             4\n",
                            "      Gazeta de Noticias (RJ)                                           1\n",
                            "      Jornal do Commercio (RJ)                                          2\n",
                            "1911  A Imprensa (RJ)                                                   2\n",
                            "      Correio da Manhã (RJ)                                             2\n",
                            "      Gazeta de Noticias (RJ)                                           3\n",
                            "      Jornal do Commercio (RJ)                                          1\n",
                            "      O Malho (RJ)                                                      1\n",
                            "      O Paiz (RJ)                                                       1\n",
                            "      O Seculo (RJ)                                                     1\n",
                            "1915  A Epoca (RJ)                                                      3\n",
                            "      O Imparcial : Diario Illustrado do Rio de Janeiro (RJ)            2\n",
                            "      O Seculo (RJ)                                                     1\n",
                            "1916  A Noite (RJ)                                                      1\n",
                            "      A Noticia (RJ)                                                    1\n",
                            "      A Rua : Semanario Illustrado (RJ)                                 1\n",
                            "      Correio da Manhã (RJ)                                             1\n",
                            "      Gazeta de Noticias (RJ)                                           1\n",
                            "1920  Correio da Manhã (RJ)                                             1\n",
                            "1921  O Social : semanario illustrado (RJ)                              1\n",
                            "1922  A Noite (RJ)                                                      1\n",
                            "      Correio da Manhã (RJ)                                             1\n",
                            "      O Imparcial (RJ)                                                  1\n",
                            "      O Jornal (RJ)                                                     1\n",
                            "      O Paiz (RJ)                                                       3\n",
                            "1923  O Imparcial (RJ)                                                  1\n",
                            "1924  Jornal do Brasil (RJ)                                             1\n",
                            "1939  A Noite (RJ)                                                      2\n",
                            "      Correio da Manhã (RJ)                                             1\n",
                            "      O Radical (RJ)                                                    2\n",
                            "1960  Diario Carioca : O máximo de jornal  no mínimo de espaço (RJ)     1\n",
                            "1977  Jornal do Commercio (RJ)                                          1\n",
                            "dtype: int64"
                        ]
                    },
                    "execution_count": 50,
                    "metadata": {},
                    "output_type": "execute_result"
                }
            ],
            "source": [
                "# filter by 'Ano'\n",
                "df_hdb.filter(items=['Ano', 'Acervo'])\\\n",
                "    .groupby(['Ano', 'Acervo'])\\\n",
                "    .size()\n",
                "    "
            ]
        },
        {
            "cell_type": "code",
            "execution_count": 51,
            "metadata": {},
            "outputs": [],
            "source": [
                "# filter by 'Ano' between 1901 and 1940\n",
                "df2 = df_hdb.filter(items=['Ano', 'Acervo'])\\\n",
                "          .query('Ano > 1901 and Ano < 1940')\\\n",
                "              "
            ]
        },
        {
            "cell_type": "code",
            "execution_count": 52,
            "metadata": {},
            "outputs": [
                {
                    "data": {
                        "text/html": [
                            "<div>\n",
                            "<style scoped>\n",
                            "    .dataframe tbody tr th:only-of-type {\n",
                            "        vertical-align: middle;\n",
                            "    }\n",
                            "\n",
                            "    .dataframe tbody tr th {\n",
                            "        vertical-align: top;\n",
                            "    }\n",
                            "\n",
                            "    .dataframe thead th {\n",
                            "        text-align: right;\n",
                            "    }\n",
                            "</style>\n",
                            "<table border=\"1\" class=\"dataframe\">\n",
                            "  <thead>\n",
                            "    <tr style=\"text-align: right;\">\n",
                            "      <th></th>\n",
                            "      <th>Ano</th>\n",
                            "      <th>Acervo</th>\n",
                            "    </tr>\n",
                            "  </thead>\n",
                            "  <tbody>\n",
                            "    <tr>\n",
                            "      <th>0</th>\n",
                            "      <td>1908</td>\n",
                            "      <td>O Malho (RJ)</td>\n",
                            "    </tr>\n",
                            "    <tr>\n",
                            "      <th>1</th>\n",
                            "      <td>1911</td>\n",
                            "      <td>O Malho (RJ)</td>\n",
                            "    </tr>\n",
                            "    <tr>\n",
                            "      <th>2</th>\n",
                            "      <td>1910</td>\n",
                            "      <td>Correio da Manhã (RJ)</td>\n",
                            "    </tr>\n",
                            "    <tr>\n",
                            "      <th>3</th>\n",
                            "      <td>1910</td>\n",
                            "      <td>Correio da Manhã (RJ)</td>\n",
                            "    </tr>\n",
                            "    <tr>\n",
                            "      <th>4</th>\n",
                            "      <td>1910</td>\n",
                            "      <td>Correio da Manhã (RJ)</td>\n",
                            "    </tr>\n",
                            "    <tr>\n",
                            "      <th>...</th>\n",
                            "      <td>...</td>\n",
                            "      <td>...</td>\n",
                            "    </tr>\n",
                            "    <tr>\n",
                            "      <th>63</th>\n",
                            "      <td>1909</td>\n",
                            "      <td>Correio da Manhã (RJ)</td>\n",
                            "    </tr>\n",
                            "    <tr>\n",
                            "      <th>64</th>\n",
                            "      <td>1939</td>\n",
                            "      <td>A Noite (RJ)</td>\n",
                            "    </tr>\n",
                            "    <tr>\n",
                            "      <th>65</th>\n",
                            "      <td>1939</td>\n",
                            "      <td>A Noite (RJ)</td>\n",
                            "    </tr>\n",
                            "    <tr>\n",
                            "      <th>66</th>\n",
                            "      <td>1915</td>\n",
                            "      <td>O Imparcial : Diario Illustrado do Rio de Jane...</td>\n",
                            "    </tr>\n",
                            "    <tr>\n",
                            "      <th>67</th>\n",
                            "      <td>1915</td>\n",
                            "      <td>O Imparcial : Diario Illustrado do Rio de Jane...</td>\n",
                            "    </tr>\n",
                            "  </tbody>\n",
                            "</table>\n",
                            "<p>67 rows × 2 columns</p>\n",
                            "</div>"
                        ],
                        "text/plain": [
                            "     Ano                                             Acervo\n",
                            "0   1908                                     O Malho (RJ)  \n",
                            "1   1911                                     O Malho (RJ)  \n",
                            "2   1910                             Correio da Manhã (RJ) \n",
                            "3   1910                             Correio da Manhã (RJ) \n",
                            "4   1910                             Correio da Manhã (RJ) \n",
                            "..   ...                                                ...\n",
                            "63  1909                             Correio da Manhã (RJ) \n",
                            "64  1939                                      A Noite (RJ) \n",
                            "65  1939                                      A Noite (RJ) \n",
                            "66  1915  O Imparcial : Diario Illustrado do Rio de Jane...\n",
                            "67  1915  O Imparcial : Diario Illustrado do Rio de Jane...\n",
                            "\n",
                            "[67 rows x 2 columns]"
                        ]
                    },
                    "execution_count": 52,
                    "metadata": {},
                    "output_type": "execute_result"
                }
            ],
            "source": [
                "df2"
            ]
        },
        {
            "cell_type": "markdown",
            "metadata": {},
            "source": [
                "---\n",
                "\n",
                "[Próximo →](dia4.ipynb)\n",
                "\n",
                "[← Anterior](dia2.md)\n",
                "\n",
                "[↑ Início](./README.md)"
            ]
        }
    ],
    "metadata": {
        "interpreter": {
            "hash": "31f2aee4e71d21fbe5cf8b01ff0e069b9275f58929596ceb00d14d90e3e16cd6"
        },
        "kernelspec": {
            "display_name": "Python 3.9.5 64-bit",
            "name": "python3"
        },
        "language_info": {
            "codemirror_mode": {
                "name": "ipython",
                "version": 3
            },
            "file_extension": ".py",
            "mimetype": "text/x-python",
            "name": "python",
            "nbconvert_exporter": "python",
            "pygments_lexer": "ipython3",
            "version": "3.10.12"
        },
        "orig_nbformat": 4
    },
    "nbformat": 4,
    "nbformat_minor": 2
}
