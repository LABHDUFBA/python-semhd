{
 "cells": [
  {
   "cell_type": "markdown",
   "id": "8050ee88",
   "metadata": {},
   "source": [
    "# Dia 0: antes de começar"
   ]
  },
  {
   "cell_type": "markdown",
   "id": "780a3142",
   "metadata": {},
   "source": [
    "## Preparando o ambiente de trabalho"
   ]
  },
  {
   "cell_type": "markdown",
   "id": "6b686f0f",
   "metadata": {},
   "source": [
    "### Como instalar o Python?\n"
   ]
  },
  {
   "cell_type": "markdown",
   "id": "0988c188",
   "metadata": {},
   "source": [
    "#### Instalando o Python no Windows:"
   ]
  },
  {
   "cell_type": "code",
   "execution_count": 5,
   "id": "65a86b34",
   "metadata": {
    "tags": [
     "remove-input"
    ]
   },
   "outputs": [
    {
     "data": {
      "text/html": [
       "<video src=\"./assets/python-windows.mp4\" controls  >\n",
       "      Your browser does not support the <code>video</code> element.\n",
       "    </video>"
      ],
      "text/plain": [
       "<IPython.core.display.Video object>"
      ]
     },
     "execution_count": 5,
     "metadata": {},
     "output_type": "execute_result"
    }
   ],
   "source": [
    "from IPython.display import Video\n",
    "\n",
    "python_win = './assets/python-windows.mp4'\n",
    "\n",
    "Video(python_win)"
   ]
  },
  {
   "cell_type": "markdown",
   "id": "7e7c7a32",
   "metadata": {},
   "source": [
    "#### Instalando o Python no Linux:\n",
    "\n",
    "Nas distribuições Linux baseadas em Debian, como o Ubuntu, o Python já vem instalado por padrão. Para verificar se o Python está instalado, abra o terminal e digite:\n",
    "\n",
    "```bash\n",
    "python3 --version\n",
    "```\n",
    "\n",
    "Caso o Python não esteja instalado, digite:\n",
    "\n",
    "```bash\n",
    "sudo apt install python3\n",
    "```"
   ]
  },
  {
   "cell_type": "markdown",
   "id": "10bf5f95",
   "metadata": {},
   "source": [
    "#### Instalando o Python no Mac:\n",
    "\n",
    "Para instalar o Python no Mac, você pode utilizar algum gerenciador de pacotes, como Homebrew ou MacPorts. Para instalar o Python utilizando o Homebrew, digite no terminal:\n",
    "\n",
    "```bash\n",
    "brew install python3\n",
    "```\n",
    "\n",
    "Para instalar o Python utilizando o MacPorts, digite no terminal:\n",
    "\n",
    "```bash\n",
    "sudo port install python3\n",
    "```\n",
    "\n",
    "Para informações sobre Homebrew, acesse https://brew.sh/pt-br/ e para informações sobre MacPorts, acesse https://www.macports.org/install.php"
   ]
  },
  {
   "cell_type": "markdown",
   "id": "16c6f41c",
   "metadata": {},
   "source": [
    "### Ambiente de trabalho no VSCode\n",
    "\n",
    "Instale o VSCode e as extensões Python, e o pacote de idioma Português (Brasil)."
   ]
  },
  {
   "cell_type": "code",
   "execution_count": 8,
   "id": "14f1e31d",
   "metadata": {
    "tags": [
     "remove-input"
    ]
   },
   "outputs": [
    {
     "data": {
      "text/html": [
       "<video src=\"./assets/vscode-windows.mp4\" controls  >\n",
       "      Your browser does not support the <code>video</code> element.\n",
       "    </video>"
      ],
      "text/plain": [
       "<IPython.core.display.Video object>"
      ]
     },
     "execution_count": 8,
     "metadata": {},
     "output_type": "execute_result"
    }
   ],
   "source": [
    "from IPython.display import Video\n",
    "\n",
    "python_win = './assets/vscode-windows.mp4'\n",
    "\n",
    "Video(python_win)"
   ]
  },
  {
   "cell_type": "markdown",
   "id": "632dcdd2",
   "metadata": {},
   "source": [
    "### O temido Terminal\n"
   ]
  },
  {
   "cell_type": "markdown",
   "id": "da568665",
   "metadata": {},
   "source": [
    "#### No macOS e Linux"
   ]
  },
  {
   "cell_type": "markdown",
   "id": "034264c5",
   "metadata": {},
   "source": [
    "Para abrir o terminal no macOS, basta pressionar as teclas `Command + Espaço` e digitar `terminal`. Na maioria das distribuições Linux, pressione `Ctrl + Alt + T`. Ou busque por `terminal` no menu de aplicativos."
   ]
  },
  {
   "cell_type": "markdown",
   "id": "09271d2f",
   "metadata": {},
   "source": [
    "#### E no Windows?\n",
    "\n",
    "- Instalar GitBash\n"
   ]
  },
  {
   "cell_type": "code",
   "execution_count": 7,
   "id": "83f9044a",
   "metadata": {
    "tags": [
     "remove-input"
    ]
   },
   "outputs": [
    {
     "data": {
      "text/html": [
       "<video src=\"./assets/git-windows.mp4\" controls  >\n",
       "      Your browser does not support the <code>video</code> element.\n",
       "    </video>"
      ],
      "text/plain": [
       "<IPython.core.display.Video object>"
      ]
     },
     "execution_count": 7,
     "metadata": {},
     "output_type": "execute_result"
    }
   ],
   "source": [
    "from IPython.display import Video\n",
    "\n",
    "python_win = './assets/git-windows.mp4'\n",
    "\n",
    "Video(python_win)"
   ]
  },
  {
   "cell_type": "markdown",
   "id": "5bda684b",
   "metadata": {},
   "source": [
    "Com ele poderemos usar os mesmos comandos do terminal do macOS e Linux.\n"
   ]
  },
  {
   "cell_type": "markdown",
   "id": "d3bbb6d7",
   "metadata": {},
   "source": [
    "[Próximo →](dia1.ipynb)\n",
    "\n",
    "[← Anterior](README.md)\n",
    "\n",
    "[↑ Início](./README.md)"
   ]
  }
 ],
 "metadata": {
  "jupytext": {
   "cell_metadata_filter": "-all",
   "main_language": "python",
   "notebook_metadata_filter": "-all"
  },
  "kernelspec": {
   "display_name": "Python 3",
   "language": "python",
   "name": "python3"
  },
  "language_info": {
   "codemirror_mode": {
    "name": "ipython",
    "version": 3
   },
   "file_extension": ".py",
   "mimetype": "text/x-python",
   "name": "python",
   "nbconvert_exporter": "python",
   "pygments_lexer": "ipython3",
   "version": "3.10.12"
  }
 },
 "nbformat": 4,
 "nbformat_minor": 5
}
