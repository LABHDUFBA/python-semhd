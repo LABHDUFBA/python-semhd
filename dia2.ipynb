{
 "cells": [
  {
   "cell_type": "markdown",
   "id": "b3ab46a2",
   "metadata": {},
   "source": [
    "# Dia 2\n",
    "\n",
    "## Dúvidas sobre Desafio 1"
   ]
  },
  {
   "cell_type": "markdown",
   "id": "9f48bafd",
   "metadata": {},
   "source": [
    "## Funções\n",
    "\n",
    ">No contexto da programação, uma função é uma sequência nomeada de instruções que executa uma operação de computação. Ao definir uma função, você especifica o nome e a sequência de instruções. Depois, pode “chamar” a função pelo nome. (Downey, 2016)\n",
    "\n",
    "\n",
    "Podemos criar nossas próprias funções para executar tarefas específicas. Para isso, usamos a palavra reservada `def` seguida do nome da função e dos parênteses. \n",
    "\n",
    "Ver a lição Reutilização de código e modularidade em Python de William J. Turkel e Adam Crymble no [Programming Historian](https://programminghistorian.org/pt/licoes/reutilizacao-codigo-modularidade-python).\n"
   ]
  },
  {
   "cell_type": "code",
   "execution_count": null,
   "id": "d821329e",
   "metadata": {
    "lines_to_next_cell": 0
   },
   "outputs": [],
   "source": [
    "def saudacao(pessoa):\n",
    "    print(f'Olá, {pessoa}! Como vai?')"
   ]
  },
  {
   "cell_type": "markdown",
   "id": "742d546e",
   "metadata": {},
   "source": [
    "Essa função se chama `saudacao` e recebe um argumento `pessoa`. O argumento é uma variável que será utilizada dentro da função.\n",
    "\n",
    "Para executar a função, basta chamá-la pelo nome e passar o argumento."
   ]
  },
  {
   "cell_type": "code",
   "execution_count": null,
   "id": "f60d8169",
   "metadata": {},
   "outputs": [],
   "source": [
    "saudacao('Maria')"
   ]
  },
  {
   "cell_type": "markdown",
   "id": "7033d40c",
   "metadata": {},
   "source": [
    "Mas e se eu quiser utilizar o que a função resulta em uma variável?\n",
    "\n",
    "Vamos criar um função que calcula a média entre duas notas."
   ]
  },
  {
   "cell_type": "code",
   "execution_count": null,
   "id": "b36f9d94",
   "metadata": {},
   "outputs": [],
   "source": [
    "def media(nota1, nota2):\n",
    "    resultado = (nota1 + nota2) / 2\n",
    "    return resultado"
   ]
  },
  {
   "cell_type": "markdown",
   "id": "376b04e6",
   "metadata": {},
   "source": [
    "Agora podemos \"chamar\" a função e utilizar o retorno da função em uma variável."
   ]
  },
  {
   "cell_type": "code",
   "execution_count": null,
   "id": "91131152",
   "metadata": {},
   "outputs": [],
   "source": [
    "aluno1 = media(9.5, 6.2)\n",
    "print(aluno1)"
   ]
  },
  {
   "cell_type": "markdown",
   "id": "f4e1d6df",
   "metadata": {},
   "source": [
    "## Lendo e analisando texto com python\n",
    "\n",
    "### Strings\n",
    "\n",
    "Uma *string* é um tipo de dados Python que é tratado como texto, mesmo que contenha um número. As strings são sempre colocadas entre aspas simples `'isto é uma string'` ou aspas duplas `\"isto é uma string\"`.\n",
    "\n",
    "Segundo [Allen Downey](https://penseallen.github.io/PensePython2e/08-strings.html):\n",
    "\n",
    ">Strings não são como números inteiros, de ponto flutuante ou booleanos. Uma string é uma sequência, ou seja, uma coleção ordenada de outros valores. (...) Uma string é uma sequência de caracteres.\n",
    "\n",
    "É possível acessar um caractere específico da string com o operador [].\n",
    "\n",
    "A expressão entre colchetes chama-se índice. O índie aponta para o local do caractere na string.\n",
    "\n",
    "Para saber mais, veja a lição \"Manipular strings com Python\" de William J. Turkel e Adam Crymble no [Programming Historian](https://programminghistorian.org/pt/licoes/manipular-strings-python)."
   ]
  },
  {
   "cell_type": "markdown",
   "id": "1e03b7a2",
   "metadata": {},
   "source": [
    "Vamos a exemplos mais bonitos:\n",
    "\n",
    "![Caetano](https://media.tenor.com/WOGcOj0L3vgAAAAC/caetano-veloso.gif)"
   ]
  },
  {
   "cell_type": "code",
   "execution_count": null,
   "id": "ef2f7630",
   "metadata": {},
   "outputs": [],
   "source": [
    "music = 'Terra'\n",
    "music[1]"
   ]
  },
  {
   "cell_type": "markdown",
   "id": "93a8928b",
   "metadata": {},
   "source": [
    "**Opa! o caractere na posição 1 da string music não deveria ser 'T'?**\n",
    "\n",
    "A contagem de índices no Python começa em `0`, ou seja, o primeiro caractere é na posição 0.\n",
    "\n",
    "Em **Python**, como em muitas outras linguagens de programação, a contagem de posições em uma lista ou sequência começa a partir de **0** em vez de **1**. Isso é chamado de **indexação baseada em zero**.\n",
    "\n",
    "A principal razão para isso vem de como os computadores organizam a memória. Quando Python (ou outra linguagem de programação) precisa acessar um item em uma lista, ele calcula a posição com base em um \"deslocamento\" a partir do primeiro item. Assim:\n",
    "\n",
    "- O primeiro item está a **0 posições** do início da lista, então ele recebe o índice 0.\n",
    "- O segundo item está a **1 posição** do início, então ele recebe o índice 1.\n",
    "- E assim por diante.\n",
    "\n",
    "Essa contagem a partir de 0 torna o cálculo de posição mais rápido e eficiente para o computador, pois ele pode simplesmente contar o número de deslocamentos sem precisar fazer ajustes adicionais."
   ]
  },
  {
   "cell_type": "code",
   "execution_count": null,
   "id": "4731ec48",
   "metadata": {},
   "outputs": [],
   "source": [
    "music[0]"
   ]
  },
  {
   "cell_type": "markdown",
   "id": "e35ef9ba",
   "metadata": {},
   "source": [
    "E pra acessar o último elemento da string, você pode usar índices negativos."
   ]
  },
  {
   "cell_type": "code",
   "execution_count": null,
   "id": "4c520c1b",
   "metadata": {},
   "outputs": [],
   "source": [
    "music[-1]"
   ]
  },
  {
   "cell_type": "markdown",
   "id": "271855f8",
   "metadata": {},
   "source": [
    "#### len()\n",
    "\n",
    "len() é uma função que retorna o número de caracteres de uma string."
   ]
  },
  {
   "cell_type": "code",
   "execution_count": null,
   "id": "de0e32e7",
   "metadata": {},
   "outputs": [],
   "source": [
    "len(music)"
   ]
  },
  {
   "cell_type": "code",
   "execution_count": null,
   "id": "2ae8e703",
   "metadata": {},
   "outputs": [],
   "source": [
    "another_music = 'Como 2 e 2'\n",
    "len(another_music)"
   ]
  },
  {
   "cell_type": "code",
   "execution_count": null,
   "id": "7cadbf1d",
   "metadata": {},
   "outputs": [],
   "source": [
    "another_music[5]"
   ]
  },
  {
   "cell_type": "markdown",
   "id": "58563e0e",
   "metadata": {},
   "source": [
    "### Manipulando *strings*\n",
    "\n",
    "#### Fatiamento de strings\n",
    "\n",
    "Quando usamos intervalos em Python estamos usando o conceito de **slicing** (fatiamento) que retorna os elementos **do índice inicial até um antes do índice final**. Esse comportamento pode parecer estranho à primeira vista, mas ele é bastante útil na programação.\n"
   ]
  },
  {
   "cell_type": "markdown",
   "id": "706219a9",
   "metadata": {},
   "source": [
    "##### Por que Python faz isso?\n",
    "\n",
    "A ideia é que o intervalo `[início:fim]` inclua o índice `início` e vá até o índice imediatamente **anterior** a `fim`. Isso é chamado de **intervalo meio-aberto**. O motivo principal para isso é a consistência e flexibilidade:\n",
    "\n",
    "1. **Consistência com a indexação baseada em zero**: O intervalo `[0:n]` sempre retorna `n` elementos, o que é intuitivo quando pensamos em listas e contagens de elementos.\n",
    "\n",
    "2. **Facilidade de calcular sublistas**: Esse padrão facilita ao dividir listas em partes. Por exemplo, se quisermos pegar os primeiros 3 elementos de uma lista, fazemos `[0:3]`, que nos dá exatamente 3 elementos. E se quisermos pegar os próximos 3 elementos, fazemos `[3:6]` — uma continuidade fácil sem necessidade de ajustes.\n"
   ]
  },
  {
   "cell_type": "code",
   "execution_count": null,
   "id": "db252e93",
   "metadata": {},
   "outputs": [],
   "source": [
    "old_music = \"Avarandado\"\n",
    "old_music[0:6]"
   ]
  },
  {
   "cell_type": "code",
   "execution_count": null,
   "id": "bd1a4ddc",
   "metadata": {},
   "outputs": [],
   "source": [
    "old_music[:5] # se omitir o primeiro número, ele começa no início da string"
   ]
  },
  {
   "cell_type": "code",
   "execution_count": null,
   "id": "7bded50e",
   "metadata": {},
   "outputs": [],
   "source": [
    "old_music[3:] # se omitir o último número, a fatia vai até o final da string"
   ]
  },
  {
   "cell_type": "code",
   "execution_count": null,
   "id": "316190b8",
   "metadata": {},
   "outputs": [],
   "source": [
    "old_music[3:3] # Se o primeiro índice for maior ou igual ao segundo, o resultado é uma string vazia, representada por duas aspas"
   ]
  },
  {
   "cell_type": "markdown",
   "id": "81d290f2",
   "metadata": {},
   "source": [
    "#### Concatenando strings"
   ]
  },
  {
   "cell_type": "code",
   "execution_count": null,
   "id": "6a60d9ea",
   "metadata": {},
   "outputs": [],
   "source": [
    "nome = 'Caetano'\n",
    "nome"
   ]
  },
  {
   "cell_type": "code",
   "execution_count": null,
   "id": "7149a65c",
   "metadata": {},
   "outputs": [],
   "source": [
    "nome_completo = nome + ' Veloso'\n",
    "print(nome_completo)"
   ]
  },
  {
   "cell_type": "code",
   "execution_count": null,
   "id": "cd7ebda2",
   "metadata": {},
   "outputs": [],
   "source": [
    "dir(nome_completo)"
   ]
  },
  {
   "cell_type": "markdown",
   "id": "25915428",
   "metadata": {},
   "source": [
    "#### Métodos de strings"
   ]
  },
  {
   "cell_type": "code",
   "execution_count": null,
   "id": "488fe01b",
   "metadata": {},
   "outputs": [],
   "source": [
    "# lower() converte todas as letras para minusculas\n",
    "nome_completo = nome_completo.lower()\n",
    "print(nome_completo)\n"
   ]
  },
  {
   "cell_type": "code",
   "execution_count": null,
   "id": "8d1c159d",
   "metadata": {},
   "outputs": [],
   "source": [
    "# upper() converte todas as letras para maiusculas\n",
    "nome_completo = nome_completo.upper()\n",
    "print(nome_completo)\n"
   ]
  },
  {
   "cell_type": "code",
   "execution_count": null,
   "id": "14742748",
   "metadata": {},
   "outputs": [],
   "source": [
    "# replace - substitui uma string por outra\n",
    "nome_completo = nome_completo.replace('VELOSO', 'Veloso')\n",
    "print(nome_completo)"
   ]
  },
  {
   "cell_type": "code",
   "execution_count": null,
   "id": "0be2cd03",
   "metadata": {},
   "outputs": [],
   "source": [
    "# capitalize - converte a primeira letra da string para maiúscula\n",
    "nome_completo = nome_completo.capitalize()\n",
    "nome_completo"
   ]
  },
  {
   "cell_type": "code",
   "execution_count": null,
   "id": "b46105dd",
   "metadata": {},
   "outputs": [],
   "source": [
    "nome_completo = nome_completo.title()\n",
    "nome_completo"
   ]
  },
  {
   "cell_type": "code",
   "execution_count": null,
   "id": "f7dff7df",
   "metadata": {},
   "outputs": [],
   "source": [
    "# split - divide uma string em várias strings\n",
    "name1, name2 = nome_completo.split(' ')\n",
    "print(name1)\n",
    "print(name2)"
   ]
  },
  {
   "cell_type": "code",
   "execution_count": null,
   "id": "d6a7f2d7",
   "metadata": {},
   "outputs": [],
   "source": [
    "oco_total = '1/10'\n",
    "oco, total = oco_total.split('/')\n",
    "print(oco)\n",
    "print(total)"
   ]
  },
  {
   "cell_type": "code",
   "execution_count": null,
   "id": "d17748cf",
   "metadata": {},
   "outputs": [],
   "source": [
    "# find - encontra a posição de uma string dentro de outra\n",
    "nome_completo.find('Veloso')"
   ]
  },
  {
   "cell_type": "code",
   "execution_count": null,
   "id": "215ef89b",
   "metadata": {},
   "outputs": [],
   "source": [
    "# rfind - encontra a posição de uma string dentro de outra, mas começa a busca pelo final\n",
    "nome_completo.rfind('o')"
   ]
  },
  {
   "cell_type": "code",
   "execution_count": null,
   "id": "3e74361a",
   "metadata": {},
   "outputs": [],
   "source": [
    "# count - conta quantas vezes uma string aparece dentro de outra\n",
    "nome_completo.count('o')"
   ]
  },
  {
   "cell_type": "code",
   "execution_count": null,
   "id": "32d33a04",
   "metadata": {},
   "outputs": [],
   "source": [
    "# strip - remove os espaços em branco no início e no final da string\n",
    "livro = '           Verdade Tropical             '\n",
    "len(livro)"
   ]
  },
  {
   "cell_type": "code",
   "execution_count": null,
   "id": "d4cd6364",
   "metadata": {},
   "outputs": [],
   "source": [
    "len(livro.strip())"
   ]
  },
  {
   "cell_type": "markdown",
   "id": "7e27b8a4",
   "metadata": {},
   "source": [
    "#### Saiba mais sobre strings\n",
    "\n",
    "[ABZ-Aaron](https://github.com/ABZ-Aaron) criou um repositório no Github com cheat sheets para os métdoso de strings. Lś você também encontra cheat sheets sobre listas e dicionários. \n",
    "\n",
    "Veja o [repositório](https://github.com/ABZ-Aaron/CheatSheets).\n",
    "\n",
    "## Listas\n",
    "\n",
    "Allen Downey define uma lista em Python:\n",
    "\n",
    ">Como uma string, uma lista é uma sequência de valores. Em uma string, os valores são caracteres; em uma lista, eles podem ser de qualquer tipo. Os valores em uma lista são chamados de elementos, ou, algumas vezes, de itens.\n",
    "\n",
    ">Há várias formas para criar uma lista; a mais simples é colocar os elementos entre colchetes ([ e ])\n",
    "\n",
    "Listas são mutáveis. Podem conter elementos de qualquer tipo."
   ]
  },
  {
   "cell_type": "code",
   "execution_count": null,
   "id": "f07d6dc0",
   "metadata": {},
   "outputs": [],
   "source": [
    "musics = ['Tigresa', 'Cajuína', 'Sampa','Alegria, Alegria']\n",
    "years = [2000, 1978, 1978, 1967]\n",
    "empty = []\n",
    "multi = ['cantor', 1.68, ['Gilberto Gil', 'Maria Bethânia', 'Gal Costa']]"
   ]
  },
  {
   "cell_type": "markdown",
   "id": "0157ef6b",
   "metadata": {},
   "source": [
    "Podemos acessar os elementos de uma lista usando índices."
   ]
  },
  {
   "cell_type": "code",
   "execution_count": null,
   "id": "1d825760",
   "metadata": {},
   "outputs": [],
   "source": [
    "musics[-1]"
   ]
  },
  {
   "cell_type": "markdown",
   "id": "45d2de23",
   "metadata": {},
   "source": [
    "E podemos alterar os elementos de uma lista."
   ]
  },
  {
   "cell_type": "code",
   "execution_count": null,
   "id": "9264813c",
   "metadata": {},
   "outputs": [],
   "source": [
    "years"
   ]
  },
  {
   "cell_type": "code",
   "execution_count": null,
   "id": "f1d40eaa",
   "metadata": {},
   "outputs": [],
   "source": [
    "years[0] = 1977\n",
    "years"
   ]
  },
  {
   "cell_type": "markdown",
   "id": "d89e0908",
   "metadata": {},
   "source": [
    "Para saber o tamanho de uma lista, podemos usar a função `len()`"
   ]
  },
  {
   "cell_type": "code",
   "execution_count": null,
   "id": "01d05064",
   "metadata": {},
   "outputs": [],
   "source": [
    "len(musics)"
   ]
  },
  {
   "cell_type": "code",
   "execution_count": null,
   "id": "fd5f3b31",
   "metadata": {},
   "outputs": [],
   "source": [
    "type(musics)"
   ]
  },
  {
   "cell_type": "code",
   "execution_count": null,
   "id": "e5999ed2",
   "metadata": {},
   "outputs": [],
   "source": [
    "dir(musics)"
   ]
  },
  {
   "cell_type": "markdown",
   "id": "8318d14d",
   "metadata": {},
   "source": [
    "Índices de listas funcionam da mesma forma que os índices de strings\n",
    "\n",
    "#### Métodos de listas"
   ]
  },
  {
   "cell_type": "code",
   "execution_count": null,
   "id": "98db143a",
   "metadata": {},
   "outputs": [],
   "source": [
    "musics"
   ]
  },
  {
   "cell_type": "code",
   "execution_count": null,
   "id": "4149d054",
   "metadata": {},
   "outputs": [],
   "source": [
    "# append - adiciona um elemento ao final de uma lista\n",
    "musics.append('Estrangeiro')\n",
    "musics\n"
   ]
  },
  {
   "cell_type": "code",
   "execution_count": null,
   "id": "da1a3773",
   "metadata": {},
   "outputs": [],
   "source": [
    "musics[5]= 'Estrangeiro'"
   ]
  },
  {
   "cell_type": "code",
   "execution_count": null,
   "id": "8b044a14",
   "metadata": {},
   "outputs": [],
   "source": [
    "# extend toma uma lista como argumento e adiciona todos os elementos\n",
    "new_songs = ['Musa Híbrida', 'Abraçaço']\n",
    "musics.extend(new_songs)\n",
    "print(musics)"
   ]
  },
  {
   "cell_type": "code",
   "execution_count": null,
   "id": "5cd666ad",
   "metadata": {},
   "outputs": [],
   "source": [
    "musics.sort()\n",
    "musics\n"
   ]
  },
  {
   "cell_type": "code",
   "execution_count": null,
   "id": "d5efbcef",
   "metadata": {},
   "outputs": [],
   "source": [
    "musics.sort(reverse=True) # ordena a lista em ordem decrescente\n",
    "musics\n"
   ]
  },
  {
   "cell_type": "code",
   "execution_count": null,
   "id": "ce0d0091",
   "metadata": {},
   "outputs": [],
   "source": [
    "musics"
   ]
  },
  {
   "cell_type": "code",
   "execution_count": null,
   "id": "f03e9bd5",
   "metadata": {},
   "outputs": [],
   "source": [
    "#pop - remove um elemento da lista\n",
    "musics.append('Refavela')\n",
    "print(musics)\n"
   ]
  },
  {
   "cell_type": "code",
   "execution_count": null,
   "id": "66ac6de3",
   "metadata": {},
   "outputs": [],
   "source": [
    "musics.pop() # remove o ultimo elemento da lista\n",
    "musics\n"
   ]
  },
  {
   "cell_type": "code",
   "execution_count": null,
   "id": "13de9033",
   "metadata": {},
   "outputs": [],
   "source": [
    "# del - remove um elemento da lista\n",
    "del musics[5]\n",
    "musics\n"
   ]
  },
  {
   "cell_type": "code",
   "execution_count": null,
   "id": "ce99c022",
   "metadata": {},
   "outputs": [],
   "source": [
    "# remove - remove um elemento da lista\n",
    "musics.remove('Abraçaço')\n",
    "musics\n"
   ]
  },
  {
   "cell_type": "code",
   "execution_count": null,
   "id": "a1cbb141",
   "metadata": {},
   "outputs": [],
   "source": [
    "# transformar uma lista em uma string\n",
    "# join - separa os elementos da lista com o separador passado\n",
    "str_musics = ', '.join(musics)\n",
    "str_musics"
   ]
  },
  {
   "cell_type": "markdown",
   "id": "67e5a422",
   "metadata": {},
   "source": [
    "## Controladores de fluxo\n",
    "\n",
    "[Python Basics 2](https://github.com/ithaka/constellate-notebooks/blob/master/python-basics-2.ipynb) e Ted Lawless"
   ]
  },
  {
   "cell_type": "markdown",
   "id": "7bafe3cb",
   "metadata": {},
   "source": [
    "### Tipos de controle de fluxo"
   ]
  },
  {
   "cell_type": "markdown",
   "id": "5462d872",
   "metadata": {},
   "source": [
    "|Declaração|Significado|Condição de execução|\n",
    "|---|---|---|\n",
    "|`if`|se|se a condição for atendida|\n",
    "|`elif`|senão se|se nenhuma condição anterior for atendida *e* esta condição for atendida|\n",
    "|`else`|senão|se nenhuma condição for atendida (nenhuma condição é fornecida para uma instrução `else`)|\n",
    "|`while`|enquanto|enquanto a condição for verdadeira|\n",
    "|`for`|para|executar em um loop um quantidade de vezes|\n",
    "|`try`|tentar|tente isso e execute o código `except` se ocorrer um erro|\n",
    "\n",
    "### if / elif / else\n",
    "\n",
    "São operadores condicionais que permitem que você execute um código se uma condição for verdadeira. Podemos entender da seguinte forma:\n",
    "\n",
    "SE (`if`) uma condição for verdadeira, execute tal ação. SENÃO (`else`), execute outra ação. \n",
    "\n",
    ">Se (`if`) o semáforo **estiver vermelho** (condição 01), **pare** (ação 01). SENÃO (`else`), **siga** (ação 02).\n",
    "\n",
    "Podemos incluir outras condições com o operador `elif` (SENÃO SE).\n",
    "\n",
    ">Se (`if`) o semáforo **estiver vermelho** (condição 01), **pare** (ação 01). Senão, se (`elif`) **estiver amarelo** (condição 2), **reduza a velocidade** (ação 2). Senão (`else`), **siga** (ação 3).\n",
    "\n",
    "Vejamos um exemplo:"
   ]
  },
  {
   "cell_type": "code",
   "execution_count": null,
   "id": "ca750884",
   "metadata": {},
   "outputs": [],
   "source": [
    "number = int(input('Digite um número: '))"
   ]
  },
  {
   "cell_type": "code",
   "execution_count": null,
   "id": "1cbda7e8",
   "metadata": {},
   "outputs": [],
   "source": [
    "if number > 0:\n",
    "    print('positive')\n",
    "elif number < 0:\n",
    "    print('negative')\n",
    "else:\n",
    "    print('zero')"
   ]
  },
  {
   "cell_type": "markdown",
   "id": "bdd8c27e",
   "metadata": {},
   "source": [
    "A estrutura é `if` seguida da condição e dois pontos. Na linha seguinte, o bloco de código que será executado se a condição for verdadeira.\n",
    "\n",
    "Atenção para a indentação. O Python usa a indentação para definir blocos de código.\n",
    "\n",
    "### Criando iterações for\n",
    "\n",
    "É fundamental entender a estrutura de iteração, realizar um loop com python.\n",
    "\n",
    "Iterar é a capacidade de executar um bloco de instruções repetidamente."
   ]
  },
  {
   "cell_type": "code",
   "execution_count": null,
   "id": "b91b3986",
   "metadata": {},
   "outputs": [],
   "source": [
    "# utilizar for para percorrer a lista musics\n",
    "for music in musics:\n",
    "    print(f'O nome da música é {music}.')"
   ]
  },
  {
   "cell_type": "markdown",
   "id": "aec9d5d6",
   "metadata": {},
   "source": [
    "#### for usando range(), len() e enumerate()\n",
    "\n",
    "O `range()` é uma função que retorna uma sequência de números. Ela recebe três argumentos: `start`, `stop` e `step`.\n",
    "\n",
    "Se você passar apenas um argumento, o `range()` vai considerar que esse argumento é o `stop` e vai começar a sequência em `0` e vai incrementar de `1` em `1`."
   ]
  },
  {
   "cell_type": "code",
   "execution_count": null,
   "id": "d1eb4bf4",
   "metadata": {
    "lines_to_next_cell": 0
   },
   "outputs": [],
   "source": [
    "for i in range(1,11,2):\n",
    "    print(i)"
   ]
  },
  {
   "cell_type": "markdown",
   "id": "c932dc2d",
   "metadata": {},
   "source": [
    "A função `len()` retorna o tamanho de um objeto. Se o objeto for uma string, ela retorna o número de caracteres. Se o objeto for uma lista, ela retorna o número de elementos.\n",
    "\n",
    "Podemos então usar o `range()` e o `len()` para percorrer uma lista."
   ]
  },
  {
   "cell_type": "code",
   "execution_count": null,
   "id": "e9e82fbc",
   "metadata": {},
   "outputs": [],
   "source": [
    "musics = ['Tigresa', 'Sampa', 'Musa Híbrida', 'Estrangeiro', 'Cajuína']"
   ]
  },
  {
   "cell_type": "code",
   "execution_count": null,
   "id": "5e2454e7",
   "metadata": {},
   "outputs": [],
   "source": [
    "# utilizar range para percorrer um intervalo de valores\n",
    "for i in range(1, len(musics),2):\n",
    "    print(f'A música é {musics[i]} e ela possui {len(musics[i])} letras.\\n')"
   ]
  },
  {
   "cell_type": "markdown",
   "id": "e5b7a2ea",
   "metadata": {},
   "source": [
    "Já `enumerate()`, retorna uma tupla com o índice e o valor do elemento.\n",
    "É bastante útil quando queremos acessar o índice e o valor do elemento ao mesmo tempo."
   ]
  },
  {
   "cell_type": "code",
   "execution_count": null,
   "id": "3a01bbde",
   "metadata": {},
   "outputs": [],
   "source": [
    "for indice, musica in enumerate(musics):\n",
    "    print(indice, musica)"
   ]
  },
  {
   "cell_type": "markdown",
   "id": "88ca903c",
   "metadata": {},
   "source": [
    "Para começar a contagem do índice em `1`, basta passar o argumento `start` para a função `enumerate()`."
   ]
  },
  {
   "cell_type": "code",
   "execution_count": null,
   "id": "1ae4a90a",
   "metadata": {},
   "outputs": [],
   "source": [
    "for i, music in enumerate(musics, start=100):\n",
    "    print(i, music)"
   ]
  },
  {
   "cell_type": "markdown",
   "id": "7fba682d",
   "metadata": {},
   "source": [
    "#### continue e break\n",
    "\n",
    "O Python possui duas palavras reservadas que permitem controlar o fluxo de execução de um loop: `continue` e `break`.\n",
    "\n",
    "Como o próprio nome sugere, `continue` permite que você pule uma iteração do loop e continue a execução do mesmo.\n",
    "\n",
    "Por exemplo, se não quisermos imprimir um item de uma lista que inicia com a letra `A`, podemos usar o `continue` para pular essa iteração."
   ]
  },
  {
   "cell_type": "code",
   "execution_count": null,
   "id": "f14c622a",
   "metadata": {},
   "outputs": [],
   "source": [
    "for music in musics:\n",
    "    if music.startswith('T'):\n",
    "        print(music)\n",
    "        continue\n",
    "    else:\n",
    "        break"
   ]
  },
  {
   "cell_type": "markdown",
   "id": "45d816e7",
   "metadata": {},
   "source": [
    "Ou seja, o `continue` reinicia o loop sem executar o código que vem depois dele.\n",
    "\n",
    "A palavra reservada `break` permite que você interrompa a execução do loop. Vamos ver um exemplo de encerrar um loop quando um item da lista termina com a letra `a`."
   ]
  },
  {
   "cell_type": "code",
   "execution_count": null,
   "id": "ff202698",
   "metadata": {
    "lines_to_next_cell": 0
   },
   "outputs": [],
   "source": [
    "for music in musics:\n",
    "    if music.endswith('.pdf'):\n",
    "        print(music)\n",
    "    else:\n",
    "        continue"
   ]
  },
  {
   "cell_type": "markdown",
   "id": "54707e1e",
   "metadata": {},
   "source": [
    "Ou seja, o `break` interrompe o loop e o código que vem depois dele não é executado.\n",
    "\n",
    "### while\n",
    "\n",
    "O `while` é um loop que executa um bloco de código **enquanto** uma condição for verdadeira.\n",
    "\n",
    "Fluxo de execução para uma instrução while:\n",
    "\n",
    "1. Determine se a condição é verdadeira ou falsa.\n",
    "\n",
    "1. Se for falsa, saia da instrução while e continue a execução da próxima instrução.\n",
    "\n",
    "1. Se a condição for verdadeira, execute o corpo e então volte ao passo 1."
   ]
  },
  {
   "cell_type": "code",
   "execution_count": null,
   "id": "6ae4be09",
   "metadata": {},
   "outputs": [],
   "source": [
    "# criar uma lista de uma contagem de 10 até 0\n",
    "import time\n",
    "count = 10\n",
    "while count > 0:  # enquanto count for maior que 0\n",
    "    print(count)  # imprima count\n",
    "    time.sleep(1)  # aguarde 1 segundo\n",
    "    count -= 1  # subtraia 1 de count\n",
    "print(\"Decolar!\")"
   ]
  },
  {
   "cell_type": "markdown",
   "id": "18a75f53",
   "metadata": {},
   "source": [
    "### try / except\n",
    "\n",
    "O `try` permite que você teste um bloco de código. E caso ele não seja executado com sucesso, você pode executar um outro bloco de código, definido pelo `except`."
   ]
  },
  {
   "cell_type": "code",
   "execution_count": null,
   "id": "66fe8268",
   "metadata": {},
   "outputs": [],
   "source": [
    "autor = 'Amado'"
   ]
  },
  {
   "cell_type": "code",
   "execution_count": null,
   "id": "1c8ea57b",
   "metadata": {},
   "outputs": [],
   "source": [
    "try:\n",
    "    # tenta executar o bloco de código\n",
    "    # slip autor em duas variáveis\n",
    "    nome, sobrenome = autor.split(' ')\n",
    "    print(f'O nome do autor é {nome} e o sobrenome é {sobrenome}.')\n",
    "except:\n",
    "    # se houver um erro, imprime a mensagem\n",
    "    print('Erro ao dividir o nome do autor.')"
   ]
  },
  {
   "cell_type": "markdown",
   "id": "6e57d460",
   "metadata": {},
   "source": [
    "Existem vários tipos de erros que podem ser tratados com o `try` e `except`. Veja a lista completa [aqui](https://docs.python.org/3/library/exceptions.html#bltin-exceptions)."
   ]
  },
  {
   "cell_type": "markdown",
   "id": "ffe772cb",
   "metadata": {},
   "source": [
    "## Trabalhando com arquivos de texto\n",
    "\n",
    "Baseado na lição \"Trabalhando com ficheiros de texto em Python\" de William J. Turkel e Adam Crymble no [Programming Historian](https://programminghistorian.org/pt/licoes/trabalhando-ficheiros-texto-python)."
   ]
  },
  {
   "cell_type": "code",
   "execution_count": null,
   "id": "bc603eeb",
   "metadata": {},
   "outputs": [],
   "source": [
    "arquivo = open('caetano_veloso.txt', 'w')"
   ]
  },
  {
   "cell_type": "code",
   "execution_count": null,
   "id": "d0e82bc0",
   "metadata": {},
   "outputs": [],
   "source": [
    "  # abre o arquivo para escrita\n",
    "arquivo.write('Cantor, nascido em Santo Amaro da Purificação, BA.\\n')\n"
   ]
  },
  {
   "cell_type": "code",
   "execution_count": null,
   "id": "68966a97",
   "metadata": {},
   "outputs": [],
   "source": [
    "arquivo.close()  # fecha o arquivo"
   ]
  },
  {
   "cell_type": "markdown",
   "id": "dcd595b6",
   "metadata": {},
   "source": [
    "E como ler e alterar um arquivo que já existe?"
   ]
  },
  {
   "cell_type": "code",
   "execution_count": null,
   "id": "ab4fbe47",
   "metadata": {},
   "outputs": [],
   "source": [
    "ler_arquivo = open('caetano_veloso.txt', 'r')  # abre o arquivo para leitura\n",
    "ler_arquivo.read() # imprime o conteúdo do arquivo\n"
   ]
  },
  {
   "cell_type": "code",
   "execution_count": null,
   "id": "b1faa3e8",
   "metadata": {},
   "outputs": [],
   "source": [
    "ler_arquivo.close()"
   ]
  },
  {
   "cell_type": "code",
   "execution_count": null,
   "id": "08fca05c",
   "metadata": {},
   "outputs": [],
   "source": [
    "add_info = open('caetano_veloso.txt', 'a')  # abre o arquivo para adicionar conteúdo\n",
    "add_info.write('Filho de Dona Canô.\\n')\n",
    "add_info.close()"
   ]
  },
  {
   "cell_type": "markdown",
   "id": "09eae447",
   "metadata": {},
   "source": [
    "Imaginemos um arquivo com 10 linhas, cada uma contendo o nome de uma Universidade. E queremos ler cada um desses lugares e colocá-los em um lista chamada `ies`.\n",
    "\n",
    "Aqui está o conteúdo do arquivo [`ies.txt`](./ies.txt):\n",
    "\n",
    "```\n",
    "PUC-Rio\n",
    "UNILAB\n",
    "UFBA\n",
    "UFF\n",
    "UFRJ\n",
    "UNEB\n",
    "UFMG\n",
    "UFPE\n",
    "UFAM\n",
    "UFPA\n",
    "```\n",
    "\n",
    "Como podemos ler esse arquivo e colocar cada linha em uma lista?"
   ]
  },
  {
   "cell_type": "code",
   "execution_count": null,
   "id": "d4fb9916",
   "metadata": {},
   "outputs": [],
   "source": [
    "ies = []\n",
    "with open('ies.txt', 'r') as f:\n",
    "    for line in f:\n",
    "        ies.append(line.strip().upper())\n",
    "print(ies)\n"
   ]
  },
  {
   "cell_type": "markdown",
   "id": "2fc43f1c",
   "metadata": {},
   "source": [
    "## Desafio 2\n",
    "\n",
    "Criar um script que gere um relatório de pesquisa em texto simples, contendo (a partir dos dados inseridos pelo usuário):\n",
    "\n",
    "- Nome do usuário\n",
    "- Nome do Repositório de pesquisa\n",
    "- url do Repositório de pesquisa\n",
    "- Data e hora da busca\n",
    "- Termo de busca\n",
    "- Total de resultados\n",
    "- url do resultado\n",
    "\n",
    "### Desafio extra opcional\n",
    "\n",
    "[Contagem de Frequências de Palavras com Python](https://programminghistorian.org/pt/licoes/contar-frequencias-palavras-python)\n"
   ]
  },
  {
   "cell_type": "markdown",
   "id": "5fbb4a29",
   "metadata": {},
   "source": [
    "\n",
    "---\n",
    "\n",
    "[← Anterior](dia1.ipynb)\n",
    "\n",
    "[↑ Início](#dia-2)"
   ]
  }
 ],
 "metadata": {
  "jupytext": {
   "cell_metadata_filter": "-all",
   "main_language": "python",
   "notebook_metadata_filter": "-all"
  },
  "kernelspec": {
   "display_name": "Python 3",
   "language": "python",
   "name": "python3"
  },
  "language_info": {
   "codemirror_mode": {
    "name": "ipython",
    "version": 3
   },
   "file_extension": ".py",
   "mimetype": "text/x-python",
   "name": "python",
   "nbconvert_exporter": "python",
   "pygments_lexer": "ipython3",
   "version": "3.10.12"
  }
 },
 "nbformat": 4,
 "nbformat_minor": 5
}
