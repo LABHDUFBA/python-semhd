{
 "cells": [
  {
   "cell_type": "markdown",
   "id": "b3ab46a2",
   "metadata": {},
   "source": [
    "# Dia 2\n",
    "\n",
    "## Dúvidas sobre Desafio 1"
   ]
  },
  {
   "cell_type": "markdown",
   "id": "9f48bafd",
   "metadata": {},
   "source": [
    "## Funções\n",
    "\n",
    ">No contexto da programação, uma função é uma sequência nomeada de instruções que executa uma operação de computação. Ao definir uma função, você especifica o nome e a sequência de instruções. Depois, pode “chamar” a função pelo nome. (Downey, 2016)\n",
    "\n",
    "\n",
    "Podemos criar nossas próprias funções para executar tarefas específicas. Para isso, usamos a palavra reservada `def` seguida do nome da função e dos parênteses. \n",
    "\n",
    "Ver a lição Reutilização de código e modularidade em Python de William J. Turkel e Adam Crymble no [Programming Historian](https://programminghistorian.org/pt/licoes/reutilizacao-codigo-modularidade-python).\n"
   ]
  },
  {
   "cell_type": "code",
   "execution_count": 1,
   "id": "d821329e",
   "metadata": {
    "lines_to_next_cell": 0
   },
   "outputs": [],
   "source": [
    "def saudacao(pessoa):\n",
    "    print(f'Olá, {pessoa}! Como vai?')"
   ]
  },
  {
   "cell_type": "markdown",
   "id": "742d546e",
   "metadata": {},
   "source": [
    "Essa função se chama `saudacao` e recebe um argumento `pessoa`. O argumento é uma variável que será utilizada dentro da função.\n",
    "\n",
    "Para executar a função, basta chamá-la pelo nome e passar o argumento."
   ]
  },
  {
   "cell_type": "code",
   "execution_count": 2,
   "id": "f60d8169",
   "metadata": {},
   "outputs": [
    {
     "name": "stdout",
     "output_type": "stream",
     "text": [
      "Olá, Maria! Como vai?\n"
     ]
    }
   ],
   "source": [
    "saudacao('Maria')"
   ]
  },
  {
   "cell_type": "markdown",
   "id": "7033d40c",
   "metadata": {},
   "source": [
    "Mas e se eu quiser utilizar o que a função resulta em uma variável?\n",
    "\n",
    "Vamos criar um função que calcula a média entre duas notas."
   ]
  },
  {
   "cell_type": "code",
   "execution_count": 3,
   "id": "b36f9d94",
   "metadata": {},
   "outputs": [],
   "source": [
    "def media(nota1, nota2):\n",
    "    resultado = (nota1 + nota2) / 2\n",
    "    return resultado"
   ]
  },
  {
   "cell_type": "markdown",
   "id": "376b04e6",
   "metadata": {},
   "source": [
    "Agora podemos \"chamar\" a função e utilizar o retorno da função em uma variável."
   ]
  },
  {
   "cell_type": "code",
   "execution_count": 4,
   "id": "91131152",
   "metadata": {},
   "outputs": [
    {
     "name": "stdout",
     "output_type": "stream",
     "text": [
      "7.85\n"
     ]
    }
   ],
   "source": [
    "aluno1 = media(9.5, 6.2)\n",
    "print(aluno1)"
   ]
  },
  {
   "cell_type": "markdown",
   "id": "f4e1d6df",
   "metadata": {},
   "source": [
    "## Lendo e analisando texto com python\n",
    "\n",
    "### Strings\n",
    "\n",
    "Uma *string* é um tipo de dados Python que é tratado como texto, mesmo que contenha um número. As strings são sempre colocadas entre aspas simples `'isto é uma string'` ou aspas duplas `\"isto é uma string\"`.\n",
    "\n",
    "Segundo [Allen Downey](https://penseallen.github.io/PensePython2e/08-strings.html):\n",
    "\n",
    ">Strings não são como números inteiros, de ponto flutuante ou booleanos. Uma string é uma sequência, ou seja, uma coleção ordenada de outros valores. (...) Uma string é uma sequência de caracteres.\n",
    "\n",
    "É possível acessar um caractere específico da string com o operador [].\n",
    "\n",
    "A expressão entre colchetes chama-se índice. O índie aponta para o local do caractere na string.\n",
    "\n",
    "Para saber mais, veja a lição \"Manipular strings com Python\" de William J. Turkel e Adam Crymble no [Programming Historian](https://programminghistorian.org/pt/licoes/manipular-strings-python)."
   ]
  },
  {
   "cell_type": "markdown",
   "id": "1e03b7a2",
   "metadata": {},
   "source": [
    "Vamos a exemplos mais bonitos:\n",
    "\n",
    "![Caetano](https://media.tenor.com/WOGcOj0L3vgAAAAC/caetano-veloso.gif)"
   ]
  },
  {
   "cell_type": "code",
   "execution_count": 5,
   "id": "ef2f7630",
   "metadata": {},
   "outputs": [
    {
     "data": {
      "text/plain": [
       "'e'"
      ]
     },
     "execution_count": 5,
     "metadata": {},
     "output_type": "execute_result"
    }
   ],
   "source": [
    "music = 'Terra'\n",
    "music[1]"
   ]
  },
  {
   "cell_type": "markdown",
   "id": "93a8928b",
   "metadata": {},
   "source": [
    "**Opa! o caractere na posição 1 da string music não deveria ser 'T'?**\n",
    "\n",
    "A contagem de índices no Python começa em `0`, ou seja, o primeiro caractere é na posição 0.\n",
    "\n",
    "Essa é uma convenção adotada pela maioria das linguagens de programação. Facilita uma série de operações matemáticas e lógicas (que extrapolam minha mente de humanas)."
   ]
  },
  {
   "cell_type": "code",
   "execution_count": 6,
   "id": "4731ec48",
   "metadata": {},
   "outputs": [
    {
     "data": {
      "text/plain": [
       "'T'"
      ]
     },
     "execution_count": 6,
     "metadata": {},
     "output_type": "execute_result"
    }
   ],
   "source": [
    "music[0]"
   ]
  },
  {
   "cell_type": "markdown",
   "id": "e35ef9ba",
   "metadata": {},
   "source": [
    "E pra acessar o último elemento da string, você pode usar índices negativos."
   ]
  },
  {
   "cell_type": "code",
   "execution_count": 7,
   "id": "4c520c1b",
   "metadata": {},
   "outputs": [
    {
     "data": {
      "text/plain": [
       "'a'"
      ]
     },
     "execution_count": 7,
     "metadata": {},
     "output_type": "execute_result"
    }
   ],
   "source": [
    "music[-1]"
   ]
  },
  {
   "cell_type": "markdown",
   "id": "271855f8",
   "metadata": {},
   "source": [
    "#### len()\n",
    "\n",
    "len() é uma função que retorna o número de caracteres de uma string."
   ]
  },
  {
   "cell_type": "code",
   "execution_count": 8,
   "id": "de0e32e7",
   "metadata": {},
   "outputs": [
    {
     "data": {
      "text/plain": [
       "5"
      ]
     },
     "execution_count": 8,
     "metadata": {},
     "output_type": "execute_result"
    }
   ],
   "source": [
    "len(music)"
   ]
  },
  {
   "cell_type": "code",
   "execution_count": 9,
   "id": "2ae8e703",
   "metadata": {},
   "outputs": [
    {
     "data": {
      "text/plain": [
       "10"
      ]
     },
     "execution_count": 9,
     "metadata": {},
     "output_type": "execute_result"
    }
   ],
   "source": [
    "another_music = 'Como 2 e 2'\n",
    "len(another_music)"
   ]
  },
  {
   "cell_type": "code",
   "execution_count": 10,
   "id": "7cadbf1d",
   "metadata": {},
   "outputs": [
    {
     "data": {
      "text/plain": [
       "'2'"
      ]
     },
     "execution_count": 10,
     "metadata": {},
     "output_type": "execute_result"
    }
   ],
   "source": [
    "another_music[5]"
   ]
  },
  {
   "cell_type": "markdown",
   "id": "58563e0e",
   "metadata": {},
   "source": [
    "### Manipulando *strings*\n",
    "\n",
    "#### Fatiamento de strings\n",
    "\n",
    "Segundo [Allen Downey](https://penseallen.github.io/PensePython2e/08-strings.html):\n",
    "\n",
    ">O operador [n:m] retorna a parte da string do “enésimo” caractere ao “emésimo” caractere, incluindo o primeiro, mas excluindo o último. Este comportamento é contraintuitivo, porém pode ajudar a imaginar os índices que indicam a parte entre os caracteres."
   ]
  },
  {
   "cell_type": "markdown",
   "id": "d5f239f3",
   "metadata": {},
   "source": [
    "![](https://raw.githubusercontent.com/PenseAllen/PensePython2e/master/fig/tnkp_0801.png)"
   ]
  },
  {
   "cell_type": "code",
   "execution_count": 11,
   "id": "db252e93",
   "metadata": {},
   "outputs": [
    {
     "data": {
      "text/plain": [
       "'aran'"
      ]
     },
     "execution_count": 11,
     "metadata": {},
     "output_type": "execute_result"
    }
   ],
   "source": [
    "old_music = \"Avarandado\"\n",
    "old_music[2:6]"
   ]
  },
  {
   "cell_type": "code",
   "execution_count": 12,
   "id": "bd1a4ddc",
   "metadata": {},
   "outputs": [
    {
     "data": {
      "text/plain": [
       "'Avara'"
      ]
     },
     "execution_count": 12,
     "metadata": {},
     "output_type": "execute_result"
    }
   ],
   "source": [
    "old_music[:5] # se omitir o primeiro número, ele começa no início da string"
   ]
  },
  {
   "cell_type": "code",
   "execution_count": 13,
   "id": "7bded50e",
   "metadata": {},
   "outputs": [
    {
     "data": {
      "text/plain": [
       "'randado'"
      ]
     },
     "execution_count": 13,
     "metadata": {},
     "output_type": "execute_result"
    }
   ],
   "source": [
    "old_music[3:] # se omitir o último número, a fatia vai até o final da string"
   ]
  },
  {
   "cell_type": "code",
   "execution_count": 14,
   "id": "316190b8",
   "metadata": {},
   "outputs": [
    {
     "data": {
      "text/plain": [
       "''"
      ]
     },
     "execution_count": 14,
     "metadata": {},
     "output_type": "execute_result"
    }
   ],
   "source": [
    "old_music[3:3] # Se o primeiro índice for maior ou igual ao segundo, o resultado é uma string vazia, representada por duas aspas"
   ]
  },
  {
   "cell_type": "markdown",
   "id": "81d290f2",
   "metadata": {},
   "source": [
    "#### Concatenando strings"
   ]
  },
  {
   "cell_type": "code",
   "execution_count": 15,
   "id": "6a60d9ea",
   "metadata": {},
   "outputs": [
    {
     "data": {
      "text/plain": [
       "'Caetano'"
      ]
     },
     "execution_count": 15,
     "metadata": {},
     "output_type": "execute_result"
    }
   ],
   "source": [
    "nome = 'Caetano'\n",
    "nome"
   ]
  },
  {
   "cell_type": "code",
   "execution_count": 16,
   "id": "7149a65c",
   "metadata": {},
   "outputs": [
    {
     "name": "stdout",
     "output_type": "stream",
     "text": [
      "Caetano Veloso\n"
     ]
    }
   ],
   "source": [
    "nome_completo = nome + ' Veloso'\n",
    "print(nome_completo)"
   ]
  },
  {
   "cell_type": "code",
   "execution_count": 17,
   "id": "cd7ebda2",
   "metadata": {},
   "outputs": [
    {
     "data": {
      "text/plain": [
       "['__add__',\n",
       " '__class__',\n",
       " '__contains__',\n",
       " '__delattr__',\n",
       " '__dir__',\n",
       " '__doc__',\n",
       " '__eq__',\n",
       " '__format__',\n",
       " '__ge__',\n",
       " '__getattribute__',\n",
       " '__getitem__',\n",
       " '__getnewargs__',\n",
       " '__gt__',\n",
       " '__hash__',\n",
       " '__init__',\n",
       " '__init_subclass__',\n",
       " '__iter__',\n",
       " '__le__',\n",
       " '__len__',\n",
       " '__lt__',\n",
       " '__mod__',\n",
       " '__mul__',\n",
       " '__ne__',\n",
       " '__new__',\n",
       " '__reduce__',\n",
       " '__reduce_ex__',\n",
       " '__repr__',\n",
       " '__rmod__',\n",
       " '__rmul__',\n",
       " '__setattr__',\n",
       " '__sizeof__',\n",
       " '__str__',\n",
       " '__subclasshook__',\n",
       " 'capitalize',\n",
       " 'casefold',\n",
       " 'center',\n",
       " 'count',\n",
       " 'encode',\n",
       " 'endswith',\n",
       " 'expandtabs',\n",
       " 'find',\n",
       " 'format',\n",
       " 'format_map',\n",
       " 'index',\n",
       " 'isalnum',\n",
       " 'isalpha',\n",
       " 'isascii',\n",
       " 'isdecimal',\n",
       " 'isdigit',\n",
       " 'isidentifier',\n",
       " 'islower',\n",
       " 'isnumeric',\n",
       " 'isprintable',\n",
       " 'isspace',\n",
       " 'istitle',\n",
       " 'isupper',\n",
       " 'join',\n",
       " 'ljust',\n",
       " 'lower',\n",
       " 'lstrip',\n",
       " 'maketrans',\n",
       " 'partition',\n",
       " 'removeprefix',\n",
       " 'removesuffix',\n",
       " 'replace',\n",
       " 'rfind',\n",
       " 'rindex',\n",
       " 'rjust',\n",
       " 'rpartition',\n",
       " 'rsplit',\n",
       " 'rstrip',\n",
       " 'split',\n",
       " 'splitlines',\n",
       " 'startswith',\n",
       " 'strip',\n",
       " 'swapcase',\n",
       " 'title',\n",
       " 'translate',\n",
       " 'upper',\n",
       " 'zfill']"
      ]
     },
     "execution_count": 17,
     "metadata": {},
     "output_type": "execute_result"
    }
   ],
   "source": [
    "dir(nome_completo)"
   ]
  },
  {
   "cell_type": "markdown",
   "id": "25915428",
   "metadata": {},
   "source": [
    "#### Métodos de strings"
   ]
  },
  {
   "cell_type": "code",
   "execution_count": 18,
   "id": "488fe01b",
   "metadata": {},
   "outputs": [
    {
     "name": "stdout",
     "output_type": "stream",
     "text": [
      "caetano veloso\n"
     ]
    }
   ],
   "source": [
    "# lower() converte todas as letras para minusculas\n",
    "nome_completo = nome_completo.lower()\n",
    "print(nome_completo)\n"
   ]
  },
  {
   "cell_type": "code",
   "execution_count": 19,
   "id": "8d1c159d",
   "metadata": {},
   "outputs": [
    {
     "name": "stdout",
     "output_type": "stream",
     "text": [
      "CAETANO VELOSO\n"
     ]
    }
   ],
   "source": [
    "# upper() converte todas as letras para maiusculas\n",
    "nome_completo = nome_completo.upper()\n",
    "print(nome_completo)\n"
   ]
  },
  {
   "cell_type": "code",
   "execution_count": 20,
   "id": "14742748",
   "metadata": {},
   "outputs": [
    {
     "name": "stdout",
     "output_type": "stream",
     "text": [
      "CAETANO Veloso\n"
     ]
    }
   ],
   "source": [
    "# replace - substitui uma string por outra\n",
    "nome_completo = nome_completo.replace('VELOSO', 'Veloso')\n",
    "print(nome_completo)"
   ]
  },
  {
   "cell_type": "code",
   "execution_count": 21,
   "id": "0be2cd03",
   "metadata": {},
   "outputs": [
    {
     "data": {
      "text/plain": [
       "'Caetano veloso'"
      ]
     },
     "execution_count": 21,
     "metadata": {},
     "output_type": "execute_result"
    }
   ],
   "source": [
    "# capitalize - converte a primeira letra da string para maiúscula\n",
    "nome_completo = nome_completo.capitalize()\n",
    "nome_completo"
   ]
  },
  {
   "cell_type": "code",
   "execution_count": 22,
   "id": "b46105dd",
   "metadata": {},
   "outputs": [
    {
     "data": {
      "text/plain": [
       "'Caetano Veloso'"
      ]
     },
     "execution_count": 22,
     "metadata": {},
     "output_type": "execute_result"
    }
   ],
   "source": [
    "nome_completo = nome_completo.title()\n",
    "nome_completo"
   ]
  },
  {
   "cell_type": "code",
   "execution_count": 23,
   "id": "f7dff7df",
   "metadata": {},
   "outputs": [
    {
     "name": "stdout",
     "output_type": "stream",
     "text": [
      "Caetano\n",
      "Veloso\n"
     ]
    }
   ],
   "source": [
    "# split - divide uma string em várias strings\n",
    "name1, name2 = nome_completo.split(' ')\n",
    "print(name1)\n",
    "print(name2)"
   ]
  },
  {
   "cell_type": "code",
   "execution_count": 24,
   "id": "d6a7f2d7",
   "metadata": {},
   "outputs": [
    {
     "name": "stdout",
     "output_type": "stream",
     "text": [
      "1\n",
      "10\n"
     ]
    }
   ],
   "source": [
    "oco_total = '1/10'\n",
    "oco, total = oco_total.split('/')\n",
    "print(oco)\n",
    "print(total)"
   ]
  },
  {
   "cell_type": "code",
   "execution_count": 25,
   "id": "d17748cf",
   "metadata": {},
   "outputs": [
    {
     "data": {
      "text/plain": [
       "8"
      ]
     },
     "execution_count": 25,
     "metadata": {},
     "output_type": "execute_result"
    }
   ],
   "source": [
    "# find - encontra a posição de uma string dentro de outra\n",
    "nome_completo.find('Veloso')"
   ]
  },
  {
   "cell_type": "code",
   "execution_count": 26,
   "id": "215ef89b",
   "metadata": {},
   "outputs": [
    {
     "data": {
      "text/plain": [
       "13"
      ]
     },
     "execution_count": 26,
     "metadata": {},
     "output_type": "execute_result"
    }
   ],
   "source": [
    "# rfind - encontra a posição de uma string dentro de outra, mas começa a busca pelo final\n",
    "nome_completo.rfind('o')"
   ]
  },
  {
   "cell_type": "code",
   "execution_count": 27,
   "id": "3e74361a",
   "metadata": {},
   "outputs": [
    {
     "data": {
      "text/plain": [
       "3"
      ]
     },
     "execution_count": 27,
     "metadata": {},
     "output_type": "execute_result"
    }
   ],
   "source": [
    "# count - conta quantas vezes uma string aparece dentro de outra\n",
    "nome_completo.count('o')"
   ]
  },
  {
   "cell_type": "code",
   "execution_count": 28,
   "id": "32d33a04",
   "metadata": {},
   "outputs": [
    {
     "data": {
      "text/plain": [
       "40"
      ]
     },
     "execution_count": 28,
     "metadata": {},
     "output_type": "execute_result"
    }
   ],
   "source": [
    "# strip - remove os espaços em branco no início e no final da string\n",
    "livro = '           Verdade Tropical             '\n",
    "len(livro)"
   ]
  },
  {
   "cell_type": "code",
   "execution_count": 29,
   "id": "d4cd6364",
   "metadata": {},
   "outputs": [
    {
     "data": {
      "text/plain": [
       "16"
      ]
     },
     "execution_count": 29,
     "metadata": {},
     "output_type": "execute_result"
    }
   ],
   "source": [
    "len(livro.strip())"
   ]
  },
  {
   "cell_type": "markdown",
   "id": "7e27b8a4",
   "metadata": {},
   "source": [
    "#### Saiba mais sobre strings\n",
    "\n",
    "[ABZ-Aaron](https://github.com/ABZ-Aaron) criou um repositório no Github com cheat sheets para os métdoso de strings. Lś você também encontra cheat sheets sobre listas e dicionários. \n",
    "\n",
    "Veja o [repositório](https://github.com/ABZ-Aaron/CheatSheets).\n",
    "\n",
    "## Listas\n",
    "\n",
    "Allen Downey define uma lista em Python:\n",
    "\n",
    ">Como uma string, uma lista é uma sequência de valores. Em uma string, os valores são caracteres; em uma lista, eles podem ser de qualquer tipo. Os valores em uma lista são chamados de elementos, ou, algumas vezes, de itens.\n",
    "\n",
    ">Há várias formas para criar uma lista; a mais simples é colocar os elementos entre colchetes ([ e ])\n",
    "\n",
    "Listas são mutáveis. Podem conter elementos de qualquer tipo."
   ]
  },
  {
   "cell_type": "code",
   "execution_count": 30,
   "id": "f07d6dc0",
   "metadata": {},
   "outputs": [],
   "source": [
    "musics = ['Tigresa', 'Cajuína', 'Sampa','Alegria, Alegria']\n",
    "years = [2000, 1978, 1978, 1967]\n",
    "empty = []\n",
    "multi = ['cantor', 1.68, ['Gilberto Gil', 'Maria Bethânia', 'Gal Costa']]"
   ]
  },
  {
   "cell_type": "markdown",
   "id": "0157ef6b",
   "metadata": {},
   "source": [
    "Podemos acessar os elementos de uma lista usando índices."
   ]
  },
  {
   "cell_type": "code",
   "execution_count": 31,
   "id": "1d825760",
   "metadata": {},
   "outputs": [
    {
     "data": {
      "text/plain": [
       "'Alegria, Alegria'"
      ]
     },
     "execution_count": 31,
     "metadata": {},
     "output_type": "execute_result"
    }
   ],
   "source": [
    "musics[-1]"
   ]
  },
  {
   "cell_type": "markdown",
   "id": "45d2de23",
   "metadata": {},
   "source": [
    "E podemos alterar os elementos de uma lista."
   ]
  },
  {
   "cell_type": "code",
   "execution_count": 32,
   "id": "9264813c",
   "metadata": {},
   "outputs": [
    {
     "data": {
      "text/plain": [
       "[2000, 1978, 1978, 1967]"
      ]
     },
     "execution_count": 32,
     "metadata": {},
     "output_type": "execute_result"
    }
   ],
   "source": [
    "years"
   ]
  },
  {
   "cell_type": "code",
   "execution_count": 33,
   "id": "f1d40eaa",
   "metadata": {},
   "outputs": [
    {
     "data": {
      "text/plain": [
       "[1977, 1978, 1978, 1967]"
      ]
     },
     "execution_count": 33,
     "metadata": {},
     "output_type": "execute_result"
    }
   ],
   "source": [
    "years[0] = 1977\n",
    "years"
   ]
  },
  {
   "cell_type": "markdown",
   "id": "d89e0908",
   "metadata": {},
   "source": [
    "Para saber o tamanho de uma lista, podemos usar a função `len()`"
   ]
  },
  {
   "cell_type": "code",
   "execution_count": 34,
   "id": "01d05064",
   "metadata": {},
   "outputs": [
    {
     "data": {
      "text/plain": [
       "4"
      ]
     },
     "execution_count": 34,
     "metadata": {},
     "output_type": "execute_result"
    }
   ],
   "source": [
    "len(musics)"
   ]
  },
  {
   "cell_type": "code",
   "execution_count": 35,
   "id": "fd5f3b31",
   "metadata": {},
   "outputs": [
    {
     "data": {
      "text/plain": [
       "list"
      ]
     },
     "execution_count": 35,
     "metadata": {},
     "output_type": "execute_result"
    }
   ],
   "source": [
    "type(musics)"
   ]
  },
  {
   "cell_type": "code",
   "execution_count": 36,
   "id": "e5999ed2",
   "metadata": {},
   "outputs": [
    {
     "data": {
      "text/plain": [
       "['__add__',\n",
       " '__class__',\n",
       " '__class_getitem__',\n",
       " '__contains__',\n",
       " '__delattr__',\n",
       " '__delitem__',\n",
       " '__dir__',\n",
       " '__doc__',\n",
       " '__eq__',\n",
       " '__format__',\n",
       " '__ge__',\n",
       " '__getattribute__',\n",
       " '__getitem__',\n",
       " '__gt__',\n",
       " '__hash__',\n",
       " '__iadd__',\n",
       " '__imul__',\n",
       " '__init__',\n",
       " '__init_subclass__',\n",
       " '__iter__',\n",
       " '__le__',\n",
       " '__len__',\n",
       " '__lt__',\n",
       " '__mul__',\n",
       " '__ne__',\n",
       " '__new__',\n",
       " '__reduce__',\n",
       " '__reduce_ex__',\n",
       " '__repr__',\n",
       " '__reversed__',\n",
       " '__rmul__',\n",
       " '__setattr__',\n",
       " '__setitem__',\n",
       " '__sizeof__',\n",
       " '__str__',\n",
       " '__subclasshook__',\n",
       " 'append',\n",
       " 'clear',\n",
       " 'copy',\n",
       " 'count',\n",
       " 'extend',\n",
       " 'index',\n",
       " 'insert',\n",
       " 'pop',\n",
       " 'remove',\n",
       " 'reverse',\n",
       " 'sort']"
      ]
     },
     "execution_count": 36,
     "metadata": {},
     "output_type": "execute_result"
    }
   ],
   "source": [
    "dir(musics)"
   ]
  },
  {
   "cell_type": "markdown",
   "id": "8318d14d",
   "metadata": {},
   "source": [
    "Índices de listas funcionam da mesma forma que os índices de strings\n",
    "\n",
    "#### Métodos de listas"
   ]
  },
  {
   "cell_type": "code",
   "execution_count": 37,
   "id": "98db143a",
   "metadata": {},
   "outputs": [
    {
     "data": {
      "text/plain": [
       "['Tigresa', 'Cajuína', 'Sampa', 'Alegria, Alegria']"
      ]
     },
     "execution_count": 37,
     "metadata": {},
     "output_type": "execute_result"
    }
   ],
   "source": [
    "musics"
   ]
  },
  {
   "cell_type": "code",
   "execution_count": 38,
   "id": "4149d054",
   "metadata": {},
   "outputs": [
    {
     "data": {
      "text/plain": [
       "['Tigresa', 'Cajuína', 'Sampa', 'Alegria, Alegria', 'Estrangeiro']"
      ]
     },
     "execution_count": 38,
     "metadata": {},
     "output_type": "execute_result"
    }
   ],
   "source": [
    "# append - adiciona um elemento ao final de uma lista\n",
    "musics.append('Estrangeiro')\n",
    "musics\n"
   ]
  },
  {
   "cell_type": "code",
   "execution_count": 39,
   "id": "da1a3773",
   "metadata": {},
   "outputs": [
    {
     "ename": "IndexError",
     "evalue": "list assignment index out of range",
     "output_type": "error",
     "traceback": [
      "\u001b[0;31m---------------------------------------------------------------------------\u001b[0m",
      "\u001b[0;31mIndexError\u001b[0m                                Traceback (most recent call last)",
      "\u001b[1;32m/home/ebn/Documentos/Github/python-puc/dia2.ipynb Célula 58\u001b[0m line \u001b[0;36m1\n\u001b[0;32m----> <a href='vscode-notebook-cell:/home/ebn/Documentos/Github/python-puc/dia2.ipynb#Y111sZmlsZQ%3D%3D?line=0'>1</a>\u001b[0m musics[\u001b[39m5\u001b[39;49m]\u001b[39m=\u001b[39m \u001b[39m'\u001b[39m\u001b[39mEstrangeiro\u001b[39m\u001b[39m'\u001b[39m\n",
      "\u001b[0;31mIndexError\u001b[0m: list assignment index out of range"
     ]
    }
   ],
   "source": [
    "musics[5]= 'Estrangeiro'"
   ]
  },
  {
   "cell_type": "code",
   "execution_count": 40,
   "id": "8b044a14",
   "metadata": {},
   "outputs": [
    {
     "name": "stdout",
     "output_type": "stream",
     "text": [
      "['Tigresa', 'Cajuína', 'Sampa', 'Alegria, Alegria', 'Estrangeiro', 'Musa Híbrida', 'Abraçaço']\n"
     ]
    }
   ],
   "source": [
    "# extend toma uma lista como argumento e adiciona todos os elementos\n",
    "new_songs = ['Musa Híbrida', 'Abraçaço']\n",
    "musics.extend(new_songs)\n",
    "print(musics)"
   ]
  },
  {
   "cell_type": "code",
   "execution_count": 41,
   "id": "5cd666ad",
   "metadata": {},
   "outputs": [
    {
     "data": {
      "text/plain": [
       "['Abraçaço',\n",
       " 'Alegria, Alegria',\n",
       " 'Cajuína',\n",
       " 'Estrangeiro',\n",
       " 'Musa Híbrida',\n",
       " 'Sampa',\n",
       " 'Tigresa']"
      ]
     },
     "execution_count": 41,
     "metadata": {},
     "output_type": "execute_result"
    }
   ],
   "source": [
    "musics.sort()\n",
    "musics\n"
   ]
  },
  {
   "cell_type": "code",
   "execution_count": 42,
   "id": "d5efbcef",
   "metadata": {},
   "outputs": [
    {
     "data": {
      "text/plain": [
       "['Tigresa',\n",
       " 'Sampa',\n",
       " 'Musa Híbrida',\n",
       " 'Estrangeiro',\n",
       " 'Cajuína',\n",
       " 'Alegria, Alegria',\n",
       " 'Abraçaço']"
      ]
     },
     "execution_count": 42,
     "metadata": {},
     "output_type": "execute_result"
    }
   ],
   "source": [
    "musics.sort(reverse=True) # ordena a lista em ordem decrescente\n",
    "musics\n"
   ]
  },
  {
   "cell_type": "code",
   "execution_count": null,
   "id": "ce0d0091",
   "metadata": {},
   "outputs": [],
   "source": [
    "musics"
   ]
  },
  {
   "cell_type": "code",
   "execution_count": 43,
   "id": "f03e9bd5",
   "metadata": {},
   "outputs": [
    {
     "name": "stdout",
     "output_type": "stream",
     "text": [
      "['Tigresa', 'Sampa', 'Musa Híbrida', 'Estrangeiro', 'Cajuína', 'Alegria, Alegria', 'Abraçaço', 'Refavela']\n"
     ]
    }
   ],
   "source": [
    "#pop - remove um elemento da lista\n",
    "musics.append('Refavela')\n",
    "print(musics)\n"
   ]
  },
  {
   "cell_type": "code",
   "execution_count": 44,
   "id": "66ac6de3",
   "metadata": {},
   "outputs": [
    {
     "data": {
      "text/plain": [
       "['Tigresa',\n",
       " 'Sampa',\n",
       " 'Musa Híbrida',\n",
       " 'Estrangeiro',\n",
       " 'Cajuína',\n",
       " 'Alegria, Alegria',\n",
       " 'Abraçaço']"
      ]
     },
     "execution_count": 44,
     "metadata": {},
     "output_type": "execute_result"
    }
   ],
   "source": [
    "\n",
    "musics.pop() # remove o ultimo elemento da lista\n",
    "musics\n"
   ]
  },
  {
   "cell_type": "code",
   "execution_count": 45,
   "id": "13de9033",
   "metadata": {},
   "outputs": [
    {
     "data": {
      "text/plain": [
       "['Tigresa', 'Sampa', 'Musa Híbrida', 'Estrangeiro', 'Cajuína', 'Abraçaço']"
      ]
     },
     "execution_count": 45,
     "metadata": {},
     "output_type": "execute_result"
    }
   ],
   "source": [
    "# del - remove um elemento da lista\n",
    "del musics[5]\n",
    "musics\n"
   ]
  },
  {
   "cell_type": "code",
   "execution_count": 46,
   "id": "ce99c022",
   "metadata": {},
   "outputs": [
    {
     "data": {
      "text/plain": [
       "['Tigresa', 'Sampa', 'Musa Híbrida', 'Estrangeiro', 'Cajuína']"
      ]
     },
     "execution_count": 46,
     "metadata": {},
     "output_type": "execute_result"
    }
   ],
   "source": [
    "# remove - remove um elemento da lista\n",
    "musics.remove('Abraçaço')\n",
    "musics\n"
   ]
  },
  {
   "cell_type": "code",
   "execution_count": 47,
   "id": "a1cbb141",
   "metadata": {},
   "outputs": [
    {
     "data": {
      "text/plain": [
       "'Tigresa, Sampa, Musa Híbrida, Estrangeiro, Cajuína'"
      ]
     },
     "execution_count": 47,
     "metadata": {},
     "output_type": "execute_result"
    }
   ],
   "source": [
    "# transformar uma lista em uma string\n",
    "# join - separa os elementos da lista com o separador passado\n",
    "str_musics = ', '.join(musics)\n",
    "str_musics"
   ]
  },
  {
   "cell_type": "markdown",
   "id": "67e5a422",
   "metadata": {},
   "source": [
    "## Controladores de fluxo\n",
    "\n",
    "[Python Basics 2](https://github.com/ithaka/constellate-notebooks/blob/master/python-basics-2.ipynb) e Ted Lawless"
   ]
  },
  {
   "cell_type": "markdown",
   "id": "7bafe3cb",
   "metadata": {},
   "source": [
    "### Tipos de controle de fluxo"
   ]
  },
  {
   "cell_type": "markdown",
   "id": "5462d872",
   "metadata": {},
   "source": [
    "|Declaração|Significado|Condição de execução|\n",
    "|---|---|---|\n",
    "|`if`|se|se a condição for atendida|\n",
    "|`elif`|senão se|se nenhuma condição anterior for atendida *e* esta condição for atendida|\n",
    "|`else`|senão|se nenhuma condição for atendida (nenhuma condição é fornecida para uma instrução `else`)|\n",
    "|`while`|enquanto|enquanto a condição for verdadeira|\n",
    "|`for`|para|executar em um loop um quantidade de vezes|\n",
    "|`try`|tentar|tente isso e execute o código `except` se ocorrer um erro|\n",
    "\n",
    "### if / elif / else\n",
    "\n",
    "São operadores condicionais que permitem que você execute um código se uma condição for verdadeira. Podemos entender da seguinte forma:\n",
    "\n",
    "SE (`if`) uma condição for verdadeira, execute tal ação. SENÃO (`else`), execute outra ação. \n",
    "\n",
    ">Se (`if`) o semáforo **estiver vermelho** (condição 01), **pare** (ação 01). SENÃO (`else`), **siga** (ação 02).\n",
    "\n",
    "Podemos incluir outras condições com o operador `elif` (SENÃO SE).\n",
    "\n",
    ">Se (`if`) o semáforo **estiver vermelho** (condição 01), **pare** (ação 01). Senão, se (`elif`) **estiver amarelo** (condição 2), **reduza a velocidade** (ação 2). Senão (`else`), **siga** (ação 3).\n",
    "\n",
    "Vejamos um exemplo:"
   ]
  },
  {
   "cell_type": "code",
   "execution_count": null,
   "id": "ca750884",
   "metadata": {},
   "outputs": [],
   "source": [
    "number = int(input('Digite um número: '))"
   ]
  },
  {
   "cell_type": "code",
   "execution_count": null,
   "id": "1cbda7e8",
   "metadata": {},
   "outputs": [],
   "source": [
    "if number > 0:\n",
    "    print('positive')\n",
    "elif number < 0:\n",
    "    print('negative')\n",
    "else:\n",
    "    print('zero')"
   ]
  },
  {
   "cell_type": "markdown",
   "id": "bdd8c27e",
   "metadata": {},
   "source": [
    "A estrutura é `if` seguida da condição e dois pontos. Na linha seguinte, o bloco de código que será executado se a condição for verdadeira.\n",
    "\n",
    "Atenção para a indentação. O Python usa a indentação para definir blocos de código.\n",
    "\n",
    "### Criando iterações for\n",
    "\n",
    "É fundamental entender a estrutura de iteração, realizar um loop com python.\n",
    "\n",
    "Iterar é a capacidade de executar um bloco de instruções repetidamente."
   ]
  },
  {
   "cell_type": "code",
   "execution_count": null,
   "id": "b91b3986",
   "metadata": {},
   "outputs": [],
   "source": [
    "# utilizar for para percorrer a lista musics\n",
    "for music in musics:\n",
    "    print(f'O nome da música é {music}.')"
   ]
  },
  {
   "cell_type": "markdown",
   "id": "aec9d5d6",
   "metadata": {},
   "source": [
    "#### for usando range(), len() e enumerate()\n",
    "\n",
    "O `range()` é uma função que retorna uma sequência de números. Ela recebe três argumentos: `start`, `stop` e `step`.\n",
    "\n",
    "Se você passar apenas um argumento, o `range()` vai considerar que esse argumento é o `stop` e vai começar a sequência em `0` e vai incrementar de `1` em `1`."
   ]
  },
  {
   "cell_type": "code",
   "execution_count": null,
   "id": "d1eb4bf4",
   "metadata": {
    "lines_to_next_cell": 0
   },
   "outputs": [],
   "source": [
    "for i in range(5):\n",
    "    print(i)"
   ]
  },
  {
   "cell_type": "markdown",
   "id": "c932dc2d",
   "metadata": {},
   "source": [
    "A função `len()` retorna o tamanho de um objeto. Se o objeto for uma string, ela retorna o número de caracteres. Se o objeto for uma lista, ela retorna o número de elementos.\n",
    "\n",
    "Podemos então usar o `range()` e o `len()` para percorrer uma lista."
   ]
  },
  {
   "cell_type": "code",
   "execution_count": null,
   "id": "5e2454e7",
   "metadata": {},
   "outputs": [],
   "source": [
    "# utilizar range para percorrer um intervalo de valores\n",
    "for i in range(0, len(musics)):\n",
    "    print(f'A música é {musics[i]} e ela possui {len(musics[i])} letras.\\n')"
   ]
  },
  {
   "cell_type": "markdown",
   "id": "e5b7a2ea",
   "metadata": {},
   "source": [
    "Já `enumerate()`, retorna uma tupla com o índice e o valor do elemento.\n",
    "É bastante útil quando queremos acessar o índice e o valor do elemento ao mesmo tempo."
   ]
  },
  {
   "cell_type": "code",
   "execution_count": null,
   "id": "3a01bbde",
   "metadata": {},
   "outputs": [],
   "source": [
    "for i, music in enumerate(musics):\n",
    "    print(i, music)"
   ]
  },
  {
   "cell_type": "markdown",
   "id": "88ca903c",
   "metadata": {},
   "source": [
    "Para começar a contagem do índice em `1`, basta passar o argumento `start` para a função `enumerate()`."
   ]
  },
  {
   "cell_type": "code",
   "execution_count": null,
   "id": "1ae4a90a",
   "metadata": {},
   "outputs": [],
   "source": [
    "for i, music in enumerate(musics, start=1):\n",
    "    print(i, music)"
   ]
  },
  {
   "cell_type": "markdown",
   "id": "7fba682d",
   "metadata": {},
   "source": [
    "#### continue e break\n",
    "\n",
    "O Python possui duas palavras reservadas que permitem controlar o fluxo de execução de um loop: `continue` e `break`.\n",
    "\n",
    "Como o próprio nome sugere, `continue` permite que você pule uma iteração do loop e continue a execução do mesmo.\n",
    "\n",
    "Por exemplo, se não quisermos imprimir um item de uma lista que inicia com a letra `A`, podemos usar o `continue` para pular essa iteração."
   ]
  },
  {
   "cell_type": "code",
   "execution_count": null,
   "id": "f14c622a",
   "metadata": {},
   "outputs": [],
   "source": [
    "for music in musics:\n",
    "    if music.startswith('A'):\n",
    "        continue\n",
    "    print(music)"
   ]
  },
  {
   "cell_type": "markdown",
   "id": "45d816e7",
   "metadata": {},
   "source": [
    "Ou seja, o `continue` reinicia o loop sem executar o código que vem depois dele.\n",
    "\n",
    "A palavra reservada `break` permite que você interrompa a execução do loop. Vamos ver um exemplo de encerrar um loop quando um item da lista termina com a letra `a`."
   ]
  },
  {
   "cell_type": "code",
   "execution_count": null,
   "id": "ff202698",
   "metadata": {
    "lines_to_next_cell": 0
   },
   "outputs": [],
   "source": [
    "for music in musics:\n",
    "    if music.endswith('a'):\n",
    "        break\n",
    "    else:\n",
    "        print(music)"
   ]
  },
  {
   "cell_type": "markdown",
   "id": "54707e1e",
   "metadata": {},
   "source": [
    "Ou seja, o `break` interrompe o loop e o código que vem depois dele não é executado.\n",
    "\n",
    "### while\n",
    "\n",
    "O `while` é um loop que executa um bloco de código **enquanto** uma condição for verdadeira.\n",
    "\n",
    "Fluxo de execução para uma instrução while:\n",
    "\n",
    "1. Determine se a condição é verdadeira ou falsa.\n",
    "\n",
    "1. Se for falsa, saia da instrução while e continue a execução da próxima instrução.\n",
    "\n",
    "1. Se a condição for verdadeira, execute o corpo e então volte ao passo 1."
   ]
  },
  {
   "cell_type": "code",
   "execution_count": null,
   "id": "6ae4be09",
   "metadata": {},
   "outputs": [],
   "source": [
    "# criar uma lista de uma contagem de 10 até 0\n",
    "import time\n",
    "count = 10\n",
    "while count > 0:  # enquanto count for maior que 0\n",
    "    print(count)  # imprima count\n",
    "    time.sleep(1)  # aguarde 1 segundo\n",
    "    count -= 1  # subtraia 1 de count\n",
    "print(\"Decolar!\")"
   ]
  },
  {
   "cell_type": "markdown",
   "id": "18a75f53",
   "metadata": {},
   "source": [
    "### try / except\n",
    "\n",
    "O `try` permite que você teste um bloco de código. E caso ele não seja executado com sucesso, você pode executar um outro bloco de código, definido pelo `except`."
   ]
  },
  {
   "cell_type": "code",
   "execution_count": null,
   "id": "1c8ea57b",
   "metadata": {},
   "outputs": [],
   "source": [
    "try:\n",
    "    if len(musics) == 0:\n",
    "        print('A lista de músicas está vazia.')\n",
    "except:\n",
    "    print('A lista não está vazia.')"
   ]
  },
  {
   "cell_type": "markdown",
   "id": "6e57d460",
   "metadata": {},
   "source": [
    "Existem vários tipos de erros que podem ser tratados com o `try` e `except`. Veja a lista completa [aqui](https://docs.python.org/3/library/exceptions.html#bltin-exceptions)."
   ]
  },
  {
   "cell_type": "markdown",
   "id": "ffe772cb",
   "metadata": {},
   "source": [
    "## Trabalhando com arquivos de texto\n",
    "\n",
    "Baseado na lição \"Trabalhando com ficheiros de texto em Python\" de William J. Turkel e Adam Crymble no [Programming Historian](https://programminghistorian.org/pt/licoes/trabalhando-ficheiros-texto-python)."
   ]
  },
  {
   "cell_type": "code",
   "execution_count": null,
   "id": "bc603eeb",
   "metadata": {},
   "outputs": [],
   "source": [
    "arquivo = open('caetano_veloso.txt', 'w')  # abre o arquivo para escrita\n",
    "arquivo.write('Cantor, nascido em Santo Amaro da Purificação, BA.\\n')\n",
    "arquivo.close()  # fecha o arquivo"
   ]
  },
  {
   "cell_type": "markdown",
   "id": "dcd595b6",
   "metadata": {},
   "source": [
    "E como ler e alterar um arquivo que já existe?"
   ]
  },
  {
   "cell_type": "code",
   "execution_count": null,
   "id": "ab4fbe47",
   "metadata": {},
   "outputs": [],
   "source": [
    "ler_arquivo = open('caetano_veloso.txt', 'r')  # abre o arquivo para leitura\n",
    "print(ler_arquivo.read())  # imprime o conteúdo do arquivo"
   ]
  },
  {
   "cell_type": "code",
   "execution_count": null,
   "id": "08fca05c",
   "metadata": {},
   "outputs": [],
   "source": [
    "add_info = open('caetano_veloso.txt', 'a')  # abre o arquivo para adicionar conteúdo\n",
    "add_info.write('Filho de Dona Canô.\\n')\n",
    "add_info.close()"
   ]
  },
  {
   "cell_type": "markdown",
   "id": "09eae447",
   "metadata": {},
   "source": [
    "Imaginemos um arquivo com 10 linhas, cada uma contendo o nome de uma Universidade. E queremos ler cada um desses lugares e colocá-los em um lista chamada `ies`.\n",
    "\n",
    "Aqui está o conteúdo do arquivo [`ies.txt`](./ies.txt):\n",
    "\n",
    "```\n",
    "PUC-Rio\n",
    "UNILAB\n",
    "UFBA\n",
    "UFF\n",
    "UFRJ\n",
    "UNEB\n",
    "UFMG\n",
    "UFPE\n",
    "UFAM\n",
    "UFPA\n",
    "```\n",
    "\n",
    "Como podemos ler esse arquivo e colocar cada linha em uma lista?"
   ]
  },
  {
   "cell_type": "code",
   "execution_count": null,
   "id": "d4fb9916",
   "metadata": {},
   "outputs": [],
   "source": [
    "ies = []\n",
    "with open('ies.txt', 'r') as f:\n",
    "    for line in f:\n",
    "        ies.append(line.strip().upper())\n",
    "print(ies)\n"
   ]
  },
  {
   "cell_type": "markdown",
   "id": "2fc43f1c",
   "metadata": {},
   "source": [
    "## Desafio 2\n",
    "\n",
    "Criar um script que gere um relatório de pesquisa em texto simples, contendo (a partir dos dados inseridos pelo usuário):\n",
    "\n",
    "- Nome do usuário\n",
    "- Nome do Repositório de pesquisa\n",
    "- url do Repositório de pesquisa\n",
    "- Data e hora da busca\n",
    "- Termo de busca\n",
    "- Total de resultados\n",
    "- url do resultado\n",
    "\n",
    "### Desafio extra opcional\n",
    "\n",
    "[Contagem de Frequências de Palavras com Python](https://programminghistorian.org/pt/licoes/contar-frequencias-palavras-python)\n",
    "\n",
    "---\n",
    "\n",
    "[Próximo →](./dia3.ipynb)\n",
    "\n",
    "[← Anterior](dia1.md)\n",
    "\n",
    "[↑ Início](#dia-2)"
   ]
  }
 ],
 "metadata": {
  "jupytext": {
   "cell_metadata_filter": "-all",
   "main_language": "python",
   "notebook_metadata_filter": "-all"
  },
  "kernelspec": {
   "display_name": "Python 3",
   "language": "python",
   "name": "python3"
  },
  "language_info": {
   "codemirror_mode": {
    "name": "ipython",
    "version": 3
   },
   "file_extension": ".py",
   "mimetype": "text/x-python",
   "name": "python",
   "nbconvert_exporter": "python",
   "pygments_lexer": "ipython3",
   "version": "3.10.12"
  }
 },
 "nbformat": 4,
 "nbformat_minor": 5
}
